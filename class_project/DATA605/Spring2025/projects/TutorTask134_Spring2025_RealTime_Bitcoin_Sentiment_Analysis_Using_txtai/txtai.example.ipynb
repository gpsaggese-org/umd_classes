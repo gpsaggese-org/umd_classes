{
 "cells": [
  {
   "cell_type": "markdown",
   "id": "50f78f7e-2dee-45d6-9d37-7a55eeaae283",
   "metadata": {},
   "source": [
    "# Real-Time Bitcoin Sentiment Analysis Using txtai\n",
    "\n",
    "This notebook explains how to build a simple AI-powered semantic search engine using `txtai`.\n",
    "\n",
    "We fetch real-time Bitcoin news headlines from NewsAPI and use `txtai` to find the most relevant headlines based on meaning, not just keywords.\n",
    "\n",
    "This serves as a minimal demo to explore:\n",
    "- How semantic search works using sentence embeddings\n",
    "- How to use `txtai` to index and query real-world text\n",
    "- How to apply sentiment analysis on search results"
   ]
  },
  {
   "cell_type": "code",
   "execution_count": 1,
   "id": "527e7c4b-fa44-4b6c-9260-10b7214fa131",
   "metadata": {},
   "outputs": [],
   "source": [
    "# import function from txtai_utils.py\n",
    "from txtai_utils import TxtaiSentimentSearch, fetch_bitcoin_headlines, analyze_sentiment"
   ]
  },
  {
   "cell_type": "markdown",
   "id": "fef755c2-4038-4975-913a-25b2fe79f347",
   "metadata": {},
   "source": [
    "## Import Utility Functions\n",
    "\n",
    "We use a helper module (`txtai_utils.py`) that contains functions for:\n",
    "- Fetching news headlines\n",
    "- Creating a semantic search engine with `txtai`\n",
    "- Running sentiment analysis"
   ]
  },
  {
   "cell_type": "code",
   "execution_count": 2,
   "id": "4ecb72b2-b21d-4fb0-ac92-e7174da390e6",
   "metadata": {},
   "outputs": [
    {
     "name": "stderr",
     "output_type": "stream",
     "text": [
      "INFO:txtai_utils:Fetching Bitcoin news headlines from NewsAPI...\n",
      "INFO:txtai_utils:Fetched 100 headlines.\n"
     ]
    },
    {
     "name": "stdout",
     "output_type": "stream",
     "text": [
      "Total headlines fetched: 100\n"
     ]
    },
    {
     "data": {
      "text/plain": [
       "['Crypto Trends: Top Cloud Mining Platform Hartcoin Changing Lives With Impressive Daily Profits',\n",
       " 'Which Crypto Founders Are Seeking Pardons From President Trump?',\n",
       " 'Analyst Tips Ethereum To Rival Bitcoin In The Long Run – Here’s Why',\n",
       " 'Ripple’s XRP Whales Bet On $5 XRP Price In May As Bulls Eye New Monthly Peak',\n",
       " 'The 3 Easy New Ways Anyone Can Funnel Money Directly To Donald Trump’s Businesses']"
      ]
     },
     "execution_count": 2,
     "metadata": {},
     "output_type": "execute_result"
    }
   ],
   "source": [
    "# Fetch real-time Bitcoin headlines from NewsAPI\n",
    "API_KEY = \"6e540235a1794f78a804270f2317adf3\"  # Replace with your actual NewsAPI key\n",
    "\n",
    "# Fetch the headlines\n",
    "headlines = fetch_bitcoin_headlines(API_KEY)\n",
    "\n",
    "# Preview results\n",
    "print(f\"Total headlines fetched: {len(headlines)}\")\n",
    "headlines[:5]"
   ]
  },
  {
   "cell_type": "markdown",
   "id": "1ede6422-bff2-4f0a-8d28-29a01d4786b2",
   "metadata": {},
   "source": [
    "## Fetch Bitcoin News Headlines\n",
    "\n",
    "We call NewsAPI and retrieve the top 100 Bitcoin-related news headlines."
   ]
  },
  {
   "cell_type": "code",
   "execution_count": 3,
   "id": "c74b1449-ee33-4562-aa37-5b068cb6e6b2",
   "metadata": {},
   "outputs": [
    {
     "name": "stderr",
     "output_type": "stream",
     "text": [
      "INFO:txtai_utils:Initializing txtai semantic search engine...\n",
      "INFO:txtai_utils:Built index with 100 documents.\n"
     ]
    }
   ],
   "source": [
    "# Create the semantic search engine\n",
    "search_engine = TxtaiSentimentSearch()\n",
    "\n",
    "# Build the txtai index using the fetched headlines\n",
    "search_engine.build_index(headlines)"
   ]
  },
  {
   "cell_type": "markdown",
   "id": "103f6e36-54cf-442c-b137-8091d48805a7",
   "metadata": {},
   "source": [
    "## Build txtai Semantic Index\n",
    "\n",
    "We load a transformer model (`all-MiniLM-L6-v2`) and index all headlines so that txtai can search based on sentence meaning."
   ]
  },
  {
   "cell_type": "code",
   "execution_count": 4,
   "id": "d05d52af-67ba-4a4f-a561-af453e43854f",
   "metadata": {},
   "outputs": [
    {
     "name": "stderr",
     "output_type": "stream",
     "text": [
      "INFO:txtai_utils:Search complete for query: 'Why is Bitcoin dropping?'\n"
     ]
    },
    {
     "name": "stdout",
     "output_type": "stream",
     "text": [
      "🔍 Query: Why is Bitcoin dropping?\n",
      "Top Results:\n",
      "- Are Bitcoin Bears Losing Out? $31 Million Wiped Out In BTC Shorts Liquidation\n",
      "- Bitcoin Balance On Exchanges Shrinks – Supply Shock Ahead?\n",
      "- Are Bitcoin and Ethereum about to suffer a liquidation nightmare? – Assessing…\n",
      "- Bitcoin Price Could Be Gearing Up For Parabolic Rally — Analyst Explains Why\n",
      "- Bitcoin Breaks $100K And Holds Strong—What’s Driving The Unstoppable Rally?\n"
     ]
    }
   ],
   "source": [
    "# Search for a topic using semantic match\n",
    "query = \"Why is Bitcoin dropping?\"  # You can try other questions too\n",
    "\n",
    "# Get top 5 semantically similar headlines\n",
    "results = search_engine.search(query, top_k=5)\n",
    "\n",
    "# Print results\n",
    "print(\"🔍 Query:\", query)\n",
    "print(\"Top Results:\")\n",
    "for result in results:\n",
    "    print(\"-\", result)"
   ]
  },
  {
   "cell_type": "markdown",
   "id": "74bc79cf-2997-4874-a017-6d0fa669b346",
   "metadata": {},
   "source": [
    "## Semantic Search\n",
    "\n",
    "We enter a natural-language query and retrieve the most relevant headlines using `txtai`.\n",
    "This works even if the headlines don't contain the exact keywords from the query."
   ]
  },
  {
   "cell_type": "code",
   "execution_count": 5,
   "id": "bce981ce-8e3c-44be-a324-311a18bbcc05",
   "metadata": {},
   "outputs": [
    {
     "name": "stderr",
     "output_type": "stream",
     "text": [
      "INFO:txtai_utils:Loading sentiment pipeline...\n"
     ]
    },
    {
     "name": "stdout",
     "output_type": "stream",
     "text": [
      "\n",
      "💬 Sentiment Analysis on Results:\n",
      "\n"
     ]
    },
    {
     "data": {
      "application/vnd.jupyter.widget-view+json": {
       "model_id": "d5896b21991b42fc84c528f1d744d120",
       "version_major": 2,
       "version_minor": 0
      },
      "text/plain": [
       "Downloading config.json:   0%|          | 0.00/629 [00:00<?, ?B/s]"
      ]
     },
     "metadata": {},
     "output_type": "display_data"
    },
    {
     "data": {
      "application/vnd.jupyter.widget-view+json": {
       "model_id": "88f21de86c974ee7929f9f0a8ad2eb45",
       "version_major": 2,
       "version_minor": 0
      },
      "text/plain": [
       "Downloading pytorch_model.bin:   0%|          | 0.00/255M [00:00<?, ?B/s]"
      ]
     },
     "metadata": {},
     "output_type": "display_data"
    },
    {
     "data": {
      "application/vnd.jupyter.widget-view+json": {
       "model_id": "f7d2d1d2222b4e24a4387e41e00b3ba4",
       "version_major": 2,
       "version_minor": 0
      },
      "text/plain": [
       "Downloading tokenizer_config.json:   0%|          | 0.00/48.0 [00:00<?, ?B/s]"
      ]
     },
     "metadata": {},
     "output_type": "display_data"
    },
    {
     "data": {
      "application/vnd.jupyter.widget-view+json": {
       "model_id": "c479f33193c54ca2aade43ddae7efe3f",
       "version_major": 2,
       "version_minor": 0
      },
      "text/plain": [
       "Downloading vocab.txt:   0%|          | 0.00/226k [00:00<?, ?B/s]"
      ]
     },
     "metadata": {},
     "output_type": "display_data"
    },
    {
     "name": "stderr",
     "output_type": "stream",
     "text": [
      "INFO:txtai_utils:Analyzed: 'Are Bitcoin Bears Losing Out? $31 Million Wiped Out In BTC Shorts Liquidation' → NEGATIVE (1.00)\n",
      "INFO:txtai_utils:Loading sentiment pipeline...\n"
     ]
    },
    {
     "name": "stdout",
     "output_type": "stream",
     "text": [
      "[NEGATIVE] Are Bitcoin Bears Losing Out? $31 Million Wiped Out In BTC Shorts Liquidation\n"
     ]
    },
    {
     "name": "stderr",
     "output_type": "stream",
     "text": [
      "INFO:txtai_utils:Analyzed: 'Bitcoin Balance On Exchanges Shrinks – Supply Shock Ahead?' → NEGATIVE (1.00)\n",
      "INFO:txtai_utils:Loading sentiment pipeline...\n"
     ]
    },
    {
     "name": "stdout",
     "output_type": "stream",
     "text": [
      "[NEGATIVE] Bitcoin Balance On Exchanges Shrinks – Supply Shock Ahead?\n"
     ]
    },
    {
     "name": "stderr",
     "output_type": "stream",
     "text": [
      "INFO:txtai_utils:Analyzed: 'Are Bitcoin and Ethereum about to suffer a liquidation nightmare? – Assessing…' → NEGATIVE (1.00)\n",
      "INFO:txtai_utils:Loading sentiment pipeline...\n"
     ]
    },
    {
     "name": "stdout",
     "output_type": "stream",
     "text": [
      "[NEGATIVE] Are Bitcoin and Ethereum about to suffer a liquidation nightmare? – Assessing…\n"
     ]
    },
    {
     "name": "stderr",
     "output_type": "stream",
     "text": [
      "INFO:txtai_utils:Analyzed: 'Bitcoin Price Could Be Gearing Up For Parabolic Rally — Analyst Explains Why' → NEGATIVE (0.99)\n",
      "INFO:txtai_utils:Loading sentiment pipeline...\n"
     ]
    },
    {
     "name": "stdout",
     "output_type": "stream",
     "text": [
      "[NEGATIVE] Bitcoin Price Could Be Gearing Up For Parabolic Rally — Analyst Explains Why\n"
     ]
    },
    {
     "name": "stderr",
     "output_type": "stream",
     "text": [
      "INFO:txtai_utils:Analyzed: 'Bitcoin Breaks $100K And Holds Strong—What’s Driving The Unstoppable Rally?' → POSITIVE (1.00)\n"
     ]
    },
    {
     "name": "stdout",
     "output_type": "stream",
     "text": [
      "[POSITIVE] Bitcoin Breaks $100K And Holds Strong—What’s Driving The Unstoppable Rally?\n"
     ]
    }
   ],
   "source": [
    "# Analyze sentiment of the results\n",
    "print(\"\\n💬 Sentiment Analysis on Results:\\n\")\n",
    "\n",
    "# Run sentiment analysis on each search result\n",
    "for result in results:\n",
    "    sentiment = analyze_sentiment(result)\n",
    "    print(f\"[{sentiment}] {result}\")"
   ]
  },
  {
   "cell_type": "markdown",
   "id": "d3d807bb-67cd-4ad2-a9f6-663afc21664d",
   "metadata": {},
   "source": [
    "## Sentiment Analysis\n",
    "\n",
    "We classify each search result as POSITIVE or NEGATIVE using a BERT-based model."
   ]
  },
  {
   "cell_type": "markdown",
   "id": "70a05c82-b7e1-45ec-b383-310029146e0b",
   "metadata": {},
   "source": [
    "## Conclusion\n",
    "\n",
    "In this demo notebook, we:\n",
    "\n",
    "- Fetched live Bitcoin headlines from NewsAPI\n",
    "- Indexed them using `txtai` with semantic embeddings\n",
    "- Queried with natural language\n",
    "- Classified headline sentiment using a pre-trained model\n",
    "\n",
    "Next steps (in `txtai.API.ipynb`) will integrate:\n",
    "- Historical Bitcoin prices from CoinGecko\n",
    "- Merged sentiment + price data\n",
    "- Time-series modeling (e.g. ARIMA)"
   ]
  }
 ],
 "metadata": {
  "kernelspec": {
   "display_name": "Python 3 (ipykernel)",
   "language": "python",
   "name": "python3"
  },
  "language_info": {
   "codemirror_mode": {
    "name": "ipython",
    "version": 3
   },
   "file_extension": ".py",
   "mimetype": "text/x-python",
   "name": "python",
   "nbconvert_exporter": "python",
   "pygments_lexer": "ipython3",
   "version": "3.10.11"
  }
 },
 "nbformat": 4,
 "nbformat_minor": 5
}
