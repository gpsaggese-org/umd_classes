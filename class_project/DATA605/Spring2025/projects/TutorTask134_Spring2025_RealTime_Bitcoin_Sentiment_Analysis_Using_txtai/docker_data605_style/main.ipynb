{
 "cells": [
  {
   "cell_type": "markdown",
   "id": "c9bda17e",
   "metadata": {},
   "source": [
    "# Spring2025_txtai_search\n",
    "\n",
    "In this project, I will build a basic AI search engine using txtai.\n",
    "This search engine will find sentences that are most related to a question."
   ]
  },
  {
   "cell_type": "code",
   "execution_count": null,
   "id": "0a380f1a",
   "metadata": {},
   "outputs": [],
   "source": [
    "# First, install txtai (only needed if running outside Docker)\n",
    "!pip install txtai"
   ]
  },
  {
   "cell_type": "code",
   "execution_count": null,
   "id": "0e82a8d0",
   "metadata": {},
   "outputs": [],
   "source": [
    "# Bring in the txtai library\n",
    "from txtai.embeddings import Embeddings\n",
    "\n",
    "# Create a search engine model\n",
    "index = Embeddings()\n",
    "\n",
    "# These are the sentences we want our AI to remember\n",
    "data = [\n",
    "    \"The sky is blue\",\n",
    "    \"The sun is bright\",\n",
    "    \"The sun in the sky is bright\",\n",
    "    \"We can see the shining sun, the bright sun\"\n",
    "]\n",
    "\n",
    "# Add each sentence into the search engine\n",
    "for uid, text in enumerate(data):\n",
    "    index.index((uid, text, None))\n",
    "\n",
    "# Now, ask the AI a question and get the best match\n",
    "results = index.search(\"bright sun\", 1)\n",
    "\n",
    "# Show the top matching sentence\n",
    "print(\"Top search result:\", results)"
   ]
  }
 ],
 "metadata": {
  "kernelspec": {
   "display_name": "Python 3 (ipykernel)",
   "language": "python",
   "name": "python3"
  },
  "language_info": {
   "codemirror_mode": {
    "name": "ipython",
    "version": 3
   },
   "file_extension": ".py",
   "mimetype": "text/x-python",
   "name": "python",
   "nbconvert_exporter": "python",
   "pygments_lexer": "ipython3",
   "version": "3.11.6"
  }
 },
 "nbformat": 4,
 "nbformat_minor": 5
}
