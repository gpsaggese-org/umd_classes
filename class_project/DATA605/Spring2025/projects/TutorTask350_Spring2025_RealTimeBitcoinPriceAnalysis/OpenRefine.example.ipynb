{
 "cells": [
  {
   "cell_type": "markdown",
   "id": "34a42757-b33c-4338-bbc4-a781dbf4164f",
   "metadata": {},
   "source": [
    "# OpenRefine Pipeline Example: Bitcoin Price Analysis\n",
    "\n",
    "This notebook introduces the OpenRefine API wrapper designed to simplify and streamline data cleaning and transformation tasks in Python to prepare data for further complex analysis.\n",
    "\n",
    "For a detailed explanation of the API utilities used in this notebook, refer to: `openrefine_utils.py`\n",
    "\n",
    "This notebook assumes that OpenRefine is already running at http://localhost:3333 and that the necessary data cleaning has been completed, with the cleaned dataset exported for further analysis."
   ]
  },
  {
   "cell_type": "code",
   "execution_count": 1,
   "id": "265e0d58-a7cd-4edf-a0b4-96b60220e801",
   "metadata": {},
   "outputs": [],
   "source": [
    "%load_ext autoreload\n",
    "%autoreload 2\n",
    "%matplotlib inline"
   ]
  },
  {
   "cell_type": "markdown",
   "id": "d3b2f997-5c9b-4238-b6d5-e5f2cea43809",
   "metadata": {},
   "source": [
    "## Imports"
   ]
  },
  {
   "cell_type": "code",
   "execution_count": 2,
   "id": "d1480ee9-d6a6-437d-b927-da6cbb05bdf5",
   "metadata": {},
   "outputs": [],
   "source": [
    "import logging\n",
    "logger = logging.getLogger()\n",
    "logger.setLevel(logging.INFO)\n",
    "\n",
    "import pandas as pd \n",
    "import numpy as np\n",
    "import matplotlib.pyplot as plt\n",
    "import plotly.graph_objects as go\n",
    "import plotly.io as pio\n",
    "pio.renderers.default = 'iframe'  # For Interactive Plots\n",
    "from prophet import Prophet"
   ]
  },
  {
   "cell_type": "markdown",
   "id": "c238c7c6-e706-4a35-8633-4c6f9f3ab78b",
   "metadata": {},
   "source": [
    "## Functions from UTILS"
   ]
  },
  {
   "cell_type": "code",
   "execution_count": 3,
   "id": "ca0e39e2-8061-4d97-b44c-dc0170ce20ac",
   "metadata": {},
   "outputs": [],
   "source": [
    "from openrefine_utils import (\n",
    "    fetch_bitcoin_data_kucoin,\n",
    "    save_to_csv,\n",
    "    load_cleaned_data,\n",
    "    validate_cleaned_data,\n",
    "    resample_data,\n",
    "    calculate_technical_indicators,\n",
    "    plot_technical_indicators,\n",
    "    prepare_forecast_data,\n",
    "    train_model,\n",
    "    plot_forecast,\n",
    "    plot_comparision\n",
    ")"
   ]
  },
  {
   "cell_type": "markdown",
   "id": "606f9b9e-6a15-4f4f-9629-1aba195dc6ee",
   "metadata": {},
   "source": [
    "## Fetch Raw Data from API"
   ]
  },
  {
   "cell_type": "code",
   "execution_count": 4,
   "id": "a69d534e-50ea-4466-a175-b968a61e72e8",
   "metadata": {},
   "outputs": [
    {
     "name": "stderr",
     "output_type": "stream",
     "text": [
      "INFO:openrefine_utils:Fetching 7 days of BTC data from KuCoin (15min candles)\n",
      "/home/jovyan/work/openrefine_utils.py:81: FutureWarning:\n",
      "\n",
      "The behavior of 'to_datetime' with 'unit' when parsing strings is deprecated. In a future version, strings will be parsed as datetime strings, matching the behavior without a 'unit'. To retain the old behavior, explicitly cast ints or floats to numeric type before calling to_datetime.\n",
      "\n"
     ]
    },
    {
     "data": {
      "text/html": [
       "<div>\n",
       "<style scoped>\n",
       "    .dataframe tbody tr th:only-of-type {\n",
       "        vertical-align: middle;\n",
       "    }\n",
       "\n",
       "    .dataframe tbody tr th {\n",
       "        vertical-align: top;\n",
       "    }\n",
       "\n",
       "    .dataframe thead th {\n",
       "        text-align: right;\n",
       "    }\n",
       "</style>\n",
       "<table border=\"1\" class=\"dataframe\">\n",
       "  <thead>\n",
       "    <tr style=\"text-align: right;\">\n",
       "      <th></th>\n",
       "      <th>timestamp</th>\n",
       "      <th>open</th>\n",
       "      <th>high</th>\n",
       "      <th>low</th>\n",
       "      <th>close</th>\n",
       "      <th>volume</th>\n",
       "    </tr>\n",
       "  </thead>\n",
       "  <tbody>\n",
       "    <tr>\n",
       "      <th>0</th>\n",
       "      <td>2025-05-14 03:14:08</td>\n",
       "      <td>103648.3</td>\n",
       "      <td>103649.4</td>\n",
       "      <td>103513.6</td>\n",
       "      <td>103531.0</td>\n",
       "      <td>9.804768</td>\n",
       "    </tr>\n",
       "    <tr>\n",
       "      <th>1</th>\n",
       "      <td>2025-05-14 03:29:04</td>\n",
       "      <td>103531.0</td>\n",
       "      <td>103610.5</td>\n",
       "      <td>103452.0</td>\n",
       "      <td>103610.4</td>\n",
       "      <td>8.740662</td>\n",
       "    </tr>\n",
       "    <tr>\n",
       "      <th>2</th>\n",
       "      <td>2025-05-14 03:44:00</td>\n",
       "      <td>103610.5</td>\n",
       "      <td>103610.5</td>\n",
       "      <td>103546.5</td>\n",
       "      <td>103578.0</td>\n",
       "      <td>2.908408</td>\n",
       "    </tr>\n",
       "    <tr>\n",
       "      <th>3</th>\n",
       "      <td>2025-05-14 03:58:56</td>\n",
       "      <td>103577.9</td>\n",
       "      <td>103578.0</td>\n",
       "      <td>103465.8</td>\n",
       "      <td>103549.0</td>\n",
       "      <td>6.683276</td>\n",
       "    </tr>\n",
       "    <tr>\n",
       "      <th>4</th>\n",
       "      <td>2025-05-14 04:16:00</td>\n",
       "      <td>103552.5</td>\n",
       "      <td>103692.7</td>\n",
       "      <td>103482.7</td>\n",
       "      <td>103675.4</td>\n",
       "      <td>5.099068</td>\n",
       "    </tr>\n",
       "  </tbody>\n",
       "</table>\n",
       "</div>"
      ],
      "text/plain": [
       "            timestamp      open      high       low     close    volume\n",
       "0 2025-05-14 03:14:08  103648.3  103649.4  103513.6  103531.0  9.804768\n",
       "1 2025-05-14 03:29:04  103531.0  103610.5  103452.0  103610.4  8.740662\n",
       "2 2025-05-14 03:44:00  103610.5  103610.5  103546.5  103578.0  2.908408\n",
       "3 2025-05-14 03:58:56  103577.9  103578.0  103465.8  103549.0  6.683276\n",
       "4 2025-05-14 04:16:00  103552.5  103692.7  103482.7  103675.4  5.099068"
      ]
     },
     "execution_count": 4,
     "metadata": {},
     "output_type": "execute_result"
    }
   ],
   "source": [
    "# 7 days of 15min interval data\n",
    "btc_df = fetch_bitcoin_data_kucoin(days=7, interval='15min')\n",
    "\n",
    "btc_df.head()"
   ]
  },
  {
   "cell_type": "markdown",
   "id": "670a2cae-ba63-4d94-9f3f-328d779a28f8",
   "metadata": {},
   "source": [
    "## Load Cleaned Data (Cleaned using OpenRefine)"
   ]
  },
  {
   "cell_type": "code",
   "execution_count": 5,
   "id": "83199fff-d27d-43aa-9093-03a9924c8d03",
   "metadata": {},
   "outputs": [
    {
     "name": "stderr",
     "output_type": "stream",
     "text": [
      "INFO:openrefine_utils:Loading cleaned data from bitcoin_price_analysis_using_OpenRefine_w_timestamp.csv\n",
      "INFO:openrefine_utils:Successfully loaded 672 records\n",
      "INFO:openrefine_utils:No missing values\n",
      "INFO:openrefine_utils:Valid price relationships\n",
      "INFO:openrefine_utils:Time sequence valid\n",
      "INFO:openrefine_utils:All data validation checks passed successfully!\n"
     ]
    },
    {
     "name": "stdout",
     "output_type": "stream",
     "text": [
      "\n",
      "=== VALIDATION SUCCESS ===\n",
      "Data is clean and ready for analysis!\n"
     ]
    },
    {
     "data": {
      "text/html": [
       "<div>\n",
       "<style scoped>\n",
       "    .dataframe tbody tr th:only-of-type {\n",
       "        vertical-align: middle;\n",
       "    }\n",
       "\n",
       "    .dataframe tbody tr th {\n",
       "        vertical-align: top;\n",
       "    }\n",
       "\n",
       "    .dataframe thead th {\n",
       "        text-align: right;\n",
       "    }\n",
       "</style>\n",
       "<table border=\"1\" class=\"dataframe\">\n",
       "  <thead>\n",
       "    <tr style=\"text-align: right;\">\n",
       "      <th></th>\n",
       "      <th>timestamp</th>\n",
       "      <th>open</th>\n",
       "      <th>high</th>\n",
       "      <th>price_validation</th>\n",
       "      <th>hourly_volatility</th>\n",
       "      <th>low</th>\n",
       "      <th>close</th>\n",
       "      <th>price_change</th>\n",
       "      <th>volume</th>\n",
       "    </tr>\n",
       "  </thead>\n",
       "  <tbody>\n",
       "    <tr>\n",
       "      <th>0</th>\n",
       "      <td>2025-05-09 17:14:40+00:00</td>\n",
       "      <td>102774.6</td>\n",
       "      <td>103049.1</td>\n",
       "      <td>Valid</td>\n",
       "      <td>275</td>\n",
       "      <td>102774.6</td>\n",
       "      <td>103028.9</td>\n",
       "      <td>254</td>\n",
       "      <td>34.717871</td>\n",
       "    </tr>\n",
       "    <tr>\n",
       "      <th>1</th>\n",
       "      <td>2025-05-09 17:29:36+00:00</td>\n",
       "      <td>103028.9</td>\n",
       "      <td>103216.1</td>\n",
       "      <td>Valid</td>\n",
       "      <td>260</td>\n",
       "      <td>102956.1</td>\n",
       "      <td>103127.9</td>\n",
       "      <td>99</td>\n",
       "      <td>24.626889</td>\n",
       "    </tr>\n",
       "    <tr>\n",
       "      <th>2</th>\n",
       "      <td>2025-05-09 17:44:32+00:00</td>\n",
       "      <td>103119.1</td>\n",
       "      <td>103234.0</td>\n",
       "      <td>Valid</td>\n",
       "      <td>125</td>\n",
       "      <td>103109.4</td>\n",
       "      <td>103201.3</td>\n",
       "      <td>82</td>\n",
       "      <td>25.836150</td>\n",
       "    </tr>\n",
       "  </tbody>\n",
       "</table>\n",
       "</div>"
      ],
      "text/plain": [
       "                  timestamp      open      high price_validation  \\\n",
       "0 2025-05-09 17:14:40+00:00  102774.6  103049.1            Valid   \n",
       "1 2025-05-09 17:29:36+00:00  103028.9  103216.1            Valid   \n",
       "2 2025-05-09 17:44:32+00:00  103119.1  103234.0            Valid   \n",
       "\n",
       "   hourly_volatility       low     close  price_change     volume  \n",
       "0                275  102774.6  103028.9           254  34.717871  \n",
       "1                260  102956.1  103127.9            99  24.626889  \n",
       "2                125  103109.4  103201.3            82  25.836150  "
      ]
     },
     "metadata": {},
     "output_type": "display_data"
    }
   ],
   "source": [
    "cleaned_df = load_cleaned_data('bitcoin_price_analysis_using_OpenRefine_w_timestamp.csv')\n",
    "\n",
    "# Run validation checks\n",
    "validation_passed = validate_cleaned_data(cleaned_df)\n",
    "\n",
    "if validation_passed:\n",
    "    print(\"\\n=== VALIDATION SUCCESS ===\")\n",
    "    print(\"Data is clean and ready for analysis!\")\n",
    "    display(cleaned_df.head(3))\n",
    "else:\n",
    "    print(\"\\n=== VALIDATION FAILED ===\")\n",
    "    print(\"Fix issues in OpenRefine before proceeding\")"
   ]
  },
  {
   "cell_type": "markdown",
   "id": "95ca2eb3-f2ec-4b75-a74d-dce9b8205a37",
   "metadata": {},
   "source": [
    "## Sampling into Hourly Data"
   ]
  },
  {
   "cell_type": "code",
   "execution_count": 6,
   "id": "b0ee9c71-690c-4ae1-bccb-680ab02338d2",
   "metadata": {},
   "outputs": [
    {
     "data": {
      "text/html": [
       "<div>\n",
       "<style scoped>\n",
       "    .dataframe tbody tr th:only-of-type {\n",
       "        vertical-align: middle;\n",
       "    }\n",
       "\n",
       "    .dataframe tbody tr th {\n",
       "        vertical-align: top;\n",
       "    }\n",
       "\n",
       "    .dataframe thead th {\n",
       "        text-align: right;\n",
       "    }\n",
       "</style>\n",
       "<table border=\"1\" class=\"dataframe\">\n",
       "  <thead>\n",
       "    <tr style=\"text-align: right;\">\n",
       "      <th></th>\n",
       "      <th>open</th>\n",
       "      <th>high</th>\n",
       "      <th>low</th>\n",
       "      <th>close</th>\n",
       "      <th>volume</th>\n",
       "    </tr>\n",
       "    <tr>\n",
       "      <th>timestamp</th>\n",
       "      <th></th>\n",
       "      <th></th>\n",
       "      <th></th>\n",
       "      <th></th>\n",
       "      <th></th>\n",
       "    </tr>\n",
       "  </thead>\n",
       "  <tbody>\n",
       "    <tr>\n",
       "      <th>2025-05-09 17:00:00+00:00</th>\n",
       "      <td>102774.6</td>\n",
       "      <td>103247.6</td>\n",
       "      <td>102774.6</td>\n",
       "      <td>103108.4</td>\n",
       "      <td>104.843171</td>\n",
       "    </tr>\n",
       "    <tr>\n",
       "      <th>2025-05-09 18:00:00+00:00</th>\n",
       "      <td>103108.5</td>\n",
       "      <td>103372.1</td>\n",
       "      <td>102933.4</td>\n",
       "      <td>103143.9</td>\n",
       "      <td>61.753349</td>\n",
       "    </tr>\n",
       "    <tr>\n",
       "      <th>2025-05-09 19:00:00+00:00</th>\n",
       "      <td>103143.9</td>\n",
       "      <td>103207.2</td>\n",
       "      <td>102897.6</td>\n",
       "      <td>103189.8</td>\n",
       "      <td>62.987781</td>\n",
       "    </tr>\n",
       "    <tr>\n",
       "      <th>2025-05-09 20:00:00+00:00</th>\n",
       "      <td>103194.1</td>\n",
       "      <td>103415.6</td>\n",
       "      <td>103109.1</td>\n",
       "      <td>103176.9</td>\n",
       "      <td>49.422233</td>\n",
       "    </tr>\n",
       "    <tr>\n",
       "      <th>2025-05-09 21:00:00+00:00</th>\n",
       "      <td>103177.0</td>\n",
       "      <td>103211.2</td>\n",
       "      <td>102774.8</td>\n",
       "      <td>102981.5</td>\n",
       "      <td>48.684660</td>\n",
       "    </tr>\n",
       "  </tbody>\n",
       "</table>\n",
       "</div>"
      ],
      "text/plain": [
       "                               open      high       low     close      volume\n",
       "timestamp                                                                    \n",
       "2025-05-09 17:00:00+00:00  102774.6  103247.6  102774.6  103108.4  104.843171\n",
       "2025-05-09 18:00:00+00:00  103108.5  103372.1  102933.4  103143.9   61.753349\n",
       "2025-05-09 19:00:00+00:00  103143.9  103207.2  102897.6  103189.8   62.987781\n",
       "2025-05-09 20:00:00+00:00  103194.1  103415.6  103109.1  103176.9   49.422233\n",
       "2025-05-09 21:00:00+00:00  103177.0  103211.2  102774.8  102981.5   48.684660"
      ]
     },
     "execution_count": 6,
     "metadata": {},
     "output_type": "execute_result"
    }
   ],
   "source": [
    "hourly_df = resample_data(cleaned_df, '1H')\n",
    "hourly_df.head()"
   ]
  },
  {
   "cell_type": "markdown",
   "id": "300bd573-c7d7-4a4f-9b15-b6e17670b999",
   "metadata": {},
   "source": [
    "## Hourly Data Representation"
   ]
  },
  {
   "cell_type": "code",
   "execution_count": 7,
   "id": "acacfc1e-45f8-4b40-bfe9-1134a584bc82",
   "metadata": {},
   "outputs": [
    {
     "data": {
      "text/html": [
       "<iframe\n",
       "    scrolling=\"no\"\n",
       "    width=\"1020px\"\n",
       "    height=\"520\"\n",
       "    src=\"iframe_figures/figure_7.html\"\n",
       "    frameborder=\"0\"\n",
       "    allowfullscreen\n",
       "></iframe>\n"
      ]
     },
     "metadata": {},
     "output_type": "display_data"
    }
   ],
   "source": [
    "fig_price = go.Figure()\n",
    "fig_price.add_trace(go.Scatter(\n",
    "    x=hourly_df.index,\n",
    "    y=hourly_df['close'],\n",
    "    mode='lines',\n",
    "    name='Hourly Close Price',\n",
    "    line=dict(color='blue')\n",
    "))\n",
    "fig_price.update_layout(\n",
    "    title='Bitcoin Price Trends',\n",
    "    xaxis_title='Date',\n",
    "    yaxis_title='Price (USD)',\n",
    "    template='plotly_white',\n",
    "    hovermode='x unified',\n",
    "    width=1000,\n",
    "    height=500\n",
    ")\n",
    "fig_price.show()"
   ]
  },
  {
   "cell_type": "code",
   "execution_count": 8,
   "id": "23421d12-ad46-4c3e-abc9-a43a9f4615a9",
   "metadata": {},
   "outputs": [
    {
     "data": {
      "text/html": [
       "<iframe\n",
       "    scrolling=\"no\"\n",
       "    width=\"1020px\"\n",
       "    height=\"520\"\n",
       "    src=\"iframe_figures/figure_8.html\"\n",
       "    frameborder=\"0\"\n",
       "    allowfullscreen\n",
       "></iframe>\n"
      ]
     },
     "metadata": {},
     "output_type": "display_data"
    }
   ],
   "source": [
    "# Volume analysis (Hourly Data)\n",
    "\n",
    "fig_volume = go.Figure()\n",
    "fig_volume.add_trace(go.Bar(\n",
    "    x=hourly_df.index,\n",
    "    y=hourly_df['volume'],\n",
    "    name='Trading Volume',\n",
    "    marker_color='orange'\n",
    "))\n",
    "fig_volume.update_layout(\n",
    "    title='Trading Volume',\n",
    "    xaxis_title='Date',\n",
    "    yaxis_title='Volume',\n",
    "    template='plotly_white',\n",
    "    hovermode='x unified',\n",
    "    width=1000,\n",
    "    height=500\n",
    ")\n",
    "fig_volume.show()"
   ]
  },
  {
   "cell_type": "markdown",
   "id": "fa2c50b0-b977-47a6-a480-91c14d290334",
   "metadata": {},
   "source": [
    "## Preparing Data for Analysis"
   ]
  },
  {
   "cell_type": "code",
   "execution_count": 9,
   "id": "5abe2334-ad2b-4b83-ac34-d65853809220",
   "metadata": {},
   "outputs": [
    {
     "name": "stdout",
     "output_type": "stream",
     "text": [
      "\n",
      "Technical Indicators Added for Analysis:\n"
     ]
    },
    {
     "data": {
      "text/html": [
       "<div>\n",
       "<style scoped>\n",
       "    .dataframe tbody tr th:only-of-type {\n",
       "        vertical-align: middle;\n",
       "    }\n",
       "\n",
       "    .dataframe tbody tr th {\n",
       "        vertical-align: top;\n",
       "    }\n",
       "\n",
       "    .dataframe thead th {\n",
       "        text-align: right;\n",
       "    }\n",
       "</style>\n",
       "<table border=\"1\" class=\"dataframe\">\n",
       "  <thead>\n",
       "    <tr style=\"text-align: right;\">\n",
       "      <th></th>\n",
       "      <th>timestamp</th>\n",
       "      <th>ma_7</th>\n",
       "      <th>ma_24</th>\n",
       "      <th>intraday_volatility</th>\n",
       "      <th>daily_momentum</th>\n",
       "    </tr>\n",
       "  </thead>\n",
       "  <tbody>\n",
       "    <tr>\n",
       "      <th>96</th>\n",
       "      <td>2025-05-10 17:14:40+00:00</td>\n",
       "      <td>103330.214286</td>\n",
       "      <td>103486.816667</td>\n",
       "      <td>199.4</td>\n",
       "      <td>0.380282</td>\n",
       "    </tr>\n",
       "    <tr>\n",
       "      <th>97</th>\n",
       "      <td>2025-05-10 17:29:36+00:00</td>\n",
       "      <td>103370.500000</td>\n",
       "      <td>103486.016667</td>\n",
       "      <td>198.8</td>\n",
       "      <td>0.286150</td>\n",
       "    </tr>\n",
       "    <tr>\n",
       "      <th>98</th>\n",
       "      <td>2025-05-10 17:44:32+00:00</td>\n",
       "      <td>103359.900000</td>\n",
       "      <td>103476.166667</td>\n",
       "      <td>297.3</td>\n",
       "      <td>-0.027131</td>\n",
       "    </tr>\n",
       "    <tr>\n",
       "      <th>99</th>\n",
       "      <td>2025-05-10 17:59:28+00:00</td>\n",
       "      <td>103357.728571</td>\n",
       "      <td>103464.333333</td>\n",
       "      <td>159.0</td>\n",
       "      <td>0.186503</td>\n",
       "    </tr>\n",
       "    <tr>\n",
       "      <th>100</th>\n",
       "      <td>2025-05-10 18:14:24+00:00</td>\n",
       "      <td>103338.128571</td>\n",
       "      <td>103443.625000</td>\n",
       "      <td>200.0</td>\n",
       "      <td>0.048557</td>\n",
       "    </tr>\n",
       "  </tbody>\n",
       "</table>\n",
       "</div>"
      ],
      "text/plain": [
       "                    timestamp           ma_7          ma_24  \\\n",
       "96  2025-05-10 17:14:40+00:00  103330.214286  103486.816667   \n",
       "97  2025-05-10 17:29:36+00:00  103370.500000  103486.016667   \n",
       "98  2025-05-10 17:44:32+00:00  103359.900000  103476.166667   \n",
       "99  2025-05-10 17:59:28+00:00  103357.728571  103464.333333   \n",
       "100 2025-05-10 18:14:24+00:00  103338.128571  103443.625000   \n",
       "\n",
       "     intraday_volatility  daily_momentum  \n",
       "96                 199.4        0.380282  \n",
       "97                 198.8        0.286150  \n",
       "98                 297.3       -0.027131  \n",
       "99                 159.0        0.186503  \n",
       "100                200.0        0.048557  "
      ]
     },
     "metadata": {},
     "output_type": "display_data"
    }
   ],
   "source": [
    "analyzed_df = calculate_technical_indicators(cleaned_df)   # Back to our 15m interval data\n",
    "print(\"\\nTechnical Indicators Added for Analysis:\")\n",
    "display(analyzed_df[['timestamp', 'ma_7', 'ma_24', 'intraday_volatility', 'daily_momentum']].head())"
   ]
  },
  {
   "cell_type": "markdown",
   "id": "70b74817-1c06-436f-91fd-c6625f126215",
   "metadata": {},
   "source": [
    "## Representaion of Added Indicators"
   ]
  },
  {
   "cell_type": "code",
   "execution_count": 10,
   "id": "d37970d0-84fb-4652-970f-5262239e5516",
   "metadata": {},
   "outputs": [
    {
     "data": {
      "text/html": [
       "<iframe\n",
       "    scrolling=\"no\"\n",
       "    width=\"1020px\"\n",
       "    height=\"620\"\n",
       "    src=\"iframe_figures/figure_10.html\"\n",
       "    frameborder=\"0\"\n",
       "    allowfullscreen\n",
       "></iframe>\n"
      ]
     },
     "metadata": {},
     "output_type": "display_data"
    }
   ],
   "source": [
    "plot_technical_indicators(analyzed_df)"
   ]
  },
  {
   "cell_type": "markdown",
   "id": "c39a4ee2-7f64-4266-857b-da097e83af26",
   "metadata": {},
   "source": [
    "## Preparing Data for Forecasting"
   ]
  },
  {
   "cell_type": "code",
   "execution_count": 11,
   "id": "10e29f14-7775-4fbf-b6e0-db356a4147f5",
   "metadata": {},
   "outputs": [],
   "source": [
    "dataset_path = \"bitcoin_price_analysis_using_OpenRefine_notimestamp.csv\"\n",
    "notimestamps_df = pd.read_csv(dataset_path)\n",
    "\n",
    "# Correctly parse the 'timestamp' column\n",
    "notimestamps_df['timestamp'] = pd.to_datetime(notimestamps_df['timestamp'], utc=True, errors='coerce')\n",
    "# Convert to naive datetime\n",
    "notimestamps_df['timestamp'] = notimestamps_df['timestamp'].dt.tz_localize(None)\n",
    "\n",
    "notimestamps_df = notimestamps_df.dropna(subset=['timestamp'])\n",
    "\n",
    "forecast_df = prepare_forecast_data(notimestamps_df)\n",
    "\n",
    "# Split into train/test (last 24 hours for testing)\n",
    "train_data = forecast_df[:-96]  \n",
    "test_data = forecast_df[-96:]   "
   ]
  },
  {
   "cell_type": "markdown",
   "id": "91ace245-4ddd-4eb9-b74f-3883ef48faf4",
   "metadata": {},
   "source": [
    "## Model Training"
   ]
  },
  {
   "cell_type": "code",
   "execution_count": 12,
   "id": "604e81a6-956e-4f56-9b4c-fc352e95bfa4",
   "metadata": {},
   "outputs": [
    {
     "name": "stderr",
     "output_type": "stream",
     "text": [
      "INFO:openrefine_utils:Starting model training...\n",
      "DEBUG:cmdstanpy:input tempfile: /tmp/tmpg6b4um08/lidbhol8.json\n",
      "DEBUG:cmdstanpy:input tempfile: /tmp/tmpg6b4um08/5m6xoclc.json\n",
      "DEBUG:cmdstanpy:idx 0\n",
      "DEBUG:cmdstanpy:running CmdStan, num_threads: None\n",
      "DEBUG:cmdstanpy:CmdStan args: ['/opt/conda/lib/python3.11/site-packages/prophet/stan_model/prophet_model.bin', 'random', 'seed=58371', 'data', 'file=/tmp/tmpg6b4um08/lidbhol8.json', 'init=/tmp/tmpg6b4um08/5m6xoclc.json', 'output', 'file=/tmp/tmpg6b4um08/prophet_modela6xo45p4/prophet_model-20250521030325.csv', 'method=optimize', 'algorithm=lbfgs', 'iter=10000']\n",
      "03:03:25 - cmdstanpy - INFO - Chain [1] start processing\n",
      "INFO:cmdstanpy:Chain [1] start processing\n",
      "03:03:25 - cmdstanpy - INFO - Chain [1] done processing\n",
      "INFO:cmdstanpy:Chain [1] done processing\n"
     ]
    },
    {
     "name": "stdout",
     "output_type": "stream",
     "text": [
      "\n",
      "=== MODEL TRAINING COMPLETED ===\n",
      "Forecasting model trained successfully! Generating predictions and visualization.\n"
     ]
    }
   ],
   "source": [
    "model, forecast = train_model(train_data, periods=96)\n",
    "\n",
    "print(\"\\n=== MODEL TRAINING COMPLETED ===\")\n",
    "print(\"Forecasting model trained successfully! Generating predictions and visualization.\")"
   ]
  },
  {
   "cell_type": "markdown",
   "id": "729a8fbe-a439-458a-8026-6c2042383a51",
   "metadata": {},
   "source": [
    "## Analysis and Results"
   ]
  },
  {
   "cell_type": "code",
   "execution_count": 13,
   "id": "ddbd652e-365a-4146-9a3e-232e4cb0e7c3",
   "metadata": {},
   "outputs": [
    {
     "name": "stdout",
     "output_type": "stream",
     "text": [
      "FORECAST SUMMARY:\n"
     ]
    },
    {
     "data": {
      "text/html": [
       "<div>\n",
       "<style scoped>\n",
       "    .dataframe tbody tr th:only-of-type {\n",
       "        vertical-align: middle;\n",
       "    }\n",
       "\n",
       "    .dataframe tbody tr th {\n",
       "        vertical-align: top;\n",
       "    }\n",
       "\n",
       "    .dataframe thead th {\n",
       "        text-align: right;\n",
       "    }\n",
       "</style>\n",
       "<table border=\"1\" class=\"dataframe\">\n",
       "  <thead>\n",
       "    <tr style=\"text-align: right;\">\n",
       "      <th></th>\n",
       "      <th>ds</th>\n",
       "      <th>yhat</th>\n",
       "      <th>yhat_lower</th>\n",
       "      <th>yhat_upper</th>\n",
       "    </tr>\n",
       "  </thead>\n",
       "  <tbody>\n",
       "    <tr>\n",
       "      <th>91</th>\n",
       "      <td>2025-05-16 13:30:24</td>\n",
       "      <td>100640.036618</td>\n",
       "      <td>95452.369855</td>\n",
       "      <td>105692.035721</td>\n",
       "    </tr>\n",
       "    <tr>\n",
       "      <th>92</th>\n",
       "      <td>2025-05-16 13:45:24</td>\n",
       "      <td>100587.137336</td>\n",
       "      <td>95132.837713</td>\n",
       "      <td>105654.460292</td>\n",
       "    </tr>\n",
       "    <tr>\n",
       "      <th>93</th>\n",
       "      <td>2025-05-16 14:00:24</td>\n",
       "      <td>100532.774919</td>\n",
       "      <td>95007.821101</td>\n",
       "      <td>105670.754130</td>\n",
       "    </tr>\n",
       "    <tr>\n",
       "      <th>94</th>\n",
       "      <td>2025-05-16 14:15:24</td>\n",
       "      <td>100479.066645</td>\n",
       "      <td>94955.158208</td>\n",
       "      <td>105761.657195</td>\n",
       "    </tr>\n",
       "    <tr>\n",
       "      <th>95</th>\n",
       "      <td>2025-05-16 14:30:24</td>\n",
       "      <td>100428.018446</td>\n",
       "      <td>94778.151168</td>\n",
       "      <td>105884.139417</td>\n",
       "    </tr>\n",
       "  </tbody>\n",
       "</table>\n",
       "</div>"
      ],
      "text/plain": [
       "                    ds           yhat    yhat_lower     yhat_upper\n",
       "91 2025-05-16 13:30:24  100640.036618  95452.369855  105692.035721\n",
       "92 2025-05-16 13:45:24  100587.137336  95132.837713  105654.460292\n",
       "93 2025-05-16 14:00:24  100532.774919  95007.821101  105670.754130\n",
       "94 2025-05-16 14:15:24  100479.066645  94955.158208  105761.657195\n",
       "95 2025-05-16 14:30:24  100428.018446  94778.151168  105884.139417"
      ]
     },
     "metadata": {},
     "output_type": "display_data"
    },
    {
     "data": {
      "text/html": [
       "<iframe\n",
       "    scrolling=\"no\"\n",
       "    width=\"1020px\"\n",
       "    height=\"620\"\n",
       "    src=\"iframe_figures/figure_13.html\"\n",
       "    frameborder=\"0\"\n",
       "    allowfullscreen\n",
       "></iframe>\n"
      ]
     },
     "metadata": {},
     "output_type": "display_data"
    }
   ],
   "source": [
    "print(\"FORECAST SUMMARY:\")\n",
    "display(forecast[['ds', 'yhat', 'yhat_lower', 'yhat_upper']].tail())\n",
    "\n",
    "plot_forecast(train_data, forecast)"
   ]
  },
  {
   "cell_type": "markdown",
   "id": "a282e4da-8153-4c82-9f72-370da4b7becd",
   "metadata": {},
   "source": [
    "## Comparision Plot"
   ]
  },
  {
   "cell_type": "code",
   "execution_count": 14,
   "id": "c95966cf-9652-45a0-83aa-d27d86d77f3e",
   "metadata": {},
   "outputs": [
    {
     "data": {
      "text/html": [
       "<iframe\n",
       "    scrolling=\"no\"\n",
       "    width=\"1020px\"\n",
       "    height=\"520\"\n",
       "    src=\"iframe_figures/figure_14.html\"\n",
       "    frameborder=\"0\"\n",
       "    allowfullscreen\n",
       "></iframe>\n"
      ]
     },
     "metadata": {},
     "output_type": "display_data"
    }
   ],
   "source": [
    "# Detailed Actual vs Predicted comparison for specifically the last 24 hours\n",
    "\n",
    "plot_comparision(test_data, forecast)"
   ]
  }
 ],
 "metadata": {
  "kernelspec": {
   "display_name": "Python 3 (ipykernel)",
   "language": "python",
   "name": "python3"
  },
  "language_info": {
   "codemirror_mode": {
    "name": "ipython",
    "version": 3
   },
   "file_extension": ".py",
   "mimetype": "text/x-python",
   "name": "python",
   "nbconvert_exporter": "python",
   "pygments_lexer": "ipython3",
   "version": "3.11.6"
  }
 },
 "nbformat": 4,
 "nbformat_minor": 5
}
