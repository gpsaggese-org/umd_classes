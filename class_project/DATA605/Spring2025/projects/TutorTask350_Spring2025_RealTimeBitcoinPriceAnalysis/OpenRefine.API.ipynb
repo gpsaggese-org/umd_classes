{
 "cells": [
  {
   "cell_type": "markdown",
   "id": "50f78f7e-2dee-45d6-9d37-7a55eeaae283",
   "metadata": {},
   "source": [
    "# OpenRefine API\n",
    "\n",
    "This notebook demonstrates how to use the OpenRefine API and Prophet for time series analysis and forecasting on real-time Bitcoin price data. The raw OHLCV data is ingested from the KuCoin API, and all cleaning, preprocessing, indicator generation, and forecasting are performed using a custom Python API layer.\n",
    "\n",
    "The methodology is as follows:\n",
    "\n",
    "- Ingesting and saving 15-minute interval Bitcoin price data.\n",
    "- Cleaning and transforming the dataset using OpenRefine to perform required analysis.\n",
    "- Calculating technical indicators (e.g., moving averages, Bollinger Bands).\n",
    "- Training and evaluating a Prophet model to forecast 24-hour future trends.\n",
    "- Visualizing actual vs predicted values using interactive plots for effective comparision and understanding.\n",
    "\n",
    "All utility functions used in this notebook are defined in `openrefine_utils.py`. These functions provide a modular, beginner-friendly interface over the preprocessing and modeling steps. For design choices and detailed function documentation, refer to `OpenRefine.API.md`."
   ]
  },
  {
   "cell_type": "markdown",
   "id": "ca36fecb-4a68-419f-9041-2bcc6af54d01",
   "metadata": {},
   "source": [
    "## Notebook Description\n",
    "\n",
    "- This notebook demonstrates the full workflow of loading, validating, and analyzing Bitcoin price data cleaned using OpenRefine.\n",
    "- The API notebook organizes the utility functions under each major step of the project to provide a clear understanding of the overall workflow and how each component contributes to the analysis.\n",
    "- It includes clear visualizations to show trends and forecast results."
   ]
  },
  {
   "cell_type": "markdown",
   "id": "5c51c5cf-09a3-4e46-a528-e18d5d5b8cc4",
   "metadata": {},
   "source": [
    "## References & Citations\n",
    "\n",
    "- KuCoin API: https://www.kucoin.com/docs/rest/spot-trading/market/get-klines\n",
    "- OpenRefine Documentation: https://docs.openrefine.org/\n",
    "- Introduction to OpenRefine: https://openrefine.org/"
   ]
  },
  {
   "cell_type": "markdown",
   "id": "96c31e66-419d-4a4c-94ae-394762d027e3",
   "metadata": {},
   "source": [
    "## Prerequisites"
   ]
  },
  {
   "cell_type": "code",
   "execution_count": 1,
   "id": "6226667e-cab5-479c-be6a-6b7d6f580a97",
   "metadata": {},
   "outputs": [],
   "source": [
    "%load_ext autoreload\n",
    "%autoreload 2\n",
    "%matplotlib inline"
   ]
  },
  {
   "cell_type": "code",
   "execution_count": 2,
   "id": "8020901a-4bc7-4b73-95e8-aaa462b4fc19",
   "metadata": {},
   "outputs": [],
   "source": [
    "import logging\n",
    "logger = logging.getLogger()\n",
    "logger.setLevel(logging.INFO)\n",
    "\n",
    "import pandas as pd \n",
    "import numpy as np\n",
    "import matplotlib.pyplot as plt\n",
    "import plotly.graph_objects as go\n",
    "import plotly.io as pio\n",
    "pio.renderers.default = 'iframe'  # For Interactive Plots\n",
    "from prophet import Prophet"
   ]
  },
  {
   "cell_type": "code",
   "execution_count": 3,
   "id": "8fe254e6-7abb-4946-9c83-0ea71d8a8130",
   "metadata": {},
   "outputs": [],
   "source": [
    "from openrefine_utils import (\n",
    "    fetch_bitcoin_data_kucoin,\n",
    "    save_to_csv,\n",
    "    load_cleaned_data,\n",
    "    validate_cleaned_data,\n",
    "    resample_data,\n",
    "    calculate_technical_indicators,\n",
    "    plot_technical_indicators,\n",
    "    prepare_forecast_data,\n",
    "    train_model,\n",
    "    plot_forecast,\n",
    "    plot_comparision\n",
    ")"
   ]
  },
  {
   "cell_type": "markdown",
   "id": "5baa450a-2810-4cf9-a396-5dd24e60d00d",
   "metadata": {},
   "source": [
    "## Data Ingestion"
   ]
  },
  {
   "cell_type": "code",
   "execution_count": 4,
   "id": "3220a18a-d2dd-4a15-899e-b19e284d5e83",
   "metadata": {},
   "outputs": [
    {
     "name": "stderr",
     "output_type": "stream",
     "text": [
      "INFO:openrefine_utils:Fetching 7 days of BTC data from KuCoin (15min candles)\n",
      "/home/jovyan/work/openrefine_utils.py:81: FutureWarning:\n",
      "\n",
      "The behavior of 'to_datetime' with 'unit' when parsing strings is deprecated. In a future version, strings will be parsed as datetime strings, matching the behavior without a 'unit'. To retain the old behavior, explicitly cast ints or floats to numeric type before calling to_datetime.\n",
      "\n",
      "INFO:openrefine_utils:Saving 672 records to bitcoin_15m_kucoin.csv\n"
     ]
    }
   ],
   "source": [
    "btc_df = fetch_bitcoin_data_kucoin(days=7, interval='15min')\n",
    "btc_df.head()\n",
    "\n",
    "save_to_csv(btc_df, 'bitcoin_15m_kucoin.csv')"
   ]
  },
  {
   "cell_type": "markdown",
   "id": "a7586843-3e28-4a0e-a385-5319800a4627",
   "metadata": {},
   "source": [
    "## Data Loading & Validation"
   ]
  },
  {
   "cell_type": "code",
   "execution_count": 5,
   "id": "07173d90-1ab9-4081-b707-abef0e40c4cd",
   "metadata": {},
   "outputs": [
    {
     "name": "stderr",
     "output_type": "stream",
     "text": [
      "INFO:openrefine_utils:Loading cleaned data from bitcoin_price_analysis_using_OpenRefine_w_timestamp.csv\n",
      "INFO:openrefine_utils:Successfully loaded 672 records\n",
      "INFO:openrefine_utils:No missing values\n",
      "INFO:openrefine_utils:Valid price relationships\n",
      "INFO:openrefine_utils:Time sequence valid\n",
      "INFO:openrefine_utils:All data validation checks passed successfully!\n"
     ]
    }
   ],
   "source": [
    "cleaned_df = load_cleaned_data('bitcoin_price_analysis_using_OpenRefine_w_timestamp.csv')\n",
    "\n",
    "validation_passed = validate_cleaned_data(cleaned_df)"
   ]
  },
  {
   "cell_type": "markdown",
   "id": "9ed569ca-b7e3-45ca-889f-4708046d2250",
   "metadata": {},
   "source": [
    "## Preprocessing Utilities"
   ]
  },
  {
   "cell_type": "code",
   "execution_count": 6,
   "id": "6a36b238-69f9-4101-b98f-c7bfbb41eb07",
   "metadata": {},
   "outputs": [
    {
     "data": {
      "text/html": [
       "<div>\n",
       "<style scoped>\n",
       "    .dataframe tbody tr th:only-of-type {\n",
       "        vertical-align: middle;\n",
       "    }\n",
       "\n",
       "    .dataframe tbody tr th {\n",
       "        vertical-align: top;\n",
       "    }\n",
       "\n",
       "    .dataframe thead th {\n",
       "        text-align: right;\n",
       "    }\n",
       "</style>\n",
       "<table border=\"1\" class=\"dataframe\">\n",
       "  <thead>\n",
       "    <tr style=\"text-align: right;\">\n",
       "      <th></th>\n",
       "      <th>timestamp</th>\n",
       "      <th>ma_7</th>\n",
       "      <th>ma_24</th>\n",
       "      <th>intraday_volatility</th>\n",
       "      <th>daily_momentum</th>\n",
       "    </tr>\n",
       "  </thead>\n",
       "  <tbody>\n",
       "    <tr>\n",
       "      <th>96</th>\n",
       "      <td>2025-05-10 17:14:40+00:00</td>\n",
       "      <td>103330.214286</td>\n",
       "      <td>103486.816667</td>\n",
       "      <td>199.4</td>\n",
       "      <td>0.380282</td>\n",
       "    </tr>\n",
       "    <tr>\n",
       "      <th>97</th>\n",
       "      <td>2025-05-10 17:29:36+00:00</td>\n",
       "      <td>103370.500000</td>\n",
       "      <td>103486.016667</td>\n",
       "      <td>198.8</td>\n",
       "      <td>0.286150</td>\n",
       "    </tr>\n",
       "    <tr>\n",
       "      <th>98</th>\n",
       "      <td>2025-05-10 17:44:32+00:00</td>\n",
       "      <td>103359.900000</td>\n",
       "      <td>103476.166667</td>\n",
       "      <td>297.3</td>\n",
       "      <td>-0.027131</td>\n",
       "    </tr>\n",
       "    <tr>\n",
       "      <th>99</th>\n",
       "      <td>2025-05-10 17:59:28+00:00</td>\n",
       "      <td>103357.728571</td>\n",
       "      <td>103464.333333</td>\n",
       "      <td>159.0</td>\n",
       "      <td>0.186503</td>\n",
       "    </tr>\n",
       "    <tr>\n",
       "      <th>100</th>\n",
       "      <td>2025-05-10 18:14:24+00:00</td>\n",
       "      <td>103338.128571</td>\n",
       "      <td>103443.625000</td>\n",
       "      <td>200.0</td>\n",
       "      <td>0.048557</td>\n",
       "    </tr>\n",
       "  </tbody>\n",
       "</table>\n",
       "</div>"
      ],
      "text/plain": [
       "                    timestamp           ma_7          ma_24  \\\n",
       "96  2025-05-10 17:14:40+00:00  103330.214286  103486.816667   \n",
       "97  2025-05-10 17:29:36+00:00  103370.500000  103486.016667   \n",
       "98  2025-05-10 17:44:32+00:00  103359.900000  103476.166667   \n",
       "99  2025-05-10 17:59:28+00:00  103357.728571  103464.333333   \n",
       "100 2025-05-10 18:14:24+00:00  103338.128571  103443.625000   \n",
       "\n",
       "     intraday_volatility  daily_momentum  \n",
       "96                 199.4        0.380282  \n",
       "97                 198.8        0.286150  \n",
       "98                 297.3       -0.027131  \n",
       "99                 159.0        0.186503  \n",
       "100                200.0        0.048557  "
      ]
     },
     "metadata": {},
     "output_type": "display_data"
    }
   ],
   "source": [
    "analyzed_df = calculate_technical_indicators(cleaned_df)\n",
    "display(analyzed_df[['timestamp', 'ma_7', 'ma_24', 'intraday_volatility', 'daily_momentum']].head())"
   ]
  },
  {
   "cell_type": "markdown",
   "id": "977dd45f-5e12-4e4d-a3c2-3b9cf8b7b792",
   "metadata": {},
   "source": [
    "## Forecasting Setup"
   ]
  },
  {
   "cell_type": "markdown",
   "id": "c2e4cc61-5c5f-4f3b-9745-ab6b842a99a3",
   "metadata": {},
   "source": [
    "#### Timestamp Modification"
   ]
  },
  {
   "cell_type": "code",
   "execution_count": 7,
   "id": "b52f3930-eefe-45a4-bc1f-7fc1694c140b",
   "metadata": {},
   "outputs": [],
   "source": [
    "dataset_path = \"bitcoin_price_analysis_using_OpenRefine_notimestamp.csv\"\n",
    "notimestamps_df = pd.read_csv(dataset_path)\n",
    "\n",
    "notimestamps_df['timestamp'] = pd.to_datetime(notimestamps_df['timestamp'], utc=True, errors='coerce')\n",
    "# Convert to naive datetime\n",
    "notimestamps_df['timestamp'] = notimestamps_df['timestamp'].dt.tz_localize(None)\n",
    "notimestamps_df = notimestamps_df.dropna(subset=['timestamp'])\n",
    "\n",
    "forecast_df = prepare_forecast_data(notimestamps_df)"
   ]
  },
  {
   "cell_type": "markdown",
   "id": "a7e6835f-ffd4-4c4e-89b9-fa8f9112cd94",
   "metadata": {},
   "source": [
    "#### Splitting Train/Test Data"
   ]
  },
  {
   "cell_type": "code",
   "execution_count": 8,
   "id": "6a8da5cb-2bdd-44d4-918f-53a6cdc9e939",
   "metadata": {},
   "outputs": [],
   "source": [
    "train_data = forecast_df[:-96]  \n",
    "test_data = forecast_df[-96:] "
   ]
  },
  {
   "cell_type": "markdown",
   "id": "3d426ae3-2910-43cc-ac1a-d45172cb7074",
   "metadata": {},
   "source": [
    "#### Training Model"
   ]
  },
  {
   "cell_type": "code",
   "execution_count": 9,
   "id": "f54d9b6c-0be2-4f16-9a60-de7e5166f674",
   "metadata": {},
   "outputs": [
    {
     "name": "stderr",
     "output_type": "stream",
     "text": [
      "INFO:openrefine_utils:Starting model training...\n",
      "DEBUG:cmdstanpy:input tempfile: /tmp/tmpogr2_nq6/bbn30wxe.json\n",
      "DEBUG:cmdstanpy:input tempfile: /tmp/tmpogr2_nq6/rc7yesrc.json\n",
      "DEBUG:cmdstanpy:idx 0\n",
      "DEBUG:cmdstanpy:running CmdStan, num_threads: None\n",
      "DEBUG:cmdstanpy:CmdStan args: ['/opt/conda/lib/python3.11/site-packages/prophet/stan_model/prophet_model.bin', 'random', 'seed=40993', 'data', 'file=/tmp/tmpogr2_nq6/bbn30wxe.json', 'init=/tmp/tmpogr2_nq6/rc7yesrc.json', 'output', 'file=/tmp/tmpogr2_nq6/prophet_modelk0h3g8xl/prophet_model-20250521011100.csv', 'method=optimize', 'algorithm=lbfgs', 'iter=10000']\n",
      "01:11:00 - cmdstanpy - INFO - Chain [1] start processing\n",
      "INFO:cmdstanpy:Chain [1] start processing\n",
      "01:11:00 - cmdstanpy - INFO - Chain [1] done processing\n",
      "INFO:cmdstanpy:Chain [1] done processing\n"
     ]
    }
   ],
   "source": [
    "model, forecast = train_model(train_data, periods=96)"
   ]
  },
  {
   "cell_type": "markdown",
   "id": "4b96fdb8-68d5-4afb-aff8-e442536a1ecd",
   "metadata": {},
   "source": [
    "## Visualizations"
   ]
  },
  {
   "cell_type": "markdown",
   "id": "d7fe6a25-4451-4fa3-9b42-8cc29eacb530",
   "metadata": {},
   "source": [
    "### A. Technical Indicator Plots"
   ]
  },
  {
   "cell_type": "code",
   "execution_count": 10,
   "id": "ffea07a6-279d-46e6-9b0e-e8e8fdceac9d",
   "metadata": {},
   "outputs": [
    {
     "data": {
      "text/html": [
       "<iframe\n",
       "    scrolling=\"no\"\n",
       "    width=\"1020px\"\n",
       "    height=\"620\"\n",
       "    src=\"iframe_figures/figure_10.html\"\n",
       "    frameborder=\"0\"\n",
       "    allowfullscreen\n",
       "></iframe>\n"
      ]
     },
     "metadata": {},
     "output_type": "display_data"
    }
   ],
   "source": [
    "plot_technical_indicators(analyzed_df)"
   ]
  },
  {
   "cell_type": "markdown",
   "id": "05f0b8b8-d4c3-4ee3-95dc-add494f3d0e6",
   "metadata": {},
   "source": [
    "### B. Forecasting Plots"
   ]
  },
  {
   "cell_type": "code",
   "execution_count": 11,
   "id": "42640840-05f6-43fe-b279-9894be95197b",
   "metadata": {},
   "outputs": [
    {
     "data": {
      "text/html": [
       "<iframe\n",
       "    scrolling=\"no\"\n",
       "    width=\"1020px\"\n",
       "    height=\"620\"\n",
       "    src=\"iframe_figures/figure_11.html\"\n",
       "    frameborder=\"0\"\n",
       "    allowfullscreen\n",
       "></iframe>\n"
      ]
     },
     "metadata": {},
     "output_type": "display_data"
    },
    {
     "data": {
      "text/html": [
       "<iframe\n",
       "    scrolling=\"no\"\n",
       "    width=\"1020px\"\n",
       "    height=\"520\"\n",
       "    src=\"iframe_figures/figure_11.html\"\n",
       "    frameborder=\"0\"\n",
       "    allowfullscreen\n",
       "></iframe>\n"
      ]
     },
     "metadata": {},
     "output_type": "display_data"
    }
   ],
   "source": [
    "plot_forecast(train_data, forecast)\n",
    "plot_comparision(test_data, forecast)"
   ]
  },
  {
   "cell_type": "markdown",
   "id": "26d75ee4-d185-4f49-ba78-ab2addc23698",
   "metadata": {},
   "source": [
    "## Insights and Findings\n",
    "\n",
    "- The **Bitcoin Price Forecast (24 Hours)** graph generated using the Prophet model shows how the model anticipates future price movements using patterns from historical data.\n",
    "  - Prophet works by identifying **seasonal trends and recent behavior** in the price series to estimate what will likely happen next.\n",
    "  - The forecast includes a **confidence interval**, represented by the shaded region around the prediction line. This interval reflects the model's uncertainty — the wider it is, the less confident the model is about precise values. Most of our predicted intervals stayed reasonably tight, indicating consistent and stable model behavior.\n",
    "\n",
    "- As time progresses into the future, these **confidence intervals expand slightly**, which is expected. This means the model is less certain the further ahead it predicts, which is a common characteristic of time series models.\n",
    "\n",
    "- The **Actual vs Predicted Price** plot provides a strong visual assessment of model performance.\n",
    "  - The **actual price** (from real data) is shown alongside the **predicted values** from the model.\n",
    "  - Most real values fall within the confidence band, indicating that the model is well-calibrated and **accurately captures short-term price behavior**.\n",
    "  - Minor gaps between actual and predicted values typically occurred during more volatile time windows, which suggests the model could be fine-tuned further or enhanced with external signals (like volume or macroeconomic events).\n",
    "\n",
    "\n",
    "- Before modeling, **OpenRefine** was used to clean and validate raw Bitcoin price data.\n",
    "  - Issues such as variable values and inconsistent timestamps were resolved.\n",
    "  - Ensuring clean data with **logical relationships among columns** (like high ≥ low, etc.) is critical to avoid introducing noise into time-based predictions.\n",
    "\n",
    "- The data used was **15-minute intervals price data** which helped maintain high granularity, which is ideal for crypto markets where prices change rapidly.\n",
    "\n",
    "- We also computed **technical indicators** such as:\n",
    "  - **Moving Averages (MA)** to smooth out short-term fluctuations and highlight longer-term trends.\n",
    "  - **Bollinger Bands**, which measure price volatility by placing upper and lower bands around a moving average. In periods of high volatility, the bands widen — a pattern that was clearly visible in our visualization.\n",
    "\n",
    "- Finally, by combining **cleaned data**, **technical indicators**, and a **forecasting model**, the project successfully demonstrated a **modular, reproducible pipeline** for near real-time price prediction.\n"
   ]
  },
  {
   "cell_type": "markdown",
   "id": "2a6229e7-e71f-4297-9f19-d7025a7b574b",
   "metadata": {},
   "source": [
    "## FLOW CHART"
   ]
  },
  {
   "cell_type": "markdown",
   "id": "8492d39d-de54-4862-bb1d-517f77275429",
   "metadata": {},
   "source": [
    "<center>\n",
    "\n",
    "###  **RAW CSV**  \n",
    "    ⬇️  \n",
    "###  **OPENREFINE CLEANING**  \n",
    "    ⬇️  \n",
    "###  **CLEANED CSV**  \n",
    "    ⬇️  \n",
    "###  **LOAD INTO NOTEBOOK FOR ANALYSIS**  \n",
    "    ⬇️  \n",
    "###  **ADD TECHNICAL INDICATORS**  \n",
    "    ⬇️  \n",
    "###  **MODEL TRAINING**\n",
    "    ⬇️  \n",
    "###  **FORECAST VISUALIZATIONS**  \n",
    "    ⬇️  \n",
    "###  **DEDUCE CONCLUSIONS**\n",
    "\n",
    "</center>\n"
   ]
  }
 ],
 "metadata": {
  "kernelspec": {
   "display_name": "Python 3 (ipykernel)",
   "language": "python",
   "name": "python3"
  },
  "language_info": {
   "codemirror_mode": {
    "name": "ipython",
    "version": 3
   },
   "file_extension": ".py",
   "mimetype": "text/x-python",
   "name": "python",
   "nbconvert_exporter": "python",
   "pygments_lexer": "ipython3",
   "version": "3.11.6"
  }
 },
 "nbformat": 4,
 "nbformat_minor": 5
}
