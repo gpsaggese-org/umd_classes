{
 "cells": [
  {
   "cell_type": "markdown",
   "id": "183c2248-ea3d-43ba-b87e-d821bba1bbc6",
   "metadata": {},
   "source": [
    "# Airflow API Demonstration\n",
    "\n",
    "This notebook introduces the core components of Apache Airflow, with a simple demonstration of how DAGs and tasks are defined and executed.\n",
    "\n",
    "## Overview of Airflow\n",
    "\n",
    "Apache Airflow is a platform to programmatically author, schedule, and monitor workflows. It uses **Directed Acyclic Graphs (DAGs)** to manage the flow of tasks.\n",
    "\n",
    "This notebook illustrates:\n",
    "1. Defining a simple DAG using Python\n",
    "2. Creating PythonOperator-based tasks\n",
    "3. Understanding task dependencies\n",
    "4. Running and monitoring tasks using the Airflow UI\n",
    "\n",
    "\n",
    "## Section 1: What is a DAG?\n",
    "\n",
    "A **DAG** (Directed Acyclic Graph) is the central concept in Airflow. It represents a workflow where:\n",
    "- **Directed**: Tasks run in a specific order.\n",
    "- **Acyclic**: Tasks don’t loop back on themselves.\n",
    "- **Graph**: Nodes represent tasks; edges represent dependencies.\n",
    "\n",
    "Airflow uses Python code to define DAGs"
   ]
  },
  {
   "cell_type": "markdown",
   "id": "a65df5be",
   "metadata": {},
   "source": [
    "## Section 2: DAG Structure and Task Example (Conceptual)\n",
    "\n",
    "The following example defines a simple DAG with one task. This is a non-executable code block for learning purposes."
   ]
  },
  {
   "cell_type": "code",
   "execution_count": null,
   "id": "265e0d58-a7cd-4edf-a0b4-96b60220e801",
   "metadata": {},
   "outputs": [],
   "source": [
    "from airflow import DAG\n",
    "from airflow.operators.python_operator import PythonOperator\n",
    "from datetime import datetime, timedelta\n",
    "\n",
    "def hello():\n",
    "    print(\"Hello from Airflow!\")\n",
    "\n",
    "default_args = {\n",
    "    'owner': 'airflow',\n",
    "    'start_date': datetime(2025, 5, 1),\n",
    "    'retries': 1,\n",
    "    'retry_delay': timedelta(minutes=2),\n",
    "}\n",
    "\n",
    "with DAG(\n",
    "    dag_id='demo_hello_airflow',\n",
    "    default_args=default_args,\n",
    "    description='A sample DAG for API demonstration',\n",
    "    schedule_interval='@hourly',\n",
    "    catchup=False,\n",
    ") as dag:\n",
    "\n",
    "    hello_task = PythonOperator(\n",
    "        task_id='say_hello',\n",
    "        python_callable=hello\n",
    "    )"
   ]
  },
  {
   "cell_type": "markdown",
   "id": "d3b2f997-5c9b-4238-b6d5-e5f2cea43809",
   "metadata": {},
   "source": [
    "## Section 3: Key Concepts in Airflow\n",
    "\n",
    "### DAG Arguments\n",
    "- `start_date`: When to start scheduling the DAG.\n",
    "- `schedule_interval`: How often the DAG runs (e.g., `@hourly`, `@daily`).\n",
    "- `catchup`: If `True`, backfills missed runs since `start_date`.\n",
    "- `retries`, `retry_delay`: Configure task retry logic.\n",
    "\n",
    "### Operators\n",
    "Airflow has many operators:\n",
    "- `PythonOperator`: Runs Python functions.\n",
    "- `BashOperator`: Executes bash commands.\n",
    "- `DummyOperator`: Useful for placeholders.\n",
    "\n",
    "\n",
    "## Section 4: Viewing DAGs in the UI\n",
    "\n",
    "Once your DAG is defined in the `/dags` folder and the Airflow service is running:\n",
    "- Visit the UI at `http://localhost:8080`\n",
    "- You’ll see the DAG ID in the list.\n",
    "- You can trigger the DAG manually or wait for the scheduler to run it.\n",
    "- Task logs and statuses are accessible from the web interface.\n",
    "\n",
    "\n",
    "## Summary\n",
    "This notebook introduces you to the basics of Airflow's native API and DAG definition. It helps you understand:\n",
    "- How workflows are structured with DAGs\n",
    "- What tasks and operators are\n",
    "- How scheduling and dependencies are configured\n",
    "\n",
    "This foundational understanding is essential before building more complex pipelines with Airflow."
   ]
  }
 ],
 "metadata": {
  "kernelspec": {
   "display_name": "env",
   "language": "python",
   "name": "python3"
  },
  "language_info": {
   "codemirror_mode": {
    "name": "ipython",
    "version": 3
   },
   "file_extension": ".py",
   "mimetype": "text/x-python",
   "name": "python",
   "nbconvert_exporter": "python",
   "pygments_lexer": "ipython3",
   "version": "3.9.18"
  }
 },
 "nbformat": 4,
 "nbformat_minor": 5
}
