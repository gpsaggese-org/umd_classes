{
 "cells": [
  {
   "cell_type": "code",
   "execution_count": 3,
   "id": "initial_id",
   "metadata": {
    "ExecuteTime": {
     "end_time": "2025-05-17T17:45:28.268496Z",
     "start_time": "2025-05-17T17:45:28.263923Z"
    },
    "collapsed": true,
    "jupyter": {
     "outputs_hidden": true
    }
   },
   "outputs": [],
   "source": [
    "# Cell 1: Setup Django\n",
    "import os\n",
    "import os\n",
    "os.environ[\"DJANGO_ALLOW_ASYNC_UNSAFE\"] = \"true\"\n",
    "\n",
    "import django\n",
    "os.environ.setdefault(\"DJANGO_SETTINGS_MODULE\", \"bitcoin_project.settings\")\n",
    "django.setup()"
   ]
  },
  {
   "cell_type": "code",
   "execution_count": 4,
   "id": "f75c92605887c2bd",
   "metadata": {
    "ExecuteTime": {
     "end_time": "2025-05-17T17:45:31.032333Z",
     "start_time": "2025-05-17T17:45:30.938831Z"
    }
   },
   "outputs": [
    {
     "name": "stdout",
     "output_type": "stream",
     "text": [
      "Price: 103238\n"
     ]
    }
   ],
   "source": [
    "# Cell 2: Import and use API wrapper\n",
    "from django_orm_utils import get_current_bitcoin_price, store_price_in_db\n",
    "\n",
    "price = get_current_bitcoin_price()\n",
    "print(\"Price:\", price)\n",
    "\n",
    "store_price_in_db(price)\n"
   ]
  }
 ],
 "metadata": {
  "kernelspec": {
   "display_name": "Python 3 (ipykernel)",
   "language": "python",
   "name": "python3"
  },
  "language_info": {
   "codemirror_mode": {
    "name": "ipython",
    "version": 3
   },
   "file_extension": ".py",
   "mimetype": "text/x-python",
   "name": "python",
   "nbconvert_exporter": "python",
   "pygments_lexer": "ipython3",
   "version": "3.9.6"
  }
 },
 "nbformat": 4,
 "nbformat_minor": 5
}
