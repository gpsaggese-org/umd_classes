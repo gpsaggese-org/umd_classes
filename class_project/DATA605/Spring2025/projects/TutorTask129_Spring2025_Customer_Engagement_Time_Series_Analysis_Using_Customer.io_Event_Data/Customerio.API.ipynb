{
 "cells": [
  {
   "cell_type": "markdown",
   "id": "183c2248-ea3d-43ba-b87e-d821bba1bbc6",
   "metadata": {},
   "source": [
    "# Customer.io API\n",
    "\n",
    "This notebook demonstrates how to work with the **native API of Customer.io**. Since Customer.io restricts direct access to retrieve event data (due to privacy policies), this notebook **simulates user and event data**, uploads them via API, and then stores them locally for further analysis.\n",
    "\n",
    "---\n",
    "\n",
    "## What this notebook does:\n",
    "\n",
    "- Authenticates with the Customer.io API using site credentials.\n",
    "- Creates a synthetic user base using the `Faker` library.\n",
    "- Simulates multiple events per user over a 6-month period.\n",
    "- Uploads all simulated data to Customer.io via API calls (`identify`, `track`).\n",
    "- Saves a local copy of both user IDs and event logs (`.csv` files) for analysis.\n",
    "\n",
    "---\n",
    "\n",
    "## References\n",
    "\n",
    "- Companion write-up: [`Customerio.API.md`](./Customerio.API.md)\n",
    "- Utility functions: [`Customerio_utils.py`](./Customerio_utils.py)\n",
    "\n",
    "---\n",
    "\n",
    "## Citations\n",
    "\n",
    "- [Customer.io Python SDK](https://customer.io/docs/api/)\n",
    "- Box, G.E.P., Jenkins, G.M., & Reinsel, G.C. (2008). *Time Series Analysis: Forecasting and Control.*\n",
    "\n",
    "---\n",
    "\n",
    "## Notebook Flow\n",
    "\n",
    "1. **Setup and Import** — Import API wrapper and utilities.\n",
    "2. **User Simulation** — Generate fake users using `faker`.\n",
    "3. **Event Simulation** — Create realistic interaction logs over 180 days.\n",
    "4. **API Integration** — Push user and event data to Customer.io via `cio.identify()` and `cio.track()`.\n",
    "5. **Export** — Save user list and event log as CSV for analysis.\n",
    "\n",
    "---\n",
    "\n",
    "## Notes on API Limitations\n",
    "\n",
    "Customer.io's API **does not allow retrieval of user event history**, which creates challenges for downstream analytics. To overcome this:\n",
    "\n",
    "- We **simulate both users and events** in this notebook.\n",
    "- These are uploaded to the API (to reflect real use), but a copy is retained locally to enable **offline data analysis**.\n",
    "\n",
    "---\n",
    "\n",
    "## Code Standards\n",
    "\n",
    "- Comments are imperative and punctuated.\n",
    "- All code cells are purposeful, clearly labeled, and follow modular structure.\n",
    "- The project uses external utility functions to maintain clarity and reduce repetition.\n",
    "\n"
   ]
  },
  {
   "cell_type": "code",
   "execution_count": 1,
   "id": "171ce8e0",
   "metadata": {},
   "outputs": [],
   "source": [
    "from Customerio_utils import generate_users, simulate_events"
   ]
  },
  {
   "cell_type": "markdown",
   "id": "d3b2f997-5c9b-4238-b6d5-e5f2cea43809",
   "metadata": {},
   "source": [
    "## Create user on customer.io"
   ]
  },
  {
   "cell_type": "code",
   "execution_count": 2,
   "id": "d1480ee9-d6a6-437d-b927-da6cbb05bdf5",
   "metadata": {},
   "outputs": [
    {
     "name": "stdout",
     "output_type": "stream",
     "text": [
      "Created and saved 1000 users to 'simulated_user_ids.csv'\n"
     ]
    }
   ],
   "source": [
    "# Generate users\n",
    "user_ids = generate_users(num_users=1000)"
   ]
  },
  {
   "cell_type": "markdown",
   "id": "f9208cc9-837d-4fec-a312-9c4aa5b7648d",
   "metadata": {},
   "source": [
    "## Simulate the user event"
   ]
  },
  {
   "cell_type": "code",
   "execution_count": 3,
   "id": "9a2d7a9c-c6c5-48c9-8445-11c97045d00b",
   "metadata": {},
   "outputs": [
    {
     "name": "stdout",
     "output_type": "stream",
     "text": [
      "Simulated events saved to 'simulated_event_log.csv'\n"
     ]
    }
   ],
   "source": [
    "# Simulate events\n",
    "event = simulate_events(user_ids)"
   ]
  }
 ],
 "metadata": {
  "kernelspec": {
   "display_name": "Python 3 (ipykernel)",
   "language": "python",
   "name": "python3"
  },
  "language_info": {
   "codemirror_mode": {
    "name": "ipython",
    "version": 3
   },
   "file_extension": ".py",
   "mimetype": "text/x-python",
   "name": "python",
   "nbconvert_exporter": "python",
   "pygments_lexer": "ipython3",
   "version": "3.8.10"
  }
 },
 "nbformat": 4,
 "nbformat_minor": 5
}
