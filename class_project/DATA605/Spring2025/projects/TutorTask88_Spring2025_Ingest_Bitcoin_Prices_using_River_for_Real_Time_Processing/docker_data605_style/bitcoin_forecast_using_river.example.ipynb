{
 "cells": [
  {
   "cell_type": "markdown",
   "id": "e2afaffc",
   "metadata": {},
   "source": [
    "# Ingest Bitcoin Prices using River for Real-Time Processing\n",
    "\n",
    "This notebook demonstrates how to ingest real-time Bitcoin price data using the CoinGecko API and perform online learning using the River library.\n",
    "\n",
    "**Goals:**\n",
    "- Stream live Bitcoin price data\n",
    "- Use River for incremental training\n",
    "- Maintain a rolling window of prices\n",
    "- Extract lag features for prediction\n",
    "- Visualize real-time predictions and model accuracy\n"
   ]
  },
  {
   "cell_type": "code",
   "execution_count": 3,
   "id": "fc42888e",
   "metadata": {
    "ExecuteTime": {
     "end_time": "2025-05-15T17:43:44.527314Z",
     "start_time": "2025-05-15T17:43:44.511620Z"
    }
   },
   "outputs": [
    {
     "name": "stdout",
     "output_type": "stream",
     "text": [
      "The autoreload extension is already loaded. To reload it, use:\n",
      "  %reload_ext autoreload\n"
     ]
    }
   ],
   "source": [
    "%load_ext autoreload\n",
    "%autoreload 2\n",
    "%matplotlib inline"
   ]
  },
  {
   "cell_type": "markdown",
   "id": "0c3f4517",
   "metadata": {},
   "source": [
    "## Imports\n",
    "This cell initializes the required packages and imports the helper functions from bitcoin_forecast_utils.py."
   ]
  },
  {
   "cell_type": "code",
   "execution_count": 1,
   "id": "72be2482",
   "metadata": {
    "ExecuteTime": {
     "end_time": "2025-05-15T18:34:40.813195Z",
     "start_time": "2025-05-15T18:34:24.457429Z"
    }
   },
   "outputs": [
    {
     "name": "stdout",
     "output_type": "stream",
     "text": [
      "Requirement already satisfied: river in /usr/local/lib/python3.8/dist-packages (0.19.0)\n",
      "Requirement already satisfied: numpy>=1.24.4 in /usr/local/lib/python3.8/dist-packages (from river) (1.24.4)\n",
      "Requirement already satisfied: scipy>=1.5 in /usr/local/lib/python3.8/dist-packages (from river) (1.10.1)\n",
      "Requirement already satisfied: pandas>=1.3 in /usr/local/lib/python3.8/dist-packages (from river) (2.0.3)\n",
      "Requirement already satisfied: python-dateutil>=2.8.2 in /usr/local/lib/python3.8/dist-packages (from pandas>=1.3->river) (2.9.0.post0)\n",
      "Requirement already satisfied: pytz>=2020.1 in /usr/local/lib/python3.8/dist-packages (from pandas>=1.3->river) (2025.2)\n",
      "Requirement already satisfied: tzdata>=2022.1 in /usr/local/lib/python3.8/dist-packages (from pandas>=1.3->river) (2025.2)\n",
      "Requirement already satisfied: six>=1.5 in /usr/local/lib/python3.8/dist-packages (from python-dateutil>=2.8.2->pandas>=1.3->river) (1.17.0)\n",
      "\u001b[33mWARNING: Running pip as the 'root' user can result in broken permissions and conflicting behaviour with the system package manager, possibly rendering your system unusable. It is recommended to use a virtual environment instead: https://pip.pypa.io/warnings/venv. Use the --root-user-action option if you know what you are doing and want to suppress this warning.\u001b[0m\u001b[33m\n",
      "\u001b[0mRequirement already satisfied: pytest in /usr/local/lib/python3.8/dist-packages (8.3.5)\n",
      "Requirement already satisfied: exceptiongroup>=1.0.0rc8 in /usr/local/lib/python3.8/dist-packages (from pytest) (1.2.2)\n",
      "Requirement already satisfied: iniconfig in /usr/local/lib/python3.8/dist-packages (from pytest) (2.1.0)\n",
      "Requirement already satisfied: packaging in /usr/local/lib/python3.8/dist-packages (from pytest) (24.2)\n",
      "Requirement already satisfied: pluggy<2,>=1.5 in /usr/local/lib/python3.8/dist-packages (from pytest) (1.5.0)\n",
      "Requirement already satisfied: tomli>=1 in /usr/local/lib/python3.8/dist-packages (from pytest) (2.2.1)\n",
      "\u001b[33mWARNING: Running pip as the 'root' user can result in broken permissions and conflicting behaviour with the system package manager, possibly rendering your system unusable. It is recommended to use a virtual environment instead: https://pip.pypa.io/warnings/venv. Use the --root-user-action option if you know what you are doing and want to suppress this warning.\u001b[0m\u001b[33m\n",
      "\u001b[0mRequirement already satisfied: scikit-learn in /usr/local/lib/python3.8/dist-packages (1.3.2)\n",
      "Requirement already satisfied: numpy<2.0,>=1.17.3 in /usr/local/lib/python3.8/dist-packages (from scikit-learn) (1.24.4)\n",
      "Requirement already satisfied: scipy>=1.5.0 in /usr/local/lib/python3.8/dist-packages (from scikit-learn) (1.10.1)\n",
      "Requirement already satisfied: joblib>=1.1.1 in /usr/local/lib/python3.8/dist-packages (from scikit-learn) (1.4.2)\n",
      "Requirement already satisfied: threadpoolctl>=2.0.0 in /usr/local/lib/python3.8/dist-packages (from scikit-learn) (3.5.0)\n",
      "\u001b[33mWARNING: Running pip as the 'root' user can result in broken permissions and conflicting behaviour with the system package manager, possibly rendering your system unusable. It is recommended to use a virtual environment instead: https://pip.pypa.io/warnings/venv. Use the --root-user-action option if you know what you are doing and want to suppress this warning.\u001b[0m\u001b[33m\n",
      "\u001b[0mRequirement already satisfied: matplotlib in /usr/local/lib/python3.8/dist-packages (3.7.5)\n",
      "Requirement already satisfied: contourpy>=1.0.1 in /usr/local/lib/python3.8/dist-packages (from matplotlib) (1.1.1)\n",
      "Requirement already satisfied: cycler>=0.10 in /usr/local/lib/python3.8/dist-packages (from matplotlib) (0.12.1)\n",
      "Requirement already satisfied: fonttools>=4.22.0 in /usr/local/lib/python3.8/dist-packages (from matplotlib) (4.57.0)\n",
      "Requirement already satisfied: kiwisolver>=1.0.1 in /usr/local/lib/python3.8/dist-packages (from matplotlib) (1.4.7)\n",
      "Requirement already satisfied: numpy<2,>=1.20 in /usr/local/lib/python3.8/dist-packages (from matplotlib) (1.24.4)\n",
      "Requirement already satisfied: packaging>=20.0 in /usr/local/lib/python3.8/dist-packages (from matplotlib) (24.2)\n",
      "Requirement already satisfied: pillow>=6.2.0 in /usr/local/lib/python3.8/dist-packages (from matplotlib) (10.4.0)\n",
      "Requirement already satisfied: pyparsing>=2.3.1 in /usr/local/lib/python3.8/dist-packages (from matplotlib) (3.1.4)\n",
      "Requirement already satisfied: python-dateutil>=2.7 in /usr/local/lib/python3.8/dist-packages (from matplotlib) (2.9.0.post0)\n",
      "Requirement already satisfied: importlib-resources>=3.2.0 in /usr/local/lib/python3.8/dist-packages (from matplotlib) (6.4.5)\n",
      "Requirement already satisfied: zipp>=3.1.0 in /usr/local/lib/python3.8/dist-packages (from importlib-resources>=3.2.0->matplotlib) (3.20.2)\n",
      "Requirement already satisfied: six>=1.5 in /usr/local/lib/python3.8/dist-packages (from python-dateutil>=2.7->matplotlib) (1.17.0)\n",
      "\u001b[33mWARNING: Running pip as the 'root' user can result in broken permissions and conflicting behaviour with the system package manager, possibly rendering your system unusable. It is recommended to use a virtual environment instead: https://pip.pypa.io/warnings/venv. Use the --root-user-action option if you know what you are doing and want to suppress this warning.\u001b[0m\u001b[33m\n",
      "\u001b[0mRequirement already satisfied: requests in /usr/local/lib/python3.8/dist-packages (2.32.3)\n",
      "Requirement already satisfied: charset-normalizer<4,>=2 in /usr/local/lib/python3.8/dist-packages (from requests) (3.4.2)\n",
      "Requirement already satisfied: idna<4,>=2.5 in /usr/local/lib/python3.8/dist-packages (from requests) (3.10)\n",
      "Requirement already satisfied: urllib3<3,>=1.21.1 in /usr/local/lib/python3.8/dist-packages (from requests) (2.2.3)\n",
      "Requirement already satisfied: certifi>=2017.4.17 in /usr/local/lib/python3.8/dist-packages (from requests) (2025.4.26)\n",
      "\u001b[33mWARNING: Running pip as the 'root' user can result in broken permissions and conflicting behaviour with the system package manager, possibly rendering your system unusable. It is recommended to use a virtual environment instead: https://pip.pypa.io/warnings/venv. Use the --root-user-action option if you know what you are doing and want to suppress this warning.\u001b[0m\u001b[33m\n",
      "\u001b[0mCollecting streamlit\n",
      "  Downloading streamlit-1.40.1-py2.py3-none-any.whl.metadata (8.5 kB)\n",
      "Collecting altair<6,>=4.0 (from streamlit)\n",
      "  Downloading altair-5.4.1-py3-none-any.whl.metadata (9.4 kB)\n",
      "Collecting blinker<2,>=1.0.0 (from streamlit)\n",
      "  Downloading blinker-1.8.2-py3-none-any.whl.metadata (1.6 kB)\n",
      "Collecting cachetools<6,>=4.0 (from streamlit)\n",
      "  Downloading cachetools-5.5.2-py3-none-any.whl.metadata (5.4 kB)\n",
      "Collecting click<9,>=7.0 (from streamlit)\n",
      "  Downloading click-8.1.8-py3-none-any.whl.metadata (2.3 kB)\n",
      "Requirement already satisfied: numpy<3,>=1.20 in /usr/local/lib/python3.8/dist-packages (from streamlit) (1.24.4)\n",
      "Requirement already satisfied: packaging<25,>=20 in /usr/local/lib/python3.8/dist-packages (from streamlit) (24.2)\n",
      "Requirement already satisfied: pandas<3,>=1.4.0 in /usr/local/lib/python3.8/dist-packages (from streamlit) (2.0.3)\n",
      "Requirement already satisfied: pillow<12,>=7.1.0 in /usr/local/lib/python3.8/dist-packages (from streamlit) (10.4.0)\n",
      "Collecting protobuf<6,>=3.20 (from streamlit)\n",
      "  Downloading protobuf-5.29.4-cp38-abi3-manylinux2014_x86_64.whl.metadata (592 bytes)\n",
      "Collecting pyarrow>=7.0 (from streamlit)\n",
      "  Downloading pyarrow-17.0.0-cp38-cp38-manylinux_2_28_x86_64.whl.metadata (3.3 kB)\n",
      "Requirement already satisfied: requests<3,>=2.27 in /usr/local/lib/python3.8/dist-packages (from streamlit) (2.32.3)\n",
      "Collecting rich<14,>=10.14.0 (from streamlit)\n",
      "  Downloading rich-13.9.4-py3-none-any.whl.metadata (18 kB)\n",
      "Collecting tenacity<10,>=8.1.0 (from streamlit)\n",
      "  Downloading tenacity-9.0.0-py3-none-any.whl.metadata (1.2 kB)\n",
      "Collecting toml<2,>=0.10.1 (from streamlit)\n",
      "  Downloading toml-0.10.2-py2.py3-none-any.whl.metadata (7.1 kB)\n",
      "Requirement already satisfied: typing-extensions<5,>=4.3.0 in /usr/local/lib/python3.8/dist-packages (from streamlit) (4.13.1)\n",
      "Collecting gitpython!=3.1.19,<4,>=3.0.7 (from streamlit)\n",
      "  Downloading GitPython-3.1.44-py3-none-any.whl.metadata (13 kB)\n",
      "Collecting pydeck<1,>=0.8.0b4 (from streamlit)\n",
      "  Downloading pydeck-0.9.1-py2.py3-none-any.whl.metadata (4.1 kB)\n",
      "Requirement already satisfied: tornado<7,>=6.0.3 in /usr/local/lib/python3.8/dist-packages (from streamlit) (6.1)\n"
     ]
    },
    {
     "name": "stdout",
     "output_type": "stream",
     "text": [
      "Collecting watchdog<7,>=2.1.5 (from streamlit)\n",
      "  Downloading watchdog-4.0.2-py3-none-manylinux2014_x86_64.whl.metadata (38 kB)\n",
      "Requirement already satisfied: jinja2 in /usr/local/lib/python3.8/dist-packages (from altair<6,>=4.0->streamlit) (3.1.6)\n",
      "Requirement already satisfied: jsonschema>=3.0 in /usr/local/lib/python3.8/dist-packages (from altair<6,>=4.0->streamlit) (4.23.0)\n",
      "Requirement already satisfied: narwhals>=1.5.2 in /usr/local/lib/python3.8/dist-packages (from altair<6,>=4.0->streamlit) (1.39.1)\n",
      "Collecting gitdb<5,>=4.0.1 (from gitpython!=3.1.19,<4,>=3.0.7->streamlit)\n",
      "  Downloading gitdb-4.0.12-py3-none-any.whl.metadata (1.2 kB)\n",
      "Requirement already satisfied: python-dateutil>=2.8.2 in /usr/local/lib/python3.8/dist-packages (from pandas<3,>=1.4.0->streamlit) (2.9.0.post0)\n",
      "Requirement already satisfied: pytz>=2020.1 in /usr/local/lib/python3.8/dist-packages (from pandas<3,>=1.4.0->streamlit) (2025.2)\n",
      "Requirement already satisfied: tzdata>=2022.1 in /usr/local/lib/python3.8/dist-packages (from pandas<3,>=1.4.0->streamlit) (2025.2)\n",
      "Requirement already satisfied: charset-normalizer<4,>=2 in /usr/local/lib/python3.8/dist-packages (from requests<3,>=2.27->streamlit) (3.4.2)\n",
      "Requirement already satisfied: idna<4,>=2.5 in /usr/local/lib/python3.8/dist-packages (from requests<3,>=2.27->streamlit) (3.10)\n",
      "Requirement already satisfied: urllib3<3,>=1.21.1 in /usr/local/lib/python3.8/dist-packages (from requests<3,>=2.27->streamlit) (2.2.3)\n",
      "Requirement already satisfied: certifi>=2017.4.17 in /usr/local/lib/python3.8/dist-packages (from requests<3,>=2.27->streamlit) (2025.4.26)\n",
      "Collecting markdown-it-py>=2.2.0 (from rich<14,>=10.14.0->streamlit)\n",
      "  Downloading markdown_it_py-3.0.0-py3-none-any.whl.metadata (6.9 kB)\n",
      "Requirement already satisfied: pygments<3.0.0,>=2.13.0 in /usr/local/lib/python3.8/dist-packages (from rich<14,>=10.14.0->streamlit) (2.19.1)\n",
      "Collecting smmap<6,>=3.0.1 (from gitdb<5,>=4.0.1->gitpython!=3.1.19,<4,>=3.0.7->streamlit)\n",
      "  Downloading smmap-5.0.2-py3-none-any.whl.metadata (4.3 kB)\n",
      "Requirement already satisfied: MarkupSafe>=2.0 in /usr/local/lib/python3.8/dist-packages (from jinja2->altair<6,>=4.0->streamlit) (2.1.5)\n",
      "Requirement already satisfied: attrs>=22.2.0 in /usr/local/lib/python3.8/dist-packages (from jsonschema>=3.0->altair<6,>=4.0->streamlit) (25.3.0)\n",
      "Requirement already satisfied: importlib-resources>=1.4.0 in /usr/local/lib/python3.8/dist-packages (from jsonschema>=3.0->altair<6,>=4.0->streamlit) (6.4.5)\n",
      "Requirement already satisfied: jsonschema-specifications>=2023.03.6 in /usr/local/lib/python3.8/dist-packages (from jsonschema>=3.0->altair<6,>=4.0->streamlit) (2023.12.1)\n",
      "Requirement already satisfied: pkgutil-resolve-name>=1.3.10 in /usr/local/lib/python3.8/dist-packages (from jsonschema>=3.0->altair<6,>=4.0->streamlit) (1.3.10)\n",
      "Requirement already satisfied: referencing>=0.28.4 in /usr/local/lib/python3.8/dist-packages (from jsonschema>=3.0->altair<6,>=4.0->streamlit) (0.35.1)\n",
      "Requirement already satisfied: rpds-py>=0.7.1 in /usr/local/lib/python3.8/dist-packages (from jsonschema>=3.0->altair<6,>=4.0->streamlit) (0.20.1)\n",
      "Collecting mdurl~=0.1 (from markdown-it-py>=2.2.0->rich<14,>=10.14.0->streamlit)\n",
      "  Downloading mdurl-0.1.2-py3-none-any.whl.metadata (1.6 kB)\n",
      "Requirement already satisfied: six>=1.5 in /usr/local/lib/python3.8/dist-packages (from python-dateutil>=2.8.2->pandas<3,>=1.4.0->streamlit) (1.17.0)\n",
      "Requirement already satisfied: zipp>=3.1.0 in /usr/local/lib/python3.8/dist-packages (from importlib-resources>=1.4.0->jsonschema>=3.0->altair<6,>=4.0->streamlit) (3.20.2)\n",
      "Downloading streamlit-1.40.1-py2.py3-none-any.whl (8.6 MB)\n",
      "\u001b[2K   \u001b[90m━━━━━━━━━━━━━━━━━━━━━━━━━━━━━━━━━━━━━━━━\u001b[0m \u001b[32m8.6/8.6 MB\u001b[0m \u001b[31m21.1 MB/s\u001b[0m eta \u001b[36m0:00:00\u001b[0ma \u001b[36m0:00:01\u001b[0m\n",
      "\u001b[?25hDownloading altair-5.4.1-py3-none-any.whl (658 kB)\n",
      "\u001b[2K   \u001b[90m━━━━━━━━━━━━━━━━━━━━━━━━━━━━━━━━━━━━━━━━\u001b[0m \u001b[32m658.1/658.1 kB\u001b[0m \u001b[31m10.9 MB/s\u001b[0m eta \u001b[36m0:00:00\u001b[0m\n",
      "\u001b[?25hDownloading blinker-1.8.2-py3-none-any.whl (9.5 kB)\n",
      "Downloading cachetools-5.5.2-py3-none-any.whl (10 kB)\n",
      "Downloading click-8.1.8-py3-none-any.whl (98 kB)\n",
      "Downloading GitPython-3.1.44-py3-none-any.whl (207 kB)\n",
      "Downloading protobuf-5.29.4-cp38-abi3-manylinux2014_x86_64.whl (319 kB)\n",
      "Downloading pyarrow-17.0.0-cp38-cp38-manylinux_2_28_x86_64.whl (40.0 MB)\n",
      "\u001b[2K   \u001b[90m━━━━━━━━━━━━━━━━━━━━━━━━━━━━━━━━━━━━━━━━\u001b[0m \u001b[32m40.0/40.0 MB\u001b[0m \u001b[31m32.1 MB/s\u001b[0m eta \u001b[36m0:00:00\u001b[0m00:01\u001b[0m00:01\u001b[0m\n",
      "\u001b[?25hDownloading pydeck-0.9.1-py2.py3-none-any.whl (6.9 MB)\n",
      "\u001b[2K   \u001b[90m━━━━━━━━━━━━━━━━━━━━━━━━━━━━━━━━━━━━━━━━\u001b[0m \u001b[32m6.9/6.9 MB\u001b[0m \u001b[31m29.2 MB/s\u001b[0m eta \u001b[36m0:00:00\u001b[0ma \u001b[36m0:00:01\u001b[0m\n",
      "\u001b[?25hDownloading rich-13.9.4-py3-none-any.whl (242 kB)\n",
      "Downloading tenacity-9.0.0-py3-none-any.whl (28 kB)\n",
      "Downloading toml-0.10.2-py2.py3-none-any.whl (16 kB)\n",
      "Downloading watchdog-4.0.2-py3-none-manylinux2014_x86_64.whl (82 kB)\n",
      "Downloading gitdb-4.0.12-py3-none-any.whl (62 kB)\n",
      "Downloading markdown_it_py-3.0.0-py3-none-any.whl (87 kB)\n",
      "Downloading mdurl-0.1.2-py3-none-any.whl (10.0 kB)\n",
      "Downloading smmap-5.0.2-py3-none-any.whl (24 kB)\n",
      "Installing collected packages: watchdog, toml, tenacity, smmap, pyarrow, protobuf, mdurl, click, cachetools, blinker, pydeck, markdown-it-py, gitdb, rich, gitpython, altair, streamlit\n",
      "Successfully installed altair-5.4.1 blinker-1.8.2 cachetools-5.5.2 click-8.1.8 gitdb-4.0.12 gitpython-3.1.44 markdown-it-py-3.0.0 mdurl-0.1.2 protobuf-5.29.4 pyarrow-17.0.0 pydeck-0.9.1 rich-13.9.4 smmap-5.0.2 streamlit-1.40.1 tenacity-9.0.0 toml-0.10.2 watchdog-4.0.2\n",
      "\u001b[33mWARNING: Running pip as the 'root' user can result in broken permissions and conflicting behaviour with the system package manager, possibly rendering your system unusable. It is recommended to use a virtual environment instead: https://pip.pypa.io/warnings/venv. Use the --root-user-action option if you know what you are doing and want to suppress this warning.\u001b[0m\u001b[33m\n",
      "\u001b[0mRequirement already satisfied: numpy in /usr/local/lib/python3.8/dist-packages (1.24.4)\n",
      "\u001b[31mERROR: Could not find a version that satisfies the requirement as (from versions: none)\u001b[0m\u001b[31m\n",
      "\u001b[0m\u001b[31mERROR: No matching distribution found for as\u001b[0m\u001b[31m\n",
      "\u001b[0m"
     ]
    }
   ],
   "source": [
    "!pip install river\n",
    "!pip install pytest\n",
    "!pip install scikit-learn\n",
    "!pip install matplotlib\n",
    "!pip install requests\n",
    "!pip install streamlit\n",
    "!pip install numpy as np"
   ]
  },
  {
   "cell_type": "code",
   "execution_count": 2,
   "id": "3d91df53",
   "metadata": {
    "ExecuteTime": {
     "end_time": "2025-05-15T18:36:04.306155Z",
     "start_time": "2025-05-15T18:36:01.812146Z"
    }
   },
   "outputs": [],
   "source": [
    "import logging\n",
    "# Import libraries in this section.\n",
    "# Avoid imports like import *, from ... import ..., from ... import *, etc.\n",
    "import time\n",
    "import pandas as pd\n",
    "import numpy as np\n",
    "import matplotlib.pyplot as plt\n",
    "import warnings\n",
    "import collections\n",
    "\n",
    "import river\n",
    "import river.linear_model\n",
    "import river.tree\n",
    "import river.metrics\n",
    "import river.optim\n",
    "from river import linear_model\n",
    "from river import metrics\n",
    "import bitcoin_forecast_utils\n",
    "from bitcoin_forecast_utils import (\n",
    "    get_bitcoin_price_with_retry,\n",
    "    get_coin_ohlc,\n",
    "    build_rolling_features\n",
    ")\n",
    "from collections import deque\n",
    "from river import preprocessing\n",
    "from river import tree\n",
    "import requests\n",
    "import pickle\n",
    "import streamlit as st"
   ]
  },
  {
   "cell_type": "markdown",
   "id": "2196e725",
   "metadata": {},
   "source": [
    "# Initialize Model, Metric, Rolling Structures\n",
    "This cell performs essential setup for real-time streaming:\n",
    "\n",
    "- **Model Initialization**: Uses River's `StandardScaler` and `LinearRegression` in a pipeline to handle online feature normalization and regression.\n",
    "- **Metric**: Initializes `MAE` (Mean Absolute Error) for evaluating prediction accuracy incrementally.\n",
    "- **Rolling Window**: Creates a `deque` to maintain the most recent 5 Bitcoin prices for feature engineering.\n",
    "- **Logging**: Prepares empty lists to store MAE values, predictions, and actual prices for post-streaming visualization and analysis."
   ]
  },
  {
   "cell_type": "code",
   "execution_count": 3,
   "id": "1b4970be",
   "metadata": {
    "ExecuteTime": {
     "end_time": "2025-05-15T18:36:04.323273Z",
     "start_time": "2025-05-15T18:36:04.314827Z"
    }
   },
   "outputs": [],
   "source": [
    "# Initialize River model and metric\n",
    "model = preprocessing.StandardScaler() | linear_model.LinearRegression()\n",
    "metric = metrics.MAE()\n",
    "\n",
    "# Rolling window to hold past prices (lagged features)\n",
    "rolling_prices = deque(maxlen=5)\n",
    "\n",
    "# Logs for analysis and plotting\n",
    "mae_log = []\n",
    "pred_log = []\n",
    "true_log = []\n"
   ]
  },
  {
   "cell_type": "markdown",
   "id": "4e17229a",
   "metadata": {},
   "source": [
    "##  Real-Time Streaming + Online Model Training\n",
    "This block simulates **real-time model training** using cached OHLC close prices. Here's what each part does:\n",
    "\n",
    "- **OHLC Fetch**: Retrieves 1 day of close prices from the CoinGecko API via `get_coin_ohlc(days=1)` to mimic a live stream.\n",
    "- **Streaming Simulation**: Iterates through the close prices one-by-one as if they’re arriving in real time.\n",
    "- **Rolling Window**: Appends each new price to a `deque`, maintaining only the latest 5 values.\n",
    "- **Feature Engineering**: Constructs combined features using both price lags and OHLC-derived volatility indicators.\n",
    "- **Model Prediction**: Makes a prediction using the current model.\n",
    "- **Model Training**: If a prediction is available, the model is updated with the actual target using `learn_one()`.\n",
    "- **Metric Update**: The MAE (Mean Absolute Error) is updated incrementally for evaluation.\n",
    "- **Logging**: Records MAE, prediction, and actual values for later plotting.\n",
    "\n",
    "This structure supports **streaming learning** with continuous model updates, performance tracking, and feature interaction using River."
   ]
  },
  {
   "cell_type": "code",
   "execution_count": 4,
   "id": "f672e49b",
   "metadata": {
    "ExecuteTime": {
     "end_time": "2025-05-15T18:36:06.340078Z",
     "start_time": "2025-05-15T18:36:06.235619Z"
    }
   },
   "outputs": [
    {
     "name": "stderr",
     "output_type": "stream",
     "text": [
      "INFO:bitcoin_forecast_utils:Loading cached OHLC data\n"
     ]
    }
   ],
   "source": [
    "# Simulate real-time from cached OHLC close prices\n",
    "ohlc_df = get_coin_ohlc(days=1)\n",
    "for step, price in enumerate(ohlc_df[\"close\"].head(30)):\n",
    "    rolling_prices.append(price)\n",
    "\n",
    "    if len(rolling_prices) < rolling_prices.maxlen:\n",
    "        continue\n",
    "\n",
    "    #features = build_rolling_features(rolling_prices)\n",
    "    ohlc_features_df = bitcoin_forecast_utils.extract_ohlc_features(ohlc_df)\n",
    "    features = bitcoin_forecast_utils.build_combined_features(rolling_prices, ohlc_features_df)\n",
    "    true_price = features[\"price_lag_0\"]\n",
    "    pred_price = model.predict_one(features)\n",
    "\n",
    "    if pred_price is not None:\n",
    "        model.learn_one(features, true_price)\n",
    "        metric = metric.update(true_price, pred_price)\n",
    "\n",
    "        mae_log.append(metric.get())\n",
    "        pred_log.append(pred_price)\n",
    "        true_log.append(true_price)\n"
   ]
  },
  {
   "cell_type": "markdown",
   "id": "a04326de",
   "metadata": {},
   "source": [
    "\n",
    "This log message is generated by the `get_coin_ohlc()` function from the `bitcoin_forecast_utils.py` module.\n",
    "\n",
    " What It Means:\n",
    "- The notebook **did not fetch fresh OHLC data** from the CoinGecko API.\n",
    "- Instead, it **loaded previously saved OHLC data** from a local CSV file (`cached_ohlc.csv`).\n",
    "- This behavior is controlled by the caching mechanism to improve efficiency and reduce API calls.\n",
    "\n",
    " Why This Is Useful:\n",
    "- **Faster Execution:** Avoids unnecessary API calls.\n",
    "- **Rate Limit Protection:** Prevents hitting CoinGecko’s usage limits.\n",
    "- **Reproducibility:** Ensures consistent results during testing or demonstration."
   ]
  },
  {
   "cell_type": "markdown",
   "id": "955bac5e",
   "metadata": {},
   "source": [
    "## Print Model Weights\n",
    "This cell prints the **learned weights** from the linear regression model to understand which features (lags and indicators) are contributing most to predictions.\n"
   ]
  },
  {
   "cell_type": "code",
   "execution_count": 5,
   "id": "3a619d8a",
   "metadata": {
    "ExecuteTime": {
     "end_time": "2025-05-15T18:39:38.593258Z",
     "start_time": "2025-05-15T18:39:38.586786Z"
    }
   },
   "outputs": [
    {
     "name": "stdout",
     "output_type": "stream",
     "text": [
      "Model Weights:\n",
      "price_lag_0: -13885.3678\n",
      "price_lag_1: -18945.4805\n",
      "price_lag_2: -10273.9125\n",
      "price_lag_3: -192.6954\n",
      "price_lag_4: 11631.5213\n",
      "range: 0.0000\n",
      "price_change: 0.0000\n",
      "price_change_pct: 0.0000\n",
      "volatility: 0.0000\n"
     ]
    }
   ],
   "source": [
    "# Inspect model weights (feature importance)\n",
    "print(\"Model Weights:\")\n",
    "for feature, weight in model[-1].weights.items():\n",
    "    print(f\"{feature}: {weight:.4f}\")\n"
   ]
  },
  {
   "cell_type": "markdown",
   "id": "40f2e670",
   "metadata": {},
   "source": [
    "## Simulated Retry Logic (API Robustness Test)\n",
    "This cell simulates an API failure scenario to test the robustness of the retry mechanism implemented in `bitcoin_forecast_utils.py`.\n"
   ]
  },
  {
   "cell_type": "code",
   "execution_count": 6,
   "id": "a64e9c9a",
   "metadata": {
    "ExecuteTime": {
     "end_time": "2025-05-15T18:39:40.265487Z",
     "start_time": "2025-05-15T18:39:40.258442Z"
    }
   },
   "outputs": [
    {
     "name": "stdout",
     "output_type": "stream",
     "text": [
      "Retry mechanism would be triggered here (simulated).\n"
     ]
    }
   ],
   "source": [
    "#  Simulate API failure to demonstrate retry mechanism\n",
    "def simulate_api_failure():\n",
    "    raise requests.exceptions.HTTPError(response=requests.Response())\n",
    "\n",
    "try:\n",
    "    simulate_api_failure()\n",
    "except requests.exceptions.HTTPError:\n",
    "    print(\"Retry mechanism would be triggered here (simulated).\")\n"
   ]
  },
  {
   "cell_type": "markdown",
   "id": "311a08c1",
   "metadata": {},
   "source": [
    "##  Save the Trained River Model with Pickle\n",
    "This cell demonstrates how to serialize and persist the trained River model using the `pickle` module.\n"
   ]
  },
  {
   "cell_type": "code",
   "execution_count": 7,
   "id": "30e7698a",
   "metadata": {
    "ExecuteTime": {
     "end_time": "2025-05-15T18:39:41.979021Z",
     "start_time": "2025-05-15T18:39:41.972125Z"
    }
   },
   "outputs": [
    {
     "name": "stdout",
     "output_type": "stream",
     "text": [
      " Model saved to btc_stream_model.pkl\n"
     ]
    }
   ],
   "source": [
    "# Save trained River model to a pickle file\n",
    "with open(\"btc_stream_model.pkl\", \"wb\") as f:\n",
    "    pickle.dump(model, f)\n",
    "\n",
    "print(\" Model saved to btc_stream_model.pkl\")\n"
   ]
  },
  {
   "cell_type": "markdown",
   "id": "6dba34a8",
   "metadata": {},
   "source": [
    "## Basic Streaming with OHLC and Linear Regression\n",
    "This cell demonstrates a simple pipeline for streaming Bitcoin close prices and updating a linear regression model using lag features."
   ]
  },
  {
   "cell_type": "code",
   "execution_count": 8,
   "id": "0417b920",
   "metadata": {
    "ExecuteTime": {
     "end_time": "2025-05-15T18:39:43.657957Z",
     "start_time": "2025-05-15T18:39:43.639617Z"
    }
   },
   "outputs": [
    {
     "name": "stderr",
     "output_type": "stream",
     "text": [
      "INFO:bitcoin_forecast_utils:Loading cached OHLC data\n"
     ]
    },
    {
     "name": "stdout",
     "output_type": "stream",
     "text": [
      " MAE using OHLC Close Prices: 2.457223583842532e+20\n"
     ]
    }
   ],
   "source": [
    "# 2.12 Basic Streaming with OHLC Close Prices and Linear Regression\n",
    "\n",
    "ohlc_df = get_coin_ohlc(\"bitcoin\", vs_currency=\"usd\", days=7)\n",
    "ohlc_prices = ohlc_df[\"close\"].tolist()\n",
    "\n",
    "rolling_window = deque(maxlen=5)\n",
    "model = linear_model.LinearRegression()\n",
    "metric = metrics.MAE()\n",
    "\n",
    "for price in ohlc_prices[:30]:\n",
    "    rolling_window.append(price)\n",
    "\n",
    "    if len(rolling_window) < rolling_window.maxlen:\n",
    "        continue\n",
    "\n",
    "    features = build_rolling_features(rolling_window)\n",
    "    y_pred = model.predict_one(features)\n",
    "    y_true = features[\"price_lag_0\"]\n",
    "\n",
    "    if y_pred is not None:\n",
    "        model.learn_one(features, y_true)\n",
    "        metric = metric.update(y_true, y_pred)\n",
    "\n",
    "    rolling_window.append(price)\n",
    "\n",
    "print(\" MAE using OHLC Close Prices:\", metric.get())\n"
   ]
  },
  {
   "cell_type": "markdown",
   "id": "2a5638a2",
   "metadata": {},
   "source": [
    "## Multi-Model Streaming and Volatility Analysis\n",
    "This cell demonstrates the use of multiple River models—Linear Regression, Hoeffding Tree Regressor, and a Scaled Linear Regression pipeline—to forecast Bitcoin prices using a streaming approach. It also tracks volatility for interpretability."
   ]
  },
  {
   "cell_type": "code",
   "execution_count": 9,
   "id": "2a279cb6",
   "metadata": {
    "ExecuteTime": {
     "end_time": "2025-05-15T18:39:45.383151Z",
     "start_time": "2025-05-15T18:39:45.344334Z"
    }
   },
   "outputs": [
    {
     "name": "stderr",
     "output_type": "stream",
     "text": [
      "INFO:bitcoin_forecast_utils:Loading cached OHLC data\n"
     ]
    },
    {
     "name": "stdout",
     "output_type": "stream",
     "text": [
      "Step       Actual |         LR |       Tree |       Pipe |   Volatility\n",
      "-----------------------------------------------------------------\n",
      "[0  ]  103478.00 |       0.00 |       0.00 |       0.00 |       101.00\n",
      "[1  ]  103410.00 |       0.00 |       0.00 |       0.00 |        60.00\n",
      "[2  ]  103541.00 | -535095027057300275200.00 |  103444.00 |   21615.47 |       125.00\n",
      "[3  ]  103548.00 | 261075342675663712.00 |  103476.33 |   18389.76 |        19.00\n",
      "[4  ]  103612.00 | -535509075241683648512.00 |  103494.25 |   15872.55 |        69.00\n",
      "[5  ]  103541.00 | 287960181817382176.00 |  103517.80 |   18008.36 |        99.00\n",
      "[6  ]  103501.00 | -535733503818821140480.00 |  103521.67 |   32329.19 |        44.00\n",
      "[7  ]  103502.00 | 382292482805110784.00 |  103518.71 |   36275.19 |        10.00\n",
      "[8  ]  103594.00 | -535700148667351302144.00 |  103516.62 |   40645.41 |        61.00\n",
      "[9  ]  103708.00 | 430093463293556224.00 |  103525.22 |   42786.63 |       174.00\n",
      "[10 ]  103810.00 | -536177800949068070912.00 |  103543.50 |   62197.92 |        73.00\n",
      "[11 ]  103654.00 | 708915493656059136.00 |  103567.73 |   72798.43 |       155.00\n",
      "[12 ]  103248.00 | -536232418090908123136.00 |  103574.92 |   54499.03 |       356.00\n",
      "[13 ]  103150.00 | 447251003834211712.00 |  103549.77 |   49116.77 |        67.00\n",
      "[14 ]  103089.00 | -534673422168661622784.00 |  103521.21 |   13825.20 |        63.00\n",
      "[15 ]  102980.00 | -192848696130399648.00 |  103492.40 |  -30183.62 |       118.00\n",
      "[16 ]  102864.00 | 531754059145003270144.00 |  103460.38 |  -31977.31 |        97.00\n",
      "[17 ]  102846.00 | 620596359006864640.00 |  103425.29 |   27209.27 |        39.00\n",
      "[18 ]  102899.00 | -529425574934636003328.00 |  103393.11 |   55457.01 |        34.00\n",
      "[19 ]  102646.00 | 360762710632287232.00 |  103367.11 |   72556.25 |       260.00\n",
      "[20 ]  102460.00 | -527980925450708254720.00 |  103331.05 |   98396.76 |       174.00\n",
      "[21 ]  102555.00 | -172317946870138208.00 |  103289.57 |  110951.11 |       124.00\n",
      "[22 ]  102321.00 | 526461585420826836992.00 |  103256.18 |  113088.97 |       277.00\n",
      "[23 ]  102138.00 | 365185288031731968.00 |  103215.52 |  106868.78 |       169.00\n",
      "[24 ]  101846.00 | -523351166143181553664.00 |  103170.63 |  116818.73 |       209.00\n",
      "[25 ]  102029.00 | -450175875478362432.00 |  103117.64 |  118874.76 |       186.00\n",
      "[26 ]  102212.00 | 521213138421415084032.00 |  103075.77 |   92731.46 |       181.00\n",
      "[27 ]  102057.00 | -106130204881518896.00 |  103043.78 |   83428.58 |       180.00\n",
      "[28 ]  101870.00 | 520397316297780756480.00 |  103008.54 |   89288.02 |       249.00\n",
      "[29 ]  101828.00 | 171681393720999840.00 |  102969.28 |  106710.68 |        52.00\n",
      "[30 ]  101771.00 | -519756166021563285504.00 |  102931.23 |  112444.52 |        81.00\n",
      "[31 ]  102162.00 | -91540992091076464.00 |  102893.81 |   96933.03 |       363.00\n",
      "[32 ]  102254.00 | 519668406760346877952.00 |  102870.94 |   79817.78 |        54.00\n",
      "[33 ]  102436.00 | -302156778464212736.00 |  102852.24 |   69062.41 |       149.00\n",
      "[34 ]  102644.00 | 521651825216191135744.00 |  102840.00 |   58733.59 |       201.00\n",
      "[35 ]  102676.00 | -1139134330309110016.00 |  102834.40 |   55277.05 |        78.00\n",
      "[36 ]  102186.00 | 523528636584651259904.00 |  102830.00 |   64310.32 |       474.00\n",
      "[37 ]  102244.00 | -1154761947817351680.00 |  102812.59 |   80252.64 |       126.00\n",
      "[38 ]  101820.00 | 522889171490236137472.00 |  102797.63 |  103431.01 |       414.00\n",
      "[39 ]  102193.00 | -514136316287023616.00 |  102772.56 |  110953.33 |       340.00\n",
      "[40 ]  103008.00 | 522303056265321250816.00 |  102758.08 |   79331.71 |       713.00\n",
      "[41 ]  103194.00 | -880456128594845440.00 |  102764.17 |   42156.65 |       107.00\n",
      "[42 ]  103574.00 | 525714852876227444736.00 |  102774.40 |    3195.66 |       419.00\n",
      "[43 ]  103914.00 | -2275196555876353024.00 |  102793.00 |  -24657.36 |       205.00\n"
     ]
    }
   ],
   "source": [
    "# ---- Initialization ----\n",
    "ohlc_df = get_coin_ohlc(days=1)\n",
    "close_prices = ohlc_df[\"close\"].head(50)  # You can increase this range\n",
    "rolling_prices = deque(maxlen=5)\n",
    "\n",
    "# Models\n",
    "lr_model = linear_model.LinearRegression()\n",
    "tree_model = tree.HoeffdingTreeRegressor()\n",
    "pipeline_model = preprocessing.StandardScaler() | linear_model.LinearRegression()\n",
    "\n",
    "# Logs\n",
    "actual_log, lr_log, tree_log, pipe_log, vol_log = [], [], [], [], []\n",
    "\n",
    "# ---- Streaming Loop ----\n",
    "for step, price in enumerate(close_prices):\n",
    "    rolling_prices.append(price)\n",
    "    if len(rolling_prices) < rolling_prices.maxlen:\n",
    "        continue\n",
    "\n",
    "    features = build_rolling_features(rolling_prices)\n",
    "    actual = price\n",
    "\n",
    "    # Predictions\n",
    "    lr_pred = lr_model.predict_one(features) if step > rolling_prices.maxlen else 0\n",
    "    tree_pred = tree_model.predict_one(features) if step > rolling_prices.maxlen else 0\n",
    "    pipe_pred = pipeline_model.predict_one(features) if step > rolling_prices.maxlen else 0\n",
    "\n",
    "    # Logging\n",
    "    actual_log.append(actual)\n",
    "    lr_log.append(lr_pred)\n",
    "    tree_log.append(tree_pred)\n",
    "    pipe_log.append(pipe_pred)\n",
    "    vol_log.append(ohlc_df[\"high\"].iloc[step] - ohlc_df[\"low\"].iloc[step])\n",
    "\n",
    "    # Training\n",
    "    lr_model.learn_one(features, actual)\n",
    "    tree_model.learn_one(features, actual)\n",
    "    pipeline_model.learn_one(features, actual)\n",
    "\n",
    "# ---- Print Output ----\n",
    "print(f\"{'Step':<6} {'Actual':>10} | {'LR':>10} | {'Tree':>10} | {'Pipe':>10} | {'Volatility':>12}\")\n",
    "print(\"-\" * 65)\n",
    "for i, (a, l, t, p, v) in enumerate(zip(actual_log, lr_log, tree_log, pipe_log, vol_log)):\n",
    "    print(f\"[{i:<3}] {a:10.2f} | {l:10.2f} | {t:10.2f} | {p:10.2f} | {v:12.2f}\")"
   ]
  },
  {
   "cell_type": "markdown",
   "id": "16036bce",
   "metadata": {},
   "source": [
    " Prints a neatly formatted row-by-row comparison showing:\n",
    "  - Time step\n",
    "  - Actual price\n",
    "  - Predicted prices from LR, Tree, and Pipeline\n",
    "  - Rolling volatility"
   ]
  },
  {
   "cell_type": "markdown",
   "id": "c84a0f44",
   "metadata": {},
   "source": [
    "## Visualization: Predicted vs Actual Comparison Across Models\n",
    "This cell provides a comprehensive visual comparison of the performance of multiple models over time and visualizes the volatility of Bitcoin prices.\n",
    "\n",
    " Top Plot — Model Predictions vs Actual Price\n",
    "- Compares predicted Bitcoin prices from:\n",
    "  - Linear Regression\n",
    "  - Hoeffding Tree Regressor\n",
    "  - Pipeline (StandardScaler + Linear Regression)\n",
    "- Uses distinct colors and markers for clarity.\n",
    "- Plots them against the actual price across time steps.\n",
    "\n",
    "**Insight:** The closer the predicted lines are to the actual line, the better the model’s performance.\n",
    "\n",
    "Bottom Plot — Rolling Volatility (Standard Deviation)\n",
    "- Displays the rolling volatility of Bitcoin prices (i.e., std deviation of the high-low spread).\n",
    "- Helps identify periods of high market uncertainty or price fluctuation.\n",
    "\n",
    "**Insight:** Volatility spikes often indicate sudden price movements which models may struggle to predict accurately."
   ]
  },
  {
   "cell_type": "markdown",
   "id": "a5ec95a0",
   "metadata": {},
   "source": [
    "# Streamlit Integration with Trained River Model\n",
    "This cell integrates a pre-trained River model into a live Streamlit app for real-time forecasting and dynamic visualization."
   ]
  },
  {
   "cell_type": "code",
   "execution_count": 10,
   "id": "dd57bbdd",
   "metadata": {
    "ExecuteTime": {
     "end_time": "2025-05-15T18:39:51.603629Z",
     "start_time": "2025-05-15T18:39:51.190623Z"
    }
   },
   "outputs": [
    {
     "name": "stderr",
     "output_type": "stream",
     "text": [
      "2025-05-15 18:39:51.200 WARNING streamlit.runtime.scriptrunner_utils.script_run_context: Thread 'MainThread': missing ScriptRunContext! This warning can be ignored when running in bare mode.\n",
      "2025-05-15 18:39:51.440 \n",
      "  \u001b[33m\u001b[1mWarning:\u001b[0m to view this Streamlit app on a browser, run it with the following\n",
      "  command:\n",
      "\n",
      "    streamlit run /usr/local/lib/python3.8/dist-packages/ipykernel_launcher.py [ARGUMENTS]\n",
      "2025-05-15 18:39:51.441 Thread 'MainThread': missing ScriptRunContext! This warning can be ignored when running in bare mode.\n",
      "2025-05-15 18:39:51.575 Thread 'MainThread': missing ScriptRunContext! This warning can be ignored when running in bare mode.\n",
      "2025-05-15 18:39:51.577 Thread 'MainThread': missing ScriptRunContext! This warning can be ignored when running in bare mode.\n",
      "2025-05-15 18:39:51.580 Thread 'MainThread': missing ScriptRunContext! This warning can be ignored when running in bare mode.\n",
      "2025-05-15 18:39:51.582 Session state does not function when running a script without `streamlit run`\n",
      "2025-05-15 18:39:51.585 Thread 'MainThread': missing ScriptRunContext! This warning can be ignored when running in bare mode.\n",
      "2025-05-15 18:39:51.592 Thread 'MainThread': missing ScriptRunContext! This warning can be ignored when running in bare mode.\n",
      "2025-05-15 18:39:51.594 Thread 'MainThread': missing ScriptRunContext! This warning can be ignored when running in bare mode.\n",
      "2025-05-15 18:39:51.597 Thread 'MainThread': missing ScriptRunContext! This warning can be ignored when running in bare mode.\n"
     ]
    }
   ],
   "source": [
    "# Load trained model\n",
    "with open(\"btc_stream_model.pkl\", \"rb\") as f:\n",
    "    model = pickle.load(f)\n",
    "\n",
    "# Streamlit UI\n",
    "st.title(\" Real-Time Bitcoin Price Forecasting (River)\")\n",
    "\n",
    "# Fetch price\n",
    "try:\n",
    "    current_price = get_bitcoin_price_with_retry()\n",
    "    st.metric(\" Current BTC Price (USD)\", f\"${current_price:,.2f}\")\n",
    "except Exception as e:\n",
    "    st.error(f\"Failed to fetch price: {e}\")\n",
    "    st.stop()\n",
    "\n",
    "# Simulate rolling window\n",
    "if \"rolling_prices\" not in st.session_state:\n",
    "    st.session_state.rolling_prices = deque(maxlen=5)\n",
    "\n",
    "st.session_state.rolling_prices.append(current_price)\n",
    "\n",
    "# Only forecast if we have enough history\n",
    "if len(st.session_state.rolling_prices) == 5:\n",
    "    features = build_rolling_features(st.session_state.rolling_prices)\n",
    "    prediction = model.predict_one(features)\n",
    "\n",
    "    # Display prediction\n",
    "    st.subheader(\"Predicted Next Price\")\n",
    "    st.success(f\"${prediction:,.2f}\")\n",
    "\n",
    "    # Train the model (simulate online learning)\n",
    "    model.learn_one(features, current_price)\n",
    "\n",
    "    # Save updated model\n",
    "    with open(\"btc_stream_model.pkl\", \"wb\") as f:\n",
    "        pickle.dump(model, f)\n",
    "\n",
    "    # Show weights\n",
    "    st.subheader(\"Model Weights\")\n",
    "    st.json(model.weights)\n",
    "\n",
    "    # Plot true vs predicted\n",
    "    if \"price_log\" not in st.session_state:\n",
    "        st.session_state.price_log = []\n",
    "\n",
    "    st.session_state.price_log.append((current_price, prediction))\n",
    "\n",
    "    df = pd.DataFrame(st.session_state.price_log, columns=[\"Actual\", \"Predicted\"])\n",
    "    st.line_chart(df)"
   ]
  },
  {
   "cell_type": "code",
   "execution_count": 11,
   "id": "1e670b3d",
   "metadata": {
    "ExecuteTime": {
     "end_time": "2025-05-15T18:39:51.926617Z",
     "start_time": "2025-05-15T18:39:51.916317Z"
    }
   },
   "outputs": [
    {
     "name": "stdout",
     "output_type": "stream",
     "text": [
      " Streamlit app saved to streamlit_app.py\n"
     ]
    }
   ],
   "source": [
    "code = '''\n",
    "import streamlit as st\n",
    "import time\n",
    "import pickle\n",
    "from collections import deque\n",
    "from bitcoin_forecast_utils import get_bitcoin_price_with_retry, build_rolling_features\n",
    "from river import linear_model, metrics, preprocessing\n",
    "\n",
    "# App Config\n",
    "st.set_page_config(page_title=\"Bitcoin Forecasting with River\", page_icon=\":chart_with_upwards_trend:\")\n",
    "st.title(\"📈 Real-Time Bitcoin Price Forecasting using River\")\n",
    "\n",
    "# Load or initialize model with normalization\n",
    "if \"model\" not in st.session_state:\n",
    "    scaler = preprocessing.StandardScaler()\n",
    "    regressor = linear_model.LinearRegression()\n",
    "    st.session_state.model = scaler | regressor\n",
    "    st.session_state.metric = metrics.MAE()\n",
    "    st.session_state.rolling_prices = deque(maxlen=5)\n",
    "    st.session_state.price_log = []\n",
    "\n",
    "model = st.session_state.model\n",
    "metric = st.session_state.metric\n",
    "rolling_prices = st.session_state.rolling_prices\n",
    "price_log = st.session_state.price_log\n",
    "\n",
    "# Fetch live price\n",
    "if st.button(\"🔄 Refresh BTC Price\"):\n",
    "    get_bitcoin_price_with_retry.cache_clear()\n",
    "    st.rerun()\n",
    "\n",
    "try:\n",
    "    current_price = get_bitcoin_price_with_retry()\n",
    "    st.metric(\"📌 Current BTC Price (USD)\", f\"${current_price:,.2f}\")\n",
    "except Exception as e:\n",
    "    st.error(f\"Failed to fetch price: {e}\")\n",
    "    st.stop()\n",
    "\n",
    "# Update rolling window\n",
    "rolling_prices.append(current_price)\n",
    "\n",
    "# Predict only if enough data is available\n",
    "if len(rolling_prices) == rolling_prices.maxlen:\n",
    "    features = build_rolling_features(rolling_prices)\n",
    "    pred_price = model.predict_one(features)\n",
    "\n",
    "    # Display prediction\n",
    "    # TEMP FIX: Add predicted delta to current price\n",
    "    prediction = model.predict_one(features)\n",
    "    corrected_prediction = current_price + prediction\n",
    "    st.subheader(\"🧠 Predicted Next Price\")\n",
    "    st.success(f\"${corrected_prediction:,.2f}\")\n",
    "\n",
    "\n",
    "    # Train model\n",
    "    model.learn_one(features, current_price)\n",
    "    metric = metric.update(current_price, pred_price)\n",
    "    st.session_state.metric = metric\n",
    "\n",
    "    # Log data\n",
    "    price_log.append((current_price, pred_price))\n",
    "\n",
    "# Optional: Show model weights\n",
    "if st.checkbox(\"🔍 Show Model Weights\"):\n",
    "    try:\n",
    "        weights = dict(model[-1].weights)\n",
    "        st.json(weights)\n",
    "        st.line_chart(list(weights.values()))\n",
    "    except Exception as e:\n",
    "        st.error(\"Could not display weights: \" + str(e))\n",
    "\n",
    "# Optional: Display log chart\n",
    "if price_log:\n",
    "    import pandas as pd\n",
    "    df = pd.DataFrame(price_log, columns=[\"Actual\", \"Predicted\"])\n",
    "    st.line_chart(df)\n",
    "\n",
    "'''\n",
    "\n",
    "# Save to a file\n",
    "with open(\"streamlit_app.py\", \"w\") as f:\n",
    "    f.write(code)\n",
    "\n",
    "print(\" Streamlit app saved to streamlit_app.py\")\n"
   ]
  },
  {
   "cell_type": "code",
   "execution_count": null,
   "id": "b5829318",
   "metadata": {
    "ExecuteTime": {
     "start_time": "2025-05-15T17:50:10.891Z"
    }
   },
   "outputs": [
    {
     "name": "stdout",
     "output_type": "stream",
     "text": [
      "\n",
      "Collecting usage statistics. To deactivate, set browser.gatherUsageStats to false.\n",
      "\u001b[0m\n",
      "\u001b[0m\n",
      "\u001b[34m\u001b[1m  You can now view your Streamlit app in your browser.\u001b[0m\n",
      "\u001b[0m\n",
      "\u001b[34m  Local URL: \u001b[0m\u001b[1mhttp://localhost:8501\u001b[0m\n",
      "\u001b[34m  Network URL: \u001b[0m\u001b[1mhttp://172.17.0.2:8501\u001b[0m\n",
      "\u001b[34m  External URL: \u001b[0m\u001b[1mhttp://76.100.194.142:8501\u001b[0m\n",
      "\u001b[0m\n"
     ]
    }
   ],
   "source": [
    "!streamlit run streamlit_app.py"
   ]
  },
  {
   "cell_type": "code",
   "execution_count": null,
   "id": "74b86362",
   "metadata": {},
   "outputs": [],
   "source": []
  }
 ],
 "metadata": {
  "kernelspec": {
   "display_name": "Python 3 (ipykernel)",
   "language": "python",
   "name": "python3"
  },
  "language_info": {
   "codemirror_mode": {
    "name": "ipython",
    "version": 3
   },
   "file_extension": ".py",
   "mimetype": "text/x-python",
   "name": "python",
   "nbconvert_exporter": "python",
   "pygments_lexer": "ipython3",
   "version": "3.8.10"
  },
  "toc": {
   "base_numbering": 1,
   "nav_menu": {},
   "number_sections": true,
   "sideBar": true,
   "skip_h1_title": false,
   "title_cell": "Table of Contents",
   "title_sidebar": "Contents",
   "toc_cell": false,
   "toc_position": {},
   "toc_section_display": true,
   "toc_window_display": false
  }
 },
 "nbformat": 4,
 "nbformat_minor": 5
}
