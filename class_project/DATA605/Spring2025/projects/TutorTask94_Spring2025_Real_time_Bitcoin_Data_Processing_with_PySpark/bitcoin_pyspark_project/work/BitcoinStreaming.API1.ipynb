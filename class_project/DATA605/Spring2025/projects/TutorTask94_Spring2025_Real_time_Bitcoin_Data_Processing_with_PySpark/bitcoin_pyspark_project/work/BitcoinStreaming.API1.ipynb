{
 "cells": [
  {
   "cell_type": "markdown",
   "id": "29e53787",
   "metadata": {},
   "source": [
    "# Real-time Bitcoin Data Processing with PySpark API\n",
    "**Difficulty:** 3 (difficult)\n",
    "\n",
    "This notebook demonstrates how to use the `bitcoin_utils` module to ingest and process real-time Bitcoin price data with PySpark."
   ]
  },
  {
   "cell_type": "markdown",
   "id": "bd8650fe-0784-491d-80a4-8f13dcbf28a6",
   "metadata": {},
   "source": [
    "## Describe Technology\n",
    "\n",
    "- **PySpark**: Python API for Apache Spark, enabling distributed data processing using RDDs, DataFrames, and high-level APIs.\n",
    "- **Resilient Distributed Datasets (RDDs)**: Core data structure providing fault tolerance and parallel operations.\n",
    "- **DataFrames and Datasets**: Schema-enforced tabular data abstractions with SQL querying capabilities.\n",
    "- **Spark Streaming**: Real-time data ingestion and processing framework.\n",
    "- **MLlib**: Spark’s scalable machine learning library for tasks like regression, classification, and clustering."
   ]
  },
  {
   "cell_type": "markdown",
   "id": "e17188d5-e8af-4c40-b960-1071895b687e",
   "metadata": {},
   "source": [
    "## Setup\n",
    "Load Jupyter extensions for automatic reload and plotting."
   ]
  },
  {
   "cell_type": "code",
   "execution_count": null,
   "id": "c58be64a-1112-440e-a6b7-128fb48e2e8e",
   "metadata": {},
   "outputs": [],
   "source": [
    "%load_ext autoreload\n",
    "%autoreload 2\n",
    "%matplotlib inline"
   ]
  },
  {
   "cell_type": "markdown",
   "id": "01b06442",
   "metadata": {},
   "source": [
    "## 1. Initialize Spark Session"
   ]
  },
  {
   "cell_type": "code",
   "execution_count": 23,
   "id": "2b1dd367",
   "metadata": {},
   "outputs": [],
   "source": [
    "from bitcoin_utils import initialize_spark_session\n",
    "\n",
    "initialize_spark_session()"
   ]
  },
  {
   "cell_type": "markdown",
   "id": "2e3c8a1f",
   "metadata": {},
   "source": [
    "## 2. Fetch Real-time Data and Define Streaming Setup"
   ]
  },
  {
   "cell_type": "code",
   "execution_count": 24,
   "id": "a7cf3fbe",
   "metadata": {},
   "outputs": [
    {
     "data": {
      "text/plain": [
       "{'Datetime': '2025-05-14T21:33:00.628257+00:00',\n",
       " 'Open': 103541,\n",
       " 'High': 104529,\n",
       " 'Low': 102964,\n",
       " 'Close': 103541,\n",
       " 'Volume': '27791958894'}"
      ]
     },
     "execution_count": 24,
     "metadata": {},
     "output_type": "execute_result"
    }
   ],
   "source": [
    "import importlib\n",
    "import bitcoin_utils\n",
    "importlib.reload(bitcoin_utils)\n",
    "\n",
    "from bitcoin_utils import configure_streaming_paths_and_schedule, fetch_price_as_ohlc\n",
    "\n",
    "configure_streaming_paths_and_schedule()\n",
    "fetch_price_as_ohlc()"
   ]
  },
  {
   "cell_type": "markdown",
   "id": "70a08ca6",
   "metadata": {},
   "source": [
    "## 3. Start File Producer"
   ]
  },
  {
   "cell_type": "code",
   "execution_count": 25,
   "id": "9f85ae45",
   "metadata": {},
   "outputs": [],
   "source": [
    "from bitcoin_utils import start_file_producer\n",
    "\n",
    "# start_file_producer()  # Uncomment to start streaming data"
   ]
  },
  {
   "cell_type": "markdown",
   "id": "e43bb811",
   "metadata": {},
   "source": [
    "## 4. Define and Process Streaming Data"
   ]
  },
  {
   "cell_type": "code",
   "execution_count": 26,
   "id": "b12c3a7f",
   "metadata": {},
   "outputs": [],
   "source": [
    "from bitcoin_utils import stream_and_display_batches\n",
    "\n",
    "# stream_and_display_batches()  # Uncomment to process batches"
   ]
  },
  {
   "cell_type": "markdown",
   "id": "bc9f8998-9119-4797-80fa-19cc4eea7ddd",
   "metadata": {},
   "source": [
    "## Stream Data and Process Batches\n",
    "Run the streaming producer and consumer concurrently."
   ]
  },
  {
   "cell_type": "code",
   "execution_count": null,
   "id": "076d62ee-e79e-41be-b0c9-c0373778d7b0",
   "metadata": {},
   "outputs": [],
   "source": [
    "# This will run for the configured duration (e.g., 90 seconds)\n",
    "run_streaming_query_and_writer()"
   ]
  },
  {
   "cell_type": "markdown",
   "id": "8397bc7a-d734-425f-a6c7-8d4ed9c9d517",
   "metadata": {},
   "source": [
    "## Preview Historical Data\n",
    "Load and inspect the combined history of all fetched records."
   ]
  },
  {
   "cell_type": "code",
   "execution_count": null,
   "id": "d0569761-c00f-4629-b187-7065743d75c3",
   "metadata": {},
   "outputs": [],
   "source": [
    "preview_historical_data()"
   ]
  },
  {
   "cell_type": "markdown",
   "id": "990f965d-b6a2-4653-8624-fe4fe28a91ed",
   "metadata": {},
   "source": [
    "## Aggregations\n",
    "Compute hourly, daily, and rolling-window price statistics."
   ]
  },
  {
   "cell_type": "code",
   "execution_count": null,
   "id": "6a94831e-4e67-4a76-a49e-3d18b910cb5a",
   "metadata": {},
   "outputs": [],
   "source": [
    "aggregate_hourly_daily_moving_average()"
   ]
  },
  {
   "cell_type": "markdown",
   "id": "260ef879-cab7-459a-9506-0730f97df090",
   "metadata": {},
   "source": [
    "## Train and Evaluate Gradient-Boosted Tree Regressor\n",
    "Build a GBT model to forecast Bitcoin prices."
   ]
  },
  {
   "cell_type": "code",
   "execution_count": null,
   "id": "62d5bf3a-b5f9-4b13-8997-441c46a86a22",
   "metadata": {},
   "outputs": [],
   "source": [
    "train_and_evaluate_gbt_regressor()"
   ]
  },
  {
   "cell_type": "markdown",
   "id": "b6532cda-9d47-409e-9af8-3e5a830618a1",
   "metadata": {},
   "source": [
    "## Plot Actual vs. Predicted Prices\n",
    "Visualize model performance over time."
   ]
  },
  {
   "cell_type": "code",
   "execution_count": null,
   "id": "6d488e2c-f4af-442f-9151-54cfdc8d5b55",
   "metadata": {},
   "outputs": [],
   "source": [
    "plot_actual_vs_predicted_prices()"
   ]
  }
 ],
 "metadata": {
  "kernelspec": {
   "display_name": "Python 3 (ipykernel)",
   "language": "python",
   "name": "python3"
  },
  "language_info": {
   "codemirror_mode": {
    "name": "ipython",
    "version": 3
   },
   "file_extension": ".py",
   "mimetype": "text/x-python",
   "name": "python",
   "nbconvert_exporter": "python",
   "pygments_lexer": "ipython3",
   "version": "3.12.3"
  }
 },
 "nbformat": 4,
 "nbformat_minor": 5
}
