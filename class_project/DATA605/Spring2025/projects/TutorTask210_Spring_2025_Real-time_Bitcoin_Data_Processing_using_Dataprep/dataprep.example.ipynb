{
 "cells": [
  {
   "cell_type": "code",
   "execution_count": 38,
   "id": "998ec23f",
   "metadata": {},
   "outputs": [],
   "source": [
    "# Imported utility functions\n",
    "from dataprep_utils import *"
   ]
  },
  {
   "cell_type": "markdown",
   "id": "c6a590dd-d98d-44c1-bb0e-4ab1f4aa0fa5",
   "metadata": {},
   "source": [
    "# Real-Time Bitcoin Forecasting with DataPrep\n",
    "\n",
    "**Author**: Dhanush Sambasivam\n",
    "\n",
    "\n",
    "This notebook demonstrates the use of `Dataprep` for data cleaning, exploration, and visualization of real-time Bitcoin price data. It includes a time series analysis using ARIMA and Auto-ARIMA forecasting models.\n",
    "\n",
    "- Based on: `dataprep.example.md`\n",
    "- Reference APIs: CoinGecko, statsmodels, pmdarima\n",
    "- Style: [Jupyter notebook guidelines](https://github.com/causify-ai/helpers/blob/master/docs/coding/all.jupyter_notebook.how_to_guide.md)\n"
   ]
  },
  {
   "cell_type": "code",
   "execution_count": 39,
   "id": "1e7bb82e",
   "metadata": {},
   "outputs": [],
   "source": [
    "\n",
    "import logging\n",
    "logging.basicConfig(level=logging.INFO, format='%(asctime)s - %(levelname)s - %(message)s')\n"
   ]
  },
  {
   "cell_type": "markdown",
   "id": "f09b5bbd-1f32-497e-981f-a0a8c4f0897d",
   "metadata": {},
   "source": [
    "## Load and Preview Data\n"
   ]
  },
  {
   "cell_type": "code",
   "execution_count": 40,
   "id": "a57ad147-1919-4de5-9f03-35d14bed1617",
   "metadata": {},
   "outputs": [],
   "source": [
    "# %load_ext autoreload\n",
    "# %autoreload 2\n",
    "# %matplotlib inline\n",
    "\n",
    "import logging\n",
    "import pandas as pd\n",
    "import matplotlib.pyplot as plt\n",
    "from statsmodels.tsa.arima.model import ARIMA\n"
   ]
  },
  {
   "cell_type": "markdown",
   "id": "1b20c654-8e36-445b-a3bc-a7cb2a23c1ce",
   "metadata": {},
   "source": [
    "### Step 1: Load Data"
   ]
  },
  {
   "cell_type": "code",
   "execution_count": null,
   "id": "d3eef6de-cede-42c6-bdd4-482a6f42efb2",
   "metadata": {},
   "outputs": [],
   "source": [
    "import pandas as pd\n",
    "\n",
    "# Step 1: Load all three CSVs\n",
    "df1 = pd.read_csv(\"bitcoin_real_time_data.csv\")\n",
    "df2 = pd.read_csv(\"bitcoin_real_time_data1.csv\")\n",
    "df3 = pd.read_csv(\"bitcoin_real_time_data2.csv\")\n",
    "\n",
    "# Step 2: Combine them together\n",
    "df_combined = pd.concat([df1, df2, df3], ignore_index=True)\n",
    "\n",
    "# Step 3: Optional - Sort by timestamp if needed\n",
    "df_combined['timestamp'] = pd.to_datetime(df_combined['timestamp'], errors='coerce')\n",
    "df_combined = df_combined.sort_values(by='timestamp')\n",
    "\n",
    "# Step 4: Reset index and add new S.No again\n",
    "df_combined = df_combined.reset_index(drop=True)\n",
    "df_combined.insert(0, 'S.No', range(1, len(df_combined) + 1))\n",
    "\n",
    "# Step 5: Save the combined data\n",
    "output_file = \"bitcoin_combined_data.csv\"\n",
    "df_combined.to_csv(output_file, index=False)\n",
    "\n",
    "# Step 6: Inform the user\n",
    "logging.info(f\"Combined data saved successfully to '{output_file}'.\")\n",
    "\n"
   ]
  },
  {
   "cell_type": "code",
   "execution_count": null,
   "id": "35fa9c28-527f-43d3-9032-a05d152e6d0a",
   "metadata": {},
   "outputs": [],
   "source": [
    "import pandas as pd\n",
    "\n",
    "# Load the CSV\n",
    "df = pd.read_csv('bitcoin_combined_data.csv')\n",
    "\n",
    "# Pre\n",
    "df.head()\n"
   ]
  },
  {
   "cell_type": "code",
   "execution_count": null,
   "id": "b4e90bfe-53f4-45bb-9649-501fcabacf9a",
   "metadata": {},
   "outputs": [],
   "source": [
    "df.info()\n"
   ]
  },
  {
   "cell_type": "code",
   "execution_count": null,
   "id": "fa7c3615-9ba5-43b0-af1a-e9f3d651895e",
   "metadata": {},
   "outputs": [],
   "source": [
    "df.head()\n"
   ]
  },
  {
   "cell_type": "markdown",
   "id": "0653dc53-df23-47bc-ae95-f825d643bddb",
   "metadata": {},
   "source": [
    "## Clean and Preprocess Data\n"
   ]
  },
  {
   "cell_type": "code",
   "execution_count": null,
   "id": "21a33948-0a6e-4c7c-bd49-f33661d11249",
   "metadata": {},
   "outputs": [],
   "source": [
    "logging.info(df.columns.tolist())\n"
   ]
  },
  {
   "cell_type": "code",
   "execution_count": null,
   "id": "ac14ab9b-8792-442e-86c5-316f49951ae0",
   "metadata": {},
   "outputs": [],
   "source": [
    "df.describe(include='all')\n"
   ]
  },
  {
   "cell_type": "code",
   "execution_count": null,
   "id": "459fe2ca-673b-4623-bac5-b5b8ef579d24",
   "metadata": {},
   "outputs": [],
   "source": [
    "df.describe(include='all')\n"
   ]
  },
  {
   "cell_type": "markdown",
   "id": "795c7903-eb9d-46c5-96ab-3b028e93aa1a",
   "metadata": {},
   "source": [
    "### Step 2: Data Cleaning using Dataprep"
   ]
  },
  {
   "cell_type": "code",
   "execution_count": null,
   "id": "681173f6-e5ca-4870-8b3f-e3ce13791d6f",
   "metadata": {},
   "outputs": [],
   "source": [
    "pip install dataprep"
   ]
  },
  {
   "cell_type": "code",
   "execution_count": null,
   "id": "8aec58b3-55fb-4e17-b707-32af6563594b",
   "metadata": {},
   "outputs": [],
   "source": [
    "from dataprep.clean import clean_headers\n",
    "import pandas as pd\n",
    "\n",
    "# Clean column names\n",
    "df = clean_headers(df)\n",
    "\n",
    "# Use pandas to handle missing values\n",
    "df = df.dropna()  # or df.fillna(method='ffill') for forward-fill\n",
    "\n",
    "# Preview\n",
    "df.head()\n",
    "\n"
   ]
  },
  {
   "cell_type": "code",
   "execution_count": null,
   "id": "1cdc7c1d-6d1a-43b0-8bed-adad52ccae16",
   "metadata": {},
   "outputs": [],
   "source": [
    "logging.info(df.columns.tolist())\n"
   ]
  },
  {
   "cell_type": "markdown",
   "id": "fe1293d3-93c4-419d-9e35-1c416cb13e17",
   "metadata": {},
   "source": [
    " ## Exploratory Data Analysis (EDA)\n"
   ]
  },
  {
   "cell_type": "markdown",
   "id": "10b2c84f-6120-4cf9-a898-6c61b768d2a6",
   "metadata": {},
   "source": [
    "### Step 3: EDA using Dataprep"
   ]
  },
  {
   "cell_type": "code",
   "execution_count": null,
   "id": "4059a6e1-9d45-42bc-b261-409a19a909a2",
   "metadata": {},
   "outputs": [],
   "source": [
    "from dataprep.eda import create_report\n",
    "\n",
    "# Full interactive report\n",
    "create_report(df)\n"
   ]
  },
  {
   "cell_type": "code",
   "execution_count": null,
   "id": "004ec096-4159-4ced-86f2-c485f4b1db13",
   "metadata": {},
   "outputs": [],
   "source": [
    "from dataprep.eda import plot\n",
    "\n",
    "# Plot specific column (univariate)\n",
    "plot(df, \"price_usd\")\n",
    "\n",
    "# Explore all features\n",
    "plot(df)\n"
   ]
  },
  {
   "cell_type": "markdown",
   "id": "edadf6e4-6056-4dcb-8913-c5e89b7e457c",
   "metadata": {},
   "source": [
    "### Univariate Analysis with dataprep.eda.plot()\n"
   ]
  },
  {
   "cell_type": "code",
   "execution_count": null,
   "id": "d94faaca-dd4d-4cd0-93b5-19e8fb4e0464",
   "metadata": {},
   "outputs": [],
   "source": [
    "from dataprep.eda import plot\n",
    "\n",
    "# Plot price distribution\n",
    "plot(df, \"price_usd\")\n",
    "\n",
    "# Optional: plot timestamp just to view frequency (not always useful for time series)\n",
    "plot(df, \"timestamp\")\n"
   ]
  },
  {
   "cell_type": "markdown",
   "id": "9f73c20f-497e-436b-bc33-5ff225292273",
   "metadata": {},
   "source": [
    "### Rolling Statistics & Trend Smoothing"
   ]
  },
  {
   "cell_type": "code",
   "execution_count": null,
   "id": "ffd45a82-98e1-47d0-9464-e9eb7669f40b",
   "metadata": {},
   "outputs": [],
   "source": [
    "import matplotlib.pyplot as plt\n",
    "\n",
    "# Rolling average (5 points)\n",
    "df['price_usd'].rolling(window=5).mean().plot(label='5-Point Rolling Mean', figsize=(12, 5))\n",
    "df['price_usd'].plot(label='Original', alpha=0.5)\n",
    "plt.title(\"Bitcoin Price with Rolling Mean\")\n",
    "plt.xlabel(\"Timestamp\")\n",
    "plt.ylabel(\"USD Price\")\n",
    "plt.legend()\n",
    "plt.grid(True)\n",
    "plt.show()\n"
   ]
  },
  {
   "cell_type": "markdown",
   "id": "3b411aa6-013c-4d11-88ad-c96e00083190",
   "metadata": {},
   "source": [
    "### Price Change Over Time (Percentage Change & Volatility)\n"
   ]
  },
  {
   "cell_type": "code",
   "execution_count": null,
   "id": "21223682-f3e6-4cc4-a0d9-4cbc146e14b8",
   "metadata": {},
   "outputs": [],
   "source": [
    "# Calculate % change\n",
    "df['price_change_pct'] = df['price_usd'].pct_change() * 100\n",
    "\n",
    "# Plot\n",
    "df['price_change_pct'].plot(figsize=(12,5), title=\"Percentage Change in Price\")\n",
    "plt.xlabel(\"Timestamp\")\n",
    "plt.ylabel(\"Change (%)\")\n",
    "plt.grid(True)\n",
    "plt.show()\n"
   ]
  },
  {
   "cell_type": "markdown",
   "id": "5848b3d9-9a87-44a5-b13f-89cead5d59fa",
   "metadata": {},
   "source": [
    "### Outlier Detection using IQR Method\n"
   ]
  },
  {
   "cell_type": "code",
   "execution_count": null,
   "id": "12cfce43-d59f-4a77-9ec6-ab4336017979",
   "metadata": {},
   "outputs": [],
   "source": [
    "Q1 = df['price_usd'].quantile(0.25)\n",
    "Q3 = df['price_usd'].quantile(0.75)\n",
    "IQR = Q3 - Q1\n",
    "\n",
    "# Define outliers\n",
    "outliers = df[(df['price_usd'] < Q1 - 1.5 * IQR) | (df['price_usd'] > Q3 + 1.5 * IQR)]\n",
    "\n",
    "logging.info(f\"Number of outliers: {len(outliers)}\")\n",
    "\n",
    "# Visualize with scatter\n",
    "plt.figure(figsize=(12, 5))\n",
    "plt.plot(df.index, df['price_usd'], label='Price')\n",
    "plt.scatter(outliers.index, outliers['price_usd'], color='red', label='Outliers')\n",
    "plt.title(\"Bitcoin Price with Outliers Highlighted\")\n",
    "plt.xlabel(\"Timestamp\")\n",
    "plt.ylabel(\"USD Price\")\n",
    "plt.legend()\n",
    "plt.grid(True)\n",
    "plt.show()\n"
   ]
  },
  {
   "cell_type": "markdown",
   "id": "dd43a202-f93b-45e6-9291-11f1ed9fc10a",
   "metadata": {},
   "source": [
    "### Histogram and KDE of Bitcoin Prices"
   ]
  },
  {
   "cell_type": "code",
   "execution_count": null,
   "id": "7317f7a3-b1f6-45cf-9377-dce928545fd0",
   "metadata": {},
   "outputs": [],
   "source": [
    "!pip install seaborn\n",
    "import seaborn as sns\n",
    "\n",
    "plt.figure(figsize=(10, 5))\n",
    "sns.histplot(df['price_usd'], bins=30, kde=True)\n",
    "plt.title(\"Histogram & KDE of Bitcoin Prices\")\n",
    "plt.xlabel(\"Price (USD)\")\n",
    "plt.ylabel(\"Frequency\")\n",
    "plt.grid(True)\n",
    "plt.show()\n"
   ]
  },
  {
   "cell_type": "markdown",
   "id": "f6fedf6b-8203-43a3-af5b-683fcdd1addd",
   "metadata": {},
   "source": [
    "## Time Series Forecasting\n"
   ]
  },
  {
   "cell_type": "markdown",
   "id": "2d1b4ca4-81ad-46ce-a82e-6b04c0b0675d",
   "metadata": {},
   "source": [
    "### Step 4: Time Series Analysis using ARIMA"
   ]
  },
  {
   "cell_type": "code",
   "execution_count": null,
   "id": "2b8e14ac-2b2d-4161-a6b7-88e28e1575cb",
   "metadata": {},
   "outputs": [],
   "source": [
    "!pip install statsmodels\n",
    "!!pip install scikit-learn"
   ]
  },
  {
   "cell_type": "code",
   "execution_count": 59,
   "id": "f1c2cae3-47bd-408a-ae58-66c02d30419a",
   "metadata": {},
   "outputs": [],
   "source": [
    "import pandas as pd\n",
    "import numpy as np\n",
    "import matplotlib.pyplot as plt\n",
    "from statsmodels.tsa.stattools import adfuller\n",
    "from statsmodels.tsa.arima.model import ARIMA\n",
    "from sklearn.metrics import mean_squared_error\n"
   ]
  },
  {
   "cell_type": "code",
   "execution_count": null,
   "id": "ee48d30a-e8b4-40f1-b256-2392cd3dfd67",
   "metadata": {},
   "outputs": [],
   "source": [
    "# Use only price data\n",
    "ts = df['price_usd'].copy()\n",
    "\n",
    "# Make sure the index is datetime\n",
    "ts.index = pd.to_datetime(df.index)\n",
    "ts = ts.sort_index()\n",
    "\n",
    "# Plot original time series\n",
    "ts.plot(figsize=(12,5), title='Bitcoin Price Over Time')\n",
    "plt.ylabel('Price (USD)')\n",
    "plt.grid(True)\n",
    "plt.show()\n"
   ]
  },
  {
   "cell_type": "code",
   "execution_count": null,
   "id": "f5e8f941-fb54-444c-9151-2c7833569cac",
   "metadata": {},
   "outputs": [],
   "source": [
    "def check_stationarity(series):\n",
    "    result = adfuller(series.dropna())\n",
    "    logging.info(f\"ADF Statistic: {result[0]}\")\n",
    "    logging.info(f\"p-value: {result[1]}\")\n",
    "    if result[1] <= 0.05:\n",
    "        logging.info(\"✅ The series is stationary.\")\n",
    "    else:\n",
    "        logging.info(\"❌ The series is NOT stationary. Differencing is needed.\")\n",
    "\n",
    "check_stationarity(ts)\n"
   ]
  },
  {
   "cell_type": "code",
   "execution_count": null,
   "id": "4cf1b365-4529-4fbb-8762-8e082f8a0c9a",
   "metadata": {},
   "outputs": [],
   "source": [
    "# First difference the series\n",
    "ts_diff = ts.diff().dropna()\n",
    "\n",
    "# Re-check stationarity after differencing\n",
    "check_stationarity(ts_diff)\n"
   ]
  },
  {
   "cell_type": "code",
   "execution_count": null,
   "id": "0dfdb3b2-208b-453b-8254-32bf75328e06",
   "metadata": {},
   "outputs": [],
   "source": [
    "ts_diff.plot(figsize=(12, 5), title=\"1st Order Differenced Bitcoin Price\")\n",
    "plt.grid(True)\n",
    "plt.show()\n"
   ]
  },
  {
   "cell_type": "code",
   "execution_count": null,
   "id": "b2925134-211f-4867-abd2-b58b2820f1a2",
   "metadata": {},
   "outputs": [],
   "source": [
    "model = ARIMA(ts, order=(5, 1, 0))\n",
    "model_fit = model.fit()\n",
    "\n",
    "# Print summary to inspect AIC/BIC\n",
    "logging.info(model_fit.summary())\n"
   ]
  },
  {
   "cell_type": "code",
   "execution_count": 65,
   "id": "e1ea6063-6032-4975-9800-b62311d89919",
   "metadata": {},
   "outputs": [],
   "source": [
    "# Force timestamp index to be proper datetime\n",
    "df['timestamp'] = pd.to_datetime(df['timestamp'])\n",
    "df.set_index('timestamp', inplace=True)\n",
    "\n",
    "# Redefine time series\n",
    "ts = df['price_usd']\n",
    "ts = ts.sort_index()\n"
   ]
  },
  {
   "cell_type": "code",
   "execution_count": null,
   "id": "346911e5-67f7-4b4f-ad30-81052733e473",
   "metadata": {},
   "outputs": [],
   "source": [
    "# Forecast more steps\n",
    "steps = 50\n",
    "\n",
    "# Infer frequency properly as a Timedelta\n",
    "freq = pd.to_timedelta(df.index.to_series().diff().mode()[0])\n",
    "last_timestamp = ts.index[-1]\n",
    "future_dates = pd.date_range(start=last_timestamp + freq, periods=steps, freq=freq)\n",
    "\n",
    "# Forecast\n",
    "forecast = model_fit.forecast(steps=steps)\n",
    "forecast.index = future_dates\n",
    "\n",
    "# Plot only recent data + forecast\n",
    "plt.figure(figsize=(12, 5))\n",
    "plt.plot(ts[-100:], label='Historical (Last 100)')\n",
    "plt.plot(forecast.index, forecast, label='Forecast', linestyle='--', color='red')\n",
    "plt.title(f\"Bitcoin Price Forecast using ARIMA(5,1,0) - {steps} Steps Ahead\")\n",
    "plt.xlabel(\"Timestamp\")\n",
    "plt.ylabel(\"USD Price\")\n",
    "plt.legend()\n",
    "plt.grid(True)\n",
    "plt.show()\n",
    "\n"
   ]
  },
  {
   "cell_type": "markdown",
   "id": "29e97613-9586-4e59-90ec-97ca07753dd2",
   "metadata": {},
   "source": [
    "We implemented a manual ARIMA(5,1,0) model to forecast Bitcoin prices 50 steps into the future. The model was trained on differenced data to ensure stationarity and captured short-term trends using five autoregressive lags. The forecast, shown in red, extends from the latest observed prices and maintains a stable outlook, reflecting the recent market behavior. Confidence intervals were also computed to assess the prediction’s reliability.\n",
    "\n"
   ]
  },
  {
   "cell_type": "code",
   "execution_count": null,
   "id": "68c74223-8131-49c8-b4e8-126f85dfc31f",
   "metadata": {
    "scrolled": true
   },
   "outputs": [],
   "source": [
    "# Step 1: Get forecast object with confidence intervals\n",
    "forecast_obj = model_fit.get_forecast(steps=steps)\n",
    "conf_int = forecast_obj.conf_int()\n",
    "forecast_mean = forecast_obj.predicted_mean\n",
    "\n",
    "# Step 2: Align forecast index\n",
    "forecast_mean.index = future_dates\n",
    "conf_int.index = future_dates\n",
    "\n",
    "# Step 3: Plot with confidence interval\n",
    "plt.figure(figsize=(12, 5))\n",
    "plt.plot(ts[-100:], label='Historical (Last 100)')\n",
    "plt.plot(forecast_mean.index, forecast_mean, color='red', linestyle='--', label='Forecast')\n",
    "plt.fill_between(forecast_mean.index, conf_int.iloc[:, 0], conf_int.iloc[:, 1],\n",
    "                 color='pink', alpha=0.3, label='95% Confidence Interval')\n",
    "plt.title(f\"Bitcoin Price Forecast with 95% Confidence Interval ({steps} Steps Ahead)\")\n",
    "plt.xlabel(\"Timestamp\")\n",
    "plt.ylabel(\"USD Price\")\n",
    "plt.legend()\n",
    "plt.grid(True)\n",
    "plt.show()\n"
   ]
  },
  {
   "cell_type": "code",
   "execution_count": null,
   "id": "25c4cd65-a51e-423c-b5f8-47ef3caf95ed",
   "metadata": {},
   "outputs": [],
   "source": [
    "plt.figure(figsize=(12, 5))\n",
    "plt.plot(ts[-100:], label='Historical (Last 100)')\n",
    "plt.plot(forecast_mean.index, forecast_mean, color='red', linestyle='--', label='Forecast')\n",
    "plt.fill_between(forecast_mean.index, conf_int.iloc[:, 0], conf_int.iloc[:, 1],\n",
    "                 color='pink', alpha=0.3, label='95% Confidence Interval')\n",
    "plt.title(f\"Bitcoin Price Forecast with 95% Confidence Interval ({steps} Steps Ahead)\")\n",
    "plt.xlabel(\"Timestamp\")\n",
    "plt.ylabel(\"USD Price\")\n",
    "plt.legend()\n",
    "plt.grid(True)\n",
    "plt.savefig(\"bitcoin_forecast_plot.png\", dpi=300)\n",
    "plt.show()\n"
   ]
  },
  {
   "cell_type": "code",
   "execution_count": null,
   "id": "07b20c65-e854-41a0-9361-8726b11a7b32",
   "metadata": {
    "scrolled": true
   },
   "outputs": [],
   "source": [
    "!pip install pmdarima\n"
   ]
  },
  {
   "cell_type": "code",
   "execution_count": 70,
   "id": "f6256ca7-795e-408c-8996-1c3d31d54493",
   "metadata": {},
   "outputs": [],
   "source": [
    "ts.index = pd.to_datetime(ts.index)\n"
   ]
  },
  {
   "cell_type": "code",
   "execution_count": 71,
   "id": "c9148345-95c7-4ba4-abba-fbbb44a62e6a",
   "metadata": {},
   "outputs": [],
   "source": [
    "import warnings\n",
    "warnings.filterwarnings(\"ignore\")\n"
   ]
  },
  {
   "cell_type": "code",
   "execution_count": null,
   "id": "ea856c2e-a65a-4806-85eb-9f59e7d572fb",
   "metadata": {},
   "outputs": [],
   "source": [
    "logging.info(ts.isna().sum())\n"
   ]
  },
  {
   "cell_type": "code",
   "execution_count": null,
   "id": "09840dda-4dc6-4d0e-be4d-5a8f442a4baa",
   "metadata": {},
   "outputs": [],
   "source": [
    "from pmdarima import auto_arima\n",
    "\n",
    "# Automatically find best (p, d, q) based on AIC\n",
    "stepwise_model = auto_arima(ts, \n",
    "                            start_p=1, start_q=1,\n",
    "                            max_p=5, max_q=5,\n",
    "                            seasonal=False,\n",
    "                            trace=True,\n",
    "                            error_action='ignore',\n",
    "                            suppress_warnings=True)\n",
    "\n",
    "# View the model summary\n",
    "logging.info(stepwise_model.summary())\n"
   ]
  },
  {
   "cell_type": "code",
   "execution_count": 74,
   "id": "e34042bd-f3a0-4258-9459-ccfa540a67bf",
   "metadata": {},
   "outputs": [],
   "source": [
    "# Forecast n future steps (e.g., 50)\n",
    "steps = 50\n",
    "forecast_auto = stepwise_model.predict(n_periods=steps)\n",
    "\n",
    "# Align forecast with future dates\n",
    "freq = pd.to_timedelta(df.index.to_series().diff().mode()[0])\n",
    "future_dates = pd.date_range(start=ts.index[-1] + freq, periods=steps, freq=freq)\n",
    "\n",
    "# Convert forecast to Series with datetime index\n",
    "forecast_auto_series = pd.Series(forecast_auto, index=future_dates)\n"
   ]
  },
  {
   "cell_type": "code",
   "execution_count": null,
   "id": "12ae2f52-a550-4d43-93c7-3e8bcd5af2b4",
   "metadata": {},
   "outputs": [],
   "source": [
    "from pmdarima import auto_arima\n",
    "import pandas as pd\n",
    "import matplotlib.pyplot as plt\n",
    "\n",
    "# Ensure datetime index\n",
    "ts.index = pd.to_datetime(ts.index)\n",
    "ts = ts.sort_index()\n",
    "\n",
    "# Step 1: Auto-ARIMA model\n",
    "stepwise_model = auto_arima(ts, \n",
    "                            start_p=1, start_q=1,\n",
    "                            max_p=5, max_q=5,\n",
    "                            seasonal=False,\n",
    "                            trace=True,\n",
    "                            error_action='ignore',\n",
    "                            suppress_warnings=True)\n",
    "\n",
    "# Step 2: Forecast future steps\n",
    "steps = 100\n",
    "forecast_auto = stepwise_model.predict(n_periods=steps)\n",
    "\n",
    "# Step 3: Create future timestamps\n",
    "freq = pd.to_timedelta(df.index.to_series().diff().mode()[0])\n",
    "future_dates = pd.date_range(start=ts.index[-1] + freq, periods=steps, freq=freq)\n",
    "forecast_auto_series = pd.Series(forecast_auto, index=future_dates)"
   ]
  },
  {
   "cell_type": "markdown",
   "id": "601e6630-865b-4c33-968b-1ffaf69ac6c4",
   "metadata": {},
   "source": [
    "To enhance model selection, we implemented Auto-ARIMA, which automatically identified the optimal ARIMA(2,2,4) configuration based on AIC. The model generated a 100-step forecast of future Bitcoin prices, shown in green on the chart. As recent price behavior was relatively stable, the forecast reflects a smooth, slightly upward trend. A small visual offset was applied to make the forecast more distinguishable from historical data for presentation clarity.\n",
    "\n"
   ]
  },
  {
   "cell_type": "code",
   "execution_count": 76,
   "id": "25d0f25d-d62d-48c4-b49a-f7bb97a9e3af",
   "metadata": {},
   "outputs": [],
   "source": [
    "# Force forecast to valid float array (reshape if needed)\n",
    "forecast_auto = stepwise_model.predict(n_periods=steps)\n",
    "forecast_auto = pd.Series(forecast_auto)  # ensure it's Series\n",
    "\n",
    "# Create future index with same length\n",
    "future_dates = pd.date_range(start=ts.index[-1] + freq, periods=steps, freq=freq)\n",
    "\n",
    "# Assign index\n",
    "forecast_series = pd.Series(forecast_auto.values, index=future_dates)\n"
   ]
  },
  {
   "cell_type": "code",
   "execution_count": null,
   "id": "a5fe85f3-b9eb-4ded-b616-a105a6155439",
   "metadata": {},
   "outputs": [],
   "source": [
    "plt.figure(figsize=(12, 5))\n",
    "plt.plot(ts[-100:], label='Historical', color='blue')\n",
    "plt.plot(forecast_series, label='Auto-ARIMA Forecast', color='green', linestyle='--', marker='o')\n",
    "plt.axvline(x=ts.index[-1], color='gray', linestyle=':', label='Forecast Start')\n",
    "plt.title(\"Bitcoin Forecast using Auto-ARIMA (Fixed NaNs)\")\n",
    "plt.xlabel(\"Timestamp\")\n",
    "plt.ylabel(\"USD Price\")\n",
    "plt.legend()\n",
    "plt.grid(True)\n",
    "plt.show()\n"
   ]
  },
  {
   "cell_type": "code",
   "execution_count": null,
   "id": "91647e85-24b6-4684-b392-d77e84b9fb59",
   "metadata": {},
   "outputs": [],
   "source": [
    "# Forecast with confidence intervals\n",
    "forecast_mean, conf_int = stepwise_model.predict(n_periods=steps, return_conf_int=True)\n",
    "\n",
    "# Convert to Series\n",
    "forecast_series = pd.Series(forecast_mean, index=future_dates)\n",
    "conf_int_df = pd.DataFrame(conf_int, index=future_dates, columns=['Lower', 'Upper'])\n",
    "\n",
    "# Plot with shaded confidence band\n",
    "plt.figure(figsize=(12, 5))\n",
    "plt.plot(ts[-100:], label='Historical', color='blue')\n",
    "plt.plot(forecast_series, label='Auto-ARIMA Forecast', color='green', linestyle='--', marker='o')\n",
    "plt.fill_between(future_dates, conf_int_df['Lower'], conf_int_df['Upper'], \n",
    "                 color='green', alpha=0.2, label='95% Confidence Interval')\n",
    "plt.axvline(x=ts.index[-1], color='gray', linestyle=':', label='Forecast Start')\n",
    "plt.title(\"Bitcoin Forecast using Auto-ARIMA with 95% Confidence Interval\")\n",
    "plt.xlabel(\"Timestamp\")\n",
    "plt.ylabel(\"USD Price\")\n",
    "plt.legend()\n",
    "plt.grid(True)\n",
    "plt.tight_layout()\n",
    "plt.show()\n"
   ]
  },
  {
   "cell_type": "markdown",
   "id": "5edabbd6-ada4-45e0-9eaf-97cac6de83c8",
   "metadata": {},
   "source": [
    "### Manual ARIMA vs Auto-ARIMA Forecast Comparison"
   ]
  },
  {
   "cell_type": "code",
   "execution_count": null,
   "id": "8e9d4940-d5ef-4c91-b6a7-68f008283c6a",
   "metadata": {},
   "outputs": [],
   "source": [
    "ts.index = pd.to_datetime(ts.index)\n",
    "ts = ts.sort_index()\n",
    "\n",
    "steps = 100\n",
    "freq = pd.to_timedelta(ts.index.to_series().diff().mode()[0])\n",
    "future_dates = pd.date_range(start=ts.index[-1] + freq, periods=steps, freq=freq)\n",
    "\n",
    "manual_forecast = model_fit.forecast(steps=steps)\n",
    "manual_series = pd.Series(manual_forecast.values, index=future_dates)  # FIXED index\n",
    "\n",
    "auto_forecast, _ = stepwise_model.predict(n_periods=steps, return_conf_int=True)\n",
    "auto_series = pd.Series(auto_forecast.values, index=future_dates)  # FIXED index\n",
    "\n",
    "plt.figure(figsize=(12, 5))\n",
    "plt.plot(ts[-100:], label='Historical', color='blue', linewidth=1.5)\n",
    "plt.plot(manual_series, label='Manual ARIMA(5,1,0)', color='red', linestyle='--', linewidth=2)\n",
    "plt.plot(auto_series, label='Auto-ARIMA', color='green', linestyle='--', linewidth=2, marker='o')\n",
    "plt.axvline(x=ts.index[-1], color='gray', linestyle=':', label='Forecast Start')\n",
    "\n",
    "# Labels and layout\n",
    "plt.title(\"Manual ARIMA vs Auto-ARIMA Forecast (100 Steps Ahead)\")\n",
    "plt.xlabel(\"Timestamp\")\n",
    "plt.ylabel(\"USD Price\")\n",
    "plt.legend()\n",
    "plt.grid(True)\n",
    "plt.tight_layout()\n",
    "plt.show()\n"
   ]
  },
  {
   "cell_type": "code",
   "execution_count": null,
   "id": "3548fbbf-cfa3-43ef-8da7-de567c00c508",
   "metadata": {},
   "outputs": [],
   "source": [
    "logging.info(\"Manual ARIMA forecast:\\n%s\", manual_forecast.head())\n",
    "logging.info(\"Length: %d\", len(manual_forecast))\n",
    "\n",
    "logging.info(\"Auto-ARIMA forecast:\\n%s\", auto_forecast.head())\n",
    "logging.info(\"Length: %d\", len(auto_forecast))\n",
    "\n",
    "logging.info(\"Future index:\\n%s\", future_dates[:5])\n",
    "logging.info(\"Length: %d\", len(future_dates))\n"
   ]
  },
  {
   "cell_type": "markdown",
   "id": "c0467da4-0a4c-412f-97ea-f345d6c8697f",
   "metadata": {},
   "source": [
    "### 🔍 Forecast Comparison: Manual ARIMA vs Auto-ARIMA\n",
    "\n",
    "This plot compares the Bitcoin price forecast generated using:\n",
    "\n",
    "- **Manual ARIMA(5,1,0)**: A manually specified model with fixed order (p=5, d=1, q=0)\n",
    "- **Auto-ARIMA**: A model selected automatically using AIC optimization, which chose ARIMA(2,2,4)\n",
    "\n",
    "**Key observations:**\n",
    "- The **manual ARIMA** forecast is relatively flat, indicating a conservative outlook likely influenced by recent price stabilization.\n",
    "- The **Auto-ARIMA** forecast shows an upward trend, capturing momentum from the recent price increase.\n",
    "- Auto-ARIMA also adapts better to the data’s structure, using differencing (d=2) to ensure stationarity.\n",
    "\n",
    "This highlights the benefit of using model selection techniques like Auto-ARIMA, especially for volatile and evolving time series like cryptocurrency prices.\n"
   ]
  },
  {
   "cell_type": "code",
   "execution_count": null,
   "id": "ec3d6891-bcdb-4701-9e4e-46aa9f27b4d7",
   "metadata": {},
   "outputs": [],
   "source": [
    "from sklearn.metrics import mean_squared_error\n",
    "import numpy as np\n",
    "\n",
    "# Compare model predictions vs actual for last N steps (if real values available)\n",
    "# If not, use fitted values from training set\n",
    "actual = ts[-steps:]\n",
    "\n",
    "# Trim fitted values to match\n",
    "manual_fitted = model_fit.fittedvalues[-len(actual):]\n",
    "auto_fitted = pd.Series(stepwise_model.predict_in_sample(), index=ts.index)\n",
    "auto_fitted = auto_fitted[-len(actual):]\n",
    "\n",
    "# Calculate RMSE\n",
    "rmse_manual = np.sqrt(mean_squared_error(actual, manual_fitted))\n",
    "rmse_auto = np.sqrt(mean_squared_error(actual, auto_fitted))\n",
    "\n",
    "logging.info(f\" Manual ARIMA(5,1,0) RMSE: {rmse_manual:.2f}\")\n",
    "logging.info(f\" Auto-ARIMA RMSE: {rmse_auto:.2f}\")\n"
   ]
  },
  {
   "cell_type": "markdown",
   "id": "093016bf-fc14-4eed-a035-c165e0629191",
   "metadata": {},
   "source": [
    "### 📈 RMSE Comparison: Manual ARIMA vs Auto-ARIMA\n",
    "\n",
    "To evaluate model performance, we compared the Root Mean Squared Error (RMSE) on the training data:\n",
    "\n",
    "- 📊 **Manual ARIMA(5,1,0)** RMSE: **27.33**\n",
    "- 🤖 **Auto-ARIMA (ARIMA(2,2,4))** RMSE: **26.66**\n",
    "\n",
    "Although the difference is small, **Auto-ARIMA achieved a slightly lower RMSE**, indicating better fit to the historical Bitcoin price series. It also shows stronger responsiveness to recent trends in the forecast plot, reinforcing its suitability for dynamic time series like cryptocurrency markets.\n",
    "\n",
    "This demonstrates the value of data-driven model selection using tools like Auto-ARIMA over fixed manual configurations.\n"
   ]
  },
  {
   "cell_type": "markdown",
   "id": "5eb68b2d-b951-45dc-8f2a-f7b433e3fb02",
   "metadata": {},
   "source": [
    "## Results and Visualization\n"
   ]
  },
  {
   "cell_type": "markdown",
   "id": "79bc0331-fdcf-4572-9277-9c5a595340db",
   "metadata": {},
   "source": [
    "### Exploratory and Forecast Visualizations of Real-Time Bitcoin Prices using Dataprep.eda"
   ]
  },
  {
   "cell_type": "code",
   "execution_count": null,
   "id": "7b9a476f-a9d0-4e3a-a1d2-6d6de8449836",
   "metadata": {},
   "outputs": [],
   "source": [
    "from dataprep.eda import create_report\n",
    "\n",
    "# Generate a full interactive report of historical Bitcoin price data\n",
    "create_report(df)\n"
   ]
  },
  {
   "cell_type": "markdown",
   "id": "b29b2029-e834-4ac6-ae8b-566be5264234",
   "metadata": {},
   "source": [
    "### 📊 Dataprep.eda Summary & Project Alignment\n",
    "\n",
    "Using a single command—`create_report(df)`—**Dataprep.eda** generated a comprehensive exploratory data analysis report, offering immediate and actionable insights into the structure and quality of the Bitcoin price dataset. This automated report provided detailed summaries of variable distributions, missing values, statistical properties, and outlier detection without requiring any manual plotting or scripting.\n",
    "\n",
    "For instance, it identified that:\n",
    "- `price_usd` is slightly **left-skewed**, indicating clustering at higher values.\n",
    "- `price_change_pct` is highly **right-skewed**, with over **66%** of the values being zero, highlighting limited short-term price fluctuations.\n",
    "\n",
    "These insights are critical for time series modeling, particularly in financial datasets where subtle shifts can affect forecasting outcomes. Additionally, the visualizations—such as KDE plots, Q-Q plots, correlation matrices, and missing value heatmaps—offered an in-depth view of the dataset's behavior over time.\n",
    "\n",
    "Overall, **Dataprep.eda** demonstrated its effectiveness by simplifying traditionally complex and time-consuming data profiling tasks. It successfully supported the project’s objective by enabling efficient, scalable, and visually rich analysis of real-time Bitcoin price trends within a big data context.\n",
    "\n",
    "\n",
    "\n",
    "\n",
    "\n",
    "\n"
   ]
  },
  {
   "cell_type": "markdown",
   "id": "b675ce91-38cb-4160-b0ae-ef48f63aaf27",
   "metadata": {},
   "source": [
    "### Univariate Plot (price_usd only)"
   ]
  },
  {
   "cell_type": "code",
   "execution_count": null,
   "id": "1c6c9a6a-1e88-4779-b909-25ed20d8b42e",
   "metadata": {},
   "outputs": [],
   "source": [
    "from dataprep.eda import plot\n",
    "\n",
    "plot(df, \"price_usd\")\n"
   ]
  },
  {
   "cell_type": "markdown",
   "id": "917abaf8-1882-4469-84fc-8aa9cb98b7c2",
   "metadata": {},
   "source": [
    "### Correlation Heatmap\n"
   ]
  },
  {
   "cell_type": "code",
   "execution_count": null,
   "id": "443d8445-0761-41b1-a4fd-d9fae65c58dc",
   "metadata": {},
   "outputs": [],
   "source": [
    "from dataprep.eda import plot_correlation\n",
    "\n",
    "# Shows correlation between all numerical variables\n",
    "plot_correlation(df)\n"
   ]
  },
  {
   "cell_type": "markdown",
   "id": "b39e6fa6-1d13-41e1-ac29-e2b37844bfbe",
   "metadata": {},
   "source": [
    "### Missing Values Visualization"
   ]
  },
  {
   "cell_type": "code",
   "execution_count": null,
   "id": "8049af52-f38b-466d-94ee-2bb18446f18c",
   "metadata": {},
   "outputs": [],
   "source": [
    "from dataprep.eda import plot_missing\n",
    "\n",
    "# Visualize where missing data exists in the dataset\n",
    "plot_missing(df)\n"
   ]
  },
  {
   "cell_type": "markdown",
   "id": "95e993d4-a79f-40e3-9643-9fd1c0f3483f",
   "metadata": {},
   "source": [
    "### Value Distribution Across All Columns"
   ]
  },
  {
   "cell_type": "code",
   "execution_count": null,
   "id": "a1d5e19b-8e13-4465-be36-27bcc59a244e",
   "metadata": {},
   "outputs": [],
   "source": [
    "plot(df, \"price_usd\", \"price_change_pct\")\n"
   ]
  },
  {
   "cell_type": "markdown",
   "id": "f2966ca4-1520-4908-8871-2d7ac6252bb1",
   "metadata": {},
   "source": [
    "### Time Granularity Binning"
   ]
  },
  {
   "cell_type": "code",
   "execution_count": null,
   "id": "f5dbca1e-cd2c-4e3d-b07d-db52603b897c",
   "metadata": {},
   "outputs": [],
   "source": [
    "df[\"hour\"] = df.index.hour\n",
    "plot(df, \"hour\", \"price_usd\")\n"
   ]
  },
  {
   "cell_type": "markdown",
   "id": "26c25fa2-5458-4c26-8ebf-80d8477f15d7",
   "metadata": {},
   "source": [
    "###  Dataprep.eda Summary & Project Alignment\n",
    "\n"
   ]
  },
  {
   "cell_type": "code",
   "execution_count": null,
   "id": "ad32d555-7a20-495c-8d84-a5a779cf162b",
   "metadata": {},
   "outputs": [],
   "source": [
    "create_report(df, title=\"Bitcoin Data EDA\")"
   ]
  },
  {
   "cell_type": "markdown",
   "id": "c1c30775-fb0e-4ee3-8451-2674f84e4935",
   "metadata": {},
   "source": [
    "## ✅ Final Summary: Bitcoin Time Series Forecasting & Visualization with Dataprep.eda\n",
    "\n",
    "This project successfully demonstrates how real-time Bitcoin price data can be ingested, analyzed, and forecasted using Python-based tools, with a focus on the `Dataprep.eda` library for automated exploratory data analysis. In this analysis, we explored Bitcoin price trends using Dataprep and applied ARIMA for forecasting. The model captured the trend reasonably well, but further tuning and testing with additional features could improve accuracy.\n",
    "\n",
    "Dataprep significantly streamlined the time series workflow by automating key data preparation tasks such as cleaning, exploration, and visualization. With simple commands like clean_headers() and create_report(), it enabled rapid preprocessing and insight generation without manual coding. For this Bitcoin price forecasting project, Dataprep’s EDA tools made it easy to detect trends, missing values, and anomalies, setting a strong foundation for time series modeling. While the forecasting itself used ARIMA models from other libraries, Dataprep played a critical role in preparing and understanding the data efficiently before modeling.\n",
    "\n",
    "\n",
    "\n",
    "### 📌 Visualization Objective\n",
    "> *\"Generate insightful visualizations of historical Bitcoin prices, forecast results, and potential future trends using the visualization capabilities of Dataprep library.\"*\n",
    "\n",
    "### ✅ Accomplishments\n",
    "\n",
    "- **Historical Data Exploration**:\n",
    "  - Used `plot()` and `create_report()` to analyze the distribution, skewness, and time-based trends of Bitcoin prices.\n",
    "  - Verified data quality (missing values, duplicates, outliers) with `plot_missing()` and EDA summary.\n",
    "\n",
    "- **Forecast Result Visualization**:\n",
    "  - Implemented and compared both **manual ARIMA(5,1,0)** and **Auto-ARIMA** models.\n",
    "  - Visualized forecasts over time with proper alignment and confidence intervals.\n",
    "  - Evaluated forecast performance using RMSE metrics.\n",
    "\n",
    "- **Future Trend Insights**:\n",
    "  - Forecasts extended 100 time steps beyond the current dataset, clearly showing trend continuation or flattening.\n",
    "  - Used confidence bands and time-aligned plotting to communicate uncertainty and directionality.\n",
    "\n",
    "### 🎯 Outcome\n",
    "All visualizations were generated with minimal code using Dataprep's high-level APIs, proving its value in simplifying complex time series workflows. This directly supports the project’s main goal: to showcase how `Dataprep.eda` can handle real-time Bitcoin price data efficiently in a big data context.\n",
    "\n"
   ]
  },
  {
   "cell_type": "markdown",
   "id": "e47d48c9-292d-45e1-9ab2-908246f83fff",
   "metadata": {},
   "source": [
    "### End of Notebook"
   ]
  }
 ],
 "metadata": {
  "kernelspec": {
   "display_name": "Python 3 (ipykernel)",
   "language": "python",
   "name": "python3"
  },
  "language_info": {
   "codemirror_mode": {
    "name": "ipython",
    "version": 3
   },
   "file_extension": ".py",
   "mimetype": "text/x-python",
   "name": "python",
   "nbconvert_exporter": "python",
   "pygments_lexer": "ipython3",
   "version": "3.10.17"
  }
 },
 "nbformat": 4,
 "nbformat_minor": 5
}
