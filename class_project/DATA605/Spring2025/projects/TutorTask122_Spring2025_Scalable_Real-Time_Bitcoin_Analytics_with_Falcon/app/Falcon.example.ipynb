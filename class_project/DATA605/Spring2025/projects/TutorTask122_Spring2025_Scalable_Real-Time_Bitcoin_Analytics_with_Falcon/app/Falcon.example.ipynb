{
 "cells": [
  {
   "cell_type": "markdown",
   "id": "ab769b74",
   "metadata": {},
   "source": [
    "# Falcon API: Real-Time Bitcoin Analysis\n",
    "\n",
    "#### Author: Emily Castelan Moreno\n",
    "#### DATA605 Spring 2025"
   ]
  },
  {
   "cell_type": "markdown",
   "id": "992c7cd5",
   "metadata": {},
   "source": [
    "-----------------------------------------------------------------------------------------------------------------------"
   ]
  },
  {
   "cell_type": "markdown",
   "id": "9c669dc3",
   "metadata": {},
   "source": [
    "**Notebook is served on Jupyter Server (port 8889)**  \n",
    "To access it in VS Code or a browser, paste the following URL: http://localhost:8889/"
   ]
  },
  {
   "cell_type": "markdown",
   "id": "cdb52c5d",
   "metadata": {},
   "source": [
    "### Project Description:\n",
    "This notebook demonstrates a real-time and near real-time Bitcoin trade data ingestion pipeline. This notebook utilizes the Falcon API system designed in the app. The app integrates a persistent WebSocket connection, a Falcon API server, Redis and Redis TimeSeries-backed Celery workers, and container orchestration. This setup required extensive debugging across async message flows, Redis compatibility, and Docker networking."
   ]
  },
  {
   "cell_type": "markdown",
   "id": "27e8378e",
   "metadata": {},
   "source": [
    "### High Level System Overview\n",
    "```\n",
    "1. Notebook\n",
    "   |\n",
    "   |  (HTTP POST to Falcon API /route/resource)\n",
    "   ▼\n",
    "2. Falcon API (e.g., KlineIngestResource or LSTM endpoints)\n",
    "   |\n",
    "   |  (Dispatch task via Celery .apply_async)\n",
    "   ▼\n",
    "3. Celery Worker\n",
    "   |\n",
    "   |  (Runs Python logic: process, train, or predict)\n",
    "   ▼\n",
    "4. RedisTimeSeries\n",
    "   |\n",
    "   |  - Stores ingested candles\n",
    "   |  - Serves input to models\n",
    "   ▼\n",
    "5. Notebook\n",
    "   |\n",
    "   |  ← Receives predictions or anomaly results\n",
    "\n",
    "```"
   ]
  },
  {
   "cell_type": "markdown",
   "id": "091268fc",
   "metadata": {},
   "source": [
    "This setup enables scalable, asynchronous prediction calls that can be triggered from a notebook, dashboard, or API client, while keeping the model execution offloaded to background workers."
   ]
  },
  {
   "cell_type": "markdown",
   "id": "26480755",
   "metadata": {},
   "source": [
    "-----------------"
   ]
  },
  {
   "cell_type": "code",
   "execution_count": 14,
   "id": "8b94c923",
   "metadata": {},
   "outputs": [
    {
     "name": "stdout",
     "output_type": "stream",
     "text": [
      "The autoreload extension is already loaded. To reload it, use:\n",
      "  %reload_ext autoreload\n"
     ]
    }
   ],
   "source": [
    "# Use this code block to restart the Jupyter Notebook cache.\n",
    "%load_ext autoreload\n",
    "%autoreload 2\n",
    "\n",
    "# Once set up use: %reload_ext autoreload"
   ]
  },
  {
   "cell_type": "markdown",
   "id": "522ac06e",
   "metadata": {},
   "source": [
    "# 1. Environment Setup"
   ]
  },
  {
   "cell_type": "markdown",
   "id": "5a115590",
   "metadata": {},
   "source": [
    "The docker_config folder contains all files needed to build the services required for the app and this Notebook.\n",
    "The docker_config utilizes:\n",
    "* requirements.txt = all Python packages, and versions for compatability\n",
    "* docker-compose.yml = coordinates 6 docker containers on a custom bridge network\n",
    "* DockerFile = defines the base image for all Falcon system components\n",
    "* start_services.sh = shell script containts the entry point for falcon_api and launches Jupyter server on port `8889`"
   ]
  },
  {
   "cell_type": "code",
   "execution_count": null,
   "id": "5d5738e1",
   "metadata": {},
   "outputs": [
    {
     "name": "stdout",
     "output_type": "stream",
     "text": [
      "[RESET] Deleted key: ts:coinbase:btc_usd:1d:open\n",
      "[RESET] Deleted key: ts:coinbase:btc_usd:1d:high\n",
      "[RESET] Deleted key: ts:coinbase:btc_usd:1d:low\n",
      "[RESET] Deleted key: ts:coinbase:btc_usd:1d:close\n",
      "[RESET] Deleted key: ts:coinbase:btc_usd:1d:volume\n",
      "[RESET] Re-created key: ts:coinbase:btc_usd:1d:open with DUPLICATE_POLICY=last\n",
      "[RESET] Re-created key: ts:coinbase:btc_usd:1d:high with DUPLICATE_POLICY=last\n",
      "[RESET] Re-created key: ts:coinbase:btc_usd:1d:low with DUPLICATE_POLICY=last\n",
      "[RESET] Re-created key: ts:coinbase:btc_usd:1d:close with DUPLICATE_POLICY=last\n",
      "[RESET] Re-created key: ts:coinbase:btc_usd:1d:volume with DUPLICATE_POLICY=last\n"
     ]
    }
   ],
   "source": [
    "\"\"\"\n",
    "Notebook Requirements to run Falcon app\n",
    "\"\"\"\n",
    "\n",
    "##########################################\n",
    "# Standard Library Imports\n",
    "##########################################\n",
    "from datetime import datetime, timedelta\n",
    "import importlib\n",
    "import json\n",
    "\n",
    "##########################################\n",
    "# Third-Party Imports\n",
    "##########################################\n",
    "import numpy as np\n",
    "import requests\n",
    "import redis\n",
    "import celery\n",
    "from sklearn.metrics import mean_absolute_error, median_absolute_error, r2_score\n",
    "from typing import Sequence\n",
    "import matplotlib.pyplot as plt\n",
    "\n",
    "\n",
    "##########################################\n",
    "# Local Module Imports\n",
    "##########################################\n",
    "import Falcon_functions\n",
    "from Falcon_functions import reset_timeseries_keys\n",
    "from Falcon_utils import train_lstm_and_save, load_lstm_and_predict\n",
    "from Falcon_Celery_Tasks_lstm import train, predict\n",
    "\n",
    "# Reload Falcon_functions in case it was modified\n",
    "importlib.reload(Falcon_functions)\n",
    "\n",
    "##########################################\n",
    "# Initialization\n",
    "##########################################\n",
    "reset_timeseries_keys(\"coinbase\", \"btc_usd\", \"1d\")\n",
    "# This will reset the keys and set the duplicate policy to be the last timestamp input \n"
   ]
  },
  {
   "cell_type": "markdown",
   "id": "02d86e57",
   "metadata": {},
   "source": [
    "---"
   ]
  },
  {
   "cell_type": "markdown",
   "id": "cda65254",
   "metadata": {},
   "source": [
    "# Source Historical Data (Candles)"
   ]
  },
  {
   "cell_type": "markdown",
   "id": "a0b61bd1",
   "metadata": {},
   "source": [
    "This notebook uses the Falcon endpoint defined in `Falcon_ingest_endpoint2.py` to source historical Bitcoin candle data.  \n",
    "Candles are a standard format in financial trading that summarize market activity over a time interval. Each candle includes the following:  \n",
    "**Open:** the price at the beginning of the interval  \n",
    "**High:** the highest price during the interval  \n",
    "**Low:** the lowest price during the interval  \n",
    "**Close:** the price at the end of the interval  \n",
    "**Volume:** the total trading volume during the interval  \n",
    "\n",
    "The `resolution` is the interval of time, which Coinbase expects to be in seconds. A resolution map is defined and utilized to set parameters for the user to facilitate easier and practical models.  \n",
    "**1m:** 60 sec  \n",
    "**5m\":** 300 sec  \n",
    "**15m\":** 900 sec  \n",
    "**1h\":** 3600 sec  \n",
    "**1d\":** 86400 sec  \n",
    "These features are well-suited for training machine learning models to predict future prices or detect anomalies.  \n",
    "The Falcon API routes incoming data through multiple Celery workers, which handle:  \n",
    "* Processing incoming candles  \n",
    "* Training LSTM models  \n",
    "* Generating predictions  \n",
    "* Intermediate results are cached in Redis for fast access and reusability  \n",
    "\n",
    "Each call to select_candles retrieves a set of candle data from the Coinbase API, identified by the symbol BTC-USD, and stores it under a unique model_id."
   ]
  },
  {
   "cell_type": "code",
   "execution_count": 16,
   "id": "5359eff2",
   "metadata": {},
   "outputs": [],
   "source": [
    "from datetime import datetime,timedelta\n",
    "'''select_candles\n",
    "Function facilitates building the payload and requests it to the Falcon endpoint\n",
    "Parameters: \n",
    "    start time = input by user in datetime\n",
    "    end time = input by user in datetime\n",
    "    model id = redis db cache index\n",
    "    symbol = type of cryptocurrency\n",
    "    resolution = interval of time refer to RESOLUTION_MAP\n",
    "    url = default set to Falcon endpoint\n",
    "Returns:\n",
    "    json response, confirms process was successful:\n",
    "        Response: {'platform': 'coinbase', 'msg': 'Processing: {number} candles'}\n",
    "'''\n",
    "# Define endpoint.\n",
    "def select_candles(start_time, end_time, model_id, symbol, resolution, url=\"http://falcon_api:8888/ingest/kline/coinbase\"):\n",
    "    # Convert to ISO 8601 strings.\n",
    "    # because your Falcon endpoint expects timestamp inputs in ISO 8601 format.\n",
    "    start_iso = start_time.isoformat() + \"Z\"\n",
    "    end_iso = end_time.isoformat() + \"Z\"\n",
    "\n",
    "    # Build payload.\n",
    "    payload = {\n",
    "        \"model_id\": model_id,\n",
    "        \"symbol\": symbol,\n",
    "        \"resolution\": resolution,\n",
    "        \"start\": start_iso,\n",
    "        \"end\": end_iso\n",
    "    }\n",
    " \n",
    "    # Send POST request to Falcon endpoint. \n",
    "    response = requests.post(url, json=payload)\n",
    "\n",
    "    # Output response.\n",
    "    print(\"Status:\", response.status_code)\n",
    "    return response.json()"
   ]
  },
  {
   "cell_type": "markdown",
   "id": "9b971d78",
   "metadata": {},
   "source": [
    "### Load 4 Sets of Candle Data \n",
    "To evaluate model performance under different historical conditions and time resolutions, we pull Bitcoin candle data using the `select_candles()` function across four distinct time periods.\n",
    "These cases are designed to expose the model to a variety of market behaviors including price spikes and dips.  \n",
    "\n",
    "**Case 1** — 1 Day of Hourly Candles (model_id=2)  \n",
    "Recent market data sampled at a fine resolution of 1-hour intervals.  \n",
    "Useful for testing short-term prediction and system responsiveness.  \n",
    "\n",
    "**Case 2** — 30 Days of Daily Candles (model_id=3)  \n",
    "One month, the past 30 days, of daily candles to train models on medium-term patterns.  \n",
    "\n",
    "**Case 3** — 60-Day Bear Period: Jan–Mar 2020 (model_id=4)   \n",
    "Captures a market downturn during early COVID-19 period to test performance under low price conditions. \n",
    "\n",
    "**Case 4** — 60-Day Bull Period: Feb–Apr 2024 (model_id=5)   \n",
    "Represents a high-growth window to evaluate how the model performs under upward momentum.\n",
    "\n",
    "Each of the 4 cases are callted twice to demonstrate different features in this Notebook.\n"
   ]
  },
  {
   "cell_type": "code",
   "execution_count": 17,
   "id": "b1500966",
   "metadata": {},
   "outputs": [
    {
     "name": "stdout",
     "output_type": "stream",
     "text": [
      "Status: 200\n",
      "Status: 200\n",
      "Status: 200\n",
      "Status: 200\n",
      "Status: 200\n",
      "Status: 200\n",
      "Status: 200\n",
      "Status: 200\n"
     ]
    },
    {
     "data": {
      "text/plain": [
       "{'platform': 'coinbase', 'msg': 'Processing: 60 candles'}"
      ]
     },
     "execution_count": 17,
     "metadata": {},
     "output_type": "execute_result"
    }
   ],
   "source": [
    "\n",
    "####################################################################################\n",
    "####################################################################################\n",
    "# SECOND SET OF DATA PULLS FOR SAME 4 CASES \n",
    "####################################################################################\n",
    "####################################################################################\n",
    "# A second set of data pulls are called for the purposes of demonstrating the app features \n",
    "##################################################\n",
    "# Case 1: Last 24 hours from now (2ND ITERATION)\n",
    "##################################################\n",
    "end_time = datetime.utcnow()\n",
    "start_time = end_time - timedelta(days=1)\n",
    "# one day\n",
    "select_candles(start_time,\n",
    "            end_time,\n",
    "            model_id=6,\n",
    "            symbol=\"BTC-USD\",\n",
    "            resolution=\"1h\")\n",
    "##########################################\n",
    "# Case 2: Last 30 days from now (2ND ITERATION)\n",
    "##########################################\n",
    "end_time = datetime.utcnow()\n",
    "start_time = end_time - timedelta(days=30)\n",
    "# thirty days\n",
    "select_candles(start_time,\n",
    "            end_time,\n",
    "            model_id=7,\n",
    "            symbol=\"BTC-USD\",\n",
    "            resolution=\"1d\")\n",
    "##########################################\n",
    "# Case 3: 60 days from Jan 2020 to March 2020 (2ND ITERATION)\n",
    "##########################################\n",
    "# 60 days low Jan 2020 to March 2020\n",
    "end_time = datetime(2020, 3, 1)\n",
    "start_time = end_time - timedelta(days=60)\n",
    "select_candles(start_time,\n",
    "            end_time,\n",
    "            model_id=8,\n",
    "            symbol=\"BTC-USD\",\n",
    "            resolution=\"1d\")\n",
    "##########################################\n",
    "# Case 4: 60 days from Feb 2024 to April 2024 (2ND ITERATION)\n",
    "##########################################\n",
    "# 60 day high Feb to April 2024\n",
    "end_time = datetime(2024, 2, 1)\n",
    "start_time = end_time - timedelta(days=60)\n",
    "select_candles(start_time,\n",
    "            end_time,\n",
    "            model_id=9,\n",
    "            symbol=\"BTC-USD\",\n",
    "            resolution=\"1d\")"
   ]
  },
  {
   "cell_type": "markdown",
   "id": "8f002d07",
   "metadata": {},
   "source": [
    "---"
   ]
  },
  {
   "cell_type": "markdown",
   "id": "d50403eb",
   "metadata": {},
   "source": [
    "# Train LSTM Models On Historical Data"
   ]
  },
  {
   "cell_type": "markdown",
   "id": "ce6ba427",
   "metadata": {},
   "source": [
    "To forecast the future price of Bitcoin, this system uses Long Short-Term Memory (LSTM) models. LSTM is a type of recurrent neural network (RNN), which is ideal for modeling financial data due to the time series format. In this first version, the LSTM is designed to predict only the next closing price in the sequence, based on a sliding window of past values.\n",
    "\n",
    "The pipeline uses the Falcon API to offload training to a Celery worker. Users can call the train_models() function, which sends a training request to the endpoint `/lstm/train`."
   ]
  },
  {
   "cell_type": "markdown",
   "id": "ad125f7f",
   "metadata": {},
   "source": [
    "---"
   ]
  },
  {
   "cell_type": "markdown",
   "id": "e1f5c03f",
   "metadata": {},
   "source": [
    "# Train LSTM Model to Predict n Steps into the Future"
   ]
  },
  {
   "cell_type": "markdown",
   "id": "58e02fcd",
   "metadata": {},
   "source": [
    "In addition to single-step forecasting, this notebook supports multi-step prediction, allowing the model to forecast n future time steps in a single forward pass. This is crucial for building practical financial forecasting tools, where anticipating multiple future prices is often more valuable than just predicting the next one.  \n",
    "There are two main strategies for performing multi-step predictions with LSTMs:  \n",
    "1. **Recursive Prediction**  \n",
    "Predict one step ahead, then feed that prediction back into the input sequence to predict the next, repeating this process n times.  \n",
    "Drawback: Accumulates error over time and increases memory/compute cost due to repeated forward passes.  \n",
    "2. **Direct Multi-Output Prediction (Selected Approach)**\n",
    "Train the LSTM to output all n future values in a single pass.\n",
    "Achieved using a RepeatVector to LSTM to  TimeDistributed, Dense, architecture.  \n",
    "Benefits: Faster and more memory-efficient, avoids compounding error.   \n",
    "\n",
    "This implementation uses the second approach to build a direct multi-output LSTM that learns to forecast a fixed number of future values without recursion. The model takes a sliding window of past `seq_len` prices and directly predicts the next `nsteps` values in one batch."
   ]
  },
  {
   "cell_type": "code",
   "execution_count": null,
   "id": "d1b56249",
   "metadata": {},
   "outputs": [],
   "source": [
    "'''train_models_n\n",
    "Function facilitates trains a multi-step LSTM model using time series data from RedisTimeSeries.\n",
    "    Parameters:\n",
    "        model_name (str): Name to assign the trained model and normalization config.\n",
    "        symbol (str): Asset symbol in the format expected by Redis, expected bitcoin\n",
    "        resolution (str): Time resolution of the candle data, refer to RESOLUTION_MAP.\n",
    "        seq_len (int): Number of historical time steps used as input.\n",
    "        model_id (int): Redis database ID to pull data from, should match data pull.\n",
    "        nsteps (int): Number of future time steps to predict.\n",
    "        training_epochs (int): Number of epochs to train the LSTM model.\n",
    "\n",
    "    Returns:\n",
    "        list: A list containing:\n",
    "            - model (keras.Model): The trained Keras LSTM model.\n",
    "            - min_val (float): Minimum value from the original time series.\n",
    "            - max_val (float): Maximum value from the original time series.\n",
    "'''\n",
    "def train_models_n(model_name, symbol,resolution ,seq_len, model_id, nsteps, training_epochs,\n",
    "                    url=\"http://falcon_api:8888/lstm/trainnsteps\"):\n",
    "    # Build payload\n",
    "    payload = {\n",
    "    \"model_name\": model_name,\n",
    "    \"symbol\": symbol,\n",
    "    \"resolution\": resolution,\n",
    "    \"seq_len\": seq_len,\n",
    "    \"model_id\":model_id,\n",
    "    \"nsteps\":nsteps,\n",
    "    \"training_epochs\": training_epochs\n",
    "    } \n",
    "    response = requests.post(url, json=payload)\n",
    "\n",
    "    # Output response \n",
    "    print(\"Status:\", response.status_code)\n",
    "    return response.json()"
   ]
  },
  {
   "cell_type": "code",
   "execution_count": null,
   "id": "378132d8",
   "metadata": {},
   "outputs": [
    {
     "name": "stdout",
     "output_type": "stream",
     "text": [
      "Status: 200\n",
      "Status: 200\n",
      "Status: 200\n",
      "Status: 200\n",
      "{'msg': 'Training 6 for 10 steps'}\n",
      "{'msg': 'Training 7 for 10 steps'}\n",
      "{'msg': 'Training 8 for 10 steps'}\n",
      "{'msg': 'Training 9 for 10 steps'}\n"
     ]
    }
   ],
   "source": [
    "# Use the train_models_n on the 4 examples.\n",
    "# Parameters: model_name, symbol,resolution ,seq_len, model_id, nsteps, training_epochs\n",
    "# Returns: json message \n",
    "\n",
    "##########################################\n",
    "# Case 1: Last 24 hours from now TRAIN N_STEPS\n",
    "##########################################\n",
    "train_model_1day_n = train_models_n(\n",
    "    \"model_1dx\", # model_name\n",
    "    \"btc_usd\",   # symbol\n",
    "    \"1h\",        # resolution\n",
    "    10,          # sequence length\n",
    "    6,           # RedisTS db as model_id\n",
    "    10,          # nsteps\n",
    "    5            # training_epochs\n",
    ")\n",
    "\n",
    "##########################################\n",
    "# Case 2: Last 30 days from now TRAIN N_STEPS\n",
    "##########################################\n",
    "train_model_30day_n = train_models_n(\n",
    "    \"model_30dayx\",\n",
    "    \"btc_usd\",\n",
    "    \"1d\",\n",
    "    10,\n",
    "    7,\n",
    "    10,\n",
    "    5\n",
    ")\n",
    "##########################################\n",
    "# Case 3: 60 days from Jan 2020 to March 2020 TRAIN N_STEPS\n",
    "##########################################\n",
    "train_model_60daylow_n = train_models_n(\n",
    "    \"model_60daylowx\",\n",
    "    \"btc_usd\",\n",
    "    \"1d\",\n",
    "    10,\n",
    "    8,\n",
    "    10,\n",
    "    5\n",
    ")\n",
    "##########################################\n",
    "# Case 4: 60 days from Feb 2024 to April 2024 TRAIN N_STEPS\n",
    "##########################################s\n",
    "train_model_60dayhigh_n = train_models_n(\n",
    "    \"model_60dayhighx\",\n",
    "    \"btc_usd\",\n",
    "    \"1d\",\n",
    "    10,\n",
    "    9,\n",
    "    10,\n",
    "    5\n",
    ")\n",
    "##########################################\n",
    "# Confirm the model trained a price on the right redis db with the right number of steps\n",
    "##########################################s\n",
    "print(train_model_1day_n)\n",
    "print(train_model_30day_n)\n",
    "print(train_model_60daylow_n)\n",
    "print(train_model_60dayhigh_n)"
   ]
  },
  {
   "cell_type": "markdown",
   "id": "e4ad9123",
   "metadata": {},
   "source": [
    "---"
   ]
  },
  {
   "cell_type": "markdown",
   "id": "963df460",
   "metadata": {},
   "source": [
    "# Use LSTM Models to Predict Bitcoin Prices n steps into the Future"
   ]
  },
  {
   "cell_type": "markdown",
   "id": "17e99f3e",
   "metadata": {},
   "source": [
    "Once a multi-output LSTM model has been trained, it can be used to generate predictions for multiple future time steps using only the most recent historical data. This section utilizes a `predict_models_n` function to facilitate predicting for the user. Because this app uses the **Direct Multi-Output Prediction**, the number of steps cannot be defined at this point, it must have already been set at the train step."
   ]
  },
  {
   "cell_type": "code",
   "execution_count": null,
   "id": "a1022739",
   "metadata": {},
   "outputs": [],
   "source": [
    "'''predict_models_n\n",
    "Function facilitates making requests to the Falcon API endpoint to predict n steps ahead. This function sends a JSON payload to \n",
    "the `/lstm/predictnsteps` Falcon endpoint.\n",
    "\n",
    "    Note:\n",
    "        Because this system uses the Direct Multi-Output Prediction strategy,\n",
    "        the number of prediction steps `nsteps` is fixed during training \n",
    "        and cannot be set at inference time.\n",
    "\n",
    "    Parameters:\n",
    "        model_name (str): Name of the trained model to load.\n",
    "        symbol (str): Asset symbol to query, bitcoin expected.\n",
    "        resolution (str): Time resolution of the input data, refer to RESOLUTION_MAP.\n",
    "        seq_len (int): Number of historical time steps used as input.\n",
    "        model_id (int): Redis database ID for selecting the corresponding dataset.\n",
    "        url (str): Falcon endpoint for multi-step prediction (default: http://falcon_api:8888/lstm/predictnsteps).\n",
    "\n",
    "    Returns:\n",
    "        dict: JSON response containing predicted values and any returned metadata.\n",
    "\n",
    "'''\n",
    "def predict_models_n(model_name, symbol,resolution ,seq_len, model_id,\n",
    "                    url=\"http://falcon_api:8888/lstm/predictnsteps\"):\n",
    "    # Build payload\n",
    "    payload = {\n",
    "    \"model_name\": model_name,\n",
    "    \"symbol\": symbol,\n",
    "    \"resolution\": resolution,\n",
    "    \"seq_len\": seq_len,\n",
    "    \"model_id\":model_id\n",
    "    } \n",
    "    response = requests.post(url, json=payload)\n",
    "\n",
    "    # Output response \n",
    "    #print(\"Status:\", response.status_code)\n",
    "    return response.json()"
   ]
  },
  {
   "cell_type": "markdown",
   "id": "182457fd",
   "metadata": {},
   "source": [
    "Utilize the function above `predict_models_n` on the 4 use cases."
   ]
  },
  {
   "cell_type": "code",
   "execution_count": null,
   "id": "bbb0ee86",
   "metadata": {},
   "outputs": [
    {
     "name": "stdout",
     "output_type": "stream",
     "text": [
      "Predicted prices [102390.78915806879, 102518.17623740397, 102632.52091531582, 102732.17651049986, 102817.13076623276, 102888.32072164997, 102947.16803030147, 102995.27851248234, 103034.25754623473, 103065.60544294656] for model: 6 in increments of 1h\n",
      "[102390.78915806879, 102518.17623740397, 102632.52091531582, 102732.17651049986, 102817.13076623276, 102888.32072164997, 102947.16803030147, 102995.27851248234, 103034.25754623473, 103065.60544294656]\n",
      "======================================\n",
      "Predicted prices [87135.28275579095, 88510.49148027539, 89542.17188539803, 90325.30703577399, 90926.28857447744, 91391.71520640016, 91754.754986099, 92039.42651014209, 92263.45368001342, 92440.1386245966] for model: 7 in increments of 1d\n",
      "[87135.28275579095, 88510.49148027539, 89542.17188539803, 90325.30703577399, 90926.28857447744, 91391.71520640016, 91754.754986099, 92039.42651014209, 92263.45368001342, 92440.1386245966]\n",
      "======================================\n",
      "Predicted prices [7131.010744933859, 7268.236630150378, 7389.223159735054, 7494.191176405549, 7584.183039409071, 7660.6369451423, 7725.133638347239, 7779.247175430209, 7824.4606820657855, 7862.122445038855] for model: 8 in increments of 1d\n",
      "[7131.010744933859, 7268.236630150378, 7389.223159735054, 7494.191176405549, 7584.183039409071, 7660.6369451423, 7725.133638347239, 7779.247175430209, 7824.4606820657855, 7862.122445038855]\n",
      "======================================\n",
      "Predicted prices [40186.88990186832, 40720.23175411999, 41192.13960073486, 41603.28010573894, 41956.65868429631, 42256.772493734956, 42508.94171002597, 42718.79688056975, 42891.91021896869, 43033.55692628086] for model: 9 in increments of 1d\n",
      "[40186.88990186832, 40720.23175411999, 41192.13960073486, 41603.28010573894, 41956.65868429631, 42256.772493734956, 42508.94171002597, 42718.79688056975, 42891.91021896869, 43033.55692628086]\n"
     ]
    }
   ],
   "source": [
    "##########################################\n",
    "# Case 1: Last 24 hours from now PREDICT N_STEPS\n",
    "##########################################\n",
    "predict_model_1day_n = predict_models_n(\n",
    "    \"model_1dx\",\n",
    "    \"btc_usd\",\n",
    "    \"1h\",\n",
    "    10,\n",
    "    6\n",
    ")\n",
    "##########################################\n",
    "# Case 2: Last 30 days from now PREDICT N_STEPS\n",
    "##########################################\n",
    "predict_model_30day_n = predict_models_n(\n",
    "    \"model_30dayx\",\n",
    "    \"btc_usd\",\n",
    "    \"1d\",\n",
    "    10,\n",
    "    7\n",
    ")\n",
    "##########################################\n",
    "# Case 3: 60 days from Jan 2020 to March 2020 PREDICT N_STEPS\n",
    "##########################################\n",
    "predict_model_60daylow_n = predict_models_n(\n",
    "    \"model_60daylowx\",\n",
    "    \"btc_usd\",\n",
    "    \"1d\",\n",
    "    10,\n",
    "    8\n",
    ")\n",
    "##########################################\n",
    "# Case 4: 60 days from Feb 2024 to April 2024 PREDICT N_STEPS\n",
    "##########################################s\n",
    "predict_model_60dayhigh_n = predict_models_n(\n",
    "    \"model_60dayhighx\",\n",
    "    \"btc_usd\",\n",
    "    \"1d\",\n",
    "    10,\n",
    "    9\n",
    ")\n",
    "##########################################\n",
    "# Confirm the model predicted a price on the right redis db with the right number of steps\n",
    "##########################################s\n",
    "print(predict_model_1day_n[\"msg\"])\n",
    "print(predict_model_1day_n[\"price\"])\n",
    "predicted_price1d = predict_model_1day_n[\"price\"] \n",
    "print(\"======================================\")\n",
    "print(predict_model_30day_n[\"msg\"])\n",
    "print(predict_model_30day_n[\"price\"])\n",
    "predicted_price30d = predict_model_30day_n[\"price\"] \n",
    "print(\"======================================\")\n",
    "print(predict_model_60daylow_n[\"msg\"])\n",
    "print(predict_model_60daylow_n[\"price\"])\n",
    "predicted_price60daylow_n = predict_model_60daylow_n[\"price\"] \n",
    "print(\"======================================\")\n",
    "print(predict_model_60dayhigh_n[\"msg\"])\n",
    "print(predict_model_60dayhigh_n[\"price\"])\n",
    "predicted_price60dayhigh_n = predict_model_60dayhigh_n[\"price\"] \n"
   ]
  },
  {
   "cell_type": "markdown",
   "id": "9707b049",
   "metadata": {},
   "source": [
    "---"
   ]
  },
  {
   "cell_type": "markdown",
   "id": "bc5b08aa",
   "metadata": {},
   "source": [
    "# Pull Actual Bitcoin Prices"
   ]
  },
  {
   "cell_type": "markdown",
   "id": "766d28c4",
   "metadata": {},
   "source": [
    "After generating multi-step price predictions using the LSTM model, the next step is to evaluate the accuracy of those forecasts by comparing them to the actual Bitcoin prices observed during the same time window.\n",
    "\n",
    "To do this, we use the manual_fetch() function, which directly queries the Coinbase API for historical candle data based on a specified symbol, resolution, and date range. This function supports flexible retrieval of any price component (open, high, low, close, or volume), and it returns a list of up to nsteps values sorted from oldest to newest."
   ]
  },
  {
   "cell_type": "code",
   "execution_count": 57,
   "id": "6de07171",
   "metadata": {},
   "outputs": [
    {
     "name": "stdout",
     "output_type": "stream",
     "text": [
      "[8522.31, 8915, 8757.84, 8760.66, 9070.17, 9158.51, 8901.37, 8037.76, 7934.52, 7894.68]\n",
      "[69681.82, 65464.14, 65987.92, 68525.23, 67856.51, 68919.89, 69350.34, 71622.53, 69117.01, 70634.04]\n"
     ]
    }
   ],
   "source": [
    "# Get the actual historical candle values of the candle predicted \n",
    "#####################################\n",
    "# Function pulls candles from API directly\n",
    "####################################\n",
    "# Corresponds to evaluating: 60 days low Jan 2020 to March 2020\n",
    "RESOLUTION_MAP = {\n",
    "    \"1m\": 60,\n",
    "    \"5m\": 300,\n",
    "    \"15m\": 900,\n",
    "    \"1h\": 3600,\n",
    "    \"1d\": 86400 \n",
    "    }\n",
    "''' \n",
    "Fetch up to nsteps candles from Coinbase and return a list of the requested price field.\n",
    "Parameters:\n",
    "- start:    YYYYMMDD string for the start of the interval (inclusive)\n",
    "    - end:      YYYYMMDD string for the end of the interval (exclusive)\n",
    "    - symbol:   \n",
    "    - price_type: [\"open\", \"high\", \"low\", \"close\", \"volume\"]\n",
    "    - resolution: RESOLUTION_MAP.keys()\n",
    "    - nsteps:   number of candles to return \n",
    "\n",
    "    Returns:\n",
    "    - List of floats oldest to newest\n",
    "'''\n",
    "def manual_fetch(\n",
    "        start: str,\n",
    "        end: str,\n",
    "        symbol: str,\n",
    "        price_type: str,\n",
    "        resolution: str,\n",
    "        nsteps: int\n",
    "        ):\n",
    "    # Allow user to input in YYYYMMDD format.\n",
    "    start_dt = datetime.strptime(start, \"%Y%m%d\")\n",
    "    end_dt   = datetime.strptime(end,   \"%Y%m%d\")\n",
    "\n",
    "    # Use resolution map to get seconds.\n",
    "    gran = RESOLUTION_MAP.get(resolution)\n",
    "    if gran is None:\n",
    "        raise ValueError(f\"Unsupported resolution: {resolution!r}\")\n",
    "\n",
    "    # Fetch from Coinbase API\n",
    "    url = f\"https://api.exchange.coinbase.com/products/{symbol}/candles\"\n",
    "    params = {\n",
    "        \"start\":       start_dt.isoformat() + \"Z\",\n",
    "        \"end\":         end_dt.isoformat()   + \"Z\",\n",
    "        \"granularity\": gran\n",
    "    }\n",
    "    resp = requests.get(url, params=params)\n",
    "    resp.raise_for_status()\n",
    "    # raw will be [ time, low, high, open, close, volume ]\n",
    "    raw = resp.json() \n",
    "\n",
    "    # Sort ascending by timestamp\n",
    "    raw.sort(key=lambda row: row[0])\n",
    "\n",
    "    # Map to index\n",
    "    idx_map = {\n",
    "        \"time\": 0,\n",
    "        \"low\": 1,\n",
    "        \"high\": 2,\n",
    "        \"open\": 3,\n",
    "        \"close\": 4,\n",
    "        \"volume\": 5\n",
    "    }\n",
    "    if price_type not in idx_map:\n",
    "        raise ValueError(f\"Unsupported price_type: {price_type!r}\")\n",
    "    idx = idx_map[price_type]\n",
    "\n",
    "    # Set by nsteps\n",
    "    prices = [row[idx] for row in raw][:nsteps]\n",
    "\n",
    "    return prices\n",
    "\n",
    "\n",
    "#####################################\n",
    "# 10 days after March 1 2020\n",
    "####################################\n",
    "# Use function above to retrieve 10 predicted candles for eval. \n",
    "actual_prices_10daysMar2020 = manual_fetch(\n",
    "    start=\"20200301\",\n",
    "    end=\"20200311\",\n",
    "    symbol=\"BTC-USD\",\n",
    "    price_type=\"close\",\n",
    "    resolution=\"1d\",\n",
    "    nsteps=10\n",
    "    )\n",
    "print(actual_prices_10daysMar2020) \n",
    "\n",
    "#####################################\n",
    "# 10 days after April 1 2024\n",
    "####################################\n",
    "# Corresponds to evaluating: 60 day high Feb to April 2024\n",
    "actual_prices_10daysApr2024 = manual_fetch(\n",
    "    start=\"20240401\",\n",
    "    end=\"20240411\",\n",
    "    symbol=\"BTC-USD\",\n",
    "    price_type=\"close\",\n",
    "    resolution=\"1d\",\n",
    "    nsteps=10\n",
    "    )\n",
    "print(actual_prices_10daysApr2024) \n",
    "\n"
   ]
  },
  {
   "cell_type": "markdown",
   "id": "def64b8e",
   "metadata": {},
   "source": [
    "---"
   ]
  },
  {
   "cell_type": "markdown",
   "id": "1dedc1bf",
   "metadata": {},
   "source": [
    "# Evaluate LSTM Predictions to Actual Prices"
   ]
  },
  {
   "cell_type": "markdown",
   "id": "0c908cf5",
   "metadata": {},
   "source": [
    "To assess how well the LSTM model performed in forecasting Bitcoin prices, we use the `evaluate_predictions()` function. This function compares the model's predicted prices to the actual prices fetched from the Coinbase API, and computes both standard regression metrics and a custom directional accuracy measure.  \n",
    "\n",
    "Metrics Evaluated:  \n",
    "* Mean Absolute Error (MAE): Average absolute difference between predicted and actual prices.  \n",
    "* Median Absolute Error: More robust to outliers than MAE.  \n",
    "* R² Score: Proportion of variance in the actual prices that is explained by the predictions.  \n",
    "* Directional Accuracy: Measures whether the direction of price movement is correctly predicted. This is especially important in trading contexts, where getting the direction right matters more than the exact value.  \n",
    "Each prediction set is evaluated using this function to determine how well the model generalizes to unseen data at n-steps ahead.\n",
    "\n",
    "Matplotlib are also included after the metrics are calculated."
   ]
  },
  {
   "cell_type": "code",
   "execution_count": 58,
   "id": "8fcea382",
   "metadata": {},
   "outputs": [
    {
     "name": "stdout",
     "output_type": "stream",
     "text": [
      "Results for Mar 2020: {'mean_absolute_error': 1023.4374363341703, 'median_absolute_error': 1317.5428319296984, 'r2_score': -5.895716169841964}\n",
      "Results for Apr 2024: {'mean_absolute_error': 26809.02517236613, 'median_absolute_error': 26752.257898119537, 'r2_score': -221.11227756578475}\n"
     ]
    }
   ],
   "source": [
    "################################################################\n",
    "# Evaluation Function\n",
    "################################################################\n",
    "# Function runs performance metrics between actual and predicted prices\n",
    "# Parameters: prices predicted\n",
    "# Returns: results \n",
    "def evaluate_predictions(prices_predicted: Sequence[int],\n",
    "                        actual_prices):\n",
    "    # Caclulate directional accuracy\n",
    "    y_true = np.array(actual_prices)\n",
    "    y_pred = np.array(prices_predicted)\n",
    "    moves_true = np.sign(np.diff(y_true))\n",
    "    moves_pred = np.sign(np.diff(y_pred))\n",
    "    directional_accuracy = np.mean(moves_true == moves_pred) * 100\n",
    "\n",
    "    # Conventional metrics \n",
    "    metrics={\n",
    "        'mean_absolute_error':mean_absolute_error,\n",
    "        'median_absolute_error':median_absolute_error,\n",
    "        'r2_score':r2_score,\n",
    "    }\n",
    "    results = {}\n",
    "    for name, func in metrics.items():\n",
    "        # rearrange inputs: y_true, y_pred\n",
    "        results[name] = func(actual_prices, prices_predicted)\n",
    "    #results['directional_accuracy'] = directional_accuracy\n",
    "    return results\n",
    "################################################################\n",
    "# Evaluate the predictions for 10 days after March 1 2020\n",
    "#########################################################\n",
    "results_1 = evaluate_predictions(predicted_price60daylow_n, actual_prices_10daysMar2020)\n",
    "print(f\"Results for Mar 2020: {results_1}\")\n",
    "\n",
    "#########################################################\n",
    "# Evaluate the predictions for 10 days after March 1 2020\n",
    "#########################################################\n",
    "#predicted_price60dayhigh_n\n",
    "results_2 = evaluate_predictions(predicted_price60dayhigh_n, actual_prices_10daysApr2024)\n",
    "print(f\"Results for Apr 2024: {results_2}\")"
   ]
  },
  {
   "cell_type": "markdown",
   "id": "d954b391",
   "metadata": {},
   "source": [
    "The following are visualizations that illustrate the metrics calculated above in a user friendly way using a matplotlib function."
   ]
  },
  {
   "cell_type": "code",
   "execution_count": null,
   "id": "fc06ed08",
   "metadata": {},
   "outputs": [
    {
     "data": {
      "image/png": "[encoded data removed]",
      "text/plain": [
       "<Figure size 640x480 with 1 Axes>"
      ]
     },
     "metadata": {},
     "output_type": "display_data"
    },
    {
     "data": {
      "image/png": "[encoded data removed]",
      "text/plain": [
       "<Figure size 640x480 with 1 Axes>"
      ]
     },
     "metadata": {},
     "output_type": "display_data"
    }
   ],
   "source": [
    "def plot_prediction_vs_actual(actual, predicted, title):\n",
    "    \"\"\"\n",
    "    Plots actual vs. predicted values over the same x-axis (days 1…N).\n",
    "    \n",
    "    Parameters:\n",
    "    actual: list or array of actual values\n",
    "    predicted: list or array of predicted values\n",
    "    title: string plot title\n",
    "    \"\"\"\n",
    "    # x-axis: 1, 2, …, N\n",
    "    days = list(range(1, len(actual) + 1))\n",
    "    \n",
    "    plt.figure()\n",
    "    plt.plot(days, actual, label=\"Actual\")\n",
    "    plt.plot(days, predicted, label=\"Predicted\")\n",
    "    plt.xlabel(\"Day after start\")\n",
    "    plt.ylabel(\"Price (USD)\")\n",
    "    plt.title(title)\n",
    "    plt.legend()\n",
    "    plt.grid(True)\n",
    "    plt.show()\n",
    "\n",
    "# Example for March 2020\n",
    "plot_prediction_vs_actual(\n",
    "    actual=actual_prices_10daysMar2020,\n",
    "    predicted=predicted_price60daylow_n,\n",
    "    title=\"BTC-USD: Predicted vs. Actual Closing Prices\\nMar 1–11 2020\"\n",
    ")\n",
    "\n",
    "# Example for April 2024\n",
    "plot_prediction_vs_actual(\n",
    "    actual=actual_prices_10daysApr2024,\n",
    "    predicted=predicted_price60dayhigh_n,\n",
    "    title=\"BTC-USD: Predicted vs. Actual Closing Prices\\nApr 1–11 2024\"\n",
    ")\n"
   ]
  },
  {
   "cell_type": "markdown",
   "id": "ddf1e464",
   "metadata": {},
   "source": [
    "---"
   ]
  },
  {
   "cell_type": "markdown",
   "id": "7b93879e",
   "metadata": {},
   "source": [
    "# 9. Conclusion"
   ]
  },
  {
   "cell_type": "markdown",
   "id": "61cb27fd",
   "metadata": {},
   "source": [
    "The model results were not very promising under the mean squared error loss function and Adam optimizer. \n",
    "Another iteration could be done with different loss functions like mean absolute error or huber, which are robust to outliers and less sensitive to extreme deviations and that heavily penalize models .\n",
    "Two optimizers which could better pick up on noise and nonlinear patterns are `rmsprops` and `nadam` because the current optimizer Adam may struggle to adaptively with tuning nonstationary price shocks or chaotic volatility. \n",
    "\n",
    "To change these parameters and tune the model, the defaults would have to be changed in the python functions. \n",
    "Another factor to keep in mind is the two cases graphed above are extremely volatile bitcoin trends that are known as historical lows and highs around COVID-19 and a Bitcoin hype rally in 2024, therefore they would be tricky even for a well tuned model. \n",
    "\n",
    "This app additionally launches a websocket that listens for trade data from both Binance and Coinbase to do a sliding window anomoly detection. It runs automatically as soon as the docker compose is ran. The user can monitor the logs in the terminal or using the Flower UI that is connected at localhost:5555. This live steam could be used to implement batch handling LSTM predictions which would be closer to a live analysis. I will continue to tune the models and incorporate the live stream.\n",
    "\n",
    "If this is your first RNN, congratulations, this was also my first RNN and pipeline too. "
   ]
  },
  {
   "cell_type": "code",
   "execution_count": null,
   "id": "f4f80073",
   "metadata": {},
   "outputs": [],
   "source": []
  }
 ],
 "metadata": {
  "kernelspec": {
   "display_name": "Python 3 (ipykernel)",
   "language": "python",
   "name": "python3"
  },
  "language_info": {
   "codemirror_mode": {
    "name": "ipython",
    "version": 3
   },
   "file_extension": ".py",
   "mimetype": "text/x-python",
   "name": "python",
   "nbconvert_exporter": "python",
   "pygments_lexer": "ipython3",
   "version": "3.8.10"
  }
 },
 "nbformat": 4,
 "nbformat_minor": 5
}
