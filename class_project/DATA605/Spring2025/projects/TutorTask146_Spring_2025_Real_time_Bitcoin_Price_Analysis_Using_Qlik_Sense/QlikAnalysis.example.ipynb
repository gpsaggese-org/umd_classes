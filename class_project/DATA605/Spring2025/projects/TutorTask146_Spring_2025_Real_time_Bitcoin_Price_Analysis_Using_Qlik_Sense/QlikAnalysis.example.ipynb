{
 "cells": [
  {
   "cell_type": "markdown",
   "id": "a4d88859",
   "metadata": {},
   "source": [
    "# Example Application: Real-Time Bitcoin Analytics Pipeline\n",
    "\n",
    "This notebook demonstrates a complete, end-to-end application workflow using the `QlikAnalysis_utils.py` API layer.  \n",
    "You will see how to initialize data storage, collect and enrich real-time Bitcoin price data, forecast future values, save results, and automate data sharing.\n"
   ]
  },
  {
   "cell_type": "markdown",
   "id": "eec38852",
   "metadata": {},
   "source": [
    "## 1. Import API Functions\n",
    "\n",
    "We begin by importing all needed functions from the utility module.\n"
   ]
  },
  {
   "cell_type": "code",
   "execution_count": null,
   "id": "7c2be011",
   "metadata": {
    "vscode": {
     "languageId": "plaintext"
    }
   },
   "outputs": [],
   "source": [
    "from QlikAnalysis_utils import (\n",
    "    initialize_csv_file,\n",
    "    fetch_bitcoin_price,\n",
    "    append_to_csv,\n",
    "    load_bitcoin_data,\n",
    "    add_time_series_features,\n",
    "    forecast_bitcoin,\n",
    "    save_dataframe,\n",
    "    push_csv_files_to_github\n",
    ")\n",
    "import os\n"
   ]
  },
  {
   "cell_type": "markdown",
   "id": "44f421b8",
   "metadata": {},
   "source": [
    "## 2. Initialize Data File\n",
    "\n",
    "First, we ensure the data file exists and is properly initialized for reliable data storage.\n"
   ]
  },
  {
   "cell_type": "code",
   "execution_count": null,
   "id": "f5433eae",
   "metadata": {
    "vscode": {
     "languageId": "plaintext"
    }
   },
   "outputs": [],
   "source": [
    "csv_path = \"bitcoin_realtime.csv\"\n",
    "initialize_csv_file(csv_path)\n",
    "print(\"CSV exists:\", os.path.exists(csv_path))\n"
   ]
  },
  {
   "cell_type": "markdown",
   "id": "8e208a2f",
   "metadata": {},
   "source": [
    "## 3. Collect and Store Real-Time Data\n",
    "\n",
    "Fetch the latest Bitcoin price and append it to our CSV.\n"
   ]
  },
  {
   "cell_type": "code",
   "execution_count": null,
   "id": "33198be0",
   "metadata": {
    "vscode": {
     "languageId": "plaintext"
    }
   },
   "outputs": [],
   "source": [
    "record = fetch_bitcoin_price()\n",
    "if record:\n",
    "    append_to_csv(record, csv_path)\n",
    "print(\"Latest record:\", record)\n"
   ]
  },
  {
   "cell_type": "markdown",
   "id": "50f1127a",
   "metadata": {},
   "source": [
    "## 4. Load Data and Add Features\n",
    "\n",
    "Load the dataset and enrich it with moving averages and rolling volatility for time series analysis.\n"
   ]
  },
  {
   "cell_type": "code",
   "execution_count": null,
   "id": "b21a122f",
   "metadata": {
    "vscode": {
     "languageId": "plaintext"
    }
   },
   "outputs": [],
   "source": [
    "df = load_bitcoin_data(csv_path)\n",
    "df = add_time_series_features(df)\n",
    "df.tail()\n"
   ]
  },
  {
   "cell_type": "markdown",
   "id": "269f2e18",
   "metadata": {},
   "source": [
    "## 5. Forecast Future Bitcoin Prices\n",
    "\n",
    "Use statistical modeling to forecast the next 24 hours of Bitcoin prices.\n"
   ]
  },
  {
   "cell_type": "code",
   "execution_count": null,
   "id": "6b25673e",
   "metadata": {
    "vscode": {
     "languageId": "plaintext"
    }
   },
   "outputs": [],
   "source": [
    "forecast_df = forecast_bitcoin(df, periods=24, freq='h')\n",
    "forecast_df.head()\n"
   ]
  },
  {
   "cell_type": "markdown",
   "id": "2935fa5b",
   "metadata": {},
   "source": [
    "## 6. Save Enhanced Data and Forecasts\n",
    "\n",
    "Persist the enriched data and forecasts for reporting or dashboard integration.\n"
   ]
  },
  {
   "cell_type": "code",
   "execution_count": null,
   "id": "ae7f230c",
   "metadata": {
    "vscode": {
     "languageId": "plaintext"
    }
   },
   "outputs": [],
   "source": [
    "save_dataframe(df, \"bitcoin_analytics.csv\")\n",
    "save_dataframe(forecast_df, \"bitcoin_forecast.csv\")\n",
    "print(\"Saved analytics and forecast CSVs.\")\n"
   ]
  },
  {
   "cell_type": "markdown",
   "id": "10bc98f2",
   "metadata": {},
   "source": [
    "## 7. Automate Data Sharing\n",
    "\n",
    "Optionally, you can push the latest CSV files to GitHub for team sharing or real-time dashboard updates.\n"
   ]
  },
  {
   "cell_type": "code",
   "execution_count": null,
   "id": "d98096cc",
   "metadata": {
    "vscode": {
     "languageId": "plaintext"
    }
   },
   "outputs": [],
   "source": [
    "repo_dir = \"/Users/aj/Library/CloudStorage/Dropbox/Bitcoin_Analysis\"\n",
    "csv_files = [\"bitcoin_realtime.csv\", \"bitcoin_analytics.csv\", \"bitcoin_forecast.csv\"]\n",
    "push_csv_files_to_github(csv_files, repo_dir)\n"
   ]
  },
  {
   "cell_type": "markdown",
   "id": "bba36d26",
   "metadata": {},
   "source": [
    "## Conclusion\n",
    "\n",
    "This notebook demonstrated the full real-time Bitcoin analytics pipeline using only the functions from your API layer.  \n",
    "You now have a reusable workflow for collecting, analyzing, forecasting, saving, and sharing Bitcoin data, suitable for integration with business intelligence tools like Qlik Sense.\n",
    "\n",
    "**You can further automate this process using task schedulers or extend it with more analytics as needed.**\n",
    "\n",
    "--> Automation Using Cronjob\n",
    "\n",
    "To enable fully automated, real-time updates, we use a `cronjob` to schedule the pipeline scripts to run every 5 minutes.  \n",
    "This ensures that Bitcoin price data, analytics, forecasts, and GitHub sync are always up to date, without any manual intervention.\n",
    "\n",
    "Example cronjob configuration:\n",
    "*/5 * * * * /usr/bin/python3 /Users/aj/Library/CloudStorage/Dropbox/Bitcoin_Analysis/gitpush.py\n",
    "\n",
    "You can edit your system's crontab using `crontab -e` to add this line.\n",
    "\n",
    "\n"
   ]
  },
  {
   "cell_type": "markdown",
   "id": "1ed6a491",
   "metadata": {},
   "source": []
  }
 ],
 "metadata": {
  "language_info": {
   "name": "python"
  }
 },
 "nbformat": 4,
 "nbformat_minor": 5
}
