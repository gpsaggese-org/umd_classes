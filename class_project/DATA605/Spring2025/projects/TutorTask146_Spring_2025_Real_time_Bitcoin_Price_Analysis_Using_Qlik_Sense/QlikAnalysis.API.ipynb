{
 "cells": [
  {
   "cell_type": "markdown",
   "id": "beddc793",
   "metadata": {},
   "source": [
    "# API Demonstration: QlikAnalysis_utils.py\n",
    "\n",
    "This notebook demonstrates the main capabilities of the reusable Python API (`QlikAnalysis_utils.py`) for real-time Bitcoin data analysis and automation.  \n",
    "Each code cell below is accompanied by an explanation of how the function contributes to the overall workflow.\n"
   ]
  },
  {
   "cell_type": "markdown",
   "id": "98e49ca6",
   "metadata": {},
   "source": [
    "## 1. Import the API\n",
    "\n",
    "We import all public functions from the `QlikAnalysis_utils.py` module. These functions provide the only interface needed for data collection, analysis, and automation.\n"
   ]
  },
  {
   "cell_type": "code",
   "execution_count": null,
   "id": "a27fccba",
   "metadata": {
    "vscode": {
     "languageId": "plaintext"
    }
   },
   "outputs": [],
   "source": [
    "from QlikAnalysis_utils import (\n",
    "    initialize_csv_file,\n",
    "    fetch_bitcoin_price,\n",
    "    append_to_csv,\n",
    "    load_bitcoin_data,\n",
    "    add_time_series_features,\n",
    "    forecast_bitcoin,\n",
    "    save_dataframe,\n",
    "    push_csv_files_to_github\n",
    ")\n",
    "import os\n"
   ]
  },
  {
   "cell_type": "markdown",
   "id": "305c555e",
   "metadata": {},
   "source": [
    "## 2. Initialize the CSV Data File\n",
    "\n",
    "Before collecting any data, we ensure the CSV file exists and has the correct headers (`timestamp`, `price_usd`).  \n",
    "This makes the workflow robust and repeatable for new deployments.\n"
   ]
  },
  {
   "cell_type": "code",
   "execution_count": null,
   "id": "91f69b8a",
   "metadata": {
    "vscode": {
     "languageId": "plaintext"
    }
   },
   "outputs": [],
   "source": [
    "csv_path = \"bitcoin_realtime.csv\"\n",
    "initialize_csv_file(csv_path)\n",
    "os.path.exists(csv_path)  # Should return True\n"
   ]
  },
  {
   "cell_type": "markdown",
   "id": "65afbe19",
   "metadata": {},
   "source": [
    "## 3. Fetch the Latest Bitcoin Price\n",
    "\n",
    "We fetch the current Bitcoin price (in USD) and timestamp using our API, which calls the CoinGecko public API under the hood.\n"
   ]
  },
  {
   "cell_type": "code",
   "execution_count": null,
   "id": "01bd8a33",
   "metadata": {
    "vscode": {
     "languageId": "plaintext"
    }
   },
   "outputs": [],
   "source": [
    "record = fetch_bitcoin_price()\n",
    "print(\"Fetched record:\", record)\n"
   ]
  },
  {
   "cell_type": "markdown",
   "id": "4fde4ce2",
   "metadata": {},
   "source": [
    "If the fetch was successful, we append this record to our CSV for persistent storage.\n"
   ]
  },
  {
   "cell_type": "code",
   "execution_count": null,
   "id": "aed1ece0",
   "metadata": {
    "vscode": {
     "languageId": "plaintext"
    }
   },
   "outputs": [],
   "source": [
    "if record:\n",
    "    append_to_csv(record, csv_path)\n"
   ]
  },
  {
   "cell_type": "markdown",
   "id": "eb36f214",
   "metadata": {},
   "source": [
    "## 4. Load the Data for Analysis\n",
    "\n",
    "We now load our CSV file into a pandas DataFrame for further processing and exploration.\n"
   ]
  },
  {
   "cell_type": "code",
   "execution_count": null,
   "id": "ff69197f",
   "metadata": {
    "vscode": {
     "languageId": "plaintext"
    }
   },
   "outputs": [],
   "source": [
    "df = load_bitcoin_data(csv_path)\n",
    "df.head()\n"
   ]
  },
  {
   "cell_type": "markdown",
   "id": "7f8e5a10",
   "metadata": {},
   "source": [
    "## 5. Add Time Series Features\n",
    "\n",
    "To analyze trends and volatility, we enrich the data with rolling statistics—such as moving averages and rolling standard deviation.\n"
   ]
  },
  {
   "cell_type": "code",
   "execution_count": null,
   "id": "7be0f57c",
   "metadata": {
    "vscode": {
     "languageId": "plaintext"
    }
   },
   "outputs": [],
   "source": [
    "df = add_time_series_features(df)\n",
    "df.tail()  # Show latest with new features\n"
   ]
  },
  {
   "cell_type": "markdown",
   "id": "eacab393",
   "metadata": {},
   "source": [
    "## 6. Forecast Future Bitcoin Prices\n",
    "\n",
    "Using the Facebook Prophet library, our API can forecast future Bitcoin prices based on historical trends.\n"
   ]
  },
  {
   "cell_type": "code",
   "execution_count": null,
   "id": "928c7c9d",
   "metadata": {
    "vscode": {
     "languageId": "plaintext"
    }
   },
   "outputs": [],
   "source": [
    "forecast_df = forecast_bitcoin(df, periods=24, freq='h')\n",
    "forecast_df.head()\n"
   ]
  },
  {
   "cell_type": "markdown",
   "id": "a668227c",
   "metadata": {},
   "source": [
    "## 7. Save the Results\n",
    "\n",
    "We save both the enriched analytics DataFrame and the forecast DataFrame as CSV files for downstream use (e.g., visualization in Qlik Sense).\n"
   ]
  },
  {
   "cell_type": "code",
   "execution_count": null,
   "id": "8b9a7945",
   "metadata": {
    "vscode": {
     "languageId": "plaintext"
    }
   },
   "outputs": [],
   "source": [
    "analytics_csv = \"bitcoin_analytics.csv\"\n",
    "forecast_csv = \"bitcoin_forecast.csv\"\n",
    "save_dataframe(df, analytics_csv)\n",
    "save_dataframe(forecast_df, forecast_csv)\n"
   ]
  },
  {
   "cell_type": "markdown",
   "id": "3c57a096",
   "metadata": {},
   "source": [
    "## 8. Push CSV Files to GitHub\n",
    "\n",
    "Optionally, you can push your updated CSV files directly to a GitHub repository, making them accessible to dashboards or collaborators in real time.\n"
   ]
  },
  {
   "cell_type": "code",
   "execution_count": null,
   "id": "e0502034",
   "metadata": {
    "vscode": {
     "languageId": "plaintext"
    }
   },
   "outputs": [],
   "source": [
    "repo_dir = \"/Users/aj/Library/CloudStorage/Dropbox/Bitcoin_Analysis\"\n",
    "csv_files = [\"bitcoin_realtime.csv\", \"bitcoin_analytics.csv\", \"bitcoin_forecast.csv\"]\n",
    "push_csv_files_to_github(csv_files, repo_dir)\n"
   ]
  },
  {
   "cell_type": "markdown",
   "id": "64811df7",
   "metadata": {},
   "source": [
    "## Summary\n",
    "\n",
    "This notebook provided a walkthrough of the modular Python API (`QlikAnalysis_utils.py`) for Bitcoin data analysis.  \n",
    "Each step demonstrated how to use the API to:\n",
    "- Initialize and manage data storage\n",
    "- Collect real-time Bitcoin prices\n",
    "- Enrich data with analytics features\n",
    "- Forecast future prices\n",
    "- Save and automate results for integration with Qlik Sense and other BI tools\n",
    "\n",
    "All complex logic is contained within the API layer, ensuring clean, reproducible, and easy-to-read workflows.\n"
   ]
  },
  {
   "cell_type": "markdown",
   "id": "a7e0bca7",
   "metadata": {},
   "source": []
  }
 ],
 "metadata": {
  "language_info": {
   "name": "python"
  }
 },
 "nbformat": 4,
 "nbformat_minor": 5
}
