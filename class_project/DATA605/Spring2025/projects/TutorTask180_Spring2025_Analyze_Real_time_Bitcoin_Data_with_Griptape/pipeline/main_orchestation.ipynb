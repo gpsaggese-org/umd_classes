{
 "cells": [
  {
   "cell_type": "code",
   "execution_count": 1,
   "id": "de1d2aa8-b0cc-446d-8bde-36168be3da8a",
   "metadata": {},
   "outputs": [],
   "source": [
    "# 1. Imports\n",
    "from utils import BitcoinTool\n",
    "from griptape.structures import Agent\n",
    "from griptape.tasks import ToolTask\n",
    "import yaml\n"
   ]
  },
  {
   "cell_type": "code",
   "execution_count": 2,
   "id": "6966c73f-46a1-4612-89dc-91d94492df7c",
   "metadata": {},
   "outputs": [],
   "source": [
    "config=[]\n",
    "with open(\"config.yaml\", \"r\") as f:\n",
    "    config = yaml.safe_load(f)"
   ]
  },
  {
   "cell_type": "code",
   "execution_count": 4,
   "id": "01be6f25-924a-4f23-a6f5-b63252414034",
   "metadata": {
    "scrolled": true
   },
   "outputs": [
    {
     "name": "stdout",
     "output_type": "stream",
     "text": [
      "Last update: 2025-05-01 | type: <class 'str'>\n",
      "Start date: 2025-05-02 00:00:00+00:00 | type: <class 'pandas._libs.tslibs.timestamps.Timestamp'>\n",
      "End date: 2025-05-14 18:52:25.447803+00:00 | type: <class 'pandas._libs.tslibs.timestamps.Timestamp'>\n",
      "Fetching data from 2025-05-02 00:00:00+00:00 → 1746144000\n",
      "To 2025-05-14 18:52:25.447803+00:00 → 1747248745\n",
      "✅ Pipeline complete. Data updated to 2025-05-14.\n"
     ]
    }
   ],
   "source": [
    "tool = BitcoinTool(config=config)\n",
    "print(tool.run({})) "
   ]
  },
  {
   "cell_type": "code",
   "execution_count": null,
   "id": "3556e400-2459-4fba-9773-c1f9e2f4c0f6",
   "metadata": {},
   "outputs": [],
   "source": []
  }
 ],
 "metadata": {
  "kernelspec": {
   "display_name": "Python 3 (ipykernel)",
   "language": "python",
   "name": "python3"
  },
  "language_info": {
   "codemirror_mode": {
    "name": "ipython",
    "version": 3
   },
   "file_extension": ".py",
   "mimetype": "text/x-python",
   "name": "python",
   "nbconvert_exporter": "python",
   "pygments_lexer": "ipython3",
   "version": "3.10.17"
  }
 },
 "nbformat": 4,
 "nbformat_minor": 5
}
