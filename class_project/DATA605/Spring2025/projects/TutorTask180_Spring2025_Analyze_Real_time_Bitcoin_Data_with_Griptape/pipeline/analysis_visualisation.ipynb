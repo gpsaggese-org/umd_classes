{
 "cells": [
  {
   "cell_type": "code",
   "execution_count": null,
   "id": "5f25eb16",
   "metadata": {},
   "outputs": [],
   "source": [
    "from analysis import BitcoinAnalysisTool"
   ]
  },
  {
   "cell_type": "code",
   "execution_count": null,
   "id": "e1ab4535",
   "metadata": {},
   "outputs": [],
   "source": [
    "tool = BitcoinAnalysisTool()\n",
    "df = tool.load_and_clean_data(\"/workspace/griptape/warehouse/bitcoin_prices.csv\")\n",
    "tool.plot_price_series(df)\n",
    "tool.plot_rolling_stats(df)\n",
    "print(tool.adf_test(df))\n"
   ]
  },
  {
   "cell_type": "code",
   "execution_count": null,
   "id": "690f809d",
   "metadata": {},
   "outputs": [],
   "source": [
    "\n",
    "df_prophet, forecast = tool.run_prophet_forecast(df)\n",
    "tool.plot_prophet_forecast(df_prophet, forecast)\n"
   ]
  },
  {
   "cell_type": "code",
   "execution_count": null,
   "id": "a74783e6",
   "metadata": {},
   "outputs": [],
   "source": [
    "# 🔹 Generate and display the data summary report\n",
    "data_summary = tool.generate_data_summary_report(df)\n",
    "print(data_summary)\n",
    "\n",
    "# 🔹 Generate and display the stationarity report (ADF test)\n",
    "stationarity_report = tool.generate_stationarity_report(df)\n",
    "print(stationarity_report)\n",
    "\n",
    "# 🔹 Generate and display the forecast summary report\n",
    "forecast_report = tool.generate_forecast_report(forecast)\n",
    "print(forecast_report)\n"
   ]
  }
 ],
 "metadata": {
  "language_info": {
   "name": "python"
  }
 },
 "nbformat": 4,
 "nbformat_minor": 5
}
