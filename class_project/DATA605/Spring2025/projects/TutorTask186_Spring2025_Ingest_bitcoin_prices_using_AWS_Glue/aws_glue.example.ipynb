{
 "cells": [
  {
   "cell_type": "markdown",
   "id": "50f78f7e-2dee-45d6-9d37-7a55eeaae283",
   "metadata": {},
   "source": [
    "# BitcoinData Ingestion using AWS Glue"
   ]
  },
  {
   "cell_type": "code",
   "execution_count": null,
   "id": "9f6e3d30-ed0a-4822-816c-c60e3af5b20d",
   "metadata": {},
   "outputs": [],
   "source": [
    "import sys\n",
    "from awsglue.utils import getResolvedOptions\n",
    "from pyspark.context import SparkContext\n",
    "from awsglue.context import GlueContext\n",
    "from awsglue.job import Job\n",
    "from pyspark.sql.functions import explode, col, to_date\n",
    "from db_utils import init_filebrowser_db\n",
    "init_filebrowser_db()\n",
    "\n",
    "# Glue job parameters\n",
    "args = getResolvedOptions(sys.argv, ['JOB_NAME'])\n",
    "\n",
    "# Initialize Glue and Spark\n",
    "sc = SparkContext()\n",
    "glueContext = GlueContext(sc)\n",
    "spark = glueContext.spark_session\n",
    "job = Job(glueContext)\n",
    "job.init(args['JOB_NAME'], args)\n",
    "\n",
    "# === CONFIGURATION ===\n",
    "DATABASE = \"bitcoin_data\"\n",
    "TABLE = \"raw\"   # ✅ This is your actual table name\n",
    "BUCKET = \"data606-bitcoinbucket\"\n",
    "OUTPUT_PATH = f\"s3://{BUCKET}/processed/bitcoin_prices/\"\n",
    "\n",
    "# === LOAD DATA FROM GLUE CATALOG ===\n",
    "dyf = glueContext.create_dynamic_frame.from_catalog(\n",
    "    database=DATABASE,\n",
    "    table_name=TABLE,\n",
    "    transformation_ctx=\"datasource0\"\n",
    ")\n",
    "\n",
    "# Convert to Spark DataFrame\n",
    "df = dyf.toDF()\n",
    "\n",
    "# === TRANSFORMATION: Explode and extract from array<struct<double:[], long:[]>> ===\n",
    "df_exploded = df.select(explode(col(\"prices\")).alias(\"price_entry\"))\n",
    "\n",
    "# Now extract the first value of each array field\n",
    "df_flat = df_exploded.select(\n",
    "    (col(\"price_entry.long\")[0] / 1000).cast(\"timestamp\").alias(\"timestamp\"),\n",
    "    col(\"price_entry.double\")[0].alias(\"price_usd\")\n",
    ")\n",
    "\n",
    "# Add date column for partitioning\n",
    "df_final = df_flat.withColumn(\"date\", to_date(col(\"timestamp\")))\n",
    "\n",
    "# Write to S3 in partitioned Parquet format\n",
    "df_final.write.mode(\"overwrite\").partitionBy(\"date\").parquet(OUTPUT_PATH)\n",
    "\n",
    "# Commit job\n",
    "job.commit()"
   ]
  }
 ],
 "metadata": {
  "kernelspec": {
   "display_name": "Python [conda env:base] *",
   "language": "python",
   "name": "conda-base-py"
  },
  "language_info": {
   "codemirror_mode": {
    "name": "ipython",
    "version": 3
   },
   "file_extension": ".py",
   "mimetype": "text/x-python",
   "name": "python",
   "nbconvert_exporter": "python",
   "pygments_lexer": "ipython3",
   "version": "3.12.7"
  }
 },
 "nbformat": 4,
 "nbformat_minor": 5
}
