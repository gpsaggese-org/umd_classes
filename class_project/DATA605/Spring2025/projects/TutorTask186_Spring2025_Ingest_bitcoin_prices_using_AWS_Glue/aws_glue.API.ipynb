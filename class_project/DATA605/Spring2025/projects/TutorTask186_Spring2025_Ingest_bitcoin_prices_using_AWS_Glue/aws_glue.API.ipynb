{
 "cells": [
  {
   "cell_type": "markdown",
   "id": "183c2248-ea3d-43ba-b87e-d821bba1bbc6",
   "metadata": {},
   "source": [
    "# AWS Glue\n",
    "\n",
    "Python script to fetch Bitcoin price history from the CoinGecko API and upload the raw data to our S3 bucket. \n",
    "\n",
    "The name of this notebook should in the following format:\n",
    "- if the notebook is exploring `pycaret API`, then it is `pycaret.API.ipynb`\n",
    "\n",
    "Follow the reference to write notebooks in a clear manner: https://github.com/causify-ai/helpers/blob/master/docs/coding/all.jupyter_notebook.how_to_guide.md"
   ]
  },
  {
   "cell_type": "code",
   "execution_count": 4,
   "id": "731422ac-e4ce-45d3-8bf0-f6dbed49910c",
   "metadata": {},
   "outputs": [
    {
     "name": "stdout",
     "output_type": "stream",
     "text": [
      "Collecting boto3\n",
      "  Downloading boto3-1.38.7-py3-none-any.whl.metadata (6.6 kB)\n",
      "Collecting botocore<1.39.0,>=1.38.7 (from boto3)\n",
      "  Downloading botocore-1.38.7-py3-none-any.whl.metadata (5.7 kB)\n",
      "Requirement already satisfied: jmespath<2.0.0,>=0.7.1 in /opt/anaconda3/lib/python3.12/site-packages (from boto3) (1.0.1)\n",
      "Collecting s3transfer<0.13.0,>=0.12.0 (from boto3)\n",
      "  Downloading s3transfer-0.12.0-py3-none-any.whl.metadata (1.7 kB)\n",
      "Requirement already satisfied: python-dateutil<3.0.0,>=2.1 in /opt/anaconda3/lib/python3.12/site-packages (from botocore<1.39.0,>=1.38.7->boto3) (2.9.0.post0)\n",
      "Requirement already satisfied: urllib3!=2.2.0,<3,>=1.25.4 in /opt/anaconda3/lib/python3.12/site-packages (from botocore<1.39.0,>=1.38.7->boto3) (2.2.3)\n",
      "Requirement already satisfied: six>=1.5 in /opt/anaconda3/lib/python3.12/site-packages (from python-dateutil<3.0.0,>=2.1->botocore<1.39.0,>=1.38.7->boto3) (1.16.0)\n",
      "Downloading boto3-1.38.7-py3-none-any.whl (139 kB)\n",
      "Downloading botocore-1.38.7-py3-none-any.whl (13.5 MB)\n",
      "\u001b[2K   \u001b[90m━━━━━━━━━━━━━━━━━━━━━━━━━━━━━━━━━━━━━━━━\u001b[0m \u001b[32m13.5/13.5 MB\u001b[0m \u001b[31m43.0 MB/s\u001b[0m eta \u001b[36m0:00:00\u001b[0m \u001b[36m0:00:01\u001b[0m\n",
      "\u001b[?25hDownloading s3transfer-0.12.0-py3-none-any.whl (84 kB)\n",
      "Installing collected packages: botocore, s3transfer, boto3\n",
      "  Attempting uninstall: botocore\n",
      "    Found existing installation: botocore 1.34.69\n",
      "    Uninstalling botocore-1.34.69:\n",
      "      Successfully uninstalled botocore-1.34.69\n",
      "\u001b[31mERROR: pip's dependency resolver does not currently take into account all the packages that are installed. This behaviour is the source of the following dependency conflicts.\n",
      "aiobotocore 2.12.3 requires botocore<1.34.70,>=1.34.41, but you have botocore 1.38.7 which is incompatible.\u001b[0m\u001b[31m\n",
      "\u001b[0mSuccessfully installed boto3-1.38.7 botocore-1.38.7 s3transfer-0.12.0\n",
      "Note: you may need to restart the kernel to use updated packages.\n"
     ]
    }
   ],
   "source": [
    "pip install boto3"
   ]
  },
  {
   "cell_type": "code",
   "execution_count": 10,
   "id": "49ceb66c-b2eb-4584-8250-eb7bda935b60",
   "metadata": {},
   "outputs": [
    {
     "name": "stdout",
     "output_type": "stream",
     "text": [
      "Uploaded to s3://data606-bitcoinbucket/raw/bitcoin_prices.json\n"
     ]
    }
   ],
   "source": [
    "import requests\n",
    "import boto3\n",
    "import json\n",
    "\n",
    "BUCKET_NAME = 'data606-bitcoinbucket'  # <--- change this\n",
    "RAW_KEY = 'raw/bitcoin_prices.json'\n",
    "\n",
    "url = \"https://api.coingecko.com/api/v3/coins/bitcoin/market_chart\"\n",
    "params = {\"vs_currency\": \"usd\", \"days\": \"30\"}\n",
    "\n",
    "response = requests.get(url, params=params)\n",
    "data = response.json()\n",
    "\n",
    "\n",
    "s3 = boto3.client('s3', region_name='us-east-2') \n",
    "s3.put_object(Bucket=BUCKET_NAME, Key=RAW_KEY, Body=json.dumps(data))\n",
    "\n",
    "print(f\"Uploaded to s3://{BUCKET_NAME}/{RAW_KEY}\")\n"
   ]
  }
 ],
 "metadata": {
  "kernelspec": {
   "display_name": "Python [conda env:base] *",
   "language": "python",
   "name": "conda-base-py"
  },
  "language_info": {
   "codemirror_mode": {
    "name": "ipython",
    "version": 3
   },
   "file_extension": ".py",
   "mimetype": "text/x-python",
   "name": "python",
   "nbconvert_exporter": "python",
   "pygments_lexer": "ipython3",
   "version": "3.12.7"
  }
 },
 "nbformat": 4,
 "nbformat_minor": 5
}
