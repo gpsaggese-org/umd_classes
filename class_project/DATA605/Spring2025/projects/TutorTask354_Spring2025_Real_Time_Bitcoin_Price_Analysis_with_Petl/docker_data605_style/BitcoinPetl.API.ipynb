{
 "cells": [
  {
   "cell_type": "markdown",
   "id": "99a55bdd-1e22-42fe-9109-359dab040962",
   "metadata": {},
   "source": [
    "# BitcoinPetl API Demo\n",
    "\n",
    "This notebook demonstrates the core ETL helper functions in `bitcoin_petl_utils.py`.  \n",
    "We’ll fetch live Bitcoin prices, generate demo data, apply a variety of PETL transformations,  \n",
    "and show how to convert to pandas for further analysis."
   ]
  },
  {
   "cell_type": "markdown",
   "id": "8bd3361e-7bb2-48e8-b8a1-736040273b97",
   "metadata": {},
   "source": [
    "## Imports & Setup\n",
    "\n",
    "We’re loading the minimal runtime dependencies.\n",
    "\n",
    "* petl for pure-ETL table transforms\n",
    "* pandas for DataFrame conversion demos\n",
    "* datetime for timestamp conversions\n",
    "* Our three API functions from bitcoin_petl_utils.py"
   ]
  },
  {
   "cell_type": "code",
   "execution_count": 1,
   "id": "4c8e56ea-e703-4b26-90af-59aaf15c10b7",
   "metadata": {},
   "outputs": [
    {
     "name": "stdout",
     "output_type": "stream",
     "text": [
      "Collecting petl\n",
      "  Downloading petl-1.7.16.tar.gz (420 kB)\n",
      "  Installing build dependencies ... \u001b[?25ldone\n",
      "\u001b[?25h  Getting requirements to build wheel ... \u001b[?25ldone\n",
      "\u001b[?25h  Preparing metadata (pyproject.toml) ... \u001b[?25ldone\n",
      "\u001b[?25hCollecting pandas\n",
      "  Downloading pandas-2.0.3-cp38-cp38-manylinux_2_17_x86_64.manylinux2014_x86_64.whl.metadata (18 kB)\n",
      "Collecting requests\n",
      "  Downloading requests-2.32.3-py3-none-any.whl.metadata (4.6 kB)\n",
      "Requirement already satisfied: python-dateutil>=2.8.2 in /usr/local/lib/python3.8/dist-packages (from pandas) (2.9.0.post0)\n",
      "Collecting pytz>=2020.1 (from pandas)\n",
      "  Downloading pytz-2025.2-py2.py3-none-any.whl.metadata (22 kB)\n",
      "Collecting tzdata>=2022.1 (from pandas)\n",
      "  Downloading tzdata-2025.2-py2.py3-none-any.whl.metadata (1.4 kB)\n",
      "Collecting numpy>=1.20.3 (from pandas)\n",
      "  Downloading numpy-1.24.4-cp38-cp38-manylinux_2_17_x86_64.manylinux2014_x86_64.whl.metadata (5.6 kB)\n",
      "Collecting charset-normalizer<4,>=2 (from requests)\n",
      "  Downloading charset_normalizer-3.4.2-cp38-cp38-manylinux_2_17_x86_64.manylinux2014_x86_64.whl.metadata (35 kB)\n",
      "Requirement already satisfied: idna<4,>=2.5 in /usr/local/lib/python3.8/dist-packages (from requests) (3.10)\n",
      "Collecting urllib3<3,>=1.21.1 (from requests)\n",
      "  Downloading urllib3-2.2.3-py3-none-any.whl.metadata (6.5 kB)\n",
      "Collecting certifi>=2017.4.17 (from requests)\n",
      "  Downloading certifi-2025.4.26-py3-none-any.whl.metadata (2.5 kB)\n",
      "Requirement already satisfied: six>=1.5 in /usr/local/lib/python3.8/dist-packages (from python-dateutil>=2.8.2->pandas) (1.17.0)\n",
      "Downloading pandas-2.0.3-cp38-cp38-manylinux_2_17_x86_64.manylinux2014_x86_64.whl (12.4 MB)\n",
      "\u001b[2K   \u001b[90m━━━━━━━━━━━━━━━━━━━━━━━━━━━━━━━━━━━━━━━━\u001b[0m \u001b[32m12.4/12.4 MB\u001b[0m \u001b[31m20.6 MB/s\u001b[0m eta \u001b[36m0:00:00\u001b[0m \u001b[36m0:00:01\u001b[0m\n",
      "\u001b[?25hDownloading requests-2.32.3-py3-none-any.whl (64 kB)\n",
      "Downloading certifi-2025.4.26-py3-none-any.whl (159 kB)\n",
      "Downloading charset_normalizer-3.4.2-cp38-cp38-manylinux_2_17_x86_64.manylinux2014_x86_64.whl (147 kB)\n",
      "Downloading numpy-1.24.4-cp38-cp38-manylinux_2_17_x86_64.manylinux2014_x86_64.whl (17.3 MB)\n",
      "\u001b[2K   \u001b[90m━━━━━━━━━━━━━━━━━━━━━━━━━━━━━━━━━━━━━━━━\u001b[0m \u001b[32m17.3/17.3 MB\u001b[0m \u001b[31m22.1 MB/s\u001b[0m eta \u001b[36m0:00:00\u001b[0ma \u001b[36m0:00:01\u001b[0m\n",
      "\u001b[?25hDownloading pytz-2025.2-py2.py3-none-any.whl (509 kB)\n",
      "Downloading tzdata-2025.2-py2.py3-none-any.whl (347 kB)\n",
      "Downloading urllib3-2.2.3-py3-none-any.whl (126 kB)\n",
      "Building wheels for collected packages: petl\n",
      "  Building wheel for petl (pyproject.toml) ... \u001b[?25ldone\n",
      "\u001b[?25h  Created wheel for petl: filename=petl-1.7.16-py3-none-any.whl size=231261 sha256=1e406f3a5e2115de28cf7c816b1a426765e489fbdcf67e4cd43de3a2d7914a39\n",
      "  Stored in directory: /root/.cache/pip/wheels/5d/19/2c/2736fa4061fea03e07edc3f842a65324444fc523e3795a03c4\n",
      "Successfully built petl\n",
      "Installing collected packages: pytz, urllib3, tzdata, petl, numpy, charset-normalizer, certifi, requests, pandas\n",
      "Successfully installed certifi-2025.4.26 charset-normalizer-3.4.2 numpy-1.24.4 pandas-2.0.3 petl-1.7.16 pytz-2025.2 requests-2.32.3 tzdata-2025.2 urllib3-2.2.3\n",
      "\u001b[33mWARNING: Running pip as the 'root' user can result in broken permissions and conflicting behaviour with the system package manager, possibly rendering your system unusable. It is recommended to use a virtual environment instead: https://pip.pypa.io/warnings/venv. Use the --root-user-action option if you know what you are doing and want to suppress this warning.\u001b[0m\u001b[33m\n",
      "\u001b[0m"
     ]
    }
   ],
   "source": [
    "!pip install petl pandas requests \n",
    "import petl as etl\n",
    "import pandas as pd\n",
    "from datetime import datetime\n",
    "from bitcoin_petl_utils import (\n",
    "    fetch_btc_price_table,\n",
    "    filter_recent,\n",
    "    expand_demo_rows,\n",
    ")"
   ]
  },
  {
   "cell_type": "markdown",
   "id": "9a4cb919-35fd-4b43-a856-0ea026789ac8",
   "metadata": {},
   "source": [
    "## Fetch & Expand to 5 Rows"
   ]
  },
  {
   "cell_type": "code",
   "execution_count": 2,
   "id": "aa63a549-c39c-4d09-8a89-a7a1a55d350d",
   "metadata": {},
   "outputs": [
    {
     "name": "stdout",
     "output_type": "stream",
     "text": [
      "Demo PETL table (5 rows):\n",
      "+------------+-----------+\n",
      "| timestamp  | price_usd |\n",
      "+============+===========+\n",
      "| 1747612967 |    106307 |\n",
      "+------------+-----------+\n",
      "| 1747613027 |    106307 |\n",
      "+------------+-----------+\n",
      "| 1747613087 |    106307 |\n",
      "+------------+-----------+\n",
      "| 1747613147 |    106307 |\n",
      "+------------+-----------+\n",
      "| 1747613207 |    106307 |\n",
      "+------------+-----------+\n",
      "\n"
     ]
    }
   ],
   "source": [
    "# 1. Fetch a single live row\n",
    "tbl = fetch_btc_price_table()\n",
    "\n",
    "# 2. Expand into 5 demo rows, each 60s earlier than the next\n",
    "demo_tbl = expand_demo_rows(tbl, n=5, dt=60)\n",
    "\n",
    "print(\"Demo PETL table (5 rows):\")\n",
    "print(etl.look(demo_tbl))"
   ]
  },
  {
   "cell_type": "markdown",
   "id": "e8d54876",
   "metadata": {},
   "source": [
    "You should see a 5-row table with identical price values and timestamps spaced by one minute.\n",
    "Confirms both fetch_btc_price_table() and expand_demo_rows() work."
   ]
  },
  {
   "cell_type": "markdown",
   "id": "2c873187",
   "metadata": {},
   "source": [
    "## Convert, Rename & Sort\n",
    "\n",
    "* Convert raw UNIX timestamp into a readable time_str.\n",
    "\n",
    "* Cast price_usd to float and rename to price_usd_float.\n",
    "\n",
    "* Sort rows by price descending to highlight the highest values first."
   ]
  },
  {
   "cell_type": "code",
   "execution_count": 3,
   "id": "80cf48bf",
   "metadata": {},
   "outputs": [
    {
     "name": "stdout",
     "output_type": "stream",
     "text": [
      "After convert → rename → sort:\n",
      "+-----------------------+-----------------+\n",
      "| time_str              | price_usd_float |\n",
      "+=======================+=================+\n",
      "| '2025-05-19 00:02:47' |        106307.0 |\n",
      "+-----------------------+-----------------+\n",
      "| '2025-05-19 00:03:47' |        106307.0 |\n",
      "+-----------------------+-----------------+\n",
      "| '2025-05-19 00:04:47' |        106307.0 |\n",
      "+-----------------------+-----------------+\n",
      "| '2025-05-19 00:05:47' |        106307.0 |\n",
      "+-----------------------+-----------------+\n",
      "| '2025-05-19 00:06:47' |        106307.0 |\n",
      "+-----------------------+-----------------+\n",
      "\n"
     ]
    }
   ],
   "source": [
    "# Convert UNIX timestamp to human string, cast price, rename cols, then sort by price desc\n",
    "converted = (\n",
    "    demo_tbl\n",
    "    .convert('timestamp', lambda t: datetime.fromtimestamp(t).strftime('%Y-%m-%d %H:%M:%S'))\n",
    "    .convert('price_usd', float)\n",
    "    .rename('timestamp', 'time_str')\n",
    "    .rename('price_usd', 'price_usd_float')\n",
    "    .sort('price_usd_float', reverse=True)\n",
    ")\n",
    "\n",
    "print(\"After convert → rename → sort:\")\n",
    "print(etl.look(converted))"
   ]
  },
  {
   "cell_type": "markdown",
   "id": "6c67dd32",
   "metadata": {},
   "source": [
    "The printed table shows time_str and price_usd_float columns, sorted by price in descending order.\n",
    "Demonstrates chaining multiple PETL transforms in one pipeline."
   ]
  },
  {
   "cell_type": "markdown",
   "id": "2faa198d",
   "metadata": {},
   "source": [
    "## Binning & Aggregation\n",
    "\n",
    "* Create a new column price_k_usd by flooring the float price to the nearest $1000.\n",
    "\n",
    "* Group by that bucket and aggregate to count rows per bucket.\n",
    "This shows grouping and summary without leaving PETL."
   ]
  },
  {
   "cell_type": "code",
   "execution_count": 4,
   "id": "1c625155",
   "metadata": {},
   "outputs": [
    {
     "name": "stdout",
     "output_type": "stream",
     "text": [
      "Price buckets and counts:\n",
      "+-------------+-------+\n",
      "| price_k_usd | count |\n",
      "+=============+=======+\n",
      "|      106000 |     5 |\n",
      "+-------------+-------+\n",
      "\n"
     ]
    }
   ],
   "source": [
    "# 5. Bin prices into $1000 buckets and count per bucket\n",
    "binned = (\n",
    "    converted\n",
    "    # create a new 'price_k' field: floor(price/1000)*1000\n",
    "    .convert('price_usd_float', lambda p: int(p // 1000) * 1000)\n",
    "    .rename('price_usd_float', 'price_k_usd')\n",
    ")\n",
    "# aggregate: count how many rows fall in each bucket\n",
    "agg = etl.aggregate(\n",
    "    binned,\n",
    "    key='price_k_usd',\n",
    "    aggregation={'count': (lambda rows: sum(1 for _ in rows))}\n",
    ")\n",
    "print(\"Price buckets and counts:\")\n",
    "print(etl.look(agg))\n"
   ]
  },
  {
   "cell_type": "markdown",
   "id": "40a0d220",
   "metadata": {},
   "source": [
    "The output lists each bucket (e.g. 56000) and a count (likely 5).\n",
    "Illustrates PETL’s ability to bin and summarize tabular data."
   ]
  },
  {
   "cell_type": "markdown",
   "id": "80aebad7-073d-47ef-9ea9-81c8321b0a3c",
   "metadata": {},
   "source": [
    "## Filter Recent Rows\n",
    "\n",
    "Demonstrate time-window filtering on a PETL table using our helper.\n",
    "Since our demo spans 5 minutes total, all rows should remain."
   ]
  },
  {
   "cell_type": "code",
   "execution_count": 5,
   "id": "7aba4725-8f0c-437d-918b-11c2768e980c",
   "metadata": {},
   "outputs": [
    {
     "name": "stdout",
     "output_type": "stream",
     "text": [
      "\n",
      "After filter_recent(tbl, 10):\n",
      "+------------+-----------+\n",
      "| timestamp  | price_usd |\n",
      "+============+===========+\n",
      "| 1747613207 |    106307 |\n",
      "+------------+-----------+\n",
      "\n"
     ]
    }
   ],
   "source": [
    "# Demonstrate filter_recent on a single-row table\n",
    "recent_tbl = filter_recent(tbl, lookback_min=10)\n",
    "print(\"\\nAfter filter_recent(tbl, 10):\")\n",
    "print(etl.look(recent_tbl))"
   ]
  },
  {
   "cell_type": "markdown",
   "id": "03a9914c-54e0-4e4d-a737-d54577e4c7d7",
   "metadata": {},
   "source": [
    "## Expand Demo Rows"
   ]
  },
  {
   "cell_type": "code",
   "execution_count": 6,
   "id": "96055d25-986c-4eee-82ed-0eb82564c06a",
   "metadata": {},
   "outputs": [
    {
     "name": "stdout",
     "output_type": "stream",
     "text": [
      "\n",
      "Demo table with 5 synthetic rows:\n",
      "+------------+-----------+\n",
      "| timestamp  | price_usd |\n",
      "+============+===========+\n",
      "| 1747612967 |    106307 |\n",
      "+------------+-----------+\n",
      "| 1747613027 |    106307 |\n",
      "+------------+-----------+\n",
      "| 1747613087 |    106307 |\n",
      "+------------+-----------+\n",
      "| 1747613147 |    106307 |\n",
      "+------------+-----------+\n",
      "| 1747613207 |    106307 |\n",
      "+------------+-----------+\n",
      "\n"
     ]
    }
   ],
   "source": [
    "# Create a 5-row demo table for demonstration purposes\n",
    "demo_tbl = expand_demo_rows(tbl, n=5, dt=60)\n",
    "print(\"\\nDemo table with 5 synthetic rows:\")\n",
    "print(etl.look(demo_tbl))"
   ]
  },
  {
   "cell_type": "markdown",
   "id": "373e7e98-5c88-4b15-8cb5-255af650bdab",
   "metadata": {},
   "source": [
    "## Convert to pandas DataFrame\n",
    "\n",
    "Illustrate interoperability: switch from PETL to pandas DataFrame.\n",
    "Parse the time_str into a datetime index."
   ]
  },
  {
   "cell_type": "code",
   "execution_count": 7,
   "id": "a8f1db8c-1dbe-48f6-bffd-16c42d06ed33",
   "metadata": {},
   "outputs": [
    {
     "data": {
      "text/html": [
       "<div>\n",
       "<style scoped>\n",
       "    .dataframe tbody tr th:only-of-type {\n",
       "        vertical-align: middle;\n",
       "    }\n",
       "\n",
       "    .dataframe tbody tr th {\n",
       "        vertical-align: top;\n",
       "    }\n",
       "\n",
       "    .dataframe thead th {\n",
       "        text-align: right;\n",
       "    }\n",
       "</style>\n",
       "<table border=\"1\" class=\"dataframe\">\n",
       "  <thead>\n",
       "    <tr style=\"text-align: right;\">\n",
       "      <th></th>\n",
       "      <th>price_usd</th>\n",
       "    </tr>\n",
       "    <tr>\n",
       "      <th>timestamp</th>\n",
       "      <th></th>\n",
       "    </tr>\n",
       "  </thead>\n",
       "  <tbody>\n",
       "    <tr>\n",
       "      <th>2025-05-19 00:02:47</th>\n",
       "      <td>106307</td>\n",
       "    </tr>\n",
       "    <tr>\n",
       "      <th>2025-05-19 00:03:47</th>\n",
       "      <td>106307</td>\n",
       "    </tr>\n",
       "    <tr>\n",
       "      <th>2025-05-19 00:04:47</th>\n",
       "      <td>106307</td>\n",
       "    </tr>\n",
       "    <tr>\n",
       "      <th>2025-05-19 00:05:47</th>\n",
       "      <td>106307</td>\n",
       "    </tr>\n",
       "    <tr>\n",
       "      <th>2025-05-19 00:06:47</th>\n",
       "      <td>106307</td>\n",
       "    </tr>\n",
       "  </tbody>\n",
       "</table>\n",
       "</div>"
      ],
      "text/plain": [
       "                     price_usd\n",
       "timestamp                     \n",
       "2025-05-19 00:02:47     106307\n",
       "2025-05-19 00:03:47     106307\n",
       "2025-05-19 00:04:47     106307\n",
       "2025-05-19 00:05:47     106307\n",
       "2025-05-19 00:06:47     106307"
      ]
     },
     "execution_count": 7,
     "metadata": {},
     "output_type": "execute_result"
    }
   ],
   "source": [
    "# Convert the PETL table to a pandas DataFrame\n",
    "df = etl.todataframe(demo_tbl)\n",
    "df['timestamp'] = pd.to_datetime(df['timestamp'], unit='s')\n",
    "df.set_index('timestamp', inplace=True)\n",
    "df.head()"
   ]
  },
  {
   "cell_type": "markdown",
   "id": "601be09d",
   "metadata": {},
   "source": [
    "'df.head()' shows the first rows with a datetime index and price_k_usd column.\n",
    "Confirms you can drop into pandas at any point."
   ]
  },
  {
   "cell_type": "markdown",
   "id": "93ce7e80-b1b7-4910-9854-9a43b3a25d62",
   "metadata": {},
   "source": [
    "## Error Handling Example"
   ]
  },
  {
   "cell_type": "code",
   "execution_count": 8,
   "id": "af1b1ceb-9662-4779-b38c-e6f32ed57fb4",
   "metadata": {},
   "outputs": [
    {
     "name": "stdout",
     "output_type": "stream",
     "text": [
      "Caught an error as expected: HTTPSConnectionPool(host='api.coingecko.invalid', port=443): Max retries exceeded with url: /foo (Caused by NameResolutionError(\"<urllib3.connection.HTTPSConnection object at 0x7ffb517b9e20>: Failed to resolve 'api.coingecko.invalid' ([Errno -2] Name or service not known)\"))\n"
     ]
    },
    {
     "data": {
      "text/plain": [
       "<module 'bitcoin_petl_utils' from '/data/bitcoin_petl_utils.py'>"
      ]
     },
     "execution_count": 8,
     "metadata": {},
     "output_type": "execute_result"
    }
   ],
   "source": [
    "# Show error handling by pointing to a bad URL\n",
    "import importlib\n",
    "import bitcoin_petl_utils as utils\n",
    "# Temporarily break the URL\n",
    "utils.CG_URL = \"https://api.coingecko.invalid/foo\"\n",
    "try:\n",
    "    _ = fetch_btc_price_table()\n",
    "except Exception as e:\n",
    "    print(\"Caught an error as expected:\", e)\n",
    "# Restore original module state\n",
    "importlib.reload(utils)"
   ]
  },
  {
   "cell_type": "markdown",
   "id": "92cd9696-11b0-47fc-9292-145e65bde3f3",
   "metadata": {},
   "source": [
    "## Wrap-Up & Takeaways\n",
    "\n",
    "1. **`fetch_btc_price_table()`**  \n",
    "   - Fetches a single, real-time Bitcoin price from CoinGecko.  \n",
    "   - Returns a one-row Petl table with UNIX `timestamp` and `price_usd`.\n",
    "\n",
    "2. **`expand_demo_rows(tbl, n, dt)`**  \n",
    "   - Clones that one row into `n` rows, each shifted by `dt` seconds.  \n",
    "   - Useful for showing ETL operations on multi-row data in tutorials.  \n",
    "   - In this demo, we generated 5 rows spaced 1 minute apart.\n",
    "\n",
    "3. **`filter_recent(table, lookback_min)`**  \n",
    "   - Converts the `timestamp` column to integers and keeps only rows  \n",
    "     within the last `lookback_min` minutes.  \n",
    "   - When run on our 5-row demo, it lets you see how filtering works  \n",
    "     across multiple records rather than just one.\n",
    "\n",
    "4. **Converting Petl → pandas**  \n",
    "   - `etl.todataframe()` turns a Petl table into a pandas DataFrame.  \n",
    "   - After parsing the timestamps into datetime objects, you can  \n",
    "     leverage pandas’ powerful time-series tools (rolling windows, plotting, etc.).\n",
    "\n",
    "---\n",
    "\n",
    "By walking through:\n",
    "\n",
    "- **a real fetch**,  \n",
    "- **synthetic multi-row generation**,  \n",
    "- **time-based filtering**,  \n",
    "- and **conversion to pandas**,  \n",
    "\n",
    "you now have a clear recipe for integrating live BTC data into any ETL or analytics pipeline. "
   ]
  },
  {
   "cell_type": "code",
   "execution_count": null,
   "id": "dc698322-e3b3-4ab6-ae6b-d7240742aa31",
   "metadata": {},
   "outputs": [],
   "source": []
  }
 ],
 "metadata": {
  "kernelspec": {
   "display_name": "Python 3 (ipykernel)",
   "language": "python",
   "name": "python3"
  },
  "language_info": {
   "codemirror_mode": {
    "name": "ipython",
    "version": 3
   },
   "file_extension": ".py",
   "mimetype": "text/x-python",
   "name": "python",
   "nbconvert_exporter": "python",
   "pygments_lexer": "ipython3",
   "version": "3.8.10"
  }
 },
 "nbformat": 4,
 "nbformat_minor": 5
}
