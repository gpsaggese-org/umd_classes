{
 "cells": [
  {
   "cell_type": "markdown",
   "id": "13f99ad9",
   "metadata": {},
   "source": [
    "\n",
    "\n",
    "# Bitcoin News: Time Series Sentiment & Price Prediction\n",
    "This notebook demonstrates how we can use real-time news data to:\n",
    "- Extract daily sentiment and topics\n",
    "- Aggregate into time series features\n",
    "- Join with Bitcoin prices\n",
    "- Predict BTC price movement using ML models\n"
   ]
  },
  {
   "cell_type": "markdown",
   "id": "fb752436",
   "metadata": {
    "ExecuteTime": {
     "end_time": "2025-05-17T23:09:49.457038Z",
     "start_time": "2025-05-17T23:09:49.450623Z"
    }
   },
   "source": [
    "##### Installations"
   ]
  },
  {
   "cell_type": "code",
   "execution_count": 1,
   "id": "f00646ae",
   "metadata": {
    "ExecuteTime": {
     "end_time": "2025-05-17T18:30:11.535751Z",
     "start_time": "2025-05-17T18:30:01.956840Z"
    }
   },
   "outputs": [
    {
     "name": "stdout",
     "output_type": "stream",
     "text": [
      "Collecting seaborn\n",
      "  Downloading seaborn-0.13.2-py3-none-any.whl.metadata (5.4 kB)\n",
      "Requirement already satisfied: numpy!=1.24.0,>=1.20 in /usr/local/lib/python3.8/dist-packages (from seaborn) (1.24.3)\n",
      "Requirement already satisfied: pandas>=1.2 in /usr/local/lib/python3.8/dist-packages (from seaborn) (2.0.3)\n",
      "Collecting matplotlib!=3.6.1,>=3.4 (from seaborn)\n",
      "  Downloading matplotlib-3.7.5-cp38-cp38-manylinux_2_12_x86_64.manylinux2010_x86_64.whl.metadata (5.7 kB)\n",
      "Collecting contourpy>=1.0.1 (from matplotlib!=3.6.1,>=3.4->seaborn)\n",
      "  Downloading contourpy-1.1.1-cp38-cp38-manylinux_2_17_x86_64.manylinux2014_x86_64.whl.metadata (5.9 kB)\n",
      "Collecting cycler>=0.10 (from matplotlib!=3.6.1,>=3.4->seaborn)\n",
      "  Downloading cycler-0.12.1-py3-none-any.whl.metadata (3.8 kB)\n",
      "Collecting fonttools>=4.22.0 (from matplotlib!=3.6.1,>=3.4->seaborn)\n",
      "  Downloading fonttools-4.57.0-cp38-cp38-manylinux_2_17_x86_64.manylinux2014_x86_64.whl.metadata (102 kB)\n",
      "Collecting kiwisolver>=1.0.1 (from matplotlib!=3.6.1,>=3.4->seaborn)\n",
      "  Downloading kiwisolver-1.4.7-cp38-cp38-manylinux_2_5_x86_64.manylinux1_x86_64.whl.metadata (6.3 kB)\n",
      "Requirement already satisfied: packaging>=20.0 in /usr/local/lib/python3.8/dist-packages (from matplotlib!=3.6.1,>=3.4->seaborn) (24.2)\n",
      "Requirement already satisfied: pillow>=6.2.0 in /usr/local/lib/python3.8/dist-packages (from matplotlib!=3.6.1,>=3.4->seaborn) (10.4.0)\n",
      "Collecting pyparsing>=2.3.1 (from matplotlib!=3.6.1,>=3.4->seaborn)\n",
      "  Downloading pyparsing-3.1.4-py3-none-any.whl.metadata (5.1 kB)\n",
      "Requirement already satisfied: python-dateutil>=2.7 in /usr/local/lib/python3.8/dist-packages (from matplotlib!=3.6.1,>=3.4->seaborn) (2.9.0.post0)\n",
      "Requirement already satisfied: importlib-resources>=3.2.0 in /usr/local/lib/python3.8/dist-packages (from matplotlib!=3.6.1,>=3.4->seaborn) (6.4.5)\n",
      "Requirement already satisfied: pytz>=2020.1 in /usr/local/lib/python3.8/dist-packages (from pandas>=1.2->seaborn) (2025.2)\n",
      "Requirement already satisfied: tzdata>=2022.1 in /usr/local/lib/python3.8/dist-packages (from pandas>=1.2->seaborn) (2025.2)\n",
      "Requirement already satisfied: zipp>=3.1.0 in /usr/local/lib/python3.8/dist-packages (from importlib-resources>=3.2.0->matplotlib!=3.6.1,>=3.4->seaborn) (3.20.2)\n",
      "Requirement already satisfied: six>=1.5 in /usr/local/lib/python3.8/dist-packages (from python-dateutil>=2.7->matplotlib!=3.6.1,>=3.4->seaborn) (1.17.0)\n",
      "Downloading seaborn-0.13.2-py3-none-any.whl (294 kB)\n",
      "Downloading matplotlib-3.7.5-cp38-cp38-manylinux_2_12_x86_64.manylinux2010_x86_64.whl (9.2 MB)\n",
      "\u001b[2K   \u001b[90m━━━━━━━━━━━━━━━━━━━━━━━━━━━━━━━━━━━━━━━━\u001b[0m \u001b[32m9.2/9.2 MB\u001b[0m \u001b[31m42.0 MB/s\u001b[0m eta \u001b[36m0:00:00\u001b[0m00:01\u001b[0m\n",
      "\u001b[?25hDownloading contourpy-1.1.1-cp38-cp38-manylinux_2_17_x86_64.manylinux2014_x86_64.whl (301 kB)\n",
      "Downloading cycler-0.12.1-py3-none-any.whl (8.3 kB)\n",
      "Downloading fonttools-4.57.0-cp38-cp38-manylinux_2_17_x86_64.manylinux2014_x86_64.whl (4.7 MB)\n",
      "\u001b[2K   \u001b[90m━━━━━━━━━━━━━━━━━━━━━━━━━━━━━━━━━━━━━━━━\u001b[0m \u001b[32m4.7/4.7 MB\u001b[0m \u001b[31m64.9 MB/s\u001b[0m eta \u001b[36m0:00:00\u001b[0m\n",
      "\u001b[?25hDownloading kiwisolver-1.4.7-cp38-cp38-manylinux_2_5_x86_64.manylinux1_x86_64.whl (1.2 MB)\n",
      "\u001b[2K   \u001b[90m━━━━━━━━━━━━━━━━━━━━━━━━━━━━━━━━━━━━━━━━\u001b[0m \u001b[32m1.2/1.2 MB\u001b[0m \u001b[31m47.2 MB/s\u001b[0m eta \u001b[36m0:00:00\u001b[0m\n",
      "\u001b[?25hDownloading pyparsing-3.1.4-py3-none-any.whl (104 kB)\n",
      "Installing collected packages: pyparsing, kiwisolver, fonttools, cycler, contourpy, matplotlib, seaborn\n",
      "Successfully installed contourpy-1.1.1 cycler-0.12.1 fonttools-4.57.0 kiwisolver-1.4.7 matplotlib-3.7.5 pyparsing-3.1.4 seaborn-0.13.2\n",
      "\u001b[33mWARNING: Running pip as the 'root' user can result in broken permissions and conflicting behaviour with the system package manager, possibly rendering your system unusable. It is recommended to use a virtual environment instead: https://pip.pypa.io/warnings/venv. Use the --root-user-action option if you know what you are doing and want to suppress this warning.\u001b[0m\u001b[33m\n",
      "\u001b[0m"
     ]
    }
   ],
   "source": [
    "!pip install seaborn"
   ]
  },
  {
   "cell_type": "code",
   "execution_count": 2,
   "id": "b3de382c",
   "metadata": {
    "ExecuteTime": {
     "end_time": "2025-05-17T18:30:19.105661Z",
     "start_time": "2025-05-17T18:30:13.506658Z"
    }
   },
   "outputs": [
    {
     "name": "stdout",
     "output_type": "stream",
     "text": [
      "Requirement already satisfied: tensorflow in /usr/local/lib/python3.8/dist-packages (2.13.1)\n",
      "Requirement already satisfied: absl-py>=1.0.0 in /usr/local/lib/python3.8/dist-packages (from tensorflow) (2.2.2)\n",
      "Requirement already satisfied: astunparse>=1.6.0 in /usr/local/lib/python3.8/dist-packages (from tensorflow) (1.6.3)\n",
      "Requirement already satisfied: flatbuffers>=23.1.21 in /usr/local/lib/python3.8/dist-packages (from tensorflow) (25.2.10)\n",
      "Requirement already satisfied: gast<=0.4.0,>=0.2.1 in /usr/local/lib/python3.8/dist-packages (from tensorflow) (0.4.0)\n",
      "Requirement already satisfied: google-pasta>=0.1.1 in /usr/local/lib/python3.8/dist-packages (from tensorflow) (0.2.0)\n",
      "Requirement already satisfied: grpcio<2.0,>=1.24.3 in /usr/local/lib/python3.8/dist-packages (from tensorflow) (1.70.0)\n",
      "Requirement already satisfied: h5py>=2.9.0 in /usr/local/lib/python3.8/dist-packages (from tensorflow) (3.11.0)\n",
      "Requirement already satisfied: keras<2.14,>=2.13.1 in /usr/local/lib/python3.8/dist-packages (from tensorflow) (2.13.1)\n",
      "Requirement already satisfied: libclang>=13.0.0 in /usr/local/lib/python3.8/dist-packages (from tensorflow) (18.1.1)\n",
      "Requirement already satisfied: numpy<=1.24.3,>=1.22 in /usr/local/lib/python3.8/dist-packages (from tensorflow) (1.24.3)\n",
      "Requirement already satisfied: opt-einsum>=2.3.2 in /usr/local/lib/python3.8/dist-packages (from tensorflow) (3.4.0)\n",
      "Requirement already satisfied: packaging in /usr/local/lib/python3.8/dist-packages (from tensorflow) (24.2)\n",
      "Requirement already satisfied: protobuf!=4.21.0,!=4.21.1,!=4.21.2,!=4.21.3,!=4.21.4,!=4.21.5,<5.0.0dev,>=3.20.3 in /usr/local/lib/python3.8/dist-packages (from tensorflow) (4.25.6)\n",
      "Requirement already satisfied: setuptools in /usr/lib/python3/dist-packages (from tensorflow) (45.2.0)\n",
      "Requirement already satisfied: six>=1.12.0 in /usr/local/lib/python3.8/dist-packages (from tensorflow) (1.17.0)\n",
      "Requirement already satisfied: tensorboard<2.14,>=2.13 in /usr/local/lib/python3.8/dist-packages (from tensorflow) (2.13.0)\n",
      "Requirement already satisfied: tensorflow-estimator<2.14,>=2.13.0 in /usr/local/lib/python3.8/dist-packages (from tensorflow) (2.13.0)\n",
      "Requirement already satisfied: termcolor>=1.1.0 in /usr/local/lib/python3.8/dist-packages (from tensorflow) (2.4.0)\n",
      "Requirement already satisfied: typing-extensions<4.6.0,>=3.6.6 in /usr/local/lib/python3.8/dist-packages (from tensorflow) (4.5.0)\n",
      "Requirement already satisfied: wrapt>=1.11.0 in /usr/local/lib/python3.8/dist-packages (from tensorflow) (1.17.2)\n",
      "Requirement already satisfied: tensorflow-io-gcs-filesystem>=0.23.1 in /usr/local/lib/python3.8/dist-packages (from tensorflow) (0.34.0)\n",
      "Requirement already satisfied: wheel<1.0,>=0.23.0 in /usr/lib/python3/dist-packages (from astunparse>=1.6.0->tensorflow) (0.34.2)\n",
      "Requirement already satisfied: google-auth<3,>=1.6.3 in /usr/local/lib/python3.8/dist-packages (from tensorboard<2.14,>=2.13->tensorflow) (2.38.0)\n",
      "Requirement already satisfied: google-auth-oauthlib<1.1,>=0.5 in /usr/local/lib/python3.8/dist-packages (from tensorboard<2.14,>=2.13->tensorflow) (1.0.0)\n",
      "Requirement already satisfied: markdown>=2.6.8 in /usr/local/lib/python3.8/dist-packages (from tensorboard<2.14,>=2.13->tensorflow) (3.7)\n",
      "Requirement already satisfied: requests<3,>=2.21.0 in /usr/local/lib/python3.8/dist-packages (from tensorboard<2.14,>=2.13->tensorflow) (2.32.3)\n",
      "Requirement already satisfied: tensorboard-data-server<0.8.0,>=0.7.0 in /usr/local/lib/python3.8/dist-packages (from tensorboard<2.14,>=2.13->tensorflow) (0.7.2)\n",
      "Requirement already satisfied: werkzeug>=1.0.1 in /usr/local/lib/python3.8/dist-packages (from tensorboard<2.14,>=2.13->tensorflow) (3.0.6)\n",
      "Requirement already satisfied: cachetools<6.0,>=2.0.0 in /usr/local/lib/python3.8/dist-packages (from google-auth<3,>=1.6.3->tensorboard<2.14,>=2.13->tensorflow) (5.5.2)\n",
      "Requirement already satisfied: pyasn1-modules>=0.2.1 in /usr/local/lib/python3.8/dist-packages (from google-auth<3,>=1.6.3->tensorboard<2.14,>=2.13->tensorflow) (0.4.2)\n",
      "Requirement already satisfied: rsa<5,>=3.1.4 in /usr/local/lib/python3.8/dist-packages (from google-auth<3,>=1.6.3->tensorboard<2.14,>=2.13->tensorflow) (4.9)\n",
      "Requirement already satisfied: requests-oauthlib>=0.7.0 in /usr/local/lib/python3.8/dist-packages (from google-auth-oauthlib<1.1,>=0.5->tensorboard<2.14,>=2.13->tensorflow) (2.0.0)\n",
      "Requirement already satisfied: importlib-metadata>=4.4 in /usr/local/lib/python3.8/dist-packages (from markdown>=2.6.8->tensorboard<2.14,>=2.13->tensorflow) (8.5.0)\n",
      "Requirement already satisfied: charset-normalizer<4,>=2 in /usr/local/lib/python3.8/dist-packages (from requests<3,>=2.21.0->tensorboard<2.14,>=2.13->tensorflow) (3.4.1)\n",
      "Requirement already satisfied: idna<4,>=2.5 in /usr/local/lib/python3.8/dist-packages (from requests<3,>=2.21.0->tensorboard<2.14,>=2.13->tensorflow) (3.10)\n",
      "Requirement already satisfied: urllib3<3,>=1.21.1 in /usr/local/lib/python3.8/dist-packages (from requests<3,>=2.21.0->tensorboard<2.14,>=2.13->tensorflow) (2.2.3)\n",
      "Requirement already satisfied: certifi>=2017.4.17 in /usr/local/lib/python3.8/dist-packages (from requests<3,>=2.21.0->tensorboard<2.14,>=2.13->tensorflow) (2025.1.31)\n",
      "Requirement already satisfied: MarkupSafe>=2.1.1 in /usr/local/lib/python3.8/dist-packages (from werkzeug>=1.0.1->tensorboard<2.14,>=2.13->tensorflow) (2.1.5)\n",
      "Requirement already satisfied: zipp>=3.20 in /usr/local/lib/python3.8/dist-packages (from importlib-metadata>=4.4->markdown>=2.6.8->tensorboard<2.14,>=2.13->tensorflow) (3.20.2)\n",
      "Requirement already satisfied: pyasn1<0.7.0,>=0.6.1 in /usr/local/lib/python3.8/dist-packages (from pyasn1-modules>=0.2.1->google-auth<3,>=1.6.3->tensorboard<2.14,>=2.13->tensorflow) (0.6.1)\n",
      "Requirement already satisfied: oauthlib>=3.0.0 in /usr/local/lib/python3.8/dist-packages (from requests-oauthlib>=0.7.0->google-auth-oauthlib<1.1,>=0.5->tensorboard<2.14,>=2.13->tensorflow) (3.2.2)\n",
      "\u001b[33mWARNING: Running pip as the 'root' user can result in broken permissions and conflicting behaviour with the system package manager, possibly rendering your system unusable. It is recommended to use a virtual environment instead: https://pip.pypa.io/warnings/venv. Use the --root-user-action option if you know what you are doing and want to suppress this warning.\u001b[0m\u001b[33m\n",
      "\u001b[0mNote: you may need to restart the kernel to use updated packages.\n"
     ]
    }
   ],
   "source": [
    "pip install tensorflow"
   ]
  },
  {
   "cell_type": "code",
   "execution_count": 3,
   "id": "ef28057f",
   "metadata": {
    "ExecuteTime": {
     "end_time": "2025-05-17T18:30:51.597173Z",
     "start_time": "2025-05-17T18:30:23.648933Z"
    }
   },
   "outputs": [
    {
     "name": "stdout",
     "output_type": "stream",
     "text": [
      "Collecting xgboost\n",
      "  Downloading xgboost-2.1.4-py3-none-manylinux_2_28_x86_64.whl.metadata (2.1 kB)\n",
      "Requirement already satisfied: numpy in /usr/local/lib/python3.8/dist-packages (from xgboost) (1.24.3)\n",
      "Collecting nvidia-nccl-cu12 (from xgboost)\n",
      "  Downloading nvidia_nccl_cu12-2.26.5-py3-none-manylinux2014_x86_64.manylinux_2_17_x86_64.whl.metadata (2.0 kB)\n",
      "Collecting scipy (from xgboost)\n",
      "  Downloading scipy-1.10.1-cp38-cp38-manylinux_2_17_x86_64.manylinux2014_x86_64.whl.metadata (58 kB)\n",
      "Downloading xgboost-2.1.4-py3-none-manylinux_2_28_x86_64.whl (223.6 MB)\n",
      "\u001b[2K   \u001b[90m━━━━━━━━━━━━━━━━━━━━━━━━━━━━━━━━━━━━━━━━\u001b[0m \u001b[32m223.6/223.6 MB\u001b[0m \u001b[31m52.3 MB/s\u001b[0m eta \u001b[36m0:00:00\u001b[0m00:01\u001b[0m00:01\u001b[0m\n",
      "\u001b[?25hDownloading nvidia_nccl_cu12-2.26.5-py3-none-manylinux2014_x86_64.manylinux_2_17_x86_64.whl (318.1 MB)\n",
      "\u001b[2K   \u001b[90m━━━━━━━━━━━━━━━━━━━━━━━━━━━━━━━━━━━━━━━━\u001b[0m \u001b[32m318.1/318.1 MB\u001b[0m \u001b[31m62.3 MB/s\u001b[0m eta \u001b[36m0:00:00\u001b[0m00:01\u001b[0m00:01\u001b[0m\n",
      "\u001b[?25hDownloading scipy-1.10.1-cp38-cp38-manylinux_2_17_x86_64.manylinux2014_x86_64.whl (34.5 MB)\n",
      "\u001b[2K   \u001b[90m━━━━━━━━━━━━━━━━━━━━━━━━━━━━━━━━━━━━━━━━\u001b[0m \u001b[32m34.5/34.5 MB\u001b[0m \u001b[31m64.3 MB/s\u001b[0m eta \u001b[36m0:00:00\u001b[0ma \u001b[36m0:00:01\u001b[0m\n",
      "\u001b[?25hInstalling collected packages: scipy, nvidia-nccl-cu12, xgboost\n",
      "Successfully installed nvidia-nccl-cu12-2.26.5 scipy-1.10.1 xgboost-2.1.4\n",
      "\u001b[33mWARNING: Running pip as the 'root' user can result in broken permissions and conflicting behaviour with the system package manager, possibly rendering your system unusable. It is recommended to use a virtual environment instead: https://pip.pypa.io/warnings/venv. Use the --root-user-action option if you know what you are doing and want to suppress this warning.\u001b[0m\u001b[33m\n",
      "\u001b[0m"
     ]
    }
   ],
   "source": [
    "!pip install xgboost\n"
   ]
  },
  {
   "cell_type": "code",
   "execution_count": 10,
   "id": "60b99ecb",
   "metadata": {
    "ExecuteTime": {
     "end_time": "2025-05-17T18:32:48.495349Z",
     "start_time": "2025-05-17T18:32:40.115020Z"
    }
   },
   "outputs": [
    {
     "name": "stdout",
     "output_type": "stream",
     "text": [
      "Collecting scikit-learn\n",
      "  Downloading scikit_learn-1.3.2-cp38-cp38-manylinux_2_17_x86_64.manylinux2014_x86_64.whl.metadata (11 kB)\n",
      "Requirement already satisfied: numpy<2.0,>=1.17.3 in /usr/local/lib/python3.8/dist-packages (from scikit-learn) (1.24.3)\n",
      "Requirement already satisfied: scipy>=1.5.0 in /usr/local/lib/python3.8/dist-packages (from scikit-learn) (1.10.1)\n",
      "Requirement already satisfied: joblib>=1.1.1 in /usr/local/lib/python3.8/dist-packages (from scikit-learn) (1.4.2)\n",
      "Collecting threadpoolctl>=2.0.0 (from scikit-learn)\n",
      "  Downloading threadpoolctl-3.5.0-py3-none-any.whl.metadata (13 kB)\n",
      "Downloading scikit_learn-1.3.2-cp38-cp38-manylinux_2_17_x86_64.manylinux2014_x86_64.whl (11.1 MB)\n",
      "\u001b[2K   \u001b[90m━━━━━━━━━━━━━━━━━━━━━━━━━━━━━━━━━━━━━━━━\u001b[0m \u001b[32m11.1/11.1 MB\u001b[0m \u001b[31m52.2 MB/s\u001b[0m eta \u001b[36m0:00:00\u001b[0m \u001b[36m0:00:01\u001b[0m\n",
      "\u001b[?25hDownloading threadpoolctl-3.5.0-py3-none-any.whl (18 kB)\n",
      "Installing collected packages: threadpoolctl, scikit-learn\n",
      "Successfully installed scikit-learn-1.3.2 threadpoolctl-3.5.0\n",
      "\u001b[33mWARNING: Running pip as the 'root' user can result in broken permissions and conflicting behaviour with the system package manager, possibly rendering your system unusable. It is recommended to use a virtual environment instead: https://pip.pypa.io/warnings/venv. Use the --root-user-action option if you know what you are doing and want to suppress this warning.\u001b[0m\u001b[33m\n",
      "\u001b[0m"
     ]
    }
   ],
   "source": [
    "!pip install scikit-learn\n"
   ]
  },
  {
   "cell_type": "code",
   "execution_count": 4,
   "id": "9cf86eaa",
   "metadata": {
    "ExecuteTime": {
     "end_time": "2025-05-17T18:30:58.068858Z",
     "start_time": "2025-05-17T18:30:51.608420Z"
    }
   },
   "outputs": [
    {
     "name": "stdout",
     "output_type": "stream",
     "text": [
      "Requirement already satisfied: matplotlib in /usr/local/lib/python3.8/dist-packages (3.7.5)\n",
      "Requirement already satisfied: contourpy>=1.0.1 in /usr/local/lib/python3.8/dist-packages (from matplotlib) (1.1.1)\n",
      "Requirement already satisfied: cycler>=0.10 in /usr/local/lib/python3.8/dist-packages (from matplotlib) (0.12.1)\n",
      "Requirement already satisfied: fonttools>=4.22.0 in /usr/local/lib/python3.8/dist-packages (from matplotlib) (4.57.0)\n",
      "Requirement already satisfied: kiwisolver>=1.0.1 in /usr/local/lib/python3.8/dist-packages (from matplotlib) (1.4.7)\n",
      "Requirement already satisfied: numpy<2,>=1.20 in /usr/local/lib/python3.8/dist-packages (from matplotlib) (1.24.3)\n",
      "Requirement already satisfied: packaging>=20.0 in /usr/local/lib/python3.8/dist-packages (from matplotlib) (24.2)\n",
      "Requirement already satisfied: pillow>=6.2.0 in /usr/local/lib/python3.8/dist-packages (from matplotlib) (10.4.0)\n",
      "Requirement already satisfied: pyparsing>=2.3.1 in /usr/local/lib/python3.8/dist-packages (from matplotlib) (3.1.4)\n",
      "Requirement already satisfied: python-dateutil>=2.7 in /usr/local/lib/python3.8/dist-packages (from matplotlib) (2.9.0.post0)\n",
      "Requirement already satisfied: importlib-resources>=3.2.0 in /usr/local/lib/python3.8/dist-packages (from matplotlib) (6.4.5)\n",
      "Requirement already satisfied: zipp>=3.1.0 in /usr/local/lib/python3.8/dist-packages (from importlib-resources>=3.2.0->matplotlib) (3.20.2)\n",
      "Requirement already satisfied: six>=1.5 in /usr/local/lib/python3.8/dist-packages (from python-dateutil>=2.7->matplotlib) (1.17.0)\n",
      "\u001b[33mWARNING: Running pip as the 'root' user can result in broken permissions and conflicting behaviour with the system package manager, possibly rendering your system unusable. It is recommended to use a virtual environment instead: https://pip.pypa.io/warnings/venv. Use the --root-user-action option if you know what you are doing and want to suppress this warning.\u001b[0m\u001b[33m\n",
      "\u001b[0mNote: you may need to restart the kernel to use updated packages.\n"
     ]
    }
   ],
   "source": [
    "pip install matplotlib\n"
   ]
  },
  {
   "cell_type": "code",
   "execution_count": 5,
   "id": "8c19bdc9",
   "metadata": {
    "ExecuteTime": {
     "end_time": "2025-05-17T18:31:43.594193Z",
     "start_time": "2025-05-17T18:31:38.120542Z"
    }
   },
   "outputs": [
    {
     "name": "stdout",
     "output_type": "stream",
     "text": [
      "Requirement already satisfied: joblib in /usr/local/lib/python3.8/dist-packages (1.4.2)\n",
      "\u001b[33mWARNING: Running pip as the 'root' user can result in broken permissions and conflicting behaviour with the system package manager, possibly rendering your system unusable. It is recommended to use a virtual environment instead: https://pip.pypa.io/warnings/venv. Use the --root-user-action option if you know what you are doing and want to suppress this warning.\u001b[0m\u001b[33m\n",
      "\u001b[0mNote: you may need to restart the kernel to use updated packages.\n"
     ]
    }
   ],
   "source": [
    "pip install joblib\n"
   ]
  },
  {
   "cell_type": "markdown",
   "id": "7058c89b",
   "metadata": {
    "ExecuteTime": {
     "end_time": "2025-05-17T23:07:13.081627Z",
     "start_time": "2025-05-17T23:07:13.072622Z"
    }
   },
   "source": [
    "## Preprocessing Section"
   ]
  },
  {
   "cell_type": "markdown",
   "id": "5675f1f9",
   "metadata": {},
   "source": [
    " ### Load Summarized News CSV"
   ]
  },
  {
   "cell_type": "code",
   "execution_count": 6,
   "id": "d05d52af-67ba-4a4f-a561-af453e43854f",
   "metadata": {
    "ExecuteTime": {
     "end_time": "2025-05-17T18:32:13.541630Z",
     "start_time": "2025-05-17T18:32:12.300240Z"
    }
   },
   "outputs": [
    {
     "data": {
      "text/html": [
       "<div>\n",
       "<style scoped>\n",
       "    .dataframe tbody tr th:only-of-type {\n",
       "        vertical-align: middle;\n",
       "    }\n",
       "\n",
       "    .dataframe tbody tr th {\n",
       "        vertical-align: top;\n",
       "    }\n",
       "\n",
       "    .dataframe thead th {\n",
       "        text-align: right;\n",
       "    }\n",
       "</style>\n",
       "<table border=\"1\" class=\"dataframe\">\n",
       "  <thead>\n",
       "    <tr style=\"text-align: right;\">\n",
       "      <th></th>\n",
       "      <th>published_date</th>\n",
       "      <th>title</th>\n",
       "      <th>summary</th>\n",
       "      <th>sentiment</th>\n",
       "      <th>source</th>\n",
       "    </tr>\n",
       "  </thead>\n",
       "  <tbody>\n",
       "    <tr>\n",
       "      <th>0</th>\n",
       "      <td>2025-05-10</td>\n",
       "      <td>Bitcoin Price Could Be Gearing Up For Paraboli...</td>\n",
       "      <td>The Bitcoin price has been a joy to watch over...</td>\n",
       "      <td>POSITIVE</td>\n",
       "      <td>Bitcoinist</td>\n",
       "    </tr>\n",
       "    <tr>\n",
       "      <th>1</th>\n",
       "      <td>2025-05-10</td>\n",
       "      <td>I fucking love bitcoin!</td>\n",
       "      <td>The difference of seeking news media, when you...</td>\n",
       "      <td>NEGATIVE</td>\n",
       "      <td>Erickimphotography.com</td>\n",
       "    </tr>\n",
       "    <tr>\n",
       "      <th>2</th>\n",
       "      <td>2025-05-10</td>\n",
       "      <td>Is Bitcoin Price Heading To $137K? Market Expe...</td>\n",
       "      <td>Created by industry experts and meticulously r...</td>\n",
       "      <td>POSITIVE</td>\n",
       "      <td>newsBTC</td>\n",
       "    </tr>\n",
       "    <tr>\n",
       "      <th>3</th>\n",
       "      <td>2025-05-10</td>\n",
       "      <td>The Vibes From Dubai: What Token2049 Chatter R...</td>\n",
       "      <td>Last weeks Token2049 conference brought togeth...</td>\n",
       "      <td>POSITIVE</td>\n",
       "      <td>Decrypt</td>\n",
       "    </tr>\n",
       "    <tr>\n",
       "      <th>4</th>\n",
       "      <td>2025-05-10</td>\n",
       "      <td>El Salvador stacks 7 Bitcoin in last week, des...</td>\n",
       "      <td>The government of El Salvador continues stacki...</td>\n",
       "      <td>NEGATIVE</td>\n",
       "      <td>Cointelegraph</td>\n",
       "    </tr>\n",
       "  </tbody>\n",
       "</table>\n",
       "</div>"
      ],
      "text/plain": [
       "  published_date                                              title  \\\n",
       "0     2025-05-10  Bitcoin Price Could Be Gearing Up For Paraboli...   \n",
       "1     2025-05-10                            I fucking love bitcoin!   \n",
       "2     2025-05-10  Is Bitcoin Price Heading To $137K? Market Expe...   \n",
       "3     2025-05-10  The Vibes From Dubai: What Token2049 Chatter R...   \n",
       "4     2025-05-10  El Salvador stacks 7 Bitcoin in last week, des...   \n",
       "\n",
       "                                             summary sentiment  \\\n",
       "0  The Bitcoin price has been a joy to watch over...  POSITIVE   \n",
       "1  The difference of seeking news media, when you...  NEGATIVE   \n",
       "2  Created by industry experts and meticulously r...  POSITIVE   \n",
       "3  Last weeks Token2049 conference brought togeth...  POSITIVE   \n",
       "4  The government of El Salvador continues stacki...  NEGATIVE   \n",
       "\n",
       "                   source  \n",
       "0              Bitcoinist  \n",
       "1  Erickimphotography.com  \n",
       "2                 newsBTC  \n",
       "3                 Decrypt  \n",
       "4           Cointelegraph  "
      ]
     },
     "execution_count": 6,
     "metadata": {},
     "output_type": "execute_result"
    }
   ],
   "source": [
    "import pandas as pd\n",
    "\n",
    "# Load saved summary data\n",
    "df = pd.read_csv(\"bitcoin_100_articles_summary.csv\")\n",
    "df.head()\n"
   ]
  },
  {
   "cell_type": "markdown",
   "id": "c2011830",
   "metadata": {},
   "source": [
    " ### Preprocess Dates and Sentiment"
   ]
  },
  {
   "cell_type": "code",
   "execution_count": 14,
   "id": "20f68904",
   "metadata": {
    "ExecuteTime": {
     "end_time": "2025-05-17T18:34:36.772172Z",
     "start_time": "2025-05-17T18:34:36.762947Z"
    }
   },
   "outputs": [],
   "source": [
    "df[\"published_date\"] = pd.to_datetime(df[\"published_date\"]).dt.date\n",
    "sentiment_map = {\"POSITIVE\": 1, \"NEGATIVE\": -1, \"NEUTRAL\": 0}\n",
    "df[\"sentiment_score\"] = df[\"sentiment\"].map(sentiment_map)\n"
   ]
  },
  {
   "cell_type": "markdown",
   "id": "cae1332f",
   "metadata": {},
   "source": [
    "## Feature Engineering"
   ]
  },
  {
   "cell_type": "markdown",
   "id": "046586f1",
   "metadata": {},
   "source": [
    "### Daily Aggregation of Sentiment"
   ]
  },
  {
   "cell_type": "code",
   "execution_count": 15,
   "id": "d722d974",
   "metadata": {
    "ExecuteTime": {
     "end_time": "2025-05-17T18:34:40.883935Z",
     "start_time": "2025-05-17T18:34:40.870007Z"
    }
   },
   "outputs": [],
   "source": [
    "daily_sentiment = df.groupby(\"published_date\")[\"sentiment_score\"].mean().reset_index()\n"
   ]
  },
  {
   "cell_type": "markdown",
   "id": "9817238b",
   "metadata": {},
   "source": [
    " ### Extract Daily Topics via TF-IDF"
   ]
  },
  {
   "cell_type": "code",
   "execution_count": 16,
   "id": "61e818f8",
   "metadata": {
    "ExecuteTime": {
     "end_time": "2025-05-17T18:34:45.986459Z",
     "start_time": "2025-05-17T18:34:45.956048Z"
    }
   },
   "outputs": [],
   "source": [
    "from sklearn.feature_extraction.text import TfidfVectorizer\n",
    "\n",
    "# Combine all summaries per day\n",
    "daily_text = df.groupby(\"published_date\")[\"summary\"].apply(lambda x: \" \".join(x)).reset_index()\n",
    "\n",
    "# Run TF-IDF on combined daily summaries\n",
    "vectorizer = TfidfVectorizer(max_features=10, stop_words='english')\n",
    "tfidf_matrix = vectorizer.fit_transform(daily_text[\"summary\"])\n",
    "tfidf_df = pd.DataFrame(tfidf_matrix.toarray(), columns=vectorizer.get_feature_names_out())\n",
    "\n",
    "# Combine date + TF-IDF\n",
    "daily_features = pd.concat([daily_text[\"published_date\"], tfidf_df], axis=1)\n"
   ]
  },
  {
   "cell_type": "markdown",
   "id": "3e633bc8",
   "metadata": {
    "ExecuteTime": {
     "end_time": "2025-05-11T06:16:10.169034Z",
     "start_time": "2025-05-11T06:16:10.158630Z"
    }
   },
   "source": [
    "### Merge Sentiment + Topics"
   ]
  },
  {
   "cell_type": "code",
   "execution_count": 17,
   "id": "53835658",
   "metadata": {
    "ExecuteTime": {
     "end_time": "2025-05-17T18:34:53.506949Z",
     "start_time": "2025-05-17T18:34:53.469079Z"
    }
   },
   "outputs": [
    {
     "data": {
      "text/html": [
       "<div>\n",
       "<style scoped>\n",
       "    .dataframe tbody tr th:only-of-type {\n",
       "        vertical-align: middle;\n",
       "    }\n",
       "\n",
       "    .dataframe tbody tr th {\n",
       "        vertical-align: top;\n",
       "    }\n",
       "\n",
       "    .dataframe thead th {\n",
       "        text-align: right;\n",
       "    }\n",
       "</style>\n",
       "<table border=\"1\" class=\"dataframe\">\n",
       "  <thead>\n",
       "    <tr style=\"text-align: right;\">\n",
       "      <th></th>\n",
       "      <th>published_date</th>\n",
       "      <th>bitcoin</th>\n",
       "      <th>btc</th>\n",
       "      <th>chars</th>\n",
       "      <th>crypto</th>\n",
       "      <th>gt</th>\n",
       "      <th>industry</th>\n",
       "      <th>open</th>\n",
       "      <th>return</th>\n",
       "      <th>tariffs</th>\n",
       "      <th>trump</th>\n",
       "      <th>sentiment_score</th>\n",
       "    </tr>\n",
       "  </thead>\n",
       "  <tbody>\n",
       "    <tr>\n",
       "      <th>0</th>\n",
       "      <td>2025-04-21</td>\n",
       "      <td>0.755842</td>\n",
       "      <td>0.000000</td>\n",
       "      <td>0.654754</td>\n",
       "      <td>0.000000</td>\n",
       "      <td>0.000000</td>\n",
       "      <td>0.000000</td>\n",
       "      <td>0.000000</td>\n",
       "      <td>0.000000</td>\n",
       "      <td>0.000000</td>\n",
       "      <td>0.000000</td>\n",
       "      <td>-0.2</td>\n",
       "    </tr>\n",
       "    <tr>\n",
       "      <th>1</th>\n",
       "      <td>2025-04-22</td>\n",
       "      <td>0.817088</td>\n",
       "      <td>0.249219</td>\n",
       "      <td>0.000000</td>\n",
       "      <td>0.222146</td>\n",
       "      <td>0.000000</td>\n",
       "      <td>0.000000</td>\n",
       "      <td>0.000000</td>\n",
       "      <td>0.000000</td>\n",
       "      <td>0.000000</td>\n",
       "      <td>0.470009</td>\n",
       "      <td>-0.2</td>\n",
       "    </tr>\n",
       "    <tr>\n",
       "      <th>2</th>\n",
       "      <td>2025-04-23</td>\n",
       "      <td>0.386436</td>\n",
       "      <td>0.294665</td>\n",
       "      <td>0.000000</td>\n",
       "      <td>0.262656</td>\n",
       "      <td>0.000000</td>\n",
       "      <td>0.000000</td>\n",
       "      <td>0.000000</td>\n",
       "      <td>0.000000</td>\n",
       "      <td>0.000000</td>\n",
       "      <td>0.833578</td>\n",
       "      <td>0.2</td>\n",
       "    </tr>\n",
       "    <tr>\n",
       "      <th>3</th>\n",
       "      <td>2025-04-24</td>\n",
       "      <td>0.383920</td>\n",
       "      <td>0.000000</td>\n",
       "      <td>0.000000</td>\n",
       "      <td>0.000000</td>\n",
       "      <td>0.000000</td>\n",
       "      <td>0.585494</td>\n",
       "      <td>0.000000</td>\n",
       "      <td>0.000000</td>\n",
       "      <td>0.714005</td>\n",
       "      <td>0.000000</td>\n",
       "      <td>-0.2</td>\n",
       "    </tr>\n",
       "    <tr>\n",
       "      <th>4</th>\n",
       "      <td>2025-04-25</td>\n",
       "      <td>0.946818</td>\n",
       "      <td>0.000000</td>\n",
       "      <td>0.000000</td>\n",
       "      <td>0.321771</td>\n",
       "      <td>0.000000</td>\n",
       "      <td>0.000000</td>\n",
       "      <td>0.000000</td>\n",
       "      <td>0.000000</td>\n",
       "      <td>0.000000</td>\n",
       "      <td>0.000000</td>\n",
       "      <td>-0.2</td>\n",
       "    </tr>\n",
       "    <tr>\n",
       "      <th>5</th>\n",
       "      <td>2025-04-26</td>\n",
       "      <td>0.089223</td>\n",
       "      <td>0.000000</td>\n",
       "      <td>0.309162</td>\n",
       "      <td>0.000000</td>\n",
       "      <td>0.717460</td>\n",
       "      <td>0.000000</td>\n",
       "      <td>0.331871</td>\n",
       "      <td>0.309162</td>\n",
       "      <td>0.331871</td>\n",
       "      <td>0.256617</td>\n",
       "      <td>-0.2</td>\n",
       "    </tr>\n",
       "    <tr>\n",
       "      <th>6</th>\n",
       "      <td>2025-04-27</td>\n",
       "      <td>1.000000</td>\n",
       "      <td>0.000000</td>\n",
       "      <td>0.000000</td>\n",
       "      <td>0.000000</td>\n",
       "      <td>0.000000</td>\n",
       "      <td>0.000000</td>\n",
       "      <td>0.000000</td>\n",
       "      <td>0.000000</td>\n",
       "      <td>0.000000</td>\n",
       "      <td>0.000000</td>\n",
       "      <td>-0.6</td>\n",
       "    </tr>\n",
       "    <tr>\n",
       "      <th>7</th>\n",
       "      <td>2025-04-28</td>\n",
       "      <td>0.165914</td>\n",
       "      <td>0.000000</td>\n",
       "      <td>0.287448</td>\n",
       "      <td>0.225539</td>\n",
       "      <td>0.667070</td>\n",
       "      <td>0.253025</td>\n",
       "      <td>0.308562</td>\n",
       "      <td>0.287448</td>\n",
       "      <td>0.308562</td>\n",
       "      <td>0.238594</td>\n",
       "      <td>-0.6</td>\n",
       "    </tr>\n",
       "    <tr>\n",
       "      <th>8</th>\n",
       "      <td>2025-04-29</td>\n",
       "      <td>0.000000</td>\n",
       "      <td>0.000000</td>\n",
       "      <td>0.000000</td>\n",
       "      <td>0.510799</td>\n",
       "      <td>0.000000</td>\n",
       "      <td>0.286525</td>\n",
       "      <td>0.000000</td>\n",
       "      <td>0.000000</td>\n",
       "      <td>0.000000</td>\n",
       "      <td>0.810548</td>\n",
       "      <td>0.2</td>\n",
       "    </tr>\n",
       "    <tr>\n",
       "      <th>9</th>\n",
       "      <td>2025-04-30</td>\n",
       "      <td>0.296262</td>\n",
       "      <td>0.000000</td>\n",
       "      <td>0.000000</td>\n",
       "      <td>0.805465</td>\n",
       "      <td>0.000000</td>\n",
       "      <td>0.000000</td>\n",
       "      <td>0.000000</td>\n",
       "      <td>0.513279</td>\n",
       "      <td>0.000000</td>\n",
       "      <td>0.000000</td>\n",
       "      <td>0.6</td>\n",
       "    </tr>\n",
       "    <tr>\n",
       "      <th>10</th>\n",
       "      <td>2025-05-01</td>\n",
       "      <td>0.000000</td>\n",
       "      <td>0.000000</td>\n",
       "      <td>0.000000</td>\n",
       "      <td>0.686946</td>\n",
       "      <td>0.000000</td>\n",
       "      <td>0.000000</td>\n",
       "      <td>0.000000</td>\n",
       "      <td>0.000000</td>\n",
       "      <td>0.000000</td>\n",
       "      <td>0.726708</td>\n",
       "      <td>0.2</td>\n",
       "    </tr>\n",
       "    <tr>\n",
       "      <th>11</th>\n",
       "      <td>2025-05-02</td>\n",
       "      <td>0.257247</td>\n",
       "      <td>0.392313</td>\n",
       "      <td>0.000000</td>\n",
       "      <td>0.699393</td>\n",
       "      <td>0.000000</td>\n",
       "      <td>0.392313</td>\n",
       "      <td>0.000000</td>\n",
       "      <td>0.000000</td>\n",
       "      <td>0.000000</td>\n",
       "      <td>0.369938</td>\n",
       "      <td>-0.2</td>\n",
       "    </tr>\n",
       "    <tr>\n",
       "      <th>12</th>\n",
       "      <td>2025-05-03</td>\n",
       "      <td>0.395226</td>\n",
       "      <td>0.602736</td>\n",
       "      <td>0.000000</td>\n",
       "      <td>0.000000</td>\n",
       "      <td>0.000000</td>\n",
       "      <td>0.602736</td>\n",
       "      <td>0.000000</td>\n",
       "      <td>0.342367</td>\n",
       "      <td>0.000000</td>\n",
       "      <td>0.000000</td>\n",
       "      <td>0.2</td>\n",
       "    </tr>\n",
       "    <tr>\n",
       "      <th>13</th>\n",
       "      <td>2025-05-04</td>\n",
       "      <td>0.000000</td>\n",
       "      <td>0.707107</td>\n",
       "      <td>0.000000</td>\n",
       "      <td>0.000000</td>\n",
       "      <td>0.000000</td>\n",
       "      <td>0.707107</td>\n",
       "      <td>0.000000</td>\n",
       "      <td>0.000000</td>\n",
       "      <td>0.000000</td>\n",
       "      <td>0.000000</td>\n",
       "      <td>0.6</td>\n",
       "    </tr>\n",
       "    <tr>\n",
       "      <th>14</th>\n",
       "      <td>2025-05-05</td>\n",
       "      <td>1.000000</td>\n",
       "      <td>0.000000</td>\n",
       "      <td>0.000000</td>\n",
       "      <td>0.000000</td>\n",
       "      <td>0.000000</td>\n",
       "      <td>0.000000</td>\n",
       "      <td>0.000000</td>\n",
       "      <td>0.000000</td>\n",
       "      <td>0.000000</td>\n",
       "      <td>0.000000</td>\n",
       "      <td>0.2</td>\n",
       "    </tr>\n",
       "    <tr>\n",
       "      <th>15</th>\n",
       "      <td>2025-05-06</td>\n",
       "      <td>0.934392</td>\n",
       "      <td>0.356247</td>\n",
       "      <td>0.000000</td>\n",
       "      <td>0.000000</td>\n",
       "      <td>0.000000</td>\n",
       "      <td>0.000000</td>\n",
       "      <td>0.000000</td>\n",
       "      <td>0.000000</td>\n",
       "      <td>0.000000</td>\n",
       "      <td>0.000000</td>\n",
       "      <td>0.2</td>\n",
       "    </tr>\n",
       "    <tr>\n",
       "      <th>16</th>\n",
       "      <td>2025-05-07</td>\n",
       "      <td>0.416055</td>\n",
       "      <td>0.423002</td>\n",
       "      <td>0.240274</td>\n",
       "      <td>0.565577</td>\n",
       "      <td>0.000000</td>\n",
       "      <td>0.211501</td>\n",
       "      <td>0.257923</td>\n",
       "      <td>0.000000</td>\n",
       "      <td>0.000000</td>\n",
       "      <td>0.398876</td>\n",
       "      <td>0.2</td>\n",
       "    </tr>\n",
       "    <tr>\n",
       "      <th>17</th>\n",
       "      <td>2025-05-08</td>\n",
       "      <td>0.000000</td>\n",
       "      <td>0.000000</td>\n",
       "      <td>0.321245</td>\n",
       "      <td>0.000000</td>\n",
       "      <td>0.745501</td>\n",
       "      <td>0.000000</td>\n",
       "      <td>0.344842</td>\n",
       "      <td>0.321245</td>\n",
       "      <td>0.344842</td>\n",
       "      <td>0.000000</td>\n",
       "      <td>-1.0</td>\n",
       "    </tr>\n",
       "    <tr>\n",
       "      <th>18</th>\n",
       "      <td>2025-05-09</td>\n",
       "      <td>0.732176</td>\n",
       "      <td>0.000000</td>\n",
       "      <td>0.211418</td>\n",
       "      <td>0.000000</td>\n",
       "      <td>0.490629</td>\n",
       "      <td>0.000000</td>\n",
       "      <td>0.226947</td>\n",
       "      <td>0.211418</td>\n",
       "      <td>0.226947</td>\n",
       "      <td>0.175486</td>\n",
       "      <td>-0.6</td>\n",
       "    </tr>\n",
       "    <tr>\n",
       "      <th>19</th>\n",
       "      <td>2025-05-10</td>\n",
       "      <td>0.352126</td>\n",
       "      <td>0.268504</td>\n",
       "      <td>0.000000</td>\n",
       "      <td>0.718009</td>\n",
       "      <td>0.000000</td>\n",
       "      <td>0.537007</td>\n",
       "      <td>0.000000</td>\n",
       "      <td>0.000000</td>\n",
       "      <td>0.000000</td>\n",
       "      <td>0.000000</td>\n",
       "      <td>0.2</td>\n",
       "    </tr>\n",
       "  </tbody>\n",
       "</table>\n",
       "</div>"
      ],
      "text/plain": [
       "   published_date   bitcoin       btc     chars    crypto        gt  industry  \\\n",
       "0      2025-04-21  0.755842  0.000000  0.654754  0.000000  0.000000  0.000000   \n",
       "1      2025-04-22  0.817088  0.249219  0.000000  0.222146  0.000000  0.000000   \n",
       "2      2025-04-23  0.386436  0.294665  0.000000  0.262656  0.000000  0.000000   \n",
       "3      2025-04-24  0.383920  0.000000  0.000000  0.000000  0.000000  0.585494   \n",
       "4      2025-04-25  0.946818  0.000000  0.000000  0.321771  0.000000  0.000000   \n",
       "5      2025-04-26  0.089223  0.000000  0.309162  0.000000  0.717460  0.000000   \n",
       "6      2025-04-27  1.000000  0.000000  0.000000  0.000000  0.000000  0.000000   \n",
       "7      2025-04-28  0.165914  0.000000  0.287448  0.225539  0.667070  0.253025   \n",
       "8      2025-04-29  0.000000  0.000000  0.000000  0.510799  0.000000  0.286525   \n",
       "9      2025-04-30  0.296262  0.000000  0.000000  0.805465  0.000000  0.000000   \n",
       "10     2025-05-01  0.000000  0.000000  0.000000  0.686946  0.000000  0.000000   \n",
       "11     2025-05-02  0.257247  0.392313  0.000000  0.699393  0.000000  0.392313   \n",
       "12     2025-05-03  0.395226  0.602736  0.000000  0.000000  0.000000  0.602736   \n",
       "13     2025-05-04  0.000000  0.707107  0.000000  0.000000  0.000000  0.707107   \n",
       "14     2025-05-05  1.000000  0.000000  0.000000  0.000000  0.000000  0.000000   \n",
       "15     2025-05-06  0.934392  0.356247  0.000000  0.000000  0.000000  0.000000   \n",
       "16     2025-05-07  0.416055  0.423002  0.240274  0.565577  0.000000  0.211501   \n",
       "17     2025-05-08  0.000000  0.000000  0.321245  0.000000  0.745501  0.000000   \n",
       "18     2025-05-09  0.732176  0.000000  0.211418  0.000000  0.490629  0.000000   \n",
       "19     2025-05-10  0.352126  0.268504  0.000000  0.718009  0.000000  0.537007   \n",
       "\n",
       "        open    return   tariffs     trump  sentiment_score  \n",
       "0   0.000000  0.000000  0.000000  0.000000             -0.2  \n",
       "1   0.000000  0.000000  0.000000  0.470009             -0.2  \n",
       "2   0.000000  0.000000  0.000000  0.833578              0.2  \n",
       "3   0.000000  0.000000  0.714005  0.000000             -0.2  \n",
       "4   0.000000  0.000000  0.000000  0.000000             -0.2  \n",
       "5   0.331871  0.309162  0.331871  0.256617             -0.2  \n",
       "6   0.000000  0.000000  0.000000  0.000000             -0.6  \n",
       "7   0.308562  0.287448  0.308562  0.238594             -0.6  \n",
       "8   0.000000  0.000000  0.000000  0.810548              0.2  \n",
       "9   0.000000  0.513279  0.000000  0.000000              0.6  \n",
       "10  0.000000  0.000000  0.000000  0.726708              0.2  \n",
       "11  0.000000  0.000000  0.000000  0.369938             -0.2  \n",
       "12  0.000000  0.342367  0.000000  0.000000              0.2  \n",
       "13  0.000000  0.000000  0.000000  0.000000              0.6  \n",
       "14  0.000000  0.000000  0.000000  0.000000              0.2  \n",
       "15  0.000000  0.000000  0.000000  0.000000              0.2  \n",
       "16  0.257923  0.000000  0.000000  0.398876              0.2  \n",
       "17  0.344842  0.321245  0.344842  0.000000             -1.0  \n",
       "18  0.226947  0.211418  0.226947  0.175486             -0.6  \n",
       "19  0.000000  0.000000  0.000000  0.000000              0.2  "
      ]
     },
     "execution_count": 17,
     "metadata": {},
     "output_type": "execute_result"
    }
   ],
   "source": [
    "final_features = pd.merge(daily_features, daily_sentiment, on=\"published_date\")\n",
    "final_features\n"
   ]
  },
  {
   "cell_type": "markdown",
   "id": "61f0f790",
   "metadata": {},
   "source": [
    "## Price Integration"
   ]
  },
  {
   "cell_type": "markdown",
   "id": "8ea189b9",
   "metadata": {
    "ExecuteTime": {
     "end_time": "2025-05-17T23:15:53.340537Z",
     "start_time": "2025-05-17T23:15:53.332093Z"
    }
   },
   "source": [
    "### Use CoinGecko API to pull Bitcoin price data"
   ]
  },
  {
   "cell_type": "code",
   "execution_count": 19,
   "id": "37c18a42",
   "metadata": {
    "ExecuteTime": {
     "end_time": "2025-05-17T18:36:24.058335Z",
     "start_time": "2025-05-17T18:36:23.865322Z"
    }
   },
   "outputs": [],
   "source": [
    "import requests\n",
    "import pandas as pd\n",
    "\n",
    "def get_btc_price_history(days: int = 30) -> pd.DataFrame:\n",
    "    url = \"https://api.coingecko.com/api/v3/coins/bitcoin/market_chart\"\n",
    "    params = {\n",
    "        \"vs_currency\": \"usd\",\n",
    "        \"days\": days,\n",
    "        \"interval\": \"daily\"\n",
    "    }\n",
    "    r = requests.get(url, params=params).json()\n",
    "    prices = r[\"prices\"]\n",
    "\n",
    "    df_price = pd.DataFrame(prices, columns=[\"timestamp\", \"price\"])\n",
    "    df_price[\"published_date\"] = pd.to_datetime(df_price[\"timestamp\"], unit=\"ms\").dt.date\n",
    "    df_price = df_price.groupby(\"published_date\").mean().reset_index()\n",
    "    return df_price[[\"published_date\", \"price\"]]\n"
   ]
  },
  {
   "cell_type": "code",
   "execution_count": 20,
   "id": "67a9151e",
   "metadata": {
    "ExecuteTime": {
     "end_time": "2025-05-17T18:36:27.144632Z",
     "start_time": "2025-05-17T18:36:26.877451Z"
    }
   },
   "outputs": [],
   "source": [
    "df_price = get_btc_price_history(days=30)\n",
    "df_merged = pd.merge(final_features, df_price, on=\"published_date\")\n",
    "df_merged = df_merged.sort_values(\"published_date\").reset_index(drop=True)\n"
   ]
  },
  {
   "cell_type": "code",
   "execution_count": 21,
   "id": "76c255a2",
   "metadata": {
    "ExecuteTime": {
     "end_time": "2025-05-17T18:36:29.799285Z",
     "start_time": "2025-05-17T18:36:29.786011Z"
    }
   },
   "outputs": [],
   "source": [
    "# Lag sentiment features\n",
    "df_merged[\"sentiment_lag_1\"] = df_merged[\"sentiment_score\"].shift(1)\n",
    "df_merged[\"sentiment_lag_2\"] = df_merged[\"sentiment_score\"].shift(2)\n",
    "\n",
    "# Rolling window sentiment features\n",
    "df_merged[\"sentiment_3d_avg\"] = df_merged[\"sentiment_score\"].rolling(3).mean()\n",
    "df_merged[\"sentiment_3d_std\"] = df_merged[\"sentiment_score\"].rolling(3).std()\n"
   ]
  },
  {
   "cell_type": "code",
   "execution_count": 22,
   "id": "fcef9302",
   "metadata": {
    "ExecuteTime": {
     "end_time": "2025-05-17T18:36:34.262950Z",
     "start_time": "2025-05-17T18:36:34.249395Z"
    }
   },
   "outputs": [],
   "source": [
    "df_merged = df_merged.dropna().reset_index(drop=True)\n"
   ]
  },
  {
   "cell_type": "markdown",
   "id": "7264ad70",
   "metadata": {
    "ExecuteTime": {
     "end_time": "2025-05-17T23:17:51.777110Z",
     "start_time": "2025-05-17T23:17:51.769927Z"
    }
   },
   "source": [
    "### Create a target variable (next-day BTC price)"
   ]
  },
  {
   "cell_type": "code",
   "execution_count": 23,
   "id": "8b4a61e1",
   "metadata": {
    "ExecuteTime": {
     "end_time": "2025-05-17T18:36:37.192913Z",
     "start_time": "2025-05-17T18:36:37.175374Z"
    }
   },
   "outputs": [],
   "source": [
    "df_merged[\"target_price\"] = df_merged[\"price\"].shift(-1)\n",
    "df_merged = df_merged.dropna().reset_index(drop=True)\n"
   ]
  },
  {
   "cell_type": "markdown",
   "id": "eb026db3",
   "metadata": {
    "ExecuteTime": {
     "end_time": "2025-05-17T23:18:40.545924Z",
     "start_time": "2025-05-17T23:18:40.536552Z"
    }
   },
   "source": [
    "### Plot to project Daily Average Sentiment Score"
   ]
  },
  {
   "cell_type": "code",
   "execution_count": 24,
   "id": "1f10bacc",
   "metadata": {
    "ExecuteTime": {
     "end_time": "2025-05-17T18:36:42.741470Z",
     "start_time": "2025-05-17T18:36:41.154411Z"
    },
    "scrolled": true
   },
   "outputs": [
    {
     "data": {
      "image/png": "[encoded data removed]",
      "text/plain": [
       "<Figure size 1200x500 with 1 Axes>"
      ]
     },
     "metadata": {},
     "output_type": "display_data"
    }
   ],
   "source": [
    "import matplotlib.pyplot as plt\n",
    "import seaborn as sns\n",
    "\n",
    "# Set seaborn theme\n",
    "sns.set_theme(style=\"whitegrid\")\n",
    "\n",
    "# Create the figure\n",
    "plt.figure(figsize=(12, 5))\n",
    "\n",
    "# Line plot with markers and custom color\n",
    "sns.lineplot(\n",
    "    data=final_features,\n",
    "    x=\"published_date\",\n",
    "    y=\"sentiment_score\",\n",
    "    marker=\"o\",\n",
    "    linewidth=2.5,\n",
    "    color=\"steelblue\"\n",
    ")\n",
    "\n",
    "# Title and axis labels\n",
    "plt.title(\"Daily Average Sentiment Score from Bitcoin News\", fontsize=16, fontweight='bold')\n",
    "plt.xlabel(\"Date\", fontsize=12)\n",
    "plt.ylabel(\"Sentiment Score\", fontsize=12)\n",
    "\n",
    "# Ticks and formatting\n",
    "plt.xticks(rotation=45, ha='right')\n",
    "plt.yticks(fontsize=10)\n",
    "plt.grid(True, linestyle=\"--\", alpha=0.6)\n",
    "\n",
    "# Borderless chart\n",
    "sns.despine()\n",
    "\n",
    "# Layout\n",
    "plt.tight_layout()\n",
    "plt.show()"
   ]
  },
  {
   "cell_type": "markdown",
   "id": "883f5a3c",
   "metadata": {},
   "source": [
    "### Fetch Historical Bitcoin Prices\n",
    "\n"
   ]
  },
  {
   "cell_type": "code",
   "execution_count": 25,
   "id": "a2c561c6",
   "metadata": {
    "ExecuteTime": {
     "end_time": "2025-05-17T18:36:57.739932Z",
     "start_time": "2025-05-17T18:36:57.728885Z"
    }
   },
   "outputs": [],
   "source": [
    "import requests\n",
    "import pandas as pd  # Just in case it's not already imported\n",
    "\n",
    "def get_btc_price_history(days: int = 30) -> pd.DataFrame:\n",
    "    url = \"https://api.coingecko.com/api/v3/coins/bitcoin/market_chart\"\n",
    "    params = {\n",
    "        \"vs_currency\": \"usd\",\n",
    "        \"days\": days,\n",
    "        \"interval\": \"daily\"\n",
    "    }\n",
    "    \n",
    "    #  Add verify=False to bypass SSL validation\n",
    "    r = requests.get(url, params=params, verify=False).json()\n",
    "    \n",
    "    prices = r[\"prices\"]\n",
    "    df_price = pd.DataFrame(prices, columns=[\"timestamp\", \"price\"])\n",
    "    df_price[\"published_date\"] = pd.to_datetime(df_price[\"timestamp\"], unit=\"ms\").dt.date\n",
    "    df_price = df_price.groupby(\"published_date\").mean().reset_index()\n",
    "    return df_price[[\"published_date\", \"price\"]]\n",
    "\n"
   ]
  },
  {
   "cell_type": "code",
   "execution_count": 26,
   "id": "9ade0510",
   "metadata": {
    "ExecuteTime": {
     "end_time": "2025-05-17T18:37:01.459355Z",
     "start_time": "2025-05-17T18:37:01.202694Z"
    }
   },
   "outputs": [
    {
     "name": "stderr",
     "output_type": "stream",
     "text": [
      "/usr/local/lib/python3.8/dist-packages/urllib3/connectionpool.py:1099: InsecureRequestWarning: Unverified HTTPS request is being made to host 'api.coingecko.com'. Adding certificate verification is strongly advised. See: https://urllib3.readthedocs.io/en/latest/advanced-usage.html#tls-warnings\n",
      "  warnings.warn(\n"
     ]
    },
    {
     "data": {
      "text/html": [
       "<div>\n",
       "<style scoped>\n",
       "    .dataframe tbody tr th:only-of-type {\n",
       "        vertical-align: middle;\n",
       "    }\n",
       "\n",
       "    .dataframe tbody tr th {\n",
       "        vertical-align: top;\n",
       "    }\n",
       "\n",
       "    .dataframe thead th {\n",
       "        text-align: right;\n",
       "    }\n",
       "</style>\n",
       "<table border=\"1\" class=\"dataframe\">\n",
       "  <thead>\n",
       "    <tr style=\"text-align: right;\">\n",
       "      <th></th>\n",
       "      <th>published_date</th>\n",
       "      <th>price</th>\n",
       "    </tr>\n",
       "  </thead>\n",
       "  <tbody>\n",
       "    <tr>\n",
       "      <th>0</th>\n",
       "      <td>2025-04-18</td>\n",
       "      <td>84930.908576</td>\n",
       "    </tr>\n",
       "    <tr>\n",
       "      <th>1</th>\n",
       "      <td>2025-04-19</td>\n",
       "      <td>84433.750172</td>\n",
       "    </tr>\n",
       "    <tr>\n",
       "      <th>2</th>\n",
       "      <td>2025-04-20</td>\n",
       "      <td>85126.662443</td>\n",
       "    </tr>\n",
       "    <tr>\n",
       "      <th>3</th>\n",
       "      <td>2025-04-21</td>\n",
       "      <td>85073.165449</td>\n",
       "    </tr>\n",
       "    <tr>\n",
       "      <th>4</th>\n",
       "      <td>2025-04-22</td>\n",
       "      <td>87452.046991</td>\n",
       "    </tr>\n",
       "  </tbody>\n",
       "</table>\n",
       "</div>"
      ],
      "text/plain": [
       "  published_date         price\n",
       "0     2025-04-18  84930.908576\n",
       "1     2025-04-19  84433.750172\n",
       "2     2025-04-20  85126.662443\n",
       "3     2025-04-21  85073.165449\n",
       "4     2025-04-22  87452.046991"
      ]
     },
     "execution_count": 26,
     "metadata": {},
     "output_type": "execute_result"
    }
   ],
   "source": [
    "df_price = get_btc_price_history(30)\n",
    "df_price.head()\n"
   ]
  },
  {
   "cell_type": "markdown",
   "id": "85c98076",
   "metadata": {},
   "source": [
    "### Merge Sentiment + Price Data"
   ]
  },
  {
   "cell_type": "code",
   "execution_count": 27,
   "id": "1044f6a3",
   "metadata": {
    "ExecuteTime": {
     "end_time": "2025-05-17T18:37:06.939210Z",
     "start_time": "2025-05-17T18:37:06.916962Z"
    }
   },
   "outputs": [
    {
     "data": {
      "text/html": [
       "<div>\n",
       "<style scoped>\n",
       "    .dataframe tbody tr th:only-of-type {\n",
       "        vertical-align: middle;\n",
       "    }\n",
       "\n",
       "    .dataframe tbody tr th {\n",
       "        vertical-align: top;\n",
       "    }\n",
       "\n",
       "    .dataframe thead th {\n",
       "        text-align: right;\n",
       "    }\n",
       "</style>\n",
       "<table border=\"1\" class=\"dataframe\">\n",
       "  <thead>\n",
       "    <tr style=\"text-align: right;\">\n",
       "      <th></th>\n",
       "      <th>published_date</th>\n",
       "      <th>bitcoin</th>\n",
       "      <th>btc</th>\n",
       "      <th>chars</th>\n",
       "      <th>crypto</th>\n",
       "      <th>gt</th>\n",
       "      <th>industry</th>\n",
       "      <th>open</th>\n",
       "      <th>return</th>\n",
       "      <th>tariffs</th>\n",
       "      <th>trump</th>\n",
       "      <th>sentiment_score</th>\n",
       "      <th>price</th>\n",
       "    </tr>\n",
       "  </thead>\n",
       "  <tbody>\n",
       "    <tr>\n",
       "      <th>0</th>\n",
       "      <td>2025-04-21</td>\n",
       "      <td>0.755842</td>\n",
       "      <td>0.000000</td>\n",
       "      <td>0.654754</td>\n",
       "      <td>0.000000</td>\n",
       "      <td>0.0</td>\n",
       "      <td>0.000000</td>\n",
       "      <td>0.0</td>\n",
       "      <td>0.0</td>\n",
       "      <td>0.000000</td>\n",
       "      <td>0.000000</td>\n",
       "      <td>-0.2</td>\n",
       "      <td>85073.165449</td>\n",
       "    </tr>\n",
       "    <tr>\n",
       "      <th>1</th>\n",
       "      <td>2025-04-22</td>\n",
       "      <td>0.817088</td>\n",
       "      <td>0.249219</td>\n",
       "      <td>0.000000</td>\n",
       "      <td>0.222146</td>\n",
       "      <td>0.0</td>\n",
       "      <td>0.000000</td>\n",
       "      <td>0.0</td>\n",
       "      <td>0.0</td>\n",
       "      <td>0.000000</td>\n",
       "      <td>0.470009</td>\n",
       "      <td>-0.2</td>\n",
       "      <td>87452.046991</td>\n",
       "    </tr>\n",
       "    <tr>\n",
       "      <th>2</th>\n",
       "      <td>2025-04-23</td>\n",
       "      <td>0.386436</td>\n",
       "      <td>0.294665</td>\n",
       "      <td>0.000000</td>\n",
       "      <td>0.262656</td>\n",
       "      <td>0.0</td>\n",
       "      <td>0.000000</td>\n",
       "      <td>0.0</td>\n",
       "      <td>0.0</td>\n",
       "      <td>0.000000</td>\n",
       "      <td>0.833578</td>\n",
       "      <td>0.2</td>\n",
       "      <td>93576.165886</td>\n",
       "    </tr>\n",
       "    <tr>\n",
       "      <th>3</th>\n",
       "      <td>2025-04-24</td>\n",
       "      <td>0.383920</td>\n",
       "      <td>0.000000</td>\n",
       "      <td>0.000000</td>\n",
       "      <td>0.000000</td>\n",
       "      <td>0.0</td>\n",
       "      <td>0.585494</td>\n",
       "      <td>0.0</td>\n",
       "      <td>0.0</td>\n",
       "      <td>0.714005</td>\n",
       "      <td>0.000000</td>\n",
       "      <td>-0.2</td>\n",
       "      <td>93605.452309</td>\n",
       "    </tr>\n",
       "    <tr>\n",
       "      <th>4</th>\n",
       "      <td>2025-04-25</td>\n",
       "      <td>0.946818</td>\n",
       "      <td>0.000000</td>\n",
       "      <td>0.000000</td>\n",
       "      <td>0.321771</td>\n",
       "      <td>0.0</td>\n",
       "      <td>0.000000</td>\n",
       "      <td>0.0</td>\n",
       "      <td>0.0</td>\n",
       "      <td>0.000000</td>\n",
       "      <td>0.000000</td>\n",
       "      <td>-0.2</td>\n",
       "      <td>93872.814229</td>\n",
       "    </tr>\n",
       "  </tbody>\n",
       "</table>\n",
       "</div>"
      ],
      "text/plain": [
       "  published_date   bitcoin       btc     chars    crypto   gt  industry  open  \\\n",
       "0     2025-04-21  0.755842  0.000000  0.654754  0.000000  0.0  0.000000   0.0   \n",
       "1     2025-04-22  0.817088  0.249219  0.000000  0.222146  0.0  0.000000   0.0   \n",
       "2     2025-04-23  0.386436  0.294665  0.000000  0.262656  0.0  0.000000   0.0   \n",
       "3     2025-04-24  0.383920  0.000000  0.000000  0.000000  0.0  0.585494   0.0   \n",
       "4     2025-04-25  0.946818  0.000000  0.000000  0.321771  0.0  0.000000   0.0   \n",
       "\n",
       "   return   tariffs     trump  sentiment_score         price  \n",
       "0     0.0  0.000000  0.000000             -0.2  85073.165449  \n",
       "1     0.0  0.000000  0.470009             -0.2  87452.046991  \n",
       "2     0.0  0.000000  0.833578              0.2  93576.165886  \n",
       "3     0.0  0.714005  0.000000             -0.2  93605.452309  \n",
       "4     0.0  0.000000  0.000000             -0.2  93872.814229  "
      ]
     },
     "execution_count": 27,
     "metadata": {},
     "output_type": "execute_result"
    }
   ],
   "source": [
    "df_merged = pd.merge(final_features, df_price, on=\"published_date\")\n",
    "df_merged = df_merged.sort_values(\"published_date\")\n",
    "df_merged.head()\n"
   ]
  },
  {
   "cell_type": "code",
   "execution_count": 28,
   "id": "9e8b6346",
   "metadata": {
    "ExecuteTime": {
     "end_time": "2025-05-17T18:37:10.595481Z",
     "start_time": "2025-05-17T18:37:10.574952Z"
    }
   },
   "outputs": [
    {
     "data": {
      "text/html": [
       "<div>\n",
       "<style scoped>\n",
       "    .dataframe tbody tr th:only-of-type {\n",
       "        vertical-align: middle;\n",
       "    }\n",
       "\n",
       "    .dataframe tbody tr th {\n",
       "        vertical-align: top;\n",
       "    }\n",
       "\n",
       "    .dataframe thead th {\n",
       "        text-align: right;\n",
       "    }\n",
       "</style>\n",
       "<table border=\"1\" class=\"dataframe\">\n",
       "  <thead>\n",
       "    <tr style=\"text-align: right;\">\n",
       "      <th></th>\n",
       "      <th>published_date</th>\n",
       "      <th>bitcoin</th>\n",
       "      <th>btc</th>\n",
       "      <th>chars</th>\n",
       "      <th>crypto</th>\n",
       "      <th>gt</th>\n",
       "      <th>industry</th>\n",
       "      <th>open</th>\n",
       "      <th>return</th>\n",
       "      <th>tariffs</th>\n",
       "      <th>trump</th>\n",
       "      <th>sentiment_score</th>\n",
       "      <th>price</th>\n",
       "    </tr>\n",
       "  </thead>\n",
       "  <tbody>\n",
       "    <tr>\n",
       "      <th>0</th>\n",
       "      <td>2025-04-21</td>\n",
       "      <td>0.755842</td>\n",
       "      <td>0.000000</td>\n",
       "      <td>0.654754</td>\n",
       "      <td>0.000000</td>\n",
       "      <td>0.000000</td>\n",
       "      <td>0.000000</td>\n",
       "      <td>0.000000</td>\n",
       "      <td>0.000000</td>\n",
       "      <td>0.000000</td>\n",
       "      <td>0.000000</td>\n",
       "      <td>-0.2</td>\n",
       "      <td>85073.165449</td>\n",
       "    </tr>\n",
       "    <tr>\n",
       "      <th>1</th>\n",
       "      <td>2025-04-22</td>\n",
       "      <td>0.817088</td>\n",
       "      <td>0.249219</td>\n",
       "      <td>0.000000</td>\n",
       "      <td>0.222146</td>\n",
       "      <td>0.000000</td>\n",
       "      <td>0.000000</td>\n",
       "      <td>0.000000</td>\n",
       "      <td>0.000000</td>\n",
       "      <td>0.000000</td>\n",
       "      <td>0.470009</td>\n",
       "      <td>-0.2</td>\n",
       "      <td>87452.046991</td>\n",
       "    </tr>\n",
       "    <tr>\n",
       "      <th>2</th>\n",
       "      <td>2025-04-23</td>\n",
       "      <td>0.386436</td>\n",
       "      <td>0.294665</td>\n",
       "      <td>0.000000</td>\n",
       "      <td>0.262656</td>\n",
       "      <td>0.000000</td>\n",
       "      <td>0.000000</td>\n",
       "      <td>0.000000</td>\n",
       "      <td>0.000000</td>\n",
       "      <td>0.000000</td>\n",
       "      <td>0.833578</td>\n",
       "      <td>0.2</td>\n",
       "      <td>93576.165886</td>\n",
       "    </tr>\n",
       "    <tr>\n",
       "      <th>3</th>\n",
       "      <td>2025-04-24</td>\n",
       "      <td>0.383920</td>\n",
       "      <td>0.000000</td>\n",
       "      <td>0.000000</td>\n",
       "      <td>0.000000</td>\n",
       "      <td>0.000000</td>\n",
       "      <td>0.585494</td>\n",
       "      <td>0.000000</td>\n",
       "      <td>0.000000</td>\n",
       "      <td>0.714005</td>\n",
       "      <td>0.000000</td>\n",
       "      <td>-0.2</td>\n",
       "      <td>93605.452309</td>\n",
       "    </tr>\n",
       "    <tr>\n",
       "      <th>4</th>\n",
       "      <td>2025-04-25</td>\n",
       "      <td>0.946818</td>\n",
       "      <td>0.000000</td>\n",
       "      <td>0.000000</td>\n",
       "      <td>0.321771</td>\n",
       "      <td>0.000000</td>\n",
       "      <td>0.000000</td>\n",
       "      <td>0.000000</td>\n",
       "      <td>0.000000</td>\n",
       "      <td>0.000000</td>\n",
       "      <td>0.000000</td>\n",
       "      <td>-0.2</td>\n",
       "      <td>93872.814229</td>\n",
       "    </tr>\n",
       "    <tr>\n",
       "      <th>5</th>\n",
       "      <td>2025-04-26</td>\n",
       "      <td>0.089223</td>\n",
       "      <td>0.000000</td>\n",
       "      <td>0.309162</td>\n",
       "      <td>0.000000</td>\n",
       "      <td>0.717460</td>\n",
       "      <td>0.000000</td>\n",
       "      <td>0.331871</td>\n",
       "      <td>0.309162</td>\n",
       "      <td>0.331871</td>\n",
       "      <td>0.256617</td>\n",
       "      <td>-0.2</td>\n",
       "      <td>94773.112006</td>\n",
       "    </tr>\n",
       "    <tr>\n",
       "      <th>6</th>\n",
       "      <td>2025-04-27</td>\n",
       "      <td>1.000000</td>\n",
       "      <td>0.000000</td>\n",
       "      <td>0.000000</td>\n",
       "      <td>0.000000</td>\n",
       "      <td>0.000000</td>\n",
       "      <td>0.000000</td>\n",
       "      <td>0.000000</td>\n",
       "      <td>0.000000</td>\n",
       "      <td>0.000000</td>\n",
       "      <td>0.000000</td>\n",
       "      <td>-0.6</td>\n",
       "      <td>94644.066371</td>\n",
       "    </tr>\n",
       "    <tr>\n",
       "      <th>7</th>\n",
       "      <td>2025-04-28</td>\n",
       "      <td>0.165914</td>\n",
       "      <td>0.000000</td>\n",
       "      <td>0.287448</td>\n",
       "      <td>0.225539</td>\n",
       "      <td>0.667070</td>\n",
       "      <td>0.253025</td>\n",
       "      <td>0.308562</td>\n",
       "      <td>0.287448</td>\n",
       "      <td>0.308562</td>\n",
       "      <td>0.238594</td>\n",
       "      <td>-0.6</td>\n",
       "      <td>93809.337820</td>\n",
       "    </tr>\n",
       "    <tr>\n",
       "      <th>8</th>\n",
       "      <td>2025-04-29</td>\n",
       "      <td>0.000000</td>\n",
       "      <td>0.000000</td>\n",
       "      <td>0.000000</td>\n",
       "      <td>0.510799</td>\n",
       "      <td>0.000000</td>\n",
       "      <td>0.286525</td>\n",
       "      <td>0.000000</td>\n",
       "      <td>0.000000</td>\n",
       "      <td>0.000000</td>\n",
       "      <td>0.810548</td>\n",
       "      <td>0.2</td>\n",
       "      <td>95030.606455</td>\n",
       "    </tr>\n",
       "    <tr>\n",
       "      <th>9</th>\n",
       "      <td>2025-04-30</td>\n",
       "      <td>0.296262</td>\n",
       "      <td>0.000000</td>\n",
       "      <td>0.000000</td>\n",
       "      <td>0.805465</td>\n",
       "      <td>0.000000</td>\n",
       "      <td>0.000000</td>\n",
       "      <td>0.000000</td>\n",
       "      <td>0.513279</td>\n",
       "      <td>0.000000</td>\n",
       "      <td>0.000000</td>\n",
       "      <td>0.6</td>\n",
       "      <td>94256.359463</td>\n",
       "    </tr>\n",
       "    <tr>\n",
       "      <th>10</th>\n",
       "      <td>2025-05-01</td>\n",
       "      <td>0.000000</td>\n",
       "      <td>0.000000</td>\n",
       "      <td>0.000000</td>\n",
       "      <td>0.686946</td>\n",
       "      <td>0.000000</td>\n",
       "      <td>0.000000</td>\n",
       "      <td>0.000000</td>\n",
       "      <td>0.000000</td>\n",
       "      <td>0.000000</td>\n",
       "      <td>0.726708</td>\n",
       "      <td>0.2</td>\n",
       "      <td>94235.753310</td>\n",
       "    </tr>\n",
       "    <tr>\n",
       "      <th>11</th>\n",
       "      <td>2025-05-02</td>\n",
       "      <td>0.257247</td>\n",
       "      <td>0.392313</td>\n",
       "      <td>0.000000</td>\n",
       "      <td>0.699393</td>\n",
       "      <td>0.000000</td>\n",
       "      <td>0.392313</td>\n",
       "      <td>0.000000</td>\n",
       "      <td>0.000000</td>\n",
       "      <td>0.000000</td>\n",
       "      <td>0.369938</td>\n",
       "      <td>-0.2</td>\n",
       "      <td>96426.945223</td>\n",
       "    </tr>\n",
       "    <tr>\n",
       "      <th>12</th>\n",
       "      <td>2025-05-03</td>\n",
       "      <td>0.395226</td>\n",
       "      <td>0.602736</td>\n",
       "      <td>0.000000</td>\n",
       "      <td>0.000000</td>\n",
       "      <td>0.000000</td>\n",
       "      <td>0.602736</td>\n",
       "      <td>0.000000</td>\n",
       "      <td>0.342367</td>\n",
       "      <td>0.000000</td>\n",
       "      <td>0.000000</td>\n",
       "      <td>0.2</td>\n",
       "      <td>96855.568134</td>\n",
       "    </tr>\n",
       "    <tr>\n",
       "      <th>13</th>\n",
       "      <td>2025-05-04</td>\n",
       "      <td>0.000000</td>\n",
       "      <td>0.707107</td>\n",
       "      <td>0.000000</td>\n",
       "      <td>0.000000</td>\n",
       "      <td>0.000000</td>\n",
       "      <td>0.707107</td>\n",
       "      <td>0.000000</td>\n",
       "      <td>0.000000</td>\n",
       "      <td>0.000000</td>\n",
       "      <td>0.000000</td>\n",
       "      <td>0.6</td>\n",
       "      <td>95922.868424</td>\n",
       "    </tr>\n",
       "    <tr>\n",
       "      <th>14</th>\n",
       "      <td>2025-05-05</td>\n",
       "      <td>1.000000</td>\n",
       "      <td>0.000000</td>\n",
       "      <td>0.000000</td>\n",
       "      <td>0.000000</td>\n",
       "      <td>0.000000</td>\n",
       "      <td>0.000000</td>\n",
       "      <td>0.000000</td>\n",
       "      <td>0.000000</td>\n",
       "      <td>0.000000</td>\n",
       "      <td>0.000000</td>\n",
       "      <td>0.2</td>\n",
       "      <td>94326.620485</td>\n",
       "    </tr>\n",
       "    <tr>\n",
       "      <th>15</th>\n",
       "      <td>2025-05-06</td>\n",
       "      <td>0.934392</td>\n",
       "      <td>0.356247</td>\n",
       "      <td>0.000000</td>\n",
       "      <td>0.000000</td>\n",
       "      <td>0.000000</td>\n",
       "      <td>0.000000</td>\n",
       "      <td>0.000000</td>\n",
       "      <td>0.000000</td>\n",
       "      <td>0.000000</td>\n",
       "      <td>0.000000</td>\n",
       "      <td>0.2</td>\n",
       "      <td>94758.823711</td>\n",
       "    </tr>\n",
       "    <tr>\n",
       "      <th>16</th>\n",
       "      <td>2025-05-07</td>\n",
       "      <td>0.416055</td>\n",
       "      <td>0.423002</td>\n",
       "      <td>0.240274</td>\n",
       "      <td>0.565577</td>\n",
       "      <td>0.000000</td>\n",
       "      <td>0.211501</td>\n",
       "      <td>0.257923</td>\n",
       "      <td>0.000000</td>\n",
       "      <td>0.000000</td>\n",
       "      <td>0.398876</td>\n",
       "      <td>0.2</td>\n",
       "      <td>96854.531988</td>\n",
       "    </tr>\n",
       "    <tr>\n",
       "      <th>17</th>\n",
       "      <td>2025-05-08</td>\n",
       "      <td>0.000000</td>\n",
       "      <td>0.000000</td>\n",
       "      <td>0.321245</td>\n",
       "      <td>0.000000</td>\n",
       "      <td>0.745501</td>\n",
       "      <td>0.000000</td>\n",
       "      <td>0.344842</td>\n",
       "      <td>0.321245</td>\n",
       "      <td>0.344842</td>\n",
       "      <td>0.000000</td>\n",
       "      <td>-1.0</td>\n",
       "      <td>97026.493770</td>\n",
       "    </tr>\n",
       "    <tr>\n",
       "      <th>18</th>\n",
       "      <td>2025-05-09</td>\n",
       "      <td>0.732176</td>\n",
       "      <td>0.000000</td>\n",
       "      <td>0.211418</td>\n",
       "      <td>0.000000</td>\n",
       "      <td>0.490629</td>\n",
       "      <td>0.000000</td>\n",
       "      <td>0.226947</td>\n",
       "      <td>0.211418</td>\n",
       "      <td>0.226947</td>\n",
       "      <td>0.175486</td>\n",
       "      <td>-0.6</td>\n",
       "      <td>103076.275555</td>\n",
       "    </tr>\n",
       "    <tr>\n",
       "      <th>19</th>\n",
       "      <td>2025-05-10</td>\n",
       "      <td>0.352126</td>\n",
       "      <td>0.268504</td>\n",
       "      <td>0.000000</td>\n",
       "      <td>0.718009</td>\n",
       "      <td>0.000000</td>\n",
       "      <td>0.537007</td>\n",
       "      <td>0.000000</td>\n",
       "      <td>0.000000</td>\n",
       "      <td>0.000000</td>\n",
       "      <td>0.000000</td>\n",
       "      <td>0.2</td>\n",
       "      <td>102962.540457</td>\n",
       "    </tr>\n",
       "  </tbody>\n",
       "</table>\n",
       "</div>"
      ],
      "text/plain": [
       "   published_date   bitcoin       btc     chars    crypto        gt  industry  \\\n",
       "0      2025-04-21  0.755842  0.000000  0.654754  0.000000  0.000000  0.000000   \n",
       "1      2025-04-22  0.817088  0.249219  0.000000  0.222146  0.000000  0.000000   \n",
       "2      2025-04-23  0.386436  0.294665  0.000000  0.262656  0.000000  0.000000   \n",
       "3      2025-04-24  0.383920  0.000000  0.000000  0.000000  0.000000  0.585494   \n",
       "4      2025-04-25  0.946818  0.000000  0.000000  0.321771  0.000000  0.000000   \n",
       "5      2025-04-26  0.089223  0.000000  0.309162  0.000000  0.717460  0.000000   \n",
       "6      2025-04-27  1.000000  0.000000  0.000000  0.000000  0.000000  0.000000   \n",
       "7      2025-04-28  0.165914  0.000000  0.287448  0.225539  0.667070  0.253025   \n",
       "8      2025-04-29  0.000000  0.000000  0.000000  0.510799  0.000000  0.286525   \n",
       "9      2025-04-30  0.296262  0.000000  0.000000  0.805465  0.000000  0.000000   \n",
       "10     2025-05-01  0.000000  0.000000  0.000000  0.686946  0.000000  0.000000   \n",
       "11     2025-05-02  0.257247  0.392313  0.000000  0.699393  0.000000  0.392313   \n",
       "12     2025-05-03  0.395226  0.602736  0.000000  0.000000  0.000000  0.602736   \n",
       "13     2025-05-04  0.000000  0.707107  0.000000  0.000000  0.000000  0.707107   \n",
       "14     2025-05-05  1.000000  0.000000  0.000000  0.000000  0.000000  0.000000   \n",
       "15     2025-05-06  0.934392  0.356247  0.000000  0.000000  0.000000  0.000000   \n",
       "16     2025-05-07  0.416055  0.423002  0.240274  0.565577  0.000000  0.211501   \n",
       "17     2025-05-08  0.000000  0.000000  0.321245  0.000000  0.745501  0.000000   \n",
       "18     2025-05-09  0.732176  0.000000  0.211418  0.000000  0.490629  0.000000   \n",
       "19     2025-05-10  0.352126  0.268504  0.000000  0.718009  0.000000  0.537007   \n",
       "\n",
       "        open    return   tariffs     trump  sentiment_score          price  \n",
       "0   0.000000  0.000000  0.000000  0.000000             -0.2   85073.165449  \n",
       "1   0.000000  0.000000  0.000000  0.470009             -0.2   87452.046991  \n",
       "2   0.000000  0.000000  0.000000  0.833578              0.2   93576.165886  \n",
       "3   0.000000  0.000000  0.714005  0.000000             -0.2   93605.452309  \n",
       "4   0.000000  0.000000  0.000000  0.000000             -0.2   93872.814229  \n",
       "5   0.331871  0.309162  0.331871  0.256617             -0.2   94773.112006  \n",
       "6   0.000000  0.000000  0.000000  0.000000             -0.6   94644.066371  \n",
       "7   0.308562  0.287448  0.308562  0.238594             -0.6   93809.337820  \n",
       "8   0.000000  0.000000  0.000000  0.810548              0.2   95030.606455  \n",
       "9   0.000000  0.513279  0.000000  0.000000              0.6   94256.359463  \n",
       "10  0.000000  0.000000  0.000000  0.726708              0.2   94235.753310  \n",
       "11  0.000000  0.000000  0.000000  0.369938             -0.2   96426.945223  \n",
       "12  0.000000  0.342367  0.000000  0.000000              0.2   96855.568134  \n",
       "13  0.000000  0.000000  0.000000  0.000000              0.6   95922.868424  \n",
       "14  0.000000  0.000000  0.000000  0.000000              0.2   94326.620485  \n",
       "15  0.000000  0.000000  0.000000  0.000000              0.2   94758.823711  \n",
       "16  0.257923  0.000000  0.000000  0.398876              0.2   96854.531988  \n",
       "17  0.344842  0.321245  0.344842  0.000000             -1.0   97026.493770  \n",
       "18  0.226947  0.211418  0.226947  0.175486             -0.6  103076.275555  \n",
       "19  0.000000  0.000000  0.000000  0.000000              0.2  102962.540457  "
      ]
     },
     "execution_count": 28,
     "metadata": {},
     "output_type": "execute_result"
    }
   ],
   "source": [
    "df_merged"
   ]
  },
  {
   "cell_type": "markdown",
   "id": "59f95516",
   "metadata": {
    "ExecuteTime": {
     "end_time": "2025-05-11T06:44:17.735750Z",
     "start_time": "2025-05-11T06:44:17.727584Z"
    }
   },
   "source": [
    "### Add Target Column (Next Day Price)"
   ]
  },
  {
   "cell_type": "code",
   "execution_count": 29,
   "id": "2fc4742b",
   "metadata": {
    "ExecuteTime": {
     "end_time": "2025-05-17T18:37:16.821023Z",
     "start_time": "2025-05-17T18:37:16.814247Z"
    }
   },
   "outputs": [],
   "source": [
    "df_merged[\"target_price\"] = df_merged[\"price\"].shift(-1)\n",
    "df_merged = df_merged.dropna()\n"
   ]
  },
  {
   "cell_type": "code",
   "execution_count": 30,
   "id": "b4aaa586",
   "metadata": {
    "ExecuteTime": {
     "end_time": "2025-05-17T18:37:20.716217Z",
     "start_time": "2025-05-17T18:37:20.705100Z"
    }
   },
   "outputs": [],
   "source": [
    "df_merged = df_merged.dropna().reset_index(drop=True)\n"
   ]
  },
  {
   "cell_type": "markdown",
   "id": "3b8077d2",
   "metadata": {
    "ExecuteTime": {
     "end_time": "2025-05-17T15:51:27.175839Z",
     "start_time": "2025-05-17T15:51:27.171044Z"
    }
   },
   "source": [
    "### setting up feature matrix"
   ]
  },
  {
   "cell_type": "code",
   "execution_count": 31,
   "id": "d0eab133",
   "metadata": {
    "ExecuteTime": {
     "end_time": "2025-05-17T18:37:24.950060Z",
     "start_time": "2025-05-17T18:37:24.866803Z"
    }
   },
   "outputs": [],
   "source": [
    "from sklearn.model_selection import train_test_split\n",
    "\n",
    "# Use df_merged with new features already added\n",
    "X = df_merged.drop(columns=[\"published_date\", \"price\", \"target_price\"])\n",
    "y = df_merged[\"target_price\"]\n",
    "\n",
    "# Split into train and test\n",
    "X_train, X_test, y_train, y_test = train_test_split(X, y, shuffle=False)\n"
   ]
  },
  {
   "cell_type": "markdown",
   "id": "5e69af2b",
   "metadata": {
    "run_control": {
     "marked": true
    }
   },
   "source": [
    "## Modeling"
   ]
  },
  {
   "cell_type": "markdown",
   "id": "e85270fa",
   "metadata": {
    "ExecuteTime": {
     "end_time": "2025-05-17T15:52:06.615481Z",
     "start_time": "2025-05-17T15:52:06.606784Z"
    }
   },
   "source": [
    "### Training model with XGboost"
   ]
  },
  {
   "cell_type": "code",
   "execution_count": 62,
   "id": "916cfa0c",
   "metadata": {
    "ExecuteTime": {
     "end_time": "2025-05-17T19:07:12.278212Z",
     "start_time": "2025-05-17T19:07:02.169057Z"
    }
   },
   "outputs": [
    {
     "name": "stdout",
     "output_type": "stream",
     "text": [
      "Fitting 5 folds for each of 50 candidates, totalling 250 fits\n"
     ]
    },
    {
     "data": {
      "text/html": [
       "<style>#sk-container-id-3 {color: black;}#sk-container-id-3 pre{padding: 0;}#sk-container-id-3 div.sk-toggleable {background-color: white;}#sk-container-id-3 label.sk-toggleable__label {cursor: pointer;display: block;width: 100%;margin-bottom: 0;padding: 0.3em;box-sizing: border-box;text-align: center;}#sk-container-id-3 label.sk-toggleable__label-arrow:before {content: \"▸\";float: left;margin-right: 0.25em;color: #696969;}#sk-container-id-3 label.sk-toggleable__label-arrow:hover:before {color: black;}#sk-container-id-3 div.sk-estimator:hover label.sk-toggleable__label-arrow:before {color: black;}#sk-container-id-3 div.sk-toggleable__content {max-height: 0;max-width: 0;overflow: hidden;text-align: left;background-color: #f0f8ff;}#sk-container-id-3 div.sk-toggleable__content pre {margin: 0.2em;color: black;border-radius: 0.25em;background-color: #f0f8ff;}#sk-container-id-3 input.sk-toggleable__control:checked~div.sk-toggleable__content {max-height: 200px;max-width: 100%;overflow: auto;}#sk-container-id-3 input.sk-toggleable__control:checked~label.sk-toggleable__label-arrow:before {content: \"▾\";}#sk-container-id-3 div.sk-estimator input.sk-toggleable__control:checked~label.sk-toggleable__label {background-color: #d4ebff;}#sk-container-id-3 div.sk-label input.sk-toggleable__control:checked~label.sk-toggleable__label {background-color: #d4ebff;}#sk-container-id-3 input.sk-hidden--visually {border: 0;clip: rect(1px 1px 1px 1px);clip: rect(1px, 1px, 1px, 1px);height: 1px;margin: -1px;overflow: hidden;padding: 0;position: absolute;width: 1px;}#sk-container-id-3 div.sk-estimator {font-family: monospace;background-color: #f0f8ff;border: 1px dotted black;border-radius: 0.25em;box-sizing: border-box;margin-bottom: 0.5em;}#sk-container-id-3 div.sk-estimator:hover {background-color: #d4ebff;}#sk-container-id-3 div.sk-parallel-item::after {content: \"\";width: 100%;border-bottom: 1px solid gray;flex-grow: 1;}#sk-container-id-3 div.sk-label:hover label.sk-toggleable__label {background-color: #d4ebff;}#sk-container-id-3 div.sk-serial::before {content: \"\";position: absolute;border-left: 1px solid gray;box-sizing: border-box;top: 0;bottom: 0;left: 50%;z-index: 0;}#sk-container-id-3 div.sk-serial {display: flex;flex-direction: column;align-items: center;background-color: white;padding-right: 0.2em;padding-left: 0.2em;position: relative;}#sk-container-id-3 div.sk-item {position: relative;z-index: 1;}#sk-container-id-3 div.sk-parallel {display: flex;align-items: stretch;justify-content: center;background-color: white;position: relative;}#sk-container-id-3 div.sk-item::before, #sk-container-id-3 div.sk-parallel-item::before {content: \"\";position: absolute;border-left: 1px solid gray;box-sizing: border-box;top: 0;bottom: 0;left: 50%;z-index: -1;}#sk-container-id-3 div.sk-parallel-item {display: flex;flex-direction: column;z-index: 1;position: relative;background-color: white;}#sk-container-id-3 div.sk-parallel-item:first-child::after {align-self: flex-end;width: 50%;}#sk-container-id-3 div.sk-parallel-item:last-child::after {align-self: flex-start;width: 50%;}#sk-container-id-3 div.sk-parallel-item:only-child::after {width: 0;}#sk-container-id-3 div.sk-dashed-wrapped {border: 1px dashed gray;margin: 0 0.4em 0.5em 0.4em;box-sizing: border-box;padding-bottom: 0.4em;background-color: white;}#sk-container-id-3 div.sk-label label {font-family: monospace;font-weight: bold;display: inline-block;line-height: 1.2em;}#sk-container-id-3 div.sk-label-container {text-align: center;}#sk-container-id-3 div.sk-container {/* jupyter's `normalize.less` sets `[hidden] { display: none; }` but bootstrap.min.css set `[hidden] { display: none !important; }` so we also need the `!important` here to be able to override the default hidden behavior on the sphinx rendered scikit-learn.org. See: https://github.com/scikit-learn/scikit-learn/issues/21755 */display: inline-block !important;position: relative;}#sk-container-id-3 div.sk-text-repr-fallback {display: none;}</style><div id=\"sk-container-id-3\" class=\"sk-top-container\"><div class=\"sk-text-repr-fallback\"><pre>RandomizedSearchCV(cv=TimeSeriesSplit(gap=0, max_train_size=None, n_splits=5, test_size=None),\n",
       "                   estimator=XGBRegressor(base_score=None, booster=None,\n",
       "                                          callbacks=None,\n",
       "                                          colsample_bylevel=None,\n",
       "                                          colsample_bynode=None,\n",
       "                                          colsample_bytree=None, device=None,\n",
       "                                          early_stopping_rounds=None,\n",
       "                                          enable_categorical=False,\n",
       "                                          eval_metric=None, feature_types=None,\n",
       "                                          gamma=None, grow_policy=No...\n",
       "                                          num_parallel_tree=None,\n",
       "                                          random_state=42, ...),\n",
       "                   n_iter=50, n_jobs=-1,\n",
       "                   param_distributions={&#x27;colsample_bytree&#x27;: [0.6, 0.8, 1.0],\n",
       "                                        &#x27;gamma&#x27;: [0, 0.1, 0.3],\n",
       "                                        &#x27;learning_rate&#x27;: [0.01, 0.05, 0.1],\n",
       "                                        &#x27;max_depth&#x27;: [2, 3, 4, 5],\n",
       "                                        &#x27;n_estimators&#x27;: [100, 200, 300],\n",
       "                                        &#x27;reg_alpha&#x27;: [0, 0.1, 1],\n",
       "                                        &#x27;reg_lambda&#x27;: [1, 1.5, 2],\n",
       "                                        &#x27;subsample&#x27;: [0.6, 0.8, 1.0]},\n",
       "                   random_state=42, scoring=&#x27;neg_mean_squared_error&#x27;,\n",
       "                   verbose=1)</pre><b>In a Jupyter environment, please rerun this cell to show the HTML representation or trust the notebook. <br />On GitHub, the HTML representation is unable to render, please try loading this page with nbviewer.org.</b></div><div class=\"sk-container\" hidden><div class=\"sk-item sk-dashed-wrapped\"><div class=\"sk-label-container\"><div class=\"sk-label sk-toggleable\"><input class=\"sk-toggleable__control sk-hidden--visually\" id=\"sk-estimator-id-7\" type=\"checkbox\" ><label for=\"sk-estimator-id-7\" class=\"sk-toggleable__label sk-toggleable__label-arrow\">RandomizedSearchCV</label><div class=\"sk-toggleable__content\"><pre>RandomizedSearchCV(cv=TimeSeriesSplit(gap=0, max_train_size=None, n_splits=5, test_size=None),\n",
       "                   estimator=XGBRegressor(base_score=None, booster=None,\n",
       "                                          callbacks=None,\n",
       "                                          colsample_bylevel=None,\n",
       "                                          colsample_bynode=None,\n",
       "                                          colsample_bytree=None, device=None,\n",
       "                                          early_stopping_rounds=None,\n",
       "                                          enable_categorical=False,\n",
       "                                          eval_metric=None, feature_types=None,\n",
       "                                          gamma=None, grow_policy=No...\n",
       "                                          num_parallel_tree=None,\n",
       "                                          random_state=42, ...),\n",
       "                   n_iter=50, n_jobs=-1,\n",
       "                   param_distributions={&#x27;colsample_bytree&#x27;: [0.6, 0.8, 1.0],\n",
       "                                        &#x27;gamma&#x27;: [0, 0.1, 0.3],\n",
       "                                        &#x27;learning_rate&#x27;: [0.01, 0.05, 0.1],\n",
       "                                        &#x27;max_depth&#x27;: [2, 3, 4, 5],\n",
       "                                        &#x27;n_estimators&#x27;: [100, 200, 300],\n",
       "                                        &#x27;reg_alpha&#x27;: [0, 0.1, 1],\n",
       "                                        &#x27;reg_lambda&#x27;: [1, 1.5, 2],\n",
       "                                        &#x27;subsample&#x27;: [0.6, 0.8, 1.0]},\n",
       "                   random_state=42, scoring=&#x27;neg_mean_squared_error&#x27;,\n",
       "                   verbose=1)</pre></div></div></div><div class=\"sk-parallel\"><div class=\"sk-parallel-item\"><div class=\"sk-item\"><div class=\"sk-label-container\"><div class=\"sk-label sk-toggleable\"><input class=\"sk-toggleable__control sk-hidden--visually\" id=\"sk-estimator-id-8\" type=\"checkbox\" ><label for=\"sk-estimator-id-8\" class=\"sk-toggleable__label sk-toggleable__label-arrow\">estimator: XGBRegressor</label><div class=\"sk-toggleable__content\"><pre>XGBRegressor(base_score=None, booster=None, callbacks=None,\n",
       "             colsample_bylevel=None, colsample_bynode=None,\n",
       "             colsample_bytree=None, device=None, early_stopping_rounds=None,\n",
       "             enable_categorical=False, eval_metric=None, feature_types=None,\n",
       "             gamma=None, grow_policy=None, importance_type=None,\n",
       "             interaction_constraints=None, learning_rate=None, max_bin=None,\n",
       "             max_cat_threshold=None, max_cat_to_onehot=None,\n",
       "             max_delta_step=None, max_depth=None, max_leaves=None,\n",
       "             min_child_weight=None, missing=nan, monotone_constraints=None,\n",
       "             multi_strategy=None, n_estimators=None, n_jobs=None,\n",
       "             num_parallel_tree=None, random_state=42, ...)</pre></div></div></div><div class=\"sk-serial\"><div class=\"sk-item\"><div class=\"sk-estimator sk-toggleable\"><input class=\"sk-toggleable__control sk-hidden--visually\" id=\"sk-estimator-id-9\" type=\"checkbox\" ><label for=\"sk-estimator-id-9\" class=\"sk-toggleable__label sk-toggleable__label-arrow\">XGBRegressor</label><div class=\"sk-toggleable__content\"><pre>XGBRegressor(base_score=None, booster=None, callbacks=None,\n",
       "             colsample_bylevel=None, colsample_bynode=None,\n",
       "             colsample_bytree=None, device=None, early_stopping_rounds=None,\n",
       "             enable_categorical=False, eval_metric=None, feature_types=None,\n",
       "             gamma=None, grow_policy=None, importance_type=None,\n",
       "             interaction_constraints=None, learning_rate=None, max_bin=None,\n",
       "             max_cat_threshold=None, max_cat_to_onehot=None,\n",
       "             max_delta_step=None, max_depth=None, max_leaves=None,\n",
       "             min_child_weight=None, missing=nan, monotone_constraints=None,\n",
       "             multi_strategy=None, n_estimators=None, n_jobs=None,\n",
       "             num_parallel_tree=None, random_state=42, ...)</pre></div></div></div></div></div></div></div></div></div></div>"
      ],
      "text/plain": [
       "RandomizedSearchCV(cv=TimeSeriesSplit(gap=0, max_train_size=None, n_splits=5, test_size=None),\n",
       "                   estimator=XGBRegressor(base_score=None, booster=None,\n",
       "                                          callbacks=None,\n",
       "                                          colsample_bylevel=None,\n",
       "                                          colsample_bynode=None,\n",
       "                                          colsample_bytree=None, device=None,\n",
       "                                          early_stopping_rounds=None,\n",
       "                                          enable_categorical=False,\n",
       "                                          eval_metric=None, feature_types=None,\n",
       "                                          gamma=None, grow_policy=No...\n",
       "                                          num_parallel_tree=None,\n",
       "                                          random_state=42, ...),\n",
       "                   n_iter=50, n_jobs=-1,\n",
       "                   param_distributions={'colsample_bytree': [0.6, 0.8, 1.0],\n",
       "                                        'gamma': [0, 0.1, 0.3],\n",
       "                                        'learning_rate': [0.01, 0.05, 0.1],\n",
       "                                        'max_depth': [2, 3, 4, 5],\n",
       "                                        'n_estimators': [100, 200, 300],\n",
       "                                        'reg_alpha': [0, 0.1, 1],\n",
       "                                        'reg_lambda': [1, 1.5, 2],\n",
       "                                        'subsample': [0.6, 0.8, 1.0]},\n",
       "                   random_state=42, scoring='neg_mean_squared_error',\n",
       "                   verbose=1)"
      ]
     },
     "execution_count": 62,
     "metadata": {},
     "output_type": "execute_result"
    }
   ],
   "source": [
    "from xgboost import XGBRegressor\n",
    "from sklearn.model_selection import RandomizedSearchCV, TimeSeriesSplit\n",
    "\n",
    "# 1. Define expanded param grid (not full grid to keep it efficient)\n",
    "param_dist = {\n",
    "    \"n_estimators\": [100, 200, 300],\n",
    "    \"max_depth\": [2, 3, 4, 5],\n",
    "    \"learning_rate\": [0.01, 0.05, 0.1],\n",
    "    \"subsample\": [0.6, 0.8, 1.0],\n",
    "    \"colsample_bytree\": [0.6, 0.8, 1.0],\n",
    "    \"gamma\": [0, 0.1, 0.3],\n",
    "    \"reg_alpha\": [0, 0.1, 1],\n",
    "    \"reg_lambda\": [1, 1.5, 2]\n",
    "}\n",
    "\n",
    "# 2. TimeSeriesSplit preserves order\n",
    "tscv = TimeSeriesSplit(n_splits=5)\n",
    "\n",
    "# 3. RandomizedSearchCV — test 50 random combinations\n",
    "random_search = RandomizedSearchCV(\n",
    "    estimator=XGBRegressor(random_state=42, verbosity=0),\n",
    "    param_distributions=param_dist,\n",
    "    n_iter=50,\n",
    "    scoring='neg_mean_squared_error',\n",
    "    cv=tscv,\n",
    "    n_jobs=-1,\n",
    "    verbose=1,\n",
    "    random_state=42\n",
    ")\n",
    "\n",
    "# 4. Fit the model\n",
    "random_search.fit(X, y)\n"
   ]
  },
  {
   "cell_type": "code",
   "execution_count": 63,
   "id": "25d5258c",
   "metadata": {
    "ExecuteTime": {
     "end_time": "2025-05-17T19:07:24.252147Z",
     "start_time": "2025-05-17T19:07:24.214386Z"
    }
   },
   "outputs": [
    {
     "name": "stdout",
     "output_type": "stream",
     "text": [
      "Best hyperparameters:\n",
      "{'subsample': 1.0, 'reg_lambda': 2, 'reg_alpha': 1, 'n_estimators': 300, 'max_depth': 4, 'learning_rate': 0.1, 'gamma': 0.3, 'colsample_bytree': 1.0}\n"
     ]
    }
   ],
   "source": [
    "print(\"Best hyperparameters:\")\n",
    "print(random_search.best_params_)\n",
    "\n",
    "# Save best model\n",
    "model = random_search.best_estimator_\n",
    "\n"
   ]
  },
  {
   "cell_type": "markdown",
   "id": "aa55f918",
   "metadata": {},
   "source": [
    "### Evaluating MAE,RMSE,r^2"
   ]
  },
  {
   "cell_type": "code",
   "execution_count": 64,
   "id": "6737ef44",
   "metadata": {
    "ExecuteTime": {
     "end_time": "2025-05-17T19:07:26.993404Z",
     "start_time": "2025-05-17T19:07:26.970120Z"
    }
   },
   "outputs": [
    {
     "name": "stdout",
     "output_type": "stream",
     "text": [
      " MAE: $0.86\n",
      " RMSE: $1.27\n",
      " R^2 Score: 1.0000\n"
     ]
    }
   ],
   "source": [
    "\n",
    "# Predict on test set\n",
    "y_pred = model.predict(X_test)\n",
    "\n",
    "# Evaluate\n",
    "from sklearn.metrics import mean_absolute_error, mean_squared_error, r2_score\n",
    "import numpy as np\n",
    "\n",
    "mae = mean_absolute_error(y_test, y_pred)\n",
    "rmse = np.sqrt(mean_squared_error(y_test, y_pred))\n",
    "r2 = r2_score(y_test, y_pred)\n",
    "\n",
    "print(f\" MAE: ${mae:.2f}\")\n",
    "print(f\" RMSE: ${rmse:.2f}\")\n",
    "print(f\" R^2 Score: {r2:.4f}\")\n"
   ]
  },
  {
   "cell_type": "code",
   "execution_count": 65,
   "id": "2627ca4e",
   "metadata": {
    "ExecuteTime": {
     "end_time": "2025-05-17T19:07:30.847620Z",
     "start_time": "2025-05-17T19:07:30.448129Z"
    }
   },
   "outputs": [
    {
     "name": "stderr",
     "output_type": "stream",
     "text": [
      "/tmp/ipykernel_52/3070318176.py:3: MatplotlibDeprecationWarning: The seaborn styles shipped by Matplotlib are deprecated since 3.6, as they no longer correspond to the styles shipped by seaborn. However, they will remain available as 'seaborn-v0_8-<style>'. Alternatively, directly use the seaborn API instead.\n",
      "  plt.style.use(\"seaborn-whitegrid\")\n"
     ]
    },
    {
     "data": {
      "image/png": "[encoded data removed]",
      "text/plain": [
       "<Figure size 1200x500 with 1 Axes>"
      ]
     },
     "metadata": {},
     "output_type": "display_data"
    }
   ],
   "source": [
    "\n",
    "import matplotlib.pyplot as plt\n",
    "\n",
    "plt.style.use(\"seaborn-whitegrid\")\n",
    "plt.figure(figsize=(12, 5))\n",
    "\n",
    "x_vals = y_test.index if isinstance(y_test.index, pd.DatetimeIndex) else range(len(y_test))\n",
    "\n",
    "plt.plot(x_vals, y_test.values, label=\"Actual BTC Price\", color=\"black\", linewidth=2, marker='o')\n",
    "plt.plot(x_vals, y_pred, label=\"Tuned XGBoost Prediction\", color=\"royalblue\", linestyle=\"--\", marker='x')\n",
    "\n",
    "plt.title(\"Final XGBoost Prediction of Bitcoin Price\", fontsize=16, fontweight=\"bold\")\n",
    "plt.xlabel(\"Date\" if isinstance(x_vals[0], pd.Timestamp) else \"Days\", fontsize=12)\n",
    "plt.ylabel(\"BTC Price (USD)\", fontsize=12)\n",
    "\n",
    "plt.legend(fontsize=12)\n",
    "plt.xticks(rotation=45 if isinstance(x_vals[0], pd.Timestamp) else 0)\n",
    "plt.tight_layout()\n",
    "plt.grid(True, linestyle=\"--\", alpha=0.6)\n",
    "plt.show()\n"
   ]
  },
  {
   "cell_type": "markdown",
   "id": "9d1c8794",
   "metadata": {},
   "source": [
    "## Forecasting "
   ]
  },
  {
   "cell_type": "markdown",
   "id": "0bd8fd4f",
   "metadata": {
    "ExecuteTime": {
     "end_time": "2025-05-17T23:22:28.869778Z",
     "start_time": "2025-05-17T23:22:28.865220Z"
    }
   },
   "source": [
    "##  Forecast Tomorrow's BTC Price Using Latest Known Features"
   ]
  },
  {
   "cell_type": "code",
   "execution_count": 66,
   "id": "eaec16f1",
   "metadata": {
    "ExecuteTime": {
     "end_time": "2025-05-17T19:07:36.121874Z",
     "start_time": "2025-05-17T19:07:36.102590Z"
    }
   },
   "outputs": [
    {
     "name": "stdout",
     "output_type": "stream",
     "text": [
      "Forecast Date: 2025-05-10\n",
      "Predicted BTC Price: $102,960.64\n"
     ]
    }
   ],
   "source": [
    "# Forecast Tomorrow's BTC Price Using Latest Known Features\n",
    "import numpy as np\n",
    "\n",
    "# Use the most recent row from the full feature set\n",
    "latest_input = df_merged.drop(columns=[\"published_date\", \"price\", \"target_price\"]).iloc[[-1]]\n",
    "\n",
    "# Predict next day's BTC price\n",
    "next_day_prediction = model.predict(latest_input)\n",
    "\n",
    "# Get latest date from the data\n",
    "last_date = df_merged[\"published_date\"].iloc[-1]\n",
    "next_date = pd.to_datetime(last_date) + pd.Timedelta(days=1)\n",
    "\n",
    "# Show forecast\n",
    "print(f\"Forecast Date: {next_date.strftime('%Y-%m-%d')}\")\n",
    "print(f\"Predicted BTC Price: ${next_day_prediction[0]:,.2f}\")\n"
   ]
  },
  {
   "cell_type": "code",
   "execution_count": 67,
   "id": "08f8408b",
   "metadata": {
    "ExecuteTime": {
     "end_time": "2025-05-17T19:07:42.322921Z",
     "start_time": "2025-05-17T19:07:42.143335Z"
    }
   },
   "outputs": [
    {
     "name": "stdout",
     "output_type": "stream",
     "text": [
      "Actual BTC Price on 2025-05-09: $103,076.28\n"
     ]
    }
   ],
   "source": [
    "import requests\n",
    "import pandas as pd\n",
    "\n",
    "def get_actual_price(date_str: str) -> float:\n",
    "    url = \"https://api.coingecko.com/api/v3/coins/bitcoin/history\"\n",
    "    params = {\"date\": pd.to_datetime(date_str).strftime('%d-%m-%Y'), \"localization\": \"false\"}\n",
    "    r = requests.get(url, params=params).json()\n",
    "    try:\n",
    "        return r[\"market_data\"][\"current_price\"][\"usd\"]\n",
    "    except KeyError:\n",
    "        return None\n",
    "\n",
    "actual_price = get_actual_price(\"2025-05-09\")\n",
    "print(f\"Actual BTC Price on 2025-05-09: ${actual_price:,.2f}\" if actual_price else \"Price not available\")\n"
   ]
  },
  {
   "cell_type": "code",
   "execution_count": 68,
   "id": "35b879ef",
   "metadata": {
    "ExecuteTime": {
     "end_time": "2025-05-17T19:07:45.415153Z",
     "start_time": "2025-05-17T19:07:44.918584Z"
    }
   },
   "outputs": [
    {
     "data": {
      "image/png": "[encoded data removed]",
      "text/plain": [
       "<Figure size 800x500 with 1 Axes>"
      ]
     },
     "metadata": {},
     "output_type": "display_data"
    }
   ],
   "source": [
    "import matplotlib.pyplot as plt\n",
    "import pandas as pd\n",
    "\n",
    "# Create a short dataframe to show context around the forecast\n",
    "plot_df = pd.DataFrame({\n",
    "    \"Date\": pd.to_datetime([\"2025-05-07\", \"2025-05-08\", \"2025-05-09\"]),\n",
    "    \"Actual Price\": [None, None, 103076.28],\n",
    "    \"Predicted Price\": [None, None, 102960.64]\n",
    "})\n",
    "\n",
    "# Plot\n",
    "plt.figure(figsize=(8, 5))\n",
    "plt.plot(plot_df[\"Date\"], plot_df[\"Predicted Price\"], label=\"Predicted Price\", color=\"royalblue\", linestyle=\"--\", marker=\"o\")\n",
    "plt.plot(plot_df[\"Date\"], plot_df[\"Actual Price\"], label=\"Actual Price\", color=\"black\", marker=\"x\")\n",
    "\n",
    "# Labels and styling\n",
    "plt.title(\"BTC Forecast vs Actual on 2025-05-09\", fontsize=15, fontweight=\"bold\")\n",
    "plt.xlabel(\"Date\", fontsize=12)\n",
    "plt.ylabel(\"BTC Price (USD)\", fontsize=12)\n",
    "plt.xticks(rotation=45)\n",
    "plt.legend(fontsize=12)\n",
    "plt.grid(True, linestyle=\"--\", alpha=0.6)\n",
    "plt.tight_layout()\n",
    "plt.show()\n"
   ]
  },
  {
   "cell_type": "markdown",
   "id": "d18c45e5",
   "metadata": {
    "ExecuteTime": {
     "end_time": "2025-05-17T23:23:14.430844Z",
     "start_time": "2025-05-17T23:23:14.403862Z"
    }
   },
   "source": [
    "### Forecasting 30 das of Bitcoin Price"
   ]
  },
  {
   "cell_type": "code",
   "execution_count": 56,
   "id": "19948a75",
   "metadata": {
    "ExecuteTime": {
     "end_time": "2025-05-17T19:05:17.837989Z",
     "start_time": "2025-05-17T19:05:17.230808Z"
    }
   },
   "outputs": [
    {
     "data": {
      "image/png": "[encoded data removed]",
      "text/plain": [
       "<Figure size 1000x400 with 1 Axes>"
      ]
     },
     "metadata": {},
     "output_type": "display_data"
    }
   ],
   "source": [
    "import pandas as pd\n",
    "import numpy as np\n",
    "from datetime import timedelta\n",
    "import matplotlib.pyplot as plt\n",
    "\n",
    "#  Step 1: Get last available feature input\n",
    "latest_input = df_merged.drop(columns=[\"published_date\", \"price\", \"target_price\"]).iloc[[-1]]\n",
    "last_date = pd.to_datetime(df_merged[\"published_date\"].iloc[-1])\n",
    "\n",
    "# Step 2: Forecast next 30 days with slight variation\n",
    "future_dates = []\n",
    "predicted_prices = []\n",
    "\n",
    "for i in range(1, 31):\n",
    "    next_date = last_date + timedelta(days=i)\n",
    "\n",
    "    # Simulate slight day-to-day change using random noise\n",
    "    simulated_input = latest_input.copy()\n",
    "    noise = np.random.normal(loc=0.0, scale=0.005, size=simulated_input.shape)\n",
    "    simulated_input = simulated_input + noise  # Add noise to simulate change\n",
    "\n",
    "    # Predict\n",
    "    prediction = model.predict(simulated_input)[0]\n",
    "\n",
    "    future_dates.append(next_date)\n",
    "    predicted_prices.append(prediction)\n",
    "\n",
    "# Step 3: Create forecast DataFrame\n",
    "df_forecast_30 = pd.DataFrame({\n",
    "    \"forecast_date\": future_dates,\n",
    "    \"predicted_price\": predicted_prices\n",
    "})\n",
    "\n",
    "#  Step 4: Visualize\n",
    "plt.figure(figsize=(10, 4))\n",
    "plt.plot(df_forecast_30[\"forecast_date\"], df_forecast_30[\"predicted_price\"], marker=\"o\", linestyle=\"--\", color=\"royalblue\")\n",
    "plt.title(\"30-Day Forecast of Bitcoin Price\")\n",
    "plt.xlabel(\"Date\")\n",
    "plt.ylabel(\"Predicted BTC Price (USD)\")\n",
    "plt.xticks(rotation=45)\n",
    "plt.grid(True, linestyle=\"--\", alpha=0.6)\n",
    "plt.tight_layout()\n",
    "plt.show()\n",
    "\n",
    "# Step 5 (optional): Save forecast to CSV for dashboard\n",
    "df_forecast_30.to_csv(\"btc_30_day_forecast.csv\", index=False)\n",
    "\n"
   ]
  },
  {
   "cell_type": "code",
   "execution_count": 69,
   "id": "c3e0d5f8",
   "metadata": {
    "ExecuteTime": {
     "end_time": "2025-05-17T19:07:56.361026Z",
     "start_time": "2025-05-17T19:07:56.111405Z"
    }
   },
   "outputs": [],
   "source": [
    "import requests\n",
    "\n",
    "def get_actual_btc_prices(days=30):\n",
    "    url = \"https://api.coingecko.com/api/v3/coins/bitcoin/market_chart\"\n",
    "    params = {\n",
    "        \"vs_currency\": \"usd\",\n",
    "        \"days\": days,\n",
    "        \"interval\": \"daily\"\n",
    "    }\n",
    "\n",
    "    response = requests.get(url, params=params).json()\n",
    "    prices = response[\"prices\"]  # List of [timestamp, price]\n",
    "\n",
    "    df_actual = pd.DataFrame(prices, columns=[\"timestamp\", \"actual_price\"])\n",
    "    df_actual[\"forecast_date\"] = pd.to_datetime(df_actual[\"timestamp\"], unit=\"ms\").dt.date\n",
    "    df_actual = df_actual[[\"forecast_date\", \"actual_price\"]]\n",
    "    return df_actual\n",
    "\n",
    "df_actual_30 = get_actual_btc_prices(days=30)\n"
   ]
  },
  {
   "cell_type": "code",
   "execution_count": 70,
   "id": "18e7cfb9",
   "metadata": {
    "ExecuteTime": {
     "end_time": "2025-05-17T19:07:59.769768Z",
     "start_time": "2025-05-17T19:07:59.738088Z"
    }
   },
   "outputs": [
    {
     "data": {
      "text/html": [
       "<div>\n",
       "<style scoped>\n",
       "    .dataframe tbody tr th:only-of-type {\n",
       "        vertical-align: middle;\n",
       "    }\n",
       "\n",
       "    .dataframe tbody tr th {\n",
       "        vertical-align: top;\n",
       "    }\n",
       "\n",
       "    .dataframe thead th {\n",
       "        text-align: right;\n",
       "    }\n",
       "</style>\n",
       "<table border=\"1\" class=\"dataframe\">\n",
       "  <thead>\n",
       "    <tr style=\"text-align: right;\">\n",
       "      <th></th>\n",
       "      <th>forecast_date</th>\n",
       "      <th>predicted_price</th>\n",
       "      <th>actual_price</th>\n",
       "    </tr>\n",
       "  </thead>\n",
       "  <tbody>\n",
       "    <tr>\n",
       "      <th>0</th>\n",
       "      <td>2025-05-10</td>\n",
       "      <td>99780.906250</td>\n",
       "      <td>102962.540457</td>\n",
       "    </tr>\n",
       "    <tr>\n",
       "      <th>1</th>\n",
       "      <td>2025-05-11</td>\n",
       "      <td>102943.515625</td>\n",
       "      <td>104630.879299</td>\n",
       "    </tr>\n",
       "    <tr>\n",
       "      <th>2</th>\n",
       "      <td>2025-05-12</td>\n",
       "      <td>99793.765625</td>\n",
       "      <td>103994.061617</td>\n",
       "    </tr>\n",
       "    <tr>\n",
       "      <th>3</th>\n",
       "      <td>2025-05-13</td>\n",
       "      <td>102937.039062</td>\n",
       "      <td>102876.830429</td>\n",
       "    </tr>\n",
       "    <tr>\n",
       "      <th>4</th>\n",
       "      <td>2025-05-14</td>\n",
       "      <td>94195.960938</td>\n",
       "      <td>104184.490393</td>\n",
       "    </tr>\n",
       "    <tr>\n",
       "      <th>5</th>\n",
       "      <td>2025-05-15</td>\n",
       "      <td>99792.843750</td>\n",
       "      <td>103594.425751</td>\n",
       "    </tr>\n",
       "    <tr>\n",
       "      <th>6</th>\n",
       "      <td>2025-05-16</td>\n",
       "      <td>102921.921875</td>\n",
       "      <td>103708.851364</td>\n",
       "    </tr>\n",
       "    <tr>\n",
       "      <th>7</th>\n",
       "      <td>2025-05-17</td>\n",
       "      <td>102941.304688</td>\n",
       "      <td>103556.034940</td>\n",
       "    </tr>\n",
       "    <tr>\n",
       "      <th>8</th>\n",
       "      <td>2025-05-17</td>\n",
       "      <td>102941.304688</td>\n",
       "      <td>103088.253757</td>\n",
       "    </tr>\n",
       "  </tbody>\n",
       "</table>\n",
       "</div>"
      ],
      "text/plain": [
       "  forecast_date  predicted_price   actual_price\n",
       "0    2025-05-10     99780.906250  102962.540457\n",
       "1    2025-05-11    102943.515625  104630.879299\n",
       "2    2025-05-12     99793.765625  103994.061617\n",
       "3    2025-05-13    102937.039062  102876.830429\n",
       "4    2025-05-14     94195.960938  104184.490393\n",
       "5    2025-05-15     99792.843750  103594.425751\n",
       "6    2025-05-16    102921.921875  103708.851364\n",
       "7    2025-05-17    102941.304688  103556.034940\n",
       "8    2025-05-17    102941.304688  103088.253757"
      ]
     },
     "execution_count": 70,
     "metadata": {},
     "output_type": "execute_result"
    }
   ],
   "source": [
    "# Ensure forecast dates are date-only format\n",
    "df_forecast_30[\"forecast_date\"] = pd.to_datetime(df_forecast_30[\"forecast_date\"]).dt.date\n",
    "\n",
    "# Merge actual and predicted\n",
    "df_comparison = pd.merge(df_forecast_30, df_actual_30, on=\"forecast_date\", how=\"inner\")\n",
    "df_comparison\n"
   ]
  },
  {
   "cell_type": "code",
   "execution_count": 59,
   "id": "940fe94b",
   "metadata": {
    "ExecuteTime": {
     "end_time": "2025-05-17T19:05:57.118019Z",
     "start_time": "2025-05-17T19:05:56.720676Z"
    }
   },
   "outputs": [
    {
     "data": {
      "image/png": "[encoded data removed]",
      "text/plain": [
       "<Figure size 1000x400 with 1 Axes>"
      ]
     },
     "metadata": {},
     "output_type": "display_data"
    }
   ],
   "source": [
    "plt.figure(figsize=(10, 4))\n",
    "plt.plot(df_comparison[\"forecast_date\"], df_comparison[\"actual_price\"], label=\"Actual BTC Price\", marker=\"o\", color=\"black\")\n",
    "plt.plot(df_comparison[\"forecast_date\"], df_comparison[\"predicted_price\"], label=\"Predicted BTC Price\", linestyle=\"--\", marker=\"x\", color=\"royalblue\")\n",
    "plt.title(\"30-Day BTC Price Forecast vs Actual\")\n",
    "plt.xlabel(\"Date\")\n",
    "plt.ylabel(\"BTC Price (USD)\")\n",
    "plt.xticks(rotation=45)\n",
    "plt.legend()\n",
    "plt.grid(True, linestyle=\"--\", alpha=0.6)\n",
    "plt.tight_layout()\n",
    "plt.show()\n"
   ]
  },
  {
   "cell_type": "code",
   "execution_count": null,
   "id": "178b2065",
   "metadata": {},
   "outputs": [],
   "source": []
  },
  {
   "cell_type": "code",
   "execution_count": 72,
   "id": "0416ced2",
   "metadata": {
    "ExecuteTime": {
     "end_time": "2025-05-17T19:08:25.922802Z",
     "start_time": "2025-05-17T19:08:25.884543Z"
    }
   },
   "outputs": [
    {
     "data": {
      "text/plain": [
       "['xgb_model.pkl']"
      ]
     },
     "execution_count": 72,
     "metadata": {},
     "output_type": "execute_result"
    }
   ],
   "source": [
    "import joblib\n",
    "\n",
    "# Save your final trained model\n",
    "joblib.dump(model, \"xgb_model.pkl\")\n"
   ]
  },
  {
   "cell_type": "code",
   "execution_count": 1,
   "id": "e0718aa3",
   "metadata": {
    "ExecuteTime": {
     "end_time": "2025-05-17T19:39:06.477605Z",
     "start_time": "2025-05-17T19:39:06.442499Z"
    }
   },
   "outputs": [
    {
     "data": {
      "text/plain": [
       "'/data'"
      ]
     },
     "execution_count": 1,
     "metadata": {},
     "output_type": "execute_result"
    }
   ],
   "source": [
    "import os\n",
    "os.getcwd()\n"
   ]
  },
  {
   "cell_type": "code",
   "execution_count": null,
   "id": "1078af9b",
   "metadata": {},
   "outputs": [],
   "source": []
  }
 ],
 "metadata": {
  "kernelspec": {
   "display_name": "Python 3 (ipykernel)",
   "language": "python",
   "name": "python3"
  },
  "language_info": {
   "codemirror_mode": {
    "name": "ipython",
    "version": 3
   },
   "file_extension": ".py",
   "mimetype": "text/x-python",
   "name": "python",
   "nbconvert_exporter": "python",
   "pygments_lexer": "ipython3",
   "version": "3.8.10"
  },
  "toc": {
   "base_numbering": 1,
   "nav_menu": {},
   "number_sections": true,
   "sideBar": true,
   "skip_h1_title": false,
   "title_cell": "Table of Contents",
   "title_sidebar": "Contents",
   "toc_cell": false,
   "toc_position": {},
   "toc_section_display": true,
   "toc_window_display": false
  }
 },
 "nbformat": 4,
 "nbformat_minor": 5
}
