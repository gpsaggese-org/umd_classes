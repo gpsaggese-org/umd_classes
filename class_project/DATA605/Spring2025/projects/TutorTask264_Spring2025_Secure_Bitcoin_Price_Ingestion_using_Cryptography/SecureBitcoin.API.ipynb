{
 "cells": [
  {
   "cell_type": "code",
   "execution_count": 5,
   "id": "8ef5409c-d195-4b45-b1fc-199f87b5f8a9",
   "metadata": {},
   "outputs": [
    {
     "name": "stdout",
     "output_type": "stream",
     "text": [
      "Collecting pycryptodome\n",
      "  Using cached pycryptodome-3.22.0-cp37-abi3-macosx_10_9_universal2.whl.metadata (3.4 kB)\n",
      "Requirement already satisfied: requests in /opt/anaconda3/lib/python3.12/site-packages (2.32.3)\n",
      "Requirement already satisfied: matplotlib in /opt/anaconda3/lib/python3.12/site-packages (3.9.2)\n",
      "Requirement already satisfied: pandas in /opt/anaconda3/lib/python3.12/site-packages (2.2.2)\n",
      "Requirement already satisfied: charset-normalizer<4,>=2 in /opt/anaconda3/lib/python3.12/site-packages (from requests) (3.3.2)\n",
      "Requirement already satisfied: idna<4,>=2.5 in /opt/anaconda3/lib/python3.12/site-packages (from requests) (3.7)\n",
      "Requirement already satisfied: urllib3<3,>=1.21.1 in /opt/anaconda3/lib/python3.12/site-packages (from requests) (2.2.3)\n",
      "Requirement already satisfied: certifi>=2017.4.17 in /opt/anaconda3/lib/python3.12/site-packages (from requests) (2024.8.30)\n",
      "Requirement already satisfied: contourpy>=1.0.1 in /opt/anaconda3/lib/python3.12/site-packages (from matplotlib) (1.2.0)\n",
      "Requirement already satisfied: cycler>=0.10 in /opt/anaconda3/lib/python3.12/site-packages (from matplotlib) (0.11.0)\n",
      "Requirement already satisfied: fonttools>=4.22.0 in /opt/anaconda3/lib/python3.12/site-packages (from matplotlib) (4.51.0)\n",
      "Requirement already satisfied: kiwisolver>=1.3.1 in /opt/anaconda3/lib/python3.12/site-packages (from matplotlib) (1.4.4)\n",
      "Requirement already satisfied: numpy>=1.23 in /opt/anaconda3/lib/python3.12/site-packages (from matplotlib) (1.26.4)\n",
      "Requirement already satisfied: packaging>=20.0 in /opt/anaconda3/lib/python3.12/site-packages (from matplotlib) (24.1)\n",
      "Requirement already satisfied: pillow>=8 in /opt/anaconda3/lib/python3.12/site-packages (from matplotlib) (10.4.0)\n",
      "Requirement already satisfied: pyparsing>=2.3.1 in /opt/anaconda3/lib/python3.12/site-packages (from matplotlib) (3.1.2)\n",
      "Requirement already satisfied: python-dateutil>=2.7 in /opt/anaconda3/lib/python3.12/site-packages (from matplotlib) (2.9.0.post0)\n",
      "Requirement already satisfied: pytz>=2020.1 in /opt/anaconda3/lib/python3.12/site-packages (from pandas) (2024.1)\n",
      "Requirement already satisfied: tzdata>=2022.7 in /opt/anaconda3/lib/python3.12/site-packages (from pandas) (2023.3)\n",
      "Requirement already satisfied: six>=1.5 in /opt/anaconda3/lib/python3.12/site-packages (from python-dateutil>=2.7->matplotlib) (1.16.0)\n",
      "Using cached pycryptodome-3.22.0-cp37-abi3-macosx_10_9_universal2.whl (2.5 MB)\n",
      "Installing collected packages: pycryptodome\n",
      "Successfully installed pycryptodome-3.22.0\n",
      "Note: you may need to restart the kernel to use updated packages.\n"
     ]
    }
   ],
   "source": [
    "pip install pycryptodome requests matplotlib pandas"
   ]
  },
  {
   "cell_type": "code",
   "execution_count": 6,
   "id": "334ac57c-e82f-4a50-ac32-691b5f087449",
   "metadata": {},
   "outputs": [],
   "source": [
    "from SecureBitcoin_utils import *\n",
    "\n",
    "password = \"Shri200206*\"\n",
    "key = derive_key(password)"
   ]
  },
  {
   "cell_type": "code",
   "execution_count": 7,
   "id": "959979fb-a681-4cfb-9919-757a5c225c2c",
   "metadata": {},
   "outputs": [
    {
     "name": "stdout",
     "output_type": "stream",
     "text": [
      "Fetched: {'timestamp': '2025-05-16T16:28:05.882654', 'price_usd': 104176}\n"
     ]
    }
   ],
   "source": [
    "data = fetch_bitcoin_price()\n",
    "print(\"Fetched:\", data)"
   ]
  },
  {
   "cell_type": "code",
   "execution_count": 8,
   "id": "dc7e2f96-708a-4321-9d51-740515068721",
   "metadata": {},
   "outputs": [
    {
     "name": "stdout",
     "output_type": "stream",
     "text": [
      "Original Hash: 80160067e79ff8535c6f39214f7f72e8a14118af64bc50242f2f2b81e1fe3187\n"
     ]
    }
   ],
   "source": [
    "data_hash = hash_data(data)\n",
    "print(\"Original Hash:\", data_hash)"
   ]
  },
  {
   "cell_type": "code",
   "execution_count": 9,
   "id": "1070ae7f-a297-4870-af6b-78e3a2c8d130",
   "metadata": {},
   "outputs": [
    {
     "name": "stdout",
     "output_type": "stream",
     "text": [
      "Encrypted: Gb8YXfxyXplGpILck5fWrf9QwrlPmnmSGcaBlY/BA3Y1RxApHyVR9sS0AqM65mcuJ9sy34QRH0WUE8Tf5izcoApGEdUM9kf4bXqGtnyQ1SFywfB8SH0Dx7nlUQ8vXdJQ\n"
     ]
    }
   ],
   "source": [
    "encrypted = encrypt_data(data, key)\n",
    "print(\"Encrypted:\", encrypted)"
   ]
  },
  {
   "cell_type": "code",
   "execution_count": 10,
   "id": "7d47479e-a8b6-4790-8dfa-b90235ceada3",
   "metadata": {},
   "outputs": [
    {
     "name": "stdout",
     "output_type": "stream",
     "text": [
      "Decrypted: {'timestamp': '2025-05-16T16:28:05.882654', 'price_usd': 104176}\n",
      "Hashes match: True\n"
     ]
    }
   ],
   "source": [
    "decrypted = decrypt_data(encrypted, key)\n",
    "print(\"Decrypted:\", decrypted)\n",
    "\n",
    "rehash = hash_data(decrypted)\n",
    "print(\"Hashes match:\", data_hash == rehash)"
   ]
  },
  {
   "cell_type": "code",
   "execution_count": null,
   "id": "c68aa904-ba38-415d-98c8-c8ad655690ce",
   "metadata": {},
   "outputs": [],
   "source": []
  }
 ],
 "metadata": {
  "kernelspec": {
   "display_name": "Python 3 (ipykernel)",
   "language": "python",
   "name": "python3"
  },
  "language_info": {
   "codemirror_mode": {
    "name": "ipython",
    "version": 3
   },
   "file_extension": ".py",
   "mimetype": "text/x-python",
   "name": "python",
   "nbconvert_exporter": "python",
   "pygments_lexer": "ipython3",
   "version": "3.10.16"
  }
 },
 "nbformat": 4,
 "nbformat_minor": 5
}
