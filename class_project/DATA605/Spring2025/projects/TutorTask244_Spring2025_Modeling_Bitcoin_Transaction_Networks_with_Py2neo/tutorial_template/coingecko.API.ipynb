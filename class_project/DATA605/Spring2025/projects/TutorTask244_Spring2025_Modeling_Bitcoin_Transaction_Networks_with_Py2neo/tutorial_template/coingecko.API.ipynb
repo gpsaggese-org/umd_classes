{
 "cells": [
  {
   "cell_type": "markdown",
   "id": "183c2248-ea3d-43ba-b87e-d821bba1bbc6",
   "metadata": {},
   "source": [
    "# This notebook reads cryptocurrency data from API and stores the data in Neo4j graph databases using Py2Neo\n",
    "\n",
    "<!-- The name of this notebook should in the following format: -->\n",
    "<!-- - if the notebook is exploring `pycaret API`, then it is `pycaret.API.ipynb` -->\n",
    "\n",
    "<!-- Follow the reference to write notebooks in a clear manner: https://github.com/causify-ai/helpers/blob/master/docs/coding/all.jupyter_notebook.how_to_guide.md -->"
   ]
  },
  {
   "cell_type": "code",
   "execution_count": 1,
   "id": "265e0d58-a7cd-4edf-a0b4-96b60220e801",
   "metadata": {
    "ExecuteTime": {
     "end_time": "2025-05-01T20:59:05.833985Z",
     "start_time": "2025-05-01T20:59:05.507247Z"
    }
   },
   "outputs": [
    {
     "name": "stdout",
     "output_type": "stream",
     "text": [
      "The history saving thread hit an unexpected error (OperationalError('attempt to write a readonly database')).History will not be written to the database.\n"
     ]
    }
   ],
   "source": [
    "%load_ext autoreload\n",
    "%autoreload 2\n",
    "%matplotlib inline"
   ]
  },
  {
   "cell_type": "markdown",
   "id": "d3b2f997-5c9b-4238-b6d5-e5f2cea43809",
   "metadata": {},
   "source": [
    "## Imports"
   ]
  },
  {
   "cell_type": "code",
   "execution_count": 2,
   "id": "b3654220",
   "metadata": {
    "ExecuteTime": {
     "end_time": "2025-05-17T01:09:43.977820Z",
     "start_time": "2025-05-17T01:09:43.946481Z"
    }
   },
   "outputs": [],
   "source": [
    "from neo4j_utils import connect_to_neo4j, insert_transaction\n",
    "from neo4j_utils import fetch_price_volume, insert_price_snapshots\n",
    "from py2neo import Node"
   ]
  },
  {
   "cell_type": "code",
   "execution_count": 3,
   "id": "0c1393f8",
   "metadata": {
    "ExecuteTime": {
     "end_time": "2025-05-17T01:09:45.628257Z",
     "start_time": "2025-05-17T01:09:45.617152Z"
    }
   },
   "outputs": [],
   "source": [
    "# Connect to Neo4j database\n",
    "graph = connect_to_neo4j()"
   ]
  },
  {
   "cell_type": "markdown",
   "id": "0ee1930a-1d3e-4052-b1fe-3b445edaef09",
   "metadata": {},
   "source": [
    "## Set Parameters for fetching Bitcoin data"
   ]
  },
  {
   "cell_type": "code",
   "execution_count": 4,
   "id": "d61b6786-610d-4e7c-a925-0b7464f10759",
   "metadata": {},
   "outputs": [],
   "source": [
    "# Parameters\n",
    "DAYS = 7\n",
    "NUM_WALLETS = 20"
   ]
  },
  {
   "cell_type": "markdown",
   "id": "ad6cb9dc-dea7-4c31-abd5-55b0de603da3",
   "metadata": {},
   "source": [
    "## Fetch the data and store in Neo4J Graph DB"
   ]
  },
  {
   "cell_type": "code",
   "execution_count": 5,
   "id": "22ac2180",
   "metadata": {
    "ExecuteTime": {
     "end_time": "2025-05-17T01:09:48.339128Z",
     "start_time": "2025-05-17T01:09:47.446874Z"
    }
   },
   "outputs": [],
   "source": [
    "txs, prices, volumes = fetch_price_volume(days=DAYS, num_wallets=NUM_WALLETS)\n",
    "\n",
    "for tx in txs:\n",
    "    insert_transaction(graph, *tx)"
   ]
  },
  {
   "cell_type": "code",
   "execution_count": 6,
   "id": "105cd93e-5c71-4fde-b9ea-9ceddf7989d5",
   "metadata": {},
   "outputs": [],
   "source": [
    "# Create the Coin node if it doesn't exist\n",
    "bitcoin = Node(\"Coin\", id=\"bitcoin\", name=\"Bitcoin\")\n",
    "graph.merge(bitcoin, \"Coin\", \"id\")"
   ]
  },
  {
   "cell_type": "code",
   "execution_count": 7,
   "id": "bcbe3867",
   "metadata": {},
   "outputs": [],
   "source": [
    "insert_price_snapshots(graph, \"bitcoin\", prices, volumes)"
   ]
  },
  {
   "cell_type": "code",
   "execution_count": null,
   "id": "1cc9a0b3-5532-4b5f-9f2b-47dfb1998e6b",
   "metadata": {},
   "outputs": [],
   "source": []
  }
 ],
 "metadata": {
  "kernelspec": {
   "display_name": "Python 3 (ipykernel)",
   "language": "python",
   "name": "python3"
  },
  "language_info": {
   "codemirror_mode": {
    "name": "ipython",
    "version": 3
   },
   "file_extension": ".py",
   "mimetype": "text/x-python",
   "name": "python",
   "nbconvert_exporter": "python",
   "pygments_lexer": "ipython3",
   "version": "3.10.17"
  },
  "toc": {
   "base_numbering": 1,
   "nav_menu": {},
   "number_sections": true,
   "sideBar": true,
   "skip_h1_title": false,
   "title_cell": "Table of Contents",
   "title_sidebar": "Contents",
   "toc_cell": false,
   "toc_position": {},
   "toc_section_display": true,
   "toc_window_display": false
  }
 },
 "nbformat": 4,
 "nbformat_minor": 5
}
