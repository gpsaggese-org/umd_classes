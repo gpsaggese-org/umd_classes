{
 "cells": [
  {
   "cell_type": "markdown",
   "id": "d0474b29",
   "metadata": {},
   "source": [
    "## Final Project for Data 605 - Big data systems\n",
    "- Name: Mohammed Ateeq Ur Rehman\n",
    "- UID: 120872334"
   ]
  },
  {
   "cell_type": "code",
   "execution_count": 2,
   "id": "d180e645",
   "metadata": {},
   "outputs": [
    {
     "name": "stdout",
     "output_type": "stream",
     "text": [
      "Requirement already satisfied: petastorm in /usr/local/lib/python3.8/dist-packages (0.12.1)\n",
      "Requirement already satisfied: pyarrow in /usr/local/lib/python3.8/dist-packages (0.17.1)\n",
      "Requirement already satisfied: pandas in /usr/local/lib/python3.8/dist-packages (2.0.3)\n",
      "Requirement already satisfied: matplotlib in /usr/local/lib/python3.8/dist-packages (3.7.5)\n",
      "Requirement already satisfied: torch in /usr/local/lib/python3.8/dist-packages (2.4.1)\n",
      "Requirement already satisfied: torchvision in /usr/local/lib/python3.8/dist-packages (0.19.1)\n",
      "Requirement already satisfied: tensorflow in /usr/local/lib/python3.8/dist-packages (2.12.0)\n",
      "Requirement already satisfied: dill>=0.2.1 in /usr/local/lib/python3.8/dist-packages (from petastorm) (0.4.0)\n",
      "Requirement already satisfied: diskcache>=3.0.0 in /usr/local/lib/python3.8/dist-packages (from petastorm) (5.6.3)\n",
      "Requirement already satisfied: future>=0.10.2 in /usr/local/lib/python3.8/dist-packages (from petastorm) (1.0.0)\n",
      "Requirement already satisfied: numpy>=1.13.3 in /usr/local/lib/python3.8/dist-packages (from petastorm) (1.23.5)\n",
      "Requirement already satisfied: packaging>=15.0 in /usr/local/lib/python3.8/dist-packages (from petastorm) (25.0)\n",
      "Requirement already satisfied: psutil>=4.0.0 in /usr/local/lib/python3.8/dist-packages (from petastorm) (7.0.0)\n",
      "Requirement already satisfied: pyspark>=2.1.0 in /usr/local/lib/python3.8/dist-packages (from petastorm) (3.5.5)\n",
      "Requirement already satisfied: pyzmq>=14.0.0 in /usr/local/lib/python3.8/dist-packages (from petastorm) (26.4.0)\n",
      "Requirement already satisfied: six>=1.5.0 in /usr/local/lib/python3.8/dist-packages (from petastorm) (1.17.0)\n",
      "Requirement already satisfied: fsspec in /usr/local/lib/python3.8/dist-packages (from petastorm) (2025.3.0)\n",
      "Requirement already satisfied: python-dateutil>=2.8.2 in /usr/local/lib/python3.8/dist-packages (from pandas) (2.9.0.post0)\n",
      "Requirement already satisfied: pytz>=2020.1 in /usr/local/lib/python3.8/dist-packages (from pandas) (2025.2)\n",
      "Requirement already satisfied: tzdata>=2022.1 in /usr/local/lib/python3.8/dist-packages (from pandas) (2025.2)\n",
      "Requirement already satisfied: contourpy>=1.0.1 in /usr/local/lib/python3.8/dist-packages (from matplotlib) (1.1.1)\n",
      "Requirement already satisfied: cycler>=0.10 in /usr/local/lib/python3.8/dist-packages (from matplotlib) (0.12.1)\n",
      "Requirement already satisfied: fonttools>=4.22.0 in /usr/local/lib/python3.8/dist-packages (from matplotlib) (4.57.0)\n",
      "Requirement already satisfied: kiwisolver>=1.0.1 in /usr/local/lib/python3.8/dist-packages (from matplotlib) (1.4.7)\n",
      "Requirement already satisfied: pillow>=6.2.0 in /usr/local/lib/python3.8/dist-packages (from matplotlib) (10.4.0)\n",
      "Requirement already satisfied: pyparsing>=2.3.1 in /usr/local/lib/python3.8/dist-packages (from matplotlib) (3.1.4)\n",
      "Requirement already satisfied: importlib-resources>=3.2.0 in /usr/local/lib/python3.8/dist-packages (from matplotlib) (6.4.5)\n",
      "Requirement already satisfied: filelock in /usr/local/lib/python3.8/dist-packages (from torch) (3.16.1)\n",
      "Requirement already satisfied: typing-extensions>=4.8.0 in /usr/local/lib/python3.8/dist-packages (from torch) (4.13.2)\n",
      "Requirement already satisfied: sympy in /usr/local/lib/python3.8/dist-packages (from torch) (1.13.3)\n",
      "Requirement already satisfied: networkx in /usr/local/lib/python3.8/dist-packages (from torch) (3.1)\n",
      "Requirement already satisfied: jinja2 in /usr/local/lib/python3.8/dist-packages (from torch) (3.1.6)\n",
      "Requirement already satisfied: nvidia-cuda-nvrtc-cu12==12.1.105 in /usr/local/lib/python3.8/dist-packages (from torch) (12.1.105)\n",
      "Requirement already satisfied: nvidia-cuda-runtime-cu12==12.1.105 in /usr/local/lib/python3.8/dist-packages (from torch) (12.1.105)\n",
      "Requirement already satisfied: nvidia-cuda-cupti-cu12==12.1.105 in /usr/local/lib/python3.8/dist-packages (from torch) (12.1.105)\n",
      "Requirement already satisfied: nvidia-cudnn-cu12==9.1.0.70 in /usr/local/lib/python3.8/dist-packages (from torch) (9.1.0.70)\n",
      "Requirement already satisfied: nvidia-cublas-cu12==12.1.3.1 in /usr/local/lib/python3.8/dist-packages (from torch) (12.1.3.1)\n",
      "Requirement already satisfied: nvidia-cufft-cu12==11.0.2.54 in /usr/local/lib/python3.8/dist-packages (from torch) (11.0.2.54)\n",
      "Requirement already satisfied: nvidia-curand-cu12==10.3.2.106 in /usr/local/lib/python3.8/dist-packages (from torch) (10.3.2.106)\n",
      "Requirement already satisfied: nvidia-cusolver-cu12==11.4.5.107 in /usr/local/lib/python3.8/dist-packages (from torch) (11.4.5.107)\n",
      "Requirement already satisfied: nvidia-cusparse-cu12==12.1.0.106 in /usr/local/lib/python3.8/dist-packages (from torch) (12.1.0.106)\n",
      "Requirement already satisfied: nvidia-nccl-cu12==2.20.5 in /usr/local/lib/python3.8/dist-packages (from torch) (2.20.5)\n",
      "Requirement already satisfied: nvidia-nvtx-cu12==12.1.105 in /usr/local/lib/python3.8/dist-packages (from torch) (12.1.105)\n",
      "Requirement already satisfied: triton==3.0.0 in /usr/local/lib/python3.8/dist-packages (from torch) (3.0.0)\n",
      "Requirement already satisfied: nvidia-nvjitlink-cu12 in /usr/local/lib/python3.8/dist-packages (from nvidia-cusolver-cu12==11.4.5.107->torch) (12.9.41)\n",
      "Requirement already satisfied: absl-py>=1.0.0 in /usr/local/lib/python3.8/dist-packages (from tensorflow) (2.2.2)\n",
      "Requirement already satisfied: astunparse>=1.6.0 in /usr/local/lib/python3.8/dist-packages (from tensorflow) (1.6.3)\n",
      "Requirement already satisfied: flatbuffers>=2.0 in /usr/local/lib/python3.8/dist-packages (from tensorflow) (25.2.10)\n",
      "Requirement already satisfied: gast<=0.4.0,>=0.2.1 in /usr/local/lib/python3.8/dist-packages (from tensorflow) (0.4.0)\n",
      "Requirement already satisfied: google-pasta>=0.1.1 in /usr/local/lib/python3.8/dist-packages (from tensorflow) (0.2.0)\n",
      "Requirement already satisfied: grpcio<2.0,>=1.24.3 in /usr/local/lib/python3.8/dist-packages (from tensorflow) (1.70.0)\n",
      "Requirement already satisfied: h5py>=2.9.0 in /usr/local/lib/python3.8/dist-packages (from tensorflow) (3.11.0)\n",
      "Requirement already satisfied: jax>=0.3.15 in /usr/local/lib/python3.8/dist-packages (from tensorflow) (0.4.13)\n",
      "Requirement already satisfied: keras<2.13,>=2.12.0 in /usr/local/lib/python3.8/dist-packages (from tensorflow) (2.12.0)\n",
      "Requirement already satisfied: libclang>=13.0.0 in /usr/local/lib/python3.8/dist-packages (from tensorflow) (18.1.1)\n",
      "Requirement already satisfied: opt-einsum>=2.3.2 in /usr/local/lib/python3.8/dist-packages (from tensorflow) (3.4.0)\n",
      "Requirement already satisfied: protobuf!=4.21.0,!=4.21.1,!=4.21.2,!=4.21.3,!=4.21.4,!=4.21.5,<5.0.0dev,>=3.20.3 in /usr/local/lib/python3.8/dist-packages (from tensorflow) (4.25.7)\n",
      "Requirement already satisfied: setuptools in /usr/lib/python3/dist-packages (from tensorflow) (45.2.0)\n",
      "Requirement already satisfied: tensorboard<2.13,>=2.12 in /usr/local/lib/python3.8/dist-packages (from tensorflow) (2.12.3)\n",
      "Requirement already satisfied: tensorflow-estimator<2.13,>=2.12.0 in /usr/local/lib/python3.8/dist-packages (from tensorflow) (2.12.0)\n",
      "Requirement already satisfied: termcolor>=1.1.0 in /usr/local/lib/python3.8/dist-packages (from tensorflow) (2.4.0)\n",
      "Requirement already satisfied: wrapt<1.15,>=1.11.0 in /usr/local/lib/python3.8/dist-packages (from tensorflow) (1.14.1)\n",
      "Requirement already satisfied: tensorflow-io-gcs-filesystem>=0.23.1 in /usr/local/lib/python3.8/dist-packages (from tensorflow) (0.34.0)\n",
      "Requirement already satisfied: wheel<1.0,>=0.23.0 in /usr/lib/python3/dist-packages (from astunparse>=1.6.0->tensorflow) (0.34.2)\n",
      "Requirement already satisfied: zipp>=3.1.0 in /usr/local/lib/python3.8/dist-packages (from importlib-resources>=3.2.0->matplotlib) (3.20.2)\n",
      "Requirement already satisfied: ml-dtypes>=0.1.0 in /usr/local/lib/python3.8/dist-packages (from jax>=0.3.15->tensorflow) (0.2.0)\n",
      "Requirement already satisfied: scipy>=1.7 in /usr/local/lib/python3.8/dist-packages (from jax>=0.3.15->tensorflow) (1.10.1)\n",
      "Requirement already satisfied: importlib-metadata>=4.6 in /usr/local/lib/python3.8/dist-packages (from jax>=0.3.15->tensorflow) (8.5.0)\n",
      "Requirement already satisfied: py4j==0.10.9.7 in /usr/local/lib/python3.8/dist-packages (from pyspark>=2.1.0->petastorm) (0.10.9.7)\n",
      "Requirement already satisfied: google-auth<3,>=1.6.3 in /usr/local/lib/python3.8/dist-packages (from tensorboard<2.13,>=2.12->tensorflow) (2.40.1)\n",
      "Requirement already satisfied: google-auth-oauthlib<1.1,>=0.5 in /usr/local/lib/python3.8/dist-packages (from tensorboard<2.13,>=2.12->tensorflow) (1.0.0)\n",
      "Requirement already satisfied: markdown>=2.6.8 in /usr/local/lib/python3.8/dist-packages (from tensorboard<2.13,>=2.12->tensorflow) (3.7)\n",
      "Requirement already satisfied: requests<3,>=2.21.0 in /usr/local/lib/python3.8/dist-packages (from tensorboard<2.13,>=2.12->tensorflow) (2.32.3)\n",
      "Requirement already satisfied: tensorboard-data-server<0.8.0,>=0.7.0 in /usr/local/lib/python3.8/dist-packages (from tensorboard<2.13,>=2.12->tensorflow) (0.7.2)\n",
      "Requirement already satisfied: werkzeug>=1.0.1 in /usr/local/lib/python3.8/dist-packages (from tensorboard<2.13,>=2.12->tensorflow) (3.0.6)\n",
      "Requirement already satisfied: MarkupSafe>=2.0 in /usr/local/lib/python3.8/dist-packages (from jinja2->torch) (2.1.5)\n",
      "Requirement already satisfied: mpmath<1.4,>=1.1.0 in /usr/local/lib/python3.8/dist-packages (from sympy->torch) (1.3.0)\n",
      "Requirement already satisfied: cachetools<6.0,>=2.0.0 in /usr/local/lib/python3.8/dist-packages (from google-auth<3,>=1.6.3->tensorboard<2.13,>=2.12->tensorflow) (5.5.2)\n",
      "Requirement already satisfied: pyasn1-modules>=0.2.1 in /usr/local/lib/python3.8/dist-packages (from google-auth<3,>=1.6.3->tensorboard<2.13,>=2.12->tensorflow) (0.4.2)\n",
      "Requirement already satisfied: rsa<5,>=3.1.4 in /usr/local/lib/python3.8/dist-packages (from google-auth<3,>=1.6.3->tensorboard<2.13,>=2.12->tensorflow) (4.9.1)\n",
      "Requirement already satisfied: requests-oauthlib>=0.7.0 in /usr/local/lib/python3.8/dist-packages (from google-auth-oauthlib<1.1,>=0.5->tensorboard<2.13,>=2.12->tensorflow) (2.0.0)\n",
      "Requirement already satisfied: charset-normalizer<4,>=2 in /usr/local/lib/python3.8/dist-packages (from requests<3,>=2.21.0->tensorboard<2.13,>=2.12->tensorflow) (3.4.2)\n",
      "Requirement already satisfied: idna<4,>=2.5 in /usr/local/lib/python3.8/dist-packages (from requests<3,>=2.21.0->tensorboard<2.13,>=2.12->tensorflow) (3.10)\n",
      "Requirement already satisfied: urllib3<3,>=1.21.1 in /usr/local/lib/python3.8/dist-packages (from requests<3,>=2.21.0->tensorboard<2.13,>=2.12->tensorflow) (2.2.3)\n",
      "Requirement already satisfied: certifi>=2017.4.17 in /usr/local/lib/python3.8/dist-packages (from requests<3,>=2.21.0->tensorboard<2.13,>=2.12->tensorflow) (2025.4.26)\n",
      "Requirement already satisfied: pyasn1<0.7.0,>=0.6.1 in /usr/local/lib/python3.8/dist-packages (from pyasn1-modules>=0.2.1->google-auth<3,>=1.6.3->tensorboard<2.13,>=2.12->tensorflow) (0.6.1)\n",
      "Requirement already satisfied: oauthlib>=3.0.0 in /usr/local/lib/python3.8/dist-packages (from requests-oauthlib>=0.7.0->google-auth-oauthlib<1.1,>=0.5->tensorboard<2.13,>=2.12->tensorflow) (3.2.2)\n",
      "\u001b[33mWARNING: Running pip as the 'root' user can result in broken permissions and conflicting behaviour with the system package manager, possibly rendering your system unusable. It is recommended to use a virtual environment instead: https://pip.pypa.io/warnings/venv. Use the --root-user-action option if you know what you are doing and want to suppress this warning.\u001b[0m\u001b[33m\n",
      "\u001b[0mNote: you may need to restart the kernel to use updated packages.\n"
     ]
    }
   ],
   "source": [
    "# Run this if libraires are not already installed\n",
    "%pip install petastorm pyarrow pandas matplotlib torch torchvision tensorflow"
   ]
  },
  {
   "cell_type": "code",
   "execution_count": 3,
   "id": "1dd1dca2",
   "metadata": {},
   "outputs": [],
   "source": [
    "import time\n",
    "import pandas as pd\n",
    "import pyarrow.parquet as pq\n",
    "import os\n",
    "from pyarrow import fs\n",
    "import petastorm_bitcoin_processing_utils as utils"
   ]
  },
  {
   "cell_type": "markdown",
   "id": "049bd7cd",
   "metadata": {},
   "source": [
    "##  Part 1: Data Ingestion\n",
    "\n",
    "### Task: Get the data using coingecko API"
   ]
  },
  {
   "cell_type": "code",
   "execution_count": 4,
   "id": "6f1447d0",
   "metadata": {},
   "outputs": [],
   "source": [
    "output_dir = 'test_bitcoin_data'\n",
    "os.makedirs(output_dir, exist_ok=True)\n",
    "\n",
    "base_url = \"https://api.coingecko.com/api/v3\"\n",
    "historical_data = []"
   ]
  },
  {
   "cell_type": "code",
   "execution_count": 5,
   "id": "a571894b",
   "metadata": {},
   "outputs": [
    {
     "name": "stdout",
     "output_type": "stream",
     "text": [
      "Collected data at 2025-05-18T19:07:40.643565\n",
      "Collected data at 2025-05-18T19:08:09.099452\n",
      "Collected data at 2025-05-18T19:08:37.488312\n",
      "Collected data at 2025-05-18T19:09:05.949489\n",
      "Collected data at 2025-05-18T19:09:34.336577\n",
      "Data collection complete.\n"
     ]
    }
   ],
   "source": [
    "# Parameters\n",
    "interval_sec = 30  # every 30 seconds\n",
    "duration_min = 2   # run for 2 minutes\n",
    "save_interval = 2  # save every 2 fetches\n",
    "\n",
    "end_time = time.time() + duration_min * 60\n",
    "fetch_count = 0\n",
    "historical_data = []\n",
    "\n",
    "output_file = os.path.join(output_dir, \"bitcoin_price_data.csv\")\n",
    "\n",
    "while time.time() < end_time:\n",
    "    try:\n",
    "        price_data = utils.fetch_current_price(base_url)\n",
    "        historical_data.append(price_data)\n",
    "        fetch_count += 1\n",
    "        print(f\"Collected data at {price_data['timestamp']}\")\n",
    "\n",
    "        # Save to file every `save_interval` fetches\n",
    "        if fetch_count % save_interval == 0:\n",
    "            new_df = pd.DataFrame(historical_data)\n",
    "            historical_data = []  # clear buffer after saving\n",
    "\n",
    "            # Append to existing file or create new one\n",
    "            if os.path.exists(output_file):\n",
    "                new_df.to_csv(output_file, mode='a', header=False, index=False)\n",
    "            else:\n",
    "                new_df.to_csv(output_file, mode='w', header=True, index=False)\n",
    "\n",
    "    except Exception as e:\n",
    "        print(f\"Error fetching data: {e}\")\n",
    "        break  # Use break instead of exit in notebooks/scripts\n",
    "\n",
    "    time.sleep(interval_sec)\n",
    "print(\"Data collection complete.\")"
   ]
  },
  {
   "cell_type": "markdown",
   "id": "5cedd7a6",
   "metadata": {},
   "source": [
    "## Part2: Batch Data Storage (Parquet Format)\n",
    "\n",
    "### Task: Convert the CSV to parquet using PETASTROM"
   ]
  },
  {
   "cell_type": "code",
   "execution_count": 6,
   "id": "6fa92182",
   "metadata": {},
   "outputs": [
    {
     "name": "stdout",
     "output_type": "stream",
     "text": [
      "Combined 3 CSV files.\n",
      "Loaded 386 rows from CSV files.\n",
      "======== Parquet file written to \n",
      " /data/test_bitcoin_data/parquet ==========\n",
      "Loading data from file:///data/test_bitcoin_data\\parquet...\n"
     ]
    },
    {
     "ename": "OSError",
     "evalue": "Passed non-file path: /data/test_bitcoin_data\\parquet",
     "output_type": "error",
     "traceback": [
      "\u001b[0;31m---------------------------------------------------------------------------\u001b[0m",
      "\u001b[0;31mOSError\u001b[0m                                   Traceback (most recent call last)",
      "Cell \u001b[0;32mIn[6], line 11\u001b[0m\n\u001b[1;32m      8\u001b[0m utils\u001b[38;5;241m.\u001b[39msave_to_parquet_arrow(df, parquet_path)\n\u001b[1;32m     10\u001b[0m \u001b[38;5;66;03m# 3. Load from Parquet and preview\u001b[39;00m\n\u001b[0;32m---> 11\u001b[0m batches \u001b[38;5;241m=\u001b[39m \u001b[38;5;28;43mlist\u001b[39;49m\u001b[43m(\u001b[49m\u001b[43mutils\u001b[49m\u001b[38;5;241;43m.\u001b[39;49m\u001b[43mload_from_parquet\u001b[49m\u001b[43m(\u001b[49m\u001b[43minput_dir\u001b[49m\u001b[38;5;241;43m=\u001b[39;49m\u001b[38;5;124;43m'\u001b[39;49m\u001b[38;5;124;43mtest_bitcoin_data\u001b[39;49m\u001b[38;5;130;43;01m\\\\\u001b[39;49;00m\u001b[38;5;124;43mparquet\u001b[39;49m\u001b[38;5;124;43m'\u001b[39;49m\u001b[43m)\u001b[49m\u001b[43m)\u001b[49m\n",
      "File \u001b[0;32m/data/petastorm_bitcoin_processing_utils.py:160\u001b[0m, in \u001b[0;36mload_from_parquet\u001b[0;34m(input_dir)\u001b[0m\n\u001b[1;32m    157\u001b[0m \u001b[38;5;28mprint\u001b[39m(\u001b[38;5;124mf\u001b[39m\u001b[38;5;124m\"\u001b[39m\u001b[38;5;124mLoading data from \u001b[39m\u001b[38;5;132;01m{\u001b[39;00murl_path\u001b[38;5;132;01m}\u001b[39;00m\u001b[38;5;124m...\u001b[39m\u001b[38;5;124m\"\u001b[39m)\n\u001b[1;32m    159\u001b[0m \u001b[38;5;66;03m# Read data\u001b[39;00m\n\u001b[0;32m--> 160\u001b[0m \u001b[38;5;28;01mwith\u001b[39;00m \u001b[43mmake_batch_reader\u001b[49m\u001b[43m(\u001b[49m\u001b[43murl_path\u001b[49m\u001b[43m)\u001b[49m \u001b[38;5;28;01mas\u001b[39;00m reader:\n\u001b[1;32m    161\u001b[0m     \u001b[38;5;28;01mfor\u001b[39;00m batch \u001b[38;5;129;01min\u001b[39;00m reader:\n\u001b[1;32m    162\u001b[0m         \u001b[38;5;28;01myield\u001b[39;00m batch\n",
      "File \u001b[0;32m/usr/local/lib/python3.8/dist-packages/petastorm/reader.py:300\u001b[0m, in \u001b[0;36mmake_batch_reader\u001b[0;34m(dataset_url_or_urls, schema_fields, reader_pool_type, workers_count, results_queue_size, seed, shuffle_rows, shuffle_row_groups, shuffle_row_drop_partitions, predicate, rowgroup_selector, num_epochs, cur_shard, shard_count, shard_seed, cache_type, cache_location, cache_size_limit, cache_row_size_estimate, cache_extra_settings, hdfs_driver, transform_spec, filters, storage_options, zmq_copy_buffers, filesystem)\u001b[0m\n\u001b[1;32m    292\u001b[0m filesystem, dataset_path_or_paths \u001b[38;5;241m=\u001b[39m get_filesystem_and_path_or_paths(\n\u001b[1;32m    293\u001b[0m     dataset_url_or_urls,\n\u001b[1;32m    294\u001b[0m     hdfs_driver,\n\u001b[1;32m    295\u001b[0m     storage_options\u001b[38;5;241m=\u001b[39mstorage_options,\n\u001b[1;32m    296\u001b[0m     filesystem\u001b[38;5;241m=\u001b[39mfilesystem\n\u001b[1;32m    297\u001b[0m )\n\u001b[1;32m    299\u001b[0m \u001b[38;5;28;01mtry\u001b[39;00m:\n\u001b[0;32m--> 300\u001b[0m     \u001b[43mdataset_metadata\u001b[49m\u001b[38;5;241;43m.\u001b[39;49m\u001b[43mget_schema_from_dataset_url\u001b[49m\u001b[43m(\u001b[49m\u001b[43mdataset_url_or_urls\u001b[49m\u001b[43m,\u001b[49m\u001b[43m \u001b[49m\u001b[43mhdfs_driver\u001b[49m\u001b[38;5;241;43m=\u001b[39;49m\u001b[43mhdfs_driver\u001b[49m\u001b[43m,\u001b[49m\n\u001b[1;32m    301\u001b[0m \u001b[43m                                                 \u001b[49m\u001b[43mstorage_options\u001b[49m\u001b[38;5;241;43m=\u001b[39;49m\u001b[43mstorage_options\u001b[49m\u001b[43m,\u001b[49m\u001b[43m \u001b[49m\u001b[43mfilesystem\u001b[49m\u001b[38;5;241;43m=\u001b[39;49m\u001b[43mfilesystem\u001b[49m\u001b[43m)\u001b[49m\n\u001b[1;32m    302\u001b[0m     warnings\u001b[38;5;241m.\u001b[39mwarn(\u001b[38;5;124m'\u001b[39m\u001b[38;5;124mPlease use make_reader (instead of \u001b[39m\u001b[38;5;130;01m\\'\u001b[39;00m\u001b[38;5;124mmake_batch_dataset\u001b[39m\u001b[38;5;130;01m\\'\u001b[39;00m\u001b[38;5;124m function to read this dataset. \u001b[39m\u001b[38;5;124m'\u001b[39m\n\u001b[1;32m    303\u001b[0m                   \u001b[38;5;124m'\u001b[39m\u001b[38;5;124mYou may get unexpected results. \u001b[39m\u001b[38;5;124m'\u001b[39m\n\u001b[1;32m    304\u001b[0m                   \u001b[38;5;124m'\u001b[39m\u001b[38;5;124mCurrently make_batch_reader supports reading only Parquet stores that contain \u001b[39m\u001b[38;5;124m'\u001b[39m\n\u001b[1;32m    305\u001b[0m                   \u001b[38;5;124m'\u001b[39m\u001b[38;5;124mstandard Parquet data types and do not require petastorm decoding.\u001b[39m\u001b[38;5;124m'\u001b[39m)\n\u001b[1;32m    306\u001b[0m \u001b[38;5;28;01mexcept\u001b[39;00m PetastormMetadataError:\n",
      "File \u001b[0;32m/usr/local/lib/python3.8/dist-packages/petastorm/etl/dataset_metadata.py:402\u001b[0m, in \u001b[0;36mget_schema_from_dataset_url\u001b[0;34m(dataset_url_or_urls, hdfs_driver, storage_options, filesystem)\u001b[0m\n\u001b[1;32m    389\u001b[0m \u001b[38;5;250m\u001b[39m\u001b[38;5;124;03m\"\"\"Returns a :class:`petastorm.unischema.Unischema` object loaded from a dataset specified by a url.\u001b[39;00m\n\u001b[1;32m    390\u001b[0m \n\u001b[1;32m    391\u001b[0m \u001b[38;5;124;03m:param dataset_url_or_urls: a url to a parquet directory or a url list (with the same scheme) to parquet files.\u001b[39;00m\n\u001b[0;32m   (...)\u001b[0m\n\u001b[1;32m    396\u001b[0m \u001b[38;5;124;03m:return: A :class:`petastorm.unischema.Unischema` object\u001b[39;00m\n\u001b[1;32m    397\u001b[0m \u001b[38;5;124;03m\"\"\"\u001b[39;00m\n\u001b[1;32m    398\u001b[0m fs, path_or_paths \u001b[38;5;241m=\u001b[39m get_filesystem_and_path_or_paths(dataset_url_or_urls, hdfs_driver,\n\u001b[1;32m    399\u001b[0m                                                      storage_options\u001b[38;5;241m=\u001b[39mstorage_options,\n\u001b[1;32m    400\u001b[0m                                                      filesystem\u001b[38;5;241m=\u001b[39mfilesystem)\n\u001b[0;32m--> 402\u001b[0m dataset \u001b[38;5;241m=\u001b[39m \u001b[43mpq\u001b[49m\u001b[38;5;241;43m.\u001b[39;49m\u001b[43mParquetDataset\u001b[49m\u001b[43m(\u001b[49m\u001b[43mpath_or_paths\u001b[49m\u001b[43m,\u001b[49m\u001b[43m \u001b[49m\u001b[43mfilesystem\u001b[49m\u001b[38;5;241;43m=\u001b[39;49m\u001b[43mfs\u001b[49m\u001b[43m,\u001b[49m\u001b[43m \u001b[49m\u001b[43mvalidate_schema\u001b[49m\u001b[38;5;241;43m=\u001b[39;49m\u001b[38;5;28;43;01mFalse\u001b[39;49;00m\u001b[43m,\u001b[49m\u001b[43m \u001b[49m\u001b[43mmetadata_nthreads\u001b[49m\u001b[38;5;241;43m=\u001b[39;49m\u001b[38;5;241;43m10\u001b[39;49m\u001b[43m)\u001b[49m\n\u001b[1;32m    404\u001b[0m \u001b[38;5;66;03m# Get a unischema stored in the dataset metadata.\u001b[39;00m\n\u001b[1;32m    405\u001b[0m stored_schema \u001b[38;5;241m=\u001b[39m get_schema(dataset)\n",
      "File \u001b[0;32m/usr/local/lib/python3.8/dist-packages/pyarrow/parquet.py:1171\u001b[0m, in \u001b[0;36mParquetDataset.__init__\u001b[0;34m(self, path_or_paths, filesystem, schema, metadata, split_row_groups, validate_schema, filters, metadata_nthreads, read_dictionary, memory_map, buffer_size, partitioning, use_legacy_dataset)\u001b[0m\n\u001b[1;32m   1165\u001b[0m \u001b[38;5;28mself\u001b[39m\u001b[38;5;241m.\u001b[39m_metadata\u001b[38;5;241m.\u001b[39mmemory_map \u001b[38;5;241m=\u001b[39m memory_map\n\u001b[1;32m   1166\u001b[0m \u001b[38;5;28mself\u001b[39m\u001b[38;5;241m.\u001b[39m_metadata\u001b[38;5;241m.\u001b[39mbuffer_size \u001b[38;5;241m=\u001b[39m buffer_size\n\u001b[1;32m   1168\u001b[0m (\u001b[38;5;28mself\u001b[39m\u001b[38;5;241m.\u001b[39mpieces,\n\u001b[1;32m   1169\u001b[0m  \u001b[38;5;28mself\u001b[39m\u001b[38;5;241m.\u001b[39mpartitions,\n\u001b[1;32m   1170\u001b[0m  \u001b[38;5;28mself\u001b[39m\u001b[38;5;241m.\u001b[39mcommon_metadata_path,\n\u001b[0;32m-> 1171\u001b[0m  \u001b[38;5;28mself\u001b[39m\u001b[38;5;241m.\u001b[39mmetadata_path) \u001b[38;5;241m=\u001b[39m \u001b[43m_make_manifest\u001b[49m\u001b[43m(\u001b[49m\n\u001b[1;32m   1172\u001b[0m \u001b[43m     \u001b[49m\u001b[43mpath_or_paths\u001b[49m\u001b[43m,\u001b[49m\u001b[43m \u001b[49m\u001b[38;5;28;43mself\u001b[39;49m\u001b[38;5;241;43m.\u001b[39;49m\u001b[43mfs\u001b[49m\u001b[43m,\u001b[49m\u001b[43m \u001b[49m\u001b[43mmetadata_nthreads\u001b[49m\u001b[38;5;241;43m=\u001b[39;49m\u001b[43mmetadata_nthreads\u001b[49m\u001b[43m,\u001b[49m\n\u001b[1;32m   1173\u001b[0m \u001b[43m     \u001b[49m\u001b[43mopen_file_func\u001b[49m\u001b[38;5;241;43m=\u001b[39;49m\u001b[43mpartial\u001b[49m\u001b[43m(\u001b[49m\u001b[43m_open_dataset_file\u001b[49m\u001b[43m,\u001b[49m\u001b[43m \u001b[49m\u001b[38;5;28;43mself\u001b[39;49m\u001b[38;5;241;43m.\u001b[39;49m\u001b[43m_metadata\u001b[49m\u001b[43m)\u001b[49m\n\u001b[1;32m   1174\u001b[0m \u001b[43m\u001b[49m\u001b[43m)\u001b[49m\n\u001b[1;32m   1176\u001b[0m \u001b[38;5;28;01mif\u001b[39;00m \u001b[38;5;28mself\u001b[39m\u001b[38;5;241m.\u001b[39mcommon_metadata_path \u001b[38;5;129;01mis\u001b[39;00m \u001b[38;5;129;01mnot\u001b[39;00m \u001b[38;5;28;01mNone\u001b[39;00m:\n\u001b[1;32m   1177\u001b[0m     \u001b[38;5;28;01mwith\u001b[39;00m \u001b[38;5;28mself\u001b[39m\u001b[38;5;241m.\u001b[39mfs\u001b[38;5;241m.\u001b[39mopen(\u001b[38;5;28mself\u001b[39m\u001b[38;5;241m.\u001b[39mcommon_metadata_path) \u001b[38;5;28;01mas\u001b[39;00m f:\n",
      "File \u001b[0;32m/usr/local/lib/python3.8/dist-packages/pyarrow/parquet.py:1367\u001b[0m, in \u001b[0;36m_make_manifest\u001b[0;34m(path_or_paths, fs, pathsep, metadata_nthreads, open_file_func)\u001b[0m\n\u001b[1;32m   1365\u001b[0m \u001b[38;5;28;01mfor\u001b[39;00m path \u001b[38;5;129;01min\u001b[39;00m path_or_paths:\n\u001b[1;32m   1366\u001b[0m     \u001b[38;5;28;01mif\u001b[39;00m \u001b[38;5;129;01mnot\u001b[39;00m fs\u001b[38;5;241m.\u001b[39misfile(path):\n\u001b[0;32m-> 1367\u001b[0m         \u001b[38;5;28;01mraise\u001b[39;00m \u001b[38;5;167;01mOSError\u001b[39;00m(\u001b[38;5;124m'\u001b[39m\u001b[38;5;124mPassed non-file path: \u001b[39m\u001b[38;5;132;01m{}\u001b[39;00m\u001b[38;5;124m'\u001b[39m\n\u001b[1;32m   1368\u001b[0m                       \u001b[38;5;241m.\u001b[39mformat(path))\n\u001b[1;32m   1369\u001b[0m     piece \u001b[38;5;241m=\u001b[39m ParquetDatasetPiece(path, open_file_func\u001b[38;5;241m=\u001b[39mopen_file_func)\n\u001b[1;32m   1370\u001b[0m     pieces\u001b[38;5;241m.\u001b[39mappend(piece)\n",
      "\u001b[0;31mOSError\u001b[0m: Passed non-file path: /data/test_bitcoin_data\\parquet"
     ]
    }
   ],
   "source": [
    "# 1. Load all price CSVs\n",
    "csv_folder = r\"test_bitcoin_data\"\n",
    "df = utils.load_all_csvs_from_folder(csv_folder)\n",
    "print(f\"Loaded {len(df)} rows from CSV files.\")\n",
    "\n",
    "# 2. Save to Parquet\n",
    "parquet_path = \"file:///test_bitcoin_data/parquet\"\n",
    "utils.save_to_parquet_arrow(df, parquet_path)\n",
    "\n",
    "# 3. Load from Parquet and preview\n",
    "batches = list(utils.load_from_parquet(input_dir='test_bitcoin_data\\\\parquet'))"
   ]
  },
  {
   "cell_type": "markdown",
   "id": "b5205b80",
   "metadata": {},
   "source": [
    "Columns of the parquet file"
   ]
  },
  {
   "cell_type": "code",
   "execution_count": null,
   "id": "19cbac1d",
   "metadata": {},
   "outputs": [],
   "source": [
    "parquet_path = \"test_bitcoin_data/parquet/data.parquet\"\n",
    "table = pq.read_table(parquet_path)\n",
    "schema_columns = table.column_names\n",
    "print(\"Columns:\", table.column_names)"
   ]
  },
  {
   "cell_type": "markdown",
   "id": "e557e74f",
   "metadata": {},
   "source": [
    "Sample batch data from parquet file"
   ]
  },
  {
   "cell_type": "code",
   "execution_count": null,
   "id": "6bd5cfd6",
   "metadata": {},
   "outputs": [],
   "source": [
    "for batch in batches[:1]:\n",
    "    df = pd.DataFrame(batch)\n",
    "    print(\"Batch shape:\", df.shape)\n",
    "    print(df.head())"
   ]
  }
 ],
 "metadata": {
  "kernelspec": {
   "display_name": "Python 3 (ipykernel)",
   "language": "python",
   "name": "python3"
  },
  "language_info": {
   "codemirror_mode": {
    "name": "ipython",
    "version": 3
   },
   "file_extension": ".py",
   "mimetype": "text/x-python",
   "name": "python",
   "nbconvert_exporter": "python",
   "pygments_lexer": "ipython3",
   "version": "3.8.10"
  }
 },
 "nbformat": 4,
 "nbformat_minor": 5
}
