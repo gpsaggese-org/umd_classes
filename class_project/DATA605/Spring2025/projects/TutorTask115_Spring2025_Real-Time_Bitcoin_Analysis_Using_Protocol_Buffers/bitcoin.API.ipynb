{
 "cells": [
  {
   "cell_type": "markdown",
   "id": "006c625b",
   "metadata": {},
   "source": [
    "# 🔌 bitcoin.API.ipynb\n",
    "This notebook demonstrates how to:\n",
    "- Fetch live Bitcoin data from the [CoinGecko API](https://www.coingecko.com/en/api)\n",
    "- Format it to match the Protobuf schema (`bitcoin_full.proto`)\n",
    "- Serialize it using `bitcoin_full_pb2.py`\n",
    "- Save to disk and read it back"
   ]
  },
  {
   "cell_type": "code",
   "execution_count": 1,
   "id": "9d651f1e",
   "metadata": {},
   "outputs": [],
   "source": [
    "import sys, os\n",
    "sys.path.append(os.path.join(os.getcwd(), 'src'))\n",
    "\n",
    "import requests\n",
    "import time\n",
    "from bitcoin_full_pb2 import BitcoinFullData"
   ]
  },
  {
   "cell_type": "markdown",
   "id": "6a59c1a5",
   "metadata": {},
   "source": [
    "## 📡 Step 1: Fetch Bitcoin Data from CoinGecko"
   ]
  },
  {
   "cell_type": "code",
   "execution_count": 2,
   "id": "11f08c62",
   "metadata": {},
   "outputs": [
    {
     "data": {
      "text/plain": [
       "{'id': 'bitcoin',\n",
       " 'symbol': 'btc',\n",
       " 'name': 'Bitcoin',\n",
       " 'image': 'https://coin-images.coingecko.com/coins/images/1/large/bitcoin.png?1696501400',\n",
       " 'current_price': 103740,\n",
       " 'market_cap': 2060807468936,\n",
       " 'market_cap_rank': 1,\n",
       " 'fully_diluted_valuation': 2060807468936,\n",
       " 'total_volume': 49978884695,\n",
       " 'high_24h': 103890,\n",
       " 'low_24h': 99239,\n",
       " 'price_change_24h': 4317.98,\n",
       " 'price_change_percentage_24h': 4.3431,\n",
       " 'market_cap_change_24h': 88124332562,\n",
       " 'market_cap_change_percentage_24h': 4.46723,\n",
       " 'circulating_supply': 19862190.0,\n",
       " 'total_supply': 19862190.0,\n",
       " 'max_supply': 21000000.0,\n",
       " 'ath': 108786,\n",
       " 'ath_change_percentage': -4.62573,\n",
       " 'ath_date': '2025-01-20T09:11:54.494Z',\n",
       " 'atl': 67.81,\n",
       " 'atl_change_percentage': 152908.30405,\n",
       " 'atl_date': '2013-07-06T00:00:00.000Z',\n",
       " 'roi': None,\n",
       " 'last_updated': '2025-05-09T08:06:18.151Z'}"
      ]
     },
     "execution_count": 2,
     "metadata": {},
     "output_type": "execute_result"
    }
   ],
   "source": [
    "url = \"https://api.coingecko.com/api/v3/coins/markets\"\n",
    "params = {\"vs_currency\": \"usd\", \"ids\": \"bitcoin\"}\n",
    "response = requests.get(url, params=params)\n",
    "btc = response.json()[0]  # Extract first (and only) item\n",
    "btc"
   ]
  },
  {
   "cell_type": "markdown",
   "id": "e0067124",
   "metadata": {},
   "source": [
    "## 🛠 Step 2: Format Data for Protobuf"
   ]
  },
  {
   "cell_type": "code",
   "execution_count": 3,
   "id": "b0c26ea4",
   "metadata": {},
   "outputs": [
    {
     "data": {
      "text/plain": [
       "{'timestamp': 1746778048,\n",
       " 'id': 'bitcoin',\n",
       " 'symbol': 'btc',\n",
       " 'name': 'Bitcoin',\n",
       " 'image': 'https://coin-images.coingecko.com/coins/images/1/large/bitcoin.png?1696501400',\n",
       " 'current_price': 103740,\n",
       " 'market_cap': 2060807468936,\n",
       " 'market_cap_rank': 1,\n",
       " 'fully_diluted_valuation': 2060807468936,\n",
       " 'total_volume': 49978884695,\n",
       " 'high_24h': 103890,\n",
       " 'low_24h': 99239,\n",
       " 'price_change_24h': 4317.98,\n",
       " 'price_change_percentage_24h': 4.3431,\n",
       " 'market_cap_change_24h': 88124332562,\n",
       " 'market_cap_change_percentage_24h': 4.46723,\n",
       " 'circulating_supply': 19862190.0,\n",
       " 'total_supply': 19862190.0,\n",
       " 'max_supply': 21000000.0,\n",
       " 'ath': 108786,\n",
       " 'ath_change_percentage': -4.62573,\n",
       " 'ath_date': '2025-01-20T09:11:54.494Z',\n",
       " 'atl': 67.81,\n",
       " 'atl_change_percentage': 152908.30405,\n",
       " 'atl_date': '2013-07-06T00:00:00.000Z',\n",
       " 'last_updated': '2025-05-09T08:06:18.151Z',\n",
       " 'source': 'CoinGecko'}"
      ]
     },
     "execution_count": 3,
     "metadata": {},
     "output_type": "execute_result"
    }
   ],
   "source": [
    "btc_dict = {\n",
    "    \"timestamp\": int(time.time()),\n",
    "    \"id\": btc[\"id\"],\n",
    "    \"symbol\": btc[\"symbol\"],\n",
    "    \"name\": btc[\"name\"],\n",
    "    \"image\": btc[\"image\"],\n",
    "    \"current_price\": btc[\"current_price\"],\n",
    "    \"market_cap\": btc[\"market_cap\"],\n",
    "    \"market_cap_rank\": btc[\"market_cap_rank\"],\n",
    "    \"fully_diluted_valuation\": btc.get(\"fully_diluted_valuation\", 0.0),\n",
    "    \"total_volume\": btc[\"total_volume\"],\n",
    "    \"high_24h\": btc[\"high_24h\"],\n",
    "    \"low_24h\": btc[\"low_24h\"],\n",
    "    \"price_change_24h\": btc[\"price_change_24h\"],\n",
    "    \"price_change_percentage_24h\": btc[\"price_change_percentage_24h\"],\n",
    "    \"market_cap_change_24h\": btc[\"market_cap_change_24h\"],\n",
    "    \"market_cap_change_percentage_24h\": btc[\"market_cap_change_percentage_24h\"],\n",
    "    \"circulating_supply\": btc[\"circulating_supply\"],\n",
    "    \"total_supply\": btc.get(\"total_supply\", 0.0),\n",
    "    \"max_supply\": btc.get(\"max_supply\", 0.0),\n",
    "    \"ath\": btc[\"ath\"],\n",
    "    \"ath_change_percentage\": btc[\"ath_change_percentage\"],\n",
    "    \"ath_date\": btc[\"ath_date\"],\n",
    "    \"atl\": btc[\"atl\"],\n",
    "    \"atl_change_percentage\": btc[\"atl_change_percentage\"],\n",
    "    \"atl_date\": btc[\"atl_date\"],\n",
    "    \"last_updated\": btc[\"last_updated\"],\n",
    "    \"source\": \"CoinGecko\"\n",
    "}\n",
    "\n",
    "btc_dict"
   ]
  },
  {
   "cell_type": "markdown",
   "id": "5139dcbb",
   "metadata": {},
   "source": [
    "## 📦 Step 3: Serialize to Protobuf Format"
   ]
  },
  {
   "cell_type": "code",
   "execution_count": 4,
   "id": "19a0564e",
   "metadata": {},
   "outputs": [
    {
     "name": "stdout",
     "output_type": "stream",
     "text": [
      "✅ Serialized 364 bytes\n"
     ]
    }
   ],
   "source": [
    "msg = BitcoinFullData(**btc_dict)\n",
    "serialized = msg.SerializeToString()\n",
    "print(f\"✅ Serialized {len(serialized)} bytes\")"
   ]
  },
  {
   "cell_type": "markdown",
   "id": "0dbaf6f5",
   "metadata": {},
   "source": [
    "## 💾 Step 4: Save to Disk and Read Back"
   ]
  },
  {
   "cell_type": "code",
   "execution_count": 5,
   "id": "a0201501",
   "metadata": {},
   "outputs": [
    {
     "data": {
      "text/plain": [
       "timestamp: 1746778048\n",
       "id: \"bitcoin\"\n",
       "symbol: \"btc\"\n",
       "name: \"Bitcoin\"\n",
       "image: \"https://coin-images.coingecko.com/coins/images/1/large/bitcoin.png?1696501400\"\n",
       "current_price: 103740.0\n",
       "market_cap: 2060807468936.0\n",
       "market_cap_rank: 1\n",
       "fully_diluted_valuation: 2060807468936.0\n",
       "total_volume: 49978884695.0\n",
       "high_24h: 103890.0\n",
       "low_24h: 99239.0\n",
       "price_change_24h: 4317.98\n",
       "price_change_percentage_24h: 4.3431\n",
       "market_cap_change_24h: 88124332562.0\n",
       "market_cap_change_percentage_24h: 4.46723\n",
       "circulating_supply: 19862190.0\n",
       "total_supply: 19862190.0\n",
       "max_supply: 21000000.0\n",
       "ath: 108786.0\n",
       "ath_change_percentage: -4.62573\n",
       "ath_date: \"2025-01-20T09:11:54.494Z\"\n",
       "atl: 67.81\n",
       "atl_change_percentage: 152908.30405\n",
       "atl_date: \"2013-07-06T00:00:00.000Z\"\n",
       "last_updated: \"2025-05-09T08:06:18.151Z\"\n",
       "source: \"CoinGecko\""
      ]
     },
     "execution_count": 5,
     "metadata": {},
     "output_type": "execute_result"
    }
   ],
   "source": [
    "file_path = \"src/data/sample_single_record.pb\"\n",
    "with open(file_path, \"wb\") as f:\n",
    "    f.write(len(serialized).to_bytes(4, 'little'))\n",
    "    f.write(serialized)\n",
    "\n",
    "# Read back\n",
    "with open(file_path, \"rb\") as f:\n",
    "    length_bytes = f.read(4)\n",
    "    size = int.from_bytes(length_bytes, 'little')\n",
    "    message_data = f.read(size)\n",
    "\n",
    "msg_read = BitcoinFullData()\n",
    "msg_read.ParseFromString(message_data)\n",
    "msg_read"
   ]
  },
  {
   "cell_type": "code",
   "execution_count": null,
   "id": "25268dae",
   "metadata": {},
   "outputs": [],
   "source": []
  }
 ],
 "metadata": {
  "kernelspec": {
   "display_name": "base",
   "language": "python",
   "name": "python3"
  },
  "language_info": {
   "codemirror_mode": {
    "name": "ipython",
    "version": 3
   },
   "file_extension": ".py",
   "mimetype": "text/x-python",
   "name": "python",
   "nbconvert_exporter": "python",
   "pygments_lexer": "ipython3",
   "version": "3.12.4"
  }
 },
 "nbformat": 4,
 "nbformat_minor": 5
}
