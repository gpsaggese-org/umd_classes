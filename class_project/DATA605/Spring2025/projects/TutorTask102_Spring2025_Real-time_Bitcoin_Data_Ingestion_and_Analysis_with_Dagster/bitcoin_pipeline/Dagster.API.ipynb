{
 "cells": [
  {
   "cell_type": "markdown",
   "id": "13837c45",
   "metadata": {},
   "source": [
    "# Dagster Bitcoin API\n",
    "\n",
    "This notebook demonstrates how to interact with the CoinGecko API using Dagster. It provides practical examples of retrieving cryptocurrency data, calculating financial metrics, and detecting anomalies for enhanced crypto analysis.\n",
    "\n",
    "## Notebook Objectives\n",
    "It focuses on showcasing the utility functions used to:\n",
    "- Fetch Bitcoin prices from the CoinGecko API\n",
    "- Transform the data into a structured format\n",
    "- Persist the data to disk\n",
    "\n",
    "# References\n",
    "\n",
    "- CoinGecko API Docs: https://www.coingecko.com/en/api\n",
    "- Dagster Documentation: https://docs.dagster.io\n",
    "- Getting started with Dagster: https://docs.dagster.io/getting-started\n",
    "\n",
    "# Citations\n",
    "CoinGecko. (2024). CoinGecko API v3. Retrieved from https://www.coingecko.com/en/api/documentation"
   ]
  },
  {
   "cell_type": "markdown",
   "id": "c8a75481",
   "metadata": {},
   "source": [
    "## Setup and Imports\n",
    "\n",
    "This section sets up the notebook environment and imports core utility functions needed for interacting with the CoinGecko API via Dagster."
   ]
  },
  {
   "cell_type": "code",
   "execution_count": 22,
   "id": "bea12473",
   "metadata": {},
   "outputs": [],
   "source": [
    "from Dagster_utils import (\n",
    "    fetch_bitcoin_price,\n",
    "    process_price_data,\n",
    "    save_to_csv,\n",
    "    get_historical_bitcoin_data,\n",
    "    calculate_moving_average,\n",
    "    detect_trend,\n",
    "    detect_anomalies_zscore,\n",
    "    plot_price_with_moving_average,\n",
    "    fit_arima_model,\n",
    "    plot_arima_forecast\n",
    ")\n",
    "\n",
    "import pandas as pd\n",
    "import matplotlib.pyplot as plt\n",
    "import warnings\n",
    "warnings.filterwarnings(\"ignore\")"
   ]
  },
  {
   "cell_type": "markdown",
   "id": "71151328",
   "metadata": {},
   "source": [
    "## Fetch Current Price"
   ]
  },
  {
   "cell_type": "code",
   "execution_count": 23,
   "id": "99ec833c",
   "metadata": {},
   "outputs": [
    {
     "name": "stdout",
     "output_type": "stream",
     "text": [
      "Live Price Data: {'timestamp': datetime.datetime(2025, 5, 17, 3, 22, 32, 953530), 'price': 103482}\n"
     ]
    }
   ],
   "source": [
    "# Fetch current price from CoinGecko API\n",
    "live_price = fetch_bitcoin_price()\n",
    "print(\"Live Price Data:\", live_price)"
   ]
  },
  {
   "cell_type": "markdown",
   "id": "4ff21776",
   "metadata": {},
   "source": [
    "## Format Price into DataFrame"
   ]
  },
  {
   "cell_type": "code",
   "execution_count": 24,
   "id": "a847bc62",
   "metadata": {},
   "outputs": [
    {
     "data": {
      "text/html": [
       "<div>\n",
       "<style scoped>\n",
       "    .dataframe tbody tr th:only-of-type {\n",
       "        vertical-align: middle;\n",
       "    }\n",
       "\n",
       "    .dataframe tbody tr th {\n",
       "        vertical-align: top;\n",
       "    }\n",
       "\n",
       "    .dataframe thead th {\n",
       "        text-align: right;\n",
       "    }\n",
       "</style>\n",
       "<table border=\"1\" class=\"dataframe\">\n",
       "  <thead>\n",
       "    <tr style=\"text-align: right;\">\n",
       "      <th></th>\n",
       "      <th>timestamp</th>\n",
       "      <th>price</th>\n",
       "    </tr>\n",
       "  </thead>\n",
       "  <tbody>\n",
       "    <tr>\n",
       "      <th>0</th>\n",
       "      <td>2025-05-17 03:22:32.953530</td>\n",
       "      <td>103482</td>\n",
       "    </tr>\n",
       "  </tbody>\n",
       "</table>\n",
       "</div>"
      ],
      "text/plain": [
       "                   timestamp   price\n",
       "0 2025-05-17 03:22:32.953530  103482"
      ]
     },
     "execution_count": 24,
     "metadata": {},
     "output_type": "execute_result"
    }
   ],
   "source": [
    "# Convert price dict into DataFrame\n",
    "df_price = process_price_data(live_price)\n",
    "df_price"
   ]
  },
  {
   "cell_type": "markdown",
   "id": "d16f3ee7",
   "metadata": {},
   "source": [
    "### Save file to CSV"
   ]
  },
  {
   "cell_type": "code",
   "execution_count": 25,
   "id": "740df847",
   "metadata": {},
   "outputs": [
    {
     "name": "stdout",
     "output_type": "stream",
     "text": [
      "Saved to 'bitcoin_prices.csv'\n"
     ]
    }
   ],
   "source": [
    "save_to_csv(df_price, filepath=\"bitcoin_prices.csv\")\n",
    "print(\"Saved to 'bitcoin_prices.csv'\")"
   ]
  },
  {
   "cell_type": "markdown",
   "id": "2d1498cd",
   "metadata": {},
   "source": [
    "##  Fetch Historical Data"
   ]
  },
  {
   "cell_type": "code",
   "execution_count": 26,
   "id": "75636fe3",
   "metadata": {},
   "outputs": [
    {
     "data": {
      "text/html": [
       "<div>\n",
       "<style scoped>\n",
       "    .dataframe tbody tr th:only-of-type {\n",
       "        vertical-align: middle;\n",
       "    }\n",
       "\n",
       "    .dataframe tbody tr th {\n",
       "        vertical-align: top;\n",
       "    }\n",
       "\n",
       "    .dataframe thead th {\n",
       "        text-align: right;\n",
       "    }\n",
       "</style>\n",
       "<table border=\"1\" class=\"dataframe\">\n",
       "  <thead>\n",
       "    <tr style=\"text-align: right;\">\n",
       "      <th></th>\n",
       "      <th>date</th>\n",
       "      <th>price</th>\n",
       "    </tr>\n",
       "  </thead>\n",
       "  <tbody>\n",
       "    <tr>\n",
       "      <th>0</th>\n",
       "      <td>2024-05-18</td>\n",
       "      <td>67053.123265</td>\n",
       "    </tr>\n",
       "    <tr>\n",
       "      <th>1</th>\n",
       "      <td>2024-05-19</td>\n",
       "      <td>66912.618614</td>\n",
       "    </tr>\n",
       "    <tr>\n",
       "      <th>2</th>\n",
       "      <td>2024-05-20</td>\n",
       "      <td>66252.712596</td>\n",
       "    </tr>\n",
       "    <tr>\n",
       "      <th>3</th>\n",
       "      <td>2024-05-21</td>\n",
       "      <td>71430.297002</td>\n",
       "    </tr>\n",
       "    <tr>\n",
       "      <th>4</th>\n",
       "      <td>2024-05-22</td>\n",
       "      <td>70189.835818</td>\n",
       "    </tr>\n",
       "  </tbody>\n",
       "</table>\n",
       "</div>"
      ],
      "text/plain": [
       "         date         price\n",
       "0  2024-05-18  67053.123265\n",
       "1  2024-05-19  66912.618614\n",
       "2  2024-05-20  66252.712596\n",
       "3  2024-05-21  71430.297002\n",
       "4  2024-05-22  70189.835818"
      ]
     },
     "execution_count": 26,
     "metadata": {},
     "output_type": "execute_result"
    }
   ],
   "source": [
    "# Get last 30 days of historical BTC prices\n",
    "df_hist = get_historical_bitcoin_data(days=365)\n",
    "df_hist.head()"
   ]
  },
  {
   "cell_type": "markdown",
   "id": "fa07237e",
   "metadata": {},
   "source": [
    "## Calculate Moving Average"
   ]
  },
  {
   "cell_type": "code",
   "execution_count": 27,
   "id": "7d02dfb4",
   "metadata": {},
   "outputs": [
    {
     "data": {
      "text/html": [
       "<div>\n",
       "<style scoped>\n",
       "    .dataframe tbody tr th:only-of-type {\n",
       "        vertical-align: middle;\n",
       "    }\n",
       "\n",
       "    .dataframe tbody tr th {\n",
       "        vertical-align: top;\n",
       "    }\n",
       "\n",
       "    .dataframe thead th {\n",
       "        text-align: right;\n",
       "    }\n",
       "</style>\n",
       "<table border=\"1\" class=\"dataframe\">\n",
       "  <thead>\n",
       "    <tr style=\"text-align: right;\">\n",
       "      <th></th>\n",
       "      <th>date</th>\n",
       "      <th>price</th>\n",
       "      <th>moving_average</th>\n",
       "    </tr>\n",
       "  </thead>\n",
       "  <tbody>\n",
       "    <tr>\n",
       "      <th>0</th>\n",
       "      <td>2024-05-18</td>\n",
       "      <td>67053.123265</td>\n",
       "      <td>67053.123265</td>\n",
       "    </tr>\n",
       "    <tr>\n",
       "      <th>1</th>\n",
       "      <td>2024-05-19</td>\n",
       "      <td>66912.618614</td>\n",
       "      <td>66982.870940</td>\n",
       "    </tr>\n",
       "    <tr>\n",
       "      <th>2</th>\n",
       "      <td>2024-05-20</td>\n",
       "      <td>66252.712596</td>\n",
       "      <td>66739.484825</td>\n",
       "    </tr>\n",
       "    <tr>\n",
       "      <th>3</th>\n",
       "      <td>2024-05-21</td>\n",
       "      <td>71430.297002</td>\n",
       "      <td>67912.187869</td>\n",
       "    </tr>\n",
       "    <tr>\n",
       "      <th>4</th>\n",
       "      <td>2024-05-22</td>\n",
       "      <td>70189.835818</td>\n",
       "      <td>68367.717459</td>\n",
       "    </tr>\n",
       "  </tbody>\n",
       "</table>\n",
       "</div>"
      ],
      "text/plain": [
       "         date         price  moving_average\n",
       "0  2024-05-18  67053.123265    67053.123265\n",
       "1  2024-05-19  66912.618614    66982.870940\n",
       "2  2024-05-20  66252.712596    66739.484825\n",
       "3  2024-05-21  71430.297002    67912.187869\n",
       "4  2024-05-22  70189.835818    68367.717459"
      ]
     },
     "execution_count": 27,
     "metadata": {},
     "output_type": "execute_result"
    }
   ],
   "source": [
    "# Compute 5-day moving average on historical data\n",
    "df_ma = calculate_moving_average(df_hist, window_days=5)\n",
    "df_ma.head()"
   ]
  },
  {
   "cell_type": "markdown",
   "id": "2a81951b",
   "metadata": {},
   "source": [
    "## Trends and Anomoli Detection"
   ]
  },
  {
   "cell_type": "code",
   "execution_count": 28,
   "id": "fdd6aeed",
   "metadata": {},
   "outputs": [
    {
     "name": "stdout",
     "output_type": "stream",
     "text": [
      "Trend: upward\n"
     ]
    },
    {
     "data": {
      "text/html": [
       "<div>\n",
       "<style scoped>\n",
       "    .dataframe tbody tr th:only-of-type {\n",
       "        vertical-align: middle;\n",
       "    }\n",
       "\n",
       "    .dataframe tbody tr th {\n",
       "        vertical-align: top;\n",
       "    }\n",
       "\n",
       "    .dataframe thead th {\n",
       "        text-align: right;\n",
       "    }\n",
       "</style>\n",
       "<table border=\"1\" class=\"dataframe\">\n",
       "  <thead>\n",
       "    <tr style=\"text-align: right;\">\n",
       "      <th></th>\n",
       "      <th>date</th>\n",
       "      <th>price</th>\n",
       "      <th>moving_average</th>\n",
       "      <th>z_score</th>\n",
       "      <th>anomaly</th>\n",
       "    </tr>\n",
       "  </thead>\n",
       "  <tbody>\n",
       "  </tbody>\n",
       "</table>\n",
       "</div>"
      ],
      "text/plain": [
       "Empty DataFrame\n",
       "Columns: [date, price, moving_average, z_score, anomaly]\n",
       "Index: []"
      ]
     },
     "execution_count": 28,
     "metadata": {},
     "output_type": "execute_result"
    }
   ],
   "source": [
    "# Analyze basic trend using linear regression slope\n",
    "trend_result = detect_trend(df_ma)\n",
    "print(\"Trend:\", trend_result)\n",
    "\n",
    "# Identify outliers in price movement\n",
    "df_anom = detect_anomalies_zscore(df_ma)\n",
    "df_anom[df_anom[\"anomaly\"] == True].head()"
   ]
  },
  {
   "cell_type": "markdown",
   "id": "fa8decb4",
   "metadata": {},
   "source": [
    "## Visualizations"
   ]
  },
  {
   "cell_type": "code",
   "execution_count": 29,
   "id": "31879350",
   "metadata": {},
   "outputs": [
    {
     "data": {
      "image/png": "[encoded data removed]",
      "text/plain": [
       "<Figure size 1000x500 with 1 Axes>"
      ]
     },
     "metadata": {},
     "output_type": "display_data"
    }
   ],
   "source": [
    "# Visualize price + moving average line\n",
    "plot_price_with_moving_average(df_anom)"
   ]
  },
  {
   "cell_type": "code",
   "execution_count": null,
   "id": "5b686dbd",
   "metadata": {},
   "outputs": [],
   "source": []
  },
  {
   "cell_type": "code",
   "execution_count": null,
   "id": "39aa27d8",
   "metadata": {},
   "outputs": [],
   "source": []
  },
  {
   "cell_type": "code",
   "execution_count": null,
   "id": "5e62920d",
   "metadata": {},
   "outputs": [],
   "source": []
  },
  {
   "cell_type": "code",
   "execution_count": null,
   "id": "2c338c8f",
   "metadata": {},
   "outputs": [],
   "source": []
  }
 ],
 "metadata": {
  "kernelspec": {
   "display_name": "Python 3 (ipykernel)",
   "language": "python",
   "name": "python3"
  },
  "language_info": {
   "codemirror_mode": {
    "name": "ipython",
    "version": 3
   },
   "file_extension": ".py",
   "mimetype": "text/x-python",
   "name": "python",
   "nbconvert_exporter": "python",
   "pygments_lexer": "ipython3",
   "version": "3.9.16"
  }
 },
 "nbformat": 4,
 "nbformat_minor": 5
}
