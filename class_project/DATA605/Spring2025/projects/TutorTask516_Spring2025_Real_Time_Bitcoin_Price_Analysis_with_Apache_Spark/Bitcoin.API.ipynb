{
 "cells": [
  {
   "cell_type": "markdown",
   "metadata": {},
   "source": [
    "# Bitcoin API Usage Demo (`Bitcoin.API.ipynb`)\n",
    "This notebook demonstrates fetching real-time Bitcoin prices using:\n",
    "- The native CoinGecko API via `requests`\n",
    "- A wrapper function from `bitcoin_utils.py` for retry logic, timestamping, and structured output"
   ]
  },
  {
   "cell_type": "markdown",
   "metadata": {},
   "source": [
    "### Imports and Setup"
   ]
  },
  {
   "cell_type": "code",
   "execution_count": 1,
   "metadata": {},
   "outputs": [],
   "source": [
    "import requests\n",
    "from datetime import datetime\n",
    "from bitcoin_utils import fetch_bitcoin_price"
   ]
  },
  {
   "cell_type": "markdown",
   "metadata": {},
   "source": [
    "### Using the Native CoinGecko API"
   ]
  },
  {
   "cell_type": "code",
   "execution_count": 2,
   "metadata": {},
   "outputs": [
    {
     "name": "stdout",
     "output_type": "stream",
     "text": [
      "[2025-05-18T16:15:18.333974] Bitcoin price: $105532\n"
     ]
    }
   ],
   "source": [
    "# Native API call using requests\n",
    "url = \"https://api.coingecko.com/api/v3/simple/price?ids=bitcoin&vs_currencies=usd\"\n",
    "response = requests.get(url)\n",
    "btc_price = response.json()['bitcoin']['usd']\n",
    "print(f\"[{datetime.now().isoformat()}] Bitcoin price: ${btc_price}\")"
   ]
  },
  {
   "cell_type": "markdown",
   "metadata": {},
   "source": [
    "### Using the Wrapper Function"
   ]
  },
  {
   "cell_type": "code",
   "execution_count": 3,
   "metadata": {},
   "outputs": [
    {
     "name": "stdout",
     "output_type": "stream",
     "text": [
      "[2025-05-18T16:15:18.377087] Price: $105532.00\n",
      "{'timestamp': '2025-05-18T16:15:18.377087', 'price': 105532}\n"
     ]
    }
   ],
   "source": [
    "# Using the wrapped utility from bitcoin_utils.py\n",
    "record = fetch_bitcoin_price(verbose=True)\n",
    "print(record)"
   ]
  },
  {
   "cell_type": "markdown",
   "metadata": {},
   "source": [
    "The wrapper handles:\n",
    "\n",
    "- API retry logic on failure or rate-limit errors\n",
    "- Automatic timestamping\n",
    "- JSON parsing and formatting\n",
    "- Configurable verbosity and retry parameters"
   ]
  }
 ],
 "metadata": {
  "kernelspec": {
   "display_name": "Python 3 (ipykernel)",
   "language": "python",
   "name": "python3"
  },
  "language_info": {
   "codemirror_mode": {
    "name": "ipython",
    "version": 3
   },
   "file_extension": ".py",
   "mimetype": "text/x-python",
   "name": "python",
   "nbconvert_exporter": "python",
   "pygments_lexer": "ipython3",
   "version": "3.10.17"
  }
 },
 "nbformat": 4,
 "nbformat_minor": 4
}
