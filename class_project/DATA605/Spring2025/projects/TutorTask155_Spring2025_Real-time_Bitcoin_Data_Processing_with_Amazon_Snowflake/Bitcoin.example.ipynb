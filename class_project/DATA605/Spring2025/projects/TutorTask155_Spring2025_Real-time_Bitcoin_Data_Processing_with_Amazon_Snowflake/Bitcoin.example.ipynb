{
 "cells": [
  {
   "cell_type": "markdown",
   "id": "e02040c2",
   "metadata": {},
   "source": [
    "# Bitcoin Real-Time Analysis Example with Snowflake\n",
    "\n",
    "This notebook demonstrates an **end-to-end use case** of ingesting real-time Bitcoin prices using the CoinGecko API and storing them into Snowflake. It uses utility functions built in `bitcoin_utils.py` and showcases:\n",
    "\n",
    "- Data ingestion using Python\n",
    "- Logging data to Snowflake warehouse\n",
    "- Real-time analytics: moving averages and volatility\n",
    "- Visualization of Bitcoin price trends\n",
    "\n",
    "> See the [Bitcoin.example.md](Bitcoin.example.md) for full project context.\n"
   ]
  },
  {
   "cell_type": "markdown",
   "id": "5095add3",
   "metadata": {},
   "source": [
    "## 1. Setup\n",
    "\n",
    "### 1.1 Install Required Libraries\n",
    "Install all necessary dependencies required to connect with Snowflake, call APIs, handle data, and visualize results.\n"
   ]
  },
  {
   "cell_type": "code",
   "execution_count": 5,
   "id": "265e0d58-a7cd-4edf-a0b4-96b60220e801",
   "metadata": {},
   "outputs": [
    {
     "name": "stdout",
     "output_type": "stream",
     "text": [
      "Requirement already satisfied: snowflake-connector-python in c:\\users\\nikki\\appdata\\local\\programs\\python\\python36\\lib\\site-packages (2.7.4)\n",
      "Requirement already satisfied: requests in c:\\users\\nikki\\appdata\\local\\programs\\python\\python36\\lib\\site-packages (2.25.1)\n",
      "Requirement already satisfied: pandas in c:\\users\\nikki\\appdata\\local\\programs\\python\\python36\\lib\\site-packages (1.1.5)\n",
      "Requirement already satisfied: matplotlib in c:\\users\\nikki\\appdata\\local\\programs\\python\\python36\\lib\\site-packages (3.3.4)\n",
      "Requirement already satisfied: plotly in c:\\users\\nikki\\appdata\\local\\programs\\python\\python36\\lib\\site-packages (5.18.0)\n",
      "Requirement already satisfied: python-dotenv in c:\\users\\nikki\\appdata\\local\\programs\\python\\python36\\lib\\site-packages (0.20.0)\n",
      "Requirement already satisfied: oscrypto<2.0.0 in c:\\users\\nikki\\appdata\\local\\programs\\python\\python36\\lib\\site-packages (from snowflake-connector-python) (1.3.0)\n",
      "Requirement already satisfied: asn1crypto<2.0.0,>0.24.0 in c:\\users\\nikki\\appdata\\local\\programs\\python\\python36\\lib\\site-packages (from snowflake-connector-python) (1.5.1)\n",
      "Requirement already satisfied: idna<4,>=2.5 in c:\\users\\nikki\\appdata\\local\\programs\\python\\python36\\lib\\site-packages (from snowflake-connector-python) (2.10)\n",
      "Requirement already satisfied: pycryptodomex!=3.5.0,<4.0.0,>=3.2 in c:\\users\\nikki\\appdata\\local\\programs\\python\\python36\\lib\\site-packages (from snowflake-connector-python) (3.21.0)\n",
      "Requirement already satisfied: pyjwt<3.0.0 in c:\\users\\nikki\\appdata\\local\\programs\\python\\python36\\lib\\site-packages (from snowflake-connector-python) (2.4.0)\n",
      "Requirement already satisfied: setuptools>34.0.0 in c:\\users\\nikki\\appdata\\local\\programs\\python\\python36\\lib\\site-packages (from snowflake-connector-python) (59.6.0)\n",
      "Requirement already satisfied: certifi>=2017.4.17 in c:\\users\\nikki\\appdata\\local\\programs\\python\\python36\\lib\\site-packages (from snowflake-connector-python) (2020.12.5)\n",
      "Requirement already satisfied: dataclasses in c:\\users\\nikki\\appdata\\local\\programs\\python\\python36\\lib\\site-packages (from snowflake-connector-python) (0.8)\n",
      "Requirement already satisfied: pyOpenSSL<22.0.0,>=16.2.0 in c:\\users\\nikki\\appdata\\local\\programs\\python\\python36\\lib\\site-packages (from snowflake-connector-python) (21.0.0)\n",
      "Requirement already satisfied: cffi<2.0.0,>=1.9 in c:\\users\\nikki\\appdata\\local\\programs\\python\\python36\\lib\\site-packages (from snowflake-connector-python) (1.15.1)\n",
      "Requirement already satisfied: pytz in c:\\users\\nikki\\appdata\\local\\programs\\python\\python36\\lib\\site-packages (from snowflake-connector-python) (2021.1)\n",
      "Requirement already satisfied: cryptography<37.0.0,>=3.1.0 in c:\\users\\nikki\\appdata\\local\\programs\\python\\python36\\lib\\site-packages (from snowflake-connector-python) (36.0.2)\n",
      "Requirement already satisfied: charset-normalizer~=2.0.0 in c:\\users\\nikki\\appdata\\local\\programs\\python\\python36\\lib\\site-packages (from snowflake-connector-python) (2.0.12)\n",
      "Requirement already satisfied: chardet<5,>=3.0.2 in c:\\users\\nikki\\appdata\\local\\programs\\python\\python36\\lib\\site-packages (from requests) (4.0.0)\n",
      "Requirement already satisfied: urllib3<1.27,>=1.21.1 in c:\\users\\nikki\\appdata\\local\\programs\\python\\python36\\lib\\site-packages (from requests) (1.26.4)\n",
      "Requirement already satisfied: python-dateutil>=2.7.3 in c:\\users\\nikki\\appdata\\local\\programs\\python\\python36\\lib\\site-packages (from pandas) (2.8.1)\n",
      "Requirement already satisfied: numpy>=1.15.4 in c:\\users\\nikki\\appdata\\local\\programs\\python\\python36\\lib\\site-packages (from pandas) (1.19.5)\n",
      "Requirement already satisfied: pillow>=6.2.0 in c:\\users\\nikki\\appdata\\local\\programs\\python\\python36\\lib\\site-packages (from matplotlib) (8.4.0)\n",
      "Requirement already satisfied: kiwisolver>=1.0.1 in c:\\users\\nikki\\appdata\\local\\programs\\python\\python36\\lib\\site-packages (from matplotlib) (1.3.1)\n",
      "Requirement already satisfied: pyparsing!=2.0.4,!=2.1.2,!=2.1.6,>=2.0.3 in c:\\users\\nikki\\appdata\\local\\programs\\python\\python36\\lib\\site-packages (from matplotlib) (3.0.7)\n",
      "Requirement already satisfied: cycler>=0.10 in c:\\users\\nikki\\appdata\\local\\programs\\python\\python36\\lib\\site-packages (from matplotlib) (0.11.0)\n",
      "Requirement already satisfied: tenacity>=6.2.0 in c:\\users\\nikki\\appdata\\local\\programs\\python\\python36\\lib\\site-packages (from plotly) (8.2.2)\n",
      "Requirement already satisfied: packaging in c:\\users\\nikki\\appdata\\local\\programs\\python\\python36\\lib\\site-packages (from plotly) (21.3)\n",
      "Requirement already satisfied: pycparser in c:\\users\\nikki\\appdata\\local\\programs\\python\\python36\\lib\\site-packages (from cffi<2.0.0,>=1.9->snowflake-connector-python) (2.21)\n",
      "Requirement already satisfied: six>=1.5.2 in c:\\users\\nikki\\appdata\\local\\programs\\python\\python36\\lib\\site-packages (from pyOpenSSL<22.0.0,>=16.2.0->snowflake-connector-python) (1.15.0)\n"
     ]
    }
   ],
   "source": [
    "\n",
    "%load_ext autoreload\n",
    "%autoreload 2\n",
    "%matplotlib inline\n",
    "\n",
    "import logging\n",
    "!pip install snowflake-connector-python requests pandas matplotlib plotly python-dotenv\n"
   ]
  },
  {
   "cell_type": "markdown",
   "id": "06001447",
   "metadata": {},
   "source": [
    "### 1.2 Configure Logger and Environment & Connect to Snowflake\n",
    "We use `dotenv` to securely load credentials and logging to track key actions.\n",
    "Create a secure connection to your Snowflake data warehouse."
   ]
  },
  {
   "cell_type": "code",
   "execution_count": 6,
   "id": "2d1c2a91",
   "metadata": {},
   "outputs": [
    {
     "name": "stdout",
     "output_type": "stream",
     "text": [
      "User: PWADHWA\n",
      "Account: RQSQUOH-VVC78987\n"
     ]
    }
   ],
   "source": [
    "import os\n",
    "from dotenv import load_dotenv\n",
    "import logging\n",
    "\n",
    "from datetime import datetime\n",
    "import requests\n",
    "import pandas as pd\n",
    "import matplotlib.pyplot as plt\n",
    "import plotly.express as px\n",
    "import snowflake.connector\n",
    "\n",
    "# Load environment variables from .env\n",
    "load_dotenv()\n",
    "\n",
    "# Setup logging\n",
    "logging.basicConfig(level=logging.INFO)\n",
    "logger = logging.getLogger(__name__)\n",
    "load_dotenv()\n",
    "logging.basicConfig(level=logging.INFO)\n",
    "logger = logging.getLogger(__name__)\n",
    "\n",
    "print(\"User:\", os.getenv(\"SNOWFLAKE_USER\"))\n",
    "print(\"Account:\", os.getenv(\"SNOWFLAKE_ACCOUNT\"))\n",
    "\n"
   ]
  },
  {
   "cell_type": "markdown",
   "id": "f9208cc9-837d-4fec-a312-9c4aa5b7648d",
   "metadata": {},
   "source": [
    "## Configuration"
   ]
  },
  {
   "cell_type": "code",
   "execution_count": 10,
   "id": "9d5ddfe3",
   "metadata": {},
   "outputs": [
    {
     "name": "stdout",
     "output_type": "stream",
     "text": [
      "User: PWADHWA\n",
      "Password: Palakwadhwa@202003\n",
      "Account: RQSQUOH-VVC78987\n",
      "Warehouse: COMPUTE_WH\n",
      "Database: BITCOIN_DB\n",
      "Schema: PUBLIC\n"
     ]
    }
   ],
   "source": [
    "print(\"User:\", os.getenv(\"SNOWFLAKE_USER\"))\n",
    "print(\"Password:\", os.getenv(\"SNOWFLAKE_PASSWORD\"))\n",
    "print(\"Account:\", os.getenv(\"SNOWFLAKE_ACCOUNT\"))\n",
    "print(\"Warehouse:\", os.getenv(\"SNOWFLAKE_WAREHOUSE\"))\n",
    "print(\"Database:\", os.getenv(\"SNOWFLAKE_DATABASE\"))\n",
    "print(\"Schema:\", os.getenv(\"SNOWFLAKE_SCHEMA\"))\n"
   ]
  },
  {
   "cell_type": "code",
   "execution_count": 14,
   "id": "0ef69eea",
   "metadata": {},
   "outputs": [
    {
     "ename": "NameError",
     "evalue": "name 'connect_to_snowflake' is not defined",
     "output_type": "error",
     "traceback": [
      "\u001b[1;31m---------------------------------------------------------------------------\u001b[0m",
      "\u001b[1;31mNameError\u001b[0m                                 Traceback (most recent call last)",
      "\u001b[1;32m<ipython-input-14-bf8018efc9c1>\u001b[0m in \u001b[0;36m<module>\u001b[1;34m\u001b[0m\n\u001b[1;32m----> 1\u001b[1;33m \u001b[0mconn\u001b[0m \u001b[1;33m=\u001b[0m \u001b[0mconnect_to_snowflake\u001b[0m\u001b[1;33m(\u001b[0m\u001b[1;33m)\u001b[0m\u001b[1;33m\u001b[0m\u001b[0m\n\u001b[0m\u001b[0;32m      2\u001b[0m \u001b[0mconn\u001b[0m\u001b[1;33m.\u001b[0m\u001b[0mcursor\u001b[0m\u001b[1;33m(\u001b[0m\u001b[1;33m)\u001b[0m\u001b[1;33m.\u001b[0m\u001b[0mexecute\u001b[0m\u001b[1;33m(\u001b[0m\u001b[1;34m\"USE DATABASE BITCOIN_DB\"\u001b[0m\u001b[1;33m)\u001b[0m\u001b[1;33m\u001b[0m\u001b[0m\n\u001b[0;32m      3\u001b[0m \u001b[0mconn\u001b[0m\u001b[1;33m.\u001b[0m\u001b[0mcursor\u001b[0m\u001b[1;33m(\u001b[0m\u001b[1;33m)\u001b[0m\u001b[1;33m.\u001b[0m\u001b[0mexecute\u001b[0m\u001b[1;33m(\u001b[0m\u001b[1;34m\"USE SCHEMA PUBLIC\"\u001b[0m\u001b[1;33m)\u001b[0m\u001b[1;33m\u001b[0m\u001b[0m\n\u001b[0;32m      4\u001b[0m \u001b[0mcreate_btc_table\u001b[0m\u001b[1;33m(\u001b[0m\u001b[0mconn\u001b[0m\u001b[1;33m)\u001b[0m\u001b[1;33m\u001b[0m\u001b[0m\n",
      "\u001b[1;31mNameError\u001b[0m: name 'connect_to_snowflake' is not defined"
     ]
    }
   ],
   "source": [
    "\n"
   ]
  },
  {
   "cell_type": "code",
   "execution_count": 16,
   "id": "efa4db68",
   "metadata": {},
   "outputs": [
    {
     "name": "stderr",
     "output_type": "stream",
     "text": [
      "INFO:snowflake.connector.cursor:query: [CREATE TABLE IF NOT EXISTS BTC_PRICES ( timestamp TIMESTAMP, price_usd FLOAT );]\n",
      "INFO:snowflake.connector.cursor:query execution done\n",
      "INFO:__main__:✅ Table BTC_PRICES is ready.\n"
     ]
    }
   ],
   "source": [
    "def create_btc_table(conn):\n",
    "    \"\"\"\n",
    "    Create a table in Snowflake to store timestamped Bitcoin price data.\n",
    "    \"\"\"\n",
    "    create_stmt = \"\"\"\n",
    "    CREATE TABLE IF NOT EXISTS BTC_PRICES (\n",
    "        timestamp TIMESTAMP,\n",
    "        price_usd FLOAT\n",
    "    );\n",
    "    \"\"\"\n",
    "    conn.cursor().execute(create_stmt)\n",
    "    logger.info(\"✅ Table BTC_PRICES is ready.\")\n",
    "\n",
    "create_btc_table(conn)\n"
   ]
  },
  {
   "cell_type": "code",
   "execution_count": 15,
   "id": "27ac419d",
   "metadata": {},
   "outputs": [
    {
     "name": "stderr",
     "output_type": "stream",
     "text": [
      "INFO:snowflake.connector.connection:Snowflake Connector for Python Version: 2.7.4, Python Version: 3.6.4, Platform: Windows-10-10.0.26100-SP0\n",
      "INFO:snowflake.connector.connection:This connection is in OCSP Fail Open Mode. TLS Certificates would be checked for validity and revocation status. Any other Certificate Revocation related exceptions or OCSP Responder failures would be disregarded in favor of connectivity.\n",
      "INFO:snowflake.connector.connection:Setting use_openssl_only mode to False\n",
      "INFO:__main__:✅ Connected to Snowflake\n"
     ]
    }
   ],
   "source": [
    "def connect_to_snowflake():\n",
    "    \"\"\"\n",
    "    Connect to Snowflake using credentials from .env file.\n",
    "    \"\"\"\n",
    "    conn = snowflake.connector.connect(\n",
    "        user=os.getenv(\"SNOWFLAKE_USER\"),\n",
    "        password=os.getenv(\"SNOWFLAKE_PASSWORD\"),\n",
    "        account=os.getenv(\"SNOWFLAKE_ACCOUNT\"),\n",
    "        warehouse=os.getenv(\"SNOWFLAKE_WAREHOUSE\"),\n",
    "        database=os.getenv(\"SNOWFLAKE_DATABASE\"),\n",
    "        schema=os.getenv(\"SNOWFLAKE_SCHEMA\")\n",
    "    )\n",
    "    logger.info(\"✅ Connected to Snowflake\")\n",
    "    return conn\n",
    "\n",
    "# Connect\n",
    "conn = connect_to_snowflake()\n"
   ]
  },
  {
   "cell_type": "code",
   "execution_count": 17,
   "id": "10fbc734",
   "metadata": {},
   "outputs": [
    {
     "name": "stderr",
     "output_type": "stream",
     "text": [
      "INFO:snowflake.connector.cursor:query: [USE DATABASE BITCOIN_DB]\n",
      "INFO:snowflake.connector.cursor:query execution done\n",
      "INFO:snowflake.connector.cursor:query: [USE SCHEMA PUBLIC]\n",
      "INFO:snowflake.connector.cursor:query execution done\n"
     ]
    },
    {
     "data": {
      "text/plain": [
       "<snowflake.connector.cursor.SnowflakeCursor at 0x1ee7e9b5390>"
      ]
     },
     "execution_count": 17,
     "metadata": {},
     "output_type": "execute_result"
    }
   ],
   "source": [
    "conn.cursor().execute(\"USE DATABASE BITCOIN_DB\")\n",
    "conn.cursor().execute(\"USE SCHEMA PUBLIC\")\n",
    "\n"
   ]
  },
  {
   "cell_type": "markdown",
   "id": "d5913691",
   "metadata": {},
   "source": [
    "### 2.2 Create Storage Table\n",
    "Prepare a table that stores the timestamp and price.\n"
   ]
  },
  {
   "cell_type": "code",
   "execution_count": 18,
   "id": "4f557a47",
   "metadata": {},
   "outputs": [
    {
     "name": "stderr",
     "output_type": "stream",
     "text": [
      "INFO:snowflake.connector.cursor:query: [CREATE TABLE IF NOT EXISTS BTC_PRICES ( timestamp TIMESTAMP, price_usd FLOAT );]\n",
      "INFO:snowflake.connector.cursor:query execution done\n",
      "INFO:__main__:✅ Table BTC_PRICES is ready.\n"
     ]
    }
   ],
   "source": [
    "def create_btc_table(conn):\n",
    "    create_stmt = \"\"\"\n",
    "    CREATE TABLE IF NOT EXISTS BTC_PRICES (\n",
    "        timestamp TIMESTAMP,\n",
    "        price_usd FLOAT\n",
    "    );\n",
    "    \"\"\"\n",
    "    conn.cursor().execute(create_stmt)\n",
    "    logger.info(\"✅ Table BTC_PRICES is ready.\")\n",
    "\n",
    "# Call the function\n",
    "create_btc_table(conn)\n"
   ]
  },
  {
   "cell_type": "markdown",
   "id": "d390806a",
   "metadata": {},
   "source": [
    "## 3. Compute & Clean Data\n",
    "\n",
    "### 3.1 Fetch Real-time Price\n",
    "Make a GET request to CoinGecko API and extract the current BTC/USD price.\n"
   ]
  },
  {
   "cell_type": "code",
   "execution_count": 22,
   "id": "512015f2",
   "metadata": {},
   "outputs": [
    {
     "name": "stderr",
     "output_type": "stream",
     "text": [
      "INFO:__main__:💰 Current Bitcoin Price: $103022\n"
     ]
    },
    {
     "name": "stdout",
     "output_type": "stream",
     "text": [
      "Fetched price: 103022\n"
     ]
    }
   ],
   "source": [
    "import requests\n",
    "\n",
    "def fetch_bitcoin_price():\n",
    "    \"\"\"\n",
    "    Fetch the latest Bitcoin price in USD from CoinGecko API.\n",
    "    \"\"\"\n",
    "    url = \"https://api.coingecko.com/api/v3/simple/price\"\n",
    "    params = {\"ids\": \"bitcoin\", \"vs_currencies\": \"usd\"}\n",
    "    response = requests.get(url, params=params)\n",
    "    response.raise_for_status()\n",
    "    price = response.json()[\"bitcoin\"][\"usd\"]\n",
    "    logger.info(f\"💰 Current Bitcoin Price: ${price}\")\n",
    "    return price\n",
    "\n",
    "# Fetch and print\n",
    "btc_price = fetch_bitcoin_price()\n",
    "print(\"Fetched price:\", btc_price)\n"
   ]
  },
  {
   "cell_type": "markdown",
   "id": "06f4641a",
   "metadata": {},
   "source": [
    "### 3.2 Insert Price to Snowflake\n",
    "Save the timestamped price into your database table.\n",
    "\n"
   ]
  },
  {
   "cell_type": "code",
   "execution_count": 25,
   "id": "5d03e9fb",
   "metadata": {},
   "outputs": [
    {
     "name": "stderr",
     "output_type": "stream",
     "text": [
      "INFO:snowflake.connector.cursor:query: [INSERT INTO BTC_PRICES (timestamp, price_usd) VALUES ('2025-05-17 01:35:56.98157...]\n",
      "INFO:snowflake.connector.cursor:query execution done\n",
      "INFO:__main__:📥 Inserted Bitcoin price into Snowflake.\n"
     ]
    }
   ],
   "source": [
    "from datetime import datetime\n",
    "\n",
    "def insert_bitcoin_price(conn, price_usd):\n",
    "    \"\"\"\n",
    "    Insert the current timestamp and Bitcoin price into the Snowflake table.\n",
    "    \"\"\"\n",
    "    insert_stmt = \"\"\"\n",
    "    INSERT INTO BTC_PRICES (timestamp, price_usd)\n",
    "    VALUES (%s, %s);\n",
    "    \"\"\"\n",
    "    conn.cursor().execute(insert_stmt, (datetime.utcnow(), price_usd))\n",
    "    logger.info(\"📥 Inserted Bitcoin price into Snowflake.\")\n",
    "\n",
    "# Insert latest price\n",
    "insert_bitcoin_price(conn, btc_price)\n",
    "def fetch_btc_data(conn):\n",
    "    \"\"\"\n",
    "    Fetch all rows from the BTC_PRICES table in Snowflake.\n",
    "    \n",
    "    :param conn: Snowflake connection object\n",
    "    :return: DataFrame containing timestamped Bitcoin prices\n",
    "    \"\"\"\n",
    "    import pandas as pd\n",
    "    query = \"SELECT * FROM BTC_PRICES ORDER BY timestamp ASC;\"\n",
    "    df = pd.read_sql(query, conn)\n",
    "    return df\n"
   ]
  },
  {
   "cell_type": "markdown",
   "id": "274b31ea",
   "metadata": {},
   "source": [
    "## 4. Logging Loop (Collect More Data)\n",
    "Record prices at 10-second intervals to simulate real-time streaming."
   ]
  },
  {
   "cell_type": "code",
   "execution_count": 26,
   "id": "82aeb259",
   "metadata": {},
   "outputs": [
    {
     "name": "stderr",
     "output_type": "stream",
     "text": [
      "INFO:__main__:💰 Current Bitcoin Price: $102936\n",
      "INFO:snowflake.connector.cursor:query: [INSERT INTO BTC_PRICES (timestamp, price_usd) VALUES ('2025-05-17 01:37:33.75602...]\n",
      "INFO:snowflake.connector.cursor:query execution done\n",
      "INFO:__main__:📥 Inserted Bitcoin price into Snowflake.\n"
     ]
    },
    {
     "name": "stdout",
     "output_type": "stream",
     "text": [
      "[1] Inserted price: 102936\n"
     ]
    },
    {
     "name": "stderr",
     "output_type": "stream",
     "text": [
      "INFO:__main__:💰 Current Bitcoin Price: $102936\n",
      "INFO:snowflake.connector.cursor:query: [INSERT INTO BTC_PRICES (timestamp, price_usd) VALUES ('2025-05-17 01:37:44.40282...]\n",
      "INFO:snowflake.connector.cursor:query execution done\n",
      "INFO:__main__:📥 Inserted Bitcoin price into Snowflake.\n"
     ]
    },
    {
     "name": "stdout",
     "output_type": "stream",
     "text": [
      "[2] Inserted price: 102936\n"
     ]
    },
    {
     "name": "stderr",
     "output_type": "stream",
     "text": [
      "INFO:__main__:💰 Current Bitcoin Price: $102936\n",
      "INFO:snowflake.connector.cursor:query: [INSERT INTO BTC_PRICES (timestamp, price_usd) VALUES ('2025-05-17 01:37:55.17362...]\n",
      "INFO:snowflake.connector.cursor:query execution done\n",
      "INFO:__main__:📥 Inserted Bitcoin price into Snowflake.\n"
     ]
    },
    {
     "name": "stdout",
     "output_type": "stream",
     "text": [
      "[3] Inserted price: 102936\n"
     ]
    },
    {
     "name": "stderr",
     "output_type": "stream",
     "text": [
      "INFO:__main__:💰 Current Bitcoin Price: $102936\n",
      "INFO:snowflake.connector.cursor:query: [INSERT INTO BTC_PRICES (timestamp, price_usd) VALUES ('2025-05-17 01:38:05.88555...]\n",
      "INFO:snowflake.connector.cursor:query execution done\n",
      "INFO:__main__:📥 Inserted Bitcoin price into Snowflake.\n"
     ]
    },
    {
     "name": "stdout",
     "output_type": "stream",
     "text": [
      "[4] Inserted price: 102936\n"
     ]
    },
    {
     "name": "stderr",
     "output_type": "stream",
     "text": [
      "INFO:__main__:💰 Current Bitcoin Price: $102933\n",
      "INFO:snowflake.connector.cursor:query: [INSERT INTO BTC_PRICES (timestamp, price_usd) VALUES ('2025-05-17 01:38:16.71990...]\n",
      "INFO:snowflake.connector.cursor:query execution done\n",
      "INFO:__main__:📥 Inserted Bitcoin price into Snowflake.\n"
     ]
    },
    {
     "name": "stdout",
     "output_type": "stream",
     "text": [
      "[5] Inserted price: 102933\n"
     ]
    },
    {
     "name": "stderr",
     "output_type": "stream",
     "text": [
      "INFO:snowflake.connector.cursor:query: [SELECT * FROM BTC_PRICES ORDER BY timestamp ASC;]\n",
      "INFO:snowflake.connector.cursor:query execution done\n"
     ]
    },
    {
     "name": "stdout",
     "output_type": "stream",
     "text": [
      "                    TIMESTAMP  PRICE_USD\n",
      "0  2025-05-06 13:13:41.253096    93784.0\n",
      "1  2025-05-06 13:24:33.290388    93784.0\n",
      "2  2025-05-06 13:25:58.125975    93788.0\n",
      "3  2025-05-06 13:26:08.742683    93788.0\n",
      "4  2025-05-06 13:26:19.517189    93788.0\n",
      "5  2025-05-06 13:26:30.297019    93788.0\n",
      "6  2025-05-06 13:26:40.984126    93788.0\n",
      "7  2025-05-06 14:06:16.844244    93843.0\n",
      "8  2025-05-06 14:06:30.734054    93843.0\n",
      "9  2025-05-06 14:06:41.544950    93880.0\n",
      "10 2025-05-06 14:06:52.580573    93880.0\n",
      "11 2025-05-06 14:07:03.494363    93880.0\n",
      "12 2025-05-06 14:07:42.548931    93909.0\n",
      "13 2025-05-06 14:07:53.360365    93909.0\n",
      "14 2025-05-06 14:08:04.069229    93909.0\n",
      "15 2025-05-06 14:08:14.892224    93909.0\n",
      "16 2025-05-06 14:08:25.778342    93909.0\n",
      "17 2025-05-06 14:10:17.507311    93917.0\n",
      "18 2025-05-06 14:10:28.235739    93917.0\n",
      "19 2025-05-06 14:10:39.044601    93917.0\n",
      "20 2025-05-06 14:10:50.030948    93935.0\n",
      "21 2025-05-06 14:11:00.813729    93935.0\n",
      "22 2025-05-17 01:27:19.365924   103037.0\n",
      "23 2025-05-17 01:27:25.053404   103037.0\n",
      "24 2025-05-17 01:27:35.980602   103037.0\n",
      "25 2025-05-17 01:27:46.819520   103022.0\n",
      "26 2025-05-17 01:27:57.476420   103022.0\n",
      "27 2025-05-17 01:28:08.182738   103022.0\n",
      "28 2025-05-17 01:31:48.856080   103022.0\n",
      "29 2025-05-17 01:32:30.815804   102962.0\n",
      "30 2025-05-17 01:32:41.515635   102962.0\n",
      "31 2025-05-17 01:32:52.324272   102953.0\n",
      "32 2025-05-17 01:33:03.005178   102962.0\n",
      "33 2025-05-17 01:33:13.631912   102953.0\n",
      "34 2025-05-17 01:35:56.981573   102953.0\n",
      "35 2025-05-17 01:37:33.756028   102936.0\n",
      "36 2025-05-17 01:37:44.402821   102936.0\n",
      "37 2025-05-17 01:37:55.173624   102936.0\n",
      "38 2025-05-17 01:38:05.885555   102936.0\n",
      "39 2025-05-17 01:38:16.719906   102933.0\n"
     ]
    }
   ],
   "source": [
    "import time\n",
    "import matplotlib.pyplot as plt\n",
    "\n",
    "# Loop to collect 5 prices at 10-second intervals\n",
    "for i in range(5):\n",
    "    btc_price = fetch_bitcoin_price()  # Fetch live price\n",
    "    insert_bitcoin_price(conn, btc_price)  # Insert into Snowflake\n",
    "    print(f\"[{i+1}] Inserted price: {btc_price}\")\n",
    "    time.sleep(10)  \n",
    "\n",
    "# Fetch data back from Snowflake\n",
    "btc_df = fetch_btc_data(conn)\n",
    "\n",
    "# Display last few rows\n",
    "print(btc_df)\n",
    "\n",
    "\n",
    "\n"
   ]
  },
  {
   "cell_type": "markdown",
   "id": "c3ca7050",
   "metadata": {},
   "source": [
    "## 5. Load & Analyze Results\n",
    "## 5.1 Compute Metrics\n",
    "Add calculated fields for moving averages and volatility."
   ]
  },
  {
   "cell_type": "code",
   "execution_count": 27,
   "id": "8914098f",
   "metadata": {},
   "outputs": [
    {
     "name": "stdout",
     "output_type": "stream",
     "text": [
      "                    TIMESTAMP  PRICE_USD          SMA_3   Volatility\n",
      "0  2025-05-06 13:13:41.253096    93784.0            NaN          NaN\n",
      "1  2025-05-06 13:24:33.290388    93784.0            NaN          NaN\n",
      "2  2025-05-06 13:25:58.125975    93788.0   93785.333333     2.309401\n",
      "3  2025-05-06 13:26:08.742683    93788.0   93786.666667     2.309401\n",
      "4  2025-05-06 13:26:19.517189    93788.0   93788.000000     0.000000\n",
      "5  2025-05-06 13:26:30.297019    93788.0   93788.000000     0.000000\n",
      "6  2025-05-06 13:26:40.984126    93788.0   93788.000000     0.000000\n",
      "7  2025-05-06 14:06:16.844244    93843.0   93806.333333    31.754265\n",
      "8  2025-05-06 14:06:30.734054    93843.0   93824.666667    31.754265\n",
      "9  2025-05-06 14:06:41.544950    93880.0   93855.333333    21.361960\n",
      "10 2025-05-06 14:06:52.580573    93880.0   93867.666667    21.361960\n",
      "11 2025-05-06 14:07:03.494363    93880.0   93880.000000     0.000073\n",
      "12 2025-05-06 14:07:42.548931    93909.0   93889.666667    16.743158\n",
      "13 2025-05-06 14:07:53.360365    93909.0   93899.333333    16.743158\n",
      "14 2025-05-06 14:08:04.069229    93909.0   93909.000000     0.000087\n",
      "15 2025-05-06 14:08:14.892224    93909.0   93909.000000     0.000087\n",
      "16 2025-05-06 14:08:25.778342    93909.0   93909.000000     0.000087\n",
      "17 2025-05-06 14:10:17.507311    93917.0   93911.666667     4.618802\n",
      "18 2025-05-06 14:10:28.235739    93917.0   93914.333333     4.618802\n",
      "19 2025-05-06 14:10:39.044601    93917.0   93917.000000     0.000088\n",
      "20 2025-05-06 14:10:50.030948    93935.0   93923.000000    10.392305\n",
      "21 2025-05-06 14:11:00.813729    93935.0   93929.000000    10.392305\n",
      "22 2025-05-17 01:27:19.365924   103037.0   96969.000000  5255.042150\n",
      "23 2025-05-17 01:27:25.053404   103037.0  100003.000000  5255.042150\n",
      "24 2025-05-17 01:27:35.980602   103037.0  103037.000000     0.000086\n",
      "25 2025-05-17 01:27:46.819520   103022.0  103032.000000     8.660254\n",
      "26 2025-05-17 01:27:57.476420   103022.0  103027.000000     8.660254\n",
      "27 2025-05-17 01:28:08.182738   103022.0  103022.000000     0.000086\n",
      "28 2025-05-17 01:31:48.856080   103022.0  103022.000000     0.000086\n",
      "29 2025-05-17 01:32:30.815804   102962.0  103002.000000    34.641016\n",
      "30 2025-05-17 01:32:41.515635   102962.0  102982.000000    34.641016\n",
      "31 2025-05-17 01:32:52.324272   102953.0  102959.000000     5.196152\n",
      "32 2025-05-17 01:33:03.005178   102962.0  102959.000000     5.196152\n",
      "33 2025-05-17 01:33:13.631912   102953.0  102956.000000     5.196152\n",
      "34 2025-05-17 01:35:56.981573   102953.0  102956.000000     5.196152\n",
      "35 2025-05-17 01:37:33.756028   102936.0  102947.333333     9.814955\n",
      "36 2025-05-17 01:37:44.402821   102936.0  102941.666667     9.814955\n",
      "37 2025-05-17 01:37:55.173624   102936.0  102936.000000     0.000086\n",
      "38 2025-05-17 01:38:05.885555   102936.0  102936.000000     0.000086\n",
      "39 2025-05-17 01:38:16.719906   102933.0  102935.000000     1.732051\n"
     ]
    }
   ],
   "source": [
    "# Calculate a 3-point Simple Moving Average\n",
    "btc_df['SMA_3'] = btc_df['PRICE_USD'].rolling(window=3).mean()\n",
    "\n",
    "# Calculate rolling standard deviation (volatility)\n",
    "btc_df['Volatility'] = btc_df['PRICE_USD'].rolling(window=3).std()\n",
    "\n",
    "# Show latest entries with indicators\n",
    "print(btc_df)\n"
   ]
  },
  {
   "cell_type": "markdown",
   "id": "d82b9f29",
   "metadata": {},
   "source": [
    "## 6. Analyze and Show Insights\n",
    "\n",
    "### 6.1 Plot Trend and Volatility"
   ]
  },
  {
   "cell_type": "code",
   "execution_count": 28,
   "id": "9f0fc050",
   "metadata": {},
   "outputs": [
    {
     "data": {
      "image/png": "[encoded data removed]",
      "text/plain": [
       "<Figure size 864x720 with 2 Axes>"
      ]
     },
     "metadata": {
      "needs_background": "light"
     },
     "output_type": "display_data"
    }
   ],
   "source": [
    "import matplotlib.pyplot as plt\n",
    "\n",
    "# Ensure latest metrics are visible\n",
    "btc_df['SMA_3'] = btc_df['PRICE_USD'].rolling(window=3).mean()\n",
    "btc_df['Volatility'] = btc_df['PRICE_USD'].rolling(window=3).std()\n",
    "\n",
    "# Set up subplots for price + volatility\n",
    "fig, axs = plt.subplots(2, 1, figsize=(12, 10), sharex=True)\n",
    "\n",
    "# Plot 1: Price + SMA\n",
    "axs[0].plot(btc_df['TIMESTAMP'], btc_df['PRICE_USD'], label='Actual Price', marker='o')\n",
    "axs[0].plot(btc_df['TIMESTAMP'], btc_df['SMA_3'], label='3-point SMA', linestyle='--')\n",
    "axs[0].set_title(\"Bitcoin Price with Simple Moving Average\")\n",
    "axs[0].set_ylabel(\"Price (USD)\")\n",
    "axs[0].legend()\n",
    "axs[0].grid(True)\n",
    "\n",
    "# Plot 2: Volatility\n",
    "axs[1].plot(btc_df['TIMESTAMP'], btc_df['Volatility'], label='Volatility (Std Dev)', color='orange', marker='x')\n",
    "axs[1].set_title(\"Rolling Volatility of Bitcoin Price\")\n",
    "axs[1].set_xlabel(\"Timestamp\")\n",
    "axs[1].set_ylabel(\"Volatility\")\n",
    "axs[1].legend()\n",
    "axs[1].grid(True)\n",
    "\n",
    "# Format x-axis\n",
    "plt.xticks(rotation=45)\n",
    "plt.tight_layout()\n",
    "\n",
    "# Save the combined plot as PNG\n",
    "plt.savefig(\"bitcoin_price_analysis.png\", dpi=300)\n",
    "plt.show()\n"
   ]
  },
  {
   "cell_type": "code",
   "execution_count": 30,
   "id": "8ecacc64",
   "metadata": {},
   "outputs": [],
   "source": [
    "btc_df['Moving_Avg'] = btc_df['PRICE_USD'].rolling(window=3).mean()\n",
    "btc_df['Price_Change'] = btc_df['PRICE_USD'].diff()\n",
    "\n"
   ]
  },
  {
   "cell_type": "markdown",
   "id": "720e7354",
   "metadata": {},
   "source": [
    "\n",
    "## Conclusion\n",
    "\n",
    "This notebook showcased a real-time data ingestion and analysis workflow using Python and Snowflake. We demonstrated how to fetch live Bitcoin prices, store them in Snowflake, and perform rolling analytics like moving averages and volatility computation.\n",
    "\n",
    "\n",
    "> Notebook written as part of DATA605 Project: TutorTask155_Spring2025  \n",
    "> For more, see [Bitcoin.example.ipynb](./Bitcoin.example.ipynb) and [Bitcoin.API.md](./Bitcoin.API.md)."
   ]
  }
 ],
 "metadata": {
  "kernelspec": {
   "display_name": "Python 3 (ipykernel)",
   "language": "python",
   "name": "python3"
  },
  "language_info": {
   "codemirror_mode": {
    "name": "ipython",
    "version": 3
   },
   "file_extension": ".py",
   "mimetype": "text/x-python",
   "name": "python",
   "nbconvert_exporter": "python",
   "pygments_lexer": "ipython3",
   "version": "3.6.4"
  }
 },
 "nbformat": 4,
 "nbformat_minor": 5
}
