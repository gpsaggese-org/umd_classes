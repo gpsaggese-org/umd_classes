{
 "cells": [
  {
   "cell_type": "markdown",
   "id": "63e29a89",
   "metadata": {},
   "source": [
    "# bitcoin.API.ipynb\n",
    "This notebook demonstrates core usage of the native Snowflake API using the Python connector.\n",
    "It does not include your full use case — just setup, authentication, and basic operations.\n",
    "It includes how to authenticate, create a table, and insert/query records in Snowflake."
   ]
  },
  {
   "cell_type": "code",
   "execution_count": 1,
   "id": "9167d2d8",
   "metadata": {},
   "outputs": [],
   "source": [
    "# Import dependencies\n",
    "import os\n",
    "import logging\n",
    "import snowflake.connector\n",
    "from dotenv import load_dotenv\n",
    "from datetime import datetime\n",
    "\n",
    "# Setup logging\n",
    "logging.basicConfig(level=logging.INFO)\n",
    "logger = logging.getLogger(__name__)\n"
   ]
  },
  {
   "cell_type": "markdown",
   "id": "8ff3c055",
   "metadata": {},
   "source": [
    "## Load environment variables\n",
    "These contain sensitive credentials like username, password, account, etc.\n"
   ]
  },
  {
   "cell_type": "code",
   "execution_count": 2,
   "id": "5f86ff27",
   "metadata": {},
   "outputs": [],
   "source": [
    "# %%\n",
    "load_dotenv()\n",
    "\n",
    "SNOWFLAKE_USER = os.getenv(\"SNOWFLAKE_USER\")\n",
    "SNOWFLAKE_PASSWORD = os.getenv(\"SNOWFLAKE_PASSWORD\")\n",
    "SNOWFLAKE_ACCOUNT = os.getenv(\"SNOWFLAKE_ACCOUNT\")\n",
    "SNOWFLAKE_WAREHOUSE = os.getenv(\"SNOWFLAKE_WAREHOUSE\")\n",
    "SNOWFLAKE_DATABASE = os.getenv(\"SNOWFLAKE_DATABASE\")\n",
    "SNOWFLAKE_SCHEMA = os.getenv(\"SNOWFLAKE_SCHEMA\")\n"
   ]
  },
  {
   "cell_type": "markdown",
   "id": "2b679254",
   "metadata": {},
   "source": [
    "## Connect to Snowflake"
   ]
  },
  {
   "cell_type": "code",
   "execution_count": 3,
   "id": "a4cd4b69",
   "metadata": {},
   "outputs": [
    {
     "name": "stderr",
     "output_type": "stream",
     "text": [
      "INFO:snowflake.connector.connection:Snowflake Connector for Python Version: 2.7.4, Python Version: 3.6.4, Platform: Windows-10-10.0.26100-SP0\n",
      "INFO:snowflake.connector.connection:This connection is in OCSP Fail Open Mode. TLS Certificates would be checked for validity and revocation status. Any other Certificate Revocation related exceptions or OCSP Responder failures would be disregarded in favor of connectivity.\n",
      "INFO:snowflake.connector.connection:Setting use_openssl_only mode to False\n",
      "INFO:__main__:✅ Connected to Snowflake\n"
     ]
    }
   ],
   "source": [
    "def connect_to_snowflake():\n",
    "    conn = snowflake.connector.connect(\n",
    "        user=SNOWFLAKE_USER,\n",
    "        password=SNOWFLAKE_PASSWORD,\n",
    "        account=SNOWFLAKE_ACCOUNT,\n",
    "        warehouse=SNOWFLAKE_WAREHOUSE,\n",
    "        database=SNOWFLAKE_DATABASE,\n",
    "        schema=SNOWFLAKE_SCHEMA\n",
    "    )\n",
    "    logger.info(\"✅ Connected to Snowflake\")\n",
    "    return conn\n",
    "\n",
    "conn = connect_to_snowflake()\n"
   ]
  },
  {
   "cell_type": "markdown",
   "id": "326dea51",
   "metadata": {},
   "source": [
    "## Create a Table\n",
    "# This table will be used to store time-stamped Bitcoin price values.\n"
   ]
  },
  {
   "cell_type": "code",
   "execution_count": 4,
   "id": "69c56efb",
   "metadata": {},
   "outputs": [
    {
     "name": "stderr",
     "output_type": "stream",
     "text": [
      "INFO:snowflake.connector.cursor:query: [CREATE TABLE IF NOT EXISTS BTC_PRICES ( timestamp TIMESTAMP, price_usd FLOAT );]\n",
      "INFO:snowflake.connector.cursor:query execution done\n",
      "INFO:__main__:✅ Table BTC_PRICES created.\n"
     ]
    }
   ],
   "source": [
    "def create_btc_table(conn):\n",
    "    query = \"\"\"\n",
    "    CREATE TABLE IF NOT EXISTS BTC_PRICES (\n",
    "        timestamp TIMESTAMP,\n",
    "        price_usd FLOAT\n",
    "    );\n",
    "    \"\"\"\n",
    "    conn.cursor().execute(query)\n",
    "    logger.info(\"✅ Table BTC_PRICES created.\")\n",
    "\n",
    "create_btc_table(conn)"
   ]
  },
  {
   "cell_type": "markdown",
   "id": "365872de",
   "metadata": {},
   "source": [
    "\n",
    "## Insert a Sample Record"
   ]
  },
  {
   "cell_type": "code",
   "execution_count": 5,
   "id": "15ff1d19",
   "metadata": {},
   "outputs": [
    {
     "name": "stderr",
     "output_type": "stream",
     "text": [
      "INFO:snowflake.connector.cursor:query: [INSERT INTO BTC_PRICES (timestamp, price_usd) VALUES ('2025-05-17 15:04:53.34964...]\n",
      "INFO:snowflake.connector.cursor:query execution done\n",
      "INFO:__main__:📥 Sample row inserted.\n"
     ]
    }
   ],
   "source": [
    "def insert_sample_price(conn):\n",
    "    query = \"\"\"\n",
    "    INSERT INTO BTC_PRICES (timestamp, price_usd)\n",
    "    VALUES (%s, %s);\n",
    "    \"\"\"\n",
    "    conn.cursor().execute(query, (datetime.utcnow(), 99999.99))\n",
    "    logger.info(\"📥 Sample row inserted.\")\n",
    "\n",
    "insert_sample_price(conn)"
   ]
  },
  {
   "cell_type": "markdown",
   "id": "7868da76",
   "metadata": {},
   "source": [
    "## Query the Table"
   ]
  },
  {
   "cell_type": "code",
   "execution_count": 6,
   "id": "08447cb5",
   "metadata": {},
   "outputs": [
    {
     "name": "stderr",
     "output_type": "stream",
     "text": [
      "INFO:snowflake.connector.cursor:query: [SELECT * FROM BTC_PRICES ORDER BY timestamp DESC LIMIT 5;]\n",
      "INFO:snowflake.connector.cursor:query execution done\n"
     ]
    },
    {
     "name": "stdout",
     "output_type": "stream",
     "text": [
      "(datetime.datetime(2025, 5, 17, 15, 4, 53, 349640), 99999.99)\n",
      "(datetime.datetime(2025, 5, 17, 1, 38, 16, 719906), 102933.0)\n",
      "(datetime.datetime(2025, 5, 17, 1, 38, 5, 885555), 102936.0)\n",
      "(datetime.datetime(2025, 5, 17, 1, 37, 55, 173624), 102936.0)\n",
      "(datetime.datetime(2025, 5, 17, 1, 37, 44, 402821), 102936.0)\n"
     ]
    }
   ],
   "source": [
    "def query_btc_prices(conn):\n",
    "    cursor = conn.cursor()\n",
    "    cursor.execute(\"SELECT * FROM BTC_PRICES ORDER BY timestamp DESC LIMIT 5;\")\n",
    "    results = cursor.fetchall()\n",
    "    for row in results:\n",
    "        print(row)\n",
    "\n",
    "query_btc_prices(conn)"
   ]
  },
  {
   "cell_type": "markdown",
   "id": "91f196fc",
   "metadata": {},
   "source": [
    "\n",
    "# This notebook demonstrates basic usage of Snowflake via Python: connect, create table, insert, and query.\n",
    "The full project implementation is available in `bitcoin.example.ipynb`."
   ]
  }
 ],
 "metadata": {
  "kernelspec": {
   "display_name": "Python 3 (ipykernel)",
   "language": "python",
   "name": "python3"
  },
  "language_info": {
   "codemirror_mode": {
    "name": "ipython",
    "version": 3
   },
   "file_extension": ".py",
   "mimetype": "text/x-python",
   "name": "python",
   "nbconvert_exporter": "python",
   "pygments_lexer": "ipython3",
   "version": "3.6.4"
  }
 },
 "nbformat": 4,
 "nbformat_minor": 5
}
