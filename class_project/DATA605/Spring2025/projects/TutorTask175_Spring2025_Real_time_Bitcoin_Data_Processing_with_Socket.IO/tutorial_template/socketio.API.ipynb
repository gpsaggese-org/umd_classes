{
 "cells": [
  {
   "cell_type": "markdown",
   "id": "183c2248-ea3d-43ba-b87e-d821bba1bbc6",
   "metadata": {},
   "source": [
    "# Template API Notebook\n",
    "\n",
    "This is a template notebook. The first heading should be the title of what notebook is about. For example, if it is a neo4j tutorial the heading should be `Neo4j API`.\n",
    "\n",
    "- Add description of what the notebook does.\n",
    "- Point to references, e.g. (neo4j.API.md)\n",
    "- Add citations.\n",
    "- Keep the notebook flow clear.\n",
    "- Comments should be imperative and have a period at the end.\n",
    "- Your code should be well commented. \n",
    "\n",
    "The name of this notebook should in the following format:\n",
    "- if the notebook is exploring `pycaret API`, then it is `pycaret.API.ipynb`\n",
    "\n",
    "Follow the reference to write notebooks in a clear manner: https://github.com/causify-ai/helpers/blob/master/docs/coding/all.jupyter_notebook.how_to_guide.md"
   ]
  },
  {
   "cell_type": "markdown",
   "id": "d3b2f997-5c9b-4238-b6d5-e5f2cea43809",
   "metadata": {},
   "source": [
    "## Imports"
   ]
  },
  {
   "cell_type": "code",
   "execution_count": 2,
   "id": "d1480ee9-d6a6-437d-b927-da6cbb05bdf5",
   "metadata": {},
   "outputs": [],
   "source": [
    "from socketio_utils import simulate_fake_btc_stream, compute_sma, fetch_btc_price\n"
   ]
  },
  {
   "cell_type": "code",
   "execution_count": 3,
   "id": "d426bc71",
   "metadata": {},
   "outputs": [
    {
     "name": "stdout",
     "output_type": "stream",
     "text": [
      "[1] SIM BTC Price: $27547.68\n",
      "[2] SIM BTC Price: $27540.03\n",
      "[3] SIM BTC Price: $27589.24\n",
      "[4] SIM BTC Price: $27598.91\n",
      "[5] SIM BTC Price: $27637.77, SMA: 27582.72\n"
     ]
    }
   ],
   "source": [
    "simulate_fake_btc_stream(n=5, interval=1)\n",
    "\n"
   ]
  },
  {
   "cell_type": "code",
   "execution_count": 4,
   "id": "60bda70a",
   "metadata": {},
   "outputs": [
    {
     "name": "stdout",
     "output_type": "stream",
     "text": [
      "SMA of last 3 prices: 27536.67\n"
     ]
    }
   ],
   "source": [
    "sample_prices = [27500.0, 27520.0, 27480.0, 27540.0, 27590.0]\n",
    "sma = compute_sma(sample_prices, window=3)\n",
    "print(f\"SMA of last 3 prices: {sma:.2f}\")"
   ]
  },
  {
   "cell_type": "markdown",
   "id": "04ec9eec",
   "metadata": {},
   "source": [
    "⚠️ The fetch_btc_price function demonstrates CoinCap API usage. Due to strict public rate limits, it may occasionally return HTTP 429. This is handled gracefully in the implementation.\n"
   ]
  },
  {
   "cell_type": "code",
   "execution_count": null,
   "id": "1244e846",
   "metadata": {},
   "outputs": [
    {
     "name": "stdout",
     "output_type": "stream",
     "text": [
      "[ERROR 429] Rate limit hit. Sleeping for 60 seconds...\n",
      "None\n"
     ]
    }
   ],
   "source": [
    "# price = fetch_btc_price()\n",
    "# print(price)\n"
   ]
  }
 ],
 "metadata": {
  "kernelspec": {
   "display_name": ".venv",
   "language": "python",
   "name": "python3"
  },
  "language_info": {
   "codemirror_mode": {
    "name": "ipython",
    "version": 3
   },
   "file_extension": ".py",
   "mimetype": "text/x-python",
   "name": "python",
   "nbconvert_exporter": "python",
   "pygments_lexer": "ipython3",
   "version": "3.13.3"
  }
 },
 "nbformat": 4,
 "nbformat_minor": 5
}
