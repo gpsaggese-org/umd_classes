{
 "cells": [
  {
   "cell_type": "code",
   "execution_count": 1,
   "metadata": {},
   "outputs": [],
   "source": [
    "import json\n",
    "from websocket import WebSocketApp\n",
    "from graph_utils import  insert_transaction\n",
    "from config import BLOCKCHAIN_WS_URL,BLOCKSTREAM_API"
   ]
  },
  {
   "cell_type": "markdown",
   "metadata": {},
   "source": [
    "DATA LOADING\n",
    "\n",
    "Note - Loaded only one Block of APR20 data. The Loaded data is stored in load_backup_to_db file."
   ]
  },
  {
   "cell_type": "code",
   "execution_count": null,
   "metadata": {},
   "outputs": [],
   "source": [
    "import requests\n",
    "import time\n",
    "import json\n",
    "\n",
    "\n",
    "# Convert your date range to UNIX timestamps\n",
    "START_DATE = \"2025-04-20\"\n",
    "END_DATE = \"2025-04-20\"\n",
    "\n",
    "# Helper: convert date to unix timestamp\n",
    "def date_to_timestamp(date_str):\n",
    "    return int(time.mktime(time.strptime(date_str, \"%Y-%m-%d\")))\n",
    "\n",
    "start_timestamp = date_to_timestamp(START_DATE)\n",
    "end_timestamp = date_to_timestamp(END_DATE) + 86399  # include the whole end day\n",
    "\n",
    "def get_block_height_by_timestamp(target_ts, search_direction='up'):\n",
    "    \"\"\"\n",
    "    Find the first block >= (or <= if search_direction='down') target_ts using binary search.\n",
    "    \"\"\"\n",
    "    # Get latest block height\n",
    "    tip_height = int(requests.get(f\"{BLOCKSTREAM_API}/blocks/tip/height\").text)\n",
    "    low, high = 0, tip_height\n",
    "\n",
    "    while low <= high:\n",
    "        mid = (low + high) // 2\n",
    "        r = requests.get(f\"{BLOCKSTREAM_API}/block-height/{mid}\")\n",
    "        if r.status_code != 200:\n",
    "            break\n",
    "        block_hash = r.text\n",
    "        block = requests.get(f\"{BLOCKSTREAM_API}/block/{block_hash}\").json()\n",
    "        block_time = block['timestamp']\n",
    "        if block_time < target_ts:\n",
    "            low = mid + 1\n",
    "        elif block_time > target_ts:\n",
    "            high = mid - 1\n",
    "        else:\n",
    "            return mid\n",
    "    return low if search_direction == 'up' else high\n",
    "\n",
    "def get_block_hash(height):\n",
    "    r = requests.get(f\"{BLOCKSTREAM_API}/block-height/{height}\")\n",
    "    if r.status_code == 200:\n",
    "        return r.text\n",
    "    return None\n",
    "\n",
    "def get_block_time(block_hash):\n",
    "    r = requests.get(f\"{BLOCKSTREAM_API}/block/{block_hash}\")\n",
    "    if r.status_code == 200:\n",
    "        return r.json()['timestamp']\n",
    "    return None\n",
    "\n",
    "def get_block_txids(block_hash):\n",
    "    r = requests.get(f\"{BLOCKSTREAM_API}/block/{block_hash}/txids\")\n",
    "    if r.status_code == 200:\n",
    "        return r.json()\n",
    "    return []\n",
    "\n",
    "def get_tx(txid):\n",
    "    r = requests.get(f\"{BLOCKSTREAM_API}/tx/{txid}\")\n",
    "    if r.status_code == 200:\n",
    "        return r.json()\n",
    "    return None\n",
    "\n",
    "def filter_and_format_tx(tx):\n",
    "    # Build the structure as specified\n",
    "    return {\n",
    "        \"txid\": tx[\"txid\"],\n",
    "        \"status\": tx[\"status\"],\n",
    "        \"vin\": [\n",
    "            {\n",
    "                \"prevout\": {\n",
    "                    \"scriptpubkey_address\": vin[\"prevout\"].get(\"scriptpubkey_address\"),\n",
    "                    \"value\": vin[\"prevout\"].get(\"value\")\n",
    "                } if vin.get(\"prevout\") else {}\n",
    "            } for vin in tx.get(\"vin\", [])\n",
    "        ],\n",
    "        \"vout\": [\n",
    "            {\n",
    "                \"scriptpubkey_address\": vout.get(\"scriptpubkey_address\"),\n",
    "                \"value\": vout.get(\"value\")\n",
    "            } for vout in tx.get(\"vout\", [])\n",
    "        ]\n",
    "    }\n",
    "\n",
    "def main():\n",
    "    print(\"Locating block heights for your date range...\")\n",
    "    start_height = get_block_height_by_timestamp(start_timestamp, 'up')\n",
    "    end_height = get_block_height_by_timestamp(end_timestamp, 'down')\n",
    "    print(f\"Block heights from {start_height} to {end_height}\")\n",
    "\n",
    "    all_txs = []\n",
    "    for height in range(893204, 893204 + 1): # Processing only for one block by hardcoding the value, later it'll be done for multiple blocks\n",
    "        block_hash = get_block_hash(height)\n",
    "        if not block_hash:\n",
    "            continue\n",
    "        block_time = get_block_time(block_hash)\n",
    "        if not (start_timestamp <= block_time <= end_timestamp):\n",
    "            continue\n",
    "        print(f\"Processing block {height} at {block_time}...\")\n",
    "        txids = get_block_txids(block_hash)\n",
    "        cnt=0\n",
    "        for txid in txids:\n",
    "            tx = get_tx(txid)\n",
    "            if tx:\n",
    "                tx_struct = filter_and_format_tx(tx)\n",
    "                all_txs.append(tx_struct)\n",
    "            cnt+=1\n",
    "            print(f\"{cnt}/{len(txids)}\")\n",
    "        print(tx_struct)\n",
    "        time.sleep(0.2)  # be nice to the API\n",
    "\n",
    "    # Write to JSON file\n",
    "    with open(\"bitcoin_transactions_backup.json\", \"w\", encoding='utf-8') as f:\n",
    "        json.dump(all_txs, f, indent=2, ensure_ascii=False)\n",
    "\n",
    "    print(f\"Saved {len(all_txs)} transactions to bitcoin_transactions_backup.json\")\n",
    "\n",
    "if __name__ == \"__main__\":\n",
    "    main()\n"
   ]
  },
  {
   "cell_type": "code",
   "execution_count": 7,
   "metadata": {},
   "outputs": [
    {
     "name": "stdout",
     "output_type": "stream",
     "text": [
      "Loaded 7163 transactions from backup file.\n",
      "Found 518 unconfirmed transactions.\n"
     ]
    },
    {
     "name": "stderr",
     "output_type": "stream",
     "text": [
      " 98%|█████████▊| 507/518 [05:40<00:07,  1.54it/s]"
     ]
    },
    {
     "name": "stdout",
     "output_type": "stream",
     "text": [
      "Request failed: 404 Client Error: Not Found for url: https://blockstream.info/api/tx/590e44ee0fada63174b35ab87c19ea41d2d0a5184126ad6161aeb65f42feb0aa. Retrying in 1 seconds...\n",
      "Request failed: 404 Client Error: Not Found for url: https://blockstream.info/api/tx/590e44ee0fada63174b35ab87c19ea41d2d0a5184126ad6161aeb65f42feb0aa. Retrying in 2 seconds...\n",
      "Request failed: 404 Client Error: Not Found for url: https://blockstream.info/api/tx/590e44ee0fada63174b35ab87c19ea41d2d0a5184126ad6161aeb65f42feb0aa. Retrying in 4 seconds...\n",
      "Request failed: 404 Client Error: Not Found for url: https://blockstream.info/api/tx/590e44ee0fada63174b35ab87c19ea41d2d0a5184126ad6161aeb65f42feb0aa. Retrying in 8 seconds...\n",
      "Request failed: 404 Client Error: Not Found for url: https://blockstream.info/api/tx/590e44ee0fada63174b35ab87c19ea41d2d0a5184126ad6161aeb65f42feb0aa. Retrying in 16 seconds...\n"
     ]
    },
    {
     "name": "stderr",
     "output_type": "stream",
     "text": [
      "100%|█████████▉| 517/518 [06:18<00:01,  1.08s/it]"
     ]
    },
    {
     "name": "stdout",
     "output_type": "stream",
     "text": [
      "Request failed: 404 Client Error: Not Found for url: https://blockstream.info/api/tx/36215607fa1d6aaf88ab70cff6e5e3d0b59ccd263ffa782609c06abe279f6324. Retrying in 1 seconds...\n",
      "Request failed: 404 Client Error: Not Found for url: https://blockstream.info/api/tx/36215607fa1d6aaf88ab70cff6e5e3d0b59ccd263ffa782609c06abe279f6324. Retrying in 2 seconds...\n",
      "Request failed: 404 Client Error: Not Found for url: https://blockstream.info/api/tx/36215607fa1d6aaf88ab70cff6e5e3d0b59ccd263ffa782609c06abe279f6324. Retrying in 4 seconds...\n",
      "Request failed: 404 Client Error: Not Found for url: https://blockstream.info/api/tx/36215607fa1d6aaf88ab70cff6e5e3d0b59ccd263ffa782609c06abe279f6324. Retrying in 8 seconds...\n",
      "Request failed: 404 Client Error: Not Found for url: https://blockstream.info/api/tx/36215607fa1d6aaf88ab70cff6e5e3d0b59ccd263ffa782609c06abe279f6324. Retrying in 16 seconds...\n"
     ]
    },
    {
     "name": "stderr",
     "output_type": "stream",
     "text": [
      "100%|██████████| 518/518 [06:50<00:00,  1.26it/s]"
     ]
    },
    {
     "name": "stdout",
     "output_type": "stream",
     "text": [
      "Updated {updated_count} out of {unconfirmed_txs_count} unconfirmed transactions\n"
     ]
    },
    {
     "name": "stderr",
     "output_type": "stream",
     "text": [
      "\n"
     ]
    }
   ],
   "source": [
    "\n"
   ]
  }
 ],
 "metadata": {
  "kernelspec": {
   "display_name": "Python 3",
   "language": "python",
   "name": "python3"
  },
  "language_info": {
   "codemirror_mode": {
    "name": "ipython",
    "version": 3
   },
   "file_extension": ".py",
   "mimetype": "text/x-python",
   "name": "python",
   "nbconvert_exporter": "python",
   "pygments_lexer": "ipython3",
   "version": "3.12.5"
  }
 },
 "nbformat": 4,
 "nbformat_minor": 2
}
