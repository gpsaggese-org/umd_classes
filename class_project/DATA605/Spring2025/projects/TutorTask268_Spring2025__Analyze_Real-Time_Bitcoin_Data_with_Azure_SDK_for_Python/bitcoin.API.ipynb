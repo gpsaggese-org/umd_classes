{
 "cells": [
  {
   "cell_type": "markdown",
   "id": "1cb0cc20-2d10-43f9-a153-d886f6aaa2ca",
   "metadata": {},
   "source": [
    "# Bitcoin API Demo – Using Azure SDK and Utility Wrappers\n",
    "\n",
    "This notebook demonstrates how to use the modular API provided in `bitcoin_utils.py` to:\n",
    "\n",
    "- Fetch real-time Bitcoin prices from CoinGecko\n",
    "- Authenticate with Azure using synchronous and asynchronous credentials\n",
    "- Upload event data to Azure Blob Storage\n",
    "\n",
    "All core logic is imported from the utility module, allowing us to keep this notebook clean and focused on usage.\n"
   ]
  },
  {
   "cell_type": "markdown",
   "id": "de5b5ca3-5d7a-4c6b-b46b-2a70af969516",
   "metadata": {},
   "source": [
    "### Imports and Setup"
   ]
  },
  {
   "cell_type": "code",
   "execution_count": 1,
   "id": "e0021c18-4564-4975-a4c2-ebd9dd250346",
   "metadata": {},
   "outputs": [],
   "source": [
    "import os\n",
    "import asyncio\n",
    "from dotenv import load_dotenv\n",
    "from azure.storage.blob.aio import BlobServiceClient\n",
    "\n",
    "from bitcoin_utils import (\n",
    "    fetch_bitcoin_price_usd,\n",
    "    get_azure_sync_credential,\n",
    "    get_azure_async_credential,\n",
    "    upload_buffer_to_blob\n",
    ")\n"
   ]
  },
  {
   "cell_type": "markdown",
   "id": "2d0d5556-b64e-4eb2-be98-afc242c17cd2",
   "metadata": {},
   "source": [
    "### Loading Environment Variables"
   ]
  },
  {
   "cell_type": "code",
   "execution_count": 2,
   "id": "e13433f9-2d9d-4fe1-a9a8-fb33abf52563",
   "metadata": {},
   "outputs": [
    {
     "data": {
      "text/plain": [
       "True"
      ]
     },
     "execution_count": 2,
     "metadata": {},
     "output_type": "execute_result"
    }
   ],
   "source": [
    "# Load .env file so we can access credentials and config\n",
    "load_dotenv()"
   ]
  },
  {
   "cell_type": "markdown",
   "id": "a285c822-b8af-4b53-b485-6aaf4e692186",
   "metadata": {},
   "source": [
    "### Fetching Bitcoin Price (Sync)"
   ]
  },
  {
   "cell_type": "code",
   "execution_count": 3,
   "id": "10dcc73e-25bc-4619-be63-a9b43a71b676",
   "metadata": {},
   "outputs": [
    {
     "name": "stdout",
     "output_type": "stream",
     "text": [
      "Current BTC price (USD): 103852.0\n"
     ]
    }
   ],
   "source": [
    "btc_price = fetch_bitcoin_price_usd()\n",
    "\n",
    "if btc_price is not None:\n",
    "    print(f\"Current BTC price (USD): {btc_price}\")\n",
    "else:\n",
    "    print(\"Failed to fetch Bitcoin price.\")\n"
   ]
  },
  {
   "cell_type": "markdown",
   "id": "d394c515-8bf0-431f-abb5-76243d7fd14a",
   "metadata": {},
   "source": [
    "### Getting Azure Credentials"
   ]
  },
  {
   "cell_type": "code",
   "execution_count": 4,
   "id": "e4117a56-c766-4d48-93d7-d5cf733d8fd9",
   "metadata": {},
   "outputs": [
    {
     "name": "stdout",
     "output_type": "stream",
     "text": [
      "Azure credentials loaded.\n"
     ]
    }
   ],
   "source": [
    "# Get a synchronous Azure credential (for use with EventHubProducerClient)\n",
    "sync_credential = get_azure_sync_credential()\n",
    "\n",
    "# Get an asynchronous Azure credential (for use with EventHubConsumerClient or Blob Storage)\n",
    "async_credential = get_azure_async_credential()\n",
    "\n",
    "print(\"Azure credentials loaded.\")\n"
   ]
  },
  {
   "cell_type": "markdown",
   "id": "f5d84158-dd2f-4164-a97d-90466aeb9926",
   "metadata": {},
   "source": [
    "### Preparing Dummy Event Data"
   ]
  },
  {
   "cell_type": "code",
   "execution_count": 5,
   "id": "871c361b-980f-4457-a337-8b79f074219a",
   "metadata": {},
   "outputs": [
    {
     "name": "stdout",
     "output_type": "stream",
     "text": [
      "Prepared dummy event records for upload.\n"
     ]
    }
   ],
   "source": [
    "import json\n",
    "import time\n",
    "\n",
    "dummy_events = [\n",
    "    {\n",
    "        \"currency\": \"BTC\",\n",
    "        \"price_usd\": 103000.0,\n",
    "        \"timestamp\": time.time()\n",
    "    },\n",
    "    {\n",
    "        \"currency\": \"BTC\",\n",
    "        \"price_usd\": 103010.5,\n",
    "        \"timestamp\": time.time()\n",
    "    },\n",
    "    {\n",
    "        \"currency\": \"BTC\",\n",
    "        \"price_usd\": 103020.8,\n",
    "        \"timestamp\": time.time()\n",
    "    }\n",
    "]\n",
    "\n",
    "print(\"Prepared dummy event records for upload.\")\n"
   ]
  },
  {
   "cell_type": "markdown",
   "id": "bae78779-cf7d-402f-9129-ee255b669350",
   "metadata": {},
   "source": [
    "###  Uploading to Azure Blob Storage (Async)"
   ]
  },
  {
   "cell_type": "code",
   "execution_count": 6,
   "id": "b37bdf8c-c1ca-420d-9e43-57b4a5d1fa82",
   "metadata": {},
   "outputs": [
    {
     "name": "stderr",
     "output_type": "stream",
     "text": [
      "Unclosed client session\n",
      "client_session: <aiohttp.client.ClientSession object at 0x00000282662BD4F0>\n",
      "Unclosed connector\n",
      "connections: ['deque([(<aiohttp.client_proto.ResponseHandler object at 0x0000028266543470>, 5485.281)])']\n",
      "connector: <aiohttp.connector.TCPConnector object at 0x0000028266523CE0>\n"
     ]
    }
   ],
   "source": [
    "# Define blob container and account URL from environment\n",
    "container_name = os.getenv(\"STORAGE_CONTAINER_NAME\")\n",
    "account_url = os.getenv(\"STORAGE_ACCOUNT_URL\")\n",
    "\n",
    "# Ensure both are loaded\n",
    "assert container_name and account_url, \"Missing storage config in .env\"\n",
    "\n",
    "# Upload using the async wrapper\n",
    "async def test_upload():\n",
    "    blob_client = BlobServiceClient(account_url=account_url, credential=async_credential)\n",
    "    await upload_buffer_to_blob(blob_client, container_name, dummy_events)\n",
    "\n",
    "# Run the upload\n",
    "await test_upload()\n"
   ]
  },
  {
   "cell_type": "markdown",
   "id": "509a9562-619f-4386-9285-2bb9b64ab05d",
   "metadata": {},
   "source": [
    "## Conclusion "
   ]
  },
  {
   "cell_type": "markdown",
   "id": "943f569d-3740-4cca-bba5-85534aebb187",
   "metadata": {},
   "source": [
    "In this notebook, we demonstrated how to:\n",
    "- Use the API wrapper functions from `bitcoin_utils.py`\n",
    "- Fetch live Bitcoin data using CoinGecko\n",
    "- Authenticate with Azure securely via environment variables\n",
    "- Upload event records to Azure Blob Storage asynchronously\n",
    "\n",
    "By modularizing all logic into a utility module, we made this notebook easy to understand and beginner-friendly.\n",
    "\n",
    "You can now integrate these APIs into your own data engineering or real-time analytics pipelines.\n"
   ]
  }
 ],
 "metadata": {
  "kernelspec": {
   "display_name": "Python 3 (ipykernel)",
   "language": "python",
   "name": "python3"
  },
  "language_info": {
   "codemirror_mode": {
    "name": "ipython",
    "version": 3
   },
   "file_extension": ".py",
   "mimetype": "text/x-python",
   "name": "python",
   "nbconvert_exporter": "python",
   "pygments_lexer": "ipython3",
   "version": "3.12.3"
  }
 },
 "nbformat": 4,
 "nbformat_minor": 5
}
