{
 "cells": [
  {
   "cell_type": "markdown",
   "id": "b6555970-d3ac-45a0-b274-0c1e8b910e8f",
   "metadata": {},
   "source": [
    "# End-to-End Real-Time Bitcoin Pipeline Simulation\n",
    "\n",
    "This notebook demonstrates a full simulation of the real-time Bitcoin ingestion pipeline built using the Azure SDK for Python.\n",
    "\n",
    "We will:\n",
    "1. Fetch live Bitcoin price using CoinGecko\n",
    "2. Simulate streaming by wrapping the data into an event\n",
    "3. Simulate receiving and uploading that event to Azure Blob Storage\n",
    "\n",
    "All logic is powered by `bitcoin_utils.py`. This notebook simulates the actual pipeline in one place for demonstration.\n"
   ]
  },
  {
   "cell_type": "markdown",
   "id": "16346c92-edec-4559-aa59-277a4ec3da33",
   "metadata": {},
   "source": [
    "### Imports and Setup"
   ]
  },
  {
   "cell_type": "code",
   "execution_count": 1,
   "id": "08b4f03d-856e-4b62-a9ba-8aecf151335c",
   "metadata": {},
   "outputs": [],
   "source": [
    "import os\n",
    "import json\n",
    "import time\n",
    "import asyncio\n",
    "from dotenv import load_dotenv\n",
    "from azure.storage.blob.aio import BlobServiceClient\n",
    "\n",
    "from bitcoin_utils import (\n",
    "    fetch_bitcoin_price_usd,\n",
    "    get_azure_async_credential,\n",
    "    upload_buffer_to_blob\n",
    ")\n"
   ]
  },
  {
   "cell_type": "markdown",
   "id": "83601219-ef39-41e8-9ca6-708b6fc98b00",
   "metadata": {},
   "source": [
    "### Loading Environment Variables"
   ]
  },
  {
   "cell_type": "code",
   "execution_count": 2,
   "id": "61b7ef9b-b255-4281-afbb-408713401c1a",
   "metadata": {},
   "outputs": [
    {
     "data": {
      "text/plain": [
       "True"
      ]
     },
     "execution_count": 2,
     "metadata": {},
     "output_type": "execute_result"
    }
   ],
   "source": [
    "# Load environment variables from .env\n",
    "load_dotenv()\n"
   ]
  },
  {
   "cell_type": "markdown",
   "id": "51e19465-bbc5-4916-9002-c7468840fed9",
   "metadata": {},
   "source": [
    "###  Fetch Real-Time Bitcoin Price"
   ]
  },
  {
   "cell_type": "code",
   "execution_count": 3,
   "id": "171ba578-6805-4505-ae97-5d3a30972528",
   "metadata": {},
   "outputs": [
    {
     "name": "stdout",
     "output_type": "stream",
     "text": [
      "Live BTC price fetched: $103711.0\n"
     ]
    }
   ],
   "source": [
    "btc_price = fetch_bitcoin_price_usd()\n",
    "\n",
    "if btc_price is not None:\n",
    "    print(f\"Live BTC price fetched: ${btc_price}\")\n",
    "else:\n",
    "    raise ValueError(\"Failed to fetch Bitcoin price.\")\n"
   ]
  },
  {
   "cell_type": "markdown",
   "id": "7a500017-0e63-4673-b560-561a77364aa4",
   "metadata": {},
   "source": [
    "### Simulate EventHub Stream Message"
   ]
  },
  {
   "cell_type": "code",
   "execution_count": 4,
   "id": "52de357b-5c02-4f58-a0bf-bf2d31d4b6d3",
   "metadata": {},
   "outputs": [
    {
     "name": "stdout",
     "output_type": "stream",
     "text": [
      "Simulated event prepared for 'streaming':\n",
      "{\n",
      "  \"currency\": \"BTC\",\n",
      "  \"price_usd\": 103711.0,\n",
      "  \"timestamp\": 1747406808.3219166\n",
      "}\n"
     ]
    }
   ],
   "source": [
    "# Simulate streaming an event\n",
    "event = {\n",
    "    \"currency\": \"BTC\",\n",
    "    \"price_usd\": btc_price,\n",
    "    \"timestamp\": time.time()\n",
    "}\n",
    "\n",
    "event_batch = [event]  # Simulated buffer of one event\n",
    "\n",
    "print(\"Simulated event prepared for 'streaming':\")\n",
    "print(json.dumps(event, indent=2))\n"
   ]
  },
  {
   "cell_type": "markdown",
   "id": "a0f87423-98f6-4efc-b907-ed072bce14dd",
   "metadata": {},
   "source": [
    "### Simulate Receiving + Uploading Event to Blob"
   ]
  },
  {
   "cell_type": "code",
   "execution_count": 5,
   "id": "a84fec16-e388-4540-976c-e2e1982cc100",
   "metadata": {},
   "outputs": [
    {
     "name": "stderr",
     "output_type": "stream",
     "text": [
      "Unclosed client session\n",
      "client_session: <aiohttp.client.ClientSession object at 0x00000201A56FE4B0>\n",
      "Unclosed connector\n",
      "connections: ['deque([(<aiohttp.client_proto.ResponseHandler object at 0x00000201A56E2F30>, 6522.046)])']\n",
      "connector: <aiohttp.connector.TCPConnector object at 0x00000201A56FE600>\n",
      "Unclosed client session\n",
      "client_session: <aiohttp.client.ClientSession object at 0x00000201A4FC6840>\n",
      "Unclosed connector\n",
      "connections: ['deque([(<aiohttp.client_proto.ResponseHandler object at 0x00000201A56E3590>, 6522.265)])']\n",
      "connector: <aiohttp.connector.TCPConnector object at 0x00000201A554C2F0>\n"
     ]
    }
   ],
   "source": [
    "# Get Azure Blob Storage details from environment\n",
    "container_name = os.getenv(\"STORAGE_CONTAINER_NAME\")\n",
    "account_url = os.getenv(\"STORAGE_ACCOUNT_URL\")\n",
    "\n",
    "assert container_name and account_url, \"Missing container or account URL.\"\n",
    "\n",
    "# Use async credential to connect and upload\n",
    "async def simulate_receiver_upload():\n",
    "    credential = get_azure_async_credential()\n",
    "    blob_service = BlobServiceClient(account_url=account_url, credential=credential)\n",
    "    await upload_buffer_to_blob(blob_service, container_name, event_batch)\n",
    "\n",
    "await simulate_receiver_upload()\n"
   ]
  },
  {
   "cell_type": "markdown",
   "id": "2e6a55fd-6f40-4a38-9227-d86957b2e178",
   "metadata": {},
   "source": [
    "## Simulation Complete\n",
    "\n",
    "simulated a complete real-time ingestion pipeline:\n",
    "\n",
    "-  Fetched live Bitcoin data\n",
    "-  Created a streaming-style JSON event\n",
    "-  Uploaded the event to Azure Blob Storage using the same logic as the receiver\n",
    "\n",
    "You can now check your Azure portal under your blob container to verify that a new JSON file has been saved.\n"
   ]
  }
 ],
 "metadata": {
  "kernelspec": {
   "display_name": "Python 3 (ipykernel)",
   "language": "python",
   "name": "python3"
  },
  "language_info": {
   "codemirror_mode": {
    "name": "ipython",
    "version": 3
   },
   "file_extension": ".py",
   "mimetype": "text/x-python",
   "name": "python",
   "nbconvert_exporter": "python",
   "pygments_lexer": "ipython3",
   "version": "3.12.3"
  }
 },
 "nbformat": 4,
 "nbformat_minor": 5
}
