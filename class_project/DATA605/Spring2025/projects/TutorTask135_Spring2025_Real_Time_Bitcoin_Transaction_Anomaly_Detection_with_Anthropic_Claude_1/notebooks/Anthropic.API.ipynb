{
 "cells": [
  {
   "cell_type": "markdown",
   "id": "4b0fbc0a-b7a7-442d-849d-0896b8210301",
   "metadata": {},
   "source": [
    "# Getting Started with Anthropic Claude for Explainable AI\n",
    "\n",
    "This tutorial introduces **Anthropic Claude**, a constitutional AI model, and demonstrates how to use it to generate structured natural language explanations for structured data inputs — especially for use cases like financial anomaly detection.\n",
    "\n",
    "The goal of this tutorial is to get you up and running with Claude in under 60 minutes."
   ]
  },
  {
   "cell_type": "markdown",
   "id": "d3d8513b-cf2f-40bd-a944-1e73b939b813",
   "metadata": {},
   "source": [
    "## 1. What is Anthropic Claude?\n",
    "\n",
    "Anthropic Claude is a family of large language models (LLMs) developed by Anthropic. It is designed to follow Constitutional AI principles — meaning it generates helpful, honest, and harmless output.\n",
    "\n",
    "Claude is especially well-suited for:\n",
    "- Structured prompt interpretation\n",
    "- Chain-of-thought reasoning\n",
    "- Financial analysis and explanation\n",
    "- Auditable decision support in regulated industries\n",
    "\n",
    "This tutorial focuses on using Claude for explainable AI — i.e., getting human-readable explanations for structured data anomalies."
   ]
  },
  {
   "cell_type": "code",
   "execution_count": 3,
   "id": "f7ac8abf-e3a0-4684-bad9-30af0e508f8d",
   "metadata": {},
   "outputs": [],
   "source": [
    "%load_ext autoreload\n",
    "%autoreload 2\n",
    "%matplotlib inline"
   ]
  },
  {
   "cell_type": "markdown",
   "id": "c1e1e4d4-4a13-48eb-9504-c7f95c8401c9",
   "metadata": {},
   "source": [
    "## 2. Installing and Authenticating Claude API\n",
    "\n",
    "Anthropic provides a Python SDK named `anthropic`.\n",
    "\n",
    "Install it using pip:"
   ]
  },
  {
   "cell_type": "code",
   "execution_count": 6,
   "id": "5f0cdf19-3240-4793-8b21-574113525043",
   "metadata": {},
   "outputs": [],
   "source": [
    "!pip install --quiet anthropic"
   ]
  },
  {
   "cell_type": "code",
   "execution_count": 14,
   "id": "fab75fab-910b-47dd-acb6-235029f8acf6",
   "metadata": {},
   "outputs": [],
   "source": [
    "import os\n",
    "from anthropic import Anthropic\n",
    "\n",
    "# Set your API key (use a .env file or manually paste it here for demo)\n",
    "os.environ[\"ANTHROPIC_API_KEY\"] = \"sk-...\"  # replace with your key\n",
    "\n",
    "# Initialize client\n",
    "client = Anthropic(api_key=os.getenv(\"ANTHROPIC_API_KEY\"))"
   ]
  },
  {
   "cell_type": "markdown",
   "id": "f7f00d1a-85b7-4b22-bc59-2ce5b5ae5d7a",
   "metadata": {},
   "source": [
    "### Account Setup and API Access\n",
    "\n",
    "To use Anthropic Claude, you need to:\n",
    "\n",
    "1. Create an account at [https://www.anthropic.com](https://www.anthropic.com).\n",
    "2. Apply for API access or join their waitlist.\n",
    "3. Generate an API key and set it as an environment variable.\n",
    "\n",
    "> Note: As of this writing, Claude API usage is **not free** beyond a limited trial. You must add a payment method to continue using the API for higher-volume or longer prompt interactions.\n",
    "\n",
    "This tutorial uses the **Claude 3 Opus** model, which was tested successfully during the development of this project using a paid developer account."
   ]
  },
  {
   "cell_type": "markdown",
   "id": "894cf076-65ea-4f97-bd11-d53ddde0a809",
   "metadata": {},
   "source": [
    "## 3. Understanding Claude's Chat API\n",
    "\n",
    "Claude follows a structured message-based chat API format:\n",
    "- Each message has a role: \"user\", \"assistant\", or \"system\"\n",
    "- You send prompts via a list of messages\n",
    "- Claude replies with a structured response\n",
    "\n",
    "Below is a basic example that asks Claude to explain an anomaly in Bitcoin data."
   ]
  },
  {
   "cell_type": "code",
   "execution_count": 16,
   "id": "867b1cc7-c576-4f14-b6e1-d9f511d4b0f2",
   "metadata": {},
   "outputs": [
    {
     "name": "stdout",
     "output_type": "stream",
     "text": [
      "A Bitcoin transaction anomaly refers to any transaction that deviates from the normal or expected pattern of transactions on the Bitcoin network. Anomalies can indicate suspicious activities, such as money laundering, fraud, or hacking attempts. Detecting these anomalies is crucial for maintaining the integrity and security of the Bitcoin ecosystem.\n",
      "\n",
      "Here are some common types of Bitcoin transaction anomalies and methods to detect them:\n",
      "\n",
      "1. Unusual transaction amounts: Transactions involving unusually large or small amounts compared to the typical transaction size can be considered anomalies. Statistical analysis techniques, such as outlier detection or clustering, can help identify these transactions.\n",
      "\n",
      "2. High frequency of transactions: A sudden increase in the number of transactions from a particular address or group of addresses within a short time frame may indicate suspicious activity. Monitoring transaction frequency and comparing it to historical patterns can help detect such anomalies.\n",
      "\n",
      "3. Unusual transaction patterns: Transactions that follow unusual patterns, such as rapid back-and-forth transactions between addresses or transactions that form complex chains or loops, can be indicative of money laundering or other illicit activities. Graph analysis techniques and pattern recognition algorithms can help identify these anomalous transaction patterns.\n",
      "\n",
      "4. Mixing or tumbling services: Mixing or tumbling services are used to obscure the trail of Bitcoin transactions by pooling funds from multiple sources and redistributing them randomly. Transactions involving known mixing service addresses or exhibiting\n"
     ]
    }
   ],
   "source": [
    "response = client.messages.create(\n",
    "    model=\"claude-3-opus-20240229\",\n",
    "    max_tokens=300,\n",
    "    messages=[\n",
    "        {\"role\": \"user\", \"content\": \"What is a Bitcoin transaction anomaly, and how do you detect it?\"}\n",
    "    ]\n",
    ")\n",
    "\n",
    "print(response.content[0].text.strip())"
   ]
  },
  {
   "cell_type": "markdown",
   "id": "8390642f-b77b-4272-88d9-e89dcbafcba8",
   "metadata": {},
   "source": [
    "## 4. Using Claude with Structured Data\n",
    "\n",
    "You can prompt Claude to analyze a dictionary, JSON object, or tabular row by formatting it into a natural language explanation prompt.\n",
    "\n",
    "Below is a sample prompt with features from a 1-minute window of Bitcoin transaction activity."
   ]
  },
  {
   "cell_type": "code",
   "execution_count": 18,
   "id": "3aaebb55-3d55-4b4a-8a9d-e65f91f1d254",
   "metadata": {},
   "outputs": [
    {
     "name": "stdout",
     "output_type": "stream",
     "text": [
      "As a blockchain forensic analyst, I've analyzed the provided transaction window data. Here are my findings:\n",
      "\n",
      "1. Statistical Unusualness:\n",
      "   - The average fee-to-value ratio of 0.014 (1.4%) is significantly higher than typical transactions, where fees are usually a small fraction of the transaction value.\n",
      "   - An average of 15 output addresses per transaction is unusually high. Most transactions have a fewer number of recipients.\n",
      "   - The average transaction size of 550 bytes is larger than typical transactions, which could indicate the inclusion of extra data or complex scripts.\n",
      "\n",
      "2. Potential Risk or Attack Patterns:\n",
      "   - The high number of output addresses could suggest a \"dusting attack,\" where small amounts of cryptocurrency are sent to many addresses to deanonymize or track users.\n",
      "   - The large transaction size might indicate the presence of malicious scripts or attempts to exploit blockchain vulnerabilities.\n",
      "   - The high fee-to-value ratio could be an attempt to prioritize and quickly confirm these transactions, possibly for malicious purposes.\n",
      "\n",
      "3. Legitimate Causes:\n",
      "   - The transaction pattern could be from a legitimate mixing service or tumbler, which breaks up funds into many smaller transactions to enhance privacy.\n",
      "   - It might be a batch payment system sending small amounts to numerous recipients, such as a payment processor or mining pool distributing rewards.\n",
      "   - The high fees could be due to network congestion or the urgency to confirm transactions quickly during a period of high demand.\n",
      "\n",
      "4. Flagging Decision and Rationale:\n",
      "   Based on the analysis, I recommend flagging this transaction window for further investigation. The combination of high fees, large transaction size, and an unusually high number of output addresses deviates from typical transaction patterns. While there could be legitimate explanations, the potential risks of dusting attacks, malicious scripts, or\n"
     ]
    }
   ],
   "source": [
    "sample_tx = {\n",
    "    \"window_start\": \"2025-05-15T13:00:00Z\",\n",
    "    \"avg_fee\": 23.4,\n",
    "    \"avg_value\": 1.7,\n",
    "    \"avg_fee_to_value_ratio\": 0.014,\n",
    "    \"avg_input_count\": 2.5,\n",
    "    \"avg_output_count\": 15.0,\n",
    "    \"avg_tx_size\": 550.0\n",
    "}\n",
    "\n",
    "prompt = f\"\"\"\n",
    "You are a blockchain forensic analyst.\n",
    "\n",
    "Please analyze the following transaction window:\n",
    "\n",
    "{sample_tx}\n",
    "\n",
    "Identify:\n",
    "1. Whether the behavior is statistically unusual\n",
    "2. Potential risk or attack patterns\n",
    "3. Legitimate causes that could explain the pattern\n",
    "4. Whether this should be flagged or not, and why\n",
    "\"\"\"\n",
    "\n",
    "response = client.messages.create(\n",
    "    model=\"claude-3-opus-20240229\",\n",
    "    max_tokens=400,\n",
    "    messages=[{\"role\": \"user\", \"content\": prompt}]\n",
    ")\n",
    "\n",
    "print(response.content[0].text.strip())"
   ]
  },
  {
   "cell_type": "markdown",
   "id": "bcebd145-6f18-45d9-8889-563a150175e7",
   "metadata": {},
   "source": [
    "## 5. Prompt Engineering Best Practices\n",
    "\n",
    "- Be specific: Use context-rich, structured prompts (not vague open-ended ones)\n",
    "- Define sections: Ask for step-by-step analysis\n",
    "- Provide data in readable format (JSON, dictionary, or key-value lines)\n",
    "- Set the persona (e.g., \"You are a blockchain analyst\")\n",
    "- Avoid overly long or inconsistent prompts\n",
    "\n",
    "Example prompt skeleton:"
   ]
  },
  {
   "cell_type": "code",
   "execution_count": 20,
   "id": "6439d011-5b6c-4653-aa9b-e0eb67a90942",
   "metadata": {},
   "outputs": [],
   "source": [
    "def build_explanation_prompt(tx_data: dict) -> str:\n",
    "    return f\"\"\"\n",
    "You are a blockchain forensic analyst.\n",
    "\n",
    "Analyze the following transaction activity:\n",
    "\n",
    "{tx_data}\n",
    "\n",
    "1. Is this statistically unusual?\n",
    "2. Does it resemble any suspicious behavior patterns?\n",
    "3. Are there any plausible legitimate causes?\n",
    "4. Should this be flagged or not? Explain why.\n",
    "\"\"\""
   ]
  },
  {
   "cell_type": "markdown",
   "id": "e99aec79-92de-4c65-9da6-42a7068ef731",
   "metadata": {},
   "source": [
    "### Claude Model Selection and Pricing Considerations\n",
    "\n",
    "Anthropic offers several Claude models, each with different capabilities and pricing:\n",
    "\n",
    "| Model           | Strengths                            | Typical Use Cases               |\n",
    "|----------------|---------------------------------------|----------------------------------|\n",
    "| Claude 3 Haiku | Fastest and cheapest                  | Lightweight tasks, summaries     |\n",
    "| Claude 3 Sonnet| Balanced cost and reasoning ability   | Most general-purpose applications|\n",
    "| Claude 3 Opus  | Most advanced reasoning + long context| Legal, financial, explainability |\n",
    "\n",
    "This tutorial uses **Claude 3 Opus** because it supports structured prompt-following and detailed forensic analysis — ideal for financial anomaly explanation.\n",
    "\n",
    "See full pricing at [Anthropic Pricing](https://docs.anthropic.com/claude/docs/usage-pricing)."
   ]
  },
  {
   "cell_type": "markdown",
   "id": "85bc13fe-f3a8-45ba-8388-02a8dc052b58",
   "metadata": {},
   "source": [
    "## 6. Summary\n",
    "\n",
    "In this tutorial, we covered:\n",
    "\n",
    "- What Anthropic Claude is and why it's suited for explainable AI\n",
    "- How to authenticate and call the Claude API\n",
    "- How to structure prompts for reasoning over structured data\n",
    "- How to use Claude for Bitcoin anomaly interpretation\n",
    "\n",
    "This API forms the core of the explanation layer in our project:  \n",
    "**Real-Time Bitcoin Transaction Anomaly Detection with Anthropic Claude**"
   ]
  },
  {
   "cell_type": "markdown",
   "id": "9cb0d291-b2ae-4030-91ba-d718a38d1bd5",
   "metadata": {},
   "source": [
    "## Additional Resources\n",
    "\n",
    "- [Anthropic Claude API Documentation](https://docs.anthropic.com)\n",
    "- [Open Prompt Engineering Guide](https://github.com/dair-ai/Prompt-Engineering-Guide)\n",
    "- [Financial Anomaly Detection Literature](https://arxiv.org/abs/2207.10418)\n",
    "- [Claude 3 Technical Capabilities](https://www.anthropic.com/news/claude-3-family)\n",
    "\n",
    "These resources are helpful for extending this tutorial to real-world anomaly pipelines, policy audits, and regulated AI systems."
   ]
  }
 ],
 "metadata": {
  "kernelspec": {
   "display_name": "Python 3 (ipykernel)",
   "language": "python",
   "name": "python3"
  },
  "language_info": {
   "codemirror_mode": {
    "name": "ipython",
    "version": 3
   },
   "file_extension": ".py",
   "mimetype": "text/x-python",
   "name": "python",
   "nbconvert_exporter": "python",
   "pygments_lexer": "ipython3",
   "version": "3.12.7"
  }
 },
 "nbformat": 4,
 "nbformat_minor": 5
}
