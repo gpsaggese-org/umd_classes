{
 "cells": [
  {
   "cell_type": "markdown",
   "metadata": {},
   "source": [
    "# BitcoinCausal.API.ipynb\n",
    "\n",
    "This notebook demonstrates the usage of the data ingestion and preparation functions defined in `M_BitcoinCausal_utils.py`. It shows how to:\n",
    "\n",
    "- Fetch and store Bitcoin price data\n",
    "- Append live price\n",
    "- Inject a dummy event\n",
    "- Compute a confounder for analysis\n"
   ]
  },
  {
   "cell_type": "code",
   "execution_count": 1,
   "metadata": {
    "ExecuteTime": {
     "end_time": "2025-05-18T02:53:03.288882Z",
     "start_time": "2025-05-18T02:53:00.800175Z"
    }
   },
   "outputs": [],
   "source": [
    "from M_BitcoinCausal_utils import (\n",
    "    fetch_historical_prices,\n",
    "    append_live_price_to_csv,\n",
    "    load_bitcoin_data,\n",
    "    inject_multiple_dummy_events,\n",
    "    compute_lagged_confounder\n",
    ")\n"
   ]
  },
  {
   "cell_type": "code",
   "execution_count": 2,
   "metadata": {
    "ExecuteTime": {
     "end_time": "2025-05-18T02:53:12.131977Z",
     "start_time": "2025-05-18T02:53:06.925486Z"
    }
   },
   "outputs": [
    {
     "name": "stdout",
     "output_type": "stream",
     "text": [
      "[INFO] Fetching last 30 days of Bitcoin data...\n",
      "[INFO] Saved historical data to data/raw_bitcoin.csv\n"
     ]
    }
   ],
   "source": [
    "fetch_historical_prices(days=30)\n"
   ]
  },
  {
   "cell_type": "code",
   "execution_count": 3,
   "metadata": {
    "ExecuteTime": {
     "end_time": "2025-05-18T02:53:16.197338Z",
     "start_time": "2025-05-18T02:53:16.118200Z"
    }
   },
   "outputs": [
    {
     "name": "stdout",
     "output_type": "stream",
     "text": [
      "[INFO] Fetched live price: {'timestamp': datetime.datetime(2025, 5, 18, 2, 53, 16, 188580), 'price': 103331}\n",
      "[INFO] Appended live price to data/raw_bitcoin.csv\n"
     ]
    }
   ],
   "source": [
    "append_live_price_to_csv()\n"
   ]
  },
  {
   "cell_type": "code",
   "execution_count": 4,
   "metadata": {
    "ExecuteTime": {
     "end_time": "2025-05-18T02:53:20.992097Z",
     "start_time": "2025-05-18T02:53:20.971521Z"
    }
   },
   "outputs": [
    {
     "data": {
      "text/html": [
       "<div>\n",
       "<style scoped>\n",
       "    .dataframe tbody tr th:only-of-type {\n",
       "        vertical-align: middle;\n",
       "    }\n",
       "\n",
       "    .dataframe tbody tr th {\n",
       "        vertical-align: top;\n",
       "    }\n",
       "\n",
       "    .dataframe thead th {\n",
       "        text-align: right;\n",
       "    }\n",
       "</style>\n",
       "<table border=\"1\" class=\"dataframe\">\n",
       "  <thead>\n",
       "    <tr style=\"text-align: right;\">\n",
       "      <th></th>\n",
       "      <th>timestamp</th>\n",
       "      <th>price</th>\n",
       "    </tr>\n",
       "  </thead>\n",
       "  <tbody>\n",
       "    <tr>\n",
       "      <th>716</th>\n",
       "      <td>2025-05-18 00:06:32.399000</td>\n",
       "      <td>103194.656506</td>\n",
       "    </tr>\n",
       "    <tr>\n",
       "      <th>717</th>\n",
       "      <td>2025-05-18 01:04:54.044000</td>\n",
       "      <td>103327.244818</td>\n",
       "    </tr>\n",
       "    <tr>\n",
       "      <th>718</th>\n",
       "      <td>2025-05-18 02:04:49.672000</td>\n",
       "      <td>103267.637503</td>\n",
       "    </tr>\n",
       "    <tr>\n",
       "      <th>719</th>\n",
       "      <td>2025-05-18 02:53:01.000000</td>\n",
       "      <td>103332.836110</td>\n",
       "    </tr>\n",
       "    <tr>\n",
       "      <th>720</th>\n",
       "      <td>2025-05-18 02:53:16.188580</td>\n",
       "      <td>103331.000000</td>\n",
       "    </tr>\n",
       "  </tbody>\n",
       "</table>\n",
       "</div>"
      ],
      "text/plain": [
       "                     timestamp          price\n",
       "716 2025-05-18 00:06:32.399000  103194.656506\n",
       "717 2025-05-18 01:04:54.044000  103327.244818\n",
       "718 2025-05-18 02:04:49.672000  103267.637503\n",
       "719 2025-05-18 02:53:01.000000  103332.836110\n",
       "720 2025-05-18 02:53:16.188580  103331.000000"
      ]
     },
     "execution_count": 4,
     "metadata": {},
     "output_type": "execute_result"
    }
   ],
   "source": [
    "df = load_bitcoin_data()\n",
    "df.tail()\n"
   ]
  },
  {
   "cell_type": "code",
   "execution_count": 5,
   "metadata": {
    "ExecuteTime": {
     "end_time": "2025-05-18T02:53:26.727099Z",
     "start_time": "2025-05-18T02:53:26.716021Z"
    }
   },
   "outputs": [
    {
     "name": "stdout",
     "output_type": "stream",
     "text": [
      "[INFO] Injected 1 dummy event(s) at: [Timestamp('2025-05-17 19:04:11.011000')]\n"
     ]
    },
    {
     "data": {
      "text/html": [
       "<div>\n",
       "<style scoped>\n",
       "    .dataframe tbody tr th:only-of-type {\n",
       "        vertical-align: middle;\n",
       "    }\n",
       "\n",
       "    .dataframe tbody tr th {\n",
       "        vertical-align: top;\n",
       "    }\n",
       "\n",
       "    .dataframe thead th {\n",
       "        text-align: right;\n",
       "    }\n",
       "</style>\n",
       "<table border=\"1\" class=\"dataframe\">\n",
       "  <thead>\n",
       "    <tr style=\"text-align: right;\">\n",
       "      <th></th>\n",
       "      <th>timestamp</th>\n",
       "      <th>price</th>\n",
       "      <th>event</th>\n",
       "    </tr>\n",
       "  </thead>\n",
       "  <tbody>\n",
       "    <tr>\n",
       "      <th>711</th>\n",
       "      <td>2025-05-17 19:04:11.011</td>\n",
       "      <td>103150.848513</td>\n",
       "      <td>1</td>\n",
       "    </tr>\n",
       "  </tbody>\n",
       "</table>\n",
       "</div>"
      ],
      "text/plain": [
       "                  timestamp          price  event\n",
       "711 2025-05-17 19:04:11.011  103150.848513      1"
      ]
     },
     "execution_count": 5,
     "metadata": {},
     "output_type": "execute_result"
    }
   ],
   "source": [
    "# Choose one timestamp (e.g., 10 rows before the end)\n",
    "event_time = df[\"timestamp\"].iloc[-10]\n",
    "df = inject_multiple_dummy_events(df, [event_time])\n",
    "df[df[\"event\"] == 1]\n"
   ]
  },
  {
   "cell_type": "code",
   "execution_count": 6,
   "metadata": {
    "ExecuteTime": {
     "end_time": "2025-05-18T02:53:32.579102Z",
     "start_time": "2025-05-18T02:53:32.569315Z"
    }
   },
   "outputs": [
    {
     "name": "stdout",
     "output_type": "stream",
     "text": [
      "[INFO] Confounder (lagged price) added.\n"
     ]
    },
    {
     "data": {
      "text/html": [
       "<div>\n",
       "<style scoped>\n",
       "    .dataframe tbody tr th:only-of-type {\n",
       "        vertical-align: middle;\n",
       "    }\n",
       "\n",
       "    .dataframe tbody tr th {\n",
       "        vertical-align: top;\n",
       "    }\n",
       "\n",
       "    .dataframe thead th {\n",
       "        text-align: right;\n",
       "    }\n",
       "</style>\n",
       "<table border=\"1\" class=\"dataframe\">\n",
       "  <thead>\n",
       "    <tr style=\"text-align: right;\">\n",
       "      <th></th>\n",
       "      <th>timestamp</th>\n",
       "      <th>price</th>\n",
       "      <th>confounder</th>\n",
       "    </tr>\n",
       "  </thead>\n",
       "  <tbody>\n",
       "    <tr>\n",
       "      <th>716</th>\n",
       "      <td>2025-05-18 00:06:32.399000</td>\n",
       "      <td>103194.656506</td>\n",
       "      <td>103058.426620</td>\n",
       "    </tr>\n",
       "    <tr>\n",
       "      <th>717</th>\n",
       "      <td>2025-05-18 01:04:54.044000</td>\n",
       "      <td>103327.244818</td>\n",
       "      <td>103194.656506</td>\n",
       "    </tr>\n",
       "    <tr>\n",
       "      <th>718</th>\n",
       "      <td>2025-05-18 02:04:49.672000</td>\n",
       "      <td>103267.637503</td>\n",
       "      <td>103327.244818</td>\n",
       "    </tr>\n",
       "    <tr>\n",
       "      <th>719</th>\n",
       "      <td>2025-05-18 02:53:01.000000</td>\n",
       "      <td>103332.836110</td>\n",
       "      <td>103267.637503</td>\n",
       "    </tr>\n",
       "    <tr>\n",
       "      <th>720</th>\n",
       "      <td>2025-05-18 02:53:16.188580</td>\n",
       "      <td>103331.000000</td>\n",
       "      <td>103332.836110</td>\n",
       "    </tr>\n",
       "  </tbody>\n",
       "</table>\n",
       "</div>"
      ],
      "text/plain": [
       "                     timestamp          price     confounder\n",
       "716 2025-05-18 00:06:32.399000  103194.656506  103058.426620\n",
       "717 2025-05-18 01:04:54.044000  103327.244818  103194.656506\n",
       "718 2025-05-18 02:04:49.672000  103267.637503  103327.244818\n",
       "719 2025-05-18 02:53:01.000000  103332.836110  103267.637503\n",
       "720 2025-05-18 02:53:16.188580  103331.000000  103332.836110"
      ]
     },
     "execution_count": 6,
     "metadata": {},
     "output_type": "execute_result"
    }
   ],
   "source": [
    "df = compute_lagged_confounder(df)\n",
    "df[[\"timestamp\", \"price\", \"confounder\"]].tail()\n"
   ]
  },
  {
   "cell_type": "code",
   "execution_count": null,
   "metadata": {},
   "outputs": [],
   "source": []
  }
 ],
 "metadata": {
  "kernelspec": {
   "display_name": "Python 3 (ipykernel)",
   "language": "python",
   "name": "python3"
  },
  "language_info": {
   "codemirror_mode": {
    "name": "ipython",
    "version": 3
   },
   "file_extension": ".py",
   "mimetype": "text/x-python",
   "name": "python",
   "nbconvert_exporter": "python",
   "pygments_lexer": "ipython3",
   "version": "3.8.10"
  },
  "toc": {
   "base_numbering": 1,
   "nav_menu": {},
   "number_sections": true,
   "sideBar": true,
   "skip_h1_title": false,
   "title_cell": "Table of Contents",
   "title_sidebar": "Contents",
   "toc_cell": false,
   "toc_position": {},
   "toc_section_display": true,
   "toc_window_display": false
  }
 },
 "nbformat": 4,
 "nbformat_minor": 4
}
