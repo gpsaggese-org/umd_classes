{
 "cells": [
  {
   "cell_type": "markdown",
   "id": "a0abd823",
   "metadata": {},
   "source": [
    "# Prefect API Tutorial Notebook\n",
    "# -----------------------------------------------------------------------------\n",
    "This notebook introduces Prefect 2.x's native Python API for creating, executing,\n",
    "and monitoring data workflows. The tutorial is designed for those who want to\n",
    "learn how to build modular, observable workflows with Prefect's core concepts.\n",
    "\n",
    "🔗 References:\n",
    "- Prefect Documentation: https://docs.prefect.io\n",
    "- Prefect GitHub: https://github.com/PrefectHQ/prefect\n",
    "- Notebook Style Guide: https://github.com/causify-ai/helpers/blob/master/docs/coding/all.jupyter_notebook.how_to_guide.md"
   ]
  },
  {
   "cell_type": "code",
   "execution_count": null,
   "id": "2addfcc4",
   "metadata": {},
   "outputs": [],
   "source": [
    "# %%\n",
    "#! pip install requests\n",
    "#! pip install pandas\n",
    "#! pip install matplotlib\n",
    "#! pip install\n",
    "#pip install\n",
    "! pip install prefect pandas matplotlib requests sqlalchemy psycopg2-binary python-dotenv\n",
    "\n",
    "import os\n",
    "import requests\n",
    "import pandas as pd\n",
    "import matplotlib.pyplot as plt\n",
    "import base64\n",
    "import io\n",
    "import smtplib\n",
    "from email.mime.text import MIMEText\n",
    "from sqlalchemy import create_engine\n",
    "from dotenv import load_dotenv\n",
    "\n",
    "from prefect import flow, task, get_run_logger\n",
    "from prefect.artifacts import create_markdown_artifact\n",
    "from datetime import timedelta\n",
    "\n",
    "load_dotenv()# %%\n",
    "#! pip install requests\n",
    "#! pip install pandas\n",
    "#! pip install matplotlib\n",
    "#! pip install\n",
    "#pip install\n",
    "! pip install prefect pandas matplotlib requests sqlalchemy psycopg2-binary python-dotenv\n",
    "\n",
    "import os\n",
    "import requests\n",
    "import pandas as pd\n",
    "import matplotlib.pyplot as plt\n",
    "import base64\n",
    "import io\n",
    "import smtplib\n",
    "from email.mime.text import MIMEText\n",
    "from sqlalchemy import create_engine\n",
    "from dotenv import load_dotenv\n",
    "\n",
    "from prefect import flow, task, get_run_logger\n",
    "from prefect.artifacts import create_markdown_artifact\n",
    "from datetime import timedelta\n",
    "\n",
    "load_dotenv()"
   ]
  },
  {
   "cell_type": "markdown",
   "id": "a7684eee",
   "metadata": {},
   "source": [
    "## 1. What is Prefect?\n",
    "Prefect is a Python-native workflow orchestration tool.\n",
    "It allows users to:\n",
    "- Define tasks using Python decorators\n",
    "- Chain tasks together into a `flow`\n",
    "- Monitor and schedule flows via CLI, API, or UI\n",
    "\n",
    "\n",
    "# ## 2. Task: The building block of a workflow\n",
    "# Each `@task` function encapsulates a unit of computation."
   ]
  },
  {
   "cell_type": "code",
   "execution_count": 44,
   "id": "a4394b56",
   "metadata": {},
   "outputs": [
    {
     "name": "stdout",
     "output_type": "stream",
     "text": [
      "The autoreload extension is already loaded. To reload it, use:\n",
      "  %reload_ext autoreload\n"
     ]
    }
   ],
   "source": [
    "# %%\n",
    "@task(name=\"Greet User\")\n",
    "def greet_user(name: str) -> str:\n",
    "    logger = get_run_logger()\n",
    "    message = f\"Hello, {name}!\"\n",
    "    logger.info(message)\n",
    "    return message\n",
    "\n",
    "# %%\n",
    "@task(name=\"Sleep Task\")\n",
    "def sleep_task(seconds: int = 1) -> str:\n",
    "    sleep(seconds)\n",
    "    return f\"Slept for {seconds} second(s).\""
   ]
  },
  {
   "cell_type": "markdown",
   "id": "a4a43f48",
   "metadata": {},
   "source": [
    "## 3. Flow: A container of tasks\n",
    "# Flows coordinate the execution of one or more tasks."
   ]
  },
  {
   "cell_type": "code",
   "execution_count": null,
   "id": "630ceac1",
   "metadata": {},
   "outputs": [],
   "source": [
    "# %%\n",
    "@flow(name=\"Basic Prefect Flow\")\n",
    "def simple_flow():\n",
    "    msg = greet_user(\"Sahithi\")\n",
    "    result = sleep_task(2)\n",
    "    return msg, result"
   ]
  },
  {
   "cell_type": "markdown",
   "id": "d6ea93a0",
   "metadata": {},
   "source": [
    "## 4. Run the flow\n",
    "\n",
    "# %%\n",
    "simple_flow()"
   ]
  },
  {
   "cell_type": "markdown",
   "id": "140cb334",
   "metadata": {},
   "source": [
    "## 5. Parametrized Flows\n",
    "# Flows can also accept arguments."
   ]
  },
  {
   "cell_type": "code",
   "execution_count": null,
   "id": "3474865b",
   "metadata": {},
   "outputs": [],
   "source": [
    "# %%\n",
    "@flow(name=\"Parameterized Flow\")\n",
    "def parameterized_flow(name: str, wait: int):\n",
    "    greet_user(name)\n",
    "    sleep_task(wait)\n",
    "\n",
    "# %%\n",
    "parameterized_flow(\"Alice\", 3)"
   ]
  },
  {
   "cell_type": "markdown",
   "id": "251e692e",
   "metadata": {},
   "source": [
    "## 6. Composing Flows\n",
    "# You can call one flow from another to create modular workflows.\n"
   ]
  },
  {
   "cell_type": "code",
   "execution_count": null,
   "id": "38b594df",
   "metadata": {},
   "outputs": [],
   "source": [
    "# %%\n",
    "@flow(name=\"Master Flow\")\n",
    "def master_flow():\n",
    "    parameterized_flow(\"Charlie\", 1)\n",
    "    parameterized_flow(\"Dana\", 2)\n",
    "\n",
    "# %%\n",
    "master_flow()"
   ]
  },
  {
   "cell_type": "markdown",
   "id": "bb97dfa9",
   "metadata": {},
   "source": [
    "## 7. Scheduling (CLI)\n",
    "# To schedule flows every few minutes:\n",
    "# ```bash\n",
    "# prefect deployment build prefect_api_tutorial.py:master_flow -n \"Scheduled Master Flow\" --interval 60\n",
    "# prefect deployment apply master_flow-deployment.yaml\n",
    "# ```\n",
    "\n",
    "\n",
    "# ## 8. Summary\n",
    "# - `@task` defines a single operation.\n",
    "# - `@flow` organizes tasks and orchestrates logic.\n",
    "# - Prefect provides observability, retries, parameters, and scheduling.\n",
    "#\n",
    "# You can run Prefect locally or with Prefect Cloud for full orchestration.\n"
   ]
  },
  {
   "cell_type": "code",
   "execution_count": null,
   "id": "a6f3cf27",
   "metadata": {},
   "outputs": [],
   "source": [
    "# %%\n",
    "print(\"✅ Tutorial Complete!\")"
   ]
  }
 ],
 "metadata": {
  "kernelspec": {
   "display_name": ".venv",
   "language": "python",
   "name": "python3"
  },
  "language_info": {
   "codemirror_mode": {
    "name": "ipython",
    "version": 3
   },
   "file_extension": ".py",
   "mimetype": "text/x-python",
   "name": "python",
   "nbconvert_exporter": "python",
   "pygments_lexer": "ipython3",
   "version": "3.13.3"
  }
 },
 "nbformat": 4,
 "nbformat_minor": 5
}
