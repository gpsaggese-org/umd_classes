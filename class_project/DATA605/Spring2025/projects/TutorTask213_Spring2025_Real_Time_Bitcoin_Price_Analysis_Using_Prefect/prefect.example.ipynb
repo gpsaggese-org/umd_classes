{
 "cells": [
  {
   "cell_type": "markdown",
   "id": "a0abd823",
   "metadata": {},
   "source": [
    "## Prefect API.ipynb\n",
    "\n",
    "This notebook demonstrates how to orchestrate a real-time Bitcoin ETL pipeline using Prefect 2.x. It includes fetching, validating, storing, visualizing, and monitoring Bitcoin price data with alerting features.\n",
    "\n",
    "### Imports and Setup"
   ]
  },
  {
   "cell_type": "code",
   "execution_count": 43,
   "id": "2addfcc4",
   "metadata": {},
   "outputs": [
    {
     "name": "stdout",
     "output_type": "stream",
     "text": [
      "Requirement already satisfied: prefect in c:\\users\\vanka\\documents\\605 project\\.venv\\lib\\site-packages (3.4.1)\n",
      "Requirement already satisfied: pandas in c:\\users\\vanka\\documents\\605 project\\.venv\\lib\\site-packages (2.2.3)\n",
      "Requirement already satisfied: matplotlib in c:\\users\\vanka\\documents\\605 project\\.venv\\lib\\site-packages (3.10.3)\n",
      "Requirement already satisfied: requests in c:\\users\\vanka\\documents\\605 project\\.venv\\lib\\site-packages (2.32.3)\n",
      "Requirement already satisfied: sqlalchemy in c:\\users\\vanka\\documents\\605 project\\.venv\\lib\\site-packages (2.0.41)\n",
      "Requirement already satisfied: psycopg2-binary in c:\\users\\vanka\\documents\\605 project\\.venv\\lib\\site-packages (2.9.10)\n",
      "Requirement already satisfied: python-dotenv in c:\\users\\vanka\\documents\\605 project\\.venv\\lib\\site-packages (1.1.0)\n",
      "Requirement already satisfied: aiosqlite<1.0.0,>=0.17.0 in c:\\users\\vanka\\documents\\605 project\\.venv\\lib\\site-packages (from prefect) (0.21.0)\n",
      "Requirement already satisfied: alembic<2.0.0,>=1.7.5 in c:\\users\\vanka\\documents\\605 project\\.venv\\lib\\site-packages (from prefect) (1.15.2)\n",
      "Requirement already satisfied: anyio<5.0.0,>=4.4.0 in c:\\users\\vanka\\documents\\605 project\\.venv\\lib\\site-packages (from prefect) (4.9.0)\n",
      "Requirement already satisfied: apprise<2.0.0,>=1.1.0 in c:\\users\\vanka\\documents\\605 project\\.venv\\lib\\site-packages (from prefect) (1.9.3)\n",
      "Requirement already satisfied: asgi-lifespan<3.0,>=1.0 in c:\\users\\vanka\\documents\\605 project\\.venv\\lib\\site-packages (from prefect) (2.1.0)\n",
      "Requirement already satisfied: asyncpg<1.0.0,>=0.23 in c:\\users\\vanka\\documents\\605 project\\.venv\\lib\\site-packages (from prefect) (0.30.0)\n",
      "Requirement already satisfied: cachetools<6.0,>=5.3 in c:\\users\\vanka\\documents\\605 project\\.venv\\lib\\site-packages (from prefect) (5.5.2)\n",
      "Requirement already satisfied: click<8.2,>=8.0 in c:\\users\\vanka\\documents\\605 project\\.venv\\lib\\site-packages (from prefect) (8.1.8)\n",
      "Requirement already satisfied: cloudpickle<4.0,>=2.0 in c:\\users\\vanka\\documents\\605 project\\.venv\\lib\\site-packages (from prefect) (3.1.1)\n",
      "Requirement already satisfied: coolname<3.0.0,>=1.0.4 in c:\\users\\vanka\\documents\\605 project\\.venv\\lib\\site-packages (from prefect) (2.2.0)\n",
      "Requirement already satisfied: cryptography>=36.0.1 in c:\\users\\vanka\\documents\\605 project\\.venv\\lib\\site-packages (from prefect) (45.0.1)\n",
      "Requirement already satisfied: dateparser<2.0.0,>=1.1.1 in c:\\users\\vanka\\documents\\605 project\\.venv\\lib\\site-packages (from prefect) (1.2.1)\n",
      "Requirement already satisfied: docker<8.0,>=4.0 in c:\\users\\vanka\\documents\\605 project\\.venv\\lib\\site-packages (from prefect) (7.1.0)\n",
      "Requirement already satisfied: exceptiongroup>=1.0.0 in c:\\users\\vanka\\documents\\605 project\\.venv\\lib\\site-packages (from prefect) (1.3.0)\n",
      "Requirement already satisfied: fastapi<1.0.0,>=0.111.0 in c:\\users\\vanka\\documents\\605 project\\.venv\\lib\\site-packages (from prefect) (0.115.12)\n",
      "Requirement already satisfied: fsspec>=2022.5.0 in c:\\users\\vanka\\documents\\605 project\\.venv\\lib\\site-packages (from prefect) (2025.3.2)\n",
      "Requirement already satisfied: graphviz>=0.20.1 in c:\\users\\vanka\\documents\\605 project\\.venv\\lib\\site-packages (from prefect) (0.20.3)\n",
      "Requirement already satisfied: griffe<2.0.0,>=0.49.0 in c:\\users\\vanka\\documents\\605 project\\.venv\\lib\\site-packages (from prefect) (1.7.3)\n",
      "Requirement already satisfied: httpcore<2.0.0,>=1.0.5 in c:\\users\\vanka\\documents\\605 project\\.venv\\lib\\site-packages (from prefect) (1.0.9)\n",
      "Requirement already satisfied: httpx!=0.23.2,>=0.23 in c:\\users\\vanka\\documents\\605 project\\.venv\\lib\\site-packages (from httpx[http2]!=0.23.2,>=0.23->prefect) (0.28.1)\n",
      "Requirement already satisfied: humanize<5.0.0,>=4.9.0 in c:\\users\\vanka\\documents\\605 project\\.venv\\lib\\site-packages (from prefect) (4.12.3)\n",
      "Requirement already satisfied: jinja2-humanize-extension>=0.4.0 in c:\\users\\vanka\\documents\\605 project\\.venv\\lib\\site-packages (from prefect) (0.4.0)\n",
      "Requirement already satisfied: jinja2<4.0.0,>=3.1.6 in c:\\users\\vanka\\documents\\605 project\\.venv\\lib\\site-packages (from prefect) (3.1.6)\n",
      "Requirement already satisfied: jsonpatch<2.0,>=1.32 in c:\\users\\vanka\\documents\\605 project\\.venv\\lib\\site-packages (from prefect) (1.33)\n",
      "Requirement already satisfied: jsonschema<5.0.0,>=4.0.0 in c:\\users\\vanka\\documents\\605 project\\.venv\\lib\\site-packages (from prefect) (4.23.0)\n",
      "Requirement already satisfied: opentelemetry-api<2.0.0,>=1.27.0 in c:\\users\\vanka\\documents\\605 project\\.venv\\lib\\site-packages (from prefect) (1.33.1)\n",
      "Requirement already satisfied: orjson<4.0,>=3.7 in c:\\users\\vanka\\documents\\605 project\\.venv\\lib\\site-packages (from prefect) (3.10.18)\n",
      "Requirement already satisfied: packaging<25.1,>=21.3 in c:\\users\\vanka\\documents\\605 project\\.venv\\lib\\site-packages (from prefect) (25.0)\n",
      "Requirement already satisfied: pathspec>=0.8.0 in c:\\users\\vanka\\documents\\605 project\\.venv\\lib\\site-packages (from prefect) (0.12.1)\n",
      "Requirement already satisfied: prometheus-client>=0.20.0 in c:\\users\\vanka\\documents\\605 project\\.venv\\lib\\site-packages (from prefect) (0.22.0)\n",
      "Requirement already satisfied: pydantic!=2.10.0,<3.0.0,>=2.9 in c:\\users\\vanka\\documents\\605 project\\.venv\\lib\\site-packages (from prefect) (2.11.4)\n",
      "Requirement already satisfied: pydantic-core<3.0.0,>=2.12.0 in c:\\users\\vanka\\documents\\605 project\\.venv\\lib\\site-packages (from prefect) (2.33.2)\n",
      "Requirement already satisfied: pydantic-extra-types<3.0.0,>=2.8.2 in c:\\users\\vanka\\documents\\605 project\\.venv\\lib\\site-packages (from prefect) (2.10.4)\n",
      "Requirement already satisfied: pydantic-settings!=2.9.0,<3.0.0,>2.2.1 in c:\\users\\vanka\\documents\\605 project\\.venv\\lib\\site-packages (from prefect) (2.9.1)\n",
      "Requirement already satisfied: python-dateutil<3.0.0,>=2.8.2 in c:\\users\\vanka\\documents\\605 project\\.venv\\lib\\site-packages (from prefect) (2.9.0.post0)\n",
      "Requirement already satisfied: python-slugify<9.0,>=5.0 in c:\\users\\vanka\\documents\\605 project\\.venv\\lib\\site-packages (from prefect) (8.0.4)\n",
      "Requirement already satisfied: python-socks<3.0,>=2.5.3 in c:\\users\\vanka\\documents\\605 project\\.venv\\lib\\site-packages (from python-socks[asyncio]<3.0,>=2.5.3->prefect) (2.7.1)\n",
      "Requirement already satisfied: pytz<2026,>=2021.1 in c:\\users\\vanka\\documents\\605 project\\.venv\\lib\\site-packages (from prefect) (2025.2)\n",
      "Requirement already satisfied: pyyaml<7.0.0,>=5.4.1 in c:\\users\\vanka\\documents\\605 project\\.venv\\lib\\site-packages (from prefect) (6.0.2)\n",
      "Requirement already satisfied: readchar<5.0.0,>=4.0.0 in c:\\users\\vanka\\documents\\605 project\\.venv\\lib\\site-packages (from prefect) (4.2.1)\n",
      "Requirement already satisfied: rfc3339-validator<0.2.0,>=0.1.4 in c:\\users\\vanka\\documents\\605 project\\.venv\\lib\\site-packages (from prefect) (0.1.4)\n",
      "Requirement already satisfied: rich<15.0,>=11.0 in c:\\users\\vanka\\documents\\605 project\\.venv\\lib\\site-packages (from prefect) (14.0.0)\n",
      "Requirement already satisfied: ruamel-yaml>=0.17.0 in c:\\users\\vanka\\documents\\605 project\\.venv\\lib\\site-packages (from prefect) (0.18.10)\n",
      "Requirement already satisfied: sniffio<2.0.0,>=1.3.0 in c:\\users\\vanka\\documents\\605 project\\.venv\\lib\\site-packages (from prefect) (1.3.1)\n",
      "Requirement already satisfied: toml>=0.10.0 in c:\\users\\vanka\\documents\\605 project\\.venv\\lib\\site-packages (from prefect) (0.10.2)\n",
      "Requirement already satisfied: typer!=0.12.2,<0.16.0,>=0.12.0 in c:\\users\\vanka\\documents\\605 project\\.venv\\lib\\site-packages (from prefect) (0.15.4)\n",
      "Requirement already satisfied: typing-extensions<5.0.0,>=4.10.0 in c:\\users\\vanka\\documents\\605 project\\.venv\\lib\\site-packages (from prefect) (4.13.2)\n",
      "Requirement already satisfied: ujson<6.0.0,>=5.8.0 in c:\\users\\vanka\\documents\\605 project\\.venv\\lib\\site-packages (from prefect) (5.10.0)\n",
      "Requirement already satisfied: uuid7>=0.1.0 in c:\\users\\vanka\\documents\\605 project\\.venv\\lib\\site-packages (from prefect) (0.1.0)\n",
      "Requirement already satisfied: uv>=0.6.0 in c:\\users\\vanka\\documents\\605 project\\.venv\\lib\\site-packages (from prefect) (0.7.5)\n",
      "Requirement already satisfied: uvicorn!=0.29.0,>=0.14.0 in c:\\users\\vanka\\documents\\605 project\\.venv\\lib\\site-packages (from prefect) (0.34.2)\n",
      "Requirement already satisfied: websockets<16.0,>=13.0 in c:\\users\\vanka\\documents\\605 project\\.venv\\lib\\site-packages (from prefect) (15.0.1)\n",
      "Requirement already satisfied: whenever<0.9.0,>=0.7.3 in c:\\users\\vanka\\documents\\605 project\\.venv\\lib\\site-packages (from prefect) (0.8.0)\n",
      "Requirement already satisfied: greenlet>=1 in c:\\users\\vanka\\documents\\605 project\\.venv\\lib\\site-packages (from sqlalchemy) (3.2.2)\n",
      "Requirement already satisfied: Mako in c:\\users\\vanka\\documents\\605 project\\.venv\\lib\\site-packages (from alembic<2.0.0,>=1.7.5->prefect) (1.3.10)\n",
      "Requirement already satisfied: idna>=2.8 in c:\\users\\vanka\\documents\\605 project\\.venv\\lib\\site-packages (from anyio<5.0.0,>=4.4.0->prefect) (3.10)\n",
      "Requirement already satisfied: certifi in c:\\users\\vanka\\documents\\605 project\\.venv\\lib\\site-packages (from apprise<2.0.0,>=1.1.0->prefect) (2025.4.26)\n",
      "Requirement already satisfied: requests-oauthlib in c:\\users\\vanka\\documents\\605 project\\.venv\\lib\\site-packages (from apprise<2.0.0,>=1.1.0->prefect) (2.0.0)\n",
      "Requirement already satisfied: markdown in c:\\users\\vanka\\documents\\605 project\\.venv\\lib\\site-packages (from apprise<2.0.0,>=1.1.0->prefect) (3.8)\n",
      "Requirement already satisfied: colorama in c:\\users\\vanka\\documents\\605 project\\.venv\\lib\\site-packages (from click<8.2,>=8.0->prefect) (0.4.6)\n",
      "Requirement already satisfied: regex!=2019.02.19,!=2021.8.27,>=2015.06.24 in c:\\users\\vanka\\documents\\605 project\\.venv\\lib\\site-packages (from dateparser<2.0.0,>=1.1.1->prefect) (2024.11.6)\n",
      "Requirement already satisfied: tzlocal>=0.2 in c:\\users\\vanka\\documents\\605 project\\.venv\\lib\\site-packages (from dateparser<2.0.0,>=1.1.1->prefect) (5.3.1)\n",
      "Requirement already satisfied: pywin32>=304 in c:\\users\\vanka\\documents\\605 project\\.venv\\lib\\site-packages (from docker<8.0,>=4.0->prefect) (310)\n",
      "Requirement already satisfied: urllib3>=1.26.0 in c:\\users\\vanka\\documents\\605 project\\.venv\\lib\\site-packages (from docker<8.0,>=4.0->prefect) (2.4.0)\n",
      "Requirement already satisfied: starlette<0.47.0,>=0.40.0 in c:\\users\\vanka\\documents\\605 project\\.venv\\lib\\site-packages (from fastapi<1.0.0,>=0.111.0->prefect) (0.46.2)\n",
      "Requirement already satisfied: h11>=0.16 in c:\\users\\vanka\\documents\\605 project\\.venv\\lib\\site-packages (from httpcore<2.0.0,>=1.0.5->prefect) (0.16.0)\n",
      "Requirement already satisfied: MarkupSafe>=2.0 in c:\\users\\vanka\\documents\\605 project\\.venv\\lib\\site-packages (from jinja2<4.0.0,>=3.1.6->prefect) (3.0.2)\n",
      "Requirement already satisfied: jsonpointer>=1.9 in c:\\users\\vanka\\documents\\605 project\\.venv\\lib\\site-packages (from jsonpatch<2.0,>=1.32->prefect) (3.0.0)\n",
      "Requirement already satisfied: attrs>=22.2.0 in c:\\users\\vanka\\documents\\605 project\\.venv\\lib\\site-packages (from jsonschema<5.0.0,>=4.0.0->prefect) (25.3.0)\n",
      "Requirement already satisfied: jsonschema-specifications>=2023.03.6 in c:\\users\\vanka\\documents\\605 project\\.venv\\lib\\site-packages (from jsonschema<5.0.0,>=4.0.0->prefect) (2025.4.1)\n",
      "Requirement already satisfied: referencing>=0.28.4 in c:\\users\\vanka\\documents\\605 project\\.venv\\lib\\site-packages (from jsonschema<5.0.0,>=4.0.0->prefect) (0.36.2)\n",
      "Requirement already satisfied: rpds-py>=0.7.1 in c:\\users\\vanka\\documents\\605 project\\.venv\\lib\\site-packages (from jsonschema<5.0.0,>=4.0.0->prefect) (0.25.0)\n",
      "Requirement already satisfied: deprecated>=1.2.6 in c:\\users\\vanka\\documents\\605 project\\.venv\\lib\\site-packages (from opentelemetry-api<2.0.0,>=1.27.0->prefect) (1.2.18)\n",
      "Requirement already satisfied: importlib-metadata<8.7.0,>=6.0 in c:\\users\\vanka\\documents\\605 project\\.venv\\lib\\site-packages (from opentelemetry-api<2.0.0,>=1.27.0->prefect) (8.6.1)\n",
      "Requirement already satisfied: zipp>=3.20 in c:\\users\\vanka\\documents\\605 project\\.venv\\lib\\site-packages (from importlib-metadata<8.7.0,>=6.0->opentelemetry-api<2.0.0,>=1.27.0->prefect) (3.21.0)\n",
      "Requirement already satisfied: annotated-types>=0.6.0 in c:\\users\\vanka\\documents\\605 project\\.venv\\lib\\site-packages (from pydantic!=2.10.0,<3.0.0,>=2.9->prefect) (0.7.0)\n",
      "Requirement already satisfied: typing-inspection>=0.4.0 in c:\\users\\vanka\\documents\\605 project\\.venv\\lib\\site-packages (from pydantic!=2.10.0,<3.0.0,>=2.9->prefect) (0.4.0)\n",
      "Requirement already satisfied: six>=1.5 in c:\\users\\vanka\\documents\\605 project\\.venv\\lib\\site-packages (from python-dateutil<3.0.0,>=2.8.2->prefect) (1.17.0)\n",
      "Requirement already satisfied: text-unidecode>=1.3 in c:\\users\\vanka\\documents\\605 project\\.venv\\lib\\site-packages (from python-slugify<9.0,>=5.0->prefect) (1.3)\n",
      "Requirement already satisfied: markdown-it-py>=2.2.0 in c:\\users\\vanka\\documents\\605 project\\.venv\\lib\\site-packages (from rich<15.0,>=11.0->prefect) (3.0.0)\n",
      "Requirement already satisfied: pygments<3.0.0,>=2.13.0 in c:\\users\\vanka\\documents\\605 project\\.venv\\lib\\site-packages (from rich<15.0,>=11.0->prefect) (2.19.1)\n",
      "Requirement already satisfied: shellingham>=1.3.0 in c:\\users\\vanka\\documents\\605 project\\.venv\\lib\\site-packages (from typer!=0.12.2,<0.16.0,>=0.12.0->prefect) (1.5.4)\n",
      "Requirement already satisfied: tzdata>=2020.1 in c:\\users\\vanka\\documents\\605 project\\.venv\\lib\\site-packages (from whenever<0.9.0,>=0.7.3->prefect) (2025.2)\n",
      "Requirement already satisfied: numpy>=1.26.0 in c:\\users\\vanka\\documents\\605 project\\.venv\\lib\\site-packages (from pandas) (2.2.6)\n",
      "Requirement already satisfied: contourpy>=1.0.1 in c:\\users\\vanka\\documents\\605 project\\.venv\\lib\\site-packages (from matplotlib) (1.3.2)\n",
      "Requirement already satisfied: cycler>=0.10 in c:\\users\\vanka\\documents\\605 project\\.venv\\lib\\site-packages (from matplotlib) (0.12.1)\n",
      "Requirement already satisfied: fonttools>=4.22.0 in c:\\users\\vanka\\documents\\605 project\\.venv\\lib\\site-packages (from matplotlib) (4.58.0)\n",
      "Requirement already satisfied: kiwisolver>=1.3.1 in c:\\users\\vanka\\documents\\605 project\\.venv\\lib\\site-packages (from matplotlib) (1.4.8)\n",
      "Requirement already satisfied: pillow>=8 in c:\\users\\vanka\\documents\\605 project\\.venv\\lib\\site-packages (from matplotlib) (11.2.1)\n",
      "Requirement already satisfied: pyparsing>=2.3.1 in c:\\users\\vanka\\documents\\605 project\\.venv\\lib\\site-packages (from matplotlib) (3.2.3)\n",
      "Requirement already satisfied: charset-normalizer<4,>=2 in c:\\users\\vanka\\documents\\605 project\\.venv\\lib\\site-packages (from requests) (3.4.2)\n",
      "Requirement already satisfied: cffi>=1.14 in c:\\users\\vanka\\documents\\605 project\\.venv\\lib\\site-packages (from cryptography>=36.0.1->prefect) (1.17.1)\n",
      "Requirement already satisfied: pycparser in c:\\users\\vanka\\documents\\605 project\\.venv\\lib\\site-packages (from cffi>=1.14->cryptography>=36.0.1->prefect) (2.22)\n",
      "Requirement already satisfied: wrapt<2,>=1.10 in c:\\users\\vanka\\documents\\605 project\\.venv\\lib\\site-packages (from deprecated>=1.2.6->opentelemetry-api<2.0.0,>=1.27.0->prefect) (1.17.2)\n",
      "Requirement already satisfied: h2<5,>=3 in c:\\users\\vanka\\documents\\605 project\\.venv\\lib\\site-packages (from httpx[http2]!=0.23.2,>=0.23->prefect) (4.2.0)\n",
      "Requirement already satisfied: hyperframe<7,>=6.1 in c:\\users\\vanka\\documents\\605 project\\.venv\\lib\\site-packages (from h2<5,>=3->httpx[http2]!=0.23.2,>=0.23->prefect) (6.1.0)\n",
      "Requirement already satisfied: hpack<5,>=4.1 in c:\\users\\vanka\\documents\\605 project\\.venv\\lib\\site-packages (from h2<5,>=3->httpx[http2]!=0.23.2,>=0.23->prefect) (4.1.0)\n",
      "Requirement already satisfied: mdurl~=0.1 in c:\\users\\vanka\\documents\\605 project\\.venv\\lib\\site-packages (from markdown-it-py>=2.2.0->rich<15.0,>=11.0->prefect) (0.1.2)\n",
      "Requirement already satisfied: oauthlib>=3.0.0 in c:\\users\\vanka\\documents\\605 project\\.venv\\lib\\site-packages (from requests-oauthlib->apprise<2.0.0,>=1.1.0->prefect) (3.2.2)\n"
     ]
    },
    {
     "data": {
      "text/plain": [
       "True"
      ]
     },
     "execution_count": 43,
     "metadata": {},
     "output_type": "execute_result"
    }
   ],
   "source": [
    "# %%\n",
    "#! pip install requests\n",
    "#! pip install pandas\n",
    "#! pip install matplotlib\n",
    "#! pip install\n",
    "#pip install\n",
    "! pip install prefect pandas matplotlib requests sqlalchemy psycopg2-binary python-dotenv\n",
    "\n",
    "import os\n",
    "import requests\n",
    "import pandas as pd\n",
    "import matplotlib.pyplot as plt\n",
    "import base64\n",
    "import io\n",
    "import smtplib\n",
    "from email.mime.text import MIMEText\n",
    "from sqlalchemy import create_engine\n",
    "from dotenv import load_dotenv\n",
    "\n",
    "from prefect import flow, task, get_run_logger\n",
    "from prefect.artifacts import create_markdown_artifact\n",
    "from datetime import timedelta\n",
    "\n",
    "load_dotenv()"
   ]
  },
  {
   "cell_type": "code",
   "execution_count": 44,
   "id": "a4394b56",
   "metadata": {},
   "outputs": [
    {
     "name": "stdout",
     "output_type": "stream",
     "text": [
      "The autoreload extension is already loaded. To reload it, use:\n",
      "  %reload_ext autoreload\n"
     ]
    }
   ],
   "source": [
    "%load_ext autoreload\n",
    "%autoreload 2\n",
    "%matplotlib inline"
   ]
  },
  {
   "cell_type": "markdown",
   "id": "b7083db9",
   "metadata": {},
   "source": [
    "##  Environment Variables and Email Alert Utility"
   ]
  },
  {
   "cell_type": "code",
   "execution_count": 45,
   "id": "630ceac1",
   "metadata": {},
   "outputs": [],
   "source": [
    "# %%\n",
    "POSTGRES_URL = os.getenv(\"POSTGRES_URL\")\n",
    "ALERT_EMAIL = os.getenv(\"ALERT_EMAIL\")\n",
    "EMAIL_APP_PASSWORD = os.getenv(\"EMAIL_APP_PASSWORD\")\n",
    "\n",
    "\n",
    "def send_email_alert(subject, body):\n",
    "    msg = MIMEText(body)\n",
    "    msg[\"Subject\"] = subject\n",
    "    msg[\"From\"] = ALERT_EMAIL\n",
    "    msg[\"To\"] = ALERT_EMAIL\n",
    "\n",
    "    try:\n",
    "        server = smtplib.SMTP_SSL(\"smtp.gmail.com\", 465)\n",
    "        server.login(ALERT_EMAIL, EMAIL_APP_PASSWORD)\n",
    "        server.sendmail(ALERT_EMAIL, ALERT_EMAIL, msg.as_string())\n",
    "        server.quit()\n",
    "        print(\" Email alert sent.\")\n",
    "    except Exception as e:\n",
    "        print(f\" Email failed: {e}\")"
   ]
  },
  {
   "cell_type": "markdown",
   "id": "d6ea93a0",
   "metadata": {},
   "source": [
    "## Task 1: Fetch Bitcoin Price"
   ]
  },
  {
   "cell_type": "code",
   "execution_count": 46,
   "id": "d557c54c",
   "metadata": {},
   "outputs": [],
   "source": [
    "@task\n",
    "def fetch_bitcoin_price():\n",
    "    logger = get_run_logger()\n",
    "    url = \"https://api.coingecko.com/api/v3/simple/price?ids=bitcoin&vs_currencies=usd\"\n",
    "    response = requests.get(url)\n",
    "    data = response.json()\n",
    "\n",
    "    if response.status_code != 200 or \"bitcoin\" not in data or \"usd\" not in data[\"bitcoin\"]:\n",
    "        logger.error(\" Failed to fetch price.\")\n",
    "        return None\n",
    "\n",
    "    price = data[\"bitcoin\"][\"usd\"]\n",
    "    timestamp = response.headers.get(\"Date\")\n",
    "    logger.info(f\" Bitcoin Price: ${price}\")\n",
    "    return {\"price\": price, \"timestamp\": timestamp}\n"
   ]
  },
  {
   "cell_type": "markdown",
   "id": "632471a9",
   "metadata": {},
   "source": [
    "## ✅ Task 2: Validate Data"
   ]
  },
  {
   "cell_type": "code",
   "execution_count": 47,
   "id": "5338b44e",
   "metadata": {},
   "outputs": [],
   "source": [
    "@task\n",
    "def validate_data(data):\n",
    "    if not data or \"price\" not in data or data[\"price\"] <= 0:\n",
    "        get_run_logger().warning(\"⚠️ Invalid data.\")\n",
    "        return None\n",
    "    return data"
   ]
  },
  {
   "cell_type": "markdown",
   "id": "4b19eba4",
   "metadata": {},
   "source": [
    "## Task 3: Log to Prefect Artifacts"
   ]
  },
  {
   "cell_type": "code",
   "execution_count": 48,
   "id": "640fee51",
   "metadata": {},
   "outputs": [],
   "source": [
    "@task\n",
    "def log_to_prefect_artifact(data):\n",
    "    markdown = f\"\"\"\n",
    "### 📊 Bitcoin Price Log\n",
    "\n",
    "| Timestamp | Price (USD) |\n",
    "|-----------|-------------|\n",
    "| {data['timestamp']} | ${data['price']} |\n",
    "\"\"\"\n",
    "    create_markdown_artifact(key=\"bitcoin-price-log\", markdown=markdown)"
   ]
  },
  {
   "cell_type": "markdown",
   "id": "4a825c08",
   "metadata": {},
   "source": [
    "## Task 4: Visualize Price Trend from PostgreSQL"
   ]
  },
  {
   "cell_type": "code",
   "execution_count": 49,
   "id": "c7484834",
   "metadata": {},
   "outputs": [],
   "source": [
    "def visualize_price(data):\n",
    "    logger = get_run_logger()\n",
    "    try:\n",
    "        engine = create_engine(POSTGRES_URL)\n",
    "        df = pd.read_sql(\"SELECT * FROM prices ORDER BY timestamp DESC LIMIT 20\", con=engine)\n",
    "        df = df.sort_values(\"timestamp\")\n",
    "    except Exception as e:\n",
    "        logger.warning(f\" Could not read from DB: {e}\")\n",
    "        return\n",
    "\n",
    "    fig, ax = plt.subplots()\n",
    "    ax.plot(df[\"timestamp\"], df[\"price\"], marker=\"o\", linestyle=\"-\", color=\"blue\")\n",
    "    ax.set_title(\"Bitcoin Price Trend\")\n",
    "    ax.set_xlabel(\"Timestamp\")\n",
    "    ax.set_ylabel(\"Price (USD)\")\n",
    "    ax.tick_params(axis=\"x\", rotation=45)\n",
    "    ax.grid(True)\n",
    "\n",
    "    buf = io.BytesIO()\n",
    "    plt.tight_layout()\n",
    "    plt.savefig(buf, format=\"png\")\n",
    "    buf.seek(0)\n",
    "    encoded = base64.b64encode(buf.read()).decode(\"utf-8\")\n",
    "    markdown = f\"### Bitcoin Price Chart\\n\\n![chart](data:image/png;base64,{encoded})\"\n",
    "    create_markdown_artifact(key=\"bitcoin-trend-chart\", markdown=markdown)"
   ]
  },
  {
   "cell_type": "markdown",
   "id": "08515e7f",
   "metadata": {},
   "source": [
    "## 🗄️ Task 5: Save to PostgreSQL"
   ]
  },
  {
   "cell_type": "code",
   "execution_count": 50,
   "id": "18a61a7d",
   "metadata": {},
   "outputs": [],
   "source": [
    "def save_to_postgres(data):\n",
    "    df = pd.DataFrame([data])\n",
    "    try:\n",
    "        engine = create_engine(POSTGRES_URL)\n",
    "        df.to_sql(\"prices\", con=engine, if_exists=\"append\", index=False)\n",
    "        get_run_logger().info(\" Data saved to PostgreSQL.\")\n",
    "    except Exception as e:\n",
    "        get_run_logger().error(f\" DB Error: {e}\")"
   ]
  },
  {
   "cell_type": "markdown",
   "id": "e964eb81",
   "metadata": {},
   "source": [
    "## 🚨 Task 6: Detect and Alert on Price Spikes"
   ]
  },
  {
   "cell_type": "code",
   "execution_count": 51,
   "id": "739b4c9a",
   "metadata": {},
   "outputs": [],
   "source": [
    "def detect_trend():\n",
    "    try:\n",
    "        engine = create_engine(POSTGRES_URL)\n",
    "        df = pd.read_sql(\"SELECT * FROM prices ORDER BY timestamp DESC LIMIT 2\", con=engine)\n",
    "    except Exception as e:\n",
    "        get_run_logger().warning(f\"Could not read DB: {e}\")\n",
    "        return\n",
    "\n",
    "    if len(df) < 2:\n",
    "        print(\"ℹ Not enough data to detect trend.\")\n",
    "        return\n",
    "\n",
    "    latest, previous = df.iloc[0], df.iloc[1]\n",
    "    change = (latest['price'] - previous['price']) / previous['price']\n",
    "    msg = f\" Bitcoin price changed:\\nCurrent: ${latest['price']}\\nPrevious: ${previous['price']}\\nChange: {change:.2%}\"\n",
    "\n",
    "    if change > 0.05:\n",
    "        send_email_alert(\" Price Spike\", msg)\n",
    "    elif change < -0.05:\n",
    "        send_email_alert(\" Price Drop\", msg)\n",
    "    else:\n",
    "        print(\"No major spike/drop.\")"
   ]
  },
  {
   "cell_type": "markdown",
   "id": "587d3b1f",
   "metadata": {},
   "source": [
    "## 🔁 Orchestrated Flow"
   ]
  },
  {
   "cell_type": "code",
   "execution_count": 52,
   "id": "badcdcca",
   "metadata": {},
   "outputs": [],
   "source": [
    "@flow(name=\"bitcoin-etl-flow\")\n",
    "def bitcoin_etl_flow():\n",
    "    data = fetch_bitcoin_price()\n",
    "    data = validate_data(data)\n",
    "    if data:\n",
    "        log_to_prefect_artifact(data)\n",
    "        visualize_price(data)\n",
    "        save_to_postgres(data)\n",
    "        detect_trend()"
   ]
  },
  {
   "cell_type": "markdown",
   "id": "b2aea48e",
   "metadata": {},
   "source": [
    "## ⏱️ Scheduled Run Entry"
   ]
  },
  {
   "cell_type": "code",
   "execution_count": 53,
   "id": "c23f6820",
   "metadata": {},
   "outputs": [
    {
     "data": {
      "text/html": [
       "<pre style=\"white-space:pre;overflow-x:auto;line-height:normal;font-family:Menlo,'DejaVu Sans Mono',consolas,'Courier New',monospace\">18:29:27.457 | <span style=\"color: #008080; text-decoration-color: #008080\">INFO</span>    | Flow run<span style=\"color: #800080; text-decoration-color: #800080\"> 'nifty-teal'</span> - Beginning flow run<span style=\"color: #800080; text-decoration-color: #800080\"> 'nifty-teal'</span> for flow<span style=\"color: #800080; text-decoration-color: #800080; font-weight: bold\"> 'bitcoin-etl-flow'</span>\n",
       "</pre>\n"
      ],
      "text/plain": [
       "18:29:27.457 | \u001b[36mINFO\u001b[0m    | Flow run\u001b[35m 'nifty-teal'\u001b[0m - Beginning flow run\u001b[35m 'nifty-teal'\u001b[0m for flow\u001b[1;35m 'bitcoin-etl-flow'\u001b[0m\n"
      ]
     },
     "metadata": {},
     "output_type": "display_data"
    },
    {
     "data": {
      "text/html": [
       "<pre style=\"white-space:pre;overflow-x:auto;line-height:normal;font-family:Menlo,'DejaVu Sans Mono',consolas,'Courier New',monospace\">18:29:27.459 | <span style=\"color: #008080; text-decoration-color: #008080\">INFO</span>    | Flow run<span style=\"color: #800080; text-decoration-color: #800080\"> 'nifty-teal'</span> - View at <span style=\"color: #0000ff; text-decoration-color: #0000ff\">http://127.0.0.1:4200/runs/flow-run/c1560103-a127-4734-b832-17e1544c96b9</span>\n",
       "</pre>\n"
      ],
      "text/plain": [
       "18:29:27.459 | \u001b[36mINFO\u001b[0m    | Flow run\u001b[35m 'nifty-teal'\u001b[0m - View at \u001b[94mhttp://127.0.0.1:4200/runs/flow-run/c1560103-a127-4734-b832-17e1544c96b9\u001b[0m\n"
      ]
     },
     "metadata": {},
     "output_type": "display_data"
    },
    {
     "data": {
      "text/html": [
       "<pre style=\"white-space:pre;overflow-x:auto;line-height:normal;font-family:Menlo,'DejaVu Sans Mono',consolas,'Courier New',monospace\">18:29:27.939 | <span style=\"color: #008080; text-decoration-color: #008080\">INFO</span>    | Task run 'fetch_bitcoin_price-232' -  Bitcoin Price: $103054\n",
       "</pre>\n"
      ],
      "text/plain": [
       "18:29:27.939 | \u001b[36mINFO\u001b[0m    | Task run 'fetch_bitcoin_price-232' -  Bitcoin Price: $103054\n"
      ]
     },
     "metadata": {},
     "output_type": "display_data"
    },
    {
     "data": {
      "text/html": [
       "<pre style=\"white-space:pre;overflow-x:auto;line-height:normal;font-family:Menlo,'DejaVu Sans Mono',consolas,'Courier New',monospace\">18:29:27.943 | <span style=\"color: #008080; text-decoration-color: #008080\">INFO</span>    | Task run 'fetch_bitcoin_price-232' - Finished in state <span style=\"color: #008000; text-decoration-color: #008000\">Completed</span>()\n",
       "</pre>\n"
      ],
      "text/plain": [
       "18:29:27.943 | \u001b[36mINFO\u001b[0m    | Task run 'fetch_bitcoin_price-232' - Finished in state \u001b[32mCompleted\u001b[0m()\n"
      ]
     },
     "metadata": {},
     "output_type": "display_data"
    },
    {
     "data": {
      "text/html": [
       "<pre style=\"white-space:pre;overflow-x:auto;line-height:normal;font-family:Menlo,'DejaVu Sans Mono',consolas,'Courier New',monospace\">18:29:28.308 | <span style=\"color: #008080; text-decoration-color: #008080\">INFO</span>    | Task run 'validate_data-a62' - Finished in state <span style=\"color: #008000; text-decoration-color: #008000\">Completed</span>()\n",
       "</pre>\n"
      ],
      "text/plain": [
       "18:29:28.308 | \u001b[36mINFO\u001b[0m    | Task run 'validate_data-a62' - Finished in state \u001b[32mCompleted\u001b[0m()\n"
      ]
     },
     "metadata": {},
     "output_type": "display_data"
    },
    {
     "data": {
      "text/html": [
       "<pre style=\"white-space:pre;overflow-x:auto;line-height:normal;font-family:Menlo,'DejaVu Sans Mono',consolas,'Courier New',monospace\">18:29:28.720 | <span style=\"color: #008080; text-decoration-color: #008080\">INFO</span>    | Task run 'log_to_prefect_artifact-fc1' - Finished in state <span style=\"color: #008000; text-decoration-color: #008000\">Completed</span>()\n",
       "</pre>\n"
      ],
      "text/plain": [
       "18:29:28.720 | \u001b[36mINFO\u001b[0m    | Task run 'log_to_prefect_artifact-fc1' - Finished in state \u001b[32mCompleted\u001b[0m()\n"
      ]
     },
     "metadata": {},
     "output_type": "display_data"
    },
    {
     "data": {
      "text/html": [
       "<pre style=\"white-space:pre;overflow-x:auto;line-height:normal;font-family:Menlo,'DejaVu Sans Mono',consolas,'Courier New',monospace\">18:29:29.000 | <span style=\"color: #008080; text-decoration-color: #008080\">INFO</span>    | Flow run<span style=\"color: #800080; text-decoration-color: #800080\"> 'nifty-teal'</span> -  Data saved to PostgreSQL.\n",
       "</pre>\n"
      ],
      "text/plain": [
       "18:29:29.000 | \u001b[36mINFO\u001b[0m    | Flow run\u001b[35m 'nifty-teal'\u001b[0m -  Data saved to PostgreSQL.\n"
      ]
     },
     "metadata": {},
     "output_type": "display_data"
    },
    {
     "name": "stdout",
     "output_type": "stream",
     "text": [
      "No major spike/drop.\n"
     ]
    },
    {
     "data": {
      "text/html": [
       "<pre style=\"white-space:pre;overflow-x:auto;line-height:normal;font-family:Menlo,'DejaVu Sans Mono',consolas,'Courier New',monospace\">18:29:29.066 | <span style=\"color: #008080; text-decoration-color: #008080\">INFO</span>    | Flow run<span style=\"color: #800080; text-decoration-color: #800080\"> 'nifty-teal'</span> - Finished in state <span style=\"color: #008000; text-decoration-color: #008000\">Completed</span>()\n",
       "</pre>\n"
      ],
      "text/plain": [
       "18:29:29.066 | \u001b[36mINFO\u001b[0m    | Flow run\u001b[35m 'nifty-teal'\u001b[0m - Finished in state \u001b[32mCompleted\u001b[0m()\n"
      ]
     },
     "metadata": {},
     "output_type": "display_data"
    },
    {
     "data": {
      "image/png": "[encoded data removed]",
      "text/plain": [
       "<Figure size 640x480 with 1 Axes>"
      ]
     },
     "metadata": {},
     "output_type": "display_data"
    }
   ],
   "source": [
    "if __name__ == \"__main__\":\n",
    "    bitcoin_etl_flow()"
   ]
  }
 ],
 "metadata": {
  "kernelspec": {
   "display_name": ".venv",
   "language": "python",
   "name": "python3"
  },
  "language_info": {
   "codemirror_mode": {
    "name": "ipython",
    "version": 3
   },
   "file_extension": ".py",
   "mimetype": "text/x-python",
   "name": "python",
   "nbconvert_exporter": "python",
   "pygments_lexer": "ipython3",
   "version": "3.13.3"
  }
 },
 "nbformat": 4,
 "nbformat_minor": 5
}
