{
 "cells": [
  {
   "cell_type": "code",
   "execution_count": 0,
   "metadata": {
    "application/vnd.databricks.v1+cell": {
     "cellMetadata": {
      "byteLimit": 2048000,
      "rowLimit": 10000
     },
     "inputWidgets": {},
     "nuid": "d6a13242-6634-49d5-bdc2-2d202be9a832",
     "showTitle": false,
     "tableResultSettingsMap": {},
     "title": ""
    }
   },
   "outputs": [
    {
     "name": "stderr",
     "output_type": "stream",
     "text": [
      "INFO:bitcoin_forecast: Libraries loaded and config set\n"
     ]
    }
   ],
   "source": [
    "\"\"\"\n",
    "Bitcoin Price Forecasting with ARIMA  \n",
    "Spring 2025 - DATA605 Final Project \n",
    "Author: Ritik | UMD | Databricks CLI Automation\n",
    "\"\"\"\n",
    "# Config\n",
    "DBFS_DATA_PATH = \"dbfs:/bitcoin/bitcoin_price.json\"\n",
    "DBFS_OUTPUT_PATH = \"dbfs:/bitcoin/forecast_output.csv\"\n",
    "DBFS_OUTPUT_PATH_METRICS = \"dbfs:/bitcoin/metrics.json\"\n",
    "MODEL_ORDER = (1, 1, 1)\n",
    "ARIMA_ORDER_CANDIDATES = [(1, 1, 1), (2, 1, 2), (0, 1, 1)]\n",
    "# Libraries\n",
    "from pyspark.sql import SparkSession\n",
    "import pandas as pd\n",
    "import numpy as np\n",
    "import json\n",
    "import matplotlib.pyplot as plt\n",
    "import matplotlib.dates as mdates\n",
    "from statsmodels.tsa.arima.model import ARIMA\n",
    "import logging\n",
    "from pyspark.sql.types import StructType, StructField, TimestampType, DoubleType\n",
    "from pyspark.sql.functions import from_json, col\n",
    "from sklearn.metrics import mean_absolute_error, mean_squared_error\n",
    "\n",
    "# Logger setup\n",
    "logging.basicConfig()\n",
    "logger = logging.getLogger(\"bitcoin_forecast\")\n",
    "logger.setLevel(logging.INFO)\n",
    "logger.info(\" Libraries loaded and config set\")"
   ]
  },
  {
   "cell_type": "code",
   "execution_count": 0,
   "metadata": {
    "application/vnd.databricks.v1+cell": {
     "cellMetadata": {
      "byteLimit": 2048000,
      "rowLimit": 10000
     },
     "inputWidgets": {},
     "nuid": "c0209d60-549e-4e7f-b720-53e46d755831",
     "showTitle": false,
     "tableResultSettingsMap": {},
     "title": ""
    }
   },
   "outputs": [
    {
     "name": "stderr",
     "output_type": "stream",
     "text": [
      "INFO:bitcoin_forecast: Loaded 1526 rows from DBFS\n"
     ]
    },
    {
     "name": "stdout",
     "output_type": "stream",
     "text": [
      "+-----------------------------------------------------------+\n",
      "|value                                                      |\n",
      "+-----------------------------------------------------------+\n",
      "|{\"timestamp\": \"2025-03-30T04:25:56.663227\", \"price\": 83060}|\n",
      "|{\"timestamp\": \"2025-03-30T05:39:57.371254\", \"price\": 83122}|\n",
      "|{\"timestamp\": \"2025-03-30T05:40:58.257615\", \"price\": 83112}|\n",
      "|{\"timestamp\": \"2025-03-30T05:41:46.834078\", \"price\": 83112}|\n",
      "|{\"timestamp\": \"2025-03-30T05:41:49.688149\", \"price\": 83112}|\n",
      "+-----------------------------------------------------------+\n",
      "only showing top 5 rows\n",
      "\n"
     ]
    }
   ],
   "source": [
    "def load_data(dbfs_path):\n",
    "    \"\"\"Load and validate raw data from DBFS\"\"\"\n",
    "    try:\n",
    "        raw_df = spark.read.text(dbfs_path)\n",
    "        if raw_df.isEmpty():\n",
    "            raise ValueError(f\"No data found at {dbfs_path}\")\n",
    "        \n",
    "        logger.info(f\" Loaded {raw_df.count()} rows from DBFS\")\n",
    "        return raw_df\n",
    "    except Exception as e:\n",
    "        logger.error(f\" Data loading failed: {str(e)}\")\n",
    "        raise\n",
    "\n",
    "# Execute\n",
    "raw_df = load_data(DBFS_DATA_PATH)\n",
    "raw_df.show(5, truncate=False)\n",
    "\n"
   ]
  },
  {
   "cell_type": "code",
   "execution_count": 0,
   "metadata": {
    "application/vnd.databricks.v1+cell": {
     "cellMetadata": {
      "byteLimit": 2048000,
      "rowLimit": 10000
     },
     "inputWidgets": {},
     "nuid": "4b88df11-3060-4f0b-8de5-d7f00fd7bfab",
     "showTitle": false,
     "tableResultSettingsMap": {},
     "title": ""
    }
   },
   "outputs": [
    {
     "name": "stdout",
     "output_type": "stream",
     "text": [
      "Index frequency now: <Day>\n"
     ]
    },
    {
     "data": {
      "text/html": [
       "<div>\n",
       "<style scoped>\n",
       "    .dataframe tbody tr th:only-of-type {\n",
       "        vertical-align: middle;\n",
       "    }\n",
       "\n",
       "    .dataframe tbody tr th {\n",
       "        vertical-align: top;\n",
       "    }\n",
       "\n",
       "    .dataframe thead th {\n",
       "        text-align: right;\n",
       "    }\n",
       "</style>\n",
       "<table border=\"1\" class=\"dataframe\">\n",
       "  <thead>\n",
       "    <tr style=\"text-align: right;\">\n",
       "      <th></th>\n",
       "      <th>price</th>\n",
       "      <th>price_change_pct</th>\n",
       "      <th>price_ma_5</th>\n",
       "    </tr>\n",
       "    <tr>\n",
       "      <th>timestamp</th>\n",
       "      <th></th>\n",
       "      <th></th>\n",
       "      <th></th>\n",
       "    </tr>\n",
       "  </thead>\n",
       "  <tbody>\n",
       "    <tr>\n",
       "      <th>2025-05-13</th>\n",
       "      <td>102854.0</td>\n",
       "      <td>-0.008980</td>\n",
       "      <td>103215.2</td>\n",
       "    </tr>\n",
       "    <tr>\n",
       "      <th>2025-05-14</th>\n",
       "      <td>104236.0</td>\n",
       "      <td>0.013437</td>\n",
       "      <td>103473.0</td>\n",
       "    </tr>\n",
       "    <tr>\n",
       "      <th>2025-05-15</th>\n",
       "      <td>103501.0</td>\n",
       "      <td>-0.007051</td>\n",
       "      <td>103607.6</td>\n",
       "    </tr>\n",
       "    <tr>\n",
       "      <th>2025-05-16</th>\n",
       "      <td>103554.0</td>\n",
       "      <td>0.000512</td>\n",
       "      <td>103586.2</td>\n",
       "    </tr>\n",
       "    <tr>\n",
       "      <th>2025-05-17</th>\n",
       "      <td>103673.0</td>\n",
       "      <td>0.001149</td>\n",
       "      <td>103563.6</td>\n",
       "    </tr>\n",
       "  </tbody>\n",
       "</table>\n",
       "</div>"
      ],
      "text/plain": [
       "               price  price_change_pct  price_ma_5\n",
       "timestamp                                         \n",
       "2025-05-13  102854.0         -0.008980    103215.2\n",
       "2025-05-14  104236.0          0.013437    103473.0\n",
       "2025-05-15  103501.0         -0.007051    103607.6\n",
       "2025-05-16  103554.0          0.000512    103586.2\n",
       "2025-05-17  103673.0          0.001149    103563.6"
      ]
     },
     "execution_count": 11,
     "metadata": {},
     "output_type": "execute_result"
    }
   ],
   "source": [
    "\n",
    "\n",
    "def clean_data(raw_df):\n",
    "\n",
    "    try:\n",
    "        \n",
    "        schema = StructType([\n",
    "            StructField(\"timestamp\", TimestampType(), True),\n",
    "            StructField(\"price\",     DoubleType(),    True),\n",
    "        ])\n",
    "        parsed = (\n",
    "            raw_df\n",
    "            .select(from_json(col(\"value\"), schema).alias(\"j\"))\n",
    "            .select(\"j.*\")\n",
    "            .na.drop(subset=[\"timestamp\", \"price\"])\n",
    "        )\n",
    "\n",
    "        \n",
    "        pdf = parsed.toPandas()\n",
    "        if pdf.empty:\n",
    "            raise ValueError(\"No valid JSON rows after parsing.\")\n",
    "\n",
    "        pdf[\"timestamp\"] = (\n",
    "            pd.to_datetime(pdf[\"timestamp\"], utc=True)\n",
    "              .dt.tz_convert(None)\n",
    "        )\n",
    "\n",
    "        \n",
    "        pdf = (\n",
    "            pdf.dropna(subset=[\"timestamp\", \"price\"])\n",
    "               .sort_values(\"timestamp\")\n",
    "               .drop_duplicates(\"timestamp\", keep=\"last\")\n",
    "               .set_index(\"timestamp\")\n",
    "        )\n",
    "\n",
    "        \n",
    "        pdf = pdf[[\"price\"]].resample(\"D\").ffill()\n",
    "\n",
    "        \n",
    "        pdf = pdf.dropna(subset=[\"price\"])\n",
    "\n",
    "        \n",
    "        pdf[\"price_change_pct\"] = pdf[\"price\"].pct_change()\n",
    "        pdf[\"price_ma_5\"]       = pdf[\"price\"].rolling(5).mean()\n",
    "\n",
    "        \n",
    "        assert not pdf.empty, \"No data after cleaning\"\n",
    "        assert pdf.index.is_unique, \"Duplicate timestamps remain\"\n",
    "        \n",
    "        freq = pd.tseries.frequencies.to_offset(\"D\")\n",
    "        assert pdf.index.freq == freq, f\"Index not daily (got {pdf.index.freq})\"\n",
    "        assert pdf[\"price\"].notna().all(), \"Missing price values after cleaning\"\n",
    "\n",
    "        return pdf\n",
    "\n",
    "    except Exception as e:\n",
    "        logger.error(f\"clean_data failed: {e}\", exc_info=True)\n",
    "        raise\n",
    "\n",
    "\n",
    "pdf = clean_data(raw_df)\n",
    "print(\"Index frequency now:\", pdf.index.freq)\n",
    "pdf.tail()"
   ]
  },
  {
   "cell_type": "code",
   "execution_count": 0,
   "metadata": {
    "application/vnd.databricks.v1+cell": {
     "cellMetadata": {
      "byteLimit": 2048000,
      "rowLimit": 10000
     },
     "inputWidgets": {},
     "nuid": "e53e9566-c2e0-40a9-ad8b-62ce99c4829a",
     "showTitle": false,
     "tableResultSettingsMap": {},
     "title": ""
    }
   },
   "outputs": [],
   "source": [
    "def plot_historical(data: pd.DataFrame):\n",
    "    \"\"\"Plot price history with moving average and clean date ticks.\"\"\"\n",
    "    plt.figure(figsize=(14, 6))\n",
    "    plt.plot(data.index, data['price'],\n",
    "             label=\"Price (USD)\", color=\"#F7931A\")\n",
    "    plt.plot(data.index, data['price_ma_5'],\n",
    "             label=\"5-Point MA\", linestyle=\"--\", color=\"#0D2D6C\")\n",
    "    \n",
    "    plt.title(\"₿ Bitcoin Price Analysis\", pad=20)\n",
    "    plt.xlabel(\"Timestamp\", labelpad=10)\n",
    "    plt.ylabel(\"USD\", labelpad=10)\n",
    "    plt.grid(True, alpha=0.3)\n",
    "    plt.legend()\n",
    "    plt.figtext(0.15, 0.85, \"BTC\",\n",
    "                fontsize=120, alpha=0.1, color=\"#F7931A\", ha='center')\n",
    "    \n",
    "    # ——— clean up the x-axis dates ———\n",
    "    ax = plt.gca()\n",
    "    ax.xaxis.set_major_locator(mdates.AutoDateLocator())\n",
    "    ax.xaxis.set_major_formatter(\n",
    "        mdates.ConciseDateFormatter(ax.xaxis.get_major_locator())\n",
    "    )\n",
    "    plt.xticks(rotation=45, ha='right')\n",
    "    # ——————————————\n",
    "    \n",
    "    plt.tight_layout()\n",
    "    plt.show()\n",
    "\n",
    "# Execute\n",
    "plot_historical(pdf)\n",
    "\n"
   ]
  },
  {
   "cell_type": "code",
   "execution_count": 0,
   "metadata": {
    "application/vnd.databricks.v1+cell": {
     "cellMetadata": {
      "byteLimit": 2048000,
      "rowLimit": 10000
     },
     "inputWidgets": {},
     "nuid": "bb08cf3e-0a03-4e09-a512-9b5fb6e33abc",
     "showTitle": false,
     "tableResultSettingsMap": {},
     "title": ""
    }
   },
   "outputs": [],
   "source": [
    "\n",
    "def train_arima(data: pd.Series):\n",
    "    \"\"\"ARIMA training with manual order selection\"\"\"\n",
    "    try:\n",
    "        #model = ARIMA(data, order=MODEL_ORDER).fit()\n",
    "        freq = pd.infer_freq(data.index)\n",
    "        if freq is not None:\n",
    "            data = data.copy()\n",
    "            data.index = pd.DatetimeIndex(data.index, freq=freq)\n",
    "        orders = ARIMA_ORDER_CANDIDATES\n",
    "        best_model = None\n",
    "        best_order = None\n",
    "        best_aic = np.inf\n",
    "\n",
    "        for order in orders:\n",
    "            try:\n",
    "                #trial_model = ARIMA(data, order=order).fit()\n",
    "                trial_model = ARIMA(data, order=order, trend='t',enforce_stationarity=False,enforce_invertibility=False).fit()\n",
    "\n",
    "                trial_aic = trial_model.aic\n",
    "                logger.info(f\" Order {order} AIC: {trial_aic:.1f}\")\n",
    "                if trial_aic < best_aic:\n",
    "                    best_model = trial_model\n",
    "                    best_order = order\n",
    "                    best_aic = trial_aic\n",
    "            except Exception as e:\n",
    "                logger.warning(f\" ARIMA{order} failed: {e}\")\n",
    "\n",
    "        if best_model is None:\n",
    "            raise RuntimeError(\"No valid ARIMA model could be fit.\")\n",
    "\n",
    "        logger.info(f\" Selected ARIMA{best_order} | AIC: {best_aic:.1f}\")\n",
    "        return best_model, best_order\n",
    "    except Exception as e:\n",
    "        logger.error(f\"ARIMA failed: {e}\")\n",
    "        raise RuntimeError(\"ARIMA model training failed. Check input data.\")\n",
    "\n",
    "model_fit, best_order = train_arima(pdf['price'])\n",
    "print(\"Parameters:\", model_fit.params)\n",
    "names = model_fit.param_names\n",
    "trend_name = [n for n in names\n",
    "              if not n.startswith(('ar.','ma.','sigma2'))][0]\n",
    "print(\"Drift per day:\", model_fit.params[trend_name])\n",
    "model_fit.plot_diagnostics(figsize=(10, 6))\n",
    "plt.tight_layout()\n",
    "plt.show()\n",
    "forecast_results = model_fit.get_forecast(steps=30)\n",
    "forecast = forecast_results.predicted_mean\n",
    "conf_int = forecast_results.conf_int()\n",
    "\n"
   ]
  },
  {
   "cell_type": "code",
   "execution_count": 0,
   "metadata": {
    "application/vnd.databricks.v1+cell": {
     "cellMetadata": {
      "byteLimit": 2048000,
      "rowLimit": 10000
     },
     "inputWidgets": {},
     "nuid": "1467f7c2-cf8b-468a-b786-499de97d4873",
     "showTitle": false,
     "tableResultSettingsMap": {},
     "title": ""
    }
   },
   "outputs": [],
   "source": [
    "def plot_forecast(history: pd.DataFrame,\n",
    "                  forecast: pd.Series,\n",
    "                  conf_int: pd.DataFrame | None = None):\n",
    "    \"\"\"Plot historical data + forecast with matching frequency.\"\"\"\n",
    "    freq = pd.infer_freq(history.index)\n",
    "    offset = pd.Timedelta(1, unit=freq)\n",
    "    future_index = pd.date_range(\n",
    "        start=history.index[-1] + offset,\n",
    "        periods=len(forecast),\n",
    "        freq=freq\n",
    "    )\n",
    "    \n",
    "    plt.figure(figsize=(12, 5))\n",
    "    plt.plot(history.index, history['price'],\n",
    "             label='Historical', color=\"#0D2D6C\")\n",
    "    plt.plot(future_index, forecast,\n",
    "             label='Forecast', linestyle=\"--\", color=\"#F7931A\")\n",
    "    \n",
    "    if conf_int is not None:\n",
    "        plt.fill_between(future_index,\n",
    "                         conf_int.iloc[:, 0],\n",
    "                         conf_int.iloc[:, 1],\n",
    "                         alpha=0.1,\n",
    "                         label='95% CI')\n",
    "    \n",
    "    plt.title('🔮 Bitcoin Price Forecast (Next 30 Intervals)', pad=15)\n",
    "    plt.xlabel('Time')\n",
    "    plt.ylabel('USD')\n",
    "    plt.grid(True, alpha=0.3)\n",
    "    \n",
    "    # cleaner date formatting\n",
    "    ax = plt.gca()\n",
    "    ax.xaxis.set_major_locator(mdates.AutoDateLocator())\n",
    "    ax.xaxis.set_major_formatter(\n",
    "        mdates.ConciseDateFormatter(ax.xaxis.get_major_locator())\n",
    "    )\n",
    "    plt.xticks(rotation=45)\n",
    "    \n",
    "    plt.legend()\n",
    "    plt.tight_layout()\n",
    "    plt.show()\n",
    "\n",
    "# Execute\n",
    "plot_forecast(pdf, forecast, forecast_results.conf_int())\n",
    "\n",
    "\n",
    "plt.show()\n"
   ]
  },
  {
   "cell_type": "code",
   "execution_count": 0,
   "metadata": {
    "application/vnd.databricks.v1+cell": {
     "cellMetadata": {
      "byteLimit": 2048000,
      "rowLimit": 10000
     },
     "inputWidgets": {},
     "nuid": "891c4332-e2c9-4492-a489-1b5ccd56980e",
     "showTitle": false,
     "tableResultSettingsMap": {},
     "title": ""
    }
   },
   "outputs": [
    {
     "name": "stderr",
     "output_type": "stream",
     "text": [
      "INFO:bitcoin_forecast: Saved forecast to /dbfs/bitcoin/forecast_output.csv\n",
      "INFO:bitcoin_forecast: Saved metrics to /dbfs/bitcoin/metrics.json\n",
      "INFO:bitcoin_forecast: DBFS write verified\n"
     ]
    }
   ],
   "source": [
    "def save_results(forecast: pd.Series, history: pd.DataFrame, model_order):\n",
    "    \"\"\"Save forecast to DBFS with metadata\"\"\"\n",
    "    try:\n",
    "        dbutils.fs.mkdirs(\"dbfs:/bitcoin\")\n",
    "        future_index = pd.date_range(\n",
    "            start=history.index[-1] + pd.Timedelta(minutes=15),\n",
    "            periods=len(forecast),\n",
    "            freq='15T'\n",
    "        )\n",
    "        fc_res    = model_fit.get_forecast(steps=len(forecast))\n",
    "        fc_mean   = fc_res.predicted_mean\n",
    "        fc_ci     = fc_res.conf_int(alpha=0.05)\n",
    "\n",
    "        # 2) build a DataFrame with mean and bounds\n",
    "        forecast_df = pd.DataFrame({\n",
    "            'timestamp'      : future_index,\n",
    "            'forecast_price' : fc_mean.values,\n",
    "            'lower_ci'       : fc_ci.iloc[:, 0].values,\n",
    "            'upper_ci'       : fc_ci.iloc[:, 1].values,\n",
    "            'model'          : str(model_order),\n",
    "            'last_trained'   : pd.Timestamp.now().isoformat()\n",
    "        })\n",
    "\n",
    "        y_true = history['price'].iloc[-len(fc_mean):].values  \n",
    "        y_pred = fc_mean.values\n",
    "\n",
    "        metrics = {\n",
    "            \"MAE\":  mean_absolute_error(y_true, y_pred),\n",
    "            \"RMSE\": mean_squared_error(y_true, y_pred, squared=False),\n",
    "            \"MAPE (%)\": (abs((y_true - y_pred) / y_true) * 100).mean()\n",
    "        }\n",
    "        \n",
    "        output_path = DBFS_OUTPUT_PATH.replace(\"dbfs:/\", \"/dbfs/\")\n",
    "        forecast_df.to_csv(output_path, index=False)\n",
    "        logger.info(f\" Saved forecast to {output_path}\")\n",
    "        \n",
    "        metrics_path = DBFS_OUTPUT_PATH_METRICS.replace(\"dbfs:/\", \"/dbfs/\")\n",
    "        with open(metrics_path, \"w\") as f:\n",
    "            json.dump(metrics, f)\n",
    "        logger.info(f\" Saved metrics to {metrics_path}\")\n",
    "        \n",
    "        # Verification\n",
    "        assert len(dbutils.fs.ls(\"dbfs:/bitcoin/\")) > 0, \"DBFS write failed\"\n",
    "        logger.info(\" DBFS write verified\")\n",
    "    except Exception as e:\n",
    "        logger.error(f\" Failed to save results: {str(e)}\")\n",
    "        raise\n",
    "\n",
    "# Execute\n",
    "save_results(forecast, pdf, best_order)\n",
    "\n"
   ]
  },
  {
   "cell_type": "code",
   "execution_count": 0,
   "metadata": {
    "application/vnd.databricks.v1+cell": {
     "cellMetadata": {
      "byteLimit": 2048000,
      "rowLimit": 10000
     },
     "inputWidgets": {},
     "nuid": "870b12bd-a447-4146-bce8-6add2dfb413f",
     "showTitle": false,
     "tableResultSettingsMap": {},
     "title": ""
    }
   },
   "outputs": [
    {
     "name": "stderr",
     "output_type": "stream",
     "text": [
      "INFO:bitcoin_forecast: All data validation tests passed\n"
     ]
    },
    {
     "data": {
      "text/html": [
       "<style scoped>\n",
       "  .table-result-container {\n",
       "    max-height: 300px;\n",
       "    overflow: auto;\n",
       "  }\n",
       "  table, th, td {\n",
       "    border: 1px solid black;\n",
       "    border-collapse: collapse;\n",
       "  }\n",
       "  th, td {\n",
       "    padding: 5px;\n",
       "  }\n",
       "  th {\n",
       "    text-align: left;\n",
       "  }\n",
       "</style><div class='table-result-container'><table class='table-result'><thead style='background-color: white'><tr><th>path</th><th>name</th><th>size</th><th>modificationTime</th></tr></thead><tbody><tr><td>dbfs:/bitcoin/bitcoin_price.json</td><td>bitcoin_price.json</td><td>93286</td><td>1747443823000</td></tr><tr><td>dbfs:/bitcoin/forecast_output.csv</td><td>forecast_output.csv</td><td>3499</td><td>1747444274000</td></tr><tr><td>dbfs:/bitcoin/metrics.json</td><td>metrics.json</td><td>86</td><td>1747444275000</td></tr></tbody></table></div>"
      ]
     },
     "metadata": {
      "application/vnd.databricks.v1+output": {
       "addedWidgets": {},
       "aggData": [],
       "aggError": "",
       "aggOverflow": false,
       "aggSchema": [],
       "aggSeriesLimitReached": false,
       "aggType": "",
       "arguments": {},
       "columnCustomDisplayInfos": {},
       "data": [
        [
         "dbfs:/bitcoin/bitcoin_price.json",
         "bitcoin_price.json",
         93286,
         1747443823000
        ],
        [
         "dbfs:/bitcoin/forecast_output.csv",
         "forecast_output.csv",
         3499,
         1747444274000
        ],
        [
         "dbfs:/bitcoin/metrics.json",
         "metrics.json",
         86,
         1747444275000
        ]
       ],
       "datasetInfos": [],
       "dbfsResultPath": null,
       "isJsonSchema": true,
       "metadata": {},
       "overflow": false,
       "plotOptions": {
        "customPlotOptions": {},
        "displayType": "table",
        "pivotAggregation": null,
        "pivotColumns": null,
        "xColumns": null,
        "yColumns": null
       },
       "removedWidgets": [],
       "schema": [
        {
         "metadata": "{}",
         "name": "path",
         "type": "\"string\""
        },
        {
         "metadata": "{}",
         "name": "name",
         "type": "\"string\""
        },
        {
         "metadata": "{}",
         "name": "size",
         "type": "\"long\""
        },
        {
         "metadata": "{}",
         "name": "modificationTime",
         "type": "\"long\""
        }
       ],
       "type": "table"
      }
     },
     "output_type": "display_data"
    }
   ],
   "source": [
    "# Validation\n",
    "assert not pdf.empty, \"DataFrame should not be empty\"\n",
    "assert pdf.index.is_unique, \"Timestamps contain duplicates\"\n",
    "assert pdf['price'].isna().sum() == 0, \"Missing price values detected\"\n",
    "logger.info(\" All data validation tests passed\")\n",
    "\n",
    "# Show output\n",
    "display(dbutils.fs.ls(\"dbfs:/bitcoin/\"))\n"
   ]
  }
 ],
 "metadata": {
  "application/vnd.databricks.v1+notebook": {
   "computePreferences": null,
   "dashboards": [],
   "environmentMetadata": {
    "base_environment": "",
    "environment_version": "2"
   },
   "inputWidgetPreferences": null,
   "language": "python",
   "notebookMetadata": {
    "pythonIndentUnit": 4
   },
   "notebookName": "bitcoin_analysis",
   "widgets": {}
  },
  "language_info": {
   "name": "python"
  }
 },
 "nbformat": 4,
 "nbformat_minor": 0
}
