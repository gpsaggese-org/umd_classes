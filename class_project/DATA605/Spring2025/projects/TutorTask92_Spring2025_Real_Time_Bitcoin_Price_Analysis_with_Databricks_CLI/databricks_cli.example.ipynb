{
 "cells": [
  {
   "cell_type": "markdown",
   "id": "3ff8914a",
   "metadata": {},
   "source": [
    "# Bitcoin Price Analysis Pipeline Orchestration\n",
    "\n",
    "This notebook orchestrates the end-to-end pipeline for fetching Bitcoin price data, submitting an analysis job to Databricks, retrieving the results, and cleaning up resources, primarily using the Databricks CLI via Python wrappers from `databricks_cli_utils.py`.\n",
    "\n",
    "**Workflow Overview:**\n",
    "1. Create/Start a Databricks cluster using the CLI.\n",
    "2. Fetch current Bitcoin price data from CoinGecko API locally.\n",
    "3. Upload the fetched data to DBFS using the CLI.\n",
    "4. Submit the analysis notebook (`<Your Analysis Notebook Path>.py`) to run as a one-time job on the created cluster using the CLI (`databricks runs submit`).\n",
    "5. Monitor the job run until completion using the CLI.\n",
    "6. Download the analysis results (forecast data) from DBFS using the CLI.\n",
    "7. Terminate the Databricks cluster using the CLI.\n",
    "8. Load and display the downloaded results locally.\n",
    "\n",
    "**Prerequisites:**\n",
    "* Databricks CLI installed and configured (via `databricks configure --token` or environment variables).\n",
    "* A `config/cluster_config.json` file defining a valid cluster specification.\n",
    "* Your analysis notebook (e.g., the one performing ARIMA) uploaded to your Databricks Workspace. You will need its workspace path.\n",
    "* The analysis notebook must be written to read input from a specific DBFS path (e.g., `dbfs:/bitcoin/bitcoin_price.json`) and write its output (e.g., forecast CSV) to another specific DBFS path (e.g., `dbfs:/bitcoin/forecast_output.csv`)."
   ]
  },
  {
   "cell_type": "markdown",
   "id": "d60a7b49",
   "metadata": {},
   "source": [
    "### Check if your databricks config is tagged or not"
   ]
  },
  {
   "cell_type": "code",
   "execution_count": 1,
   "id": "4bb415f3",
   "metadata": {
    "ExecuteTime": {
     "end_time": "2025-05-17T20:45:49.275780Z",
     "start_time": "2025-05-17T20:45:49.263719Z"
    }
   },
   "outputs": [
    {
     "name": "stdout",
     "output_type": "stream",
     "text": [
      "Yes, databricks config found\n"
     ]
    }
   ],
   "source": [
    "import os\n",
    "from configparser import ConfigParser\n",
    "\n",
    "cfg_path = os.path.expanduser(\"~/.databrickscfg\")\n",
    "\n",
    "if os.path.isfile(cfg_path):\n",
    "    # parse to make sure it actually has a token\n",
    "    parser = ConfigParser()\n",
    "    parser.read(cfg_path)\n",
    "    if parser.has_option(\"DEFAULT\", \"token\"):\n",
    "        print(\"Yes, databricks config found\")\n",
    "    else:\n",
    "        print(\"Config file exists, but no token found\")\n",
    "else:\n",
    "    print(\"No config file found\")"
   ]
  },
  {
   "cell_type": "code",
   "execution_count": 2,
   "id": "49b54a9a",
   "metadata": {
    "ExecuteTime": {
     "end_time": "2025-05-17T20:45:59.801353Z",
     "start_time": "2025-05-17T20:45:49.279478Z"
    }
   },
   "outputs": [
    {
     "name": "stdout",
     "output_type": "stream",
     "text": [
      "Setup complete.\n",
      "Local data path: data/bitcoin_price.json\n",
      "DBFS upload path: dbfs:/bitcoin/bitcoin_price.json\n",
      "DBFS results path: dbfs:/bitcoin/forecast_output.csv\n",
      "Local results path: data/forecast_output_live.csv\n",
      "DBFS metric results path: dbfs:/bitcoin/metrics.json\n",
      "Local metric results path: data/metrics.json\n",
      "Analysis notebook path: /Workspace/bitcoin_analysis\n"
     ]
    }
   ],
   "source": [
    "# %load_ext autoreload\n",
    "# %autoreload 2\n",
    "\n",
    "import logging\n",
    "import os\n",
    "import json\n",
    "import time\n",
    "import pandas as pd\n",
    "import matplotlib.pyplot as plt\n",
    "\n",
    "# Import our utility functions\n",
    "import databricks_cli_utils as dcu\n",
    "\n",
    "# Configure logging\n",
    "if not logging.getLogger().hasHandlers():\n",
    "     logging.basicConfig(level=logging.INFO, format='%(asctime)s - %(name)s - %(levelname)s - %(message)s')\n",
    "_LOG = logging.getLogger(__name__)\n",
    "logging.getLogger('databricks_cli_utils').setLevel(logging.DEBUG)\n",
    "\n",
    "# --- Configuration ---\n",
    "CLUSTER_CONFIG_PATH = \"config/cluster_config.json\"\n",
    "CLUSTER_ID_FILE = \"config/cluster_id.txt\"\n",
    "\n",
    "# Local data paths\n",
    "LOCAL_DATA_DIR = \"data\"\n",
    "LOCAL_FETCHED_FILENAME = \"bitcoin_price.json\"\n",
    "LOCAL_FETCHED_PATH = os.path.join(LOCAL_DATA_DIR, LOCAL_FETCHED_FILENAME)\n",
    "LOCAL_RESULTS_FILENAME = \"forecast_output_live.csv\"\n",
    "LOCAL_RESULTS_PATH = os.path.join(LOCAL_DATA_DIR, LOCAL_RESULTS_FILENAME)\n",
    "LOCAL_METRIC_RESULTS_FILENAME = \"metrics.json\"\n",
    "LOCAL_METRIC_RESULTS_PATH = os.path.join(LOCAL_DATA_DIR, LOCAL_METRIC_RESULTS_FILENAME)\n",
    "LOCAL_PLOT_DIR = \"output_plots\"\n",
    "LOCAL_FORECAST_PLOT_PATH = os.path.join(LOCAL_PLOT_DIR, \"forecast_plot_live.png\")\n",
    "\n",
    "# DBFS paths\n",
    "DBFS_BASE_DIR = \"dbfs:/bitcoin\" \n",
    "DBFS_UPLOAD_PATH = f\"{DBFS_BASE_DIR}/{LOCAL_FETCHED_FILENAME}\"\n",
    "DBFS_RESULTS_PATH = f\"{DBFS_BASE_DIR}/forecast_output.csv\"\n",
    "DBFS_METRIC_RESULTS_PATH = f\"{DBFS_BASE_DIR}/metrics.json\"\n",
    "# !! IMPORTANT: Replace with the actual Workspace path to your analysis notebook !!\n",
    "# Example: \"/Users/your_email@domain.com/Bitcoin_Analysis_Notebook\"\n",
    "ANALYSIS_NOTEBOOK_PATH = \"/Workspace/bitcoin_analysis\"\n",
    "\n",
    "# Ensure local directories exist\n",
    "os.makedirs(LOCAL_DATA_DIR, exist_ok=True)\n",
    "os.makedirs(LOCAL_PLOT_DIR, exist_ok=True)\n",
    "\n",
    "# Variables for state tracking\n",
    "cluster_id = None\n",
    "run_id = None\n",
    "\n",
    "print(\"Setup complete.\")\n",
    "print(f\"Local data path: {LOCAL_FETCHED_PATH}\")\n",
    "print(f\"DBFS upload path: {DBFS_UPLOAD_PATH}\")\n",
    "print(f\"DBFS results path: {DBFS_RESULTS_PATH}\")\n",
    "print(f\"Local results path: {LOCAL_RESULTS_PATH}\")\n",
    "print(f\"DBFS metric results path: {DBFS_METRIC_RESULTS_PATH}\")\n",
    "print(f\"Local metric results path: {LOCAL_METRIC_RESULTS_PATH}\")\n",
    "print(f\"Analysis notebook path: {ANALYSIS_NOTEBOOK_PATH}\")\n",
    "\n"
   ]
  },
  {
   "cell_type": "markdown",
   "id": "31c1b5a7",
   "metadata": {},
   "source": [
    "## 1. Start Cluster\n",
    "\n",
    "First, we ensure a cluster is running using the configuration specified in `config/cluster_config.json`. We use the CLI wrapper and wait until the cluster state is \"RUNNING\".\n",
    "\n",
    "---\n",
    "**Note:** This cell interacts live with Databricks and requires CLI configuration. Cluster creation takes several minutes.\n",
    "---"
   ]
  },
  {
   "cell_type": "code",
   "execution_count": 3,
   "id": "ea8e7e3f",
   "metadata": {
    "ExecuteTime": {
     "end_time": "2025-05-17T20:47:39.222980Z",
     "start_time": "2025-05-17T20:45:59.804351Z"
    }
   },
   "outputs": [
    {
     "name": "stderr",
     "output_type": "stream",
     "text": [
      "2025-05-17 20:45:59,813 - __main__ - INFO - --- Step 1: Starting Cluster ---\n",
      "2025-05-17 20:45:59,823 - databricks_cli_utils - DEBUG - Running Databricks CLI command: databricks clusters create --json-file config/cluster_config.json\n"
     ]
    },
    {
     "name": "stdout",
     "output_type": "stream",
     "text": [
      "Step 1: Starting Cluster...\n",
      "Creating new cluster from config/cluster_config.json...\n"
     ]
    },
    {
     "name": "stderr",
     "output_type": "stream",
     "text": [
      "2025-05-17 20:46:01,300 - databricks_cli_utils - DEBUG - CLI command successful.\n",
      "2025-05-17 20:46:01,301 - databricks_cli_utils - DEBUG - Parsed JSON output.\n",
      "2025-05-17 20:46:01,302 - databricks_cli_utils - INFO - Submitted cluster creation. ID: 0517-204600-ni65ntd7\n",
      "2025-05-17 20:46:01,311 - databricks_cli_utils - INFO - Saved cluster ID to config/cluster_id.txt\n",
      "2025-05-17 20:46:01,312 - databricks_cli_utils - DEBUG - Running Databricks CLI command: databricks clusters get --cluster-id 0517-204600-ni65ntd7\n"
     ]
    },
    {
     "name": "stdout",
     "output_type": "stream",
     "text": [
      "Waiting for cluster 0517-204600-ni65ntd7 to be RUNNING...\n"
     ]
    },
    {
     "name": "stderr",
     "output_type": "stream",
     "text": [
      "2025-05-17 20:46:01,984 - databricks_cli_utils - DEBUG - CLI command successful.\n",
      "2025-05-17 20:46:01,985 - databricks_cli_utils - DEBUG - Parsed JSON output.\n",
      "2025-05-17 20:46:01,986 - databricks_cli_utils - INFO - Cluster '0517-204600-ni65ntd7' status: PENDING\n"
     ]
    },
    {
     "name": "stdout",
     "output_type": "stream",
     "text": [
      "Current status: PENDING (Elapsed: 0s)\n"
     ]
    },
    {
     "name": "stderr",
     "output_type": "stream",
     "text": [
      "2025-05-17 20:46:32,015 - databricks_cli_utils - DEBUG - Running Databricks CLI command: databricks clusters get --cluster-id 0517-204600-ni65ntd7\n",
      "2025-05-17 20:46:32,880 - databricks_cli_utils - DEBUG - CLI command successful.\n",
      "2025-05-17 20:46:32,882 - databricks_cli_utils - DEBUG - Parsed JSON output.\n",
      "2025-05-17 20:46:32,882 - databricks_cli_utils - INFO - Cluster '0517-204600-ni65ntd7' status: PENDING\n"
     ]
    },
    {
     "name": "stdout",
     "output_type": "stream",
     "text": [
      "Current status: PENDING (Elapsed: 31s)\n"
     ]
    },
    {
     "name": "stderr",
     "output_type": "stream",
     "text": [
      "2025-05-17 20:47:02,911 - databricks_cli_utils - DEBUG - Running Databricks CLI command: databricks clusters get --cluster-id 0517-204600-ni65ntd7\n",
      "2025-05-17 20:47:08,487 - databricks_cli_utils - DEBUG - CLI command successful.\n",
      "2025-05-17 20:47:08,488 - databricks_cli_utils - DEBUG - Parsed JSON output.\n",
      "2025-05-17 20:47:08,489 - databricks_cli_utils - INFO - Cluster '0517-204600-ni65ntd7' status: PENDING\n"
     ]
    },
    {
     "name": "stdout",
     "output_type": "stream",
     "text": [
      "Current status: PENDING (Elapsed: 67s)\n"
     ]
    },
    {
     "name": "stderr",
     "output_type": "stream",
     "text": [
      "2025-05-17 20:47:38,520 - databricks_cli_utils - DEBUG - Running Databricks CLI command: databricks clusters get --cluster-id 0517-204600-ni65ntd7\n",
      "2025-05-17 20:47:39,216 - databricks_cli_utils - DEBUG - CLI command successful.\n",
      "2025-05-17 20:47:39,217 - databricks_cli_utils - DEBUG - Parsed JSON output.\n",
      "2025-05-17 20:47:39,218 - databricks_cli_utils - INFO - Cluster '0517-204600-ni65ntd7' status: RUNNING\n"
     ]
    },
    {
     "name": "stdout",
     "output_type": "stream",
     "text": [
      "Current status: RUNNING (Elapsed: 97s)\n",
      "Cluster 0517-204600-ni65ntd7 is RUNNING.\n",
      "--- Step 1 Complete: Cluster Ready ---\n"
     ]
    }
   ],
   "source": [
    "_LOG.info(\"--- Step 1: Starting Cluster ---\")\n",
    "print(\"Step 1: Starting Cluster...\")\n",
    "\n",
    "# Check if cluster ID file exists from a previous run\n",
    "if os.path.exists(CLUSTER_ID_FILE):\n",
    "    try:\n",
    "        with open(CLUSTER_ID_FILE, 'r') as f:\n",
    "            cluster_id = f.read().strip()\n",
    "        print(f\"Found existing cluster ID: {cluster_id}. Checking status...\")\n",
    "        status = dcu.get_cluster_status_cli(cluster_id)\n",
    "        if status not in [\"TERMINATED\", \"ERROR\", None]:\n",
    "             print(f\"Cluster {cluster_id} status is {status}.\")\n",
    "        else:\n",
    "             print(f\"Cluster {cluster_id} is {status}. Will create a new one.\")\n",
    "             cluster_id = None\n",
    "             os.remove(CLUSTER_ID_FILE)\n",
    "    except Exception as e:\n",
    "         print(f\"Error reading cluster ID file: {e}. Will create a new cluster.\")\n",
    "         cluster_id = None\n",
    "\n",
    "if not cluster_id:\n",
    "    if not os.path.exists(CLUSTER_CONFIG_PATH):\n",
    "        print(f\"ERROR: Cluster config file not found at {CLUSTER_CONFIG_PATH}. Cannot proceed.\")\n",
    "        raise FileNotFoundError(f\"Missing required file: {CLUSTER_CONFIG_PATH}\")\n",
    "    else:\n",
    "        print(f\"Creating new cluster from {CLUSTER_CONFIG_PATH}...\")\n",
    "        cluster_id = dcu.create_cluster_cli(CLUSTER_CONFIG_PATH, CLUSTER_ID_FILE)\n",
    "\n",
    "if not cluster_id:\n",
    "    print(\"ERROR: Failed to get a valid cluster ID. Stopping execution.\")\n",
    "    raise RuntimeError(\"Failed to create or identify a cluster.\")\n",
    "else:\n",
    "    print(f\"Waiting for cluster {cluster_id} to be RUNNING...\")\n",
    "    max_wait_seconds = 6000\n",
    "    start_time = time.time()\n",
    "    while time.time() - start_time < max_wait_seconds:\n",
    "        status = dcu.get_cluster_status_cli(cluster_id)\n",
    "        print(f\"Current status: {status} (Elapsed: {int(time.time() - start_time)}s)\")\n",
    "        if status == \"RUNNING\":\n",
    "            print(f\"Cluster {cluster_id} is RUNNING.\")\n",
    "            break\n",
    "        elif status in [\"TERMINATED\", \"ERROR\", \"UNKNOWN\", None]:\n",
    "            print(f\"ERROR: Cluster entered unexpected state {status}. Stopping.\")\n",
    "            cluster_id = None\n",
    "            raise RuntimeError(f\"Cluster failed to start (state: {status}).\")\n",
    "            break\n",
    "        time.sleep(30)\n",
    "    else:\n",
    "        print(f\"ERROR: Cluster did not become RUNNING within {max_wait_seconds} seconds. Stopping.\")\n",
    "        dcu.delete_cluster_cli(cluster_id)\n",
    "        cluster_id = None\n",
    "        raise TimeoutError(\"Cluster start timed out.\")\n",
    "\n",
    "if cluster_id:\n",
    "     print(\"--- Step 1 Complete: Cluster Ready ---\")\n",
    "else:\n",
    "     print(\"--- Step 1 Failed ---\")"
   ]
  },
  {
   "cell_type": "markdown",
   "id": "4319abd8",
   "metadata": {},
   "source": [
    "## 2. Fetch Bitcoin Data\n",
    "\n",
    "Next, we fetch the latest Bitcoin price from the CoinGecko API and save it to a local JSON file."
   ]
  },
  {
   "cell_type": "code",
   "execution_count": 4,
   "id": "c65db231",
   "metadata": {
    "ExecuteTime": {
     "end_time": "2025-05-17T20:47:39.586429Z",
     "start_time": "2025-05-17T20:47:39.227376Z"
    }
   },
   "outputs": [
    {
     "name": "stderr",
     "output_type": "stream",
     "text": [
      "2025-05-17 20:47:39,230 - __main__ - INFO - --- Step 2: Fetching Bitcoin Data ---\n"
     ]
    },
    {
     "name": "stdout",
     "output_type": "stream",
     "text": [
      "\n",
      "Step 2: Fetching Bitcoin Data...\n"
     ]
    },
    {
     "name": "stderr",
     "output_type": "stream",
     "text": [
      "2025-05-17 20:47:39,582 - databricks_cli_utils - INFO - Fetched/saved Bitcoin price: $103203 to data/bitcoin_price.json\n"
     ]
    },
    {
     "name": "stdout",
     "output_type": "stream",
     "text": [
      "Data saved locally to: data/bitcoin_price.json\n",
      "--- Step 2 Complete ---\n"
     ]
    }
   ],
   "source": [
    "if cluster_id:\n",
    "    _LOG.info(\"--- Step 2: Fetching Bitcoin Data ---\")\n",
    "    print(\"\\nStep 2: Fetching Bitcoin Data...\")\n",
    "    local_data_path = dcu.fetch_bitcoin_data(\n",
    "        output_dir=LOCAL_DATA_DIR,\n",
    "        output_filename=LOCAL_FETCHED_FILENAME\n",
    "    )\n",
    "    if local_data_path:\n",
    "        print(f\"Data saved locally to: {local_data_path}\")\n",
    "        print(\"--- Step 2 Complete ---\")\n",
    "    else:\n",
    "        print(\"ERROR: Failed to fetch Bitcoin data. Stopping execution.\")\n",
    "else:\n",
    "    print(\"Skipping Step 2 due to cluster failure.\")"
   ]
  },
  {
   "cell_type": "markdown",
   "id": "41bdf267",
   "metadata": {},
   "source": [
    "## 3. Upload Data to DBFS\n",
    "\n",
    "We upload the locally fetched data file to DBFS so the analysis job running on the cluster can access it.\n",
    "\n",
    "---\n",
    "**Note:** This cell interacts live with Databricks and requires CLI configuration.\n",
    "---"
   ]
  },
  {
   "cell_type": "code",
   "execution_count": 5,
   "id": "65432014",
   "metadata": {
    "ExecuteTime": {
     "end_time": "2025-05-17T20:47:40.843386Z",
     "start_time": "2025-05-17T20:47:39.589382Z"
    }
   },
   "outputs": [
    {
     "name": "stderr",
     "output_type": "stream",
     "text": [
      "2025-05-17 20:47:39,592 - __main__ - INFO - --- Step 3: Uploading Data to DBFS ---\n",
      "2025-05-17 20:47:39,597 - databricks_cli_utils - DEBUG - Running Databricks CLI command: databricks fs cp data/bitcoin_price.json dbfs:/bitcoin/bitcoin_price.json --overwrite\n"
     ]
    },
    {
     "name": "stdout",
     "output_type": "stream",
     "text": [
      "\n",
      "Step 3: Uploading Data to DBFS...\n",
      "Uploading data/bitcoin_price.json to dbfs:/bitcoin/bitcoin_price.json\n"
     ]
    },
    {
     "name": "stderr",
     "output_type": "stream",
     "text": [
      "2025-05-17 20:47:40,837 - databricks_cli_utils - DEBUG - CLI command successful.\n",
      "2025-05-17 20:47:40,838 - databricks_cli_utils - DEBUG - Command successful, output is not JSON.\n",
      "2025-05-17 20:47:40,839 - databricks_cli_utils - INFO - Uploaded 'data/bitcoin_price.json' to 'dbfs:/bitcoin/bitcoin_price.json'\n"
     ]
    },
    {
     "name": "stdout",
     "output_type": "stream",
     "text": [
      "Upload successful.\n",
      "--- Step 3 Complete ---\n"
     ]
    }
   ],
   "source": [
    "if cluster_id and local_data_path:\n",
    "    _LOG.info(\"--- Step 3: Uploading Data to DBFS ---\")\n",
    "    print(\"\\nStep 3: Uploading Data to DBFS...\")\n",
    "    print(f\"Uploading {local_data_path} to {DBFS_UPLOAD_PATH}\")\n",
    "    success = dcu.upload_to_dbfs_cli(\n",
    "        local_path=local_data_path,\n",
    "        dbfs_path=DBFS_UPLOAD_PATH,\n",
    "        overwrite=True\n",
    "    )\n",
    "    if success:\n",
    "        print(\"Upload successful.\")\n",
    "        print(\"--- Step 3 Complete ---\")\n",
    "    else:\n",
    "        print(\"ERROR: Failed to upload data to DBFS. Stopping execution.\")\n",
    "else:\n",
    "    print(\"Skipping Step 3 due to previous failure.\")"
   ]
  },
  {
   "cell_type": "markdown",
   "id": "7b089534",
   "metadata": {},
   "source": [
    "## 4. Submit Analysis Run\n",
    "\n",
    "Now we submit the analysis notebook to run as a one-time job on the cluster we created. We use the `databricks runs submit` command (via a wrapper) for this.\n",
    "\n",
    "---\n",
    "**Note:** This cell interacts live with Databricks and requires CLI configuration. Ensure the `ANALYSIS_NOTEBOOK_PATH` variable is set correctly to the path of your analysis notebook in the Databricks workspace.\n",
    "---"
   ]
  },
  {
   "cell_type": "code",
   "execution_count": 6,
   "id": "8917ae59",
   "metadata": {
    "ExecuteTime": {
     "end_time": "2025-05-17T20:47:42.122899Z",
     "start_time": "2025-05-17T20:47:40.847175Z"
    }
   },
   "outputs": [
    {
     "name": "stderr",
     "output_type": "stream",
     "text": [
      "2025-05-17 20:47:40,850 - __main__ - INFO - --- Step 4: Submitting Analysis Run ---\n",
      "2025-05-17 20:47:40,852 - databricks_cli_utils - DEBUG - Running Databricks CLI command: databricks runs submit --json '{\"existing_cluster_id\": \"0517-204600-ni65ntd7\", \"notebook_task\": {\"notebook_path\": \"/Workspace/bitcoin_analysis\"}, \"run_name\": \"NotebookRun_bitcoin_analysis_1747514860\"}'\n"
     ]
    },
    {
     "name": "stdout",
     "output_type": "stream",
     "text": [
      "\n",
      "Step 4: Submitting Analysis Run...\n",
      "Submitting notebook /Workspace/bitcoin_analysis to run on cluster 0517-204600-ni65ntd7\n"
     ]
    },
    {
     "name": "stderr",
     "output_type": "stream",
     "text": [
      "2025-05-17 20:47:42,117 - databricks_cli_utils - DEBUG - CLI command successful.\n",
      "2025-05-17 20:47:42,118 - databricks_cli_utils - DEBUG - Parsed JSON output.\n",
      "2025-05-17 20:47:42,119 - databricks_cli_utils - INFO - Successfully submitted run for notebook '/Workspace/bitcoin_analysis' on cluster '0517-204600-ni65ntd7'. Run ID: 877441228004306\n"
     ]
    },
    {
     "name": "stdout",
     "output_type": "stream",
     "text": [
      "Run submitted successfully. Run ID: 877441228004306\n",
      "--- Step 4 Complete ---\n"
     ]
    }
   ],
   "source": [
    "if cluster_id and local_data_path and success:\n",
    "    _LOG.info(\"--- Step 4: Submitting Analysis Run ---\")\n",
    "    print(\"\\nStep 4: Submitting Analysis Run...\")\n",
    "    print(f\"Submitting notebook {ANALYSIS_NOTEBOOK_PATH} to run on cluster {cluster_id}\")\n",
    "\n",
    "    run_id = dcu.submit_notebook_run_cli(\n",
    "        notebook_path=ANALYSIS_NOTEBOOK_PATH,\n",
    "        cluster_id=cluster_id\n",
    "    )\n",
    "\n",
    "    if run_id:\n",
    "        print(f\"Run submitted successfully. Run ID: {run_id}\")\n",
    "        print(\"--- Step 4 Complete ---\")\n",
    "    else:\n",
    "        print(\"ERROR: Failed to submit run. Stopping execution.\")\n",
    "else:\n",
    "    print(\"Skipping Step 4 due to previous failure.\")"
   ]
  },
  {
   "cell_type": "markdown",
   "id": "03ab7a0c",
   "metadata": {},
   "source": [
    "## 5. Monitor Job Run Completion\n",
    "\n",
    "The analysis job runs asynchronously on Databricks. We need to poll its status using the `run_id` until it completes.\n",
    "\n",
    "---\n",
    "**Note:** This cell interacts live with Databricks and requires CLI configuration. It will wait for the job to finish.\n",
    "---"
   ]
  },
  {
   "cell_type": "code",
   "execution_count": 7,
   "id": "e4d65c85",
   "metadata": {
    "ExecuteTime": {
     "end_time": "2025-05-17T20:49:49.222074Z",
     "start_time": "2025-05-17T20:47:42.126395Z"
    }
   },
   "outputs": [
    {
     "name": "stderr",
     "output_type": "stream",
     "text": [
      "2025-05-17 20:47:42,133 - __main__ - INFO - --- Step 5: Monitoring Run Completion ---\n",
      "2025-05-17 20:47:42,134 - databricks_cli_utils - DEBUG - Running Databricks CLI command: databricks runs get --run-id 877441228004306\n"
     ]
    },
    {
     "name": "stdout",
     "output_type": "stream",
     "text": [
      "\n",
      "Step 5: Monitoring Run 877441228004306...\n"
     ]
    },
    {
     "name": "stderr",
     "output_type": "stream",
     "text": [
      "2025-05-17 20:47:42,896 - databricks_cli_utils - DEBUG - CLI command successful.\n",
      "2025-05-17 20:47:42,897 - databricks_cli_utils - DEBUG - Parsed JSON output.\n",
      "2025-05-17 20:47:42,898 - databricks_cli_utils - INFO - Job run '877441228004306' status: PENDING\n"
     ]
    },
    {
     "name": "stdout",
     "output_type": "stream",
     "text": [
      "Current run status: PENDING (Result: None, Elapsed: 0s)\n"
     ]
    },
    {
     "name": "stderr",
     "output_type": "stream",
     "text": [
      "2025-05-17 20:48:42,956 - databricks_cli_utils - DEBUG - Running Databricks CLI command: databricks runs get --run-id 877441228004306\n",
      "2025-05-17 20:48:48,229 - databricks_cli_utils - DEBUG - CLI command successful.\n",
      "2025-05-17 20:48:48,230 - databricks_cli_utils - DEBUG - Parsed JSON output.\n",
      "2025-05-17 20:48:48,231 - databricks_cli_utils - INFO - Job run '877441228004306' status: RUNNING\n"
     ]
    },
    {
     "name": "stdout",
     "output_type": "stream",
     "text": [
      "Current run status: RUNNING (Result: None, Elapsed: 66s)\n"
     ]
    },
    {
     "name": "stderr",
     "output_type": "stream",
     "text": [
      "2025-05-17 20:49:48,266 - databricks_cli_utils - DEBUG - Running Databricks CLI command: databricks runs get --run-id 877441228004306\n",
      "2025-05-17 20:49:49,216 - databricks_cli_utils - DEBUG - CLI command successful.\n",
      "2025-05-17 20:49:49,217 - databricks_cli_utils - DEBUG - Parsed JSON output.\n",
      "2025-05-17 20:49:49,218 - databricks_cli_utils - INFO - Job run '877441228004306' status: TERMINATED\n"
     ]
    },
    {
     "name": "stdout",
     "output_type": "stream",
     "text": [
      "Current run status: TERMINATED (Result: SUCCESS, Elapsed: 127s)\n",
      "Run 877441228004306 completed successfully.\n",
      "--- Step 5 Complete: Run Succeeded ---\n"
     ]
    }
   ],
   "source": [
    "job_success = False\n",
    "if cluster_id and run_id:\n",
    "    _LOG.info(\"--- Step 5: Monitoring Run Completion ---\")\n",
    "    print(f\"\\nStep 5: Monitoring Run {run_id}...\")\n",
    "    max_wait_job_seconds = 18000\n",
    "    start_time_job = time.time()\n",
    "    final_state = None\n",
    "    while time.time() - start_time_job < max_wait_job_seconds:\n",
    "        run_state = dcu.get_job_run_status_cli(run_id)\n",
    "        if run_state:\n",
    "            life_cycle_state = run_state.get('life_cycle_state', 'UNKNOWN')\n",
    "            result_state = run_state.get('result_state', None)\n",
    "            print(f\"Current run status: {life_cycle_state} (Result: {result_state}, Elapsed: {int(time.time() - start_time_job)}s)\")\n",
    "\n",
    "            if life_cycle_state in [\"TERMINATED\", \"SKIPPED\", \"INTERNAL_ERROR\"]:\n",
    "                final_state = run_state\n",
    "                if result_state == \"SUCCESS\":\n",
    "                    print(f\"Run {run_id} completed successfully.\")\n",
    "                    job_success = True\n",
    "                else:\n",
    "                    print(f\"ERROR: Run {run_id} finished with state {life_cycle_state} / {result_state}. Message: {run_state.get('state_message', 'N/A')}\")\n",
    "                break \n",
    "        else:\n",
    "            print(\"Warning: Could not retrieve run status. Retrying...\")\n",
    "            \n",
    "\n",
    "        time.sleep(60) \n",
    "    else: \n",
    "        print(f\"ERROR: Run {run_id} did not complete within {max_wait_job_seconds} seconds. Stopping.\")\n",
    "        \n",
    "        job_success = False\n",
    "\n",
    "    if job_success:\n",
    "        print(\"--- Step 5 Complete: Run Succeeded ---\")\n",
    "    else:\n",
    "        print(\"--- Step 5 Failed ---\")\n",
    "\n",
    "else:\n",
    "    print(\"Skipping Step 5 due to previous failure.\")"
   ]
  },
  {
   "cell_type": "markdown",
   "id": "02d521ff",
   "metadata": {},
   "source": [
    "## 6. Download Results from DBFS\n",
    "\n",
    "If the job run was successful, the analysis notebook should have saved the forecast results to DBFS. We now download that file locally.\n",
    "\n",
    "---\n",
    "**Note:** This cell interacts live with Databricks and requires CLI configuration. It assumes the analysis notebook saved results to `DBFS_RESULTS_PATH`.\n",
    "---"
   ]
  },
  {
   "cell_type": "code",
   "execution_count": 8,
   "id": "4fa8776f",
   "metadata": {
    "ExecuteTime": {
     "end_time": "2025-05-17T20:49:51.359304Z",
     "start_time": "2025-05-17T20:49:49.225907Z"
    }
   },
   "outputs": [
    {
     "name": "stderr",
     "output_type": "stream",
     "text": [
      "2025-05-17 20:49:49,230 - __main__ - INFO - --- Step 6: Downloading Results ---\n",
      "2025-05-17 20:49:49,235 - databricks_cli_utils - DEBUG - Running Databricks CLI command: databricks fs cp dbfs:/bitcoin/forecast_output.csv data/forecast_output_live.csv --overwrite\n"
     ]
    },
    {
     "name": "stdout",
     "output_type": "stream",
     "text": [
      "\n",
      "Step 6: Downloading Results...\n",
      "Downloading dbfs:/bitcoin/forecast_output.csv to data/forecast_output_live.csv\n"
     ]
    },
    {
     "name": "stderr",
     "output_type": "stream",
     "text": [
      "2025-05-17 20:49:50,286 - databricks_cli_utils - DEBUG - CLI command successful.\n",
      "2025-05-17 20:49:50,287 - databricks_cli_utils - DEBUG - Command successful, output is not JSON.\n",
      "2025-05-17 20:49:50,288 - databricks_cli_utils - INFO - Downloaded 'dbfs:/bitcoin/forecast_output.csv' to 'data/forecast_output_live.csv'\n",
      "2025-05-17 20:49:50,292 - databricks_cli_utils - DEBUG - Running Databricks CLI command: databricks fs cp dbfs:/bitcoin/metrics.json data/metrics.json --overwrite\n"
     ]
    },
    {
     "name": "stdout",
     "output_type": "stream",
     "text": [
      "Downloading dbfs:/bitcoin/metrics.json to data/metrics.json\n"
     ]
    },
    {
     "name": "stderr",
     "output_type": "stream",
     "text": [
      "2025-05-17 20:49:51,352 - databricks_cli_utils - DEBUG - CLI command successful.\n",
      "2025-05-17 20:49:51,353 - databricks_cli_utils - DEBUG - Command successful, output is not JSON.\n",
      "2025-05-17 20:49:51,354 - databricks_cli_utils - INFO - Downloaded 'dbfs:/bitcoin/metrics.json' to 'data/metrics.json'\n"
     ]
    },
    {
     "name": "stdout",
     "output_type": "stream",
     "text": [
      "Results downloaded successfully to data/forecast_output_live.csv\n",
      "Results downloaded successfully to data/metrics.json\n",
      "--- Step 6 Complete ---\n"
     ]
    }
   ],
   "source": [
    "results_downloaded = False\n",
    "if cluster_id and job_success:\n",
    "    _LOG.info(\"--- Step 6: Downloading Results ---\")\n",
    "    print(\"\\nStep 6: Downloading Results...\")\n",
    "    print(f\"Downloading {DBFS_RESULTS_PATH} to {LOCAL_RESULTS_PATH}\")\n",
    "    success = dcu.download_from_dbfs_cli(\n",
    "        dbfs_path=DBFS_RESULTS_PATH,\n",
    "        local_path=LOCAL_RESULTS_PATH,\n",
    "        overwrite=True\n",
    "    )\n",
    "    print(f\"Downloading {DBFS_METRIC_RESULTS_PATH} to {LOCAL_METRIC_RESULTS_PATH}\")\n",
    "    success = dcu.download_from_dbfs_cli(\n",
    "        dbfs_path=DBFS_METRIC_RESULTS_PATH,\n",
    "        local_path=LOCAL_METRIC_RESULTS_PATH,\n",
    "        overwrite=True\n",
    "    )\n",
    "    if success:\n",
    "        print(f\"Results downloaded successfully to {LOCAL_RESULTS_PATH}\")\n",
    "        print(f\"Results downloaded successfully to {LOCAL_METRIC_RESULTS_PATH}\")\n",
    "        results_downloaded = True\n",
    "        print(\"--- Step 6 Complete ---\")\n",
    "    else:\n",
    "        print(f\"ERROR: Failed to download results from DBFS. Check if the analysis job saved the output correctly.\")\n",
    "else:\n",
    "     print(\"Skipping Step 6 due to previous failure or job failure.\")"
   ]
  },
  {
   "cell_type": "markdown",
   "id": "f742cd92",
   "metadata": {},
   "source": [
    "## 7. Terminate Cluster\n",
    "\n",
    "Now that we have the results (or the job failed), we terminate the cluster to stop incurring costs.\n",
    "\n",
    "---\n",
    "**Note:** This cell interacts live with Databricks and requires CLI configuration.\n",
    "---"
   ]
  },
  {
   "cell_type": "code",
   "execution_count": 9,
   "id": "a851cc83",
   "metadata": {
    "ExecuteTime": {
     "end_time": "2025-05-17T20:49:52.277981Z",
     "start_time": "2025-05-17T20:49:51.362753Z"
    }
   },
   "outputs": [
    {
     "name": "stderr",
     "output_type": "stream",
     "text": [
      "2025-05-17 20:49:51,366 - __main__ - INFO - --- Step 7: Terminating Cluster ---\n",
      "2025-05-17 20:49:51,368 - databricks_cli_utils - DEBUG - Running Databricks CLI command: databricks clusters delete --cluster-id 0517-204600-ni65ntd7\n"
     ]
    },
    {
     "name": "stdout",
     "output_type": "stream",
     "text": [
      "\n",
      "Step 7: Terminating Cluster 0517-204600-ni65ntd7...\n"
     ]
    },
    {
     "name": "stderr",
     "output_type": "stream",
     "text": [
      "2025-05-17 20:49:52,265 - databricks_cli_utils - DEBUG - CLI command successful.\n",
      "2025-05-17 20:49:52,266 - databricks_cli_utils - DEBUG - Command successful, output is not JSON.\n",
      "2025-05-17 20:49:52,268 - databricks_cli_utils - INFO - Submitted deletion request for cluster '0517-204600-ni65ntd7'\n"
     ]
    },
    {
     "name": "stdout",
     "output_type": "stream",
     "text": [
      "Cluster 0517-204600-ni65ntd7 deletion request submitted.\n",
      "Removed cluster ID file: config/cluster_id.txt\n",
      "--- Step 7 Complete ---\n"
     ]
    }
   ],
   "source": [
    "if cluster_id:\n",
    "    _LOG.info(\"--- Step 7: Terminating Cluster ---\")\n",
    "    print(f\"\\nStep 7: Terminating Cluster {cluster_id}...\")\n",
    "    deleted = dcu.delete_cluster_cli(cluster_id)\n",
    "    if deleted:\n",
    "        print(f\"Cluster {cluster_id} deletion request submitted.\")\n",
    "        if os.path.exists(CLUSTER_ID_FILE):\n",
    "             try:\n",
    "                 os.remove(CLUSTER_ID_FILE)\n",
    "                 print(f\"Removed cluster ID file: {CLUSTER_ID_FILE}\")\n",
    "             except OSError as e:\n",
    "                 print(f\"Warning: Could not remove cluster ID file {CLUSTER_ID_FILE}: {e}\")\n",
    "        cluster_id = None\n",
    "        print(\"--- Step 7 Complete ---\")\n",
    "    else:\n",
    "        print(f\"ERROR: Failed to submit deletion request for cluster {cluster_id}. Manual cleanup may be required.\")\n",
    "else:\n",
    "    print(\"Skipping Step 7 - no active cluster ID.\")"
   ]
  },
  {
   "cell_type": "markdown",
   "id": "71234d73",
   "metadata": {},
   "source": [
    "## 8. Load and Display Results\n",
    "\n",
    "If the results were downloaded successfully, we load the CSV file and display the forecast data."
   ]
  },
  {
   "cell_type": "code",
   "execution_count": 10,
   "id": "8a81b0a4",
   "metadata": {
    "ExecuteTime": {
     "end_time": "2025-05-17T20:49:52.940128Z",
     "start_time": "2025-05-17T20:49:52.282355Z"
    }
   },
   "outputs": [
    {
     "name": "stderr",
     "output_type": "stream",
     "text": [
      "2025-05-17 20:49:52,287 - __main__ - INFO - --- Step 8: Loading Downloaded Results ---\n"
     ]
    },
    {
     "name": "stdout",
     "output_type": "stream",
     "text": [
      "\n",
      "Step 8: Loading Downloaded Results...\n",
      "Successfully loaded forecast data from data/forecast_output_live.csv\n",
      "Successfully loaded forecast data from data/metrics.json\n",
      "Forecast Head:\n",
      "                     forecast_price       lower_ci       upper_ci\n",
      "timestamp                                                        \n",
      "2025-05-17 00:15:00   104177.267894  100245.200666  108109.335121\n",
      "2025-05-17 00:30:00   104645.595815   99767.199889  109523.991741\n",
      "2025-05-17 00:45:00   105129.893441   98961.852873  111297.934008\n",
      "2025-05-17 01:00:00   105608.219675   98625.392565  112591.046785\n",
      "2025-05-17 01:15:00   106088.328184   98275.853746  113900.802623\n",
      "\n",
      "Forecast Tail:\n",
      "                     forecast_price      lower_ci       upper_ci\n",
      "timestamp                                                       \n",
      "2025-05-17 06:30:00   116163.754521  98585.950719  133741.558323\n",
      "2025-05-17 06:45:00   116643.537953  98732.876493  134554.199413\n",
      "2025-05-17 07:00:00   117123.321385  98885.876351  135360.766420\n",
      "2025-05-17 07:15:00   117603.104817  99044.629427  136161.580208\n",
      "2025-05-17 07:30:00   118082.888249  99208.842148  136956.934351\n",
      "Model Performance:\n",
      "- MAE: 15255.88\n",
      "- RMSE: 15481.79\n",
      "- MAPE (%): 16.13\n",
      "--- Step 8 Complete ---\n"
     ]
    }
   ],
   "source": [
    "\n",
    "forecast_df = None\n",
    "if results_downloaded:\n",
    "    _LOG.info(\"--- Step 8: Loading Downloaded Results ---\")\n",
    "    print(\"\\nStep 8: Loading Downloaded Results...\")\n",
    "    try:\n",
    "        forecast_df = pd.read_csv(LOCAL_RESULTS_PATH, parse_dates=['timestamp'], index_col='timestamp')[[\"forecast_price\", \"lower_ci\", \"upper_ci\"]]\n",
    "        print(f\"Successfully loaded forecast data from {LOCAL_RESULTS_PATH}\")\n",
    "        metrics   = pd.read_json(LOCAL_METRIC_RESULTS_PATH, orient=\"index\", typ=\"series\")\n",
    "        print(f\"Successfully loaded forecast data from {LOCAL_METRIC_RESULTS_PATH}\")\n",
    "        print(\"Forecast Head:\")\n",
    "        print(forecast_df.head())\n",
    "        print(\"\\nForecast Tail:\")\n",
    "        print(forecast_df.tail())\n",
    "        print(\"Model Performance:\")\n",
    "        for name, val in metrics.items():\n",
    "            print(f\"- {name}: {val:.2f}\")\n",
    "        print(\"--- Step 8 Complete ---\")\n",
    "    except Exception as e:\n",
    "        print(f\"ERROR: Failed to load or display results CSV from {LOCAL_RESULTS_PATH},{LOCAL_METRIC_RESULTS_PATH}: {e}\")\n",
    "        forecast_df = None\n",
    "else:\n",
    "    print(\"Skipping Step 8 - results not downloaded.\")"
   ]
  },
  {
   "cell_type": "markdown",
   "id": "983ea6d6",
   "metadata": {},
   "source": [
    "## 9. Visualize Results\n",
    "\n",
    "Finally, we can visualize the forecast alongside the historical data (which we still have locally or can re-parse). We regenerate the plot locally using the downloaded forecast."
   ]
  },
  {
   "cell_type": "code",
   "execution_count": 11,
   "id": "cd43e978",
   "metadata": {
    "ExecuteTime": {
     "end_time": "2025-05-17T20:49:54.569741Z",
     "start_time": "2025-05-17T20:49:52.942945Z"
    }
   },
   "outputs": [
    {
     "name": "stderr",
     "output_type": "stream",
     "text": [
      "2025-05-17 20:49:52,951 - __main__ - INFO - --- Step 9: Visualizing Results ---\n"
     ]
    },
    {
     "name": "stdout",
     "output_type": "stream",
     "text": [
      "\n",
      "Step 9: Visualizing Results...\n",
      "Parsing historical data from data/bitcoin_price.json for plotting...\n"
     ]
    },
    {
     "name": "stderr",
     "output_type": "stream",
     "text": [
      "2025-05-17 20:49:53,244 - databricks_cli_utils - INFO - Parsed/cleaned data from data/bitcoin_price.json. Shape: (1524, 3)\n"
     ]
    },
    {
     "name": "stdout",
     "output_type": "stream",
     "text": [
      "Generating forecast plot...\n"
     ]
    },
    {
     "name": "stderr",
     "output_type": "stream",
     "text": [
      "2025-05-17 20:49:53,500 - databricks_cli_utils - INFO - Plotting with confidence intervals.\n",
      "2025-05-17 20:49:54,416 - databricks_cli_utils - INFO - Saved forecast plot to output_plots/forecast_plot_live.png\n"
     ]
    },
    {
     "name": "stdout",
     "output_type": "stream",
     "text": [
      "Forecast plot saved to output_plots/forecast_plot_live.png\n"
     ]
    },
    {
     "data": {
      "image/png": "[encoded data removed]",
      "text/plain": [
       "<IPython.core.display.Image object>"
      ]
     },
     "metadata": {},
     "output_type": "display_data"
    },
    {
     "data": {
      "text/markdown": [
       "### Next 5 Days Forecast"
      ],
      "text/plain": [
       "<IPython.core.display.Markdown object>"
      ]
     },
     "metadata": {},
     "output_type": "display_data"
    },
    {
     "data": {
      "text/html": [
       "<div>\n",
       "<style scoped>\n",
       "    .dataframe tbody tr th:only-of-type {\n",
       "        vertical-align: middle;\n",
       "    }\n",
       "\n",
       "    .dataframe tbody tr th {\n",
       "        vertical-align: top;\n",
       "    }\n",
       "\n",
       "    .dataframe thead th {\n",
       "        text-align: right;\n",
       "    }\n",
       "</style>\n",
       "<table border=\"1\" class=\"dataframe\">\n",
       "  <thead>\n",
       "    <tr style=\"text-align: right;\">\n",
       "      <th></th>\n",
       "      <th>forecast_price</th>\n",
       "      <th>lower_ci</th>\n",
       "      <th>upper_ci</th>\n",
       "    </tr>\n",
       "  </thead>\n",
       "  <tbody>\n",
       "    <tr>\n",
       "      <th>2025-05-17 20:47:39.561972001</th>\n",
       "      <td>104177.267894</td>\n",
       "      <td>100245.200666</td>\n",
       "      <td>108109.335121</td>\n",
       "    </tr>\n",
       "    <tr>\n",
       "      <th>2025-05-18 20:47:39.561972001</th>\n",
       "      <td>104645.595815</td>\n",
       "      <td>99767.199889</td>\n",
       "      <td>109523.991741</td>\n",
       "    </tr>\n",
       "    <tr>\n",
       "      <th>2025-05-19 20:47:39.561972001</th>\n",
       "      <td>105129.893441</td>\n",
       "      <td>98961.852873</td>\n",
       "      <td>111297.934008</td>\n",
       "    </tr>\n",
       "    <tr>\n",
       "      <th>2025-05-20 20:47:39.561972001</th>\n",
       "      <td>105608.219675</td>\n",
       "      <td>98625.392565</td>\n",
       "      <td>112591.046785</td>\n",
       "    </tr>\n",
       "    <tr>\n",
       "      <th>2025-05-21 20:47:39.561972001</th>\n",
       "      <td>106088.328184</td>\n",
       "      <td>98275.853746</td>\n",
       "      <td>113900.802623</td>\n",
       "    </tr>\n",
       "  </tbody>\n",
       "</table>\n",
       "</div>"
      ],
      "text/plain": [
       "                               forecast_price       lower_ci       upper_ci\n",
       "2025-05-17 20:47:39.561972001   104177.267894  100245.200666  108109.335121\n",
       "2025-05-18 20:47:39.561972001   104645.595815   99767.199889  109523.991741\n",
       "2025-05-19 20:47:39.561972001   105129.893441   98961.852873  111297.934008\n",
       "2025-05-20 20:47:39.561972001   105608.219675   98625.392565  112591.046785\n",
       "2025-05-21 20:47:39.561972001   106088.328184   98275.853746  113900.802623"
      ]
     },
     "metadata": {},
     "output_type": "display_data"
    },
    {
     "data": {
      "text/markdown": [
       "### Model Performance"
      ],
      "text/plain": [
       "<IPython.core.display.Markdown object>"
      ]
     },
     "metadata": {},
     "output_type": "display_data"
    },
    {
     "data": {
      "text/markdown": [
       "- **MAE**: 15255.88"
      ],
      "text/plain": [
       "<IPython.core.display.Markdown object>"
      ]
     },
     "metadata": {},
     "output_type": "display_data"
    },
    {
     "data": {
      "text/markdown": [
       "- **RMSE**: 15481.79"
      ],
      "text/plain": [
       "<IPython.core.display.Markdown object>"
      ]
     },
     "metadata": {},
     "output_type": "display_data"
    },
    {
     "data": {
      "text/markdown": [
       "- **MAPE (%)**: 16.13"
      ],
      "text/plain": [
       "<IPython.core.display.Markdown object>"
      ]
     },
     "metadata": {},
     "output_type": "display_data"
    },
    {
     "name": "stdout",
     "output_type": "stream",
     "text": [
      "--- Step 9 Complete ---\n"
     ]
    }
   ],
   "source": [
    "if forecast_df is not None:\n",
    "    _LOG.info(\"--- Step 9: Visualizing Results ---\")\n",
    "    print(\"\\nStep 9: Visualizing Results...\")\n",
    "    print(f\"Parsing historical data from {LOCAL_FETCHED_PATH} for plotting...\")\n",
    "    history_df = dcu.parse_local_json_data(LOCAL_FETCHED_PATH)\n",
    "    forecast_df = forecast_df[['forecast_price','lower_ci','upper_ci']].copy()\n",
    "    forecast_df.index = forecast_df.index.strftime(\"%Y-%m-%d\")\n",
    "    freq   = pd.infer_freq(history_df.index) \n",
    "    offset = pd.Timedelta(1, unit=freq)\n",
    "    future = pd.date_range(\n",
    "        start   = history_df.index[-1] + offset,\n",
    "        periods = len(forecast_df),\n",
    "        freq    = freq\n",
    "    )\n",
    "    forecast_df.index = future\n",
    "\n",
    "    if history_df is not None:\n",
    "        print(\"Generating forecast plot...\")\n",
    "        dcu.plot_forecast_data(\n",
    "            history=history_df,\n",
    "            forecast_df=forecast_df,\n",
    "             price_col    = 'price',\n",
    "             forecast_col = 'forecast_price',\n",
    "             lower_ci_col = \"lower_ci\",\n",
    "            upper_ci_col = \"upper_ci\",\n",
    "            filename=LOCAL_FORECAST_PLOT_PATH\n",
    "        )\n",
    "        print(f\"Forecast plot saved to {LOCAL_FORECAST_PLOT_PATH}\")\n",
    "        try:\n",
    "            from IPython.display import Image\n",
    "            from IPython.display import display, Markdown\n",
    "            display(Image(filename=LOCAL_FORECAST_PLOT_PATH))\n",
    "            display(Markdown(\"### Next 5 Days Forecast\"))\n",
    "            display(forecast_df[['forecast_price','lower_ci','upper_ci']].head(5))\n",
    "            display(Markdown(\"### Model Performance\"))\n",
    "            for name, val in metrics.items():\n",
    "                display(Markdown(f\"- **{name}**: {val:.2f}\"))\n",
    "            print(\"--- Step 9 Complete ---\")\n",
    "        except ImportError:\n",
    "             print(\"Cannot display image inline (IPython not available or not running in notebook context).\")\n",
    "             print(\"--- Step 9 Complete (Plot Saved) ---\")\n",
    "        except Exception as e:\n",
    "             print(f\"Error displaying plot image: {e}\")\n",
    "             print(\"--- Step 9 Complete (Plot Saved) ---\")\n",
    "\n",
    "    else:\n",
    "        print(\"ERROR: Could not parse historical data for plotting.\")\n",
    "else:\n",
    "    print(\"Skipping Step 9 - forecast data not loaded.\")\n",
    "\n",
    "# if os.path.exists(LOCAL_FETCHED_PATH): os.remove(LOCAL_FETCHED_PATH)\n",
    "# if os.path.exists(LOCAL_RESULTS_PATH): os.remove(LOCAL_RESULTS_PATH)\n",
    "# print(\"\\nLocal data/results files cleaned up.\")"
   ]
  },
  {
   "cell_type": "markdown",
   "id": "f5cf876f",
   "metadata": {},
   "source": [
    "## End of Example Pipeline Orchestration"
   ]
  }
 ],
 "metadata": {
  "kernelspec": {
   "display_name": "Python 3 (ipykernel)",
   "language": "python",
   "name": "python3"
  },
  "language_info": {
   "codemirror_mode": {
    "name": "ipython",
    "version": 3
   },
   "file_extension": ".py",
   "mimetype": "text/x-python",
   "name": "python",
   "nbconvert_exporter": "python",
   "pygments_lexer": "ipython3",
   "version": "3.8.10"
  },
  "toc": {
   "base_numbering": 1,
   "nav_menu": {},
   "number_sections": true,
   "sideBar": true,
   "skip_h1_title": false,
   "title_cell": "Table of Contents",
   "title_sidebar": "Contents",
   "toc_cell": false,
   "toc_position": {},
   "toc_section_display": true,
   "toc_window_display": false
  }
 },
 "nbformat": 4,
 "nbformat_minor": 5
}
