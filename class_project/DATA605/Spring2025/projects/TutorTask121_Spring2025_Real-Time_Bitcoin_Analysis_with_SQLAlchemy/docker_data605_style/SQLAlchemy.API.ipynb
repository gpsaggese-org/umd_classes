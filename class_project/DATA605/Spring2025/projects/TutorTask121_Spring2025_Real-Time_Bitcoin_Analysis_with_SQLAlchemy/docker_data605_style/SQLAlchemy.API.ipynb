{
 "cells": [
  {
   "cell_type": "markdown",
   "id": "2bea2cde-0987-403b-ba1e-f1a3f76494f7",
   "metadata": {},
   "source": [
    "### Ingest Historical and Real-Time Bitcoin Prices\n",
    "\n",
    "In this step, we use utility functions from `utils.py` to populate the database with both **historical** and **live** Bitcoin prices.\n",
    "\n",
    "---\n",
    "\n",
    "#### 2.1 – Fetch and Store 30-Day Historical Price Series\n",
    "\n",
    "```python\n",
    "series = fetch_30day_price_series()\n",
    "save_price_series(session, series)\n",
    "\n",
    "fetch_30day_price_series(): Calls the CoinGecko API to retrieve hourly Bitcoin prices for the past 30 days.\n",
    "\n",
    "save_price_series(): Takes the list of timestamp–price pairs and inserts them into the database, skipping any duplicates based on timestamp.\n",
    "\n",
    "current_price = fetch_price()\n",
    "save_price(session, current_price)\n",
    "\n",
    "fetch_price(): Retrieves the latest real-time price of Bitcoin in USD from the CoinGecko API.\n",
    "\n",
    "save_price(): Saves this single record with a fresh timestamp into the database.\n",
    "\n",
    "series = fetch_realtime_5min_series(interval_seconds=15)\n",
    "save_price_series(session, series)\n",
    "\n",
    "fetch_realtime_5min_series(): Collects real-time prices every 15 seconds over a span of 5 minutes, simulating live streaming ingestion.\n",
    "\n",
    "save_price_series(): Again, stores these values in the database while handling duplicates and timestamps.\n",
    "\n",
    "\n"
   ]
  },
  {
   "cell_type": "code",
   "execution_count": 6,
   "id": "50b644f5-548e-46d6-b3ad-cf7f4abf48a9",
   "metadata": {},
   "outputs": [
    {
     "name": "stdout",
     "output_type": "stream",
     "text": [
      " Inserted 0 new records from price series.\n",
      " Saved real-time price: $103150 at 2025-05-17 20:32:05.010217\n",
      " Capturing real-time data for 5 minutes...\n",
      " 2025-05-17 20:32:05.079516 → $103150\n",
      " 2025-05-17 20:32:20.164872 → $103150\n",
      " 2025-05-17 20:32:35.242444 → $103150\n",
      " Error fetching: ('API call failed with status code:', 429)\n",
      " Error fetching: ('API call failed with status code:', 429)\n",
      " Error fetching: ('API call failed with status code:', 429)\n",
      " Error fetching: ('API call failed with status code:', 429)\n",
      " 2025-05-17 20:33:50.531865 → $103161\n",
      " 2025-05-17 20:34:05.631812 → $103161\n",
      " 2025-05-17 20:34:20.715635 → $103163\n",
      " 2025-05-17 20:34:35.803287 → $103163\n",
      " 2025-05-17 20:34:50.919161 → $103163\n",
      " 2025-05-17 20:35:05.996841 → $103163\n",
      " 2025-05-17 20:35:21.065263 → $103165\n",
      " 2025-05-17 20:35:36.145008 → $103165\n",
      " 2025-05-17 20:35:51.208988 → $103165\n",
      " 2025-05-17 20:36:06.280024 → $103165\n",
      " 2025-05-17 20:36:21.348533 → $103169\n",
      " 2025-05-17 20:36:36.428746 → $103169\n",
      " 2025-05-17 20:36:51.494579 → $103169\n",
      " Inserted 16 new records from price series.\n"
     ]
    }
   ],
   "source": [
    "# Step 0: Import Functions from Utility Module\n",
    "from SQLAlchemy_Utils import (\n",
    "    init_db,\n",
    "    get_session,\n",
    "    fetch_price,\n",
    "    save_price,\n",
    "    fetch_30day_price_series,\n",
    "    save_price_series,\n",
    "    fetch_realtime_5min_series,\n",
    "    load_data_from_db\n",
    ")\n",
    "\n",
    "# Step 1: Set up DB\n",
    "engine = init_db()\n",
    "session = get_session(engine)\n",
    "\n",
    "# Step 2: Fetch and store 30-day history\n",
    "series = fetch_30day_price_series()\n",
    "save_price_series(session, series)\n",
    "\n",
    "# Step 3: Add current real-time price\n",
    "current_price = fetch_price()\n",
    "save_price(session, current_price)\n",
    "\n",
    "from SQLAlchemy_Utils import fetch_realtime_5min_series, save_price_series\n",
    "\n",
    "series = fetch_realtime_5min_series(interval_seconds=15)\n",
    "save_price_series(session, series)\n",
    "\n"
   ]
  },
  {
   "cell_type": "code",
   "execution_count": null,
   "id": "64c76d32-6466-48e2-a504-cb862648f346",
   "metadata": {},
   "outputs": [],
   "source": []
  }
 ],
 "metadata": {
  "kernelspec": {
   "display_name": "Python [conda env:anaconda3]",
   "language": "python",
   "name": "conda-env-anaconda3-py"
  },
  "language_info": {
   "codemirror_mode": {
    "name": "ipython",
    "version": 3
   },
   "file_extension": ".py",
   "mimetype": "text/x-python",
   "name": "python",
   "nbconvert_exporter": "python",
   "pygments_lexer": "ipython3",
   "version": "3.9.7"
  }
 },
 "nbformat": 4,
 "nbformat_minor": 5
}
