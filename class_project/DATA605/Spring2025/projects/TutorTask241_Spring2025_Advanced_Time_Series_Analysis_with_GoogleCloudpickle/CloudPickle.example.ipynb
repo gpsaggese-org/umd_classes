{
 "cells": [
  {
   "cell_type": "markdown",
   "id": "66004327",
   "metadata": {},
   "source": [
    "# Advanced Time Series Analysis with Google Cloudpickle\n",
    "\n",
    "This notebook demonstrates an end-to-end workflow:\n",
    "1. Ingesting 30 days of Bitcoin price data.\n",
    "2. Serializing the raw data using `cloudpickle` (via wrapper).\n",
    "3. Performing time series analysis (calculating multiple SMAs and trend).\n",
    "4. **Simulating distributed processing for SMA calculation** using Python's `multiprocessing` module, heavily relying on `cloudpickle` for serializing functions and data chunks.\n",
    "5. Visualizing the results.\n",
    "6. Storing the final analysis and generating a report.\n"
   ]
  },
  {
   "cell_type": "code",
   "execution_count": 1,
   "id": "9f6e04b4",
   "metadata": {
    "ExecuteTime": {
     "end_time": "2025-05-16T05:14:09.601882Z",
     "start_time": "2025-05-16T05:14:08.303615Z"
    }
   },
   "outputs": [
    {
     "name": "stdout",
     "output_type": "stream",
     "text": [
      "CloudPickle_utils.py loaded successfully.\n"
     ]
    }
   ],
   "source": [
    "import pandas as pd\n",
    "import numpy as np # For array_split\n",
    "import matplotlib.pyplot as plt\n",
    "from IPython.display import Image, display, Markdown\n",
    "import cloudpickle # For direct use in multiprocessing example (dumps/loads)\n",
    "import multiprocessing\n",
    "import os\n",
    "import time\n",
    "\n",
    "# Import functions from our utility module\n",
    "try:\n",
    "    from CloudPickle_utils import (\n",
    "        fetch_bitcoin_price_history,\n",
    "        serialize_object,  # Wrapper for cloudpickle.dump\n",
    "        deserialize_object, # Wrapper for cloudpickle.load\n",
    "        calculate_moving_average, \n",
    "        simple_trend_analysis,\n",
    "        plot_price_data,\n",
    "        task_process_data_chunk # Worker for multiprocessing that uses cloudpickle\n",
    "    )\n",
    "    print(\"CloudPickle_utils.py loaded successfully.\")\n",
    "except ImportError as e:\n",
    "    print(f\"ImportError: {e}. Make sure CloudPickle_utils.py is in the current directory or your PYTHONPATH.\")\n"
   ]
  },
  {
   "cell_type": "markdown",
   "id": "6988540b",
   "metadata": {},
   "source": [
    "# Setup and Configuration\n"
   ]
  },
  {
   "cell_type": "code",
   "execution_count": 2,
   "id": "ad789838",
   "metadata": {
    "ExecuteTime": {
     "end_time": "2025-05-16T05:14:09.609314Z",
     "start_time": "2025-05-16T05:14:09.604729Z"
    }
   },
   "outputs": [],
   "source": [
    "DAYS_OF_DATA = 30\n",
    "CURRENCY = 'usd'\n",
    "SMA_WINDOW_SHORT = 5  # 5-day SMA\n",
    "SMA_WINDOW_LONG = 10 # 10-day SMA\n",
    "\n",
    "RAW_DATA_FILE = f'raw_btc_data_{DAYS_OF_DATA}d_example.pkl'\n",
    "ANALYZED_DATA_FILE = f'analyzed_btc_data_{DAYS_OF_DATA}d_example.pkl'\n",
    "DISTRIBUTED_PLOT_COLUMN_NAME = f'sma_{SMA_WINDOW_SHORT}_dist'\n"
   ]
  },
  {
   "cell_type": "markdown",
   "id": "36799213",
   "metadata": {
    "ExecuteTime": {
     "end_time": "2025-05-16T03:57:32.700134Z",
     "start_time": "2025-05-16T03:57:32.690368Z"
    }
   },
   "source": [
    "# Data Ingestion\n"
   ]
  },
  {
   "cell_type": "code",
   "execution_count": 3,
   "id": "fc0e5f47",
   "metadata": {
    "ExecuteTime": {
     "end_time": "2025-05-16T05:14:09.783832Z",
     "start_time": "2025-05-16T05:14:09.613278Z"
    }
   },
   "outputs": [
    {
     "name": "stdout",
     "output_type": "stream",
     "text": [
      "Fetching Bitcoin price data for the last 30 days...\n",
      "Fetching Bitcoin data from CoinGecko: days=30, currency=usd\n",
      "Successfully fetched 720 data points.\n",
      "Successfully fetched 720 data points.\n"
     ]
    },
    {
     "data": {
      "text/html": [
       "<div>\n",
       "<style scoped>\n",
       "    .dataframe tbody tr th:only-of-type {\n",
       "        vertical-align: middle;\n",
       "    }\n",
       "\n",
       "    .dataframe tbody tr th {\n",
       "        vertical-align: top;\n",
       "    }\n",
       "\n",
       "    .dataframe thead th {\n",
       "        text-align: right;\n",
       "    }\n",
       "</style>\n",
       "<table border=\"1\" class=\"dataframe\">\n",
       "  <thead>\n",
       "    <tr style=\"text-align: right;\">\n",
       "      <th></th>\n",
       "      <th>price</th>\n",
       "    </tr>\n",
       "    <tr>\n",
       "      <th>timestamp</th>\n",
       "      <th></th>\n",
       "    </tr>\n",
       "  </thead>\n",
       "  <tbody>\n",
       "    <tr>\n",
       "      <th>2025-04-16 05:07:55.560</th>\n",
       "      <td>83630.303789</td>\n",
       "    </tr>\n",
       "    <tr>\n",
       "      <th>2025-04-16 06:07:37.368</th>\n",
       "      <td>83362.814700</td>\n",
       "    </tr>\n",
       "    <tr>\n",
       "      <th>2025-04-16 07:04:40.714</th>\n",
       "      <td>83671.639687</td>\n",
       "    </tr>\n",
       "    <tr>\n",
       "      <th>2025-04-16 08:09:22.659</th>\n",
       "      <td>83268.761045</td>\n",
       "    </tr>\n",
       "    <tr>\n",
       "      <th>2025-04-16 09:07:08.037</th>\n",
       "      <td>83791.120896</td>\n",
       "    </tr>\n",
       "  </tbody>\n",
       "</table>\n",
       "</div>"
      ],
      "text/plain": [
       "                                price\n",
       "timestamp                            \n",
       "2025-04-16 05:07:55.560  83630.303789\n",
       "2025-04-16 06:07:37.368  83362.814700\n",
       "2025-04-16 07:04:40.714  83671.639687\n",
       "2025-04-16 08:09:22.659  83268.761045\n",
       "2025-04-16 09:07:08.037  83791.120896"
      ]
     },
     "metadata": {},
     "output_type": "display_data"
    }
   ],
   "source": [
    "print(f\"Fetching Bitcoin price data for the last {DAYS_OF_DATA} days...\")\n",
    "btc_df_original = fetch_bitcoin_price_history(days=DAYS_OF_DATA, currency=CURRENCY)\n",
    "\n",
    "if btc_df_original is None or btc_df_original.empty:\n",
    "    print(\"Failed to fetch data. Aborting example.\")\n",
    "    # raise SystemExit(\"Data fetching failed, cannot proceed with the example.\")\n",
    "    btc_df = pd.DataFrame() # Assign empty DataFrame to avoid errors later\n",
    "else:\n",
    "    btc_df = btc_df_original.copy() # Work with a copy\n",
    "    print(f\"Successfully fetched {len(btc_df)} data points.\")\n",
    "    display(btc_df.head())\n"
   ]
  },
  {
   "cell_type": "markdown",
   "id": "c15351ba",
   "metadata": {},
   "source": [
    "# Raw Data Serialization\n",
    "Using `serialize_object` (which uses `cloudpickle.dump`)\n"
   ]
  },
  {
   "cell_type": "code",
   "execution_count": 4,
   "id": "50a52195",
   "metadata": {
    "ExecuteTime": {
     "end_time": "2025-05-16T05:14:09.794719Z",
     "start_time": "2025-05-16T05:14:09.789284Z"
    }
   },
   "outputs": [
    {
     "name": "stdout",
     "output_type": "stream",
     "text": [
      "\n",
      "Serializing raw fetched data to raw_btc_data_30d_example.pkl...\n",
      "Object successfully serialized to raw_btc_data_30d_example.pkl\n"
     ]
    }
   ],
   "source": [
    "if not btc_df.empty:\n",
    "    print(f\"\\nSerializing raw fetched data to {RAW_DATA_FILE}...\")\n",
    "    serialize_object(btc_df, RAW_DATA_FILE)\n",
    "else:\n",
    "    print(\"\\nSkipping raw data serialization as data fetching failed.\")\n"
   ]
  },
  {
   "cell_type": "markdown",
   "id": "a4f7bd03",
   "metadata": {},
   "source": [
    "# Time Series Analysis (Standard, Single-Process)\n",
    "This section performs analysis sequentially for baseline results.\n"
   ]
  },
  {
   "cell_type": "code",
   "execution_count": 5,
   "id": "fbe89580",
   "metadata": {
    "ExecuteTime": {
     "end_time": "2025-05-16T05:14:09.819259Z",
     "start_time": "2025-05-16T05:14:09.798786Z"
    }
   },
   "outputs": [
    {
     "name": "stdout",
     "output_type": "stream",
     "text": [
      "\n",
      "Calculating 5-day SMA (standard method)...\n",
      "\n",
      "Calculating 10-day SMA (standard method)...\n",
      "\n",
      "Performing simple trend analysis...\n",
      "Simple Trend: Uptrend (Change: 24.29%)\n",
      "\n",
      "--- Analyzed DataFrame (Standard Method - first 5 rows) ---\n"
     ]
    },
    {
     "data": {
      "text/html": [
       "<div>\n",
       "<style scoped>\n",
       "    .dataframe tbody tr th:only-of-type {\n",
       "        vertical-align: middle;\n",
       "    }\n",
       "\n",
       "    .dataframe tbody tr th {\n",
       "        vertical-align: top;\n",
       "    }\n",
       "\n",
       "    .dataframe thead th {\n",
       "        text-align: right;\n",
       "    }\n",
       "</style>\n",
       "<table border=\"1\" class=\"dataframe\">\n",
       "  <thead>\n",
       "    <tr style=\"text-align: right;\">\n",
       "      <th></th>\n",
       "      <th>price</th>\n",
       "      <th>sma_5</th>\n",
       "      <th>sma_10</th>\n",
       "    </tr>\n",
       "    <tr>\n",
       "      <th>timestamp</th>\n",
       "      <th></th>\n",
       "      <th></th>\n",
       "      <th></th>\n",
       "    </tr>\n",
       "  </thead>\n",
       "  <tbody>\n",
       "    <tr>\n",
       "      <th>2025-04-16 05:07:55.560</th>\n",
       "      <td>83630.303789</td>\n",
       "      <td>83630.303789</td>\n",
       "      <td>83630.303789</td>\n",
       "    </tr>\n",
       "    <tr>\n",
       "      <th>2025-04-16 06:07:37.368</th>\n",
       "      <td>83362.814700</td>\n",
       "      <td>83496.559245</td>\n",
       "      <td>83496.559245</td>\n",
       "    </tr>\n",
       "    <tr>\n",
       "      <th>2025-04-16 07:04:40.714</th>\n",
       "      <td>83671.639687</td>\n",
       "      <td>83554.919392</td>\n",
       "      <td>83554.919392</td>\n",
       "    </tr>\n",
       "    <tr>\n",
       "      <th>2025-04-16 08:09:22.659</th>\n",
       "      <td>83268.761045</td>\n",
       "      <td>83483.379805</td>\n",
       "      <td>83483.379805</td>\n",
       "    </tr>\n",
       "    <tr>\n",
       "      <th>2025-04-16 09:07:08.037</th>\n",
       "      <td>83791.120896</td>\n",
       "      <td>83544.928023</td>\n",
       "      <td>83544.928023</td>\n",
       "    </tr>\n",
       "  </tbody>\n",
       "</table>\n",
       "</div>"
      ],
      "text/plain": [
       "                                price         sma_5        sma_10\n",
       "timestamp                                                        \n",
       "2025-04-16 05:07:55.560  83630.303789  83630.303789  83630.303789\n",
       "2025-04-16 06:07:37.368  83362.814700  83496.559245  83496.559245\n",
       "2025-04-16 07:04:40.714  83671.639687  83554.919392  83554.919392\n",
       "2025-04-16 08:09:22.659  83268.761045  83483.379805  83483.379805\n",
       "2025-04-16 09:07:08.037  83791.120896  83544.928023  83544.928023"
      ]
     },
     "metadata": {},
     "output_type": "display_data"
    }
   ],
   "source": [
    "analyzed_df = pd.DataFrame() # Initialize for the case where btc_df is empty\n",
    "trend_report = \"Trend analysis not performed due to data fetching/processing issues.\"\n",
    "\n",
    "if not btc_df.empty:\n",
    "    # Optional: Load from disk if starting from a serialized state\n",
    "    # print(f\"Deserializing raw data from {RAW_DATA_FILE}...\")\n",
    "    # loaded_df = deserialize_object(RAW_DATA_FILE)\n",
    "    # if loaded_df is None: \n",
    "    #     raise SystemExit(\"Failed to load data for analysis\")\n",
    "    # analyzed_df = loaded_df.copy()\n",
    "    \n",
    "    analyzed_df = btc_df.copy() # Start with fresh copy of fetched data\n",
    "\n",
    "    print(f\"\\nCalculating {SMA_WINDOW_SHORT}-day SMA (standard method)...\")\n",
    "    analyzed_df = calculate_moving_average(analyzed_df, window_size=SMA_WINDOW_SHORT)\n",
    "\n",
    "    print(f\"\\nCalculating {SMA_WINDOW_LONG}-day SMA (standard method)...\")\n",
    "    analyzed_df = calculate_moving_average(analyzed_df, window_size=SMA_WINDOW_LONG)\n",
    "\n",
    "    print(\"\\nPerforming simple trend analysis...\")\n",
    "    trend_report = simple_trend_analysis(analyzed_df)\n",
    "    print(trend_report)\n",
    "\n",
    "    print(\"\\n--- Analyzed DataFrame (Standard Method - first 5 rows) ---\")\n",
    "    display(analyzed_df.head())\n",
    "else:\n",
    "    print(\"\\nSkipping standard time series analysis as data fetching failed.\")\n"
   ]
  },
  {
   "cell_type": "markdown",
   "id": "f52a6ee5",
   "metadata": {
    "ExecuteTime": {
     "end_time": "2025-05-16T03:59:40.964472Z",
     "start_time": "2025-05-16T03:59:40.952068Z"
    }
   },
   "source": [
    "# Distributed Processing Simulation (Calculating Short-Term SMA)\n",
    "\n",
    "Here, we simulate distributing the calculation of the **{SMA_WINDOW_SHORT}-day SMA** using `multiprocessing`.\n",
    "Key `cloudpickle` usage:\n",
    "- `cloudpickle.dumps()`: To serialize data chunks (Pandas DataFrames) and the `calculate_moving_average` function.\n",
    "- `task_process_data_chunk`: This utility function (defined in `BTC_Analysis_utils.py`) is designed to be the target for `pool.map()`. It expects a tuple of `cloudpickle`d objects. Internally, it uses `cloudpickle.loads()` to deserialize these objects within each worker process, performs the calculation, and then returns a `cloudpickle.dumps()` of the result DataFrame chunk.\n",
    "- `cloudpickle.loads()`: Used in the main process to deserialize the results returned by the worker processes.\n"
   ]
  },
  {
   "cell_type": "code",
   "execution_count": 6,
   "id": "56f66116",
   "metadata": {
    "ExecuteTime": {
     "end_time": "2025-05-16T05:14:09.984300Z",
     "start_time": "2025-05-16T05:14:09.829130Z"
    }
   },
   "outputs": [
    {
     "name": "stdout",
     "output_type": "stream",
     "text": [
      "\n",
      "--- Simulating Distributed Calculation for 5-day SMA ---\n",
      "Using 2 processes for distributed calculation.\n",
      "Data split into 2 chunks.\n",
      "Serializing chunk 1/2 (size: 360 rows) for processing...\n",
      "Serializing chunk 2/2 (size: 360 rows) for processing...\n",
      "Starting multiprocessing pool...\n",
      "Multiprocessing pool finished.\n",
      "Deserializing result from chunk 1/2...\n",
      "Deserializing result from chunk 2/2...\n",
      "\n",
      "Added/Updated 'sma_5_dist' column in 'analyzed_df' from distributed processing.\n",
      "\n",
      "--- Results from Distributed SMA (5-day) Calculation (first 5 rows of combined result) ---\n"
     ]
    },
    {
     "data": {
      "text/html": [
       "<div>\n",
       "<style scoped>\n",
       "    .dataframe tbody tr th:only-of-type {\n",
       "        vertical-align: middle;\n",
       "    }\n",
       "\n",
       "    .dataframe tbody tr th {\n",
       "        vertical-align: top;\n",
       "    }\n",
       "\n",
       "    .dataframe thead th {\n",
       "        text-align: right;\n",
       "    }\n",
       "</style>\n",
       "<table border=\"1\" class=\"dataframe\">\n",
       "  <thead>\n",
       "    <tr style=\"text-align: right;\">\n",
       "      <th></th>\n",
       "      <th>price</th>\n",
       "      <th>sma_5</th>\n",
       "    </tr>\n",
       "    <tr>\n",
       "      <th>timestamp</th>\n",
       "      <th></th>\n",
       "      <th></th>\n",
       "    </tr>\n",
       "  </thead>\n",
       "  <tbody>\n",
       "    <tr>\n",
       "      <th>2025-04-16 05:07:55.560</th>\n",
       "      <td>83630.303789</td>\n",
       "      <td>83630.303789</td>\n",
       "    </tr>\n",
       "    <tr>\n",
       "      <th>2025-04-16 06:07:37.368</th>\n",
       "      <td>83362.814700</td>\n",
       "      <td>83496.559245</td>\n",
       "    </tr>\n",
       "    <tr>\n",
       "      <th>2025-04-16 07:04:40.714</th>\n",
       "      <td>83671.639687</td>\n",
       "      <td>83554.919392</td>\n",
       "    </tr>\n",
       "    <tr>\n",
       "      <th>2025-04-16 08:09:22.659</th>\n",
       "      <td>83268.761045</td>\n",
       "      <td>83483.379805</td>\n",
       "    </tr>\n",
       "    <tr>\n",
       "      <th>2025-04-16 09:07:08.037</th>\n",
       "      <td>83791.120896</td>\n",
       "      <td>83544.928023</td>\n",
       "    </tr>\n",
       "  </tbody>\n",
       "</table>\n",
       "</div>"
      ],
      "text/plain": [
       "                                price         sma_5\n",
       "timestamp                                          \n",
       "2025-04-16 05:07:55.560  83630.303789  83630.303789\n",
       "2025-04-16 06:07:37.368  83362.814700  83496.559245\n",
       "2025-04-16 07:04:40.714  83671.639687  83554.919392\n",
       "2025-04-16 08:09:22.659  83268.761045  83483.379805\n",
       "2025-04-16 09:07:08.037  83791.120896  83544.928023"
      ]
     },
     "metadata": {},
     "output_type": "display_data"
    },
    {
     "name": "stdout",
     "output_type": "stream",
     "text": [
      "\n",
      "--- Main 'analyzed_df' after incorporating distributed results (first 5 rows) ---\n"
     ]
    },
    {
     "data": {
      "text/html": [
       "<div>\n",
       "<style scoped>\n",
       "    .dataframe tbody tr th:only-of-type {\n",
       "        vertical-align: middle;\n",
       "    }\n",
       "\n",
       "    .dataframe tbody tr th {\n",
       "        vertical-align: top;\n",
       "    }\n",
       "\n",
       "    .dataframe thead th {\n",
       "        text-align: right;\n",
       "    }\n",
       "</style>\n",
       "<table border=\"1\" class=\"dataframe\">\n",
       "  <thead>\n",
       "    <tr style=\"text-align: right;\">\n",
       "      <th></th>\n",
       "      <th>price</th>\n",
       "      <th>sma_5</th>\n",
       "      <th>sma_10</th>\n",
       "      <th>sma_5_dist</th>\n",
       "    </tr>\n",
       "    <tr>\n",
       "      <th>timestamp</th>\n",
       "      <th></th>\n",
       "      <th></th>\n",
       "      <th></th>\n",
       "      <th></th>\n",
       "    </tr>\n",
       "  </thead>\n",
       "  <tbody>\n",
       "    <tr>\n",
       "      <th>2025-04-16 05:07:55.560</th>\n",
       "      <td>83630.303789</td>\n",
       "      <td>83630.303789</td>\n",
       "      <td>83630.303789</td>\n",
       "      <td>83630.303789</td>\n",
       "    </tr>\n",
       "    <tr>\n",
       "      <th>2025-04-16 06:07:37.368</th>\n",
       "      <td>83362.814700</td>\n",
       "      <td>83496.559245</td>\n",
       "      <td>83496.559245</td>\n",
       "      <td>83496.559245</td>\n",
       "    </tr>\n",
       "    <tr>\n",
       "      <th>2025-04-16 07:04:40.714</th>\n",
       "      <td>83671.639687</td>\n",
       "      <td>83554.919392</td>\n",
       "      <td>83554.919392</td>\n",
       "      <td>83554.919392</td>\n",
       "    </tr>\n",
       "    <tr>\n",
       "      <th>2025-04-16 08:09:22.659</th>\n",
       "      <td>83268.761045</td>\n",
       "      <td>83483.379805</td>\n",
       "      <td>83483.379805</td>\n",
       "      <td>83483.379805</td>\n",
       "    </tr>\n",
       "    <tr>\n",
       "      <th>2025-04-16 09:07:08.037</th>\n",
       "      <td>83791.120896</td>\n",
       "      <td>83544.928023</td>\n",
       "      <td>83544.928023</td>\n",
       "      <td>83544.928023</td>\n",
       "    </tr>\n",
       "  </tbody>\n",
       "</table>\n",
       "</div>"
      ],
      "text/plain": [
       "                                price         sma_5        sma_10  \\\n",
       "timestamp                                                           \n",
       "2025-04-16 05:07:55.560  83630.303789  83630.303789  83630.303789   \n",
       "2025-04-16 06:07:37.368  83362.814700  83496.559245  83496.559245   \n",
       "2025-04-16 07:04:40.714  83671.639687  83554.919392  83554.919392   \n",
       "2025-04-16 08:09:22.659  83268.761045  83483.379805  83483.379805   \n",
       "2025-04-16 09:07:08.037  83791.120896  83544.928023  83544.928023   \n",
       "\n",
       "                           sma_5_dist  \n",
       "timestamp                              \n",
       "2025-04-16 05:07:55.560  83630.303789  \n",
       "2025-04-16 06:07:37.368  83496.559245  \n",
       "2025-04-16 07:04:40.714  83554.919392  \n",
       "2025-04-16 08:09:22.659  83483.379805  \n",
       "2025-04-16 09:07:08.037  83544.928023  "
      ]
     },
     "metadata": {},
     "output_type": "display_data"
    },
    {
     "name": "stdout",
     "output_type": "stream",
     "text": [
      "Distributed SMA calculation took: 0.12 seconds.\n"
     ]
    }
   ],
   "source": [
    "distributed_sma_results_df = pd.DataFrame() # Initialize\n",
    "\n",
    "if not btc_df.empty:\n",
    "    print(f\"\\n--- Simulating Distributed Calculation for {SMA_WINDOW_SHORT}-day SMA ---\")\n",
    "    start_time_dist = time.time()\n",
    "\n",
    "    # Determine number of processes\n",
    "    num_processes = min(os.cpu_count(), 4) # Use up to 4 cores or available, avoid overwhelming system\n",
    "    print(f\"Using {num_processes} processes for distributed calculation.\")\n",
    "\n",
    "    # 1. Split data into chunks (list of Pandas DataFrames)\n",
    "    # Ensure chunks are not too small, especially relative to SMA window\n",
    "    min_chunk_size = max(SMA_WINDOW_SHORT * 2, 10) # Heuristic for minimum sensible chunk size\n",
    "    num_chunks = min(num_processes, len(btc_df) // min_chunk_size if len(btc_df) >= min_chunk_size else 1)\n",
    "    if num_chunks == 0 : num_chunks = 1 \n",
    "        \n",
    "    if len(btc_df) < num_chunks or num_chunks == 1:\n",
    "        data_chunks_df = [btc_df.copy()]\n",
    "    else:\n",
    "        data_chunks_df = np.array_split(btc_df.copy(), num_chunks)\n",
    "    \n",
    "    print(f\"Data split into {len(data_chunks_df)} chunks.\")\n",
    "\n",
    "    # 2. Serialize the function and prepare arguments for each task\n",
    "    # The function itself is `calculate_moving_average`\n",
    "    # `cloudpickle.dumps` serializes to bytes\n",
    "    serialized_sma_function = cloudpickle.dumps(calculate_moving_average)\n",
    "    args_for_sma_function = (SMA_WINDOW_SHORT,) # Arguments for calculate_moving_average (window_size)\n",
    "\n",
    "    task_payloads = []\n",
    "    for i, chunk_df in enumerate(data_chunks_df):\n",
    "        if not chunk_df.empty:\n",
    "            print(f\"Serializing chunk {i+1}/{len(data_chunks_df)} (size: {len(chunk_df)} rows) for processing...\")\n",
    "            serialized_chunk = cloudpickle.dumps(chunk_df[['price']]) # Only need 'price' for SMA\n",
    "            task_payloads.append((serialized_chunk, serialized_sma_function, args_for_sma_function))\n",
    "    \n",
    "    if not task_payloads:\n",
    "        print(\"No data chunks to process.\")\n",
    "    else:\n",
    "        # 3. Use multiprocessing.Pool to distribute tasks\n",
    "        print(\"Starting multiprocessing pool...\")\n",
    "        with multiprocessing.Pool(processes=num_processes) as pool:\n",
    "            # `map` sends one item from task_payloads to each call of `task_process_data_chunk`\n",
    "            # `task_process_data_chunk` handles deserialization internally and returns serialized result\n",
    "            serialized_results_list = pool.map(task_process_data_chunk, task_payloads)\n",
    "        print(\"Multiprocessing pool finished.\")\n",
    "\n",
    "        # 4. Deserialize and Aggregate results\n",
    "        processed_chunks_list = []\n",
    "        for i, ser_result in enumerate(serialized_results_list):\n",
    "            if ser_result:\n",
    "                print(f\"Deserializing result from chunk {i+1}/{len(serialized_results_list)}...\")\n",
    "                deserialized_chunk_df = cloudpickle.loads(ser_result)\n",
    "                if deserialized_chunk_df is not None and not deserialized_chunk_df.empty:\n",
    "                    processed_chunks_list.append(deserialized_chunk_df)\n",
    "                else:\n",
    "                    print(f\"Warning: Deserialized result for chunk {i+1} is None or empty.\")\n",
    "            else:\n",
    "                print(f\"Warning: Serialized result for chunk {i+1} is None (error in worker likely).\")\n",
    "        \n",
    "        if processed_chunks_list:\n",
    "            distributed_sma_results_df = pd.concat(processed_chunks_list)\n",
    "            # Sort by index (timestamp) as chunks might process out of order and concat might not preserve it perfectly\n",
    "            distributed_sma_results_df.sort_index(inplace=True)\n",
    "            \n",
    "            # The result from task_process_data_chunk (via calculate_moving_average)\n",
    "            # will have 'price' and 'sma_X' columns.\n",
    "            # We want to add/update this SMA to our main 'analyzed_df'.\n",
    "            if f'sma_{SMA_WINDOW_SHORT}' in distributed_sma_results_df.columns:\n",
    "                analyzed_df[DISTRIBUTED_PLOT_COLUMN_NAME] = distributed_sma_results_df[f'sma_{SMA_WINDOW_SHORT}']\n",
    "                print(f\"\\nAdded/Updated '{DISTRIBUTED_PLOT_COLUMN_NAME}' column in 'analyzed_df' from distributed processing.\")\n",
    "\n",
    "            print(f\"\\n--- Results from Distributed SMA ({SMA_WINDOW_SHORT}-day) Calculation (first 5 rows of combined result) ---\")\n",
    "            display(distributed_sma_results_df.head())\n",
    "            print(f\"\\n--- Main 'analyzed_df' after incorporating distributed results (first 5 rows) ---\")\n",
    "            display(analyzed_df.head())\n",
    "        else:\n",
    "            print(\"No valid results returned from distributed processing.\")\n",
    "            # Ensure the column exists in analyzed_df even if empty, for consistent plotting\n",
    "            if DISTRIBUTED_PLOT_COLUMN_NAME not in analyzed_df.columns:\n",
    "                 analyzed_df[DISTRIBUTED_PLOT_COLUMN_NAME] = np.nan \n",
    "\n",
    "    end_time_dist = time.time()\n",
    "    print(f\"Distributed SMA calculation took: {end_time_dist - start_time_dist:.2f} seconds.\")\n",
    "\n",
    "else:\n",
    "    print(\"\\nSkipping distributed processing simulation as data fetching failed.\")\n",
    "    # Ensure the column exists in analyzed_df even if empty, for consistent plotting\n",
    "    if not analyzed_df.empty and DISTRIBUTED_PLOT_COLUMN_NAME not in analyzed_df.columns:\n",
    "        analyzed_df[DISTRIBUTED_PLOT_COLUMN_NAME] = np.nan\n"
   ]
  },
  {
   "cell_type": "markdown",
   "id": "e66cebe0",
   "metadata": {},
   "source": [
    "**Note on Distributed SMA Calculation:**\n",
    "Calculating moving averages on chunked data without overlap can lead to slight differences at chunk boundaries compared to a monolithic calculation, especially if `min_periods` in `rolling().mean()` is less than the window size. Our `calculate_moving_average` uses `min_periods=1`, which mitigates this by providing a value as soon as one period is available. For financial accuracy in production, overlapping chunks or more sophisticated distributed time series algorithms might be preferred.\n"
   ]
  },
  {
   "cell_type": "markdown",
   "id": "45c2a2b8",
   "metadata": {},
   "source": [
    "# Visualization\n"
   ]
  },
  {
   "cell_type": "code",
   "execution_count": 7,
   "id": "62114664",
   "metadata": {
    "ExecuteTime": {
     "end_time": "2025-05-16T05:14:10.313693Z",
     "start_time": "2025-05-16T05:14:09.989744Z"
    }
   },
   "outputs": [
    {
     "name": "stdout",
     "output_type": "stream",
     "text": [
      "\n",
      "Generating plot for analyzed data...\n",
      "Plotting with distributed SMA column: sma_5_dist\n",
      "Plot successfully saved to btc_plot_20250516_051410.png\n",
      "Plot saved to btc_plot_20250516_051410.png\n"
     ]
    },
    {
     "data": {
      "image/png": "[encoded data removed]",
      "text/plain": [
       "<IPython.core.display.Image object>"
      ]
     },
     "metadata": {},
     "output_type": "display_data"
    }
   ],
   "source": [
    "plot_file = None # Initialize\n",
    "if not analyzed_df.empty:\n",
    "    print(\"\\nGenerating plot for analyzed data...\")\n",
    "    \n",
    "    columns_to_plot = ['price', f'sma_{SMA_WINDOW_SHORT}', f'sma_{SMA_WINDOW_LONG}']\n",
    "    # If the distributed SMA column exists and has data, add it to the plot for comparison\n",
    "    if DISTRIBUTED_PLOT_COLUMN_NAME in analyzed_df.columns and not analyzed_df[DISTRIBUTED_PLOT_COLUMN_NAME].isnull().all():\n",
    "        columns_to_plot.append(DISTRIBUTED_PLOT_COLUMN_NAME)\n",
    "        print(f\"Plotting with distributed SMA column: {DISTRIBUTED_PLOT_COLUMN_NAME}\")\n",
    "    else:\n",
    "        print(f\"Distributed SMA column '{DISTRIBUTED_PLOT_COLUMN_NAME}' not available or empty, will not be plotted.\")\n",
    "\n",
    "    plot_file = plot_price_data(analyzed_df,\n",
    "                                title=f\"Bitcoin Price & SMAs ({DAYS_OF_DATA} Days) - Example App\",\n",
    "                                columns_to_plot=columns_to_plot)\n",
    "    if plot_file:\n",
    "        print(f\"Plot saved to {plot_file}\")\n",
    "        display(Image(filename=plot_file))\n",
    "    else:\n",
    "        print(\"Plotting failed or no valid data to plot.\")\n",
    "else:\n",
    "    print(\"\\nSkipping visualization as analysis was not performed or failed.\")\n"
   ]
  },
  {
   "cell_type": "markdown",
   "id": "2f407ab0",
   "metadata": {},
   "source": [
    "# Results and Reporting (Storing Final Analysis & Generating Report)\n"
   ]
  },
  {
   "cell_type": "code",
   "execution_count": 8,
   "id": "2c1ea616",
   "metadata": {
    "ExecuteTime": {
     "end_time": "2025-05-16T05:14:10.332283Z",
     "start_time": "2025-05-16T05:14:10.315631Z"
    }
   },
   "outputs": [
    {
     "name": "stdout",
     "output_type": "stream",
     "text": [
      "\n",
      "Serializing final analyzed DataFrame to analyzed_btc_data_30d_example.pkl...\n",
      "Object successfully serialized to analyzed_btc_data_30d_example.pkl\n",
      "\n",
      "--- Generated Analysis Report ---\n"
     ]
    },
    {
     "data": {
      "text/markdown": [
       "# Bitcoin Price Analysis Report (Example Application)\n",
       "\n",
       "**Analysis Period:** Last 30 days (Data as of 2025-05-16 05:14 UTC)\n",
       "**Currency:** usd\n",
       "\n",
       "## Key Findings:\n",
       "- **Data Points Analyzed:** 720\n",
       "- **Simple Moving Averages (SMAs) Calculated:**\n",
       "    - 5-day SMA (Standard Method)\n",
       "    - 10-day SMA (Standard Method)\n",
       "    - 5-day SMA (Simulated Distributed Method as 'sma_5_dist')\n",
       "- **Overall Trend (30 days):** Simple Trend: Uptrend (Change: 24.29%)\n",
       "\n",
       "## Visualization:\n",
       "![Bitcoin Price Plot](./btc_plot_20250516_051410.png)\n",
       "\n",
       "\n",
       "**Data Storage:**\n",
       "- Raw fetched data serialized to: `raw_btc_data_30d_example.pkl`\n",
       "- Final analyzed data (with SMAs) serialized to: `analyzed_btc_data_30d_example.pkl`\n",
       "\n",
       "**Note on Cloudpickle & Distributed Processing:**\n",
       "The calculation of one of the SMAs was performed using Python's `multiprocessing` module. `cloudpickle` was essential for this, as it allowed the serialization of the `calculate_moving_average` function and Pandas DataFrame chunks to be passed to, and results returned from, separate worker processes. This demonstrates `cloudpickle`'s utility in enabling more complex, distributed Python workflows."
      ],
      "text/plain": [
       "<IPython.core.display.Markdown object>"
      ]
     },
     "metadata": {},
     "output_type": "display_data"
    },
    {
     "name": "stdout",
     "output_type": "stream",
     "text": [
      "\n",
      "Report content also saved to CloudPickle_Example_Report.md\n"
     ]
    }
   ],
   "source": [
    "final_report_md = \"Analysis could not be completed due to earlier errors or lack of data.\" # Default message\n",
    "\n",
    "if analyzed_df is not None and not analyzed_df.empty:\n",
    "    print(f\"\\nSerializing final analyzed DataFrame to {ANALYZED_DATA_FILE}...\")\n",
    "    serialize_object(analyzed_df, ANALYZED_DATA_FILE)\n",
    "\n",
    "    # --- Generating a simple markdown report ---\n",
    "    report_md_content = f\"\"\"# Bitcoin Price Analysis Report (Example Application)\n",
    "\n",
    "**Analysis Period:** Last {DAYS_OF_DATA} days (Data as of {pd.Timestamp('today', tz='UTC').strftime('%Y-%m-%d %H:%M %Z')})\n",
    "**Currency:** {CURRENCY}\n",
    "\n",
    "## Key Findings:\n",
    "- **Data Points Analyzed:** {len(analyzed_df)}\n",
    "- **Simple Moving Averages (SMAs) Calculated:**\n",
    "\"\"\"\n",
    "    temp_report_smas_str = \"\"\n",
    "    if f'sma_{SMA_WINDOW_SHORT}' in analyzed_df.columns:\n",
    "        temp_report_smas_str += f\"    - {SMA_WINDOW_SHORT}-day SMA (Standard Method)\\n\"\n",
    "    if f'sma_{SMA_WINDOW_LONG}' in analyzed_df.columns:\n",
    "        temp_report_smas_str += f\"    - {SMA_WINDOW_LONG}-day SMA (Standard Method)\\n\"\n",
    "    if DISTRIBUTED_PLOT_COLUMN_NAME in analyzed_df.columns and not analyzed_df[DISTRIBUTED_PLOT_COLUMN_NAME].isnull().all():\n",
    "        temp_report_smas_str += f\"    - {SMA_WINDOW_SHORT}-day SMA (Simulated Distributed Method as '{DISTRIBUTED_PLOT_COLUMN_NAME}')\\n\"\n",
    "    report_md_content += temp_report_smas_str\n",
    "    \n",
    "    report_md_content += f\"- **Overall Trend ({DAYS_OF_DATA} days):** {trend_report}\\n\"\n",
    "    \n",
    "    report_md_content += \"\\n## Visualization:\\n\"\n",
    "    if plot_file and os.path.exists(plot_file):\n",
    "        report_md_content += f\"![Bitcoin Price Plot](./{plot_file})\\n\"\n",
    "    else:\n",
    "        report_md_content += \"Plot could not be generated or found.\\n\"\n",
    "\n",
    "    report_md_content += f\"\\n\\n**Data Storage:**\\n\"\n",
    "    if os.path.exists(RAW_DATA_FILE):\n",
    "        report_md_content += f\"- Raw fetched data serialized to: `{RAW_DATA_FILE}`\\n\"\n",
    "    # Analyzed data file is always created if this block is reached\n",
    "    report_md_content += f\"- Final analyzed data (with SMAs) serialized to: `{ANALYZED_DATA_FILE}`\\n\"\n",
    "    \n",
    "    report_md_content += \"\\n**Note on Cloudpickle & Distributed Processing:**\\n\"\n",
    "    report_md_content += (\"The calculation of one of the SMAs was performed using Python's `multiprocessing` module. \"\n",
    "                          \"`cloudpickle` was essential for this, as it allowed the serialization of the `calculate_moving_average` function \"\n",
    "                          \"and Pandas DataFrame chunks to be passed to, and results returned from, separate worker processes. \"\n",
    "                          \"This demonstrates `cloudpickle`'s utility in enabling more complex, distributed Python workflows.\")\n",
    "    \n",
    "    final_report_md = report_md_content # Update final_report_md with the full content\n",
    "    \n",
    "    print(\"\\n--- Generated Analysis Report ---\")\n",
    "    display(Markdown(final_report_md)) # Display the full report\n",
    "\n",
    "    # Optionally, save the markdown report to a file\n",
    "    report_filename = \"CloudPickle_Example_Report.md\" \n",
    "    try:\n",
    "        with open(report_filename, \"w\") as f:\n",
    "            f.write(final_report_md)\n",
    "        print(f\"\\nReport content also saved to {report_filename}\")\n",
    "    except Exception as e:\n",
    "        print(f\"Error saving report to file: {e}\")\n",
    "else: # This 'else' is correctly paired with 'if analyzed_df is not None and not analyzed_df.empty:'\n",
    "    print(\"\\nSkipping final report generation as 'analyzed_df' is empty or None.\")\n",
    "    display(Markdown(final_report_md)) # Display the default \"Analysis could not be completed...\" message\n"
   ]
  },
  {
   "cell_type": "markdown",
   "id": "88582d04",
   "metadata": {},
   "source": [
    "# Challenges & Cloudpickle's Role (Recap)\n",
    "\n",
    "This example highlighted several aspects:\n",
    "- **Data Ingestion:** Using `requests` and `pandas` for API data.\n",
    "- **Data Serialization:** `cloudpickle` (via `serialize_object`/`deserialize_object` and direct `dumps`/`loads`) is key for persisting arbitrary Python objects including DataFrames and functions.\n",
    "- **Time Series Analysis:** Basic SMA and trend analysis with `pandas`.\n",
    "- **Distributed Processing (Simulated):**\n",
    "    - `multiprocessing` for parallel execution.\n",
    "    - `cloudpickle` is crucial for: \n",
    "        1. Serializing the analysis function (`calculate_moving_average`) so it can be sent to worker processes.\n",
    "        2. Serializing the data chunks (Pandas DataFrames) for processing by workers.\n",
    "        3. Serializing the results from worker processes before sending them back to the main process.\n",
    "    - Without `cloudpickle`'s ability to handle functions and complex objects robustly, this type of distributed pattern would be much harder to implement with standard `pickle`.\n",
    "- **Results and Reporting:** Storing processed data and generating dynamic output.\n",
    "\n",
    "**Challenges in a real distributed setup remain:**\n",
    "1.  **Dependency Management:** Ensuring all worker nodes have identical Python environments (interpreter, libraries like `pandas`, `numpy`, and `cloudpickle` itself, all with compatible versions).\n",
    "2.  **Python Version Compatibility:** `cloudpickle` helps, but major Python version differences can still break deserialization.\n",
    "3.  **Serialization Overhead & Data Transfer:** For very large datasets, the time to serialize, transfer, and deserialize data can negate multiprocessing benefits. Optimized data formats (e.g., Arrow, Parquet) and strategies like shared memory (for local multiprocessing) might be needed.\n",
    "4.  **Debugging:** More complex in distributed systems. Logging within tasks is essential.\n",
    "\n",
    "`cloudpickle` addresses the critical need to serialize Python functions and their context, making it a powerful tool for building distributed Python applications.\n"
   ]
  }
 ],
 "metadata": {
  "kernelspec": {
   "display_name": "Python 3 (ipykernel)",
   "language": "python",
   "name": "python3"
  },
  "language_info": {
   "codemirror_mode": {
    "name": "ipython",
    "version": 3
   },
   "file_extension": ".py",
   "mimetype": "text/x-python",
   "name": "python",
   "nbconvert_exporter": "python",
   "pygments_lexer": "ipython3",
   "version": "3.8.10"
  },
  "toc": {
   "base_numbering": 1,
   "nav_menu": {},
   "number_sections": true,
   "sideBar": true,
   "skip_h1_title": false,
   "title_cell": "Table of Contents",
   "title_sidebar": "Contents",
   "toc_cell": false,
   "toc_position": {},
   "toc_section_display": true,
   "toc_window_display": false
  }
 },
 "nbformat": 4,
 "nbformat_minor": 5
}
