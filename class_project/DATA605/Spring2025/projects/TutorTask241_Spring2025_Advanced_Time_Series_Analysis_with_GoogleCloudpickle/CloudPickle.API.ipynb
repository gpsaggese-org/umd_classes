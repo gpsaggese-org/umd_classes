{
 "cells": [
  {
   "cell_type": "markdown",
   "id": "2f2a7f4f",
   "metadata": {},
   "source": [
    "# API Usage Demonstration\n",
    "\n",
    "This notebook demonstrates the core functionalities of the `CloudPickle.py` wrapper, focusing on:\n",
    "1. Fetching Bitcoin price data from CoinGecko (native API interaction via wrapper).\n",
    "2. Serializing and deserializing Python objects (DataFrames and functions) using `cloudpickle` through the wrapper.\n",
    "3. Performing basic time series analysis (moving average, trend) using utility functions.\n",
    "4. Visualizing data.\n"
   ]
  },
  {
   "cell_type": "code",
   "execution_count": 3,
   "id": "9daac165",
   "metadata": {
    "ExecuteTime": {
     "end_time": "2025-05-16T23:34:03.376011Z",
     "start_time": "2025-05-16T23:34:01.362603Z"
    }
   },
   "outputs": [
    {
     "name": "stdout",
     "output_type": "stream",
     "text": [
      "CloudPickle_utils.py loaded successfully.\n"
     ]
    }
   ],
   "source": [
    "import pandas as pd\n",
    "import matplotlib.pyplot as plt\n",
    "from IPython.display import Image, display, Markdown\n",
    "import os\n",
    "\n",
    "try:\n",
    "    from CloudPickle_utils import (\n",
    "        fetch_bitcoin_price_history,\n",
    "        serialize_object,\n",
    "        deserialize_object,\n",
    "        calculate_moving_average,\n",
    "        simple_trend_analysis,\n",
    "        plot_price_data\n",
    "    )\n",
    "    print(\"CloudPickle_utils.py loaded successfully.\")\n",
    "except ImportError as e:\n",
    "    print(f\"ImportError: {e}. Make sure CloudPickle_utils.py is in the current directory or your PYTHONPATH.\")\n",
    "    # Fallback if running in an environment where direct import might be tricky initially\n"
   ]
  },
  {
   "cell_type": "markdown",
   "id": "6dd67a85",
   "metadata": {},
   "source": [
    "# Data Ingestion: Fetching Bitcoin Price Data\n",
    "\n",
    "We use `Workspace_bitcoin_price_history` to get data from CoinGecko. This function handles the call to the native API endpoint `/coins/bitcoin/market_chart`.\n"
   ]
  },
  {
   "cell_type": "code",
   "execution_count": 4,
   "id": "5a08d615",
   "metadata": {
    "ExecuteTime": {
     "end_time": "2025-05-16T23:34:03.644964Z",
     "start_time": "2025-05-16T23:34:03.379064Z"
    }
   },
   "outputs": [
    {
     "name": "stdout",
     "output_type": "stream",
     "text": [
      "Fetching Bitcoin price data for the last 24 hours (hourly data)...\n",
      "Fetching Bitcoin data from CoinGecko: days=1, currency=usd\n",
      "Successfully fetched 287 data points.\n",
      "\n",
      "Successfully fetched hourly Bitcoin data:\n"
     ]
    },
    {
     "data": {
      "text/html": [
       "<div>\n",
       "<style scoped>\n",
       "    .dataframe tbody tr th:only-of-type {\n",
       "        vertical-align: middle;\n",
       "    }\n",
       "\n",
       "    .dataframe tbody tr th {\n",
       "        vertical-align: top;\n",
       "    }\n",
       "\n",
       "    .dataframe thead th {\n",
       "        text-align: right;\n",
       "    }\n",
       "</style>\n",
       "<table border=\"1\" class=\"dataframe\">\n",
       "  <thead>\n",
       "    <tr style=\"text-align: right;\">\n",
       "      <th></th>\n",
       "      <th>price</th>\n",
       "    </tr>\n",
       "    <tr>\n",
       "      <th>timestamp</th>\n",
       "      <th></th>\n",
       "    </tr>\n",
       "  </thead>\n",
       "  <tbody>\n",
       "    <tr>\n",
       "      <th>2025-05-15 23:36:25.403</th>\n",
       "      <td>103548.646042</td>\n",
       "    </tr>\n",
       "    <tr>\n",
       "      <th>2025-05-15 23:41:38.718</th>\n",
       "      <td>103612.719449</td>\n",
       "    </tr>\n",
       "    <tr>\n",
       "      <th>2025-05-15 23:45:26.078</th>\n",
       "      <td>103630.958901</td>\n",
       "    </tr>\n",
       "    <tr>\n",
       "      <th>2025-05-15 23:50:41.241</th>\n",
       "      <td>103703.611049</td>\n",
       "    </tr>\n",
       "    <tr>\n",
       "      <th>2025-05-15 23:55:53.685</th>\n",
       "      <td>103708.851364</td>\n",
       "    </tr>\n",
       "  </tbody>\n",
       "</table>\n",
       "</div>"
      ],
      "text/plain": [
       "                                 price\n",
       "timestamp                             \n",
       "2025-05-15 23:36:25.403  103548.646042\n",
       "2025-05-15 23:41:38.718  103612.719449\n",
       "2025-05-15 23:45:26.078  103630.958901\n",
       "2025-05-15 23:50:41.241  103703.611049\n",
       "2025-05-15 23:55:53.685  103708.851364"
      ]
     },
     "metadata": {},
     "output_type": "display_data"
    },
    {
     "name": "stdout",
     "output_type": "stream",
     "text": [
      "\n",
      "Shape of data: (287, 1)\n"
     ]
    }
   ],
   "source": [
    "print(\"Fetching Bitcoin price data for the last 24 hours (hourly data)...\")\n",
    "btc_data_hourly = fetch_bitcoin_price_history(days=1, currency='usd')\n",
    "\n",
    "if btc_data_hourly is not None and not btc_data_hourly.empty:\n",
    "    print(\"\\nSuccessfully fetched hourly Bitcoin data:\")\n",
    "    display(btc_data_hourly.head())\n",
    "    print(f\"\\nShape of data: {btc_data_hourly.shape}\")\n",
    "else:\n",
    "    print(\"\\nFailed to fetch hourly Bitcoin data or no data returned.\")\n"
   ]
  },
  {
   "cell_type": "code",
   "execution_count": 5,
   "id": "26daaca8",
   "metadata": {
    "ExecuteTime": {
     "end_time": "2025-05-16T23:34:03.775823Z",
     "start_time": "2025-05-16T23:34:03.646666Z"
    }
   },
   "outputs": [
    {
     "name": "stdout",
     "output_type": "stream",
     "text": [
      "\n",
      "Fetching Bitcoin price data for the last 7 days (daily data)...\n",
      "Fetching Bitcoin data from CoinGecko: days=7, currency=usd\n",
      "Successfully fetched 169 data points.\n",
      "\n",
      "Successfully fetched daily Bitcoin data:\n"
     ]
    },
    {
     "data": {
      "text/html": [
       "<div>\n",
       "<style scoped>\n",
       "    .dataframe tbody tr th:only-of-type {\n",
       "        vertical-align: middle;\n",
       "    }\n",
       "\n",
       "    .dataframe tbody tr th {\n",
       "        vertical-align: top;\n",
       "    }\n",
       "\n",
       "    .dataframe thead th {\n",
       "        text-align: right;\n",
       "    }\n",
       "</style>\n",
       "<table border=\"1\" class=\"dataframe\">\n",
       "  <thead>\n",
       "    <tr style=\"text-align: right;\">\n",
       "      <th></th>\n",
       "      <th>price</th>\n",
       "    </tr>\n",
       "    <tr>\n",
       "      <th>timestamp</th>\n",
       "      <th></th>\n",
       "    </tr>\n",
       "  </thead>\n",
       "  <tbody>\n",
       "    <tr>\n",
       "      <th>2025-05-10 00:04:37.665</th>\n",
       "      <td>102974.907551</td>\n",
       "    </tr>\n",
       "    <tr>\n",
       "      <th>2025-05-10 01:04:44.992</th>\n",
       "      <td>102888.538003</td>\n",
       "    </tr>\n",
       "    <tr>\n",
       "      <th>2025-05-10 02:07:46.492</th>\n",
       "      <td>102993.943862</td>\n",
       "    </tr>\n",
       "    <tr>\n",
       "      <th>2025-05-10 03:04:36.887</th>\n",
       "      <td>103150.341515</td>\n",
       "    </tr>\n",
       "    <tr>\n",
       "      <th>2025-05-10 04:08:29.682</th>\n",
       "      <td>103193.129672</td>\n",
       "    </tr>\n",
       "  </tbody>\n",
       "</table>\n",
       "</div>"
      ],
      "text/plain": [
       "                                 price\n",
       "timestamp                             \n",
       "2025-05-10 00:04:37.665  102974.907551\n",
       "2025-05-10 01:04:44.992  102888.538003\n",
       "2025-05-10 02:07:46.492  102993.943862\n",
       "2025-05-10 03:04:36.887  103150.341515\n",
       "2025-05-10 04:08:29.682  103193.129672"
      ]
     },
     "metadata": {},
     "output_type": "display_data"
    },
    {
     "name": "stdout",
     "output_type": "stream",
     "text": [
      "\n",
      "Shape of data: (169, 1)\n"
     ]
    }
   ],
   "source": [
    "print(\"\\nFetching Bitcoin price data for the last 7 days (daily data)...\")\n",
    "btc_data_daily = fetch_bitcoin_price_history(days=7, currency='usd')\n",
    "\n",
    "if btc_data_daily is not None and not btc_data_daily.empty:\n",
    "    print(\"\\nSuccessfully fetched daily Bitcoin data:\")\n",
    "    display(btc_data_daily.head())\n",
    "    print(f\"\\nShape of data: {btc_data_daily.shape}\")\n",
    "else:\n",
    "    print(\"\\nFailed to fetch daily Bitcoin data or no data returned.\")\n"
   ]
  },
  {
   "cell_type": "markdown",
   "id": "9fe65fb9",
   "metadata": {},
   "source": [
    "# Data Serialization and Deserialization with `cloudpickle`\n",
    "\n",
    "The wrapper functions `serialize_object` and `deserialize_object` use `cloudpickle` internally.\n"
   ]
  },
  {
   "cell_type": "markdown",
   "id": "51be72d3",
   "metadata": {},
   "source": [
    "## Serializing and Deserializing a DataFrame\n"
   ]
  },
  {
   "cell_type": "code",
   "execution_count": 6,
   "id": "2339cf3c",
   "metadata": {
    "ExecuteTime": {
     "end_time": "2025-05-16T23:34:03.804808Z",
     "start_time": "2025-05-16T23:34:03.780524Z"
    }
   },
   "outputs": [
    {
     "name": "stdout",
     "output_type": "stream",
     "text": [
      "\n",
      "Serializing the daily DataFrame to btc_daily_data_api_demo.pkl...\n",
      "Object successfully serialized to btc_daily_data_api_demo.pkl\n",
      "\n",
      "Deserializing the DataFrame from btc_daily_data_api_demo.pkl...\n",
      "Object successfully deserialized from btc_daily_data_api_demo.pkl\n",
      "\n",
      "Verifying deserialized data (first 5 rows):\n"
     ]
    },
    {
     "data": {
      "text/html": [
       "<div>\n",
       "<style scoped>\n",
       "    .dataframe tbody tr th:only-of-type {\n",
       "        vertical-align: middle;\n",
       "    }\n",
       "\n",
       "    .dataframe tbody tr th {\n",
       "        vertical-align: top;\n",
       "    }\n",
       "\n",
       "    .dataframe thead th {\n",
       "        text-align: right;\n",
       "    }\n",
       "</style>\n",
       "<table border=\"1\" class=\"dataframe\">\n",
       "  <thead>\n",
       "    <tr style=\"text-align: right;\">\n",
       "      <th></th>\n",
       "      <th>price</th>\n",
       "    </tr>\n",
       "    <tr>\n",
       "      <th>timestamp</th>\n",
       "      <th></th>\n",
       "    </tr>\n",
       "  </thead>\n",
       "  <tbody>\n",
       "    <tr>\n",
       "      <th>2025-05-10 00:04:37.665</th>\n",
       "      <td>102974.907551</td>\n",
       "    </tr>\n",
       "    <tr>\n",
       "      <th>2025-05-10 01:04:44.992</th>\n",
       "      <td>102888.538003</td>\n",
       "    </tr>\n",
       "    <tr>\n",
       "      <th>2025-05-10 02:07:46.492</th>\n",
       "      <td>102993.943862</td>\n",
       "    </tr>\n",
       "    <tr>\n",
       "      <th>2025-05-10 03:04:36.887</th>\n",
       "      <td>103150.341515</td>\n",
       "    </tr>\n",
       "    <tr>\n",
       "      <th>2025-05-10 04:08:29.682</th>\n",
       "      <td>103193.129672</td>\n",
       "    </tr>\n",
       "  </tbody>\n",
       "</table>\n",
       "</div>"
      ],
      "text/plain": [
       "                                 price\n",
       "timestamp                             \n",
       "2025-05-10 00:04:37.665  102974.907551\n",
       "2025-05-10 01:04:44.992  102888.538003\n",
       "2025-05-10 02:07:46.492  102993.943862\n",
       "2025-05-10 03:04:36.887  103150.341515\n",
       "2025-05-10 04:08:29.682  103193.129672"
      ]
     },
     "metadata": {},
     "output_type": "display_data"
    },
    {
     "name": "stdout",
     "output_type": "stream",
     "text": [
      "Serialization and deserialization successful: DataFrames are identical.\n",
      "Cleaned up btc_daily_data_api_demo.pkl\n"
     ]
    }
   ],
   "source": [
    "DF_SERIALIZATION_FILE = 'btc_daily_data_api_demo.pkl'\n",
    "\n",
    "if btc_data_daily is not None and not btc_data_daily.empty:\n",
    "    print(f\"\\nSerializing the daily DataFrame to {DF_SERIALIZATION_FILE}...\")\n",
    "    serialize_object(btc_data_daily, DF_SERIALIZATION_FILE)\n",
    "\n",
    "    print(f\"\\nDeserializing the DataFrame from {DF_SERIALIZATION_FILE}...\")\n",
    "    deserialized_btc_data = deserialize_object(DF_SERIALIZATION_FILE)\n",
    "\n",
    "    if deserialized_btc_data is not None:\n",
    "        print(\"\\nVerifying deserialized data (first 5 rows):\")\n",
    "        display(deserialized_btc_data.head())\n",
    "        if btc_data_daily.equals(deserialized_btc_data):\n",
    "            print(\"Serialization and deserialization successful: DataFrames are identical.\")\n",
    "        else:\n",
    "            print(\"Warning: Deserialized DataFrame differs from original.\")\n",
    "    else:\n",
    "        print(\"Deserialization failed.\")\n",
    "    # Clean up the created file\n",
    "    if os.path.exists(DF_SERIALIZATION_FILE):\n",
    "        try:\n",
    "            os.remove(DF_SERIALIZATION_FILE)\n",
    "            print(f\"Cleaned up {DF_SERIALIZATION_FILE}\")\n",
    "        except Exception as e:\n",
    "            print(f\"Could not clean up {DF_SERIALIZATION_FILE}: {e}\")\n",
    "else:\n",
    "    print(\"\\nSkipping DataFrame serialization demo as daily data was not fetched.\")\n"
   ]
  },
  {
   "cell_type": "markdown",
   "id": "c50603a8",
   "metadata": {},
   "source": [
    "## Serializing and Deserializing a Function\n",
    "\n",
    "`cloudpickle` excels at serializing more complex Python objects like functions, including those defined locally or with closures. Here, we'll serialize one of our utility functions.\n"
   ]
  },
  {
   "cell_type": "code",
   "execution_count": 7,
   "id": "6aaad8d4",
   "metadata": {
    "ExecuteTime": {
     "end_time": "2025-05-16T23:34:03.845970Z",
     "start_time": "2025-05-16T23:34:03.811888Z"
    }
   },
   "outputs": [
    {
     "name": "stdout",
     "output_type": "stream",
     "text": [
      "\n",
      "Serializing the 'calculate_moving_average' function to sma_calculator_func_api_demo.pkl...\n",
      "Object successfully serialized to sma_calculator_func_api_demo.pkl\n",
      "\n",
      "Deserializing the function from sma_calculator_func_api_demo.pkl...\n",
      "Object successfully deserialized from sma_calculator_func_api_demo.pkl\n",
      "Successfully deserialized function: calculate_moving_average\n",
      "\n",
      "Applying the deserialized SMA function to daily data (window=2)...\n"
     ]
    },
    {
     "data": {
      "text/html": [
       "<div>\n",
       "<style scoped>\n",
       "    .dataframe tbody tr th:only-of-type {\n",
       "        vertical-align: middle;\n",
       "    }\n",
       "\n",
       "    .dataframe tbody tr th {\n",
       "        vertical-align: top;\n",
       "    }\n",
       "\n",
       "    .dataframe thead th {\n",
       "        text-align: right;\n",
       "    }\n",
       "</style>\n",
       "<table border=\"1\" class=\"dataframe\">\n",
       "  <thead>\n",
       "    <tr style=\"text-align: right;\">\n",
       "      <th></th>\n",
       "      <th>price</th>\n",
       "      <th>sma_2</th>\n",
       "    </tr>\n",
       "    <tr>\n",
       "      <th>timestamp</th>\n",
       "      <th></th>\n",
       "      <th></th>\n",
       "    </tr>\n",
       "  </thead>\n",
       "  <tbody>\n",
       "    <tr>\n",
       "      <th>2025-05-10 00:04:37.665</th>\n",
       "      <td>102974.907551</td>\n",
       "      <td>102974.907551</td>\n",
       "    </tr>\n",
       "    <tr>\n",
       "      <th>2025-05-10 01:04:44.992</th>\n",
       "      <td>102888.538003</td>\n",
       "      <td>102931.722777</td>\n",
       "    </tr>\n",
       "    <tr>\n",
       "      <th>2025-05-10 02:07:46.492</th>\n",
       "      <td>102993.943862</td>\n",
       "      <td>102941.240933</td>\n",
       "    </tr>\n",
       "    <tr>\n",
       "      <th>2025-05-10 03:04:36.887</th>\n",
       "      <td>103150.341515</td>\n",
       "      <td>103072.142688</td>\n",
       "    </tr>\n",
       "    <tr>\n",
       "      <th>2025-05-10 04:08:29.682</th>\n",
       "      <td>103193.129672</td>\n",
       "      <td>103171.735593</td>\n",
       "    </tr>\n",
       "  </tbody>\n",
       "</table>\n",
       "</div>"
      ],
      "text/plain": [
       "                                 price          sma_2\n",
       "timestamp                                            \n",
       "2025-05-10 00:04:37.665  102974.907551  102974.907551\n",
       "2025-05-10 01:04:44.992  102888.538003  102931.722777\n",
       "2025-05-10 02:07:46.492  102993.943862  102941.240933\n",
       "2025-05-10 03:04:36.887  103150.341515  103072.142688\n",
       "2025-05-10 04:08:29.682  103193.129672  103171.735593"
      ]
     },
     "metadata": {},
     "output_type": "display_data"
    },
    {
     "name": "stdout",
     "output_type": "stream",
     "text": [
      "Cleaned up sma_calculator_func_api_demo.pkl\n"
     ]
    }
   ],
   "source": [
    "FUNC_SERIALIZATION_FILE = 'sma_calculator_func_api_demo.pkl'\n",
    "function_to_serialize = calculate_moving_average # This is the function object itself\n",
    "\n",
    "print(f\"\\nSerializing the 'calculate_moving_average' function to {FUNC_SERIALIZATION_FILE}...\")\n",
    "serialize_object(function_to_serialize, FUNC_SERIALIZATION_FILE)\n",
    "\n",
    "print(f\"\\nDeserializing the function from {FUNC_SERIALIZATION_FILE}...\")\n",
    "deserialized_func = deserialize_object(FUNC_SERIALIZATION_FILE)\n",
    "\n",
    "if deserialized_func is not None:\n",
    "    print(f\"Successfully deserialized function: {deserialized_func.__name__}\")\n",
    "    # Test the deserialized function\n",
    "    if btc_data_daily is not None and not btc_data_daily.empty:\n",
    "        print(\"\\nApplying the deserialized SMA function to daily data (window=2)...\")\n",
    "        df_processed_by_deserialized_func = deserialized_func(btc_data_daily.copy(), 2) # window_size = 2\n",
    "        if df_processed_by_deserialized_func is not None:\n",
    "            display(df_processed_by_deserialized_func.head())\n",
    "        else:\n",
    "            print(\"Deserialized function did not return a DataFrame.\")\n",
    "    else:\n",
    "        print(\"\\nSkipping test of deserialized function as daily data was not fetched.\")\n",
    "    # Clean up\n",
    "    if os.path.exists(FUNC_SERIALIZATION_FILE):\n",
    "        try:\n",
    "            os.remove(FUNC_SERIALIZATION_FILE)\n",
    "            print(f\"Cleaned up {FUNC_SERIALIZATION_FILE}\")\n",
    "        except Exception as e:\n",
    "            print(f\"Could not clean up {FUNC_SERIALIZATION_FILE}: {e}\")\n",
    "else:\n",
    "    print(f\"Failed to deserialize the function from {FUNC_SERIALIZATION_FILE}.\")\n"
   ]
  },
  {
   "cell_type": "markdown",
   "id": "e17f29bd",
   "metadata": {},
   "source": [
    "# Basic Time Series Analysis Functions\n"
   ]
  },
  {
   "cell_type": "markdown",
   "id": "7c4fb030",
   "metadata": {},
   "source": [
    "## Calculating Moving Average\n"
   ]
  },
  {
   "cell_type": "code",
   "execution_count": 8,
   "id": "1a2311b4",
   "metadata": {
    "ExecuteTime": {
     "end_time": "2025-05-16T23:34:03.878224Z",
     "start_time": "2025-05-16T23:34:03.848712Z"
    }
   },
   "outputs": [
    {
     "name": "stdout",
     "output_type": "stream",
     "text": [
      "\n",
      "Calculating 3-day Simple Moving Average (SMA) for daily data...\n"
     ]
    },
    {
     "data": {
      "text/html": [
       "<div>\n",
       "<style scoped>\n",
       "    .dataframe tbody tr th:only-of-type {\n",
       "        vertical-align: middle;\n",
       "    }\n",
       "\n",
       "    .dataframe tbody tr th {\n",
       "        vertical-align: top;\n",
       "    }\n",
       "\n",
       "    .dataframe thead th {\n",
       "        text-align: right;\n",
       "    }\n",
       "</style>\n",
       "<table border=\"1\" class=\"dataframe\">\n",
       "  <thead>\n",
       "    <tr style=\"text-align: right;\">\n",
       "      <th></th>\n",
       "      <th>price</th>\n",
       "      <th>sma_3</th>\n",
       "    </tr>\n",
       "    <tr>\n",
       "      <th>timestamp</th>\n",
       "      <th></th>\n",
       "      <th></th>\n",
       "    </tr>\n",
       "  </thead>\n",
       "  <tbody>\n",
       "    <tr>\n",
       "      <th>2025-05-10 00:04:37.665</th>\n",
       "      <td>102974.907551</td>\n",
       "      <td>102974.907551</td>\n",
       "    </tr>\n",
       "    <tr>\n",
       "      <th>2025-05-10 01:04:44.992</th>\n",
       "      <td>102888.538003</td>\n",
       "      <td>102931.722777</td>\n",
       "    </tr>\n",
       "    <tr>\n",
       "      <th>2025-05-10 02:07:46.492</th>\n",
       "      <td>102993.943862</td>\n",
       "      <td>102952.463139</td>\n",
       "    </tr>\n",
       "    <tr>\n",
       "      <th>2025-05-10 03:04:36.887</th>\n",
       "      <td>103150.341515</td>\n",
       "      <td>103010.941127</td>\n",
       "    </tr>\n",
       "    <tr>\n",
       "      <th>2025-05-10 04:08:29.682</th>\n",
       "      <td>103193.129672</td>\n",
       "      <td>103112.471683</td>\n",
       "    </tr>\n",
       "  </tbody>\n",
       "</table>\n",
       "</div>"
      ],
      "text/plain": [
       "                                 price          sma_3\n",
       "timestamp                                            \n",
       "2025-05-10 00:04:37.665  102974.907551  102974.907551\n",
       "2025-05-10 01:04:44.992  102888.538003  102931.722777\n",
       "2025-05-10 02:07:46.492  102993.943862  102952.463139\n",
       "2025-05-10 03:04:36.887  103150.341515  103010.941127\n",
       "2025-05-10 04:08:29.682  103193.129672  103112.471683"
      ]
     },
     "metadata": {},
     "output_type": "display_data"
    }
   ],
   "source": [
    "btc_data_with_sma = None \n",
    "if btc_data_daily is not None and not btc_data_daily.empty:\n",
    "    window = 3 # 3-day moving average for daily data\n",
    "    print(f\"\\nCalculating {window}-day Simple Moving Average (SMA) for daily data...\")\n",
    "    btc_data_with_sma = calculate_moving_average(btc_data_daily.copy(), window_size=window)\n",
    "    if btc_data_with_sma is not None:\n",
    "        display(btc_data_with_sma.head())\n",
    "    else:\n",
    "        print(\"SMA calculation resulted in None.\")\n",
    "else:\n",
    "    print(\"\\nSkipping SMA calculation as daily data was not fetched.\")\n"
   ]
  },
  {
   "cell_type": "markdown",
   "id": "8fac834f",
   "metadata": {},
   "source": [
    "## Simple Trend Analysis\n"
   ]
  },
  {
   "cell_type": "code",
   "execution_count": 9,
   "id": "7084192a",
   "metadata": {
    "ExecuteTime": {
     "end_time": "2025-05-16T23:34:03.893293Z",
     "start_time": "2025-05-16T23:34:03.881320Z"
    }
   },
   "outputs": [
    {
     "name": "stdout",
     "output_type": "stream",
     "text": [
      "\n",
      "Performing simple trend analysis on daily data...\n",
      "Simple Trend: Uptrend (Change: 0.68%)\n"
     ]
    }
   ],
   "source": [
    "if btc_data_daily is not None and not btc_data_daily.empty:\n",
    "    print(\"\\nPerforming simple trend analysis on daily data...\")\n",
    "    trend = simple_trend_analysis(btc_data_daily)\n",
    "    print(trend)\n",
    "else:\n",
    "    print(\"\\nSkipping trend analysis as daily data was not fetched.\")\n"
   ]
  },
  {
   "cell_type": "markdown",
   "id": "274a11fe",
   "metadata": {},
   "source": [
    "# Plotting Data\n"
   ]
  },
  {
   "cell_type": "code",
   "execution_count": 10,
   "id": "44586ae2",
   "metadata": {
    "ExecuteTime": {
     "end_time": "2025-05-16T23:34:04.363523Z",
     "start_time": "2025-05-16T23:34:03.897412Z"
    }
   },
   "outputs": [
    {
     "name": "stdout",
     "output_type": "stream",
     "text": [
      "\n",
      "Plotting daily Bitcoin price and 3-day SMA...\n",
      "Plot successfully saved to btc_plot_20250516_233404.png\n",
      "Plot saved as btc_plot_20250516_233404.png\n"
     ]
    },
    {
     "data": {
      "image/png": "[encoded data removed]",
      "text/plain": [
       "<IPython.core.display.Image object>"
      ]
     },
     "metadata": {},
     "output_type": "display_data"
    },
    {
     "name": "stdout",
     "output_type": "stream",
     "text": [
      "Cleaned up btc_plot_20250516_233404.png\n"
     ]
    }
   ],
   "source": [
    "plot_filename = None # Initialize\n",
    "if btc_data_with_sma is not None and not btc_data_with_sma.empty:\n",
    "    print(\"\\nPlotting daily Bitcoin price and 3-day SMA...\")\n",
    "    plot_filename = plot_price_data(btc_data_with_sma, \n",
    "                                    title=\"Bitcoin Price (Daily) & 3-Day SMA (API Demo)\",\n",
    "                                    columns_to_plot=['price', f'sma_3']) # Specify columns\n",
    "elif btc_data_daily is not None and not btc_data_daily.empty:\n",
    "    print(\"\\nPlotting daily Bitcoin price (SMA not calculated or available)...\")\n",
    "    plot_filename = plot_price_data(btc_data_daily, title=\"Bitcoin Price (Daily) - API Demo\")\n",
    "else:\n",
    "    print(\"\\nSkipping plotting as no data was available.\")\n",
    "\n",
    "if plot_filename:\n",
    "    print(f\"Plot saved as {plot_filename}\")\n",
    "    display(Image(filename=plot_filename))\n",
    "    # Clean up the plot file\n",
    "    if os.path.exists(plot_filename):\n",
    "        try:\n",
    "            os.remove(plot_filename)\n",
    "            print(f\"Cleaned up {plot_filename}\")\n",
    "        except Exception as e:\n",
    "            print(f\"Could not clean up {plot_filename}: {e}\")\n",
    "elif btc_data_with_sma is not None or btc_data_daily is not None: # Only print if we attempted to plot\n",
    "     print(\"Plotting failed or DataFrame was empty.\")\n"
   ]
  },
  {
   "cell_type": "markdown",
   "id": "036a9b33",
   "metadata": {},
   "source": [
    "# Advanced `cloudpickle` Examples\n",
    "\n",
    "Let’s explore more patterns that **`pickle`** can’t handle but **`cloudpickle`** makes trivial:\n",
    "\n",
    "1. **Serializing a dynamically created class**  \n",
    "2. **Serializing `functools.partial` functions**  \n",
    "3. **Serializing generator functions & objects**  \n",
    "4. **Serializing instances with methods/closures**  \n"
   ]
  },
  {
   "cell_type": "code",
   "execution_count": 11,
   "id": "f908e270",
   "metadata": {
    "ExecuteTime": {
     "end_time": "2025-05-16T23:34:04.376573Z",
     "start_time": "2025-05-16T23:34:04.366234Z"
    }
   },
   "outputs": [
    {
     "name": "stdout",
     "output_type": "stream",
     "text": [
      "✔ cloudpickle dynamic class result: 20\n",
      "✔ cloudpickle partial result: 9\n"
     ]
    }
   ],
   "source": [
    "import cloudpickle\n",
    "import pickle\n",
    "from functools import partial\n",
    "\n",
    "# 1) Dynamically created class\n",
    "MyClass = type('MyClass', (), {'__init__': lambda self, x: setattr(self, 'x', x),\n",
    "                                'double': lambda self: self.x * 2})\n",
    "\n",
    "# pickle will fail on this\n",
    "try:\n",
    "    pickle.dumps(MyClass)\n",
    "except Exception as e:\n",
    "    print(\"✔ pickle failed on dynamic class:\", e)\n",
    "\n",
    "# cloudpickle handles it\n",
    "cls_ser = cloudpickle.dumps(MyClass)\n",
    "LoadedClass = cloudpickle.loads(cls_ser)\n",
    "inst = LoadedClass(10)\n",
    "print(\"✔ cloudpickle dynamic class result:\", inst.double())\n",
    "\n",
    "# 2) functools.partial\n",
    "def add(a, b, c): return a + b + c\n",
    "add5 = partial(add, 2, 3)\n",
    "\n",
    "try:\n",
    "    pickle.dumps(add5)\n",
    "except Exception as e:\n",
    "    print(\"✔ pickle failed on partial:\", e)\n",
    "\n",
    "p_ser = cloudpickle.dumps(add5)\n",
    "p_loaded = cloudpickle.loads(p_ser)\n",
    "print(\"✔ cloudpickle partial result:\", p_loaded(4))  # 2+3+4 = 9\n"
   ]
  },
  {
   "cell_type": "code",
   "execution_count": 13,
   "id": "bd291e78",
   "metadata": {
    "ExecuteTime": {
     "end_time": "2025-05-16T23:35:27.233095Z",
     "start_time": "2025-05-16T23:35:27.227007Z"
    }
   },
   "outputs": [
    {
     "name": "stdout",
     "output_type": "stream",
     "text": [
      "✔ cloudpickle – new countdown from loaded function: [3, 2, 1]\n",
      "✔ serialized generator output list: [5, 4, 3, 2, 1]\n"
     ]
    }
   ],
   "source": [
    "import pickle, cloudpickle\n",
    "\n",
    "def countdown(n):\n",
    "    while n > 0:\n",
    "        yield n\n",
    "        n -= 1\n",
    "\n",
    "# pickle fails on the function definition itself\n",
    "try:\n",
    "    pickle.dumps(countdown)\n",
    "except Exception as e:\n",
    "    print(\"✔ pickle failed on generator function with pickle:\", e)\n",
    "\n",
    "# cloudpickle can serialize the generator function\n",
    "gen_fn_ser = cloudpickle.dumps(countdown)\n",
    "loaded_countdown = cloudpickle.loads(gen_fn_ser)\n",
    "\n",
    "# Using the loaded function to create a new generator instance:\n",
    "print(\"✔ cloudpickle – new countdown from loaded function:\", list(loaded_countdown(3)))\n",
    "\n",
    "\n",
    "# 2) Serializing the *data* produced by a generator instance:\n",
    "gen_inst = countdown(5)\n",
    "data = list(gen_inst)  # collect output\n",
    "data_ser = cloudpickle.dumps(data)\n",
    "loaded_data = cloudpickle.loads(data_ser)\n",
    "print(\"✔ serialized generator output list:\", loaded_data)\n"
   ]
  },
  {
   "cell_type": "code",
   "execution_count": 14,
   "id": "d9759081",
   "metadata": {
    "ExecuteTime": {
     "end_time": "2025-05-16T23:35:41.345192Z",
     "start_time": "2025-05-16T23:35:41.332732Z"
    }
   },
   "outputs": [
    {
     "name": "stdout",
     "output_type": "stream",
     "text": [
      "✔ pickle failed on instance with closure: Can't pickle local object 'make_accumulator.<locals>.AccUser'\n",
      "✔ cloudpickle accumulator sequence: [1, 3, 6]\n"
     ]
    }
   ],
   "source": [
    "# 4) Instance capturing a closure + method\n",
    "def make_accumulator():\n",
    "    total = 0\n",
    "    def acc(x):\n",
    "        nonlocal total\n",
    "        total += x\n",
    "        return total\n",
    "    class AccUser:\n",
    "        def __init__(self): self.acc = acc\n",
    "        def add_and_get(self, y): return self.acc(y)\n",
    "    return AccUser()\n",
    "\n",
    "user = make_accumulator()\n",
    "\n",
    "# pickle fails on this nested closure + class\n",
    "try:\n",
    "    pickle.dumps(user)\n",
    "except Exception as e:\n",
    "    print(\"✔ pickle failed on instance with closure:\", e)\n",
    "\n",
    "user_ser = cloudpickle.dumps(user)\n",
    "user_loaded = cloudpickle.loads(user_ser)\n",
    "\n",
    "print(\"✔ cloudpickle accumulator sequence:\", [user_loaded.add_and_get(i) for i in (1,2,3)])\n"
   ]
  },
  {
   "cell_type": "markdown",
   "id": "ea48259e",
   "metadata": {},
   "source": [
    "This notebook demonstrated the core functionalities of the `CloudPickle_utils.py` wrapper, covering data fetching, serialization/deserialization of data and functions (via `cloudpickle`), basic analysis, and plotting.\n"
   ]
  },
  {
   "cell_type": "code",
   "execution_count": null,
   "id": "917b83e7",
   "metadata": {},
   "outputs": [],
   "source": []
  }
 ],
 "metadata": {
  "kernelspec": {
   "display_name": "Python 3 (ipykernel)",
   "language": "python",
   "name": "python3"
  },
  "language_info": {
   "codemirror_mode": {
    "name": "ipython",
    "version": 3
   },
   "file_extension": ".py",
   "mimetype": "text/x-python",
   "name": "python",
   "nbconvert_exporter": "python",
   "pygments_lexer": "ipython3",
   "version": "3.8.10"
  },
  "toc": {
   "base_numbering": 1,
   "nav_menu": {},
   "number_sections": true,
   "sideBar": true,
   "skip_h1_title": false,
   "title_cell": "Table of Contents",
   "title_sidebar": "Contents",
   "toc_cell": false,
   "toc_position": {},
   "toc_section_display": true,
   "toc_window_display": false
  }
 },
 "nbformat": 4,
 "nbformat_minor": 5
}
