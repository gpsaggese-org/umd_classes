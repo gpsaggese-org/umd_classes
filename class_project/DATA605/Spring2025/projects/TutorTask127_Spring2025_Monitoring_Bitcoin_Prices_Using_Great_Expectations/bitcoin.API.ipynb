{
 "cells": [
  {
   "cell_type": "code",
   "execution_count": 1,
   "id": "17e044a7-3e14-4c53-9e04-2bcb464e0553",
   "metadata": {},
   "outputs": [],
   "source": [
    "# Dynamically import BitcoinAPI from bitcoin.API.py\n",
    "import importlib.util\n",
    "import sys\n",
    "import pandas as pd"
   ]
  },
  {
   "cell_type": "code",
   "execution_count": 2,
   "id": "c2c171ed-b062-499f-b5d3-fd5ecf8e6291",
   "metadata": {},
   "outputs": [],
   "source": [
    "# Load bitcoin.API.py as a module\n",
    "spec = importlib.util.spec_from_file_location(\"bitcoin_api\", \"./bitcoin.API.py\")\n",
    "module = importlib.util.module_from_spec(spec)\n",
    "sys.modules[\"bitcoin_api\"] = module\n",
    "spec.loader.exec_module(module)"
   ]
  },
  {
   "cell_type": "code",
   "execution_count": 3,
   "id": "2e7d9b52-8785-479d-9d48-d11e8d9bb116",
   "metadata": {},
   "outputs": [],
   "source": [
    "# Extract BitcoinAPI class\n",
    "BitcoinAPI = module.BitcoinAPI"
   ]
  },
  {
   "cell_type": "code",
   "execution_count": 4,
   "id": "da495e40-23df-4054-8075-92bab46bae9b",
   "metadata": {},
   "outputs": [],
   "source": [
    "# Instantiate the API class\n",
    "btc_api = BitcoinAPI()"
   ]
  },
  {
   "cell_type": "code",
   "execution_count": 5,
   "id": "da09593a-0959-4f61-a108-67ac851764f9",
   "metadata": {},
   "outputs": [
    {
     "name": "stdout",
     "output_type": "stream",
     "text": [
      "[START] Fetching Bitcoin price data...\n",
      "                    timestamp              last_updated  price_usd  \\\n",
      "0  2025-04-30T13:15:43.217287  2025-04-30T13:14:30.792Z      94444   \n",
      "\n",
      "   price_24h_change     market_cap  market_cap_rank  total_volume  \\\n",
      "0          -0.41075  1876394827416                1   23046805704   \n",
      "\n",
      "   circulating_supply developer_score community_score     ath    atl  valid  \n",
      "0          19858112.0            None            None  108786  67.81   True  \n",
      "[INFO] Data saved to bitcoin_price_log.csv (appended)\n",
      "[INFO] Time difference between last 2 entries: 1.19 minutes\n"
     ]
    },
    {
     "data": {
      "application/vnd.jupyter.widget-view+json": {
       "model_id": "c2cfef78ddd84374b48772d28ed3278b",
       "version_major": 2,
       "version_minor": 0
      },
      "text/plain": [
       "Calculating Metrics:   0%|          | 0/8 [00:00<?, ?it/s]"
      ]
     },
     "metadata": {},
     "output_type": "display_data"
    },
    {
     "data": {
      "application/vnd.jupyter.widget-view+json": {
       "model_id": "fcaa3926c9234023a08f7929f8a84c73",
       "version_major": 2,
       "version_minor": 0
      },
      "text/plain": [
       "Calculating Metrics:   0%|          | 0/6 [00:00<?, ?it/s]"
      ]
     },
     "metadata": {},
     "output_type": "display_data"
    },
    {
     "data": {
      "application/vnd.jupyter.widget-view+json": {
       "model_id": "827773e3177d4a00b294bea74d5e62d3",
       "version_major": 2,
       "version_minor": 0
      },
      "text/plain": [
       "Calculating Metrics:   0%|          | 0/6 [00:00<?, ?it/s]"
      ]
     },
     "metadata": {},
     "output_type": "display_data"
    },
    {
     "data": {
      "application/vnd.jupyter.widget-view+json": {
       "model_id": "57b8a52ac4274cd193272bd25d29c89a",
       "version_major": 2,
       "version_minor": 0
      },
      "text/plain": [
       "Calculating Metrics:   0%|          | 0/6 [00:00<?, ?it/s]"
      ]
     },
     "metadata": {},
     "output_type": "display_data"
    },
    {
     "data": {
      "application/vnd.jupyter.widget-view+json": {
       "model_id": "25903e31e0124404b7d93fdca78f0ec8",
       "version_major": 2,
       "version_minor": 0
      },
      "text/plain": [
       "Calculating Metrics:   0%|          | 0/1 [00:00<?, ?it/s]"
      ]
     },
     "metadata": {},
     "output_type": "display_data"
    },
    {
     "data": {
      "application/vnd.jupyter.widget-view+json": {
       "model_id": "3a1c38a6685c43a98717c6451e18d785",
       "version_major": 2,
       "version_minor": 0
      },
      "text/plain": [
       "Calculating Metrics:   0%|          | 0/8 [00:00<?, ?it/s]"
      ]
     },
     "metadata": {},
     "output_type": "display_data"
    },
    {
     "data": {
      "application/vnd.jupyter.widget-view+json": {
       "model_id": "b687fdcf02cd43d291c2c07916345747",
       "version_major": 2,
       "version_minor": 0
      },
      "text/plain": [
       "Calculating Metrics:   0%|          | 0/1 [00:00<?, ?it/s]"
      ]
     },
     "metadata": {},
     "output_type": "display_data"
    },
    {
     "data": {
      "application/vnd.jupyter.widget-view+json": {
       "model_id": "83f8de041b7d4a13be7c9af7f47a1fb4",
       "version_major": 2,
       "version_minor": 0
      },
      "text/plain": [
       "Calculating Metrics:   0%|          | 0/8 [00:00<?, ?it/s]"
      ]
     },
     "metadata": {},
     "output_type": "display_data"
    },
    {
     "data": {
      "application/vnd.jupyter.widget-view+json": {
       "model_id": "489666f86dc941e4b73c6388d5cbbd78",
       "version_major": 2,
       "version_minor": 0
      },
      "text/plain": [
       "Calculating Metrics:   0%|          | 0/8 [00:00<?, ?it/s]"
      ]
     },
     "metadata": {},
     "output_type": "display_data"
    },
    {
     "data": {
      "application/vnd.jupyter.widget-view+json": {
       "model_id": "3fe7304bbf834b72bc1a750f1e62afb8",
       "version_major": 2,
       "version_minor": 0
      },
      "text/plain": [
       "Calculating Metrics:   0%|          | 0/8 [00:00<?, ?it/s]"
      ]
     },
     "metadata": {},
     "output_type": "display_data"
    },
    {
     "data": {
      "application/vnd.jupyter.widget-view+json": {
       "model_id": "ce0c7062532940dd9fecfbc0fdf23047",
       "version_major": 2,
       "version_minor": 0
      },
      "text/plain": [
       "Calculating Metrics:   0%|          | 0/8 [00:00<?, ?it/s]"
      ]
     },
     "metadata": {},
     "output_type": "display_data"
    },
    {
     "data": {
      "application/vnd.jupyter.widget-view+json": {
       "model_id": "d787a6da8fcf45de84eaec72e0220bbf",
       "version_major": 2,
       "version_minor": 0
      },
      "text/plain": [
       "Calculating Metrics:   0%|          | 0/8 [00:00<?, ?it/s]"
      ]
     },
     "metadata": {},
     "output_type": "display_data"
    },
    {
     "data": {
      "application/vnd.jupyter.widget-view+json": {
       "model_id": "de204d827b6c4012b18b8143d3cf89ef",
       "version_major": 2,
       "version_minor": 0
      },
      "text/plain": [
       "Calculating Metrics:   0%|          | 0/8 [00:00<?, ?it/s]"
      ]
     },
     "metadata": {},
     "output_type": "display_data"
    },
    {
     "data": {
      "application/vnd.jupyter.widget-view+json": {
       "model_id": "50f6c18f8b40446fa1135fc29854a86c",
       "version_major": 2,
       "version_minor": 0
      },
      "text/plain": [
       "Calculating Metrics:   0%|          | 0/8 [00:00<?, ?it/s]"
      ]
     },
     "metadata": {},
     "output_type": "display_data"
    },
    {
     "data": {
      "application/vnd.jupyter.widget-view+json": {
       "model_id": "7c02ee52d3be4e8db461cc7430ebea07",
       "version_major": 2,
       "version_minor": 0
      },
      "text/plain": [
       "Calculating Metrics:   0%|          | 0/8 [00:00<?, ?it/s]"
      ]
     },
     "metadata": {},
     "output_type": "display_data"
    },
    {
     "data": {
      "application/vnd.jupyter.widget-view+json": {
       "model_id": "e4728c5321f5437ca48fe9d9e655d26c",
       "version_major": 2,
       "version_minor": 0
      },
      "text/plain": [
       "Calculating Metrics:   0%|          | 0/60 [00:00<?, ?it/s]"
      ]
     },
     "metadata": {},
     "output_type": "display_data"
    },
    {
     "name": "stdout",
     "output_type": "stream",
     "text": [
      "[VALIDATION SUMMARY]\n",
      "Success: True\n",
      "Passed: 16 / 16\n",
      "\n",
      "Validation Summary:\n",
      "\n",
      "- Column 'price_usd' should exist — Passed\n",
      "- Column 'price_usd' should be between 20000 and 100000 — Passed\n",
      "- Column 'price_usd' should not be null — Passed\n",
      "- Column 'timestamp' should not be null — Passed\n",
      "- Column 'total_volume' should be between 5000000000.0 and 100000000000.0 — Passed\n",
      "- Column 'total_volume' should be of type 'float' — Passed\n",
      "- Column 'market_cap_rank' should be between 1 and 300 — Passed\n",
      "- Column 'circulating_supply' should be between 18000000 and 22000000 — Passed\n",
      "- Column 'developer_score' should be between 0 and 100 — Passed\n",
      "- Column 'community_score' should be between 0 and 100 — Passed\n",
      "- Column 'ath' should be between 1000 and ∞ — Passed\n",
      "- Column 'atl' should be between 0.01 and ∞ — Passed\n",
      "- Column 'valid' should be in set [True, False] — Passed\n",
      "- Column 'market_cap' should be of type 'float' — Passed\n",
      "- Column 'market_cap' should be between 300000000000.0 and 2500000000000.0 — Passed\n",
      "- Column 'last_updated' should not be null — Passed\n",
      "Report available at: file:///workspace/gx/uncommitted/data_docs/local_site/index.html\n",
      "[DONE] Script complete.\n"
     ]
    }
   ],
   "source": [
    "# Run the full pipeline (fetch → append → validate → summarize)\n",
    "result = btc_api.run()"
   ]
  },
  {
   "cell_type": "code",
   "execution_count": 6,
   "id": "ee7eec80-0ed8-4ab8-aa43-44de17bf8e17",
   "metadata": {},
   "outputs": [
    {
     "data": {
      "text/html": [
       "<div>\n",
       "<style scoped>\n",
       "    .dataframe tbody tr th:only-of-type {\n",
       "        vertical-align: middle;\n",
       "    }\n",
       "\n",
       "    .dataframe tbody tr th {\n",
       "        vertical-align: top;\n",
       "    }\n",
       "\n",
       "    .dataframe thead th {\n",
       "        text-align: right;\n",
       "    }\n",
       "</style>\n",
       "<table border=\"1\" class=\"dataframe\">\n",
       "  <thead>\n",
       "    <tr style=\"text-align: right;\">\n",
       "      <th></th>\n",
       "      <th>timestamp</th>\n",
       "      <th>last_updated</th>\n",
       "      <th>price_usd</th>\n",
       "      <th>price_24h_change</th>\n",
       "      <th>market_cap</th>\n",
       "      <th>market_cap_rank</th>\n",
       "      <th>total_volume</th>\n",
       "      <th>circulating_supply</th>\n",
       "      <th>developer_score</th>\n",
       "      <th>community_score</th>\n",
       "      <th>ath</th>\n",
       "      <th>atl</th>\n",
       "      <th>valid</th>\n",
       "    </tr>\n",
       "  </thead>\n",
       "  <tbody>\n",
       "    <tr>\n",
       "      <th>6024</th>\n",
       "      <td>2025-04-30T13:15:43.217287</td>\n",
       "      <td>2025-04-30T13:14:30.792Z</td>\n",
       "      <td>94444</td>\n",
       "      <td>-0.41075</td>\n",
       "      <td>1.876395e+12</td>\n",
       "      <td>1</td>\n",
       "      <td>23046805704</td>\n",
       "      <td>19858112.0</td>\n",
       "      <td>NaN</td>\n",
       "      <td>NaN</td>\n",
       "      <td>108786</td>\n",
       "      <td>67.81</td>\n",
       "      <td>True</td>\n",
       "    </tr>\n",
       "  </tbody>\n",
       "</table>\n",
       "</div>"
      ],
      "text/plain": [
       "                       timestamp              last_updated  price_usd  \\\n",
       "6024  2025-04-30T13:15:43.217287  2025-04-30T13:14:30.792Z      94444   \n",
       "\n",
       "      price_24h_change    market_cap  market_cap_rank  total_volume  \\\n",
       "6024          -0.41075  1.876395e+12                1   23046805704   \n",
       "\n",
       "      circulating_supply  developer_score  community_score     ath    atl  \\\n",
       "6024          19858112.0              NaN              NaN  108786  67.81   \n",
       "\n",
       "      valid  \n",
       "6024   True  "
      ]
     },
     "metadata": {},
     "output_type": "display_data"
    }
   ],
   "source": [
    "# Load current log to preview recent entries\n",
    "df = pd.read_csv(\"bitcoin_price_log.csv\")\n",
    "display(df.tail(1))"
   ]
  },
  {
   "cell_type": "code",
   "execution_count": 7,
   "id": "5ee1a46a-f26a-4a69-9b7b-d4f5c4d74024",
   "metadata": {},
   "outputs": [
    {
     "name": "stdout",
     "output_type": "stream",
     "text": [
      "Pipeline complete.\n"
     ]
    }
   ],
   "source": [
    "# Done\n",
    "print(\"Pipeline complete.\")"
   ]
  },
  {
   "cell_type": "code",
   "execution_count": null,
   "id": "889174f8-0651-44da-b538-897928e34a94",
   "metadata": {},
   "outputs": [],
   "source": []
  }
 ],
 "metadata": {
  "kernelspec": {
   "display_name": "Python 3 (ipykernel)",
   "language": "python",
   "name": "python3"
  },
  "language_info": {
   "codemirror_mode": {
    "name": "ipython",
    "version": 3
   },
   "file_extension": ".py",
   "mimetype": "text/x-python",
   "name": "python",
   "nbconvert_exporter": "python",
   "pygments_lexer": "ipython3",
   "version": "3.10.17"
  }
 },
 "nbformat": 4,
 "nbformat_minor": 5
}
