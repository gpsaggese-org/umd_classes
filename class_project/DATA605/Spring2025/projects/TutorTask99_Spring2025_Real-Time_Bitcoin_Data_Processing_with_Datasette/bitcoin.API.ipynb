{
 "cells": [
  {
   "cell_type": "markdown",
   "id": "5d1afcad",
   "metadata": {},
   "source": [
    "# Datasette Tutorial\n",
    "\n",
    "This notebook walks through the key features of **Datasette** for exploring and publishing SQLite data via a web interface, JSON API, and interactive visualizations. We'll cover:\n",
    "1. Installation & plugins\n",
    "2. Serving a database\n",
    "3. Exploring the web UI & JSON API\n",
    "4. Metadata customization (queries, dashboards, CSS)\n",
    "5. Vega‑Lite charts (`datasette-vega`)\n",
    "6. Cluster maps (`datasette-cluster-map`)\n",
    "7. Pretty‑printed JSON (`datasette-json-html`)\n",
    "8. Next steps & further resources\n"
   ]
  },
  {
   "cell_type": "markdown",
   "id": "afb7d455",
   "metadata": {},
   "source": [
    "## 1. Installation\n",
    "\n",
    "Install Datasette and recommended plugins:"
   ]
  },
  {
   "cell_type": "code",
   "execution_count": 1,
   "id": "c189eaf9",
   "metadata": {
    "vscode": {
     "languageId": "plaintext"
    }
   },
   "outputs": [
    {
     "name": "stdout",
     "output_type": "stream",
     "text": [
      "Requirement already satisfied: datasette in /usr/local/lib/python3.8/dist-packages (0.64.8)\n",
      "Requirement already satisfied: datasette-vega in /usr/local/lib/python3.8/dist-packages (0.6.2)\n",
      "Collecting datasette-cluster-map\n",
      "  Downloading datasette_cluster_map-0.18.2-py3-none-any.whl.metadata (8.6 kB)\n",
      "Collecting datasette-json-html\n",
      "  Downloading datasette_json_html-1.0.1-py3-none-any.whl.metadata (9.8 kB)\n",
      "Requirement already satisfied: asgiref>=3.2.10 in /usr/local/lib/python3.8/dist-packages (from datasette) (3.8.1)\n",
      "Requirement already satisfied: click>=7.1.1 in /usr/local/lib/python3.8/dist-packages (from datasette) (8.1.8)\n",
      "Requirement already satisfied: click-default-group>=1.2.3 in /usr/local/lib/python3.8/dist-packages (from datasette) (1.2.4)\n",
      "Requirement already satisfied: Jinja2>=2.10.3 in /usr/local/lib/python3.8/dist-packages (from datasette) (3.1.6)\n",
      "Requirement already satisfied: hupper>=1.9 in /usr/local/lib/python3.8/dist-packages (from datasette) (1.12.1)\n",
      "Requirement already satisfied: httpx>=0.20 in /usr/local/lib/python3.8/dist-packages (from datasette) (0.28.1)\n",
      "Requirement already satisfied: pint>=0.9 in /usr/local/lib/python3.8/dist-packages (from datasette) (0.21.1)\n",
      "Requirement already satisfied: pluggy>=1.0 in /usr/local/lib/python3.8/dist-packages (from datasette) (1.5.0)\n",
      "Requirement already satisfied: uvicorn>=0.11 in /usr/local/lib/python3.8/dist-packages (from datasette) (0.33.0)\n",
      "Requirement already satisfied: aiofiles>=0.4 in /usr/local/lib/python3.8/dist-packages (from datasette) (24.1.0)\n",
      "Requirement already satisfied: janus>=0.6.2 in /usr/local/lib/python3.8/dist-packages (from datasette) (1.0.0)\n",
      "Requirement already satisfied: asgi-csrf>=0.9 in /usr/local/lib/python3.8/dist-packages (from datasette) (0.10)\n",
      "Requirement already satisfied: PyYAML>=5.3 in /usr/local/lib/python3.8/dist-packages (from datasette) (6.0.2)\n",
      "Requirement already satisfied: mergedeep>=1.1.1 in /usr/local/lib/python3.8/dist-packages (from datasette) (1.3.4)\n",
      "Requirement already satisfied: itsdangerous>=1.1 in /usr/local/lib/python3.8/dist-packages (from datasette) (2.2.0)\n",
      "Requirement already satisfied: setuptools in /usr/lib/python3/dist-packages (from datasette) (45.2.0)\n",
      "Requirement already satisfied: pip in /usr/local/lib/python3.8/dist-packages (from datasette) (25.0.1)\n",
      "Requirement already satisfied: datasette-leaflet>=0.2.2 in /usr/local/lib/python3.8/dist-packages (from datasette-cluster-map) (0.2.2)\n",
      "Requirement already satisfied: python-multipart in /usr/local/lib/python3.8/dist-packages (from asgi-csrf>=0.9->datasette) (0.0.20)\n",
      "Requirement already satisfied: typing-extensions>=4 in /usr/local/lib/python3.8/dist-packages (from asgiref>=3.2.10->datasette) (4.13.2)\n",
      "Requirement already satisfied: anyio in /usr/local/lib/python3.8/dist-packages (from httpx>=0.20->datasette) (3.7.1)\n",
      "Requirement already satisfied: certifi in /usr/local/lib/python3.8/dist-packages (from httpx>=0.20->datasette) (2025.4.26)\n",
      "Requirement already satisfied: httpcore==1.* in /usr/local/lib/python3.8/dist-packages (from httpx>=0.20->datasette) (1.0.9)\n",
      "Requirement already satisfied: idna in /usr/local/lib/python3.8/dist-packages (from httpx>=0.20->datasette) (3.10)\n",
      "Requirement already satisfied: h11>=0.16 in /usr/local/lib/python3.8/dist-packages (from httpcore==1.*->httpx>=0.20->datasette) (0.16.0)\n",
      "Requirement already satisfied: MarkupSafe>=2.0 in /usr/local/lib/python3.8/dist-packages (from Jinja2>=2.10.3->datasette) (2.1.5)\n",
      "Requirement already satisfied: sniffio>=1.1 in /usr/local/lib/python3.8/dist-packages (from anyio->httpx>=0.20->datasette) (1.3.1)\n",
      "Requirement already satisfied: exceptiongroup in /usr/local/lib/python3.8/dist-packages (from anyio->httpx>=0.20->datasette) (1.3.0)\n",
      "Downloading datasette_cluster_map-0.18.2-py3-none-any.whl (35 kB)\n",
      "Downloading datasette_json_html-1.0.1-py3-none-any.whl (9.8 kB)\n",
      "Installing collected packages: datasette-json-html, datasette-cluster-map\n",
      "Successfully installed datasette-cluster-map-0.18.2 datasette-json-html-1.0.1\n",
      "\u001b[33mWARNING: Running pip as the 'root' user can result in broken permissions and conflicting behaviour with the system package manager, possibly rendering your system unusable. It is recommended to use a virtual environment instead: https://pip.pypa.io/warnings/venv. Use the --root-user-action option if you know what you are doing and want to suppress this warning.\u001b[0m\u001b[33m\n",
      "\u001b[0m"
     ]
    }
   ],
   "source": [
    "!pip install datasette datasette-vega datasette-cluster-map datasette-json-html\n"
   ]
  },
  {
   "cell_type": "markdown",
   "id": "624269ab",
   "metadata": {},
   "source": [
    "## 2. Serving a SQLite Database\n",
    "\n",
    "Assuming you have `data/bitcoin_data.db` in your working directory:"
   ]
  },
  {
   "cell_type": "code",
   "execution_count": 2,
   "id": "359ec8d6",
   "metadata": {
    "vscode": {
     "languageId": "plaintext"
    }
   },
   "outputs": [
    {
     "name": "stdout",
     "output_type": "stream",
     "text": [
      "\u001b[32mINFO\u001b[0m:     Started server process [\u001b[36m75\u001b[0m]\n",
      "\u001b[32mINFO\u001b[0m:     Waiting for application startup.\n",
      "\u001b[32mINFO\u001b[0m:     Application startup complete.\n",
      "\u001b[32mINFO\u001b[0m:     Uvicorn running on \u001b[1mhttp://127.0.0.1:8002\u001b[0m (Press CTRL+C to quit)\n",
      "^C\n",
      "\u001b[32mINFO\u001b[0m:     Shutting down\n",
      "\u001b[32mINFO\u001b[0m:     Waiting for application shutdown.\n",
      "\u001b[32mINFO\u001b[0m:     Application shutdown complete.\n",
      "\u001b[32mINFO\u001b[0m:     Finished server process [\u001b[36m75\u001b[0m]\n"
     ]
    }
   ],
   "source": [
    "!datasette serve data/bitcoin_data.db --host 127.0.0.1 --port 8002 --metadata metadata.json\n"
   ]
  },
  {
   "cell_type": "markdown",
   "id": "2189e96e",
   "metadata": {},
   "source": [
    "## 3. Exploring the Web UI & JSON API\n",
    "\n",
    "- Navigate to http://127.0.0.1:8002 in your browser\n",
    "- Click tables to browse records\n",
    "- Append `.json` to any URL to get JSON (e.g., `/bitcoin_data/bitcoin_prices.json`)."
   ]
  },
  {
   "cell_type": "markdown",
   "id": "264d417c",
   "metadata": {},
   "source": [
    "## 4. Metadata Customization\n",
    "\n",
    "Use a `metadata.json` to define:\n",
    "- **Queries**: canned SQL snippets\n",
    "- **Dashboards**: prebuilt charts\n",
    "- **Custom CSS**\n",
    "\n",
    "Example snippet:\n",
    "```json\n",
    "\"queries\": { \"recent\": { \"sql\": \"SELECT * FROM bitcoin_prices LIMIT 10\", \"title\": \"Recent\" } }\n",
    "```"
   ]
  },
  {
   "cell_type": "markdown",
   "id": "51d1afdb",
   "metadata": {},
   "source": [
    "## 5. Vega‑Lite Charts\n",
    "\n",
    "With `datasette-vega`, you can define charts in metadata queries:"
   ]
  },
  {
   "cell_type": "markdown",
   "id": "062d2f53",
   "metadata": {},
   "source": [
    "Add to metadata.json\n",
    "\n",
    "yq -i '.databases.bitcoin_data.queries.recent_prices.display = {chart: \"line\", x: \"timestamp\", y: \"price\"}' metadata.json\n"
   ]
  },
  {
   "cell_type": "markdown",
   "id": "0a952389",
   "metadata": {},
   "source": [
    "## 6. Cluster Maps\n",
    "\n",
    "`datasette-cluster-map` lets you visualize geo-coordinates on a map. Define a query that returns `latitude` and `longitude`. Example:\n",
    "```json\n",
    "\"queries\": { \"locations\": { \"sql\": \"SELECT lat, lon FROM my_table\", \"title\": \"Map View\" } }\n",
    "```"
   ]
  },
  {
   "cell_type": "markdown",
   "id": "551d0ef1",
   "metadata": {},
   "source": [
    "## 7. Pretty‑printed JSON\n",
    "\n",
    "`datasette-json-html` will render JSON in a more human‑friendly way in the browser. No extra config needed once installed."
   ]
  },
  {
   "cell_type": "markdown",
   "id": "cb40a457",
   "metadata": {},
   "source": [
    "## 8. Next Steps & Further Reading\n",
    "\n",
    "- [Datasette Documentation](https://docs.datasette.io)\n",
    "- Writing custom plugins\n",
    "- Deploying with Docker or Vercel\n",
    "- Using Datasette Cloud"
   ]
  },
  {
   "cell_type": "markdown",
   "id": "9ab370b4",
   "metadata": {},
   "source": [
    "\n",
    "## Exploring the CoinGecko API\n",
    "#\n",
    "In this section we’ll walk through some of the key features of the CoinGecko API:\n",
    "1. **No API Key Required** — It’s completely open and free for most use-cases.  \n",
    "2. **Wide Coin Coverage** — Access data on thousands of cryptocurrencies.  \n",
    "3. **Realtime Prices & Market Data** — Get current prices, market caps, trading volumes.  \n",
    "4. **Historical Data** — Fetch past market charts (e.g. 30-day price history).  \n",
    "5. **Global Metrics** — Retrieve aggregated crypto market statistics.  \n"
   ]
  },
  {
   "cell_type": "code",
   "execution_count": 4,
   "id": "4c05308f",
   "metadata": {
    "vscode": {
     "languageId": "plaintext"
    }
   },
   "outputs": [],
   "source": [
    "\n",
    "### 1. Installation & Setup\n",
    "#\n",
    "# We’ll use the `requests` library to call the REST API.\n",
    "# You can install it via pip if you haven’t already:\n",
    "#\n",
    "# ```bash\n",
    "# pip install requests\n",
    "# ```\n",
    "# %%\n",
    "import requests\n",
    "\n",
    "# Base URL for CoinGecko REST API\n",
    "BASE_URL = \"https://api.coingecko.com/api/v3\"\n"
   ]
  },
  {
   "cell_type": "markdown",
   "id": "bb3a4db1",
   "metadata": {},
   "source": [
    "\n",
    "### 2. List Supported Coins\n",
    "#\n",
    "Retrieve a list of all coins that CoinGecko tracks. This lets us find the `id` we need for subsequent calls.\n"
   ]
  },
  {
   "cell_type": "code",
   "execution_count": 5,
   "id": "ed646fec",
   "metadata": {
    "vscode": {
     "languageId": "plaintext"
    }
   },
   "outputs": [
    {
     "data": {
      "text/plain": [
       "[{'id': '_', 'symbol': 'gib', 'name': '༼ つ ◕_◕ ༽つ'},\n",
       " {'id': '000-capital', 'symbol': '000', 'name': '000 Capital'},\n",
       " {'id': '01coin', 'symbol': 'zoc', 'name': '01coin'},\n",
       " {'id': '0chain', 'symbol': 'zcn', 'name': 'Zus'},\n",
       " {'id': '0dog', 'symbol': '0dog', 'name': 'Bitcoin Dogs'}]"
      ]
     },
     "execution_count": 5,
     "metadata": {},
     "output_type": "execute_result"
    }
   ],
   "source": [
    "# %%\n",
    "resp = requests.get(f\"{BASE_URL}/coins/list\")\n",
    "coins = resp.json()\n",
    "\n",
    "# Show the first 5 coins\n",
    "coins[:5]"
   ]
  },
  {
   "cell_type": "markdown",
   "id": "fca96393",
   "metadata": {},
   "source": [
    "\n",
    "### 3. Fetch Current Price\n",
    "#\n",
    "Use a coin’s `id` (e.g. `\"bitcoin\"`) to get its current price in multiple currencies.\n"
   ]
  },
  {
   "cell_type": "code",
   "execution_count": 6,
   "id": "21986f20",
   "metadata": {
    "vscode": {
     "languageId": "plaintext"
    }
   },
   "outputs": [
    {
     "data": {
      "text/plain": [
       "{'bitcoin': {'usd': 103012,\n",
       "  'usd_market_cap': 2046164579173.4417,\n",
       "  'usd_24h_vol': 23427286705.609165,\n",
       "  'eur': 92288,\n",
       "  'eur_market_cap': 1833140431000.275,\n",
       "  'eur_24h_vol': 20988295313.974895,\n",
       "  'gbp': 77552,\n",
       "  'gbp_market_cap': 1540438634114.093,\n",
       "  'gbp_24h_vol': 17637045378.024216},\n",
       " 'ethereum': {'usd': 2484.47,\n",
       "  'usd_market_cap': 299817434112.9891,\n",
       "  'usd_24h_vol': 18341515911.402756,\n",
       "  'eur': 2225.81,\n",
       "  'eur_market_cap': 268603740864.91992,\n",
       "  'eur_24h_vol': 16431999031.382523,\n",
       "  'gbp': 1870.41,\n",
       "  'gbp_market_cap': 225715156732.4909,\n",
       "  'gbp_24h_vol': 13808263521.772272}}"
      ]
     },
     "execution_count": 6,
     "metadata": {},
     "output_type": "execute_result"
    }
   ],
   "source": [
    "# %%\n",
    "params = {\n",
    "    \"ids\": \"bitcoin,ethereum\",\n",
    "    \"vs_currencies\": \"usd,eur,gbp\",\n",
    "    \"include_market_cap\": \"true\",\n",
    "    \"include_24hr_vol\": \"true\",\n",
    "}\n",
    "resp = requests.get(f\"{BASE_URL}/simple/price\", params=params)\n",
    "resp.json()\n"
   ]
  },
  {
   "cell_type": "markdown",
   "id": "55d83a8a",
   "metadata": {},
   "source": [
    "\n",
    "### 4. Historical Market Chart\n",
    "#\n",
    "Retrieve the last 30 days of price data for Bitcoin. Response includes timestamps and price points suitable for plotting.\n"
   ]
  },
  {
   "cell_type": "code",
   "execution_count": 7,
   "id": "65742817",
   "metadata": {
    "vscode": {
     "languageId": "plaintext"
    }
   },
   "outputs": [
    {
     "data": {
      "text/html": [
       "<div>\n",
       "<style scoped>\n",
       "    .dataframe tbody tr th:only-of-type {\n",
       "        vertical-align: middle;\n",
       "    }\n",
       "\n",
       "    .dataframe tbody tr th {\n",
       "        vertical-align: top;\n",
       "    }\n",
       "\n",
       "    .dataframe thead th {\n",
       "        text-align: right;\n",
       "    }\n",
       "</style>\n",
       "<table border=\"1\" class=\"dataframe\">\n",
       "  <thead>\n",
       "    <tr style=\"text-align: right;\">\n",
       "      <th></th>\n",
       "      <th>price</th>\n",
       "    </tr>\n",
       "    <tr>\n",
       "      <th>timestamp</th>\n",
       "      <th></th>\n",
       "    </tr>\n",
       "  </thead>\n",
       "  <tbody>\n",
       "    <tr>\n",
       "      <th>2025-04-18</th>\n",
       "      <td>84930.908576</td>\n",
       "    </tr>\n",
       "    <tr>\n",
       "      <th>2025-04-19</th>\n",
       "      <td>84433.750172</td>\n",
       "    </tr>\n",
       "    <tr>\n",
       "      <th>2025-04-20</th>\n",
       "      <td>85126.662443</td>\n",
       "    </tr>\n",
       "    <tr>\n",
       "      <th>2025-04-21</th>\n",
       "      <td>85073.165449</td>\n",
       "    </tr>\n",
       "    <tr>\n",
       "      <th>2025-04-22</th>\n",
       "      <td>87452.046991</td>\n",
       "    </tr>\n",
       "  </tbody>\n",
       "</table>\n",
       "</div>"
      ],
      "text/plain": [
       "                   price\n",
       "timestamp               \n",
       "2025-04-18  84930.908576\n",
       "2025-04-19  84433.750172\n",
       "2025-04-20  85126.662443\n",
       "2025-04-21  85073.165449\n",
       "2025-04-22  87452.046991"
      ]
     },
     "execution_count": 7,
     "metadata": {},
     "output_type": "execute_result"
    }
   ],
   "source": [
    "\n",
    "params = {\n",
    "    \"vs_currency\": \"usd\",\n",
    "    \"days\": \"30\",\n",
    "    \"interval\": \"daily\"\n",
    "}\n",
    "resp = requests.get(f\"{BASE_URL}/coins/bitcoin/market_chart\", params=params)\n",
    "chart_data = resp.json()[\"prices\"]\n",
    "\n",
    "# Convert to DataFrame for convenience\n",
    "import pandas as pd\n",
    "df = pd.DataFrame(chart_data, columns=[\"timestamp\", \"price\"])\n",
    "df[\"timestamp\"] = pd.to_datetime(df[\"timestamp\"], unit=\"ms\")\n",
    "df.set_index(\"timestamp\", inplace=True)\n",
    "df.head()\n"
   ]
  },
  {
   "cell_type": "markdown",
   "id": "e2de0c45",
   "metadata": {},
   "source": [
    "\n",
    "### Plotting the 30-Day Price History\n",
    "#\n",
    "Let’s visualize Bitcoin’s daily closing price over the last month.\n"
   ]
  },
  {
   "cell_type": "code",
   "execution_count": 8,
   "id": "9fc9fbd5",
   "metadata": {
    "vscode": {
     "languageId": "plaintext"
    }
   },
   "outputs": [
    {
     "data": {
      "image/png": "[encoded data removed]",
      "text/plain": [
       "<Figure size 640x480 with 1 Axes>"
      ]
     },
     "metadata": {},
     "output_type": "display_data"
    }
   ],
   "source": [
    "# %%\n",
    "import matplotlib.pyplot as plt\n",
    "\n",
    "df[\"price\"].plot(title=\"Bitcoin 30-Day Price History\", ylabel=\"Price (USD)\")\n",
    "plt.show()\n"
   ]
  },
  {
   "cell_type": "markdown",
   "id": "c1aec1df",
   "metadata": {},
   "source": [
    "### 5. Global Crypto Market Data\n",
    "#\n",
    "Fetch overall market statistics, such as total market cap and 24h trading volume.\n"
   ]
  },
  {
   "cell_type": "code",
   "execution_count": 9,
   "id": "95915ba7",
   "metadata": {
    "vscode": {
     "languageId": "plaintext"
    }
   },
   "outputs": [
    {
     "data": {
      "text/plain": [
       "active_cryptocurrencies                                                17066\n",
       "upcoming_icos                                                              0\n",
       "total_market_cap           {'btc': 32900048.75150984, 'eth': 1365346947.7...\n",
       "total_volume               {'btc': 938965.8600696438, 'eth': 38966938.340...\n",
       "market_cap_percentage      {'btc': 60.38073119599359, 'eth': 8.8399399517...\n",
       "dtype: object"
      ]
     },
     "execution_count": 9,
     "metadata": {},
     "output_type": "execute_result"
    }
   ],
   "source": [
    "# %%\n",
    "resp = requests.get(f\"{BASE_URL}/global\")\n",
    "global_stats = resp.json()[\"data\"]\n",
    "pd.Series(global_stats).loc[[\n",
    "    \"active_cryptocurrencies\",\n",
    "    \"upcoming_icos\",\n",
    "    \"total_market_cap\",\n",
    "    \"total_volume\",\n",
    "    \"market_cap_percentage\"\n",
    "]]\n"
   ]
  },
  {
   "cell_type": "markdown",
   "id": "f310f61e",
   "metadata": {},
   "source": [
    "\n",
    "### Next Steps\n",
    " - Experiment with other endpoints (e.g. `/coins/{id}/ohlc`, `/exchanges`, `/derivatives`).  \n",
    " - Combine live data pulls with your SQLite database ingestion.  \n",
    " - Incorporate these calls into `bitcoin_utils.py` so the notebook can update your dataset seamlessly.\n"
   ]
  },
  {
   "cell_type": "code",
   "execution_count": null,
   "id": "f88a70e1",
   "metadata": {
    "vscode": {
     "languageId": "plaintext"
    }
   },
   "outputs": [],
   "source": [
    "# Bitcoin.API.ipynb\n",
    "\n",
    "# 📘 Section 1: Import Required Libraries\n",
    "from bitcoin_utils import (\n",
    "    fetch_historical_bitcoin_prices,\n",
    "    fetch_current_price,\n",
    "    save_to_sqlite,\n",
    "    init_db\n",
    ")\n",
    "import pandas as pd\n",
    "import sqlite3\n"
   ]
  },
  {
   "cell_type": "code",
   "execution_count": null,
   "id": "cb4d5dd2",
   "metadata": {
    "vscode": {
     "languageId": "plaintext"
    }
   },
   "outputs": [
    {
     "name": "stdout",
     "output_type": "stream",
     "text": [
      "Database initialized.\n"
     ]
    }
   ],
   "source": [
    "# 📘 Section 2: Initialize SQLite Database\n",
    "\n",
    "# Create the database and ensure the bitcoin_prices table exists\n",
    "init_db()\n",
    "print(\"Database initialized.\")\n"
   ]
  },
  {
   "cell_type": "code",
   "execution_count": 3,
   "id": "886da61b",
   "metadata": {
    "vscode": {
     "languageId": "plaintext"
    }
   },
   "outputs": [
    {
     "data": {
      "text/html": [
       "<div>\n",
       "<style scoped>\n",
       "    .dataframe tbody tr th:only-of-type {\n",
       "        vertical-align: middle;\n",
       "    }\n",
       "\n",
       "    .dataframe tbody tr th {\n",
       "        vertical-align: top;\n",
       "    }\n",
       "\n",
       "    .dataframe thead th {\n",
       "        text-align: right;\n",
       "    }\n",
       "</style>\n",
       "<table border=\"1\" class=\"dataframe\">\n",
       "  <thead>\n",
       "    <tr style=\"text-align: right;\">\n",
       "      <th></th>\n",
       "      <th>timestamp</th>\n",
       "      <th>price</th>\n",
       "    </tr>\n",
       "  </thead>\n",
       "  <tbody>\n",
       "    <tr>\n",
       "      <th>0</th>\n",
       "      <td>2024-05-12</td>\n",
       "      <td>60776.972079</td>\n",
       "    </tr>\n",
       "    <tr>\n",
       "      <th>1</th>\n",
       "      <td>2024-05-13</td>\n",
       "      <td>61507.054004</td>\n",
       "    </tr>\n",
       "    <tr>\n",
       "      <th>2</th>\n",
       "      <td>2024-05-14</td>\n",
       "      <td>62878.783301</td>\n",
       "    </tr>\n",
       "    <tr>\n",
       "      <th>3</th>\n",
       "      <td>2024-05-15</td>\n",
       "      <td>61569.113006</td>\n",
       "    </tr>\n",
       "    <tr>\n",
       "      <th>4</th>\n",
       "      <td>2024-05-16</td>\n",
       "      <td>66220.518314</td>\n",
       "    </tr>\n",
       "  </tbody>\n",
       "</table>\n",
       "</div>"
      ],
      "text/plain": [
       "   timestamp         price\n",
       "0 2024-05-12  60776.972079\n",
       "1 2024-05-13  61507.054004\n",
       "2 2024-05-14  62878.783301\n",
       "3 2024-05-15  61569.113006\n",
       "4 2024-05-16  66220.518314"
      ]
     },
     "execution_count": 3,
     "metadata": {},
     "output_type": "execute_result"
    }
   ],
   "source": [
    "# 📘 Section 3: Fetch Historical Bitcoin Prices\n",
    "\n",
    "# Get the last 365 days of Bitcoin daily prices\n",
    "historical_df = fetch_historical_bitcoin_prices(days=365, interval=\"daily\")\n",
    "historical_df.head()\n"
   ]
  },
  {
   "cell_type": "code",
   "execution_count": 4,
   "id": "9c7ce4e4",
   "metadata": {
    "vscode": {
     "languageId": "plaintext"
    }
   },
   "outputs": [
    {
     "name": "stdout",
     "output_type": "stream",
     "text": [
      "Historical data saved.\n"
     ]
    }
   ],
   "source": [
    "# 📘 Section 4: Save Historical Data to SQLite\n",
    "\n",
    "save_to_sqlite(historical_df, db_file=\"data/bitcoin_data.db\")\n",
    "print(\"Historical data saved.\")\n"
   ]
  },
  {
   "cell_type": "code",
   "execution_count": 5,
   "id": "06a841c8",
   "metadata": {
    "vscode": {
     "languageId": "plaintext"
    }
   },
   "outputs": [
    {
     "data": {
      "text/html": [
       "<div>\n",
       "<style scoped>\n",
       "    .dataframe tbody tr th:only-of-type {\n",
       "        vertical-align: middle;\n",
       "    }\n",
       "\n",
       "    .dataframe tbody tr th {\n",
       "        vertical-align: top;\n",
       "    }\n",
       "\n",
       "    .dataframe thead th {\n",
       "        text-align: right;\n",
       "    }\n",
       "</style>\n",
       "<table border=\"1\" class=\"dataframe\">\n",
       "  <thead>\n",
       "    <tr style=\"text-align: right;\">\n",
       "      <th></th>\n",
       "      <th>timestamp</th>\n",
       "      <th>price</th>\n",
       "    </tr>\n",
       "  </thead>\n",
       "  <tbody>\n",
       "    <tr>\n",
       "      <th>0</th>\n",
       "      <td>2025-05-11 21:57:20.613604+00:00</td>\n",
       "      <td>104238</td>\n",
       "    </tr>\n",
       "  </tbody>\n",
       "</table>\n",
       "</div>"
      ],
      "text/plain": [
       "                         timestamp   price\n",
       "0 2025-05-11 21:57:20.613604+00:00  104238"
      ]
     },
     "execution_count": 5,
     "metadata": {},
     "output_type": "execute_result"
    }
   ],
   "source": [
    "# 📘 Section 5: Fetch Real-Time Bitcoin Price\n",
    "\n",
    "# This returns the current price with a UTC timestamp\n",
    "current_df = fetch_current_price()\n",
    "current_df\n"
   ]
  },
  {
   "cell_type": "code",
   "execution_count": 6,
   "id": "d8f564e0",
   "metadata": {
    "vscode": {
     "languageId": "plaintext"
    }
   },
   "outputs": [
    {
     "name": "stdout",
     "output_type": "stream",
     "text": [
      "Current price saved.\n"
     ]
    }
   ],
   "source": [
    "# 📘 Section 6: Save Real-Time Price to SQLite\n",
    "\n",
    "save_to_sqlite(current_df, db_file=\"data/bitcoin_data.db\")\n",
    "print(\"Current price saved.\")\n"
   ]
  },
  {
   "cell_type": "code",
   "execution_count": 7,
   "id": "6dd0dfe8",
   "metadata": {
    "vscode": {
     "languageId": "plaintext"
    }
   },
   "outputs": [
    {
     "data": {
      "text/html": [
       "<div>\n",
       "<style scoped>\n",
       "    .dataframe tbody tr th:only-of-type {\n",
       "        vertical-align: middle;\n",
       "    }\n",
       "\n",
       "    .dataframe tbody tr th {\n",
       "        vertical-align: top;\n",
       "    }\n",
       "\n",
       "    .dataframe thead th {\n",
       "        text-align: right;\n",
       "    }\n",
       "</style>\n",
       "<table border=\"1\" class=\"dataframe\">\n",
       "  <thead>\n",
       "    <tr style=\"text-align: right;\">\n",
       "      <th></th>\n",
       "      <th>id</th>\n",
       "      <th>timestamp</th>\n",
       "      <th>price</th>\n",
       "    </tr>\n",
       "  </thead>\n",
       "  <tbody>\n",
       "    <tr>\n",
       "      <th>0</th>\n",
       "      <td>733</td>\n",
       "      <td>2025-05-11 21:57:20.613604+00:00</td>\n",
       "      <td>104238.000000</td>\n",
       "    </tr>\n",
       "    <tr>\n",
       "      <th>1</th>\n",
       "      <td>732</td>\n",
       "      <td>2025-05-11 21:54:25</td>\n",
       "      <td>104199.093282</td>\n",
       "    </tr>\n",
       "    <tr>\n",
       "      <th>2</th>\n",
       "      <td>731</td>\n",
       "      <td>2025-05-11 00:00:00</td>\n",
       "      <td>104630.879299</td>\n",
       "    </tr>\n",
       "    <tr>\n",
       "      <th>3</th>\n",
       "      <td>730</td>\n",
       "      <td>2025-05-10 00:00:00</td>\n",
       "      <td>102962.540457</td>\n",
       "    </tr>\n",
       "    <tr>\n",
       "      <th>4</th>\n",
       "      <td>729</td>\n",
       "      <td>2025-05-09 00:00:00</td>\n",
       "      <td>103076.275555</td>\n",
       "    </tr>\n",
       "  </tbody>\n",
       "</table>\n",
       "</div>"
      ],
      "text/plain": [
       "    id                         timestamp          price\n",
       "0  733  2025-05-11 21:57:20.613604+00:00  104238.000000\n",
       "1  732               2025-05-11 21:54:25  104199.093282\n",
       "2  731               2025-05-11 00:00:00  104630.879299\n",
       "3  730               2025-05-10 00:00:00  102962.540457\n",
       "4  729               2025-05-09 00:00:00  103076.275555"
      ]
     },
     "execution_count": 7,
     "metadata": {},
     "output_type": "execute_result"
    }
   ],
   "source": [
    "# 📘 Section 7: Verify Data Was Saved\n",
    "\n",
    "# Connect to the database and query latest rows\n",
    "conn = sqlite3.connect(\"data/bitcoin_data.db\")\n",
    "query_df = pd.read_sql_query(\"SELECT * FROM bitcoin_prices ORDER BY timestamp DESC LIMIT 5\", conn)\n",
    "conn.close()\n",
    "query_df\n"
   ]
  },
  {
   "cell_type": "code",
   "execution_count": null,
   "id": "ef2b2402",
   "metadata": {},
   "outputs": [],
   "source": []
  }
 ],
 "metadata": {
  "kernelspec": {
   "display_name": "Python 3 (ipykernel)",
   "language": "python",
   "name": "python3"
  },
  "language_info": {
   "codemirror_mode": {
    "name": "ipython",
    "version": 3
   },
   "file_extension": ".py",
   "mimetype": "text/x-python",
   "name": "python",
   "nbconvert_exporter": "python",
   "pygments_lexer": "ipython3",
   "version": "3.8.10"
  }
 },
 "nbformat": 4,
 "nbformat_minor": 5
}
