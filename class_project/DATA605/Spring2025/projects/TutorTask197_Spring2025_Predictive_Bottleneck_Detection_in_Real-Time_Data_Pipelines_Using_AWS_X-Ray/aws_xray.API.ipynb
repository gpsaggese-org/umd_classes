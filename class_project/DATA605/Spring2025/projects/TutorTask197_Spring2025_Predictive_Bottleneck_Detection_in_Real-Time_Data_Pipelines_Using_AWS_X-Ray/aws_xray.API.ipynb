{
 "cells": [
  {
   "cell_type": "markdown",
   "id": "d5948b47",
   "metadata": {},
   "source": [
    "# AWS X-Ray API Demo"
   ]
  },
  {
   "cell_type": "markdown",
   "id": "86633e75",
   "metadata": {},
   "source": [
    "#### 1. Import your fetch function"
   ]
  },
  {
   "cell_type": "code",
   "execution_count": 1,
   "id": "b7019052",
   "metadata": {},
   "outputs": [],
   "source": [
    "from utils.fetch_xray_trace_data import fetch_today_trace_data"
   ]
  },
  {
   "cell_type": "markdown",
   "id": "4b070173",
   "metadata": {},
   "source": [
    "#### 2. Fetch traces from AWS X-Ray"
   ]
  },
  {
   "cell_type": "code",
   "execution_count": 2,
   "id": "2806097e",
   "metadata": {},
   "outputs": [
    {
     "name": "stdout",
     "output_type": "stream",
     "text": [
      "✅ Fetched 813 traces\n"
     ]
    }
   ],
   "source": [
    "df = fetch_today_trace_data()\n",
    "print(f\"✅ Fetched {len(df)} traces\")"
   ]
  },
  {
   "cell_type": "markdown",
   "id": "f7a27702",
   "metadata": {},
   "source": [
    "#### 3. Inspect sample"
   ]
  },
  {
   "cell_type": "code",
   "execution_count": 3,
   "id": "cf173dbb",
   "metadata": {},
   "outputs": [
    {
     "data": {
      "text/html": [
       "<div>\n",
       "<style scoped>\n",
       "    .dataframe tbody tr th:only-of-type {\n",
       "        vertical-align: middle;\n",
       "    }\n",
       "\n",
       "    .dataframe tbody tr th {\n",
       "        vertical-align: top;\n",
       "    }\n",
       "\n",
       "    .dataframe thead th {\n",
       "        text-align: right;\n",
       "    }\n",
       "</style>\n",
       "<table border=\"1\" class=\"dataframe\">\n",
       "  <thead>\n",
       "    <tr style=\"text-align: right;\">\n",
       "      <th></th>\n",
       "      <th>trace_id</th>\n",
       "      <th>timestamp</th>\n",
       "      <th>flag</th>\n",
       "      <th>price_usd</th>\n",
       "      <th>processing_time_ms</th>\n",
       "      <th>shard_id</th>\n",
       "      <th>error</th>\n",
       "      <th>hour_str</th>\n",
       "      <th>data_volume_bytes</th>\n",
       "    </tr>\n",
       "  </thead>\n",
       "  <tbody>\n",
       "    <tr>\n",
       "      <th>767</th>\n",
       "      <td>1-68280efe-ed264b3bf757bcfbb0278cec</td>\n",
       "      <td>2025-05-17 04:22:24.103085</td>\n",
       "      <td>⚠️ High Price</td>\n",
       "      <td>90644.95</td>\n",
       "      <td>464.99</td>\n",
       "      <td>bitcoin</td>\n",
       "      <td>False</td>\n",
       "      <td>2024-11-18 06:00:00</td>\n",
       "      <td>157.0</td>\n",
       "    </tr>\n",
       "    <tr>\n",
       "      <th>575</th>\n",
       "      <td>1-68283105-835fcc1f476ff1f977ec0f51</td>\n",
       "      <td>2025-05-17 06:47:34.327014</td>\n",
       "      <td>⚠️ High Price</td>\n",
       "      <td>91746.11</td>\n",
       "      <td>400.46</td>\n",
       "      <td>bitcoin</td>\n",
       "      <td>False</td>\n",
       "      <td>2024-11-18 08:00:00</td>\n",
       "      <td>158.0</td>\n",
       "    </tr>\n",
       "    <tr>\n",
       "      <th>460</th>\n",
       "      <td>1-6828333d-3310cfaa21b3a2227d13a4a6</td>\n",
       "      <td>2025-05-17 06:57:01.706086</td>\n",
       "      <td>⚠️ High Price</td>\n",
       "      <td>91919.59</td>\n",
       "      <td>59.97</td>\n",
       "      <td>bitcoin</td>\n",
       "      <td>False</td>\n",
       "      <td>2024-11-18 10:00:00</td>\n",
       "      <td>158.0</td>\n",
       "    </tr>\n",
       "    <tr>\n",
       "      <th>475</th>\n",
       "      <td>1-68283109-bdea8fbe64d5341be55223b6</td>\n",
       "      <td>2025-05-17 06:47:37.343733</td>\n",
       "      <td>⚠️ High Price</td>\n",
       "      <td>90755.98</td>\n",
       "      <td>69.91</td>\n",
       "      <td>bitcoin</td>\n",
       "      <td>False</td>\n",
       "      <td>2024-11-18 20:00:00</td>\n",
       "      <td>158.0</td>\n",
       "    </tr>\n",
       "    <tr>\n",
       "      <th>253</th>\n",
       "      <td>1-68290533-0141a4264d3ca3dc26dadb0d</td>\n",
       "      <td>2025-05-17 21:52:52.908798</td>\n",
       "      <td>⚠️ High Price</td>\n",
       "      <td>91350.10</td>\n",
       "      <td>469.11</td>\n",
       "      <td>bitcoin</td>\n",
       "      <td>False</td>\n",
       "      <td>2024-11-18 22:00:00</td>\n",
       "      <td>158.0</td>\n",
       "    </tr>\n",
       "  </tbody>\n",
       "</table>\n",
       "</div>"
      ],
      "text/plain": [
       "                                trace_id                  timestamp  \\\n",
       "767  1-68280efe-ed264b3bf757bcfbb0278cec 2025-05-17 04:22:24.103085   \n",
       "575  1-68283105-835fcc1f476ff1f977ec0f51 2025-05-17 06:47:34.327014   \n",
       "460  1-6828333d-3310cfaa21b3a2227d13a4a6 2025-05-17 06:57:01.706086   \n",
       "475  1-68283109-bdea8fbe64d5341be55223b6 2025-05-17 06:47:37.343733   \n",
       "253  1-68290533-0141a4264d3ca3dc26dadb0d 2025-05-17 21:52:52.908798   \n",
       "\n",
       "              flag  price_usd  processing_time_ms shard_id  error  \\\n",
       "767  ⚠️ High Price   90644.95              464.99  bitcoin  False   \n",
       "575  ⚠️ High Price   91746.11              400.46  bitcoin  False   \n",
       "460  ⚠️ High Price   91919.59               59.97  bitcoin  False   \n",
       "475  ⚠️ High Price   90755.98               69.91  bitcoin  False   \n",
       "253  ⚠️ High Price   91350.10              469.11  bitcoin  False   \n",
       "\n",
       "               hour_str  data_volume_bytes  \n",
       "767 2024-11-18 06:00:00              157.0  \n",
       "575 2024-11-18 08:00:00              158.0  \n",
       "460 2024-11-18 10:00:00              158.0  \n",
       "475 2024-11-18 20:00:00              158.0  \n",
       "253 2024-11-18 22:00:00              158.0  "
      ]
     },
     "execution_count": 3,
     "metadata": {},
     "output_type": "execute_result"
    }
   ],
   "source": [
    "df.head()"
   ]
  },
  {
   "cell_type": "markdown",
   "id": "455edf41",
   "metadata": {},
   "source": [
    "#### 4. Group by flags or error rates (example use)"
   ]
  },
  {
   "cell_type": "code",
   "execution_count": 4,
   "id": "2dd023cc",
   "metadata": {},
   "outputs": [
    {
     "data": {
      "text/plain": [
       "flag\n",
       "⚠️ High Price             645\n",
       "🚨 Extremely High Price    168\n",
       "Name: count, dtype: int64"
      ]
     },
     "execution_count": 4,
     "metadata": {},
     "output_type": "execute_result"
    }
   ],
   "source": [
    "df[\"flag\"].value_counts()\n"
   ]
  },
  {
   "cell_type": "code",
   "execution_count": 5,
   "id": "179567ad",
   "metadata": {},
   "outputs": [
    {
     "data": {
      "text/plain": [
       "<Axes: xlabel='hour_str'>"
      ]
     },
     "execution_count": 5,
     "metadata": {},
     "output_type": "execute_result"
    },
    {
     "data": {
      "image/png": "[encoded data removed]",
      "text/plain": [
       "<Figure size 640x480 with 1 Axes>"
      ]
     },
     "metadata": {},
     "output_type": "display_data"
    }
   ],
   "source": [
    "df.groupby(\"hour_str\")[\"processing_time_ms\"].mean().plot()"
   ]
  }
 ],
 "metadata": {
  "kernelspec": {
   "display_name": ".venv",
   "language": "python",
   "name": "python3"
  },
  "language_info": {
   "codemirror_mode": {
    "name": "ipython",
    "version": 3
   },
   "file_extension": ".py",
   "mimetype": "text/x-python",
   "name": "python",
   "nbconvert_exporter": "python",
   "pygments_lexer": "ipython3",
   "version": "3.9.6"
  }
 },
 "nbformat": 4,
 "nbformat_minor": 5
}
