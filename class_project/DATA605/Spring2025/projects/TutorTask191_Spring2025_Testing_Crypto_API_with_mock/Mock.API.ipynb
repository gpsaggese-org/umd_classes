{
 "cells": [
  {
   "cell_type": "code",
   "execution_count": 4,
   "id": "436ef206-ee72-4b13-849b-bbf462696c2f",
   "metadata": {},
   "outputs": [],
   "source": [
    "from DoWhy_API import get_bitcoin_price, check_threshold, send_alert, fetch_and_alert\n"
   ]
  },
  {
   "cell_type": "code",
   "execution_count": 6,
   "id": "e73abffd-d614-4749-8e1a-c6e009370021",
   "metadata": {},
   "outputs": [
    {
     "name": "stdout",
     "output_type": "stream",
     "text": [
      "Current BTC Price (USD): 103167\n"
     ]
    }
   ],
   "source": [
    "price = get_bitcoin_price()\n",
    "print(\"Current BTC Price (USD):\", price)"
   ]
  },
  {
   "cell_type": "code",
   "execution_count": 10,
   "id": "6938a73d-7b54-40ea-9110-334e22f2c3ff",
   "metadata": {},
   "outputs": [
    {
     "name": "stdout",
     "output_type": "stream",
     "text": [
      "True\n",
      "[ALERT] 🚨 BTC is above 80000\n"
     ]
    }
   ],
   "source": [
    "print(check_threshold(price, threshold=80000, direction=\"above\"))\n",
    "send_alert(\"BTC is above 80000\")"
   ]
  },
  {
   "cell_type": "code",
   "execution_count": 12,
   "id": "5bb87302-ada9-4aa6-af06-36601797b84e",
   "metadata": {},
   "outputs": [
    {
     "name": "stdout",
     "output_type": "stream",
     "text": [
      "[ALERT] 🚨 Bitcoin price is above $80000!\n"
     ]
    },
    {
     "data": {
      "text/plain": [
       "103167"
      ]
     },
     "execution_count": 12,
     "metadata": {},
     "output_type": "execute_result"
    }
   ],
   "source": [
    "fetch_and_alert(\"https://api.coingecko.com/api/v3/simple/price?ids=bitcoin&vs_currencies=usd\",\n",
    "                threshold=80000,\n",
    "                direction=\"above\")"
   ]
  },
  {
   "cell_type": "code",
   "execution_count": null,
   "id": "b12bc629-5ac6-448e-8b7e-84181d343d38",
   "metadata": {},
   "outputs": [],
   "source": []
  }
 ],
 "metadata": {
  "kernelspec": {
   "display_name": "Python 3 (ipykernel)",
   "language": "python",
   "name": "python3"
  },
  "language_info": {
   "codemirror_mode": {
    "name": "ipython",
    "version": 3
   },
   "file_extension": ".py",
   "mimetype": "text/x-python",
   "name": "python",
   "nbconvert_exporter": "python",
   "pygments_lexer": "ipython3",
   "version": "3.12.7"
  }
 },
 "nbformat": 4,
 "nbformat_minor": 5
}
