{
 "cells": [
  {
   "cell_type": "code",
   "execution_count": 4,
   "id": "0dcd73bf-0381-4994-8bbd-1a3a846c2b41",
   "metadata": {},
   "outputs": [
    {
     "name": "stdout",
     "output_type": "stream",
     "text": [
      "[ALERT] 🚨 Bitcoin price is below $128000!\n",
      "BTC fetched price: 103194\n"
     ]
    }
   ],
   "source": [
    "from DoWhy_API import fetch_and_alert\n",
    "\n",
    "price = fetch_and_alert(\"https://api.coingecko.com/api/v3/simple/price?ids=bitcoin&vs_currencies=usd\",\n",
    "                        threshold=128000,\n",
    "                        direction=\"below\")\n",
    "print(f\"BTC fetched price: {price}\")\n"
   ]
  },
  {
   "cell_type": "code",
   "execution_count": null,
   "id": "1fb6619d-b0cc-488b-95e0-68334451f10d",
   "metadata": {},
   "outputs": [],
   "source": []
  }
 ],
 "metadata": {
  "kernelspec": {
   "display_name": "Python 3 (ipykernel)",
   "language": "python",
   "name": "python3"
  },
  "language_info": {
   "codemirror_mode": {
    "name": "ipython",
    "version": 3
   },
   "file_extension": ".py",
   "mimetype": "text/x-python",
   "name": "python",
   "nbconvert_exporter": "python",
   "pygments_lexer": "ipython3",
   "version": "3.12.7"
  }
 },
 "nbformat": 4,
 "nbformat_minor": 5
}
