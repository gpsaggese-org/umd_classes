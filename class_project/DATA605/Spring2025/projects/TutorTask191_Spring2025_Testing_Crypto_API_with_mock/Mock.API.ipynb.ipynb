{
 "cells": [
  {
   "cell_type": "code",
   "execution_count": 1,
   "id": "94f81197-4163-4552-8346-37ed784d6920",
   "metadata": {},
   "outputs": [],
   "source": [
    "import importlib\n",
    "import Mock_utils\n",
    "importlib.reload(Mock_utils)\n",
    "\n",
    "from Mock_utils import get_bitcoin_price, check_threshold, send_alert\n"
   ]
  },
  {
   "cell_type": "code",
   "execution_count": 2,
   "id": "1cf19ee1-4881-4a52-a3b2-afdebbd05669",
   "metadata": {},
   "outputs": [
    {
     "name": "stdout",
     "output_type": "stream",
     "text": [
      "Price: 102904\n",
      "⚠️ Price is above $30,000\n"
     ]
    }
   ],
   "source": [
    "from Mock_utils import get_bitcoin_price, check_threshold\n",
    "\n",
    "price = get_bitcoin_price()\n",
    "print(\"Price:\", price)\n",
    "\n",
    "if check_threshold(price, threshold=30000, direction='above'):\n",
    "    print(\"⚠️ Price is above $30,000\")\n",
    "else:\n",
    "    print(\"✅ Price is below threshold\")"
   ]
  },
  {
   "cell_type": "code",
   "execution_count": 10,
   "id": "756604cb-d70f-4e9c-a71a-c04226a18014",
   "metadata": {},
   "outputs": [
    {
     "name": "stdout",
     "output_type": "stream",
     "text": [
      "Price: 102913\n",
      "[ALERT] 🚨 Bitcoin price is above $80,000\n"
     ]
    }
   ],
   "source": [
    "from Mock_utils import get_bitcoin_price, check_threshold, send_alert\n",
    "\n",
    "price = get_bitcoin_price()\n",
    "print(\"Price:\", price)\n",
    "\n",
    "if check_threshold(price, threshold=80000, direction='above'):\n",
    "    send_alert(\"Bitcoin price is above $80,000\")\n",
    "else:\n",
    "    print(\"✅ Price is below threshold\")"
   ]
  },
  {
   "cell_type": "code",
   "execution_count": null,
   "id": "9fd6d7c4-93ef-41eb-a443-6d5a41fbdd73",
   "metadata": {},
   "outputs": [],
   "source": []
  }
 ],
 "metadata": {
  "kernelspec": {
   "display_name": "Python 3 (ipykernel)",
   "language": "python",
   "name": "python3"
  },
  "language_info": {
   "codemirror_mode": {
    "name": "ipython",
    "version": 3
   },
   "file_extension": ".py",
   "mimetype": "text/x-python",
   "name": "python",
   "nbconvert_exporter": "python",
   "pygments_lexer": "ipython3",
   "version": "3.12.7"
  }
 },
 "nbformat": 4,
 "nbformat_minor": 5
}
