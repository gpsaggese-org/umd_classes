{
 "cells": [
  {
   "cell_type": "markdown",
   "metadata": {},
   "source": [
    "# Ollama API Usage Demonstration\n",
    "\n",
    "This notebook demonstrates how to use both the native Ollama API and our Python wrapper layer."
   ]
  },
  {
   "cell_type": "markdown",
   "metadata": {},
   "source": [
    "## 1. Setup and Imports"
   ]
  },
  {
   "cell_type": "code",
   "execution_count": 16,
   "metadata": {},
   "outputs": [],
   "source": [
    "import requests\n",
    "import json\n",
    "import os\n",
    "import Ollama_utils as ou\n",
    "import numpy as np\n",
    "import matplotlib.pyplot as plt"
   ]
  },
  {
   "cell_type": "markdown",
   "metadata": {},
   "source": [
    "## 2. Native Ollama API\n",
    "First, let's demonstrate using the native Ollama API directly."
   ]
  },
  {
   "cell_type": "code",
   "execution_count": 17,
   "metadata": {},
   "outputs": [
    {
     "name": "stdout",
     "output_type": "stream",
     "text": [
      "✅ Using preferred model: llama3\n",
      "Available models: ['llama3:latest']\n"
     ]
    }
   ],
   "source": [
    "# Check for Ollama\n",
    "# Add auto-download capability for llama3 if no models are present\n",
    "def download_llama3_model():\n",
    "    \"\"\"Downloads the llama3 model automatically if no models are installed\"\"\"\n",
    "    print(\"🔄 No models found. Automatically downloading llama3 model (approx. 4GB)...\")\n",
    "    \n",
    "    url = \"http://localhost:11434/api/pull\"\n",
    "    payload = {\"name\": \"llama3\"}\n",
    "    \n",
    "    try:\n",
    "        # Start the download with stream=True to monitor progress\n",
    "        with requests.post(url, json=payload, stream=True) as response:\n",
    "            if response.status_code == 200:\n",
    "                # Process the streaming response to show progress\n",
    "                for line in response.iter_lines():\n",
    "                    if line:\n",
    "                        data = json.loads(line)\n",
    "                        if \"status\" in data:\n",
    "                            if \"completed\" in data[\"status\"]:\n",
    "                                print(f\"✅ Download complete!\")\n",
    "                                return True\n",
    "                            elif \"downloading\" in data[\"status\"]:\n",
    "                                if \"total\" in data and \"completed\" in data:\n",
    "                                    percent = (data[\"completed\"] / data[\"total\"]) * 100\n",
    "                                    print(f\"Downloading: {percent:.1f}% complete\", end=\"\\r\")\n",
    "            else:\n",
    "                print(f\"❌ Error downloading model: {response.status_code} - {response.text}\")\n",
    "                return False\n",
    "    except Exception as e:\n",
    "        print(f\"❌ Error connecting to Ollama: {str(e)}\")\n",
    "        return False\n",
    "\n",
    "# Set the preferred model\n",
    "preferred_model = \"llama3\"\n",
    "\n",
    "# Check for models and download automatically if none exist\n",
    "try:\n",
    "    response = requests.get(\"http://localhost:11434/api/tags\")\n",
    "    if response.status_code == 200:\n",
    "        models = response.json().get(\"models\", [])\n",
    "        model_names = [model['name'] for model in models]\n",
    "        \n",
    "        if not models:\n",
    "            print(\"No models detected. Starting automatic download...\")\n",
    "            success = download_llama3_model()\n",
    "            if success:\n",
    "                # Check available models again\n",
    "                response = requests.get(\"http://localhost:11434/api/tags\")\n",
    "                if response.status_code == 200:\n",
    "                    models = response.json().get(\"models\", [])\n",
    "                    model_names = [model['name'] for model in models]\n",
    "                    print(f\"✅ Using model: {preferred_model}\")\n",
    "            else:\n",
    "                print(\"⚠️ Failed to download llama3 model. This notebook requires a model to function properly.\")\n",
    "        else:\n",
    "            # Models exist, determine which to use\n",
    "            if f\"{preferred_model}:latest\" in model_names or preferred_model in model_names:\n",
    "                print(f\"✅ Using preferred model: {preferred_model}\")\n",
    "            else:\n",
    "                # Use the first available model\n",
    "                alternative_model = model_names[0]\n",
    "                preferred_model = alternative_model.split(':')[0]  # Remove ':latest' if present\n",
    "                print(f\"✅ Using available model: {preferred_model}\")\n",
    "                print(f\"Note: For optimal results, consider installing llama3 model\")\n",
    "            \n",
    "            print(f\"Available models: {model_names}\")\n",
    "except Exception as e:\n",
    "    print(f\"❌ Error checking models: {str(e)}\")"
   ]
  },
  {
   "cell_type": "code",
   "execution_count": 6,
   "metadata": {},
   "outputs": [],
   "source": [
    "# Direct API call for demonstration\n",
    "def generate_search_terms(query, model=\"llama3\"):\n",
    "    \"\"\"Use Ollama to generate search terms for a query\"\"\"\n",
    "    url = \"http://localhost:11434/api/generate\"\n",
    "    prompt = f\"\"\"Given the following search query, extract 3-5 key search terms that would be most effective \n",
    "    for finding relevant documents. Return only the terms separated by commas, no explanations.\n",
    "    \n",
    "    Query: {query}\n",
    "    \"\"\"\n",
    "    \n",
    "    payload = {\n",
    "        \"model\": model,\n",
    "        \"prompt\": prompt,\n",
    "        \"stream\": False\n",
    "    }\n",
    "    \n",
    "    try:\n",
    "        response = requests.post(url, json=payload)\n",
    "        if response.status_code == 200:\n",
    "            return response.json().get(\"response\", \"\")\n",
    "        else:\n",
    "            return f\"Error: {response.status_code} - {response.text}\"\n",
    "    except Exception as e:\n",
    "        return f\"Error: {str(e)}\""
   ]
  },
  {
   "cell_type": "markdown",
   "metadata": {},
   "source": [
    "## 3. Python Wrapper Layer\n",
    "Now let's use our Python wrapper which simplifies these operations."
   ]
  },
  {
   "cell_type": "code",
   "execution_count": 7,
   "metadata": {},
   "outputs": [
    {
     "name": "stdout",
     "output_type": "stream",
     "text": [
      "\n",
      "For query: 'How do I implement secure authentication in a web application?'\n",
      "Generated search terms: Secure, Authentication, Web Application\n",
      "\n",
      "Demonstrating document embedding and indexing...\n"
     ]
    }
   ],
   "source": [
    "# Try the native API to generate search terms\n",
    "query = \"How do I implement secure authentication in a web application?\"\n",
    "search_terms = generate_search_terms(query)\n",
    "print(f\"\\nFor query: '{query}'\")\n",
    "print(f\"Generated search terms: {search_terms}\")\n",
    "\n",
    "# 2. Document Embedding and Indexing\n",
    "print(\"\\nDemonstrating document embedding and indexing...\")\n",
    "\n",
    "# Create sample documents for demonstration\n",
    "os.makedirs(\"demo_docs\", exist_ok=True)\n",
    "\n",
    "sample_docs = [\n",
    "    (\"authentication.md\", \"\"\"\n",
    "    # Authentication Best Practices\n",
    "    \n",
    "    Authentication is critical for web applications. This guide covers:\n",
    "    \n",
    "    - Password hashing with bcrypt\n",
    "    - Multi-factor authentication\n",
    "    - JWT tokens for API authentication\n",
    "    - Session management\n",
    "    - OAuth 2.0 integration\n",
    "    \"\"\"),\n",
    "    \n",
    "    (\"security_overview.md\", \"\"\"\n",
    "    # Security Overview\n",
    "    \n",
    "    A comprehensive security strategy includes:\n",
    "    \n",
    "    - Authentication and authorization\n",
    "    - Input validation and sanitization\n",
    "    - HTTPS/TLS encryption\n",
    "    - Regular security audits\n",
    "    - Data encryption at rest\n",
    "    \"\"\"),\n",
    "    \n",
    "    (\"api_design.md\", \"\"\"\n",
    "    # API Design Guide\n",
    "    \n",
    "    Building robust APIs requires consideration of:\n",
    "    \n",
    "    - Authentication mechanisms (JWT, OAuth)\n",
    "    - Rate limiting\n",
    "    - Versioning strategy\n",
    "    - Error handling\n",
    "    - Documentation\n",
    "    \"\"\")\n",
    "]"
   ]
  },
  {
   "cell_type": "code",
   "execution_count": 65,
   "metadata": {},
   "outputs": [
    {
     "name": "stdout",
     "output_type": "stream",
     "text": [
      "\n",
      "For query: 'How do I implement secure authentication in a web application?'\n",
      "Generated search terms: secure, authentication, web-application\n",
      "\n",
      "Demonstrating document embedding and indexing...\n"
     ]
    }
   ],
   "source": [
    "# Try the native API to generate search terms\n",
    "query = \"How do I implement secure authentication in a web application?\"\n",
    "search_terms = generate_search_terms(query)\n",
    "print(f\"\\nFor query: '{query}'\")\n",
    "print(f\"Generated search terms: {search_terms}\")\n",
    "\n",
    "# 2. Document Embedding and Indexing\n",
    "print(\"\\nDemonstrating document embedding and indexing...\")\n",
    "\n",
    "# Create sample documents for demonstration\n",
    "os.makedirs(\"demo_docs\", exist_ok=True)\n",
    "\n",
    "sample_docs = [\n",
    "    (\"authentication.md\", \"\"\"\n",
    "    # Authentication Best Practices\n",
    "    \n",
    "    Authentication is critical for web applications. This guide covers:\n",
    "    \n",
    "    - Password hashing with bcrypt\n",
    "    - Multi-factor authentication\n",
    "    - JWT tokens for API authentication\n",
    "    - Session management\n",
    "    - OAuth 2.0 integration\n",
    "    \"\"\"),\n",
    "    \n",
    "    (\"security_overview.md\", \"\"\"\n",
    "    # Security Overview\n",
    "    \n",
    "    A comprehensive security strategy includes:\n",
    "    \n",
    "    - Authentication and authorization\n",
    "    - Input validation and sanitization\n",
    "    - HTTPS/TLS encryption\n",
    "    - Regular security audits\n",
    "    - Data encryption at rest\n",
    "    \"\"\"),\n",
    "    \n",
    "    (\"api_design.md\", \"\"\"\n",
    "    # API Design Guide\n",
    "    \n",
    "    Building robust APIs requires consideration of:\n",
    "    \n",
    "    - Authentication mechanisms (JWT, OAuth)\n",
    "    - Rate limiting\n",
    "    - Versioning strategy\n",
    "    - Error handling\n",
    "    - Documentation\n",
    "    \"\"\")\n",
    "]"
   ]
  },
  {
   "cell_type": "code",
   "execution_count": 8,
   "metadata": {},
   "outputs": [
    {
     "name": "stdout",
     "output_type": "stream",
     "text": [
      "Created 3 sample documents in 'demo_docs/'\n"
     ]
    }
   ],
   "source": [
    "# Create sample files\n",
    "for filename, content in sample_docs:\n",
    "    with open(f\"demo_docs/{filename}\", \"w\") as f:\n",
    "        f.write(content)\n",
    "print(f\"Created {len(sample_docs)} sample documents in 'demo_docs/'\")"
   ]
  },
  {
   "cell_type": "code",
   "execution_count": 9,
   "metadata": {},
   "outputs": [
    {
     "data": {
      "application/vnd.jupyter.widget-view+json": {
       "model_id": "fb73ac8f437841659ee036a3c927d9a7",
       "version_major": 2,
       "version_minor": 0
      },
      "text/plain": [
       "modules.json:   0%|          | 0.00/349 [00:00<?, ?B/s]"
      ]
     },
     "metadata": {},
     "output_type": "display_data"
    },
    {
     "data": {
      "application/vnd.jupyter.widget-view+json": {
       "model_id": "2d503e111fcd4cf691336a8b801637ff",
       "version_major": 2,
       "version_minor": 0
      },
      "text/plain": [
       "config_sentence_transformers.json:   0%|          | 0.00/116 [00:00<?, ?B/s]"
      ]
     },
     "metadata": {},
     "output_type": "display_data"
    },
    {
     "data": {
      "application/vnd.jupyter.widget-view+json": {
       "model_id": "058fd6767edf4f63a2fb53e59286c8fd",
       "version_major": 2,
       "version_minor": 0
      },
      "text/plain": [
       "README.md:   0%|          | 0.00/10.4k [00:00<?, ?B/s]"
      ]
     },
     "metadata": {},
     "output_type": "display_data"
    },
    {
     "data": {
      "application/vnd.jupyter.widget-view+json": {
       "model_id": "56ac94f578fa4e4ca2cb7dbde3c28325",
       "version_major": 2,
       "version_minor": 0
      },
      "text/plain": [
       "sentence_bert_config.json:   0%|          | 0.00/53.0 [00:00<?, ?B/s]"
      ]
     },
     "metadata": {},
     "output_type": "display_data"
    },
    {
     "data": {
      "application/vnd.jupyter.widget-view+json": {
       "model_id": "d2586f2216394b8b95e1e6d7971a89fb",
       "version_major": 2,
       "version_minor": 0
      },
      "text/plain": [
       "config.json:   0%|          | 0.00/571 [00:00<?, ?B/s]"
      ]
     },
     "metadata": {},
     "output_type": "display_data"
    },
    {
     "name": "stderr",
     "output_type": "stream",
     "text": [
      "Xet Storage is enabled for this repo, but the 'hf_xet' package is not installed. Falling back to regular HTTP download. For better performance, install the package with: `pip install huggingface_hub[hf_xet]` or `pip install hf_xet`\n"
     ]
    },
    {
     "data": {
      "application/vnd.jupyter.widget-view+json": {
       "model_id": "95ff7ec6f632422c8e517995ecb20c79",
       "version_major": 2,
       "version_minor": 0
      },
      "text/plain": [
       "model.safetensors:   0%|          | 0.00/438M [00:00<?, ?B/s]"
      ]
     },
     "metadata": {},
     "output_type": "display_data"
    },
    {
     "data": {
      "application/vnd.jupyter.widget-view+json": {
       "model_id": "888cc0e95da14d99a3f5246dcd2af162",
       "version_major": 2,
       "version_minor": 0
      },
      "text/plain": [
       "tokenizer_config.json:   0%|          | 0.00/363 [00:00<?, ?B/s]"
      ]
     },
     "metadata": {},
     "output_type": "display_data"
    },
    {
     "data": {
      "application/vnd.jupyter.widget-view+json": {
       "model_id": "7378fefac0304cd4898459755f07da9b",
       "version_major": 2,
       "version_minor": 0
      },
      "text/plain": [
       "vocab.txt:   0%|          | 0.00/232k [00:00<?, ?B/s]"
      ]
     },
     "metadata": {},
     "output_type": "display_data"
    },
    {
     "data": {
      "application/vnd.jupyter.widget-view+json": {
       "model_id": "14f2a368bab648e6b9d2570828a6be2a",
       "version_major": 2,
       "version_minor": 0
      },
      "text/plain": [
       "tokenizer.json:   0%|          | 0.00/466k [00:00<?, ?B/s]"
      ]
     },
     "metadata": {},
     "output_type": "display_data"
    },
    {
     "data": {
      "application/vnd.jupyter.widget-view+json": {
       "model_id": "c43c564bb73b4e4a98be72232eefe0a2",
       "version_major": 2,
       "version_minor": 0
      },
      "text/plain": [
       "special_tokens_map.json:   0%|          | 0.00/239 [00:00<?, ?B/s]"
      ]
     },
     "metadata": {},
     "output_type": "display_data"
    },
    {
     "data": {
      "application/vnd.jupyter.widget-view+json": {
       "model_id": "630e4364c2db4982a2bf40b9d4badf8c",
       "version_major": 2,
       "version_minor": 0
      },
      "text/plain": [
       "config.json:   0%|          | 0.00/190 [00:00<?, ?B/s]"
      ]
     },
     "metadata": {},
     "output_type": "display_data"
    },
    {
     "name": "stdout",
     "output_type": "stream",
     "text": [
      "Using embedding model: SentenceTransformer\n",
      "Embedding dimension: 768\n"
     ]
    }
   ],
   "source": [
    "# Get embedding model\n",
    "model = ou.get_embedding_model()\n",
    "print(f\"Using embedding model: {model.__class__.__name__}\")\n",
    "print(f\"Embedding dimension: {model.get_sentence_embedding_dimension()}\")"
   ]
  },
  {
   "cell_type": "code",
   "execution_count": 10,
   "metadata": {},
   "outputs": [
    {
     "name": "stdout",
     "output_type": "stream",
     "text": [
      "\n",
      "Indexing documents...\n",
      "Found 3 files\n"
     ]
    }
   ],
   "source": [
    "# Index the documents\n",
    "print(\"\\nIndexing documents...\")\n",
    "file_paths = ou.scan_directory(\"demo_docs\")\n",
    "print(f\"Found {len(file_paths)} files\")"
   ]
  },
  {
   "cell_type": "code",
   "execution_count": 11,
   "metadata": {},
   "outputs": [
    {
     "name": "stdout",
     "output_type": "stream",
     "text": [
      "Building index for 3 files\n",
      "Processing 3 new files\n",
      "Using 8 parallel workers\n",
      "Saved to cache: index/cache/_app_demo_docs_security_overview.md_1747530115.4244177_253.pkl\n",
      "Progress: 30.0% - Processed 1/3 files\n",
      "Saved to cache: index/cache/_app_demo_docs_api_design.md_1747530115.4300435_222.pkl\n",
      "Progress: 60.0% - Processed 2/3 files\n",
      "Saved to cache: index/cache/_app_demo_docs_authentication.md_1747530115.4222198_285.pkl\n",
      "Progress: 90.0% - Processed 3/3 files\n",
      "Progress: 95.0% - Building FAISS index\n",
      "Creating FAISS index with 3 chunks (dim=768)\n",
      "Creating new FAISS index\n",
      "Progress: 100.0% - Index built successfully\n",
      "✅ Indexing complete\n",
      "Indexing completed successfully\n"
     ]
    }
   ],
   "source": [
    "# Track progress\n",
    "def progress_callback(progress, message):\n",
    "    print(f\"Progress: {progress*100:.1f}% - {message}\")\n",
    "\n",
    "success = ou.build_document_index(\n",
    "    file_paths,\n",
    "    index_path=\"demo_docs/index.bin\",\n",
    "    metadata_path=\"demo_docs/metadata.pkl\",\n",
    "    progress_callback=progress_callback\n",
    ")\n",
    "print(f\"Indexing {'completed successfully' if success else 'failed'}\")"
   ]
  },
  {
   "cell_type": "code",
   "execution_count": 12,
   "metadata": {},
   "outputs": [
    {
     "name": "stdout",
     "output_type": "stream",
     "text": [
      "\n",
      "Searching for documents...\n"
     ]
    }
   ],
   "source": [
    "# 3. Document Search\n",
    "print(\"\\nSearching for documents...\")\n",
    "search_queries = [\n",
    "    \"authentication methods for web apps\",\n",
    "    \"API security best practices\",\n",
    "    \"how to protect user data\"\n",
    "]"
   ]
  },
  {
   "cell_type": "code",
   "execution_count": 13,
   "metadata": {},
   "outputs": [
    {
     "name": "stdout",
     "output_type": "stream",
     "text": [
      "\n",
      "Searching for: 'authentication methods for web apps'\n",
      "Found 2 results:\n",
      "\n",
      "[1] authentication.md (Score: 0.675)\n",
      "Snippet: \n",
      "    # Authentication Best Practices\n",
      "    \n",
      "    Authentication is critical for web applications. This guide covers:\n",
      "    \n",
      "    - Password hashing with bcr...\n",
      "\n",
      "[2] api_design.md (Score: 0.466)\n",
      "Snippet: \n",
      "    # API Design Guide\n",
      "    \n",
      "    Building robust APIs requires consideration of:\n",
      "    \n",
      "    - Authentication mechanisms (JWT, OAuth)\n",
      "    - Rate limiting...\n",
      "\n",
      "Searching for: 'API security best practices'\n",
      "Found 2 results:\n",
      "\n",
      "[1] api_design.md (Score: 0.684)\n",
      "Snippet: \n",
      "    # API Design Guide\n",
      "    \n",
      "    Building robust APIs requires consideration of:\n",
      "    \n",
      "    - Authentication mechanisms (JWT, OAuth)\n",
      "    - Rate limiting...\n",
      "\n",
      "[2] authentication.md (Score: 0.540)\n",
      "Snippet: \n",
      "    # Authentication Best Practices\n",
      "    \n",
      "    Authentication is critical for web applications. This guide covers:\n",
      "    \n",
      "    - Password hashing with bcr...\n",
      "\n",
      "Searching for: 'how to protect user data'\n",
      "Found 2 results:\n",
      "\n",
      "[1] security_overview.md (Score: 0.430)\n",
      "Snippet: \n",
      "    # Security Overview\n",
      "    \n",
      "    A comprehensive security strategy includes:\n",
      "    \n",
      "    - Authentication and authorization\n",
      "    - Input validation and s...\n",
      "\n",
      "[2] authentication.md (Score: 0.428)\n",
      "Snippet: \n",
      "    # Authentication Best Practices\n",
      "    \n",
      "    Authentication is critical for web applications. This guide covers:\n",
      "    \n",
      "    - Password hashing with bcr...\n"
     ]
    }
   ],
   "source": [
    "# Test search functionality\n",
    "for query in search_queries:\n",
    "    print(f\"\\nSearching for: '{query}'\")\n",
    "    results = ou.search_documents(\n",
    "        query,\n",
    "        top_k=2,\n",
    "        index_path=\"demo_docs/index.bin\",\n",
    "        metadata_path=\"demo_docs/metadata.pkl\"\n",
    "    )\n",
    "    \n",
    "    if \"error\" in results:\n",
    "        print(f\"Error: {results['error']}\")\n",
    "    else:\n",
    "        print(f\"Found {len(results)} results:\")\n",
    "        for i, result in enumerate(results):\n",
    "            print(f\"\\n[{i+1}] {result['filename']} (Score: {result['score']:.3f})\")\n",
    "            print(f\"Snippet: {result['snippet'][:150]}...\")"
   ]
  },
  {
   "cell_type": "code",
   "execution_count": 14,
   "metadata": {},
   "outputs": [
    {
     "name": "stdout",
     "output_type": "stream",
     "text": [
      "\n",
      "Enhancing search with Ollama...\n",
      "Original query: 'secure login implementation'\n",
      "Enhanced query: '\"site:.pdf OR site:.docx OR site:.html OR site:.txt OR site:.md \"secure login implementation\" (implementation OR integration OR setup OR guide OR manual) (security OR authentication OR authorization) (API OR protocol OR standards OR compliance) -javascript -python'\n"
     ]
    }
   ],
   "source": [
    "# 4. Search Enhancement with Ollama\n",
    "print(\"\\nEnhancing search with Ollama...\")\n",
    "query = \"secure login implementation\"\n",
    "\n",
    "# First get raw search results\n",
    "print(f\"Original query: '{query}'\")\n",
    "raw_results = ou.search_documents(\n",
    "    query,\n",
    "    top_k=2,\n",
    "    index_path=\"demo_docs/index.bin\",\n",
    "    metadata_path=\"demo_docs/metadata.pkl\"\n",
    ")\n",
    "\n",
    "# Use Ollama to enhance the query\n",
    "enhanced_query = ou.query_ollama(\n",
    "    f\"Rewrite this search query to be more comprehensive for finding technical documentation: '{query}'. Return only the enhanced query and nothing else in beginning or end.\",\n",
    "    model=\"llama3\"\n",
    ")\n",
    "print(f\"Enhanced query: '{enhanced_query}'\")"
   ]
  },
  {
   "cell_type": "code",
   "execution_count": 15,
   "metadata": {},
   "outputs": [
    {
     "name": "stdout",
     "output_type": "stream",
     "text": [
      "\n",
      "Comparison of search results:\n",
      "Original query results:\n",
      "[1] authentication.md (Score: 0.546)\n",
      "[2] security_overview.md (Score: 0.483)\n",
      "\n",
      "Enhanced query results:\n",
      "[1] security_overview.md (Score: 0.543)\n",
      "[2] authentication.md (Score: 0.477)\n",
      "\n",
      "Cleaning up demo files...\n",
      "Demo complete!\n"
     ]
    }
   ],
   "source": [
    "# Search with enhanced query\n",
    "enhanced_results = ou.search_documents(\n",
    "    enhanced_query,\n",
    "    top_k=2,\n",
    "    index_path=\"demo_docs/index.bin\",\n",
    "    metadata_path=\"demo_docs/metadata.pkl\"\n",
    ")\n",
    "\n",
    "# Compare results\n",
    "print(\"\\nComparison of search results:\")\n",
    "print(\"Original query results:\")\n",
    "for i, result in enumerate(raw_results):\n",
    "    print(f\"[{i+1}] {result['filename']} (Score: {result['score']:.3f})\")\n",
    "\n",
    "print(\"\\nEnhanced query results:\")\n",
    "for i, result in enumerate(enhanced_results):\n",
    "    print(f\"[{i+1}] {result['filename']} (Score: {result['score']:.3f})\")\n",
    "\n",
    "# 5. Cleanup\n",
    "print(\"\\nCleaning up demo files...\")\n",
    "# Uncomment to remove demo files\n",
    "import shutil\n",
    "shutil.rmtree(\"demo_docs\")\n",
    "print(\"Demo complete!\")"
   ]
  },
  {
   "cell_type": "code",
   "execution_count": null,
   "metadata": {},
   "outputs": [],
   "source": []
  }
 ],
 "metadata": {
  "kernelspec": {
   "display_name": "Python 3 (ipykernel)",
   "language": "python",
   "name": "python3"
  },
  "language_info": {
   "codemirror_mode": {
    "name": "ipython",
    "version": 3
   },
   "file_extension": ".py",
   "mimetype": "text/x-python",
   "name": "python",
   "nbconvert_exporter": "python",
   "pygments_lexer": "ipython3",
   "version": "3.8.10"
  }
 },
 "nbformat": 4,
 "nbformat_minor": 2
}
