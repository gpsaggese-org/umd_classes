{
 "cells": [
  {
   "cell_type": "markdown",
   "id": "1744cfdc",
   "metadata": {},
   "source": [
    "# DGL API — Graph Construction, Node Features, Edge Weights, GraphSAGE & Evaluation\n",
    "\n",
    "**Goal:** Demonstrate the native DGL API (heterographs, edge data, GraphSAGE) and our thin wrapper (`dgl_utils.py`) on a tiny example and on a subsample of MovieLens if present. We cover:\n",
    "- Bipartite user–movie graph with **edge weights** (ratings)\n",
    "- **Node features** via movie genres\n",
    "- GraphSAGE encoder (homogeneous view)\n",
    "- **Link prediction** metrics: Precision@K / Recall@K\n",
    "- **Rating RMSE** via a fast regressor on frozen GNN embeddings\n",
    "- **Top-N recommendations** for a user"
   ]
  },
  {
   "cell_type": "code",
   "execution_count": null,
   "id": "fd7b8c9d",
   "metadata": {},
   "outputs": [],
   "source": [
    "%load_ext autoreload\n",
    "%autoreload 2\n",
    "%matplotlib inline\n",
    "\n",
    "import os, logging, random\n",
    "import numpy as np\n",
    "import pandas as pd\n",
    "import torch\n",
    "import dgl\n",
    "\n",
    "import dgl_utils as du\n",
    "\n",
    "logging.basicConfig(level=logging.INFO)\n",
    "logger = logging.getLogger(\"DGL_API\")\n",
    "\n",
    "SEED = 42\n",
    "random.seed(SEED); np.random.seed(SEED); torch.manual_seed(SEED)\n",
    "\n",
    "print(\"torch:\", torch.__version__, \"| dgl:\", dgl.__version__)\n"
   ]
  },
  {
   "cell_type": "code",
   "execution_count": null,
   "id": "8a42f5dc",
   "metadata": {},
   "outputs": [],
   "source": [
    "DATA_DIR = \"data\"  # put ratings.csv and movies.csv here if available\n",
    "RATINGS_CSV = os.path.join(DATA_DIR, \"ratings.csv\")\n",
    "MOVIES_CSV  = os.path.join(DATA_DIR, \"movies.csv\")\n",
    "\n",
    "USE_REAL = os.path.exists(RATINGS_CSV)\n",
    "print(\"Use real MovieLens data:\", USE_REAL)"
   ]
  },
  {
   "cell_type": "code",
   "execution_count": null,
   "id": "d8f34208",
   "metadata": {},
   "outputs": [],
   "source": [
    "if USE_REAL:\n",
    "    data = du.load_movielens(RATINGS_CSV, MOVIES_CSV if os.path.exists(MOVIES_CSV) else None)\n",
    "    ratings = data[\"ratings\"]\n",
    "    movies  = data.get(\"movies\", None)\n",
    "\n",
    "    # (Optional) quick subsample to keep API demo fast.\n",
    "    # Keep users & movies with moderate activity, then sample edges.\n",
    "    # Tweak these numbers if your laptop is strong.\n",
    "    max_edges = 100_000  # ~ quick demo size\n",
    "    if len(ratings) > max_edges:\n",
    "        ratings = ratings.sample(n=max_edges, random_state=SEED).reset_index(drop=True)\n",
    "    print(ratings.head(), \"\\nrows:\", len(ratings))\n",
    "    if movies is not None:\n",
    "        print(movies.head(), \"\\nrows:\", len(movies))\n",
    "else:\n",
    "    # Toy fallback (runs anywhere):\n",
    "    ratings = pd.DataFrame({\n",
    "        \"userId\":   [10,10,11,12,12,13,13,13],\n",
    "        \"movieId\":  [100,101,100,102,103,100,102,104],\n",
    "        \"rating\":   [4.0,5.0,3.0,4.5,2.5,4.0,3.5,5.0],\n",
    "        \"timestamp\":[1,2,3,4,5,6,7,8],\n",
    "    })\n",
    "    movies = pd.DataFrame({\n",
    "        \"movieId\": [100,101,102,103,104],\n",
    "        \"title\": [\"Toy Story\", \"Jumanji\", \"Grumpier Old Men\", \"Waiting to Exhale\", \"Father of the Bride Part II\"],\n",
    "        \"genres\": [\"Adventure|Animation|Children|Comedy|Fantasy\",\n",
    "                   \"Adventure|Children|Fantasy\",\n",
    "                   \"Comedy|Romance\",\n",
    "                   \"Comedy|Drama|Romance\",\n",
    "                   \"Comedy\"]\n",
    "    })\n",
    "    print(\"Using toy data.\")"
   ]
  },
  {
   "cell_type": "code",
   "execution_count": null,
   "id": "4ed98c76",
   "metadata": {},
   "outputs": [],
   "source": [
    "df2, maps = du.remap_ids(ratings, \"userId\", \"movieId\")\n",
    "num_users = df2[\"u\"].nunique()\n",
    "num_movies = df2[\"v\"].nunique()\n",
    "num_edges  = len(df2)\n",
    "num_users, num_movies, num_edges"
   ]
  },
  {
   "cell_type": "code",
   "execution_count": null,
   "id": "44e36458",
   "metadata": {},
   "outputs": [],
   "source": [
    "g = du.build_bipartite_graph(df2, num_users, num_movies, rating_col=\"rating\")\n",
    "\n",
    "print(\"Node types:\", g.ntypes)\n",
    "print(\"Edge types:\", g.etypes)\n",
    "print(\"Users:\", g.num_nodes(\"user\"), \" Movies:\", g.num_nodes(\"movie\"))\n",
    "print(\"Edges (rates):\", g.num_edges((\"user\",\"rates\",\"movie\")))\n",
    "print(\"Edge data keys:\", g.edges[('user','rates','movie')].data.keys())\n",
    "print(\"First few ratings:\", g.edges[('user','rates','movie')].data[\"rating\"][:5])\n"
   ]
  },
  {
   "cell_type": "code",
   "execution_count": null,
   "id": "00dbbf08",
   "metadata": {},
   "outputs": [],
   "source": [
    "movie_feat_tensor = None\n",
    "genre_vocab = []\n",
    "if movies is not None:\n",
    "    movie_feat_tensor, genre_vocab = du.build_movie_genre_onehot(movies, maps[\"item_map\"])\n",
    "    print(\"Movie genre feature matrix:\", tuple(movie_feat_tensor.shape), \" #genres:\", len(genre_vocab))\n",
    "else:\n",
    "    print(\"No movies.csv available -> skipping movie genre features.\")\n"
   ]
  },
  {
   "cell_type": "code",
   "execution_count": null,
   "id": "0aeaa34f",
   "metadata": {},
   "outputs": [],
   "source": [
    "splits = du.make_edge_splits(g, etype=(\"user\",\"rates\",\"movie\"), test_size=0.1, val_size=0.1, seed=SEED)\n",
    "{k: v.shape for k, v in splits.items()}\n",
    "\n",
    "train_pairs = du.eids_to_pairs(g, splits[\"train_eids\"])\n",
    "val_pairs   = du.eids_to_pairs(g, splits[\"val_eids\"])\n",
    "test_pairs  = du.eids_to_pairs(g, splits[\"test_eids\"])\n",
    "\n",
    "# Also capture ratings per set for RMSE later.\n",
    "r = g.edges[('user','rates','movie')].data[\"rating\"].numpy()\n",
    "train_ratings = [r[i] for i in splits[\"train_eids\"].tolist()]\n",
    "val_ratings   = [r[i] for i in splits[\"val_eids\"].tolist()]\n",
    "test_ratings  = [r[i] for i in splits[\"test_eids\"].tolist()]\n",
    "\n",
    "len(train_pairs), len(val_pairs), len(test_pairs)\n"
   ]
  },
  {
   "cell_type": "code",
   "execution_count": null,
   "id": "e6e8e77b",
   "metadata": {},
   "outputs": [],
   "source": [
    "embeddings = du.train_link_prediction(\n",
    "    g, splits,\n",
    "    embed_dim=32,\n",
    "    epochs=2,          # keep small for API demo; your example notebook can run longer\n",
    "    lr=1e-3,\n",
    "    device=\"cpu\",\n",
    "    movie_feat_tensor=movie_feat_tensor  # None if we have no movies.csv\n",
    ")\n",
    "user_emb  = embeddings[\"user_emb\"]\n",
    "movie_emb = embeddings[\"movie_emb\"]\n",
    "user_emb.shape, movie_emb.shape"
   ]
  },
  {
   "cell_type": "code",
   "execution_count": null,
   "id": "9e66b0b6",
   "metadata": {},
   "outputs": [],
   "source": [
    "metrics_k10 = du.evaluate_precision_recall_at_k(user_emb, movie_emb, test_pairs, k=10)\n",
    "metrics_k5  = du.evaluate_precision_recall_at_k(user_emb, movie_emb, test_pairs, k=5)\n",
    "print(\"P@10/R@10:\", metrics_k10)\n",
    "print(\"P@5/R@5 :\", metrics_k5)"
   ]
  },
  {
   "cell_type": "code",
   "execution_count": null,
   "id": "cdb5ce5a",
   "metadata": {},
   "outputs": [],
   "source": [
    "# Fit on train edges, validate on test edges — fast and interpretable.\n",
    "reg = du.fit_edge_regressor_ridge(user_emb, movie_emb, train_pairs, train_ratings, alpha=1.0)\n",
    "rmse_test = du.rmse_from_regressor(reg, user_emb, movie_emb, test_pairs, test_ratings)\n",
    "print(\"Rating RMSE (test):\", rmse_test)"
   ]
  },
  {
   "cell_type": "code",
   "execution_count": null,
   "id": "6dfb2205",
   "metadata": {},
   "outputs": [],
   "source": [
    "user_seen = du.build_user_seen_map(g, splits[\"train_eids\"])\n",
    "len(user_seen), list(next(iter(user_seen.values())))[0:5]"
   ]
  },
  {
   "cell_type": "code",
   "execution_count": null,
   "id": "5e2c24f9",
   "metadata": {},
   "outputs": [],
   "source": [
    "sample_user = 0  # change it to explore\n",
    "topn = du.recommend_topk_for_user(\n",
    "    sample_user,\n",
    "    user_emb,\n",
    "    movie_emb,\n",
    "    seen_items=user_seen.get(sample_user, set()),\n",
    "    k=10,\n",
    ")\n",
    "title_lookup = du.id_maps_to_title_lookup(movies, maps.get(\"item_map\"))\n",
    "recs = [(mid, title_lookup.get(mid, f\"movie_{mid}\")) for mid in topn]\n",
    "recs[:10]"
   ]
  },
  {
   "cell_type": "code",
   "execution_count": null,
   "id": "a32ba05a",
   "metadata": {},
   "outputs": [],
   "source": [
    "# Popularity = most-rated movies in *train* split.\n",
    "u_tr, v_tr = g.find_edges(splits[\"train_eids\"], etype=(\"user\",\"rates\",\"movie\"))\n",
    "counts = np.bincount(v_tr.numpy(), minlength=g.num_nodes(\"movie\"))\n",
    "pop_rank = np.argsort(-counts)  # descending\n",
    "# Exclude seen items for the same user:\n",
    "pop_recs = [m for m in pop_rank.tolist() if m not in user_seen.get(sample_user, set())][:10]\n",
    "[(mid, title_lookup.get(mid, f\"movie_{mid}\")) for mid in pop_recs]"
   ]
  },
  {
   "cell_type": "code",
   "execution_count": null,
   "id": "7cd27431",
   "metadata": {},
   "outputs": [],
   "source": [
    "summary = {\n",
    "    \"num_users\": user_emb.shape[0],\n",
    "    \"num_movies\": movie_emb.shape[0],\n",
    "    \"num_edges\": g.num_edges((\"user\",\"rates\",\"movie\")),\n",
    "    \"P@10\": metrics_k10[\"precision@k\"],\n",
    "    \"R@10\": metrics_k10[\"recall@k\"],\n",
    "    \"P@5\":  metrics_k5[\"precision@k\"],\n",
    "    \"R@5\":  metrics_k5[\"recall@k\"],\n",
    "    \"RMSE\": rmse_test,\n",
    "}\n",
    "summary\n"
   ]
  },
  {
   "cell_type": "markdown",
   "id": "3040f3df",
   "metadata": {},
   "source": [
    "## Notes (for API notebook)\n",
    "- **Edge weights** (ratings) are stored on `(\"user\",\"rates\",\"movie\")`.\n",
    "- **Node features**: if `movies.csv` is available, movie genre one-hot features are fused with learnable embeddings via a linear projector.\n",
    "- **Encoder**: homogeneous GraphSAGE for clarity; the example notebook can explore hetero modules & neighbor sampling.\n",
    "- **Metrics**:\n",
    "  - **P@K/R@K** from dot-product link scores (implicit rec quality).\n",
    "  - **RMSE** from a fast ridge regressor on frozen embeddings (explicit rating quality).\n",
    "- **Top-N**: demo recs excluding training items, with title mapping.\n",
    "\n",
    "### Next steps (for the Example notebook)\n",
    "- Longer training (more epochs), neighbor sampling, or hetero GNN layers.\n",
    "- Popularity/MF baselines and detailed comparisons.\n",
    "- Add side information (directors/actors) to a **heterogeneous** graph.\n",
    "- Explore **temporal** splits and time-aware evaluation.\n"
   ]
  }
 ],
 "metadata": {
  "kernelspec": {
   "display_name": "venv",
   "language": "python",
   "name": "python3"
  },
  "language_info": {
   "name": "python",
   "version": "3.13.7"
  }
 },
 "nbformat": 4,
 "nbformat_minor": 5
}
