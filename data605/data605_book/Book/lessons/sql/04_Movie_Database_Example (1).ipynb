{
 "cells": [
  {
   "cell_type": "markdown",
   "id": "1312dfc2",
   "metadata": {},
   "source": [
    "# Movie Database Example\n",
    "\n",
    "This notebook mirrors the Movie example from the lecture: schema creation, inserts, typical queries, views, and examples of updates/deletes."
   ]
  },
  {
   "cell_type": "code",
   "execution_count": null,
   "id": "708e60ca",
   "metadata": {},
   "outputs": [],
   "source": [
    "# Setup for running SQL cells in Colab\n",
    "# Run this cell first in Colab. It installs ipython-sql and connects to a local SQLite database.\n",
    "# In Colab, you may need to restart the runtime once after installation, but usually this works in one go.\n",
    "!pip install -q ipython-sql sqlalchemy\n",
    "%load_ext sql\n",
    "# Create a local sqlite database file so the data persists within the Colab session\n",
    "%sql sqlite:///relational_db.sqlite\n"
   ]
  },
  {
   "cell_type": "markdown",
   "id": "431fdff9",
   "metadata": {},
   "source": [
    "## Schema creation (movie, movieStar, movieExec, starsIn, studio)\n",
    "\n",
    "Create the tables and insert sample data for exercises."
   ]
  },
  {
   "cell_type": "code",
   "execution_count": null,
   "id": "ff7d0bec",
   "metadata": {},
   "outputs": [],
   "source": [
    "%%sql\n",
    "CREATE TABLE IF NOT EXISTS Studio (\n",
    "    name TEXT PRIMARY KEY,\n",
    "    address TEXT,\n",
    "    presC INTEGER\n",
    ");\n",
    "\n",
    "CREATE TABLE IF NOT EXISTS MovieExec (\n",
    "    name TEXT,\n",
    "    address TEXT,\n",
    "    certno INTEGER PRIMARY KEY,\n",
    "    netWorth INTEGER\n",
    ");\n",
    "\n",
    "CREATE TABLE IF NOT EXISTS Movie (\n",
    "    title TEXT,\n",
    "    year INTEGER,\n",
    "    length INTEGER,\n",
    "    inColor INTEGER,\n",
    "    studioName TEXT,\n",
    "    producerC INTEGER,\n",
    "    PRIMARY KEY(title, year),\n",
    "    FOREIGN KEY(producerC) REFERENCES MovieExec(certno),\n",
    "    FOREIGN KEY(studioName) REFERENCES Studio(name)\n",
    ");\n",
    "\n",
    "CREATE TABLE IF NOT EXISTS MovieStar (\n",
    "    name TEXT PRIMARY KEY,\n",
    "    address TEXT,\n",
    "    gender TEXT,\n",
    "    birthdate TEXT\n",
    ");\n",
    "\n",
    "CREATE TABLE IF NOT EXISTS StarsIn (\n",
    "    movieTitle TEXT,\n",
    "    movieYear INTEGER,\n",
    "    starName TEXT\n",
    ");\n"
   ]
  },
  {
   "cell_type": "code",
   "execution_count": null,
   "id": "b89b2a82",
   "metadata": {},
   "outputs": [],
   "source": [
    "%%sql\n",
    "-- Insert sample Studios and execs\n",
    "INSERT OR IGNORE INTO Studio VALUES ('disney','Disney Address', 111);\n",
    "INSERT OR IGNORE INTO Studio VALUES ('warner','Warner Address', 112);\n",
    "\n",
    "INSERT OR IGNORE INTO MovieExec VALUES ('Exec A','Some Address',111,200000);\n",
    "INSERT OR IGNORE INTO MovieExec VALUES ('Exec B','Other Address',112,90000);\n",
    "\n",
    "-- Movies & stars\n",
    "INSERT OR IGNORE INTO Movie VALUES ('King Kong', 2005, 187, 1, 'disney', 111);\n",
    "INSERT OR IGNORE INTO Movie VALUES ('Short Story', 2014, 12, 0, 'indie', 112);\n",
    "INSERT OR IGNORE INTO MovieStar VALUES ('Naomi Watts','Unknown','F','1971-09-28');\n",
    "INSERT OR IGNORE INTO MovieStar VALUES ('Actor X','Addr','M','1980-05-05');\n",
    "INSERT OR IGNORE INTO StarsIn VALUES ('King Kong',2005,'Naomi Watts');\n"
   ]
  },
  {
   "cell_type": "markdown",
   "id": "13465dc1",
   "metadata": {},
   "source": [
    "## Example queries\n",
    "\n",
    "- Movies produced by Disney in 1990 (none in sample):\n",
    "```sql\n",
    "SELECT title, year FROM Movie WHERE studioName = 'disney' AND year = 1990;\n",
    "```\n",
    "- Distinct titles and ordering, group-by examples, set operations, and outer joins are demonstrated below."
   ]
  },
  {
   "cell_type": "code",
   "execution_count": null,
   "id": "0cd47847",
   "metadata": {},
   "outputs": [],
   "source": [
    "%%sql\n",
    "SELECT DISTINCT title FROM Movie ORDER BY title;"
   ]
  },
  {
   "cell_type": "code",
   "execution_count": null,
   "id": "c57c6660",
   "metadata": {},
   "outputs": [],
   "source": [
    "%%sql\n",
    "SELECT year, AVG(length) AS avg_length FROM Movie GROUP BY year;\n"
   ]
  },
  {
   "cell_type": "code",
   "execution_count": null,
   "id": "3fdfad5e",
   "metadata": {},
   "outputs": [],
   "source": [
    "%%sql\n",
    "-- Find movie(s) with maximum length\n",
    "SELECT title, year FROM Movie WHERE length = (SELECT MAX(length) FROM Movie);\n"
   ]
  },
  {
   "cell_type": "markdown",
   "id": "dd19b7e4",
   "metadata": {},
   "source": [
    "## Views\n",
    "\n",
    "Create a view for Disney movies (example)."
   ]
  },
  {
   "cell_type": "code",
   "execution_count": null,
   "id": "52d6a0dc",
   "metadata": {},
   "outputs": [],
   "source": [
    "%%sql\n",
    "CREATE VIEW IF NOT EXISTS DisneyMovies AS\n",
    "SELECT * FROM Movie WHERE studioName = 'disney';\n"
   ]
  },
  {
   "cell_type": "code",
   "execution_count": null,
   "id": "c0c6ac7d",
   "metadata": {},
   "outputs": [],
   "source": [
    "%%sql\n",
    "SELECT * FROM DisneyMovies;"
   ]
  },
  {
   "cell_type": "markdown",
   "id": "a78d7b86",
   "metadata": {},
   "source": [
    "## Transactions note\n",
    "\n",
    "SQLite supports transactions (`BEGIN`, `COMMIT`, `ROLLBACK`). In Colab, the SQL magic executes statements in a transaction context per cell; for multi-statement transaction control use explicit `BEGIN`/`COMMIT`."
   ]
  }
 ],
 "metadata": {
  "title": "Movie Database Example - UMD DATA605"
 },
 "nbformat": 4,
 "nbformat_minor": 5
}
