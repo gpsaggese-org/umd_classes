{
 "cells": [
  {
   "cell_type": "markdown",
   "id": "3c1f84a5",
   "metadata": {
    "id": "3c1f84a5"
   },
   "source": [
    "# Relational Model (UMD DATA605)\n",
    "\n",
    "This notebook presents the **relational model** concepts extracted from the lecture PDF: definitions, primary & foreign keys, and simple examples executed with SQLite in Colab."
   ]
  },
  {
   "cell_type": "code",
   "execution_count": 1,
   "id": "e3cec637",
   "metadata": {
    "id": "e3cec637"
   },
   "outputs": [
    {
     "name": "stdout",
     "output_type": "stream",
     "text": [
      "\r\n",
      "\u001b[1m[\u001b[0m\u001b[34;49mnotice\u001b[0m\u001b[1;39;49m]\u001b[0m\u001b[39;49m A new release of pip is available: \u001b[0m\u001b[31;49m25.1.1\u001b[0m\u001b[39;49m -> \u001b[0m\u001b[32;49m25.2\u001b[0m\r\n",
      "\u001b[1m[\u001b[0m\u001b[34;49mnotice\u001b[0m\u001b[1;39;49m]\u001b[0m\u001b[39;49m To update, run: \u001b[0m\u001b[32;49mpip install --upgrade pip\u001b[0m\r\n"
     ]
    }
   ],
   "source": [
    "# Setup for running SQL cells in Colab\n",
    "# Run this cell first in Colab. It installs ipython-sql and connects to a local SQLite database.\n",
    "# In Colab, you may need to restart the runtime once after installation, but usually this works in one go.\n",
    "!pip install -q ipython-sql sqlalchemy\n",
    "%load_ext sql\n",
    "# Create a local sqlite database file so the data persists within the Colab session\n",
    "%sql sqlite:///relational_db.sqlite\n"
   ]
  },
  {
   "cell_type": "markdown",
   "id": "20c56244",
   "metadata": {
    "id": "20c56244"
   },
   "source": [
    "## Relational Model: Overview\n",
    "\n",
    "- Introduced by Ted Codd.\n",
    "- A relational DB consists of a collection of tables (relations).\n",
    "- Each table has a schema and rows (tuples).\n",
    "\n",
    "### UML / Schema diagrams\n",
    "\n",
    "Insert the UML diagram(s) referenced in the slides below (placeholder):\n",
    "\n",
    "![UML Diagram: University DB](# \"Insert UML diagram of University DB here\")\n",
    "\n",
    "> Replace the placeholder above with an image file using Colab file upload or a URL."
   ]
  },
  {
   "cell_type": "markdown",
   "id": "34140dfe",
   "metadata": {
    "id": "34140dfe"
   },
   "source": [
    "## Primary Key and Foreign Key examples\n",
    "\n",
    "We will create three simple tables: `department`, `instructor`, and `course`. The `instructor` table uses `id` as primary key and references `department` via `dept_name` (a foreign key)."
   ]
  },
  {
   "cell_type": "code",
   "execution_count": 2,
   "id": "0e11a543",
   "metadata": {
    "id": "0e11a543"
   },
   "outputs": [
    {
     "name": "stdout",
     "output_type": "stream",
     "text": [
      " * sqlite:///relational_db.sqlite\n",
      "Done.\n",
      "Done.\n",
      "Done.\n"
     ]
    },
    {
     "data": {
      "text/plain": [
       "[]"
      ]
     },
     "execution_count": 2,
     "metadata": {},
     "output_type": "execute_result"
    }
   ],
   "source": [
    "%%sql\n",
    "-- Create tables: department, instructor, course\n",
    "CREATE TABLE IF NOT EXISTS department (\n",
    "    dept_name TEXT PRIMARY KEY,\n",
    "    building TEXT,\n",
    "    budget INTEGER\n",
    ");\n",
    "\n",
    "CREATE TABLE IF NOT EXISTS instructor (\n",
    "    id INTEGER PRIMARY KEY,\n",
    "    name TEXT NOT NULL,\n",
    "    dept_name TEXT,\n",
    "    salary INTEGER,\n",
    "    FOREIGN KEY(dept_name) REFERENCES department(dept_name)\n",
    ");\n",
    "\n",
    "CREATE TABLE IF NOT EXISTS course (\n",
    "    course_id TEXT PRIMARY KEY,\n",
    "    title TEXT,\n",
    "    dept_name TEXT,\n",
    "    credits INTEGER,\n",
    "    FOREIGN KEY(dept_name) REFERENCES department(dept_name)\n",
    ");\n"
   ]
  },
  {
   "cell_type": "code",
   "execution_count": 3,
   "id": "cda1cf23",
   "metadata": {
    "id": "cda1cf23"
   },
   "outputs": [
    {
     "name": "stdout",
     "output_type": "stream",
     "text": [
      " * sqlite:///relational_db.sqlite\n",
      "0 rows affected.\n",
      "0 rows affected.\n",
      "0 rows affected.\n",
      "0 rows affected.\n",
      "0 rows affected.\n",
      "0 rows affected.\n",
      "0 rows affected.\n",
      "0 rows affected.\n",
      "0 rows affected.\n"
     ]
    },
    {
     "data": {
      "text/plain": [
       "[]"
      ]
     },
     "execution_count": 3,
     "metadata": {},
     "output_type": "execute_result"
    }
   ],
   "source": [
    "%%sql\n",
    "-- Insert sample data into department, instructor, and course\n",
    "INSERT OR IGNORE INTO department VALUES ('Computer Science','Hampden', 500000);\n",
    "INSERT OR IGNORE INTO department VALUES ('Physics','Maxwell', 300000);\n",
    "INSERT OR IGNORE INTO department VALUES ('Music','Britten', 150000);\n",
    "\n",
    "INSERT OR IGNORE INTO instructor VALUES (1, 'Alice Smith', 'Computer Science', 90000);\n",
    "INSERT OR IGNORE INTO instructor VALUES (2, 'Bob Jones', 'Physics', 80000);\n",
    "INSERT OR IGNORE INTO instructor VALUES (3, 'Carol Lee', 'Music', 70000);\n",
    "\n",
    "INSERT OR IGNORE INTO course VALUES ('DATA-605','Big Data Systems','Computer Science',4);\n",
    "INSERT OR IGNORE INTO course VALUES ('PHYS-101','Intro Physics','Physics',3);\n",
    "INSERT OR IGNORE INTO course VALUES ('MUS-200','Advanced Music','Music',3);\n"
   ]
  },
  {
   "cell_type": "markdown",
   "id": "e16e1900",
   "metadata": {
    "id": "e16e1900"
   },
   "source": [
    "### Inspect tables"
   ]
  },
  {
   "cell_type": "code",
   "execution_count": 4,
   "id": "462a38f3",
   "metadata": {
    "id": "462a38f3"
   },
   "outputs": [
    {
     "name": "stdout",
     "output_type": "stream",
     "text": [
      " * sqlite:///relational_db.sqlite\n",
      "Done.\n"
     ]
    },
    {
     "ename": "KeyError",
     "evalue": "'DEFAULT'",
     "output_type": "error",
     "traceback": [
      "\u001b[0;31m---------------------------------------------------------------------------\u001b[0m",
      "\u001b[0;31mKeyError\u001b[0m                                  Traceback (most recent call last)",
      "Cell \u001b[0;32mIn[4], line 1\u001b[0m\n\u001b[0;32m----> 1\u001b[0m get_ipython()\u001b[38;5;241m.\u001b[39mrun_cell_magic(\u001b[38;5;124m'\u001b[39m\u001b[38;5;124msql\u001b[39m\u001b[38;5;124m'\u001b[39m, \u001b[38;5;124m'\u001b[39m\u001b[38;5;124m'\u001b[39m, \u001b[38;5;124m'\u001b[39m\u001b[38;5;124mSELECT * FROM department;\u001b[39m\u001b[38;5;130;01m\\n\u001b[39;00m\u001b[38;5;124m'\u001b[39m)\n",
      "File \u001b[0;32m/opt/anaconda3/lib/python3.12/site-packages/IPython/core/interactiveshell.py:2541\u001b[0m, in \u001b[0;36mInteractiveShell.run_cell_magic\u001b[0;34m(self, magic_name, line, cell)\u001b[0m\n\u001b[1;32m   2539\u001b[0m \u001b[38;5;28;01mwith\u001b[39;00m \u001b[38;5;28mself\u001b[39m\u001b[38;5;241m.\u001b[39mbuiltin_trap:\n\u001b[1;32m   2540\u001b[0m     args \u001b[38;5;241m=\u001b[39m (magic_arg_s, cell)\n\u001b[0;32m-> 2541\u001b[0m     result \u001b[38;5;241m=\u001b[39m fn(\u001b[38;5;241m*\u001b[39margs, \u001b[38;5;241m*\u001b[39m\u001b[38;5;241m*\u001b[39mkwargs)\n\u001b[1;32m   2543\u001b[0m \u001b[38;5;66;03m# The code below prevents the output from being displayed\u001b[39;00m\n\u001b[1;32m   2544\u001b[0m \u001b[38;5;66;03m# when using magics with decorator @output_can_be_silenced\u001b[39;00m\n\u001b[1;32m   2545\u001b[0m \u001b[38;5;66;03m# when the last Python token in the expression is a ';'.\u001b[39;00m\n\u001b[1;32m   2546\u001b[0m \u001b[38;5;28;01mif\u001b[39;00m \u001b[38;5;28mgetattr\u001b[39m(fn, magic\u001b[38;5;241m.\u001b[39mMAGIC_OUTPUT_CAN_BE_SILENCED, \u001b[38;5;28;01mFalse\u001b[39;00m):\n",
      "File \u001b[0;32m/opt/anaconda3/lib/python3.12/site-packages/sql/magic.py:219\u001b[0m, in \u001b[0;36mSqlMagic.execute\u001b[0;34m(self, line, cell, local_ns)\u001b[0m\n\u001b[1;32m    216\u001b[0m     \u001b[38;5;28;01mreturn\u001b[39;00m\n\u001b[1;32m    218\u001b[0m \u001b[38;5;28;01mtry\u001b[39;00m:\n\u001b[0;32m--> 219\u001b[0m     result \u001b[38;5;241m=\u001b[39m sql\u001b[38;5;241m.\u001b[39mrun\u001b[38;5;241m.\u001b[39mrun(conn, parsed[\u001b[38;5;124m\"\u001b[39m\u001b[38;5;124msql\u001b[39m\u001b[38;5;124m\"\u001b[39m], \u001b[38;5;28mself\u001b[39m, user_ns)\n\u001b[1;32m    221\u001b[0m     \u001b[38;5;28;01mif\u001b[39;00m (\n\u001b[1;32m    222\u001b[0m         result \u001b[38;5;129;01mis\u001b[39;00m \u001b[38;5;129;01mnot\u001b[39;00m \u001b[38;5;28;01mNone\u001b[39;00m\n\u001b[1;32m    223\u001b[0m         \u001b[38;5;129;01mand\u001b[39;00m \u001b[38;5;129;01mnot\u001b[39;00m \u001b[38;5;28misinstance\u001b[39m(result, \u001b[38;5;28mstr\u001b[39m)\n\u001b[0;32m   (...)\u001b[0m\n\u001b[1;32m    226\u001b[0m         \u001b[38;5;66;03m# Instead of returning values, set variables directly in the\u001b[39;00m\n\u001b[1;32m    227\u001b[0m         \u001b[38;5;66;03m# user's namespace. Variable names given by column names\u001b[39;00m\n\u001b[1;32m    229\u001b[0m         \u001b[38;5;28;01mif\u001b[39;00m \u001b[38;5;28mself\u001b[39m\u001b[38;5;241m.\u001b[39mautopandas:\n",
      "File \u001b[0;32m/opt/anaconda3/lib/python3.12/site-packages/sql/run.py:374\u001b[0m, in \u001b[0;36mrun\u001b[0;34m(conn, sql, config, user_namespace)\u001b[0m\n\u001b[1;32m    372\u001b[0m     \u001b[38;5;28;01mif\u001b[39;00m result \u001b[38;5;129;01mand\u001b[39;00m config\u001b[38;5;241m.\u001b[39mfeedback:\n\u001b[1;32m    373\u001b[0m         \u001b[38;5;28mprint\u001b[39m(interpret_rowcount(result\u001b[38;5;241m.\u001b[39mrowcount))\n\u001b[0;32m--> 374\u001b[0m resultset \u001b[38;5;241m=\u001b[39m ResultSet(result, config)\n\u001b[1;32m    375\u001b[0m \u001b[38;5;28;01mif\u001b[39;00m config\u001b[38;5;241m.\u001b[39mautopandas:\n\u001b[1;32m    376\u001b[0m     \u001b[38;5;28;01mreturn\u001b[39;00m resultset\u001b[38;5;241m.\u001b[39mDataFrame()\n",
      "File \u001b[0;32m/opt/anaconda3/lib/python3.12/site-packages/sql/run.py:116\u001b[0m, in \u001b[0;36mResultSet.__init__\u001b[0;34m(self, sqlaproxy, config)\u001b[0m\n\u001b[1;32m    114\u001b[0m         \u001b[38;5;28mlist\u001b[39m\u001b[38;5;241m.\u001b[39m\u001b[38;5;21m__init__\u001b[39m(\u001b[38;5;28mself\u001b[39m, sqlaproxy\u001b[38;5;241m.\u001b[39mfetchall())\n\u001b[1;32m    115\u001b[0m     \u001b[38;5;28mself\u001b[39m\u001b[38;5;241m.\u001b[39mfield_names \u001b[38;5;241m=\u001b[39m unduplicate_field_names(\u001b[38;5;28mself\u001b[39m\u001b[38;5;241m.\u001b[39mkeys)\n\u001b[0;32m--> 116\u001b[0m     \u001b[38;5;28mself\u001b[39m\u001b[38;5;241m.\u001b[39mpretty \u001b[38;5;241m=\u001b[39m PrettyTable(\u001b[38;5;28mself\u001b[39m\u001b[38;5;241m.\u001b[39mfield_names, style\u001b[38;5;241m=\u001b[39mprettytable\u001b[38;5;241m.\u001b[39m\u001b[38;5;18m__dict__\u001b[39m[config\u001b[38;5;241m.\u001b[39mstyle\u001b[38;5;241m.\u001b[39mupper()])\n\u001b[1;32m    117\u001b[0m \u001b[38;5;28;01melse\u001b[39;00m:\n\u001b[1;32m    118\u001b[0m     \u001b[38;5;28mlist\u001b[39m\u001b[38;5;241m.\u001b[39m\u001b[38;5;21m__init__\u001b[39m(\u001b[38;5;28mself\u001b[39m, [])\n",
      "\u001b[0;31mKeyError\u001b[0m: 'DEFAULT'"
     ]
    }
   ],
   "source": [
    "%%sql\n",
    "SELECT * FROM department;"
   ]
  },
  {
   "cell_type": "code",
   "execution_count": null,
   "id": "b5c06bf1",
   "metadata": {
    "id": "b5c06bf1"
   },
   "outputs": [],
   "source": [
    "%%sql\n",
    "SELECT * FROM instructor;"
   ]
  },
  {
   "cell_type": "code",
   "execution_count": null,
   "id": "71851f5f",
   "metadata": {
    "id": "71851f5f"
   },
   "outputs": [],
   "source": [
    "%%sql\n",
    "SELECT * FROM course;"
   ]
  },
  {
   "cell_type": "markdown",
   "id": "2bab8db1",
   "metadata": {
    "id": "2bab8db1"
   },
   "source": [
    "## Notes\n",
    "- `PRIMARY KEY` must be unique and non-null.\n",
    "- `FOREIGN KEY` ensures referential integrity: values must match an existing primary key value in the referenced table.\n",
    "- In SQLite, foreign key enforcement is disabled by default for older versions; modern builds used in Colab enable it, but you can enable explicitly with `PRAGMA foreign_keys = ON;` if needed."
   ]
  },
  {
   "cell_type": "code",
   "execution_count": null,
   "id": "10abe2a3",
   "metadata": {
    "id": "10abe2a3"
   },
   "outputs": [],
   "source": [
    "%%sql\n",
    "PRAGMA foreign_keys = ON;"
   ]
  }
 ],
 "metadata": {
  "colab": {
   "provenance": []
  },
  "kernelspec": {
   "display_name": "Python 3",
   "name": "python3"
  },
  "language_info": {
   "codemirror_mode": {
    "name": "ipython",
    "version": 3
   },
   "file_extension": ".py",
   "mimetype": "text/x-python",
   "name": "python",
   "nbconvert_exporter": "python",
   "pygments_lexer": "ipython3",
   "version": "3.12.7"
  },
  "title": "Relational Model - UMD DATA605"
 },
 "nbformat": 4,
 "nbformat_minor": 5
}