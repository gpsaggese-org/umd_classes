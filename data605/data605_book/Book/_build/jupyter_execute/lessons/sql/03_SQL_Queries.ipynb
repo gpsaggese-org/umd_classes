{
 "cells": [
  {
   "cell_type": "markdown",
   "id": "ce8f1ed3",
   "metadata": {},
   "source": [
    "# SQL Queries: Joins, Subqueries, WITH, Aggregation\n",
    "\n",
    "This notebook demonstrates multi-table queries, joins (including outer joins), nested subqueries, WITH (CTE), and ranking examples using SQLite."
   ]
  },
  {
   "cell_type": "code",
   "execution_count": 1,
   "id": "ebd1b1b9",
   "metadata": {},
   "outputs": [],
   "source": [
    "# Setup for running SQL cells in Colab\n",
    "# Run this cell first in Colab. It installs ipython-sql and connects to a local SQLite database.\n",
    "# In Colab, you may need to restart the runtime once after installation, but usually this works in one go.\n",
    "!pip install -q ipython-sql sqlalchemy\n",
    "%load_ext sql\n",
    "# Create a local sqlite database file so the data persists within the Colab session\n",
    "%sql sqlite:///relational_db.sqlite\n"
   ]
  },
  {
   "cell_type": "markdown",
   "id": "7b4f7007",
   "metadata": {},
   "source": [
    "## Create auxiliary tables for examples: movies, starsIn, movieExec, movieStar"
   ]
  },
  {
   "cell_type": "code",
   "execution_count": 2,
   "id": "3012493e",
   "metadata": {},
   "outputs": [
    {
     "name": "stdout",
     "output_type": "stream",
     "text": [
      " * sqlite:///relational_db.sqlite\n",
      "Done.\n",
      "Done.\n",
      "Done.\n",
      "Done.\n"
     ]
    },
    {
     "data": {
      "text/plain": [
       "[]"
      ]
     },
     "execution_count": 2,
     "metadata": {},
     "output_type": "execute_result"
    }
   ],
   "source": [
    "%%sql\n",
    "CREATE TABLE IF NOT EXISTS movie (\n",
    "    title TEXT,\n",
    "    year INTEGER,\n",
    "    length INTEGER,\n",
    "    inColor INTEGER,\n",
    "    studioName TEXT,\n",
    "    producerC INTEGER,\n",
    "    PRIMARY KEY(title, year)\n",
    ");\n",
    "\n",
    "CREATE TABLE IF NOT EXISTS starsIn (\n",
    "    movieTitle TEXT,\n",
    "    movieYear INTEGER,\n",
    "    starName TEXT\n",
    ");\n",
    "\n",
    "CREATE TABLE IF NOT EXISTS movieExec (\n",
    "    name TEXT,\n",
    "    address TEXT,\n",
    "    certno INTEGER PRIMARY KEY,\n",
    "    netWorth INTEGER\n",
    ");\n",
    "\n",
    "CREATE TABLE IF NOT EXISTS movieStar (\n",
    "    name TEXT PRIMARY KEY,\n",
    "    address TEXT,\n",
    "    gender TEXT,\n",
    "    birthdate TEXT\n",
    ");\n"
   ]
  },
  {
   "cell_type": "code",
   "execution_count": 3,
   "id": "bdb4f768",
   "metadata": {},
   "outputs": [
    {
     "name": "stdout",
     "output_type": "stream",
     "text": [
      " * sqlite:///relational_db.sqlite\n",
      "1 rows affected.\n",
      "1 rows affected.\n",
      "1 rows affected.\n",
      "1 rows affected.\n",
      "1 rows affected.\n",
      "1 rows affected.\n",
      "1 rows affected.\n",
      "1 rows affected.\n",
      "1 rows affected.\n"
     ]
    },
    {
     "data": {
      "text/plain": [
       "[]"
      ]
     },
     "execution_count": 3,
     "metadata": {},
     "output_type": "execute_result"
    }
   ],
   "source": [
    "%%sql\n",
    "-- Insert sample data\n",
    "INSERT OR IGNORE INTO movie VALUES ('King Kong', 2005, 187, 1, 'disney', 111);\n",
    "INSERT OR IGNORE INTO movie VALUES ('A Short Film', 2010, 25, 0, 'indie', 112);\n",
    "INSERT OR IGNORE INTO movie VALUES ('Epic Tale', 1998, 150, 1, 'warner', 111);\n",
    "\n",
    "INSERT OR IGNORE INTO movieExec VALUES ('Exec A','Some Address',111,200000);\n",
    "INSERT OR IGNORE INTO movieExec VALUES ('Exec B','Other Address',112,90000);\n",
    "\n",
    "INSERT OR IGNORE INTO movieStar VALUES ('Naomi Watts','Unknown','F','1971-09-28');\n",
    "INSERT OR IGNORE INTO movieStar VALUES ('Actor X','Addr','M','1980-05-05');\n",
    "\n",
    "INSERT OR IGNORE INTO starsIn VALUES ('King Kong',2005,'Naomi Watts');\n",
    "INSERT OR IGNORE INTO starsIn VALUES ('Epic Tale',1998,'Actor X');\n"
   ]
  },
  {
   "cell_type": "markdown",
   "id": "d8793e8c",
   "metadata": {},
   "source": [
    "## Multi-table join example\n",
    "\n",
    "Find movie title, year and producer name by joining `movie` and `movieExec`."
   ]
  },
  {
   "cell_type": "code",
   "execution_count": 4,
   "id": "164b928e",
   "metadata": {},
   "outputs": [
    {
     "name": "stdout",
     "output_type": "stream",
     "text": [
      " * sqlite:///relational_db.sqlite\n",
      "Done.\n"
     ]
    },
    {
     "ename": "KeyError",
     "evalue": "'DEFAULT'",
     "output_type": "error",
     "traceback": [
      "\u001b[0;31m---------------------------------------------------------------------------\u001b[0m",
      "\u001b[0;31mKeyError\u001b[0m                                  Traceback (most recent call last)",
      "Cell \u001b[0;32mIn[4], line 1\u001b[0m\n\u001b[0;32m----> 1\u001b[0m get_ipython()\u001b[38;5;241m.\u001b[39mrun_cell_magic(\u001b[38;5;124m'\u001b[39m\u001b[38;5;124msql\u001b[39m\u001b[38;5;124m'\u001b[39m, \u001b[38;5;124m'\u001b[39m\u001b[38;5;124m'\u001b[39m, \u001b[38;5;124m'\u001b[39m\u001b[38;5;124mSELECT m.title, m.year, me.name AS producerName\u001b[39m\u001b[38;5;130;01m\\n\u001b[39;00m\u001b[38;5;124mFROM movie m JOIN movieExec me ON m.producerC = me.certno;\u001b[39m\u001b[38;5;130;01m\\n\u001b[39;00m\u001b[38;5;124m'\u001b[39m)\n",
      "File \u001b[0;32m/opt/anaconda3/lib/python3.12/site-packages/IPython/core/interactiveshell.py:2541\u001b[0m, in \u001b[0;36mInteractiveShell.run_cell_magic\u001b[0;34m(self, magic_name, line, cell)\u001b[0m\n\u001b[1;32m   2539\u001b[0m \u001b[38;5;28;01mwith\u001b[39;00m \u001b[38;5;28mself\u001b[39m\u001b[38;5;241m.\u001b[39mbuiltin_trap:\n\u001b[1;32m   2540\u001b[0m     args \u001b[38;5;241m=\u001b[39m (magic_arg_s, cell)\n\u001b[0;32m-> 2541\u001b[0m     result \u001b[38;5;241m=\u001b[39m fn(\u001b[38;5;241m*\u001b[39margs, \u001b[38;5;241m*\u001b[39m\u001b[38;5;241m*\u001b[39mkwargs)\n\u001b[1;32m   2543\u001b[0m \u001b[38;5;66;03m# The code below prevents the output from being displayed\u001b[39;00m\n\u001b[1;32m   2544\u001b[0m \u001b[38;5;66;03m# when using magics with decorator @output_can_be_silenced\u001b[39;00m\n\u001b[1;32m   2545\u001b[0m \u001b[38;5;66;03m# when the last Python token in the expression is a ';'.\u001b[39;00m\n\u001b[1;32m   2546\u001b[0m \u001b[38;5;28;01mif\u001b[39;00m \u001b[38;5;28mgetattr\u001b[39m(fn, magic\u001b[38;5;241m.\u001b[39mMAGIC_OUTPUT_CAN_BE_SILENCED, \u001b[38;5;28;01mFalse\u001b[39;00m):\n",
      "File \u001b[0;32m/opt/anaconda3/lib/python3.12/site-packages/sql/magic.py:219\u001b[0m, in \u001b[0;36mSqlMagic.execute\u001b[0;34m(self, line, cell, local_ns)\u001b[0m\n\u001b[1;32m    216\u001b[0m     \u001b[38;5;28;01mreturn\u001b[39;00m\n\u001b[1;32m    218\u001b[0m \u001b[38;5;28;01mtry\u001b[39;00m:\n\u001b[0;32m--> 219\u001b[0m     result \u001b[38;5;241m=\u001b[39m sql\u001b[38;5;241m.\u001b[39mrun\u001b[38;5;241m.\u001b[39mrun(conn, parsed[\u001b[38;5;124m\"\u001b[39m\u001b[38;5;124msql\u001b[39m\u001b[38;5;124m\"\u001b[39m], \u001b[38;5;28mself\u001b[39m, user_ns)\n\u001b[1;32m    221\u001b[0m     \u001b[38;5;28;01mif\u001b[39;00m (\n\u001b[1;32m    222\u001b[0m         result \u001b[38;5;129;01mis\u001b[39;00m \u001b[38;5;129;01mnot\u001b[39;00m \u001b[38;5;28;01mNone\u001b[39;00m\n\u001b[1;32m    223\u001b[0m         \u001b[38;5;129;01mand\u001b[39;00m \u001b[38;5;129;01mnot\u001b[39;00m \u001b[38;5;28misinstance\u001b[39m(result, \u001b[38;5;28mstr\u001b[39m)\n\u001b[0;32m   (...)\u001b[0m\n\u001b[1;32m    226\u001b[0m         \u001b[38;5;66;03m# Instead of returning values, set variables directly in the\u001b[39;00m\n\u001b[1;32m    227\u001b[0m         \u001b[38;5;66;03m# user's namespace. Variable names given by column names\u001b[39;00m\n\u001b[1;32m    229\u001b[0m         \u001b[38;5;28;01mif\u001b[39;00m \u001b[38;5;28mself\u001b[39m\u001b[38;5;241m.\u001b[39mautopandas:\n",
      "File \u001b[0;32m/opt/anaconda3/lib/python3.12/site-packages/sql/run.py:374\u001b[0m, in \u001b[0;36mrun\u001b[0;34m(conn, sql, config, user_namespace)\u001b[0m\n\u001b[1;32m    372\u001b[0m     \u001b[38;5;28;01mif\u001b[39;00m result \u001b[38;5;129;01mand\u001b[39;00m config\u001b[38;5;241m.\u001b[39mfeedback:\n\u001b[1;32m    373\u001b[0m         \u001b[38;5;28mprint\u001b[39m(interpret_rowcount(result\u001b[38;5;241m.\u001b[39mrowcount))\n\u001b[0;32m--> 374\u001b[0m resultset \u001b[38;5;241m=\u001b[39m ResultSet(result, config)\n\u001b[1;32m    375\u001b[0m \u001b[38;5;28;01mif\u001b[39;00m config\u001b[38;5;241m.\u001b[39mautopandas:\n\u001b[1;32m    376\u001b[0m     \u001b[38;5;28;01mreturn\u001b[39;00m resultset\u001b[38;5;241m.\u001b[39mDataFrame()\n",
      "File \u001b[0;32m/opt/anaconda3/lib/python3.12/site-packages/sql/run.py:116\u001b[0m, in \u001b[0;36mResultSet.__init__\u001b[0;34m(self, sqlaproxy, config)\u001b[0m\n\u001b[1;32m    114\u001b[0m         \u001b[38;5;28mlist\u001b[39m\u001b[38;5;241m.\u001b[39m\u001b[38;5;21m__init__\u001b[39m(\u001b[38;5;28mself\u001b[39m, sqlaproxy\u001b[38;5;241m.\u001b[39mfetchall())\n\u001b[1;32m    115\u001b[0m     \u001b[38;5;28mself\u001b[39m\u001b[38;5;241m.\u001b[39mfield_names \u001b[38;5;241m=\u001b[39m unduplicate_field_names(\u001b[38;5;28mself\u001b[39m\u001b[38;5;241m.\u001b[39mkeys)\n\u001b[0;32m--> 116\u001b[0m     \u001b[38;5;28mself\u001b[39m\u001b[38;5;241m.\u001b[39mpretty \u001b[38;5;241m=\u001b[39m PrettyTable(\u001b[38;5;28mself\u001b[39m\u001b[38;5;241m.\u001b[39mfield_names, style\u001b[38;5;241m=\u001b[39mprettytable\u001b[38;5;241m.\u001b[39m\u001b[38;5;18m__dict__\u001b[39m[config\u001b[38;5;241m.\u001b[39mstyle\u001b[38;5;241m.\u001b[39mupper()])\n\u001b[1;32m    117\u001b[0m \u001b[38;5;28;01melse\u001b[39;00m:\n\u001b[1;32m    118\u001b[0m     \u001b[38;5;28mlist\u001b[39m\u001b[38;5;241m.\u001b[39m\u001b[38;5;21m__init__\u001b[39m(\u001b[38;5;28mself\u001b[39m, [])\n",
      "\u001b[0;31mKeyError\u001b[0m: 'DEFAULT'"
     ]
    }
   ],
   "source": [
    "%%sql\n",
    "SELECT m.title, m.year, me.name AS producerName\n",
    "FROM movie m JOIN movieExec me ON m.producerC = me.certno;"
   ]
  },
  {
   "cell_type": "markdown",
   "id": "33cf21c5",
   "metadata": {},
   "source": [
    "### Count stars per movie (grouping + LEFT OUTER JOIN)"
   ]
  },
  {
   "cell_type": "code",
   "execution_count": null,
   "id": "18785499",
   "metadata": {},
   "outputs": [],
   "source": [
    "%%sql\n",
    "SELECT m.title, m.year, COUNT(si.starName) AS num_stars\n",
    "FROM movie m LEFT JOIN starsIn si\n",
    "    ON m.title = si.movieTitle AND m.year = si.movieYear\n",
    "GROUP BY m.title, m.year;\n"
   ]
  },
  {
   "cell_type": "markdown",
   "id": "38bb3080",
   "metadata": {},
   "source": [
    "## Nested / Correlated subquery example\n",
    "\n",
    "Find movies with at most 5 stars (here we only have up to 1-2 in sample data)"
   ]
  },
  {
   "cell_type": "code",
   "execution_count": null,
   "id": "1c2ac086",
   "metadata": {},
   "outputs": [],
   "source": [
    "%%sql\n",
    "SELECT m.title, m.year\n",
    "FROM movie m\n",
    "WHERE 5 >= (\n",
    "    SELECT COUNT(*) FROM starsIn si\n",
    "    WHERE si.movieTitle = m.title AND si.movieYear = m.year\n",
    ");\n"
   ]
  },
  {
   "cell_type": "markdown",
   "id": "f681520d",
   "metadata": {},
   "source": [
    "## WITH clause (Common Table Expression) example"
   ]
  },
  {
   "cell_type": "code",
   "execution_count": null,
   "id": "a99a9ad3",
   "metadata": {},
   "outputs": [],
   "source": [
    "%%sql\n",
    "WITH avg_length AS (\n",
    "    SELECT AVG(length) AS avg_len FROM movie\n",
    ")\n",
    "SELECT title, year, length FROM movie WHERE length > (SELECT avg_len FROM avg_length);\n"
   ]
  },
  {
   "cell_type": "markdown",
   "id": "66a83344",
   "metadata": {},
   "source": [
    "## Ranking example using correlated subquery\n",
    "\n",
    "Rank movies by length (1 = longest). Note: SQLite lacks a window `RANK()` prior to certain versions — this demonstrates correlated subquery ranking."
   ]
  },
  {
   "cell_type": "code",
   "execution_count": null,
   "id": "87ae3481",
   "metadata": {},
   "outputs": [],
   "source": [
    "%%sql\n",
    "SELECT title, year,\n",
    "    (SELECT COUNT(*) FROM movie m2 WHERE m2.length >= m1.length) AS rank\n",
    "FROM movie m1\n",
    "ORDER BY rank;\n"
   ]
  }
 ],
 "metadata": {
  "language_info": {
   "codemirror_mode": {
    "name": "ipython",
    "version": 3
   },
   "file_extension": ".py",
   "mimetype": "text/x-python",
   "name": "python",
   "nbconvert_exporter": "python",
   "pygments_lexer": "ipython3",
   "version": "3.12.7"
  },
  "title": "SQL Queries - UMD DATA605"
 },
 "nbformat": 4,
 "nbformat_minor": 5
}