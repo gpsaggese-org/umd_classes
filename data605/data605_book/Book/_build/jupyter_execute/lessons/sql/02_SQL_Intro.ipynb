{
 "cells": [
  {
   "cell_type": "markdown",
   "id": "47aabd5d",
   "metadata": {},
   "source": [
    "# SQL Intro (DDL, DML, DQL)\n",
    "\n",
    "This notebook covers Data Definition Language (DDL), Data Manipulation Language (DML), and basic queries (SELECT, WHERE, NULL behavior, GROUP BY, HAVING)."
   ]
  },
  {
   "cell_type": "code",
   "execution_count": 1,
   "id": "c1f8ba9c",
   "metadata": {},
   "outputs": [],
   "source": [
    "# Setup for running SQL cells in Colab\n",
    "# Run this cell first in Colab. It installs ipython-sql and connects to a local SQLite database.\n",
    "# In Colab, you may need to restart the runtime once after installation, but usually this works in one go.\n",
    "!pip install -q ipython-sql sqlalchemy\n",
    "%load_ext sql\n",
    "# Create a local sqlite database file so the data persists within the Colab session\n",
    "%sql sqlite:///relational_db.sqlite\n"
   ]
  },
  {
   "cell_type": "markdown",
   "id": "4c267d60",
   "metadata": {},
   "source": [
    "## CREATE TABLE (DDL) example\n",
    "\n",
    "We'll create a single `student` table to demonstrate `CREATE TABLE`, `INSERT`, `UPDATE`, and `DELETE`."
   ]
  },
  {
   "cell_type": "code",
   "execution_count": 2,
   "id": "3a853d72",
   "metadata": {},
   "outputs": [
    {
     "name": "stdout",
     "output_type": "stream",
     "text": [
      " * sqlite:///relational_db.sqlite\n",
      "Done.\n"
     ]
    },
    {
     "data": {
      "text/plain": [
       "[]"
      ]
     },
     "execution_count": 2,
     "metadata": {},
     "output_type": "execute_result"
    }
   ],
   "source": [
    "%%sql\n",
    "CREATE TABLE IF NOT EXISTS student (\n",
    "    student_id INTEGER PRIMARY KEY,\n",
    "    name TEXT NOT NULL,\n",
    "    dept_name TEXT,\n",
    "    tot_cred INTEGER DEFAULT 0\n",
    ");\n"
   ]
  },
  {
   "cell_type": "code",
   "execution_count": 3,
   "id": "458c54b5",
   "metadata": {},
   "outputs": [
    {
     "name": "stdout",
     "output_type": "stream",
     "text": [
      " * sqlite:///relational_db.sqlite\n",
      "1 rows affected.\n",
      "1 rows affected.\n",
      "1 rows affected.\n"
     ]
    },
    {
     "data": {
      "text/plain": [
       "[]"
      ]
     },
     "execution_count": 3,
     "metadata": {},
     "output_type": "execute_result"
    }
   ],
   "source": [
    "%%sql\n",
    "-- Insert sample students\n",
    "INSERT OR IGNORE INTO student VALUES (101, 'David Kim', 'Computer Science', 120);\n",
    "INSERT OR IGNORE INTO student VALUES (102, 'Eva Green', 'Music', 150);\n",
    "INSERT OR IGNORE INTO student VALUES (103, 'Frank Li', NULL, 30);\n"
   ]
  },
  {
   "cell_type": "markdown",
   "id": "73bda876",
   "metadata": {},
   "source": [
    "### SELECT and WHERE examples"
   ]
  },
  {
   "cell_type": "code",
   "execution_count": 4,
   "id": "dc013774",
   "metadata": {},
   "outputs": [
    {
     "name": "stdout",
     "output_type": "stream",
     "text": [
      " * sqlite:///relational_db.sqlite\n",
      "Done.\n"
     ]
    },
    {
     "ename": "KeyError",
     "evalue": "'DEFAULT'",
     "output_type": "error",
     "traceback": [
      "\u001b[0;31m---------------------------------------------------------------------------\u001b[0m",
      "\u001b[0;31mKeyError\u001b[0m                                  Traceback (most recent call last)",
      "Cell \u001b[0;32mIn[4], line 1\u001b[0m\n\u001b[0;32m----> 1\u001b[0m get_ipython()\u001b[38;5;241m.\u001b[39mrun_cell_magic(\u001b[38;5;124m'\u001b[39m\u001b[38;5;124msql\u001b[39m\u001b[38;5;124m'\u001b[39m, \u001b[38;5;124m'\u001b[39m\u001b[38;5;124m'\u001b[39m, \u001b[38;5;124m'\u001b[39m\u001b[38;5;124mSELECT student_id, name, dept_name, tot_cred FROM student;\u001b[39m\u001b[38;5;130;01m\\n\u001b[39;00m\u001b[38;5;124m'\u001b[39m)\n",
      "File \u001b[0;32m/opt/anaconda3/lib/python3.12/site-packages/IPython/core/interactiveshell.py:2541\u001b[0m, in \u001b[0;36mInteractiveShell.run_cell_magic\u001b[0;34m(self, magic_name, line, cell)\u001b[0m\n\u001b[1;32m   2539\u001b[0m \u001b[38;5;28;01mwith\u001b[39;00m \u001b[38;5;28mself\u001b[39m\u001b[38;5;241m.\u001b[39mbuiltin_trap:\n\u001b[1;32m   2540\u001b[0m     args \u001b[38;5;241m=\u001b[39m (magic_arg_s, cell)\n\u001b[0;32m-> 2541\u001b[0m     result \u001b[38;5;241m=\u001b[39m fn(\u001b[38;5;241m*\u001b[39margs, \u001b[38;5;241m*\u001b[39m\u001b[38;5;241m*\u001b[39mkwargs)\n\u001b[1;32m   2543\u001b[0m \u001b[38;5;66;03m# The code below prevents the output from being displayed\u001b[39;00m\n\u001b[1;32m   2544\u001b[0m \u001b[38;5;66;03m# when using magics with decorator @output_can_be_silenced\u001b[39;00m\n\u001b[1;32m   2545\u001b[0m \u001b[38;5;66;03m# when the last Python token in the expression is a ';'.\u001b[39;00m\n\u001b[1;32m   2546\u001b[0m \u001b[38;5;28;01mif\u001b[39;00m \u001b[38;5;28mgetattr\u001b[39m(fn, magic\u001b[38;5;241m.\u001b[39mMAGIC_OUTPUT_CAN_BE_SILENCED, \u001b[38;5;28;01mFalse\u001b[39;00m):\n",
      "File \u001b[0;32m/opt/anaconda3/lib/python3.12/site-packages/sql/magic.py:219\u001b[0m, in \u001b[0;36mSqlMagic.execute\u001b[0;34m(self, line, cell, local_ns)\u001b[0m\n\u001b[1;32m    216\u001b[0m     \u001b[38;5;28;01mreturn\u001b[39;00m\n\u001b[1;32m    218\u001b[0m \u001b[38;5;28;01mtry\u001b[39;00m:\n\u001b[0;32m--> 219\u001b[0m     result \u001b[38;5;241m=\u001b[39m sql\u001b[38;5;241m.\u001b[39mrun\u001b[38;5;241m.\u001b[39mrun(conn, parsed[\u001b[38;5;124m\"\u001b[39m\u001b[38;5;124msql\u001b[39m\u001b[38;5;124m\"\u001b[39m], \u001b[38;5;28mself\u001b[39m, user_ns)\n\u001b[1;32m    221\u001b[0m     \u001b[38;5;28;01mif\u001b[39;00m (\n\u001b[1;32m    222\u001b[0m         result \u001b[38;5;129;01mis\u001b[39;00m \u001b[38;5;129;01mnot\u001b[39;00m \u001b[38;5;28;01mNone\u001b[39;00m\n\u001b[1;32m    223\u001b[0m         \u001b[38;5;129;01mand\u001b[39;00m \u001b[38;5;129;01mnot\u001b[39;00m \u001b[38;5;28misinstance\u001b[39m(result, \u001b[38;5;28mstr\u001b[39m)\n\u001b[0;32m   (...)\u001b[0m\n\u001b[1;32m    226\u001b[0m         \u001b[38;5;66;03m# Instead of returning values, set variables directly in the\u001b[39;00m\n\u001b[1;32m    227\u001b[0m         \u001b[38;5;66;03m# user's namespace. Variable names given by column names\u001b[39;00m\n\u001b[1;32m    229\u001b[0m         \u001b[38;5;28;01mif\u001b[39;00m \u001b[38;5;28mself\u001b[39m\u001b[38;5;241m.\u001b[39mautopandas:\n",
      "File \u001b[0;32m/opt/anaconda3/lib/python3.12/site-packages/sql/run.py:374\u001b[0m, in \u001b[0;36mrun\u001b[0;34m(conn, sql, config, user_namespace)\u001b[0m\n\u001b[1;32m    372\u001b[0m     \u001b[38;5;28;01mif\u001b[39;00m result \u001b[38;5;129;01mand\u001b[39;00m config\u001b[38;5;241m.\u001b[39mfeedback:\n\u001b[1;32m    373\u001b[0m         \u001b[38;5;28mprint\u001b[39m(interpret_rowcount(result\u001b[38;5;241m.\u001b[39mrowcount))\n\u001b[0;32m--> 374\u001b[0m resultset \u001b[38;5;241m=\u001b[39m ResultSet(result, config)\n\u001b[1;32m    375\u001b[0m \u001b[38;5;28;01mif\u001b[39;00m config\u001b[38;5;241m.\u001b[39mautopandas:\n\u001b[1;32m    376\u001b[0m     \u001b[38;5;28;01mreturn\u001b[39;00m resultset\u001b[38;5;241m.\u001b[39mDataFrame()\n",
      "File \u001b[0;32m/opt/anaconda3/lib/python3.12/site-packages/sql/run.py:116\u001b[0m, in \u001b[0;36mResultSet.__init__\u001b[0;34m(self, sqlaproxy, config)\u001b[0m\n\u001b[1;32m    114\u001b[0m         \u001b[38;5;28mlist\u001b[39m\u001b[38;5;241m.\u001b[39m\u001b[38;5;21m__init__\u001b[39m(\u001b[38;5;28mself\u001b[39m, sqlaproxy\u001b[38;5;241m.\u001b[39mfetchall())\n\u001b[1;32m    115\u001b[0m     \u001b[38;5;28mself\u001b[39m\u001b[38;5;241m.\u001b[39mfield_names \u001b[38;5;241m=\u001b[39m unduplicate_field_names(\u001b[38;5;28mself\u001b[39m\u001b[38;5;241m.\u001b[39mkeys)\n\u001b[0;32m--> 116\u001b[0m     \u001b[38;5;28mself\u001b[39m\u001b[38;5;241m.\u001b[39mpretty \u001b[38;5;241m=\u001b[39m PrettyTable(\u001b[38;5;28mself\u001b[39m\u001b[38;5;241m.\u001b[39mfield_names, style\u001b[38;5;241m=\u001b[39mprettytable\u001b[38;5;241m.\u001b[39m\u001b[38;5;18m__dict__\u001b[39m[config\u001b[38;5;241m.\u001b[39mstyle\u001b[38;5;241m.\u001b[39mupper()])\n\u001b[1;32m    117\u001b[0m \u001b[38;5;28;01melse\u001b[39;00m:\n\u001b[1;32m    118\u001b[0m     \u001b[38;5;28mlist\u001b[39m\u001b[38;5;241m.\u001b[39m\u001b[38;5;21m__init__\u001b[39m(\u001b[38;5;28mself\u001b[39m, [])\n",
      "\u001b[0;31mKeyError\u001b[0m: 'DEFAULT'"
     ]
    }
   ],
   "source": [
    "%%sql\n",
    "SELECT student_id, name, dept_name, tot_cred FROM student;"
   ]
  },
  {
   "cell_type": "code",
   "execution_count": null,
   "id": "a5df4209",
   "metadata": {},
   "outputs": [],
   "source": [
    "%%sql\n",
    "SELECT * FROM student WHERE tot_cred > 100;"
   ]
  },
  {
   "cell_type": "markdown",
   "id": "54f9dfc1",
   "metadata": {},
   "source": [
    "### NULL values behavior\n",
    "\n",
    "Note: comparisons with `NULL` yield UNKNOWN and rows won't be returned unless you use `IS NULL` or `IS NOT NULL`."
   ]
  },
  {
   "cell_type": "code",
   "execution_count": null,
   "id": "c5a08d48",
   "metadata": {},
   "outputs": [],
   "source": [
    "%%sql\n",
    "SELECT * FROM student WHERE dept_name IS NULL;"
   ]
  },
  {
   "cell_type": "markdown",
   "id": "aaf469a5",
   "metadata": {},
   "source": [
    "### GROUP BY and HAVING\n",
    "\n",
    "Compute average credits per department and filter departments by average using HAVING."
   ]
  },
  {
   "cell_type": "code",
   "execution_count": null,
   "id": "bee420d2",
   "metadata": {},
   "outputs": [],
   "source": [
    "%%sql\n",
    "SELECT dept_name, AVG(tot_cred) AS avg_credits\n",
    "FROM student\n",
    "GROUP BY dept_name\n",
    "HAVING AVG(tot_cred) > 100;\n"
   ]
  },
  {
   "cell_type": "markdown",
   "id": "ecce1056",
   "metadata": {},
   "source": [
    "### UPDATE and DELETE examples"
   ]
  },
  {
   "cell_type": "code",
   "execution_count": null,
   "id": "b48e2ada",
   "metadata": {},
   "outputs": [],
   "source": [
    "%%sql\n",
    "UPDATE student SET tot_cred = tot_cred + 6 WHERE student_id = 101;"
   ]
  },
  {
   "cell_type": "code",
   "execution_count": null,
   "id": "6a312384",
   "metadata": {},
   "outputs": [],
   "source": [
    "%%sql\n",
    "SELECT * FROM student WHERE student_id = 101;"
   ]
  },
  {
   "cell_type": "code",
   "execution_count": null,
   "id": "9040c7b6",
   "metadata": {},
   "outputs": [],
   "source": [
    "%%sql\n",
    "-- Delete students with fewer than 10 credits (example)\n",
    "DELETE FROM student WHERE tot_cred < 10;"
   ]
  },
  {
   "cell_type": "code",
   "execution_count": null,
   "id": "10e6e222",
   "metadata": {},
   "outputs": [],
   "source": [
    "%%sql\n",
    "SELECT * FROM student;"
   ]
  }
 ],
 "metadata": {
  "language_info": {
   "codemirror_mode": {
    "name": "ipython",
    "version": 3
   },
   "file_extension": ".py",
   "mimetype": "text/x-python",
   "name": "python",
   "nbconvert_exporter": "python",
   "pygments_lexer": "ipython3",
   "version": "3.12.7"
  },
  "title": "SQL Intro - UMD DATA605"
 },
 "nbformat": 4,
 "nbformat_minor": 5
}