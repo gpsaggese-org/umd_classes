{
 "cells": [
  {
   "cell_type": "markdown",
   "id": "47aabd5d",
   "metadata": {},
   "source": [
    "# SQL Intro (DDL, DML, DQL)\n",
    "\n",
    "This notebook covers Data Definition Language (DDL), Data Manipulation Language (DML), and basic queries (SELECT, WHERE, NULL behavior, GROUP BY, HAVING)."
   ]
  },
  {
   "cell_type": "code",
   "execution_count": null,
   "id": "c1f8ba9c",
   "metadata": {},
   "outputs": [],
   "source": [
    "# Setup for running SQL cells in Colab\n",
    "# Run this cell first in Colab. It installs ipython-sql and connects to a local SQLite database.\n",
    "# In Colab, you may need to restart the runtime once after installation, but usually this works in one go.\n",
    "!pip install -q ipython-sql sqlalchemy\n",
    "%load_ext sql\n",
    "# Create a local sqlite database file so the data persists within the Colab session\n",
    "%sql sqlite:///relational_db.sqlite\n"
   ]
  },
  {
   "cell_type": "markdown",
   "id": "4c267d60",
   "metadata": {},
   "source": [
    "## CREATE TABLE (DDL) example\n",
    "\n",
    "We'll create a single `student` table to demonstrate `CREATE TABLE`, `INSERT`, `UPDATE`, and `DELETE`."
   ]
  },
  {
   "cell_type": "code",
   "execution_count": null,
   "id": "3a853d72",
   "metadata": {},
   "outputs": [],
   "source": [
    "%%sql\n",
    "CREATE TABLE IF NOT EXISTS student (\n",
    "    student_id INTEGER PRIMARY KEY,\n",
    "    name TEXT NOT NULL,\n",
    "    dept_name TEXT,\n",
    "    tot_cred INTEGER DEFAULT 0\n",
    ");\n"
   ]
  },
  {
   "cell_type": "code",
   "execution_count": null,
   "id": "458c54b5",
   "metadata": {},
   "outputs": [],
   "source": [
    "%%sql\n",
    "-- Insert sample students\n",
    "INSERT OR IGNORE INTO student VALUES (101, 'David Kim', 'Computer Science', 120);\n",
    "INSERT OR IGNORE INTO student VALUES (102, 'Eva Green', 'Music', 150);\n",
    "INSERT OR IGNORE INTO student VALUES (103, 'Frank Li', NULL, 30);\n"
   ]
  },
  {
   "cell_type": "markdown",
   "id": "73bda876",
   "metadata": {},
   "source": [
    "### SELECT and WHERE examples"
   ]
  },
  {
   "cell_type": "code",
   "execution_count": null,
   "id": "dc013774",
   "metadata": {},
   "outputs": [],
   "source": [
    "%%sql\n",
    "SELECT student_id, name, dept_name, tot_cred FROM student;"
   ]
  },
  {
   "cell_type": "code",
   "execution_count": null,
   "id": "a5df4209",
   "metadata": {},
   "outputs": [],
   "source": [
    "%%sql\n",
    "SELECT * FROM student WHERE tot_cred > 100;"
   ]
  },
  {
   "cell_type": "markdown",
   "id": "54f9dfc1",
   "metadata": {},
   "source": [
    "### NULL values behavior\n",
    "\n",
    "Note: comparisons with `NULL` yield UNKNOWN and rows won't be returned unless you use `IS NULL` or `IS NOT NULL`."
   ]
  },
  {
   "cell_type": "code",
   "execution_count": null,
   "id": "c5a08d48",
   "metadata": {},
   "outputs": [],
   "source": [
    "%%sql\n",
    "SELECT * FROM student WHERE dept_name IS NULL;"
   ]
  },
  {
   "cell_type": "markdown",
   "id": "aaf469a5",
   "metadata": {},
   "source": [
    "### GROUP BY and HAVING\n",
    "\n",
    "Compute average credits per department and filter departments by average using HAVING."
   ]
  },
  {
   "cell_type": "code",
   "execution_count": null,
   "id": "bee420d2",
   "metadata": {},
   "outputs": [],
   "source": [
    "%%sql\n",
    "SELECT dept_name, AVG(tot_cred) AS avg_credits\n",
    "FROM student\n",
    "GROUP BY dept_name\n",
    "HAVING AVG(tot_cred) > 100;\n"
   ]
  },
  {
   "cell_type": "markdown",
   "id": "ecce1056",
   "metadata": {},
   "source": [
    "### UPDATE and DELETE examples"
   ]
  },
  {
   "cell_type": "code",
   "execution_count": null,
   "id": "b48e2ada",
   "metadata": {},
   "outputs": [],
   "source": [
    "%%sql\n",
    "UPDATE student SET tot_cred = tot_cred + 6 WHERE student_id = 101;"
   ]
  },
  {
   "cell_type": "code",
   "execution_count": null,
   "id": "6a312384",
   "metadata": {},
   "outputs": [],
   "source": [
    "%%sql\n",
    "SELECT * FROM student WHERE student_id = 101;"
   ]
  },
  {
   "cell_type": "code",
   "execution_count": null,
   "id": "9040c7b6",
   "metadata": {},
   "outputs": [],
   "source": [
    "%%sql\n",
    "-- Delete students with fewer than 10 credits (example)\n",
    "DELETE FROM student WHERE tot_cred < 10;"
   ]
  },
  {
   "cell_type": "code",
   "execution_count": null,
   "id": "10e6e222",
   "metadata": {},
   "outputs": [],
   "source": [
    "%%sql\n",
    "SELECT * FROM student;"
   ]
  }
 ],
 "metadata": {
  "title": "SQL Intro - UMD DATA605"
 },
 "nbformat": 4,
 "nbformat_minor": 5
}
