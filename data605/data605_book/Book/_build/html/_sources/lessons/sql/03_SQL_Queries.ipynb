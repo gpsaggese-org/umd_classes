{
 "cells": [
  {
   "cell_type": "markdown",
   "id": "ce8f1ed3",
   "metadata": {},
   "source": [
    "# SQL Queries: Joins, Subqueries, WITH, Aggregation\n",
    "\n",
    "This notebook demonstrates multi-table queries, joins (including outer joins), nested subqueries, WITH (CTE), and ranking examples using SQLite."
   ]
  },
  {
   "cell_type": "code",
   "execution_count": null,
   "id": "ebd1b1b9",
   "metadata": {},
   "outputs": [],
   "source": [
    "# Setup for running SQL cells in Colab\n",
    "# Run this cell first in Colab. It installs ipython-sql and connects to a local SQLite database.\n",
    "# In Colab, you may need to restart the runtime once after installation, but usually this works in one go.\n",
    "!pip install -q ipython-sql sqlalchemy\n",
    "%load_ext sql\n",
    "# Create a local sqlite database file so the data persists within the Colab session\n",
    "%sql sqlite:///relational_db.sqlite\n"
   ]
  },
  {
   "cell_type": "markdown",
   "id": "7b4f7007",
   "metadata": {},
   "source": [
    "## Create auxiliary tables for examples: movies, starsIn, movieExec, movieStar"
   ]
  },
  {
   "cell_type": "code",
   "execution_count": null,
   "id": "3012493e",
   "metadata": {},
   "outputs": [],
   "source": [
    "%%sql\n",
    "CREATE TABLE IF NOT EXISTS movie (\n",
    "    title TEXT,\n",
    "    year INTEGER,\n",
    "    length INTEGER,\n",
    "    inColor INTEGER,\n",
    "    studioName TEXT,\n",
    "    producerC INTEGER,\n",
    "    PRIMARY KEY(title, year)\n",
    ");\n",
    "\n",
    "CREATE TABLE IF NOT EXISTS starsIn (\n",
    "    movieTitle TEXT,\n",
    "    movieYear INTEGER,\n",
    "    starName TEXT\n",
    ");\n",
    "\n",
    "CREATE TABLE IF NOT EXISTS movieExec (\n",
    "    name TEXT,\n",
    "    address TEXT,\n",
    "    certno INTEGER PRIMARY KEY,\n",
    "    netWorth INTEGER\n",
    ");\n",
    "\n",
    "CREATE TABLE IF NOT EXISTS movieStar (\n",
    "    name TEXT PRIMARY KEY,\n",
    "    address TEXT,\n",
    "    gender TEXT,\n",
    "    birthdate TEXT\n",
    ");\n"
   ]
  },
  {
   "cell_type": "code",
   "execution_count": null,
   "id": "bdb4f768",
   "metadata": {},
   "outputs": [],
   "source": [
    "%%sql\n",
    "-- Insert sample data\n",
    "INSERT OR IGNORE INTO movie VALUES ('King Kong', 2005, 187, 1, 'disney', 111);\n",
    "INSERT OR IGNORE INTO movie VALUES ('A Short Film', 2010, 25, 0, 'indie', 112);\n",
    "INSERT OR IGNORE INTO movie VALUES ('Epic Tale', 1998, 150, 1, 'warner', 111);\n",
    "\n",
    "INSERT OR IGNORE INTO movieExec VALUES ('Exec A','Some Address',111,200000);\n",
    "INSERT OR IGNORE INTO movieExec VALUES ('Exec B','Other Address',112,90000);\n",
    "\n",
    "INSERT OR IGNORE INTO movieStar VALUES ('Naomi Watts','Unknown','F','1971-09-28');\n",
    "INSERT OR IGNORE INTO movieStar VALUES ('Actor X','Addr','M','1980-05-05');\n",
    "\n",
    "INSERT OR IGNORE INTO starsIn VALUES ('King Kong',2005,'Naomi Watts');\n",
    "INSERT OR IGNORE INTO starsIn VALUES ('Epic Tale',1998,'Actor X');\n"
   ]
  },
  {
   "cell_type": "markdown",
   "id": "d8793e8c",
   "metadata": {},
   "source": [
    "## Multi-table join example\n",
    "\n",
    "Find movie title, year and producer name by joining `movie` and `movieExec`."
   ]
  },
  {
   "cell_type": "code",
   "execution_count": null,
   "id": "164b928e",
   "metadata": {},
   "outputs": [],
   "source": [
    "%%sql\n",
    "SELECT m.title, m.year, me.name AS producerName\n",
    "FROM movie m JOIN movieExec me ON m.producerC = me.certno;"
   ]
  },
  {
   "cell_type": "markdown",
   "id": "33cf21c5",
   "metadata": {},
   "source": [
    "### Count stars per movie (grouping + LEFT OUTER JOIN)"
   ]
  },
  {
   "cell_type": "code",
   "execution_count": null,
   "id": "18785499",
   "metadata": {},
   "outputs": [],
   "source": [
    "%%sql\n",
    "SELECT m.title, m.year, COUNT(si.starName) AS num_stars\n",
    "FROM movie m LEFT JOIN starsIn si\n",
    "    ON m.title = si.movieTitle AND m.year = si.movieYear\n",
    "GROUP BY m.title, m.year;\n"
   ]
  },
  {
   "cell_type": "markdown",
   "id": "38bb3080",
   "metadata": {},
   "source": [
    "## Nested / Correlated subquery example\n",
    "\n",
    "Find movies with at most 5 stars (here we only have up to 1-2 in sample data)"
   ]
  },
  {
   "cell_type": "code",
   "execution_count": null,
   "id": "1c2ac086",
   "metadata": {},
   "outputs": [],
   "source": [
    "%%sql\n",
    "SELECT m.title, m.year\n",
    "FROM movie m\n",
    "WHERE 5 >= (\n",
    "    SELECT COUNT(*) FROM starsIn si\n",
    "    WHERE si.movieTitle = m.title AND si.movieYear = m.year\n",
    ");\n"
   ]
  },
  {
   "cell_type": "markdown",
   "id": "f681520d",
   "metadata": {},
   "source": [
    "## WITH clause (Common Table Expression) example"
   ]
  },
  {
   "cell_type": "code",
   "execution_count": null,
   "id": "a99a9ad3",
   "metadata": {},
   "outputs": [],
   "source": [
    "%%sql\n",
    "WITH avg_length AS (\n",
    "    SELECT AVG(length) AS avg_len FROM movie\n",
    ")\n",
    "SELECT title, year, length FROM movie WHERE length > (SELECT avg_len FROM avg_length);\n"
   ]
  },
  {
   "cell_type": "markdown",
   "id": "66a83344",
   "metadata": {},
   "source": [
    "## Ranking example using correlated subquery\n",
    "\n",
    "Rank movies by length (1 = longest). Note: SQLite lacks a window `RANK()` prior to certain versions — this demonstrates correlated subquery ranking."
   ]
  },
  {
   "cell_type": "code",
   "execution_count": null,
   "id": "87ae3481",
   "metadata": {},
   "outputs": [],
   "source": [
    "%%sql\n",
    "SELECT title, year,\n",
    "    (SELECT COUNT(*) FROM movie m2 WHERE m2.length >= m1.length) AS rank\n",
    "FROM movie m1\n",
    "ORDER BY rank;\n"
   ]
  }
 ],
 "metadata": {
  "title": "SQL Queries - UMD DATA605"
 },
 "nbformat": 4,
 "nbformat_minor": 5
}
