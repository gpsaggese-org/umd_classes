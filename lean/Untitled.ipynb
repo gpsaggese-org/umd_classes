{
 "cells": [
  {
   "cell_type": "code",
   "execution_count": null,
   "id": "b32c2be9-d746-4dd4-8874-44603c8d2624",
   "metadata": {},
   "outputs": [],
   "source": [
    "def zeroX (p : Point) : Point :=\n",
    "  { x := 0, y = p.y }\n",
    "\n",
    "-- Copy the object and assign only one value.\n",
    "def zeroX (p : Point) : Point :=\n",
    "  { p with x := 0 }"
   ]
  }
 ],
 "metadata": {
  "kernelspec": {
   "display_name": "Lean 4",
   "language": "lean4",
   "name": "lean4"
  },
  "language_info": {
   "name": ""
  }
 },
 "nbformat": 4,
 "nbformat_minor": 5
}
