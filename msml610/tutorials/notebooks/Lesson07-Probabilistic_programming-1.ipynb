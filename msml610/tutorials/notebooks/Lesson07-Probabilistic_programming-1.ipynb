{
 "cells": [
  {
   "cell_type": "markdown",
   "id": "c3a5dfca",
   "metadata": {
    "ExecuteTime": {
     "end_time": "2024-02-04T11:21:21.811909Z",
     "start_time": "2024-02-04T11:21:21.668399Z"
    }
   },
   "source": [
    "## Imports"
   ]
  },
  {
   "cell_type": "markdown",
   "id": "e3027bbc-7ae3-423f-9a32-baca41fde7fd",
   "metadata": {},
   "source": [
    "### Install packages"
   ]
  },
  {
   "cell_type": "code",
   "execution_count": 1,
   "id": "1d1fc905-ff47-4672-93ba-90258a30cce1",
   "metadata": {},
   "outputs": [],
   "source": [
    "!sudo /bin/bash -c \"(source /venv/bin/activate; pip install --quiet jupyterlab-vim)\"\n",
    "!jupyter labextension enable"
   ]
  },
  {
   "cell_type": "code",
   "execution_count": 2,
   "id": "257b26d8-9b91-4f1f-a594-3cdd4e95f841",
   "metadata": {},
   "outputs": [],
   "source": [
    "!sudo /bin/bash -c \"(source /venv/bin/activate; pip install --quiet graphviz)\""
   ]
  },
  {
   "cell_type": "code",
   "execution_count": 3,
   "id": "da8b93aa-959f-4f1e-a28a-0ec809a25d65",
   "metadata": {},
   "outputs": [],
   "source": [
    "!sudo /bin/bash -c \"(source /venv/bin/activate; pip install --quiet dataframe_image)\""
   ]
  },
  {
   "cell_type": "markdown",
   "id": "9c7a36ec-a7df-4005-af4c-c0ac53ad97bd",
   "metadata": {},
   "source": [
    "### Import modules"
   ]
  },
  {
   "cell_type": "code",
   "execution_count": 4,
   "id": "f3e8d4eb",
   "metadata": {
    "ExecuteTime": {
     "end_time": "2024-08-04T21:09:56.844932Z",
     "start_time": "2024-08-04T21:09:56.430866Z"
    }
   },
   "outputs": [
    {
     "name": "stderr",
     "output_type": "stream",
     "text": [
      "WARNING (pytensor.tensor.blas): Using NumPy C-API based implementation for BLAS functions.\n"
     ]
    }
   ],
   "source": [
    "%load_ext autoreload\n",
    "%autoreload 2\n",
    "\n",
    "import logging\n",
    "\n",
    "import arviz as az\n",
    "import pandas as pd\n",
    "import xarray as xr\n",
    "import pymc as pm\n",
    "import numpy as np\n",
    "import seaborn as sns\n",
    "import scipy.stats as stats\n",
    "import matplotlib.pyplot as plt\n",
    "import preliz as pz"
   ]
  },
  {
   "cell_type": "code",
   "execution_count": 5,
   "id": "2b167412-8e66-4f7c-b3f3-ffc0f21416b2",
   "metadata": {},
   "outputs": [
    {
     "name": "stdout",
     "output_type": "stream",
     "text": [
      "anscombe.csv\t     chemical_shifts_theo_exp.csv  islands.csv\n",
      "anscombe_3.csv\t     coal.csv\t\t\t   penguins.csv\n",
      "babies.csv\t     dummy.csv\t\t\t   pigs.csv\n",
      "bikes.csv\t     fish.csv\t\t\t   redwood.csv\n",
      "bikes_full.csv\t     football_players.csv\t   space_flu.csv\n",
      "body_fat.csv\t     horseshoe_crab.csv\t\t   tips.csv\n",
      "body_fat_full.csv    howell.csv\n",
      "chemical_shifts.csv  iris.csv\n"
     ]
    }
   ],
   "source": [
    "dir_name = \"./Lesson07-data\"\n",
    "\n",
    "!ls $dir_name"
   ]
  },
  {
   "cell_type": "code",
   "execution_count": 6,
   "id": "c0a9bb01-086a-4c00-90c0-4b2a0d026884",
   "metadata": {},
   "outputs": [
    {
     "name": "stdout",
     "output_type": "stream",
     "text": [
      "# Setting notebook style\n",
      "# Notebook signature\n",
      "Python 3.12.3\n",
      "Linux ef783958e0e8 6.10.14-linuxkit #1 SMP Tue Apr 15 16:00:54 UTC 2025 aarch64 aarch64 aarch64 GNU/Linux\n",
      "numpy version=1.26.4\n",
      "pymc version=5.18.2\n",
      "matplotlib version=3.10.3\n",
      "arviz version=0.21.0\n",
      "preliz version=0.19.0\n"
     ]
    }
   ],
   "source": [
    "import msml610_utils as ut\n",
    "\n",
    "ut.config_notebook()"
   ]
  },
  {
   "cell_type": "markdown",
   "id": "b587048e-ec2d-4e8f-819b-b6c431a28c02",
   "metadata": {},
   "source": [
    "# Group comparison"
   ]
  },
  {
   "cell_type": "code",
   "execution_count": null,
   "id": "0b481ee8-5092-428f-9de4-718ec28a2c41",
   "metadata": {},
   "outputs": [],
   "source": [
    "import pandas as pd\n",
    "import seaborn as sns\n",
    "import pprint"
   ]
  },
  {
   "cell_type": "code",
   "execution_count": null,
   "id": "758f554a-3fa3-4f6b-a34d-1fa604de5241",
   "metadata": {},
   "outputs": [],
   "source": [
    "tips = pd.read_csv(dir_name + '/tips.csv')\n",
    "tips"
   ]
  },
  {
   "cell_type": "code",
   "execution_count": null,
   "id": "d6b1f06b-2c5e-4bbe-845f-31261860de4e",
   "metadata": {},
   "outputs": [],
   "source": [
    "sns.boxplot(x='day', y='tip', data=tips);"
   ]
  },
  {
   "cell_type": "code",
   "execution_count": null,
   "id": "70740305-a60f-42bd-bbc3-393cf8ad2307",
   "metadata": {},
   "outputs": [],
   "source": [
    "# Extract the tips.\n",
    "tip = tips['tip'].values\n",
    "print(tip[:10])\n",
    "\n",
    "# Create a vector going from day to group idx.\n",
    "idx = pd.Categorical(tips['day']).codes\n",
    "print(\"idx=\", idx)\n",
    "\n",
    "# Count the groups.\n",
    "groups = np.unique(idx)\n",
    "n_groups = len(groups)\n",
    "print(\"groups=\", n_groups, groups)"
   ]
  },
  {
   "cell_type": "code",
   "execution_count": null,
   "id": "0a6958d1-2a95-4a1e-a4ed-41efddecf3a0",
   "metadata": {},
   "outputs": [],
   "source": [
    "# The model is the same as before but it can be easily vectorized.\n",
    "# There is no need to write a for-loop.\n",
    "with pm.Model() as comparing_groups:\n",
    "    # mu is a vector of 4 elems.\n",
    "    mu = pm.Normal('mu', mu=0, sigma=10, shape=n_groups)\n",
    "    # sigma is a vector of 4 elems.\n",
    "    sigma = pm.HalfNormal(\"sigma\", sigma=10, shape=n_groups)\n",
    "    # y is a vector of 4 normals each with mean and sigma for the group.\n",
    "    y = pm.Normal('y', mu=mu[idx], sigma=sigma[idx], observed=tip)\n",
    "    idata_cg = pm.sample(5000)"
   ]
  },
  {
   "cell_type": "markdown",
   "id": "029d6b5b-3c96-46ac-ad4b-13b566159e60",
   "metadata": {},
   "source": [
    "# Hierarchical models"
   ]
  },
  {
   "cell_type": "code",
   "execution_count": null,
   "id": "1bbb70f6-21ef-487c-9927-14cb43227631",
   "metadata": {},
   "outputs": [],
   "source": [
    "cs_data = pd.read_csv(dir_name + '/chemical_shifts_theo_exp.csv')\n",
    "cs_data[\"diff\"] = cs_data[\"theo\"] - cs_data[\"exp\"]\n",
    "display(cs_data)"
   ]
  },
  {
   "cell_type": "code",
   "execution_count": null,
   "id": "bc937f65-0f11-441f-a9f4-20b582bc41c7",
   "metadata": {},
   "outputs": [],
   "source": [
    "diff = cs_data.theo.values - cs_data.exp.values\n",
    "print(\"diff=\", diff)\n",
    "\n",
    "# Array of categorical values.\n",
    "cat_encode = pd.Categorical(cs_data['aa'])\n",
    "print(\"cat_encode=\", cat_encode)\n",
    "idx = cat_encode.codes\n",
    "print(\"idx=\", len(idx), idx)\n",
    "coords = {\"aa\": cat_encode.categories}\n",
    "print(\"coords=\", coords)"
   ]
  },
  {
   "cell_type": "code",
   "execution_count": null,
   "id": "eca7a0f4-e506-4e3b-93fc-54aa77cc8a6e",
   "metadata": {},
   "outputs": [],
   "source": [
    "# Non-hierarchical model.\n",
    "with pm.Model(coords=coords) as cs_nh:\n",
    "    # One separate prior for each group.\n",
    "    mu = pm.Normal('mu', mu=0, sigma=10, dims=\"aa\")\n",
    "    sigma = pm.HalfNormal(\"sigma\", sigma=10, dims=\"aa\")\n",
    "    # Likelihood.\n",
    "    y = pm.Normal(\"y\", mu=mu[idx], sigma=sigma[idx], observed=diff)\n",
    "    idata_cs_nh = pm.sample()"
   ]
  },
  {
   "cell_type": "code",
   "execution_count": null,
   "id": "f702fc8c-4195-43be-8b89-fbf6e4ebb731",
   "metadata": {},
   "outputs": [],
   "source": [
    "pm.model_to_graphviz(cs_nh)"
   ]
  },
  {
   "cell_type": "code",
   "execution_count": null,
   "id": "78b59d9e-7110-4068-a7e0-ab5f3b7ad933",
   "metadata": {},
   "outputs": [],
   "source": [
    "with pm.Model(coords=coords) as cs_h:\n",
    "    # Hyper-priors.\n",
    "    mu_mu = pm.Normal(\"mu_mu\", mu=0, sigma=10)\n",
    "    mu_sigma = pm.HalfNormal(\"mu_sigma\", sigma=10)\n",
    "    \n",
    "    # Priors.\n",
    "    mu = pm.Normal(\"mu\", mu=mu_mu, sigma=mu_sigma, dims=\"aa\")\n",
    "    sigma = pm.HalfNormal(\"sigma\", sigma=10, dims=\"aa\")\n",
    "    \n",
    "    # Likelihood (same as before).\n",
    "    y = pm.Normal(\"y\", mu=mu[idx], sigma=sigma[idx], observed=diff)\n",
    "    idata_cs_h = pm.sample()"
   ]
  },
  {
   "cell_type": "code",
   "execution_count": null,
   "id": "61a58256-db18-4345-8e2f-4a98d6272cd2",
   "metadata": {},
   "outputs": [],
   "source": [
    "pm.model_to_graphviz(cs_h)"
   ]
  },
  {
   "cell_type": "code",
   "execution_count": null,
   "id": "3e68bbb8-4846-4d3e-9de1-c26fc00469dc",
   "metadata": {},
   "outputs": [],
   "source": [
    "# We have two models and we want to compare the estimates.\n",
    "# - There are 20 groups and each model has 4 estimates.\n",
    "# - We plot the 94% credible intervals.\n",
    "# - The vertical line is the global mean according to the hierarchical model.\n",
    "# - The blue (hierarchical) means are pulled towards the mean, wrt the orange (non-hierarchical) ones.\n",
    "axes = az.plot_forest([idata_cs_h, idata_cs_nh],\n",
    "                      model_names=['h', 'n_h'],\n",
    "                      var_names='mu',\n",
    "                      combined=True,\n",
    "                      colors='cycle')\n",
    "\n",
    "y_lims = axes[0].get_ylim()\n",
    "axes[0].vlines(idata_cs_h.posterior['mu_mu'].mean(), *y_lims, color='navy')\n",
    "axes[0].vlines(idata_cs_nh.posterior['mu'].mean(), *y_lims, color='orange');"
   ]
  },
  {
   "cell_type": "markdown",
   "id": "8ec71bbb-e63e-48dc-8104-a9fbd9d6a03c",
   "metadata": {},
   "source": [
    "# Linear regression"
   ]
  },
  {
   "cell_type": "markdown",
   "id": "6b1a8874-28be-46df-bacb-85fa4be14d09",
   "metadata": {},
   "source": [
    "## Synthetic example"
   ]
  },
  {
   "cell_type": "code",
   "execution_count": null,
   "id": "62838da8-2031-45d0-89f4-a4dfbbc56029",
   "metadata": {},
   "outputs": [],
   "source": [
    "np.random.seed(1)\n",
    "\n",
    "# Number of samples.\n",
    "N = 100\n",
    "\n",
    "# Parameters.\n",
    "alpha_real = 2.5\n",
    "beta_real = 0.9\n",
    "sigma_eps_real = 0.5\n",
    "\n",
    "# Generate data.\n",
    "x = np.random.normal(10, 1, N)\n",
    "y_real = alpha_real + beta_real * x\n",
    "\n",
    "# Add noise.\n",
    "eps_real = np.random.normal(0, sigma_eps_real, size=N)\n",
    "y = y_real + eps_real"
   ]
  },
  {
   "cell_type": "code",
   "execution_count": null,
   "id": "2da21df2-c1b2-47ed-a9bb-35b4607d02d2",
   "metadata": {},
   "outputs": [],
   "source": [
    "plt.scatter(x, y_real)\n",
    "plt.scatter(x, y);"
   ]
  },
  {
   "cell_type": "code",
   "execution_count": null,
   "id": "cae20610-398b-42e9-9586-7b0886a90b3a",
   "metadata": {},
   "outputs": [],
   "source": [
    "df = pd.DataFrame({\"X\": x, \"Y\": y})\n",
    "sns.regplot(x=\"X\", y=\"Y\", data=df, scatter_kws={\"color\": \"blue\"}, line_kws={\"color\": \"red\"})"
   ]
  },
  {
   "cell_type": "code",
   "execution_count": null,
   "id": "135cecad-515d-4570-b969-112e076f2266",
   "metadata": {},
   "outputs": [],
   "source": [
    "with pm.Model() as model_g:\n",
    "    alpha = pm.Normal(\"alpha\", mu=0, sigma=10)\n",
    "    beta = pm.Normal(\"beta\", mu=0, sigma=1)\n",
    "    sigma = pm.HalfCauchy(\"sigma\", 5)\n",
    "    #\n",
    "    mu = pm.Deterministic(\"mu\", alpha + beta * x)\n",
    "    y_pred = pm.Normal(\"y_pred\", mu=mu, sigma=sigma, observed=y)\n",
    "    idata_g = pm.sample(2000, tune=1000)"
   ]
  },
  {
   "cell_type": "code",
   "execution_count": null,
   "id": "9856f4da-7203-47dd-8271-1503794420bd",
   "metadata": {},
   "outputs": [],
   "source": [
    "pm.model_to_graphviz(model_g)"
   ]
  },
  {
   "cell_type": "code",
   "execution_count": null,
   "id": "6c3f54ab-4a00-4e8c-8908-e0dcd2a3a295",
   "metadata": {},
   "outputs": [],
   "source": [
    "az.plot_trace(idata_g, var_names=[\"alpha\", \"beta\", \"sigma\"]);"
   ]
  },
  {
   "cell_type": "code",
   "execution_count": null,
   "id": "47f262f1-e7f3-4428-ba22-5caec8da3ca5",
   "metadata": {},
   "outputs": [],
   "source": [
    "az.summary(idata_g, var_names=\"alpha beta sigma\".split(), kind=\"stats\")"
   ]
  },
  {
   "cell_type": "markdown",
   "id": "6bc2221d-e106-4084-8d6b-945b8ce56fb2",
   "metadata": {},
   "source": [
    "## Bike rental example"
   ]
  },
  {
   "cell_type": "code",
   "execution_count": null,
   "id": "1aeaa19d-3613-4edc-b3c5-3eb85d02d828",
   "metadata": {},
   "outputs": [],
   "source": [
    "bikes = pd.read_csv(dir_name + \"/bikes.csv\")\n",
    "bikes.plot(x=\"temperature\", y=\"rented\", figsize=(12, 3), kind=\"scatter\");"
   ]
  },
  {
   "cell_type": "code",
   "execution_count": null,
   "id": "810e4c17-cf9f-4b7b-8c1a-617fadc28237",
   "metadata": {},
   "outputs": [],
   "source": [
    "bikes.head()"
   ]
  },
  {
   "cell_type": "code",
   "execution_count": null,
   "id": "a7015cd6-6e07-428c-af98-bb9373bdab77",
   "metadata": {},
   "outputs": [],
   "source": [
    "with pm.Model() as model_lb:\n",
    "    alpha = pm.Normal(\"alpha\", mu=0, sigma=100)\n",
    "    beta = pm.Normal(\"beta\", mu=0, sigma=10)\n",
    "    sigma = pm.HalfCauchy(\"sigma\", 10)\n",
    "    #\n",
    "    mu = pm.Deterministic(\"mu\", alpha + beta * bikes.temperature)\n",
    "    #\n",
    "    y_pred = pm.Normal(\"y_pred\", mu=mu, sigma=sigma, observed=bikes.rented)\n",
    "    idata_lb = pm.sample()"
   ]
  },
  {
   "cell_type": "code",
   "execution_count": null,
   "id": "8655d726-be6e-46e7-8a89-5352a8ec6064",
   "metadata": {},
   "outputs": [],
   "source": [
    "# Plot all the vars, excluding mu.\n",
    "az.plot_posterior(idata_lb, var_names=[\"~mu\"]);"
   ]
  },
  {
   "cell_type": "code",
   "execution_count": null,
   "id": "02169b85-256b-43b3-8714-c1700feb0c65",
   "metadata": {},
   "outputs": [],
   "source": [
    "# Sample from the posterior.\n",
    "posterior = az.extract(idata_lb, num_samples=50)"
   ]
  },
  {
   "cell_type": "code",
   "execution_count": null,
   "id": "c4b70fc6-485d-403b-ac9e-d58e7d794e22",
   "metadata": {},
   "outputs": [],
   "source": [
    "# Create a data array of 50 equally-spaced points from min to max temperature along the `plot_id` axis.\n",
    "x_plot = xr.DataArray(\n",
    "    np.linspace(bikes.temperature.min(), bikes.temperature.max(), 50), dims=\"plot_id\"\n",
    ")\n",
    "\n",
    "# Compute the expected value of the model for the points.\n",
    "mean_line = posterior[\"alpha\"].mean() + posterior[\"beta\"].mean() * x_plot\n",
    "\n",
    "\n",
    "# Compute 50 lines using the posterior.\n",
    "lines = posterior[\"alpha\"] + posterior[\"beta\"] * x_plot"
   ]
  },
  {
   "cell_type": "code",
   "execution_count": null,
   "id": "602fe767-462f-4085-91b7-992ff9321345",
   "metadata": {},
   "outputs": [],
   "source": [
    "idata_lb_pp = pm.sample_posterior_predictive(idata_lb, model=model_lb)\n",
    "mean_line = idata_lb.posterior[\"mu\"].mean((\"chain\", \"draw\"))\n",
    "\n",
    "def plot_data_and_model(bikes, idata):\n",
    "    # Generate a vector with the temperatures and a bit of jitter.\n",
    "    temperatures = np.random.normal(bikes.temperature.values, 0.01)\n",
    "    \n",
    "    # Sort in increasing order.\n",
    "    idx = np.argsort(temperatures)\n",
    "    \n",
    "    # Sample the temperature intervals.\n",
    "    x = np.linspace(temperatures.min(), temperatures.max(), 15)\n",
    "    \n",
    "    # Compute the quantiles, flattening over chain and draw.\n",
    "    y_pred_q = idata.posterior_predictive[\"y_pred\"].quantile(\n",
    "        [0.03, 0.97, 0.25, 0.75], dim=[\"chain\", \"draw\"])\n",
    "    #obj_to_str(y_pred_q, only_schema=False)\n",
    "    \n",
    "    from scipy.interpolate import PchipInterpolator\n",
    "    \n",
    "    y_hat_bounds = [\n",
    "            PchipInterpolator(temperatures[idx], y_pred_q[i][idx])(x)\n",
    "            for i in range(4)\n",
    "    ]\n",
    "    #print(y_hat_bounds)\n",
    "    \n",
    "    # Plot the data set.\n",
    "    plt.plot(bikes.temperature, bikes.rented, \"C2.\", zorder=-3)\n",
    "    # Plot the mean.\n",
    "    plt.plot(bikes.temperature[idx], mean_line[idx], c=\"C0\")\n",
    "    \n",
    "    # Plot the quantiles.\n",
    "    lb, ub = y_hat_bounds[0], y_hat_bounds[1]\n",
    "    plt.fill_between(x, lb, ub, color=\"C1\", alpha=0.2);\n",
    "    lb, ub = y_hat_bounds[2], y_hat_bounds[3]\n",
    "    plt.fill_between(x, lb, ub, color=\"C1\", alpha=0.2);"
   ]
  },
  {
   "cell_type": "code",
   "execution_count": null,
   "id": "38fb027f-8592-4a08-bdde-c7ddfdc367e6",
   "metadata": {},
   "outputs": [],
   "source": [
    "print(x_plot.shape)"
   ]
  },
  {
   "cell_type": "code",
   "execution_count": null,
   "id": "e765c458-0f3b-4397-92d1-547698cbace6",
   "metadata": {},
   "outputs": [],
   "source": [
    "print(mean_line.shape)"
   ]
  },
  {
   "cell_type": "code",
   "execution_count": null,
   "id": "93a9973b-1214-4a68-9969-ba6906479eca",
   "metadata": {},
   "outputs": [],
   "source": [
    "# - Plot the data\n",
    "# zorder is to plot behind the line.\n",
    "plt.plot(bikes.temperature, bikes.rented, \"C2.\", zorder=-3);\n",
    "\n",
    "# - Plot the 50 models from the posterior.\n",
    "# lines.T.values are the 50 lines.\n",
    "lines_ = plt.plot(x_plot, lines.T.values, c=\"C1\", alpha=0.2, label=\"lines\");\n",
    "# Remove the label for all the lines but the first one.\n",
    "plt.setp(lines_[1:], label=\"_\")\n",
    "\n",
    "# Plot the mean line.\n",
    "plt.plot(x_plot, mean_line, c=\"C0\", label=\"mean line\");\n",
    "\n",
    "plt.xlabel(\"temp\")\n",
    "plt.ylabel(\"rented bikes\")\n",
    "\n",
    "plt.legend();"
   ]
  },
  {
   "cell_type": "code",
   "execution_count": null,
   "id": "3415725e-bca4-46a3-81f1-a9ca4992085b",
   "metadata": {},
   "outputs": [],
   "source": [
    "plot_data_and_model(bikes, idata_lb_pp)"
   ]
  },
  {
   "cell_type": "markdown",
   "id": "08a51771-1440-451a-ba08-f9b3b894c9e3",
   "metadata": {},
   "source": [
    "## Counting"
   ]
  },
  {
   "cell_type": "code",
   "execution_count": null,
   "id": "6c5d1009-15e4-47a5-a0e1-c9c2b546ef68",
   "metadata": {},
   "outputs": [],
   "source": [
    "np.random.seed(42)\n",
    "with pm.Model() as model_neg:\n",
    "    alpha = pm.Normal(\"alpha\", mu=0, sigma=100)\n",
    "    beta = pm.Normal(\"beta\", mu=0, sigma=10)\n",
    "    # We use exp to have all positive numbers.\n",
    "    mu = pm.Deterministic(\"mu\", pm.math.exp(alpha + beta * bikes.temperature))\n",
    "    # NegativeBinomial has an extra param alpha to control the variance.\n",
    "    sigma = pm.HalfNormal(\"sigma\", 10)\n",
    "    y_pred = pm.NegativeBinomial(\"y_pred\", mu=mu, alpha=sigma, observed=bikes.rented)\n",
    "    #\n",
    "    idata_neg = pm.sample()\n",
    "    idata_neg.extend(pm.sample_posterior_predictive(idata_neg))"
   ]
  },
  {
   "cell_type": "code",
   "execution_count": null,
   "id": "7894d289-f859-42de-96de-8860edb89507",
   "metadata": {},
   "outputs": [],
   "source": [
    "pm.model_to_graphviz(model_neg)"
   ]
  },
  {
   "cell_type": "code",
   "execution_count": null,
   "id": "0f76e94f-9a45-4268-9ca1-e897af95852c",
   "metadata": {},
   "outputs": [],
   "source": [
    "az.plot_trace(idata_neg, var_names=[\"~mu\"]);"
   ]
  },
  {
   "cell_type": "code",
   "execution_count": null,
   "id": "d0ddc676-97fd-46e5-84f9-3b62cbcf65cb",
   "metadata": {},
   "outputs": [],
   "source": [
    "plot_data_and_model(bikes, idata_neg)"
   ]
  },
  {
   "cell_type": "code",
   "execution_count": null,
   "id": "d3a91307-091c-4885-9d40-ecf054045e9f",
   "metadata": {},
   "outputs": [],
   "source": [
    "az.plot_ppc(\n",
    "    idata_lb_pp,\n",
    "    num_pp_samples=200,\n",
    "    alpha=0.1,\n",
    "    mean=False);"
   ]
  },
  {
   "cell_type": "code",
   "execution_count": null,
   "id": "79a13bf5-dfed-496f-964d-1a437c9e4054",
   "metadata": {},
   "outputs": [],
   "source": [
    "az.plot_ppc(\n",
    "    idata_neg,\n",
    "    num_pp_samples=200,\n",
    "    alpha=0.1,\n",
    "    mean=False);"
   ]
  },
  {
   "cell_type": "markdown",
   "id": "7e20536d-5ab7-44a5-8f48-9ef67407df2f",
   "metadata": {},
   "source": [
    "## Robust regression"
   ]
  },
  {
   "cell_type": "code",
   "execution_count": null,
   "id": "d1fadf9c-2cbb-4c72-b5ed-1043c5604ce2",
   "metadata": {},
   "outputs": [],
   "source": [
    "ans = pd.read_csv(dir_name + \"/anscombe_3.csv\")\n",
    "display(ans.head())"
   ]
  },
  {
   "cell_type": "code",
   "execution_count": null,
   "id": "a2a4bd27-e1b8-4a3f-b28a-57f795ddfea3",
   "metadata": {},
   "outputs": [],
   "source": [
    "ans.plot(\"x\", \"y\", kind=\"scatter\");"
   ]
  },
  {
   "cell_type": "code",
   "execution_count": null,
   "id": "c4d1426f-a117-4500-a331-0e6a2dc1f3a3",
   "metadata": {},
   "outputs": [],
   "source": [
    "import scipy\n",
    "from scipy.stats import linregress\n",
    "\n",
    "beta_c, alpha_c, *_ = scipy.stats.linregress(ans.x, ans.y)\n",
    "\n",
    "_, ax = plt.subplots()\n",
    "ax.plot(ans.x, (alpha_c + beta_c * ans.x), \"C0:\", label=\"non-robust\")\n",
    "ax.plot(ans.x, ans.y, \"C0o\");\n",
    "\n",
    "ut.save_ax(ax, \"Lesson07_Non_robust_regression1.png\")"
   ]
  },
  {
   "cell_type": "code",
   "execution_count": null,
   "id": "560b565b-be77-4a01-9890-fc351f1e6a41",
   "metadata": {},
   "outputs": [],
   "source": [
    "with pm.Model() as model_t:\n",
    "    # Alpha is normal centered around the mean of the y data.\n",
    "    alpha = pm.Normal(\"alpha\", mu=ans.y.mean(), sigma=1)\n",
    "    # Beta is a standard (0, 1).\n",
    "    beta = pm.Normal(\"beta\", mu=0, sigma=1)\n",
    "    sigma = pm.HalfNormal(\"sigma\", 5)\n",
    "    # The exponential puts too much weight close to 0, so we shift by 1.\n",
    "    nu_ = pm.Exponential(\"nu_\", 1/29)\n",
    "    nu = pm.Deterministic(\"nu\", nu_ + 1)\n",
    "\n",
    "    # Model.\n",
    "    mu = pm.Deterministic(\"mu\", alpha + beta * ans.x)\n",
    "    y_pred = pm.StudentT(\"y_pred\", mu=mu, sigma=sigma, nu=nu, observed=ans.y)\n",
    "    idata_t = pm.sample(2000, tune=2000)\n",
    "\n",
    "    idata_t.extend(pm.sample_posterior_predictive(idata_t))"
   ]
  },
  {
   "cell_type": "code",
   "execution_count": null,
   "id": "839f44dc-6e25-497e-8c4b-56015e007ff2",
   "metadata": {},
   "outputs": [],
   "source": [
    "#dot = pm.model_to_graphviz(model_t)\n",
    "ut.save_dot(model_t, \"Lesson07_Robust_regression_model\")"
   ]
  },
  {
   "cell_type": "code",
   "execution_count": null,
   "id": "098a7ed2-78b1-4d22-a315-0dbca39d7eec",
   "metadata": {},
   "outputs": [],
   "source": [
    "var_names = \"alpha beta sigma nu\".split()\n",
    "az.plot_trace(idata_t, var_names=var_names);\n",
    "az.summary(idata_t, var_names=var_names, round_to=2, kind=\"stats\")"
   ]
  },
  {
   "cell_type": "code",
   "execution_count": null,
   "id": "404af9c6-80d7-4f62-9793-b55cb066b547",
   "metadata": {},
   "outputs": [],
   "source": [
    "_, ax = plt.subplots()\n",
    "\n",
    "# Non-robust.\n",
    "ax.plot(ans.x, (alpha_c + beta_c * ans.x), \"C0:\", label=\"non-robust\")\n",
    "ax.plot(ans.x, ans.y, \"C0o\")\n",
    "\n",
    "# Robust.\n",
    "alpha_m = idata_t.posterior[\"alpha\"].mean((\"chain\", \"draw\"))\n",
    "beta_m = idata_t.posterior[\"beta\"].mean((\"chain\", \"draw\"))\n",
    "\n",
    "x_plot = xr.DataArray(np.linspace(ans.x.min(), ans.x.max(), 50), dims=\"plot_id\")\n",
    "ax.plot(x_plot, alpha_m + beta_m * x_plot, c=\"C0\", label=\"robust\")\n",
    "az.plot_hdi(ans.x, az.hdi(idata_t.posterior[\"mu\"])[\"mu\"].T, ax=ax)\n",
    "ax.set_xlabel(\"x\")\n",
    "ax.set_ylabel(\"y\", rotation=0)\n",
    "ax.legend(loc=2);\n",
    "\n",
    "ut.save_ax(ax, \"Lesson07_Non_robust_regression2\")"
   ]
  },
  {
   "cell_type": "code",
   "execution_count": null,
   "id": "9f83f046-41b6-4521-9e76-a98819e345f2",
   "metadata": {},
   "outputs": [],
   "source": [
    "#?pm.sample_posterior_predictive\n",
    "#?az.plot_ppc"
   ]
  },
  {
   "cell_type": "code",
   "execution_count": null,
   "id": "1231876f-3ea8-4940-875e-777f61e64f50",
   "metadata": {},
   "outputs": [],
   "source": [
    "# Posterior predictive check.\n",
    "ppc = pm.sample_posterior_predictive(idata_t,\n",
    "                                     #samples=200,\n",
    "                                     model=model_t,\n",
    "                                     random_seed=2)\n",
    "az.plot_ppc(idata_t, mean=True, num_pp_samples=100);\n",
    "plt.xlim(0, 20);"
   ]
  },
  {
   "cell_type": "markdown",
   "id": "ad1604e0-fdba-47a0-8424-442067ab8254",
   "metadata": {},
   "source": [
    "## Logistic regression"
   ]
  },
  {
   "cell_type": "code",
   "execution_count": null,
   "id": "071f4efd-990f-44ce-8f65-07b193e15c43",
   "metadata": {},
   "outputs": [],
   "source": [
    "iris = pd.read_csv(dir_name + \"/iris.csv\")\n",
    "iris.head()"
   ]
  },
  {
   "cell_type": "code",
   "execution_count": null,
   "id": "c4402660-0be1-4fd1-9604-77142f1f74eb",
   "metadata": {},
   "outputs": [],
   "source": [
    "ut.save_df(iris.head(), \"Lesson07_Logistic_regression_df.png\")"
   ]
  },
  {
   "cell_type": "code",
   "execution_count": null,
   "id": "fe8d605a-f8f2-4f50-85ee-af6ae7f4b1cd",
   "metadata": {},
   "outputs": [],
   "source": [
    "# Filter the dataframe keeping only 2 values for species.\n",
    "df = iris.query(\"species == ('setosa', 'versicolor')\")\n",
    "df.head()"
   ]
  },
  {
   "cell_type": "code",
   "execution_count": null,
   "id": "fd2d1741-73e6-4470-bec0-25b985706096",
   "metadata": {},
   "outputs": [],
   "source": [
    "# Get the predicted variable.\n",
    "y_0 = pd.Categorical(df[\"species\"]).codes\n",
    "y_0"
   ]
  },
  {
   "cell_type": "code",
   "execution_count": null,
   "id": "a5eae2ae-6cb9-40a9-91a0-68a7a79459ed",
   "metadata": {},
   "outputs": [],
   "source": [
    "# Get the sepal length as feature.\n",
    "x_n = \"sepal_length\"\n",
    "x_0 = df[x_n].values\n",
    "x_c = x_0 - x_0.mean()"
   ]
  },
  {
   "cell_type": "code",
   "execution_count": null,
   "id": "c6d01598-e214-4d32-a1d4-91a5d687180e",
   "metadata": {},
   "outputs": [],
   "source": [
    "with pm.Model() as model_lrs:\n",
    "    # Linear part.\n",
    "    alpha = pm.Normal(\"alpha\", mu=0, sigma=1)\n",
    "    beta = pm.Normal(\"beta\", mu=0, sigma=5)\n",
    "    mu = alpha + x_c * beta\n",
    "    # Sigmoid.\n",
    "    theta = pm.Deterministic(\"theta\", pm.math.sigmoid(mu))\n",
    "    # Model.\n",
    "    yl = pm.Bernoulli(\"yl\", p=theta, observed=y_0)\n",
    "    # Intercept?\n",
    "    bd = pm.Deterministic(\"bd\", - alpha / beta)\n",
    "    #\n",
    "    idata_lrs = pm.sample(random_seed=123)"
   ]
  },
  {
   "cell_type": "code",
   "execution_count": null,
   "id": "73fb94b2-307c-49f0-b56f-f6a74c172c0b",
   "metadata": {},
   "outputs": [],
   "source": [
    "ut.save_dot(model_lrs, \"Lesson07_Logistic_regression_model.png\")"
   ]
  },
  {
   "cell_type": "code",
   "execution_count": null,
   "id": "045f391d-5d22-409b-8e4c-8fd455376b60",
   "metadata": {},
   "outputs": [],
   "source": [
    "var_names = [\"~bd\", \"~theta\"]\n",
    "az.summary(idata_lrs, var_names=var_names, round_to=2, kind=\"stats\")"
   ]
  },
  {
   "cell_type": "code",
   "execution_count": null,
   "id": "fbd4a6ff-fe51-4dc9-b81b-b40e29aee215",
   "metadata": {},
   "outputs": [],
   "source": [
    "ax = az.plot_trace(idata_lrs, var_names=var_names)"
   ]
  },
  {
   "cell_type": "code",
   "execution_count": null,
   "id": "87045286-c85a-4a1c-997c-f6e32d41e0c3",
   "metadata": {},
   "outputs": [],
   "source": [
    "ut.save_fig(ax, \"Lesson07_Logistic_regression_result.png\")"
   ]
  },
  {
   "cell_type": "code",
   "execution_count": null,
   "id": "53b4438b-dcd3-4995-9e79-cd0edbc6cfa0",
   "metadata": {},
   "outputs": [],
   "source": [
    "posterior = idata_lrs.posterior\n",
    "theta = posterior[\"theta\"].mean((\"chain\", \"draw\"))\n",
    "idx = np.argsort(x_c)\n",
    "#print(posterior)\n",
    "#print(idx)\n",
    "\n",
    "# Plot the model.\n",
    "_, ax = plt.subplots()\n",
    "ax.plot(x_c[idx], theta[idx], color=\"C0\", lw=2)\n",
    "\n",
    "# Plot the decision.\n",
    "ax.vlines(posterior[\"bd\"].mean((\"chain\", \"draw\")), 0, 1, color=\"C2\", zorder=0)\n",
    "bd_hdi = az.hdi(posterior[\"bd\"])\n",
    "ax.fill_betweenx([0, 1], bd_hdi[\"bd\"][0], bd_hdi[\"bd\"][1], color=\"C2\", alpha=0.6, lw=0)\n",
    "\n",
    "# Plot the data.\n",
    "ax.scatter(x_c, np.random.normal(y_0, 0.02), marker=\".\")\n",
    "\n",
    "az.plot_hdi(x_c, posterior[\"theta\"], color=\"C0\", ax=ax)\n",
    "\n",
    "save_ax(ax, \"Lesson07_Logistic_regression_result2.png\")"
   ]
  },
  {
   "cell_type": "markdown",
   "id": "d283ae53-5159-4368-9e75-3558c04f05a8",
   "metadata": {},
   "source": [
    "## Variable variance"
   ]
  },
  {
   "cell_type": "code",
   "execution_count": null,
   "id": "c2fef4ed-d20e-4a58-b776-d1403019a9bd",
   "metadata": {},
   "outputs": [],
   "source": [
    "# Load data.\n",
    "data = pd.read_csv(dir_name + \"/babies.csv\")\n",
    "data.columns = [\"month\", \"length\"]\n",
    "data.plot.scatter(\"month\", \"length\");\n",
    "display(data.head())"
   ]
  },
  {
   "cell_type": "code",
   "execution_count": null,
   "id": "76453511-7a7d-4961-8e75-bd808f8260c8",
   "metadata": {},
   "outputs": [],
   "source": [
    "ax = data.plot.scatter(\"month\", \"length\")\n",
    "save_ax(ax, \"Lesson07_Variable_variance_data.png\")"
   ]
  },
  {
   "cell_type": "code",
   "execution_count": null,
   "id": "6b18ba3a-f465-4e5f-8509-ac85b45262fb",
   "metadata": {},
   "outputs": [],
   "source": [
    "with pm.Model() as model_vv:\n",
    "    # Create a shared variable so that the data can change after the model is created.\n",
    "    x_shared = pm.Data(\"x_shared\", data.month.values.astype(float))\n",
    "    # Linear model for the mean is a function of sqrt(x).\n",
    "    alpha = pm.Normal(\"alpha\", sigma=10)\n",
    "    beta = pm.Normal(\"beta\", sigma=10)\n",
    "    mu = pm.Deterministic(\"mu\", alpha + beta * x_shared ** 0.5)\n",
    "    # Linear model for the std dev.\n",
    "    gamma = pm.HalfNormal(\"gamma\", sigma=10)\n",
    "    delta = pm.HalfNormal(\"delta\", sigma=10)\n",
    "    sigma = pm.Deterministic(\"sigma\", gamma + delta * x_shared)\n",
    "    # Fit.\n",
    "    y_pred = pm.Normal(\"y_pred\", mu=mu, sigma=sigma, observed=data.length)\n",
    "    #\n",
    "    idata_vv = pm.sample(random_seed=123)"
   ]
  },
  {
   "cell_type": "code",
   "execution_count": null,
   "id": "3f2d26ac-807a-47fa-ba83-d48fc6edc0a4",
   "metadata": {},
   "outputs": [],
   "source": [
    "pm.model_to_graphviz(model_vv)"
   ]
  },
  {
   "cell_type": "code",
   "execution_count": null,
   "id": "cf9c73c1-7e86-4f0c-88c6-8c41c899bc82",
   "metadata": {},
   "outputs": [],
   "source": [
    "save_dot(model_vv, \"Lesson07_Variable_variance_model.png\")"
   ]
  },
  {
   "cell_type": "code",
   "execution_count": null,
   "id": "16ea6ad7-798a-431f-a490-77bcc40115d3",
   "metadata": {},
   "outputs": [],
   "source": [
    "# Plot the data.\n",
    "plt.plot(data.month, data.length, \"C0.\", alpha=0.1)\n",
    "\n",
    "# Compute the posterior mean and sigma.\n",
    "posterior = az.extract(idata_vv)\n",
    "mu_m = posterior[\"mu\"].mean(\"sample\").values\n",
    "sigma_m = posterior[\"sigma\"].mean(\"sample\").values\n",
    "\n",
    "# Plot 1 and 2 std dev of the model.\n",
    "plt.plot(data.month, mu_m, c=\"k\")\n",
    "plt.fill_between(data.month, mu_m + 1 * sigma_m, mu_m - 1 * sigma_m, alpha=0.6, color=\"C1\")\n",
    "plt.fill_between(data.month, mu_m + 2 * sigma_m, mu_m - 2 * sigma_m, alpha=0.4, color=\"C1\")\n",
    "\n",
    "save_plt(\"Lesson07_Variable_variance_result.png\")"
   ]
  },
  {
   "cell_type": "markdown",
   "id": "e01ac43e-4a72-4e3f-9fc3-58e1364f69b8",
   "metadata": {},
   "source": [
    "# Multiple linear regression"
   ]
  },
  {
   "cell_type": "markdown",
   "id": "7fe5f223-5bc7-4a1b-a9f0-27afd9ee1c06",
   "metadata": {},
   "source": [
    "## Synthetic example"
   ]
  },
  {
   "cell_type": "code",
   "execution_count": null,
   "id": "ebdf1979-6ecb-4c59-a04f-e04848929ec5",
   "metadata": {},
   "outputs": [],
   "source": [
    "np.random.seed(314)\n",
    "\n",
    "N = 100\n",
    "#N = 1000\n",
    "alpha_real = 2.5\n",
    "beta_real = [0.9, 1.5]\n",
    "eps_stddev_real = 0.5\n",
    "eps_real = np.random.normal(0, eps_stddev_real, size=N)\n",
    "\n",
    "# Independent variables.\n",
    "X = np.array([np.random.normal(i, j, N) for i, j in zip(\n",
    "    # mean of gaussian.\n",
    "    [10, 2],\n",
    "    # std dev.\n",
    "    [1, 1.5])]).T\n",
    "X_mean = X.mean(axis=0, keepdims=True)\n",
    "X_centered = X - X_mean\n",
    "\n",
    "# Create samples.\n",
    "y = alpha_real + np.dot(X, beta_real) + eps_real"
   ]
  },
  {
   "cell_type": "code",
   "execution_count": null,
   "id": "2ae43132-5399-4b6f-a017-c29d6d591c6a",
   "metadata": {},
   "outputs": [],
   "source": [
    "def scatter_plot(x, y):\n",
    "    #plt.figure(figsize=(10, 10))\n",
    "    # Plot y vs [x_1, x_2].\n",
    "    for idx, x_i in enumerate(x.T):\n",
    "        plt.subplot(2, 2, idx + 1)\n",
    "        plt.scatter(x_i, y)\n",
    "        plt.xlabel(f'x_{idx+1}')\n",
    "        plt.ylabel(f'y', rotation=0)\n",
    "    # Plot x_2 vs x_1.\n",
    "    plt.subplot(2, 2, idx + 2)\n",
    "    plt.scatter(x[:, 0], x[:, 1])\n",
    "    plt.xlabel(f'x_{idx}')\n",
    "    plt.ylabel(f'x_{idx+1}', rotation=0)\n",
    "\n",
    "\n",
    "scatter_plot(X_centered, y)\n",
    "ut.save_plt(\"Lesson07_Multiple_linear_regression3.png\")"
   ]
  },
  {
   "cell_type": "code",
   "execution_count": null,
   "id": "4bb3ab6b-8118-4dbd-9966-0e146d7f4d0e",
   "metadata": {},
   "outputs": [],
   "source": [
    "with pm.Model() as model_mlr:\n",
    "    alpha_tmp = pm.Normal('alpha_tmp', mu=0, sigma=10)\n",
    "    # Beta is a vector.\n",
    "    beta = pm.Normal('beta', mu=0, sigma=1, shape=2)\n",
    "    eps = pm.HalfCauchy('eps', 5)\n",
    "    # mu.\n",
    "    mu = alpha_tmp + pm.math.dot(X_centered, beta)\n",
    "    # Extract alpha.\n",
    "    alpha = pm.Deterministic('alpha', alpha_tmp - pm.math.dot(X_mean, beta))\n",
    "    \n",
    "    # Model.\n",
    "    y_pred = pm.Normal('y_pred', mu=mu, sigma=eps, observed=y)\n",
    "    \n",
    "    idata_mlr = pm.sample(2000)"
   ]
  },
  {
   "cell_type": "code",
   "execution_count": null,
   "id": "5d211788-4bbd-4960-9d70-31364a723a99",
   "metadata": {},
   "outputs": [],
   "source": [
    "ut.save_dot(model_mlr, \"Lesson07_Multiple_linear_regression_model.png\")\n",
    "pm.model_to_graphviz(model_mlr)"
   ]
  },
  {
   "cell_type": "code",
   "execution_count": null,
   "id": "722b8703-3eda-4fd6-bffe-b1d36e928c57",
   "metadata": {},
   "outputs": [],
   "source": [
    "var_names = [\"alpha\", \"beta\", \"eps\"]\n",
    "az.plot_trace(idata_mlr, var_names=var_names);\n",
    "ut.save_plt(\"Lesson07_Multiple_linear_regression_results1.png\")"
   ]
  },
  {
   "cell_type": "code",
   "execution_count": null,
   "id": "b6bbc533-ed66-46e6-9c1f-d2dfe53e7e0b",
   "metadata": {},
   "outputs": [],
   "source": [
    "df = az.summary(idata_mlr, var_names=var_names, round_to=2, kind=\"stats\")\n",
    "ut.save_df(df, \"Lesson07_Multiple_linear_regression_results2.png\")\n",
    "df"
   ]
  },
  {
   "cell_type": "markdown",
   "id": "296c742c-9190-4cf2-858f-79e23a106ec7",
   "metadata": {},
   "source": [
    "## Rented bikes"
   ]
  },
  {
   "cell_type": "code",
   "execution_count": null,
   "id": "ed293f0c-8b54-440a-a784-a5082428df28",
   "metadata": {},
   "outputs": [],
   "source": [
    "with pm.Model() as model_mlb:\n",
    "    alpha = pm.Normal(\"alpha\", mu=0, sigma=1)\n",
    "    beta0 = pm.Normal(\"beta0\", mu=0, sigma=10)\n",
    "    beta1 = pm.Normal(\"beta1\", mu=0, sigma=10)\n",
    "    sigma = pm.HalfNormal(\"sigma\", 10)\n",
    "    mu = pm.Deterministic(\"mu\", pm.math.exp(alpha + beta0 * bikes.temperature +\n",
    "    beta1 * bikes.hour))\n",
    "    _ = pm.NegativeBinomial(\"y_pred\", mu=mu, alpha=sigma, observed=bikes.rented)\n",
    "    #\n",
    "    idata_mlb = pm.sample()"
   ]
  },
  {
   "cell_type": "code",
   "execution_count": null,
   "id": "81e3976a-1010-40ff-a810-9c2b54aa9e45",
   "metadata": {},
   "outputs": [],
   "source": [
    "pm.model_to_graphviz(model_mlb)"
   ]
  },
  {
   "cell_type": "code",
   "execution_count": null,
   "id": "fac53a51-722d-4405-b478-46238aea4d5d",
   "metadata": {},
   "outputs": [],
   "source": [
    "ut.save_dot(model_mlb, \"Lesson07_Multiple_linear_regression_model_RentedBikes_model.png\")"
   ]
  },
  {
   "cell_type": "code",
   "execution_count": null,
   "id": "2b55bd6b-95db-41e7-b520-502201834075",
   "metadata": {},
   "outputs": [],
   "source": [
    "var_names = [\"alpha\", \"beta0\", \"beta1\", \"sigma\"]\n",
    "az.plot_trace(idata_mlb, var_names=var_names);\n",
    "ut.save_plt(\"Lesson07_Multiple_linear_regression_model_RentedBikes_model_trace.png\")"
   ]
  },
  {
   "cell_type": "code",
   "execution_count": null,
   "id": "91276165-d9d8-4f0a-9a89-909e7d08d9d1",
   "metadata": {},
   "outputs": [],
   "source": [
    "df = az.summary(idata_mlb, var_names=var_names, round_to=2, kind=\"stats\")\n",
    "df"
   ]
  }
 ],
 "metadata": {
  "jupytext": {
   "formats": "ipynb,py:percent"
  },
  "kernelspec": {
   "display_name": "Python 3 (ipykernel)",
   "language": "python",
   "name": "python3"
  },
  "language_info": {
   "codemirror_mode": {
    "name": "ipython",
    "version": 3
   },
   "file_extension": ".py",
   "mimetype": "text/x-python",
   "name": "python",
   "nbconvert_exporter": "python",
   "pygments_lexer": "ipython3",
   "version": "3.12.3"
  },
  "toc": {
   "base_numbering": 1,
   "nav_menu": {},
   "number_sections": true,
   "sideBar": true,
   "skip_h1_title": false,
   "title_cell": "Table of Contents",
   "title_sidebar": "Contents",
   "toc_cell": false,
   "toc_position": {
    "height": "calc(100% - 180px)",
    "left": "10px",
    "top": "150px",
    "width": "165px"
   },
   "toc_section_display": true,
   "toc_window_display": true
  }
 },
 "nbformat": 4,
 "nbformat_minor": 5
}
