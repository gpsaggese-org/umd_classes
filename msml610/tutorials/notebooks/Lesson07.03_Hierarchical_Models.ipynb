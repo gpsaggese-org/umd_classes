{
 "cells": [
  {
   "cell_type": "markdown",
   "id": "c3a5dfca",
   "metadata": {
    "ExecuteTime": {
     "end_time": "2024-02-04T11:21:21.811909Z",
     "start_time": "2024-02-04T11:21:21.668399Z"
    }
   },
   "source": [
    "## Imports"
   ]
  },
  {
   "cell_type": "markdown",
   "id": "e3027bbc-7ae3-423f-9a32-baca41fde7fd",
   "metadata": {},
   "source": [
    "### Install packages"
   ]
  },
  {
   "cell_type": "code",
   "execution_count": 1,
   "id": "1d1fc905-ff47-4672-93ba-90258a30cce1",
   "metadata": {},
   "outputs": [],
   "source": [
    "!sudo /bin/bash -c \"(source /venv/bin/activate; pip install --quiet jupyterlab-vim)\"\n",
    "!jupyter labextension enable"
   ]
  },
  {
   "cell_type": "code",
   "execution_count": 2,
   "id": "257b26d8-9b91-4f1f-a594-3cdd4e95f841",
   "metadata": {},
   "outputs": [],
   "source": [
    "!sudo /bin/bash -c \"(source /venv/bin/activate; pip install --quiet graphviz)\""
   ]
  },
  {
   "cell_type": "code",
   "execution_count": 3,
   "id": "da8b93aa-959f-4f1e-a28a-0ec809a25d65",
   "metadata": {},
   "outputs": [],
   "source": [
    "!sudo /bin/bash -c \"(source /venv/bin/activate; pip install --quiet dataframe_image)\""
   ]
  },
  {
   "cell_type": "markdown",
   "id": "9c7a36ec-a7df-4005-af4c-c0ac53ad97bd",
   "metadata": {},
   "source": [
    "### Import modules"
   ]
  },
  {
   "cell_type": "code",
   "execution_count": 4,
   "id": "f3e8d4eb",
   "metadata": {
    "ExecuteTime": {
     "end_time": "2024-08-04T21:09:56.844932Z",
     "start_time": "2024-08-04T21:09:56.430866Z"
    }
   },
   "outputs": [
    {
     "name": "stderr",
     "output_type": "stream",
     "text": [
      "WARNING (pytensor.tensor.blas): Using NumPy C-API based implementation for BLAS functions.\n"
     ]
    }
   ],
   "source": [
    "%load_ext autoreload\n",
    "%autoreload 2\n",
    "\n",
    "import logging\n",
    "\n",
    "import arviz as az\n",
    "import pandas as pd\n",
    "import xarray as xr\n",
    "import pymc as pm\n",
    "import numpy as np\n",
    "import seaborn as sns\n",
    "import scipy.stats as stats\n",
    "import matplotlib.pyplot as plt\n",
    "import preliz as pz"
   ]
  },
  {
   "cell_type": "code",
   "execution_count": 5,
   "id": "2b167412-8e66-4f7c-b3f3-ffc0f21416b2",
   "metadata": {},
   "outputs": [
    {
     "name": "stdout",
     "output_type": "stream",
     "text": [
      "anscombe.csv\t     chemical_shifts_theo_exp.csv  islands.csv\n",
      "anscombe_3.csv\t     coal.csv\t\t\t   penguins.csv\n",
      "babies.csv\t     dummy.csv\t\t\t   pigs.csv\n",
      "bikes.csv\t     fish.csv\t\t\t   redwood.csv\n",
      "bikes_full.csv\t     football_players.csv\t   space_flu.csv\n",
      "body_fat.csv\t     horseshoe_crab.csv\t\t   tips.csv\n",
      "body_fat_full.csv    howell.csv\n",
      "chemical_shifts.csv  iris.csv\n"
     ]
    }
   ],
   "source": [
    "dir_name = \"./Lesson07-data\"\n",
    "\n",
    "!ls $dir_name"
   ]
  },
  {
   "cell_type": "code",
   "execution_count": 6,
   "id": "c0a9bb01-086a-4c00-90c0-4b2a0d026884",
   "metadata": {},
   "outputs": [
    {
     "name": "stdout",
     "output_type": "stream",
     "text": [
      "# Setting notebook style\n",
      "# Notebook signature\n",
      "Python 3.12.3\n",
      "Linux ec1347f4acf5 6.10.14-linuxkit #1 SMP Tue Apr 15 16:00:54 UTC 2025 aarch64 aarch64 aarch64 GNU/Linux\n",
      "numpy version=1.26.4\n",
      "pymc version=5.18.2\n",
      "matplotlib version=3.10.3\n",
      "arviz version=0.21.0\n",
      "preliz version=0.19.0\n"
     ]
    }
   ],
   "source": [
    "import msml610_utils as ut\n",
    "\n",
    "ut.config_notebook()"
   ]
  },
  {
   "cell_type": "markdown",
   "id": "b587048e-ec2d-4e8f-819b-b6c431a28c02",
   "metadata": {},
   "source": [
    "# Group comparison"
   ]
  },
  {
   "cell_type": "code",
   "execution_count": 7,
   "id": "0b481ee8-5092-428f-9de4-718ec28a2c41",
   "metadata": {},
   "outputs": [],
   "source": [
    "import pandas as pd\n",
    "import seaborn as sns\n",
    "import pprint"
   ]
  },
  {
   "cell_type": "code",
   "execution_count": 8,
   "id": "758f554a-3fa3-4f6b-a34d-1fa604de5241",
   "metadata": {},
   "outputs": [
    {
     "data": {
      "text/html": [
       "<div>\n",
       "<style scoped>\n",
       "    .dataframe tbody tr th:only-of-type {\n",
       "        vertical-align: middle;\n",
       "    }\n",
       "\n",
       "    .dataframe tbody tr th {\n",
       "        vertical-align: top;\n",
       "    }\n",
       "\n",
       "    .dataframe thead th {\n",
       "        text-align: right;\n",
       "    }\n",
       "</style>\n",
       "<table border=\"1\" class=\"dataframe\">\n",
       "  <thead>\n",
       "    <tr style=\"text-align: right;\">\n",
       "      <th></th>\n",
       "      <th>total_bill</th>\n",
       "      <th>tip</th>\n",
       "      <th>sex</th>\n",
       "      <th>smoker</th>\n",
       "      <th>day</th>\n",
       "      <th>time</th>\n",
       "      <th>size</th>\n",
       "    </tr>\n",
       "  </thead>\n",
       "  <tbody>\n",
       "    <tr>\n",
       "      <th>0</th>\n",
       "      <td>16.99</td>\n",
       "      <td>1.01</td>\n",
       "      <td>Female</td>\n",
       "      <td>No</td>\n",
       "      <td>Sun</td>\n",
       "      <td>Dinner</td>\n",
       "      <td>2</td>\n",
       "    </tr>\n",
       "    <tr>\n",
       "      <th>1</th>\n",
       "      <td>10.34</td>\n",
       "      <td>1.66</td>\n",
       "      <td>Male</td>\n",
       "      <td>No</td>\n",
       "      <td>Sun</td>\n",
       "      <td>Dinner</td>\n",
       "      <td>3</td>\n",
       "    </tr>\n",
       "    <tr>\n",
       "      <th>2</th>\n",
       "      <td>21.01</td>\n",
       "      <td>3.50</td>\n",
       "      <td>Male</td>\n",
       "      <td>No</td>\n",
       "      <td>Sun</td>\n",
       "      <td>Dinner</td>\n",
       "      <td>3</td>\n",
       "    </tr>\n",
       "    <tr>\n",
       "      <th>3</th>\n",
       "      <td>23.68</td>\n",
       "      <td>3.31</td>\n",
       "      <td>Male</td>\n",
       "      <td>No</td>\n",
       "      <td>Sun</td>\n",
       "      <td>Dinner</td>\n",
       "      <td>2</td>\n",
       "    </tr>\n",
       "    <tr>\n",
       "      <th>4</th>\n",
       "      <td>24.59</td>\n",
       "      <td>3.61</td>\n",
       "      <td>Female</td>\n",
       "      <td>No</td>\n",
       "      <td>Sun</td>\n",
       "      <td>Dinner</td>\n",
       "      <td>4</td>\n",
       "    </tr>\n",
       "    <tr>\n",
       "      <th>...</th>\n",
       "      <td>...</td>\n",
       "      <td>...</td>\n",
       "      <td>...</td>\n",
       "      <td>...</td>\n",
       "      <td>...</td>\n",
       "      <td>...</td>\n",
       "      <td>...</td>\n",
       "    </tr>\n",
       "    <tr>\n",
       "      <th>239</th>\n",
       "      <td>29.03</td>\n",
       "      <td>5.92</td>\n",
       "      <td>Male</td>\n",
       "      <td>No</td>\n",
       "      <td>Sat</td>\n",
       "      <td>Dinner</td>\n",
       "      <td>3</td>\n",
       "    </tr>\n",
       "    <tr>\n",
       "      <th>240</th>\n",
       "      <td>27.18</td>\n",
       "      <td>2.00</td>\n",
       "      <td>Female</td>\n",
       "      <td>Yes</td>\n",
       "      <td>Sat</td>\n",
       "      <td>Dinner</td>\n",
       "      <td>2</td>\n",
       "    </tr>\n",
       "    <tr>\n",
       "      <th>241</th>\n",
       "      <td>22.67</td>\n",
       "      <td>2.00</td>\n",
       "      <td>Male</td>\n",
       "      <td>Yes</td>\n",
       "      <td>Sat</td>\n",
       "      <td>Dinner</td>\n",
       "      <td>2</td>\n",
       "    </tr>\n",
       "    <tr>\n",
       "      <th>242</th>\n",
       "      <td>17.82</td>\n",
       "      <td>1.75</td>\n",
       "      <td>Male</td>\n",
       "      <td>No</td>\n",
       "      <td>Sat</td>\n",
       "      <td>Dinner</td>\n",
       "      <td>2</td>\n",
       "    </tr>\n",
       "    <tr>\n",
       "      <th>243</th>\n",
       "      <td>18.78</td>\n",
       "      <td>3.00</td>\n",
       "      <td>Female</td>\n",
       "      <td>No</td>\n",
       "      <td>Thur</td>\n",
       "      <td>Dinner</td>\n",
       "      <td>2</td>\n",
       "    </tr>\n",
       "  </tbody>\n",
       "</table>\n",
       "<p>244 rows × 7 columns</p>\n",
       "</div>"
      ],
      "text/plain": [
       "     total_bill   tip     sex smoker   day    time  size\n",
       "0         16.99  1.01  Female     No   Sun  Dinner     2\n",
       "1         10.34  1.66    Male     No   Sun  Dinner     3\n",
       "2         21.01  3.50    Male     No   Sun  Dinner     3\n",
       "3         23.68  3.31    Male     No   Sun  Dinner     2\n",
       "4         24.59  3.61  Female     No   Sun  Dinner     4\n",
       "..          ...   ...     ...    ...   ...     ...   ...\n",
       "239       29.03  5.92    Male     No   Sat  Dinner     3\n",
       "240       27.18  2.00  Female    Yes   Sat  Dinner     2\n",
       "241       22.67  2.00    Male    Yes   Sat  Dinner     2\n",
       "242       17.82  1.75    Male     No   Sat  Dinner     2\n",
       "243       18.78  3.00  Female     No  Thur  Dinner     2\n",
       "\n",
       "[244 rows x 7 columns]"
      ]
     },
     "execution_count": 8,
     "metadata": {},
     "output_type": "execute_result"
    }
   ],
   "source": [
    "tips = pd.read_csv(dir_name + '/tips.csv')\n",
    "tips"
   ]
  },
  {
   "cell_type": "code",
   "execution_count": 9,
   "id": "d6b1f06b-2c5e-4bbe-845f-31261860de4e",
   "metadata": {},
   "outputs": [
    {
     "data": {
      "image/png": "[encoded data removed]",
      "text/plain": [
       "<Figure size 800x300 with 1 Axes>"
      ]
     },
     "metadata": {},
     "output_type": "display_data"
    }
   ],
   "source": [
    "sns.boxplot(x='day', y='tip', data=tips);"
   ]
  },
  {
   "cell_type": "code",
   "execution_count": 10,
   "id": "70740305-a60f-42bd-bbc3-393cf8ad2307",
   "metadata": {},
   "outputs": [
    {
     "name": "stdout",
     "output_type": "stream",
     "text": [
      "[1.01 1.66 3.5  3.31 3.61 4.71 2.   3.12 1.96 3.23]\n",
      "idx= [2 2 2 2 2 2 2 2 2 2 2 2 2 2 2 2 2 2 2 1 1 1 1 1 1 1 1 1 1 1 1 1 1 1 1 1 1\n",
      " 1 1 1 1 2 2 2 2 2 2 2 2 2 2 2 2 2 2 2 1 1 1 1 1 1 1 1 1 1 1 1 1 1 1 1 1 1\n",
      " 1 1 1 3 3 3 3 3 3 3 3 3 3 3 3 3 0 0 0 0 0 0 0 0 0 0 0 0 1 1 1 1 1 1 1 1 1\n",
      " 1 2 2 2 2 2 3 3 3 3 3 3 3 3 3 3 3 3 3 3 3 3 3 3 3 3 3 3 3 3 3 3 3 3 3 3 3\n",
      " 3 3 2 2 2 2 2 2 2 2 2 2 2 2 2 2 2 2 2 2 1 1 1 1 2 2 2 2 2 2 2 2 2 2 2 2 2\n",
      " 2 2 2 2 2 2 3 3 3 3 3 3 3 3 3 3 3 3 3 3 3 1 1 1 1 1 1 1 1 1 1 1 1 1 1 0 0\n",
      " 0 0 0 0 0 1 1 1 1 1 1 1 1 1 1 1 1 1 1 1 1 3]\n",
      "groups= 4 [0 1 2 3]\n"
     ]
    }
   ],
   "source": [
    "# Extract the tips.\n",
    "tip = tips['tip'].values\n",
    "print(tip[:10])\n",
    "\n",
    "# Create a vector going from day to group idx.\n",
    "idx = pd.Categorical(tips['day']).codes\n",
    "print(\"idx=\", idx)\n",
    "\n",
    "# Count the groups.\n",
    "groups = np.unique(idx)\n",
    "n_groups = len(groups)\n",
    "print(\"groups=\", n_groups, groups)"
   ]
  },
  {
   "cell_type": "code",
   "execution_count": 11,
   "id": "0a6958d1-2a95-4a1e-a4ed-41efddecf3a0",
   "metadata": {},
   "outputs": [
    {
     "name": "stderr",
     "output_type": "stream",
     "text": [
      "Auto-assigning NUTS sampler...\n",
      "Initializing NUTS using jitter+adapt_diag...\n",
      "Multiprocess sampling (4 chains in 4 jobs)\n",
      "NUTS: [mu, sigma]\n"
     ]
    },
    {
     "data": {
      "application/vnd.jupyter.widget-view+json": {
       "model_id": "fcf9580e453d4e7d9e04e8b6f3264775",
       "version_major": 2,
       "version_minor": 0
      },
      "text/plain": [
       "Output()"
      ]
     },
     "metadata": {},
     "output_type": "display_data"
    },
    {
     "data": {
      "text/html": [
       "<pre style=\"white-space:pre;overflow-x:auto;line-height:normal;font-family:Menlo,'DejaVu Sans Mono',consolas,'Courier New',monospace\"></pre>\n"
      ],
      "text/plain": []
     },
     "metadata": {},
     "output_type": "display_data"
    },
    {
     "name": "stderr",
     "output_type": "stream",
     "text": [
      "Sampling 4 chains for 1_000 tune and 5_000 draw iterations (4_000 + 20_000 draws total) took 3 seconds.\n"
     ]
    }
   ],
   "source": [
    "# The model is the same as before but it can be easily vectorized.\n",
    "# There is no need to write a for-loop.\n",
    "with pm.Model() as comparing_groups:\n",
    "    # mu is a vector of 4 elems.\n",
    "    mu = pm.Normal('mu', mu=0, sigma=10, shape=n_groups)\n",
    "    # sigma is a vector of 4 elems.\n",
    "    sigma = pm.HalfNormal(\"sigma\", sigma=10, shape=n_groups)\n",
    "    # y is a vector of 4 normals each with mean and sigma for the group.\n",
    "    y = pm.Normal('y', mu=mu[idx], sigma=sigma[idx], observed=tip)\n",
    "    idata_cg = pm.sample(5000)"
   ]
  },
  {
   "cell_type": "markdown",
   "id": "029d6b5b-3c96-46ac-ad4b-13b566159e60",
   "metadata": {},
   "source": [
    "# Hierarchical models"
   ]
  },
  {
   "cell_type": "code",
   "execution_count": 12,
   "id": "1bbb70f6-21ef-487c-9927-14cb43227631",
   "metadata": {},
   "outputs": [
    {
     "data": {
      "text/html": [
       "<div>\n",
       "<style scoped>\n",
       "    .dataframe tbody tr th:only-of-type {\n",
       "        vertical-align: middle;\n",
       "    }\n",
       "\n",
       "    .dataframe tbody tr th {\n",
       "        vertical-align: top;\n",
       "    }\n",
       "\n",
       "    .dataframe thead th {\n",
       "        text-align: right;\n",
       "    }\n",
       "</style>\n",
       "<table border=\"1\" class=\"dataframe\">\n",
       "  <thead>\n",
       "    <tr style=\"text-align: right;\">\n",
       "      <th></th>\n",
       "      <th>ID</th>\n",
       "      <th>aa</th>\n",
       "      <th>theo</th>\n",
       "      <th>exp</th>\n",
       "      <th>cat</th>\n",
       "      <th>diff</th>\n",
       "    </tr>\n",
       "  </thead>\n",
       "  <tbody>\n",
       "    <tr>\n",
       "      <th>0</th>\n",
       "      <td>1BM8</td>\n",
       "      <td>ILE</td>\n",
       "      <td>61.18</td>\n",
       "      <td>58.27</td>\n",
       "      <td>Non-Polar</td>\n",
       "      <td>2.91</td>\n",
       "    </tr>\n",
       "    <tr>\n",
       "      <th>1</th>\n",
       "      <td>1BM8</td>\n",
       "      <td>TYR</td>\n",
       "      <td>56.95</td>\n",
       "      <td>56.18</td>\n",
       "      <td>Polar</td>\n",
       "      <td>0.77</td>\n",
       "    </tr>\n",
       "    <tr>\n",
       "      <th>2</th>\n",
       "      <td>1BM8</td>\n",
       "      <td>SER</td>\n",
       "      <td>56.35</td>\n",
       "      <td>56.84</td>\n",
       "      <td>Polar</td>\n",
       "      <td>-0.49</td>\n",
       "    </tr>\n",
       "    <tr>\n",
       "      <th>3</th>\n",
       "      <td>1BM8</td>\n",
       "      <td>ALA</td>\n",
       "      <td>51.96</td>\n",
       "      <td>51.01</td>\n",
       "      <td>Special</td>\n",
       "      <td>0.95</td>\n",
       "    </tr>\n",
       "    <tr>\n",
       "      <th>4</th>\n",
       "      <td>1BM8</td>\n",
       "      <td>ARG</td>\n",
       "      <td>56.54</td>\n",
       "      <td>54.64</td>\n",
       "      <td>Charged</td>\n",
       "      <td>1.90</td>\n",
       "    </tr>\n",
       "    <tr>\n",
       "      <th>...</th>\n",
       "      <td>...</td>\n",
       "      <td>...</td>\n",
       "      <td>...</td>\n",
       "      <td>...</td>\n",
       "      <td>...</td>\n",
       "      <td>...</td>\n",
       "    </tr>\n",
       "    <tr>\n",
       "      <th>1771</th>\n",
       "      <td>1KS9</td>\n",
       "      <td>LYS</td>\n",
       "      <td>55.79</td>\n",
       "      <td>57.51</td>\n",
       "      <td>Charged</td>\n",
       "      <td>-1.72</td>\n",
       "    </tr>\n",
       "    <tr>\n",
       "      <th>1772</th>\n",
       "      <td>1KS9</td>\n",
       "      <td>ARG</td>\n",
       "      <td>58.91</td>\n",
       "      <td>59.02</td>\n",
       "      <td>Charged</td>\n",
       "      <td>-0.11</td>\n",
       "    </tr>\n",
       "    <tr>\n",
       "      <th>1773</th>\n",
       "      <td>1KS9</td>\n",
       "      <td>LYS</td>\n",
       "      <td>59.49</td>\n",
       "      <td>58.92</td>\n",
       "      <td>Charged</td>\n",
       "      <td>0.57</td>\n",
       "    </tr>\n",
       "    <tr>\n",
       "      <th>1774</th>\n",
       "      <td>1KS9</td>\n",
       "      <td>GLU</td>\n",
       "      <td>59.48</td>\n",
       "      <td>58.36</td>\n",
       "      <td>Charged</td>\n",
       "      <td>1.12</td>\n",
       "    </tr>\n",
       "    <tr>\n",
       "      <th>1775</th>\n",
       "      <td>1KS9</td>\n",
       "      <td>SER</td>\n",
       "      <td>58.07</td>\n",
       "      <td>60.55</td>\n",
       "      <td>Polar</td>\n",
       "      <td>-2.48</td>\n",
       "    </tr>\n",
       "  </tbody>\n",
       "</table>\n",
       "<p>1776 rows × 6 columns</p>\n",
       "</div>"
      ],
      "text/plain": [
       "        ID   aa   theo    exp        cat  diff\n",
       "0     1BM8  ILE  61.18  58.27  Non-Polar  2.91\n",
       "1     1BM8  TYR  56.95  56.18      Polar  0.77\n",
       "2     1BM8  SER  56.35  56.84      Polar -0.49\n",
       "3     1BM8  ALA  51.96  51.01    Special  0.95\n",
       "4     1BM8  ARG  56.54  54.64    Charged  1.90\n",
       "...    ...  ...    ...    ...        ...   ...\n",
       "1771  1KS9  LYS  55.79  57.51    Charged -1.72\n",
       "1772  1KS9  ARG  58.91  59.02    Charged -0.11\n",
       "1773  1KS9  LYS  59.49  58.92    Charged  0.57\n",
       "1774  1KS9  GLU  59.48  58.36    Charged  1.12\n",
       "1775  1KS9  SER  58.07  60.55      Polar -2.48\n",
       "\n",
       "[1776 rows x 6 columns]"
      ]
     },
     "metadata": {},
     "output_type": "display_data"
    }
   ],
   "source": [
    "cs_data = pd.read_csv(dir_name + '/chemical_shifts_theo_exp.csv')\n",
    "cs_data[\"diff\"] = cs_data[\"theo\"] - cs_data[\"exp\"]\n",
    "display(cs_data)"
   ]
  },
  {
   "cell_type": "code",
   "execution_count": 13,
   "id": "bc937f65-0f11-441f-a9f4-20b582bc41c7",
   "metadata": {},
   "outputs": [
    {
     "name": "stdout",
     "output_type": "stream",
     "text": [
      "diff= [ 2.91  0.77 -0.49 ...  0.57  1.12 -2.48]\n",
      "cat_encode= ['ILE', 'TYR', 'SER', 'ALA', 'ARG', ..., 'LYS', 'ARG', 'LYS', 'GLU', 'SER']\n",
      "Length: 1776\n",
      "Categories (19, object): ['ALA', 'ARG', 'ASN', 'ASP', ..., 'THR', 'TRP', 'TYR', 'VAL']\n",
      "idx= 1776 [ 8 17 14 ... 10  5 14]\n",
      "coords= {'aa': Index(['ALA', 'ARG', 'ASN', 'ASP', 'GLN', 'GLU', 'GLY', 'HIS', 'ILE', 'LEU',\n",
      "       'LYS', 'MET', 'PHE', 'PRO', 'SER', 'THR', 'TRP', 'TYR', 'VAL'],\n",
      "      dtype='object')}\n"
     ]
    }
   ],
   "source": [
    "diff = cs_data.theo.values - cs_data.exp.values\n",
    "print(\"diff=\", diff)\n",
    "\n",
    "# Array of categorical values.\n",
    "cat_encode = pd.Categorical(cs_data['aa'])\n",
    "print(\"cat_encode=\", cat_encode)\n",
    "idx = cat_encode.codes\n",
    "print(\"idx=\", len(idx), idx)\n",
    "coords = {\"aa\": cat_encode.categories}\n",
    "print(\"coords=\", coords)"
   ]
  },
  {
   "cell_type": "code",
   "execution_count": 14,
   "id": "eca7a0f4-e506-4e3b-93fc-54aa77cc8a6e",
   "metadata": {},
   "outputs": [
    {
     "name": "stderr",
     "output_type": "stream",
     "text": [
      "Auto-assigning NUTS sampler...\n",
      "Initializing NUTS using jitter+adapt_diag...\n",
      "Multiprocess sampling (4 chains in 4 jobs)\n",
      "NUTS: [mu, sigma]\n"
     ]
    },
    {
     "data": {
      "application/vnd.jupyter.widget-view+json": {
       "model_id": "2edeb60fa4ad4e7ab17315398d96953c",
       "version_major": 2,
       "version_minor": 0
      },
      "text/plain": [
       "Output()"
      ]
     },
     "metadata": {},
     "output_type": "display_data"
    },
    {
     "data": {
      "text/html": [
       "<pre style=\"white-space:pre;overflow-x:auto;line-height:normal;font-family:Menlo,'DejaVu Sans Mono',consolas,'Courier New',monospace\"></pre>\n"
      ],
      "text/plain": []
     },
     "metadata": {},
     "output_type": "display_data"
    },
    {
     "name": "stderr",
     "output_type": "stream",
     "text": [
      "Sampling 4 chains for 1_000 tune and 1_000 draw iterations (4_000 + 4_000 draws total) took 2 seconds.\n"
     ]
    }
   ],
   "source": [
    "# Non-hierarchical model.\n",
    "with pm.Model(coords=coords) as cs_nh:\n",
    "    # One separate prior for each group.\n",
    "    mu = pm.Normal('mu', mu=0, sigma=10, dims=\"aa\")\n",
    "    sigma = pm.HalfNormal(\"sigma\", sigma=10, dims=\"aa\")\n",
    "    # Likelihood.\n",
    "    y = pm.Normal(\"y\", mu=mu[idx], sigma=sigma[idx], observed=diff)\n",
    "    idata_cs_nh = pm.sample()"
   ]
  },
  {
   "cell_type": "code",
   "execution_count": 15,
   "id": "f702fc8c-4195-43be-8b89-fbf6e4ebb731",
   "metadata": {},
   "outputs": [
    {
     "data": {
      "image/svg+xml": [
       "<?xml version=\"1.0\" encoding=\"UTF-8\" standalone=\"no\"?>\n",
       "<!DOCTYPE svg PUBLIC \"-//W3C//DTD SVG 1.1//EN\"\n",
       " \"http://www.w3.org/Graphics/SVG/1.1/DTD/svg11.dtd\">\n",
       "<!-- Generated by graphviz version 2.43.0 (0)\n",
       " -->\n",
       "<!-- Title: %3 Pages: 1 -->\n",
       "<svg width=\"298pt\" height=\"260pt\"\n",
       " viewBox=\"0.00 0.00 298.00 259.91\" xmlns=\"http://www.w3.org/2000/svg\" xmlns:xlink=\"http://www.w3.org/1999/xlink\">\n",
       "<g id=\"graph0\" class=\"graph\" transform=\"scale(1 1) rotate(0) translate(4 255.91)\">\n",
       "<title>%3</title>\n",
       "<polygon fill=\"white\" stroke=\"transparent\" points=\"-4,4 -4,-255.91 294,-255.91 294,4 -4,4\"/>\n",
       "<g id=\"clust1\" class=\"cluster\">\n",
       "<title>clusteraa (19)</title>\n",
       "<path fill=\"none\" stroke=\"black\" d=\"M20,-129.95C20,-129.95 270,-129.95 270,-129.95 276,-129.95 282,-135.95 282,-141.95 282,-141.95 282,-231.91 282,-231.91 282,-237.91 276,-243.91 270,-243.91 270,-243.91 20,-243.91 20,-243.91 14,-243.91 8,-237.91 8,-231.91 8,-231.91 8,-141.95 8,-141.95 8,-135.95 14,-129.95 20,-129.95\"/>\n",
       "<text text-anchor=\"middle\" x=\"249\" y=\"-137.75\" font-family=\"Times,serif\" font-size=\"14.00\">aa (19)</text>\n",
       "</g>\n",
       "<g id=\"clust2\" class=\"cluster\">\n",
       "<title>cluster1776</title>\n",
       "<path fill=\"none\" stroke=\"black\" d=\"M111,-8C111,-8 201,-8 201,-8 207,-8 213,-14 213,-20 213,-20 213,-109.95 213,-109.95 213,-115.95 207,-121.95 201,-121.95 201,-121.95 111,-121.95 111,-121.95 105,-121.95 99,-115.95 99,-109.95 99,-109.95 99,-20 99,-20 99,-14 105,-8 111,-8\"/>\n",
       "<text text-anchor=\"middle\" x=\"186.5\" y=\"-15.8\" font-family=\"Times,serif\" font-size=\"14.00\">1776</text>\n",
       "</g>\n",
       "<!-- mu -->\n",
       "<g id=\"node1\" class=\"node\">\n",
       "<title>mu</title>\n",
       "<ellipse fill=\"none\" stroke=\"black\" cx=\"225\" cy=\"-198.43\" rx=\"49.49\" ry=\"37.45\"/>\n",
       "<text text-anchor=\"middle\" x=\"225\" y=\"-209.73\" font-family=\"Times,serif\" font-size=\"14.00\">mu</text>\n",
       "<text text-anchor=\"middle\" x=\"225\" y=\"-194.73\" font-family=\"Times,serif\" font-size=\"14.00\">~</text>\n",
       "<text text-anchor=\"middle\" x=\"225\" y=\"-179.73\" font-family=\"Times,serif\" font-size=\"14.00\">Normal</text>\n",
       "</g>\n",
       "<!-- y -->\n",
       "<g id=\"node3\" class=\"node\">\n",
       "<title>y</title>\n",
       "<ellipse fill=\"lightgrey\" stroke=\"black\" cx=\"156\" cy=\"-76.48\" rx=\"49.49\" ry=\"37.45\"/>\n",
       "<text text-anchor=\"middle\" x=\"156\" y=\"-87.78\" font-family=\"Times,serif\" font-size=\"14.00\">y</text>\n",
       "<text text-anchor=\"middle\" x=\"156\" y=\"-72.78\" font-family=\"Times,serif\" font-size=\"14.00\">~</text>\n",
       "<text text-anchor=\"middle\" x=\"156\" y=\"-57.78\" font-family=\"Times,serif\" font-size=\"14.00\">Normal</text>\n",
       "</g>\n",
       "<!-- mu&#45;&gt;y -->\n",
       "<g id=\"edge1\" class=\"edge\">\n",
       "<title>mu&#45;&gt;y</title>\n",
       "<path fill=\"none\" stroke=\"black\" d=\"M205.6,-163.7C197.81,-150.15 188.74,-134.39 180.5,-120.07\"/>\n",
       "<polygon fill=\"black\" stroke=\"black\" points=\"183.52,-118.3 175.5,-111.37 177.45,-121.79 183.52,-118.3\"/>\n",
       "</g>\n",
       "<!-- sigma -->\n",
       "<g id=\"node2\" class=\"node\">\n",
       "<title>sigma</title>\n",
       "<ellipse fill=\"none\" stroke=\"black\" cx=\"87\" cy=\"-198.43\" rx=\"70.92\" ry=\"37.45\"/>\n",
       "<text text-anchor=\"middle\" x=\"87\" y=\"-209.73\" font-family=\"Times,serif\" font-size=\"14.00\">sigma</text>\n",
       "<text text-anchor=\"middle\" x=\"87\" y=\"-194.73\" font-family=\"Times,serif\" font-size=\"14.00\">~</text>\n",
       "<text text-anchor=\"middle\" x=\"87\" y=\"-179.73\" font-family=\"Times,serif\" font-size=\"14.00\">HalfNormal</text>\n",
       "</g>\n",
       "<!-- sigma&#45;&gt;y -->\n",
       "<g id=\"edge2\" class=\"edge\">\n",
       "<title>sigma&#45;&gt;y</title>\n",
       "<path fill=\"none\" stroke=\"black\" d=\"M107.14,-162.41C114.78,-149.14 123.56,-133.88 131.55,-119.99\"/>\n",
       "<polygon fill=\"black\" stroke=\"black\" points=\"134.71,-121.51 136.66,-111.09 128.64,-118.02 134.71,-121.51\"/>\n",
       "</g>\n",
       "</g>\n",
       "</svg>\n"
      ],
      "text/plain": [
       "<graphviz.graphs.Digraph at 0xffff6d0b1eb0>"
      ]
     },
     "execution_count": 15,
     "metadata": {},
     "output_type": "execute_result"
    }
   ],
   "source": [
    "pm.model_to_graphviz(cs_nh)"
   ]
  },
  {
   "cell_type": "code",
   "execution_count": 16,
   "id": "78b59d9e-7110-4068-a7e0-ab5f3b7ad933",
   "metadata": {},
   "outputs": [
    {
     "name": "stderr",
     "output_type": "stream",
     "text": [
      "Auto-assigning NUTS sampler...\n",
      "Initializing NUTS using jitter+adapt_diag...\n",
      "Multiprocess sampling (4 chains in 4 jobs)\n",
      "NUTS: [mu_mu, mu_sigma, mu, sigma]\n"
     ]
    },
    {
     "data": {
      "application/vnd.jupyter.widget-view+json": {
       "model_id": "250a238a0633451c885b3966b1aa3044",
       "version_major": 2,
       "version_minor": 0
      },
      "text/plain": [
       "Output()"
      ]
     },
     "metadata": {},
     "output_type": "display_data"
    },
    {
     "data": {
      "text/html": [
       "<pre style=\"white-space:pre;overflow-x:auto;line-height:normal;font-family:Menlo,'DejaVu Sans Mono',consolas,'Courier New',monospace\"></pre>\n"
      ],
      "text/plain": []
     },
     "metadata": {},
     "output_type": "display_data"
    },
    {
     "name": "stderr",
     "output_type": "stream",
     "text": [
      "Sampling 4 chains for 1_000 tune and 1_000 draw iterations (4_000 + 4_000 draws total) took 2 seconds.\n"
     ]
    }
   ],
   "source": [
    "with pm.Model(coords=coords) as cs_h:\n",
    "    # Hyper-priors.\n",
    "    mu_mu = pm.Normal(\"mu_mu\", mu=0, sigma=10)\n",
    "    mu_sigma = pm.HalfNormal(\"mu_sigma\", sigma=10)\n",
    "    \n",
    "    # Priors.\n",
    "    mu = pm.Normal(\"mu\", mu=mu_mu, sigma=mu_sigma, dims=\"aa\")\n",
    "    sigma = pm.HalfNormal(\"sigma\", sigma=10, dims=\"aa\")\n",
    "    \n",
    "    # Likelihood (same as before).\n",
    "    y = pm.Normal(\"y\", mu=mu[idx], sigma=sigma[idx], observed=diff)\n",
    "    idata_cs_h = pm.sample()"
   ]
  },
  {
   "cell_type": "code",
   "execution_count": 17,
   "id": "61a58256-db18-4345-8e2f-4a98d6272cd2",
   "metadata": {},
   "outputs": [
    {
     "data": {
      "image/svg+xml": [
       "<?xml version=\"1.0\" encoding=\"UTF-8\" standalone=\"no\"?>\n",
       "<!DOCTYPE svg PUBLIC \"-//W3C//DTD SVG 1.1//EN\"\n",
       " \"http://www.w3.org/Graphics/SVG/1.1/DTD/svg11.dtd\">\n",
       "<!-- Generated by graphviz version 2.43.0 (0)\n",
       " -->\n",
       "<!-- Title: %3 Pages: 1 -->\n",
       "<svg width=\"351pt\" height=\"355pt\"\n",
       " viewBox=\"0.00 0.00 351.50 354.86\" xmlns=\"http://www.w3.org/2000/svg\" xmlns:xlink=\"http://www.w3.org/1999/xlink\">\n",
       "<g id=\"graph0\" class=\"graph\" transform=\"scale(1 1) rotate(0) translate(4 350.86)\">\n",
       "<title>%3</title>\n",
       "<polygon fill=\"white\" stroke=\"transparent\" points=\"-4,4 -4,-350.86 347.5,-350.86 347.5,4 -4,4\"/>\n",
       "<g id=\"clust1\" class=\"cluster\">\n",
       "<title>clusteraa (19)</title>\n",
       "<path fill=\"none\" stroke=\"black\" d=\"M20,-129.95C20,-129.95 270,-129.95 270,-129.95 276,-129.95 282,-135.95 282,-141.95 282,-141.95 282,-231.91 282,-231.91 282,-237.91 276,-243.91 270,-243.91 270,-243.91 20,-243.91 20,-243.91 14,-243.91 8,-237.91 8,-231.91 8,-231.91 8,-141.95 8,-141.95 8,-135.95 14,-129.95 20,-129.95\"/>\n",
       "<text text-anchor=\"middle\" x=\"249\" y=\"-137.75\" font-family=\"Times,serif\" font-size=\"14.00\">aa (19)</text>\n",
       "</g>\n",
       "<g id=\"clust2\" class=\"cluster\">\n",
       "<title>cluster1776</title>\n",
       "<path fill=\"none\" stroke=\"black\" d=\"M111,-8C111,-8 201,-8 201,-8 207,-8 213,-14 213,-20 213,-20 213,-109.95 213,-109.95 213,-115.95 207,-121.95 201,-121.95 201,-121.95 111,-121.95 111,-121.95 105,-121.95 99,-115.95 99,-109.95 99,-109.95 99,-20 99,-20 99,-14 105,-8 111,-8\"/>\n",
       "<text text-anchor=\"middle\" x=\"186.5\" y=\"-15.8\" font-family=\"Times,serif\" font-size=\"14.00\">1776</text>\n",
       "</g>\n",
       "<!-- mu_sigma -->\n",
       "<g id=\"node1\" class=\"node\">\n",
       "<title>mu_sigma</title>\n",
       "<ellipse fill=\"none\" stroke=\"black\" cx=\"156\" cy=\"-309.38\" rx=\"70.92\" ry=\"37.45\"/>\n",
       "<text text-anchor=\"middle\" x=\"156\" y=\"-320.68\" font-family=\"Times,serif\" font-size=\"14.00\">mu_sigma</text>\n",
       "<text text-anchor=\"middle\" x=\"156\" y=\"-305.68\" font-family=\"Times,serif\" font-size=\"14.00\">~</text>\n",
       "<text text-anchor=\"middle\" x=\"156\" y=\"-290.68\" font-family=\"Times,serif\" font-size=\"14.00\">HalfNormal</text>\n",
       "</g>\n",
       "<!-- mu -->\n",
       "<g id=\"node3\" class=\"node\">\n",
       "<title>mu</title>\n",
       "<ellipse fill=\"none\" stroke=\"black\" cx=\"225\" cy=\"-198.43\" rx=\"49.49\" ry=\"37.45\"/>\n",
       "<text text-anchor=\"middle\" x=\"225\" y=\"-209.73\" font-family=\"Times,serif\" font-size=\"14.00\">mu</text>\n",
       "<text text-anchor=\"middle\" x=\"225\" y=\"-194.73\" font-family=\"Times,serif\" font-size=\"14.00\">~</text>\n",
       "<text text-anchor=\"middle\" x=\"225\" y=\"-179.73\" font-family=\"Times,serif\" font-size=\"14.00\">Normal</text>\n",
       "</g>\n",
       "<!-- mu_sigma&#45;&gt;mu -->\n",
       "<g id=\"edge1\" class=\"edge\">\n",
       "<title>mu_sigma&#45;&gt;mu</title>\n",
       "<path fill=\"none\" stroke=\"black\" d=\"M178.02,-273.61C184.49,-263.39 191.64,-252.11 198.37,-241.49\"/>\n",
       "<polygon fill=\"black\" stroke=\"black\" points=\"201.5,-243.08 203.89,-232.76 195.59,-239.33 201.5,-243.08\"/>\n",
       "</g>\n",
       "<!-- mu_mu -->\n",
       "<g id=\"node2\" class=\"node\">\n",
       "<title>mu_mu</title>\n",
       "<ellipse fill=\"none\" stroke=\"black\" cx=\"294\" cy=\"-309.38\" rx=\"49.49\" ry=\"37.45\"/>\n",
       "<text text-anchor=\"middle\" x=\"294\" y=\"-320.68\" font-family=\"Times,serif\" font-size=\"14.00\">mu_mu</text>\n",
       "<text text-anchor=\"middle\" x=\"294\" y=\"-305.68\" font-family=\"Times,serif\" font-size=\"14.00\">~</text>\n",
       "<text text-anchor=\"middle\" x=\"294\" y=\"-290.68\" font-family=\"Times,serif\" font-size=\"14.00\">Normal</text>\n",
       "</g>\n",
       "<!-- mu_mu&#45;&gt;mu -->\n",
       "<g id=\"edge2\" class=\"edge\">\n",
       "<title>mu_mu&#45;&gt;mu</title>\n",
       "<path fill=\"none\" stroke=\"black\" d=\"M273.11,-275.4C266.28,-264.62 258.61,-252.5 251.43,-241.16\"/>\n",
       "<polygon fill=\"black\" stroke=\"black\" points=\"254.36,-239.25 246.06,-232.68 248.45,-243 254.36,-239.25\"/>\n",
       "</g>\n",
       "<!-- y -->\n",
       "<g id=\"node5\" class=\"node\">\n",
       "<title>y</title>\n",
       "<ellipse fill=\"lightgrey\" stroke=\"black\" cx=\"156\" cy=\"-76.48\" rx=\"49.49\" ry=\"37.45\"/>\n",
       "<text text-anchor=\"middle\" x=\"156\" y=\"-87.78\" font-family=\"Times,serif\" font-size=\"14.00\">y</text>\n",
       "<text text-anchor=\"middle\" x=\"156\" y=\"-72.78\" font-family=\"Times,serif\" font-size=\"14.00\">~</text>\n",
       "<text text-anchor=\"middle\" x=\"156\" y=\"-57.78\" font-family=\"Times,serif\" font-size=\"14.00\">Normal</text>\n",
       "</g>\n",
       "<!-- mu&#45;&gt;y -->\n",
       "<g id=\"edge3\" class=\"edge\">\n",
       "<title>mu&#45;&gt;y</title>\n",
       "<path fill=\"none\" stroke=\"black\" d=\"M205.6,-163.7C197.81,-150.15 188.74,-134.39 180.5,-120.07\"/>\n",
       "<polygon fill=\"black\" stroke=\"black\" points=\"183.52,-118.3 175.5,-111.37 177.45,-121.79 183.52,-118.3\"/>\n",
       "</g>\n",
       "<!-- sigma -->\n",
       "<g id=\"node4\" class=\"node\">\n",
       "<title>sigma</title>\n",
       "<ellipse fill=\"none\" stroke=\"black\" cx=\"87\" cy=\"-198.43\" rx=\"70.92\" ry=\"37.45\"/>\n",
       "<text text-anchor=\"middle\" x=\"87\" y=\"-209.73\" font-family=\"Times,serif\" font-size=\"14.00\">sigma</text>\n",
       "<text text-anchor=\"middle\" x=\"87\" y=\"-194.73\" font-family=\"Times,serif\" font-size=\"14.00\">~</text>\n",
       "<text text-anchor=\"middle\" x=\"87\" y=\"-179.73\" font-family=\"Times,serif\" font-size=\"14.00\">HalfNormal</text>\n",
       "</g>\n",
       "<!-- sigma&#45;&gt;y -->\n",
       "<g id=\"edge4\" class=\"edge\">\n",
       "<title>sigma&#45;&gt;y</title>\n",
       "<path fill=\"none\" stroke=\"black\" d=\"M107.14,-162.41C114.78,-149.14 123.56,-133.88 131.55,-119.99\"/>\n",
       "<polygon fill=\"black\" stroke=\"black\" points=\"134.71,-121.51 136.66,-111.09 128.64,-118.02 134.71,-121.51\"/>\n",
       "</g>\n",
       "</g>\n",
       "</svg>\n"
      ],
      "text/plain": [
       "<graphviz.graphs.Digraph at 0xffff367dff20>"
      ]
     },
     "execution_count": 17,
     "metadata": {},
     "output_type": "execute_result"
    }
   ],
   "source": [
    "pm.model_to_graphviz(cs_h)"
   ]
  },
  {
   "cell_type": "code",
   "execution_count": 18,
   "id": "3e68bbb8-4846-4d3e-9de1-c26fc00469dc",
   "metadata": {},
   "outputs": [
    {
     "data": {
      "image/png": "[encoded data removed]",
      "text/plain": [
       "<Figure size 600x880 with 1 Axes>"
      ]
     },
     "metadata": {},
     "output_type": "display_data"
    }
   ],
   "source": [
    "# We have two models and we want to compare the estimates.\n",
    "# - There are 20 groups and each model has 4 estimates.\n",
    "# - We plot the 94% credible intervals.\n",
    "# - The vertical line is the global mean according to the hierarchical model.\n",
    "# - The blue (hierarchical) means are pulled towards the mean, wrt the orange (non-hierarchical) ones.\n",
    "axes = az.plot_forest([idata_cs_h, idata_cs_nh],\n",
    "                      model_names=['h', 'n_h'],\n",
    "                      var_names='mu',\n",
    "                      combined=True,\n",
    "                      colors='cycle')\n",
    "\n",
    "y_lims = axes[0].get_ylim()\n",
    "axes[0].vlines(idata_cs_h.posterior['mu_mu'].mean(), *y_lims, color='navy')\n",
    "axes[0].vlines(idata_cs_nh.posterior['mu'].mean(), *y_lims, color='orange');"
   ]
  }
 ],
 "metadata": {
  "jupytext": {
   "formats": "ipynb,py:percent"
  },
  "kernelspec": {
   "display_name": "Python 3 (ipykernel)",
   "language": "python",
   "name": "python3"
  },
  "language_info": {
   "codemirror_mode": {
    "name": "ipython",
    "version": 3
   },
   "file_extension": ".py",
   "mimetype": "text/x-python",
   "name": "python",
   "nbconvert_exporter": "python",
   "pygments_lexer": "ipython3",
   "version": "3.12.3"
  },
  "toc": {
   "base_numbering": 1,
   "nav_menu": {},
   "number_sections": true,
   "sideBar": true,
   "skip_h1_title": false,
   "title_cell": "Table of Contents",
   "title_sidebar": "Contents",
   "toc_cell": false,
   "toc_position": {
    "height": "calc(100% - 180px)",
    "left": "10px",
    "top": "150px",
    "width": "165px"
   },
   "toc_section_display": true,
   "toc_window_display": true
  }
 },
 "nbformat": 4,
 "nbformat_minor": 5
}
