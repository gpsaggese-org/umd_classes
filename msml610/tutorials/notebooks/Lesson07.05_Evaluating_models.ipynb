{
 "cells": [
  {
   "cell_type": "markdown",
   "id": "c3a5dfca",
   "metadata": {
    "ExecuteTime": {
     "end_time": "2024-02-04T11:21:21.811909Z",
     "start_time": "2024-02-04T11:21:21.668399Z"
    }
   },
   "source": [
    "## Imports"
   ]
  },
  {
   "cell_type": "markdown",
   "id": "e3027bbc-7ae3-423f-9a32-baca41fde7fd",
   "metadata": {},
   "source": [
    "### Install packages"
   ]
  },
  {
   "cell_type": "code",
   "execution_count": 1,
   "id": "1d1fc905-ff47-4672-93ba-90258a30cce1",
   "metadata": {},
   "outputs": [],
   "source": [
    "!sudo /bin/bash -c \"(source /venv/bin/activate; pip install --quiet jupyterlab-vim)\"\n",
    "!jupyter labextension enable"
   ]
  },
  {
   "cell_type": "markdown",
   "id": "9c7a36ec-a7df-4005-af4c-c0ac53ad97bd",
   "metadata": {},
   "source": [
    "### Import modules"
   ]
  },
  {
   "cell_type": "code",
   "execution_count": 2,
   "id": "f3e8d4eb",
   "metadata": {
    "ExecuteTime": {
     "end_time": "2024-08-04T21:09:56.844932Z",
     "start_time": "2024-08-04T21:09:56.430866Z"
    }
   },
   "outputs": [
    {
     "name": "stderr",
     "output_type": "stream",
     "text": [
      "WARNING (pytensor.tensor.blas): Using NumPy C-API based implementation for BLAS functions.\n"
     ]
    }
   ],
   "source": [
    "%load_ext autoreload\n",
    "%autoreload 2\n",
    "\n",
    "import logging\n",
    "\n",
    "import arviz as az\n",
    "import pandas as pd\n",
    "import xarray as xr\n",
    "import pymc as pm\n",
    "import numpy as np\n",
    "import seaborn as sns\n",
    "import scipy.stats as stats\n",
    "import matplotlib.pyplot as plt\n",
    "import preliz as pz"
   ]
  },
  {
   "cell_type": "code",
   "execution_count": 3,
   "id": "c0a9bb01-086a-4c00-90c0-4b2a0d026884",
   "metadata": {},
   "outputs": [
    {
     "name": "stdout",
     "output_type": "stream",
     "text": [
      "# Setting notebook style\n",
      "# Notebook signature\n",
      "Python 3.12.3\n",
      "Linux ec1347f4acf5 6.10.14-linuxkit #1 SMP Tue Apr 15 16:00:54 UTC 2025 aarch64 aarch64 aarch64 GNU/Linux\n",
      "numpy version=1.26.4\n",
      "pymc version=5.18.2\n",
      "matplotlib version=3.10.3\n",
      "arviz version=0.21.0\n",
      "preliz version=0.19.0\n"
     ]
    }
   ],
   "source": [
    "import msml610_utils as ut\n",
    "\n",
    "ut.config_notebook()"
   ]
  },
  {
   "cell_type": "markdown",
   "id": "b3a0f57c-2feb-4340-8f4d-ff0a3074d384",
   "metadata": {},
   "source": [
    "# Posterior predictive check: Examples"
   ]
  },
  {
   "cell_type": "code",
   "execution_count": 4,
   "id": "365c8b2a-d95a-4d14-a0a2-71742bcabc24",
   "metadata": {},
   "outputs": [
    {
     "name": "stdout",
     "output_type": "stream",
     "text": [
      "anscombe.csv\t     chemical_shifts_theo_exp.csv  islands.csv\n",
      "anscombe_3.csv\t     coal.csv\t\t\t   penguins.csv\n",
      "babies.csv\t     dummy.csv\t\t\t   pigs.csv\n",
      "bikes.csv\t     fish.csv\t\t\t   redwood.csv\n",
      "bikes_full.csv\t     football_players.csv\t   space_flu.csv\n",
      "body_fat.csv\t     horseshoe_crab.csv\t\t   tips.csv\n",
      "body_fat_full.csv    howell.csv\n",
      "chemical_shifts.csv  iris.csv\n"
     ]
    }
   ],
   "source": [
    "dir_name = \"./Lesson07-data\"\n",
    "\n",
    "!ls $dir_name"
   ]
  },
  {
   "cell_type": "code",
   "execution_count": 5,
   "id": "68936b23-1536-4591-8416-77375af7a925",
   "metadata": {},
   "outputs": [
    {
     "data": {
      "text/html": [
       "<div>\n",
       "<style scoped>\n",
       "    .dataframe tbody tr th:only-of-type {\n",
       "        vertical-align: middle;\n",
       "    }\n",
       "\n",
       "    .dataframe tbody tr th {\n",
       "        vertical-align: top;\n",
       "    }\n",
       "\n",
       "    .dataframe thead th {\n",
       "        text-align: right;\n",
       "    }\n",
       "</style>\n",
       "<table border=\"1\" class=\"dataframe\">\n",
       "  <thead>\n",
       "    <tr style=\"text-align: right;\">\n",
       "      <th></th>\n",
       "      <th>0</th>\n",
       "      <th>1</th>\n",
       "      <th>2</th>\n",
       "      <th>3</th>\n",
       "      <th>4</th>\n",
       "      <th>5</th>\n",
       "      <th>6</th>\n",
       "      <th>7</th>\n",
       "      <th>8</th>\n",
       "      <th>9</th>\n",
       "      <th>...</th>\n",
       "      <th>23</th>\n",
       "      <th>24</th>\n",
       "      <th>25</th>\n",
       "      <th>26</th>\n",
       "      <th>27</th>\n",
       "      <th>28</th>\n",
       "      <th>29</th>\n",
       "      <th>30</th>\n",
       "      <th>31</th>\n",
       "      <th>32</th>\n",
       "    </tr>\n",
       "  </thead>\n",
       "  <tbody>\n",
       "    <tr>\n",
       "      <th>0</th>\n",
       "      <td>-1.081000</td>\n",
       "      <td>-0.888000</td>\n",
       "      <td>-0.623000</td>\n",
       "      <td>-0.4800</td>\n",
       "      <td>-0.505000</td>\n",
       "      <td>-0.345000</td>\n",
       "      <td>0.052000</td>\n",
       "      <td>0.061000</td>\n",
       "      <td>0.215000</td>\n",
       "      <td>0.395000</td>\n",
       "      <td>...</td>\n",
       "      <td>2.531000</td>\n",
       "      <td>2.765000</td>\n",
       "      <td>2.913000</td>\n",
       "      <td>3.168000</td>\n",
       "      <td>3.119000</td>\n",
       "      <td>3.385000</td>\n",
       "      <td>3.488000</td>\n",
       "      <td>3.538000</td>\n",
       "      <td>3.90</td>\n",
       "      <td>3.9700</td>\n",
       "    </tr>\n",
       "    <tr>\n",
       "      <th>1</th>\n",
       "      <td>1.168561</td>\n",
       "      <td>0.788544</td>\n",
       "      <td>0.388129</td>\n",
       "      <td>0.2304</td>\n",
       "      <td>0.255025</td>\n",
       "      <td>0.119025</td>\n",
       "      <td>0.002704</td>\n",
       "      <td>0.003721</td>\n",
       "      <td>0.046225</td>\n",
       "      <td>0.156025</td>\n",
       "      <td>...</td>\n",
       "      <td>6.405961</td>\n",
       "      <td>7.645225</td>\n",
       "      <td>8.485569</td>\n",
       "      <td>10.036224</td>\n",
       "      <td>9.728161</td>\n",
       "      <td>11.458225</td>\n",
       "      <td>12.166144</td>\n",
       "      <td>12.517444</td>\n",
       "      <td>15.21</td>\n",
       "      <td>15.7609</td>\n",
       "    </tr>\n",
       "  </tbody>\n",
       "</table>\n",
       "<p>2 rows × 33 columns</p>\n",
       "</div>"
      ],
      "text/plain": [
       "         0         1         2       3         4         5         6   \\\n",
       "0 -1.081000 -0.888000 -0.623000 -0.4800 -0.505000 -0.345000  0.052000   \n",
       "1  1.168561  0.788544  0.388129  0.2304  0.255025  0.119025  0.002704   \n",
       "\n",
       "         7         8         9   ...        23        24        25         26  \\\n",
       "0  0.061000  0.215000  0.395000  ...  2.531000  2.765000  2.913000   3.168000   \n",
       "1  0.003721  0.046225  0.156025  ...  6.405961  7.645225  8.485569  10.036224   \n",
       "\n",
       "         27         28         29         30     31       32  \n",
       "0  3.119000   3.385000   3.488000   3.538000   3.90   3.9700  \n",
       "1  9.728161  11.458225  12.166144  12.517444  15.21  15.7609  \n",
       "\n",
       "[2 rows x 33 columns]"
      ]
     },
     "metadata": {},
     "output_type": "display_data"
    },
    {
     "ename": "FileNotFoundError",
     "evalue": "[Errno 2] No such file or directory: '/app/lectures_source/figures/Lesson07.Comparing_models.data.png'",
     "output_type": "error",
     "traceback": [
      "\u001b[0;31m---------------------------------------------------------------------------\u001b[0m",
      "\u001b[0;31mFileNotFoundError\u001b[0m                         Traceback (most recent call last)",
      "Cell \u001b[0;32mIn[5], line 21\u001b[0m\n\u001b[1;32m     18\u001b[0m plt\u001b[38;5;241m.\u001b[39mxlabel(\u001b[38;5;124m'\u001b[39m\u001b[38;5;124mx\u001b[39m\u001b[38;5;124m'\u001b[39m)\n\u001b[1;32m     19\u001b[0m plt\u001b[38;5;241m.\u001b[39mylabel(\u001b[38;5;124m'\u001b[39m\u001b[38;5;124my\u001b[39m\u001b[38;5;124m'\u001b[39m);\n\u001b[0;32m---> 21\u001b[0m \u001b[43mut\u001b[49m\u001b[38;5;241;43m.\u001b[39;49m\u001b[43msave_plt\u001b[49m\u001b[43m(\u001b[49m\u001b[38;5;124;43m\"\u001b[39;49m\u001b[38;5;124;43mLesson07.Comparing_models.data.png\u001b[39;49m\u001b[38;5;124;43m\"\u001b[39;49m\u001b[43m)\u001b[49m\n",
      "File \u001b[0;32m/app/msml610/tutorials/msml610_utils.py:757\u001b[0m, in \u001b[0;36msave_plt\u001b[0;34m(file_name)\u001b[0m\n\u001b[1;32m    755\u001b[0m \u001b[38;5;28;01mdef\u001b[39;00m\u001b[38;5;250m \u001b[39m\u001b[38;5;21msave_plt\u001b[39m(file_name):\n\u001b[1;32m    756\u001b[0m     file_name \u001b[38;5;241m=\u001b[39m os\u001b[38;5;241m.\u001b[39mpath\u001b[38;5;241m.\u001b[39mjoin(fig_dir, file_name)\n\u001b[0;32m--> 757\u001b[0m     \u001b[43mplt\u001b[49m\u001b[38;5;241;43m.\u001b[39;49m\u001b[43msavefig\u001b[49m\u001b[43m(\u001b[49m\u001b[43mfile_name\u001b[49m\u001b[43m,\u001b[49m\u001b[43m \u001b[49m\u001b[43mdpi\u001b[49m\u001b[38;5;241;43m=\u001b[39;49m\u001b[38;5;241;43m300\u001b[39;49m\u001b[43m,\u001b[49m\u001b[43m \u001b[49m\u001b[43mbbox_inches\u001b[49m\u001b[38;5;241;43m=\u001b[39;49m\u001b[38;5;124;43m\"\u001b[39;49m\u001b[38;5;124;43mtight\u001b[39;49m\u001b[38;5;124;43m\"\u001b[39;49m\u001b[43m)\u001b[49m\n\u001b[1;32m    758\u001b[0m     \u001b[38;5;66;03m#\u001b[39;00m\n\u001b[1;32m    759\u001b[0m     file_name \u001b[38;5;241m=\u001b[39m file_name\u001b[38;5;241m.\u001b[39mreplace(\u001b[38;5;124m\"\u001b[39m\u001b[38;5;124m/app/\u001b[39m\u001b[38;5;124m\"\u001b[39m, \u001b[38;5;124m\"\u001b[39m\u001b[38;5;124m\"\u001b[39m)\n",
      "File \u001b[0;32m/venv/lib/python3.12/site-packages/matplotlib/pyplot.py:1251\u001b[0m, in \u001b[0;36msavefig\u001b[0;34m(*args, **kwargs)\u001b[0m\n\u001b[1;32m   1248\u001b[0m fig \u001b[38;5;241m=\u001b[39m gcf()\n\u001b[1;32m   1249\u001b[0m \u001b[38;5;66;03m# savefig default implementation has no return, so mypy is unhappy\u001b[39;00m\n\u001b[1;32m   1250\u001b[0m \u001b[38;5;66;03m# presumably this is here because subclasses can return?\u001b[39;00m\n\u001b[0;32m-> 1251\u001b[0m res \u001b[38;5;241m=\u001b[39m \u001b[43mfig\u001b[49m\u001b[38;5;241;43m.\u001b[39;49m\u001b[43msavefig\u001b[49m\u001b[43m(\u001b[49m\u001b[38;5;241;43m*\u001b[39;49m\u001b[43margs\u001b[49m\u001b[43m,\u001b[49m\u001b[43m \u001b[49m\u001b[38;5;241;43m*\u001b[39;49m\u001b[38;5;241;43m*\u001b[39;49m\u001b[43mkwargs\u001b[49m\u001b[43m)\u001b[49m  \u001b[38;5;66;03m# type: ignore[func-returns-value]\u001b[39;00m\n\u001b[1;32m   1252\u001b[0m fig\u001b[38;5;241m.\u001b[39mcanvas\u001b[38;5;241m.\u001b[39mdraw_idle()  \u001b[38;5;66;03m# Need this if 'transparent=True', to reset colors.\u001b[39;00m\n\u001b[1;32m   1253\u001b[0m \u001b[38;5;28;01mreturn\u001b[39;00m res\n",
      "File \u001b[0;32m/venv/lib/python3.12/site-packages/matplotlib/figure.py:3490\u001b[0m, in \u001b[0;36mFigure.savefig\u001b[0;34m(self, fname, transparent, **kwargs)\u001b[0m\n\u001b[1;32m   3488\u001b[0m     \u001b[38;5;28;01mfor\u001b[39;00m ax \u001b[38;5;129;01min\u001b[39;00m \u001b[38;5;28mself\u001b[39m\u001b[38;5;241m.\u001b[39maxes:\n\u001b[1;32m   3489\u001b[0m         _recursively_make_axes_transparent(stack, ax)\n\u001b[0;32m-> 3490\u001b[0m \u001b[38;5;28;43mself\u001b[39;49m\u001b[38;5;241;43m.\u001b[39;49m\u001b[43mcanvas\u001b[49m\u001b[38;5;241;43m.\u001b[39;49m\u001b[43mprint_figure\u001b[49m\u001b[43m(\u001b[49m\u001b[43mfname\u001b[49m\u001b[43m,\u001b[49m\u001b[43m \u001b[49m\u001b[38;5;241;43m*\u001b[39;49m\u001b[38;5;241;43m*\u001b[39;49m\u001b[43mkwargs\u001b[49m\u001b[43m)\u001b[49m\n",
      "File \u001b[0;32m/venv/lib/python3.12/site-packages/matplotlib/backend_bases.py:2184\u001b[0m, in \u001b[0;36mFigureCanvasBase.print_figure\u001b[0;34m(self, filename, dpi, facecolor, edgecolor, orientation, format, bbox_inches, pad_inches, bbox_extra_artists, backend, **kwargs)\u001b[0m\n\u001b[1;32m   2180\u001b[0m \u001b[38;5;28;01mtry\u001b[39;00m:\n\u001b[1;32m   2181\u001b[0m     \u001b[38;5;66;03m# _get_renderer may change the figure dpi (as vector formats\u001b[39;00m\n\u001b[1;32m   2182\u001b[0m     \u001b[38;5;66;03m# force the figure dpi to 72), so we need to set it again here.\u001b[39;00m\n\u001b[1;32m   2183\u001b[0m     \u001b[38;5;28;01mwith\u001b[39;00m cbook\u001b[38;5;241m.\u001b[39m_setattr_cm(\u001b[38;5;28mself\u001b[39m\u001b[38;5;241m.\u001b[39mfigure, dpi\u001b[38;5;241m=\u001b[39mdpi):\n\u001b[0;32m-> 2184\u001b[0m         result \u001b[38;5;241m=\u001b[39m \u001b[43mprint_method\u001b[49m\u001b[43m(\u001b[49m\n\u001b[1;32m   2185\u001b[0m \u001b[43m            \u001b[49m\u001b[43mfilename\u001b[49m\u001b[43m,\u001b[49m\n\u001b[1;32m   2186\u001b[0m \u001b[43m            \u001b[49m\u001b[43mfacecolor\u001b[49m\u001b[38;5;241;43m=\u001b[39;49m\u001b[43mfacecolor\u001b[49m\u001b[43m,\u001b[49m\n\u001b[1;32m   2187\u001b[0m \u001b[43m            \u001b[49m\u001b[43medgecolor\u001b[49m\u001b[38;5;241;43m=\u001b[39;49m\u001b[43medgecolor\u001b[49m\u001b[43m,\u001b[49m\n\u001b[1;32m   2188\u001b[0m \u001b[43m            \u001b[49m\u001b[43morientation\u001b[49m\u001b[38;5;241;43m=\u001b[39;49m\u001b[43morientation\u001b[49m\u001b[43m,\u001b[49m\n\u001b[1;32m   2189\u001b[0m \u001b[43m            \u001b[49m\u001b[43mbbox_inches_restore\u001b[49m\u001b[38;5;241;43m=\u001b[39;49m\u001b[43m_bbox_inches_restore\u001b[49m\u001b[43m,\u001b[49m\n\u001b[1;32m   2190\u001b[0m \u001b[43m            \u001b[49m\u001b[38;5;241;43m*\u001b[39;49m\u001b[38;5;241;43m*\u001b[39;49m\u001b[43mkwargs\u001b[49m\u001b[43m)\u001b[49m\n\u001b[1;32m   2191\u001b[0m \u001b[38;5;28;01mfinally\u001b[39;00m:\n\u001b[1;32m   2192\u001b[0m     \u001b[38;5;28;01mif\u001b[39;00m bbox_inches \u001b[38;5;129;01mand\u001b[39;00m restore_bbox:\n",
      "File \u001b[0;32m/venv/lib/python3.12/site-packages/matplotlib/backend_bases.py:2040\u001b[0m, in \u001b[0;36mFigureCanvasBase._switch_canvas_and_return_print_method.<locals>.<lambda>\u001b[0;34m(*args, **kwargs)\u001b[0m\n\u001b[1;32m   2036\u001b[0m     optional_kws \u001b[38;5;241m=\u001b[39m {  \u001b[38;5;66;03m# Passed by print_figure for other renderers.\u001b[39;00m\n\u001b[1;32m   2037\u001b[0m         \u001b[38;5;124m\"\u001b[39m\u001b[38;5;124mdpi\u001b[39m\u001b[38;5;124m\"\u001b[39m, \u001b[38;5;124m\"\u001b[39m\u001b[38;5;124mfacecolor\u001b[39m\u001b[38;5;124m\"\u001b[39m, \u001b[38;5;124m\"\u001b[39m\u001b[38;5;124medgecolor\u001b[39m\u001b[38;5;124m\"\u001b[39m, \u001b[38;5;124m\"\u001b[39m\u001b[38;5;124morientation\u001b[39m\u001b[38;5;124m\"\u001b[39m,\n\u001b[1;32m   2038\u001b[0m         \u001b[38;5;124m\"\u001b[39m\u001b[38;5;124mbbox_inches_restore\u001b[39m\u001b[38;5;124m\"\u001b[39m}\n\u001b[1;32m   2039\u001b[0m     skip \u001b[38;5;241m=\u001b[39m optional_kws \u001b[38;5;241m-\u001b[39m {\u001b[38;5;241m*\u001b[39minspect\u001b[38;5;241m.\u001b[39msignature(meth)\u001b[38;5;241m.\u001b[39mparameters}\n\u001b[0;32m-> 2040\u001b[0m     print_method \u001b[38;5;241m=\u001b[39m functools\u001b[38;5;241m.\u001b[39mwraps(meth)(\u001b[38;5;28;01mlambda\u001b[39;00m \u001b[38;5;241m*\u001b[39margs, \u001b[38;5;241m*\u001b[39m\u001b[38;5;241m*\u001b[39mkwargs: \u001b[43mmeth\u001b[49m\u001b[43m(\u001b[49m\n\u001b[1;32m   2041\u001b[0m \u001b[43m        \u001b[49m\u001b[38;5;241;43m*\u001b[39;49m\u001b[43margs\u001b[49m\u001b[43m,\u001b[49m\u001b[43m \u001b[49m\u001b[38;5;241;43m*\u001b[39;49m\u001b[38;5;241;43m*\u001b[39;49m\u001b[43m{\u001b[49m\u001b[43mk\u001b[49m\u001b[43m:\u001b[49m\u001b[43m \u001b[49m\u001b[43mv\u001b[49m\u001b[43m \u001b[49m\u001b[38;5;28;43;01mfor\u001b[39;49;00m\u001b[43m \u001b[49m\u001b[43mk\u001b[49m\u001b[43m,\u001b[49m\u001b[43m \u001b[49m\u001b[43mv\u001b[49m\u001b[43m \u001b[49m\u001b[38;5;129;43;01min\u001b[39;49;00m\u001b[43m \u001b[49m\u001b[43mkwargs\u001b[49m\u001b[38;5;241;43m.\u001b[39;49m\u001b[43mitems\u001b[49m\u001b[43m(\u001b[49m\u001b[43m)\u001b[49m\u001b[43m \u001b[49m\u001b[38;5;28;43;01mif\u001b[39;49;00m\u001b[43m \u001b[49m\u001b[43mk\u001b[49m\u001b[43m \u001b[49m\u001b[38;5;129;43;01mnot\u001b[39;49;00m\u001b[43m \u001b[49m\u001b[38;5;129;43;01min\u001b[39;49;00m\u001b[43m \u001b[49m\u001b[43mskip\u001b[49m\u001b[43m}\u001b[49m\u001b[43m)\u001b[49m)\n\u001b[1;32m   2042\u001b[0m \u001b[38;5;28;01melse\u001b[39;00m:  \u001b[38;5;66;03m# Let third-parties do as they see fit.\u001b[39;00m\n\u001b[1;32m   2043\u001b[0m     print_method \u001b[38;5;241m=\u001b[39m meth\n",
      "File \u001b[0;32m/venv/lib/python3.12/site-packages/matplotlib/backends/backend_agg.py:481\u001b[0m, in \u001b[0;36mFigureCanvasAgg.print_png\u001b[0;34m(self, filename_or_obj, metadata, pil_kwargs)\u001b[0m\n\u001b[1;32m    434\u001b[0m \u001b[38;5;28;01mdef\u001b[39;00m\u001b[38;5;250m \u001b[39m\u001b[38;5;21mprint_png\u001b[39m(\u001b[38;5;28mself\u001b[39m, filename_or_obj, \u001b[38;5;241m*\u001b[39m, metadata\u001b[38;5;241m=\u001b[39m\u001b[38;5;28;01mNone\u001b[39;00m, pil_kwargs\u001b[38;5;241m=\u001b[39m\u001b[38;5;28;01mNone\u001b[39;00m):\n\u001b[1;32m    435\u001b[0m \u001b[38;5;250m    \u001b[39m\u001b[38;5;124;03m\"\"\"\u001b[39;00m\n\u001b[1;32m    436\u001b[0m \u001b[38;5;124;03m    Write the figure to a PNG file.\u001b[39;00m\n\u001b[1;32m    437\u001b[0m \n\u001b[0;32m   (...)\u001b[0m\n\u001b[1;32m    479\u001b[0m \u001b[38;5;124;03m        *metadata*, including the default 'Software' key.\u001b[39;00m\n\u001b[1;32m    480\u001b[0m \u001b[38;5;124;03m    \"\"\"\u001b[39;00m\n\u001b[0;32m--> 481\u001b[0m     \u001b[38;5;28;43mself\u001b[39;49m\u001b[38;5;241;43m.\u001b[39;49m\u001b[43m_print_pil\u001b[49m\u001b[43m(\u001b[49m\u001b[43mfilename_or_obj\u001b[49m\u001b[43m,\u001b[49m\u001b[43m \u001b[49m\u001b[38;5;124;43m\"\u001b[39;49m\u001b[38;5;124;43mpng\u001b[39;49m\u001b[38;5;124;43m\"\u001b[39;49m\u001b[43m,\u001b[49m\u001b[43m \u001b[49m\u001b[43mpil_kwargs\u001b[49m\u001b[43m,\u001b[49m\u001b[43m \u001b[49m\u001b[43mmetadata\u001b[49m\u001b[43m)\u001b[49m\n",
      "File \u001b[0;32m/venv/lib/python3.12/site-packages/matplotlib/backends/backend_agg.py:430\u001b[0m, in \u001b[0;36mFigureCanvasAgg._print_pil\u001b[0;34m(self, filename_or_obj, fmt, pil_kwargs, metadata)\u001b[0m\n\u001b[1;32m    425\u001b[0m \u001b[38;5;250m\u001b[39m\u001b[38;5;124;03m\"\"\"\u001b[39;00m\n\u001b[1;32m    426\u001b[0m \u001b[38;5;124;03mDraw the canvas, then save it using `.image.imsave` (to which\u001b[39;00m\n\u001b[1;32m    427\u001b[0m \u001b[38;5;124;03m*pil_kwargs* and *metadata* are forwarded).\u001b[39;00m\n\u001b[1;32m    428\u001b[0m \u001b[38;5;124;03m\"\"\"\u001b[39;00m\n\u001b[1;32m    429\u001b[0m FigureCanvasAgg\u001b[38;5;241m.\u001b[39mdraw(\u001b[38;5;28mself\u001b[39m)\n\u001b[0;32m--> 430\u001b[0m \u001b[43mmpl\u001b[49m\u001b[38;5;241;43m.\u001b[39;49m\u001b[43mimage\u001b[49m\u001b[38;5;241;43m.\u001b[39;49m\u001b[43mimsave\u001b[49m\u001b[43m(\u001b[49m\n\u001b[1;32m    431\u001b[0m \u001b[43m    \u001b[49m\u001b[43mfilename_or_obj\u001b[49m\u001b[43m,\u001b[49m\u001b[43m \u001b[49m\u001b[38;5;28;43mself\u001b[39;49m\u001b[38;5;241;43m.\u001b[39;49m\u001b[43mbuffer_rgba\u001b[49m\u001b[43m(\u001b[49m\u001b[43m)\u001b[49m\u001b[43m,\u001b[49m\u001b[43m \u001b[49m\u001b[38;5;28;43mformat\u001b[39;49m\u001b[38;5;241;43m=\u001b[39;49m\u001b[43mfmt\u001b[49m\u001b[43m,\u001b[49m\u001b[43m \u001b[49m\u001b[43morigin\u001b[49m\u001b[38;5;241;43m=\u001b[39;49m\u001b[38;5;124;43m\"\u001b[39;49m\u001b[38;5;124;43mupper\u001b[39;49m\u001b[38;5;124;43m\"\u001b[39;49m\u001b[43m,\u001b[49m\n\u001b[1;32m    432\u001b[0m \u001b[43m    \u001b[49m\u001b[43mdpi\u001b[49m\u001b[38;5;241;43m=\u001b[39;49m\u001b[38;5;28;43mself\u001b[39;49m\u001b[38;5;241;43m.\u001b[39;49m\u001b[43mfigure\u001b[49m\u001b[38;5;241;43m.\u001b[39;49m\u001b[43mdpi\u001b[49m\u001b[43m,\u001b[49m\u001b[43m \u001b[49m\u001b[43mmetadata\u001b[49m\u001b[38;5;241;43m=\u001b[39;49m\u001b[43mmetadata\u001b[49m\u001b[43m,\u001b[49m\u001b[43m \u001b[49m\u001b[43mpil_kwargs\u001b[49m\u001b[38;5;241;43m=\u001b[39;49m\u001b[43mpil_kwargs\u001b[49m\u001b[43m)\u001b[49m\n",
      "File \u001b[0;32m/venv/lib/python3.12/site-packages/matplotlib/image.py:1657\u001b[0m, in \u001b[0;36mimsave\u001b[0;34m(fname, arr, vmin, vmax, cmap, format, origin, dpi, metadata, pil_kwargs)\u001b[0m\n\u001b[1;32m   1655\u001b[0m pil_kwargs\u001b[38;5;241m.\u001b[39msetdefault(\u001b[38;5;124m\"\u001b[39m\u001b[38;5;124mformat\u001b[39m\u001b[38;5;124m\"\u001b[39m, \u001b[38;5;28mformat\u001b[39m)\n\u001b[1;32m   1656\u001b[0m pil_kwargs\u001b[38;5;241m.\u001b[39msetdefault(\u001b[38;5;124m\"\u001b[39m\u001b[38;5;124mdpi\u001b[39m\u001b[38;5;124m\"\u001b[39m, (dpi, dpi))\n\u001b[0;32m-> 1657\u001b[0m \u001b[43mimage\u001b[49m\u001b[38;5;241;43m.\u001b[39;49m\u001b[43msave\u001b[49m\u001b[43m(\u001b[49m\u001b[43mfname\u001b[49m\u001b[43m,\u001b[49m\u001b[43m \u001b[49m\u001b[38;5;241;43m*\u001b[39;49m\u001b[38;5;241;43m*\u001b[39;49m\u001b[43mpil_kwargs\u001b[49m\u001b[43m)\u001b[49m\n",
      "File \u001b[0;32m/venv/lib/python3.12/site-packages/PIL/Image.py:2576\u001b[0m, in \u001b[0;36mImage.save\u001b[0;34m(self, fp, format, **params)\u001b[0m\n\u001b[1;32m   2574\u001b[0m         fp \u001b[38;5;241m=\u001b[39m builtins\u001b[38;5;241m.\u001b[39mopen(filename, \u001b[38;5;124m\"\u001b[39m\u001b[38;5;124mr+b\u001b[39m\u001b[38;5;124m\"\u001b[39m)\n\u001b[1;32m   2575\u001b[0m     \u001b[38;5;28;01melse\u001b[39;00m:\n\u001b[0;32m-> 2576\u001b[0m         fp \u001b[38;5;241m=\u001b[39m \u001b[43mbuiltins\u001b[49m\u001b[38;5;241;43m.\u001b[39;49m\u001b[43mopen\u001b[49m\u001b[43m(\u001b[49m\u001b[43mfilename\u001b[49m\u001b[43m,\u001b[49m\u001b[43m \u001b[49m\u001b[38;5;124;43m\"\u001b[39;49m\u001b[38;5;124;43mw+b\u001b[39;49m\u001b[38;5;124;43m\"\u001b[39;49m\u001b[43m)\u001b[49m\n\u001b[1;32m   2577\u001b[0m \u001b[38;5;28;01melse\u001b[39;00m:\n\u001b[1;32m   2578\u001b[0m     fp \u001b[38;5;241m=\u001b[39m cast(IO[\u001b[38;5;28mbytes\u001b[39m], fp)\n",
      "\u001b[0;31mFileNotFoundError\u001b[0m: [Errno 2] No such file or directory: '/app/lectures_source/figures/Lesson07.Comparing_models.data.png'"
     ]
    },
    {
     "data": {
      "image/png": "[encoded data removed]",
      "text/plain": [
       "<Figure size 800x300 with 1 Axes>"
      ]
     },
     "metadata": {},
     "output_type": "display_data"
    }
   ],
   "source": [
    "# Load some data it's mainly a linear relationship with some data.\n",
    "dummy_data = np.loadtxt(dir_name + '/dummy.csv')\n",
    "x = dummy_data[:, 0]\n",
    "y = dummy_data[:, 1]\n",
    "\n",
    "# Transform the data applying various powers and stacking the data, so that\n",
    "# we have different rows with different predicted variables.\n",
    "order = 2\n",
    "x_p = np.vstack([x**i for i in range(1, order + 1)])\n",
    "display(pd.DataFrame(x_p))\n",
    "\n",
    "# Normalize all the data.\n",
    "x_c = (x_p - x_p.mean(axis=1, keepdims=True)) / x_p.std(axis=1, keepdims=True)\n",
    "y_c = (y - y.mean()) / y.std()\n",
    "\n",
    "# Plot the 0-order data (i.e., the original one).\n",
    "plt.scatter(x_c[0], y_c)\n",
    "plt.xlabel('x')\n",
    "plt.ylabel('y');\n",
    "\n",
    "ut.save_plt(\"Lesson07.Comparing_models.data.png\")"
   ]
  },
  {
   "cell_type": "code",
   "execution_count": null,
   "id": "817a226d-1ce1-4325-bdc8-2e5c1786466b",
   "metadata": {},
   "outputs": [],
   "source": [
    "# Linear model.\n",
    "with pm.Model() as model_l:\n",
    "    # mu = alpha + beta * x\n",
    "    alpha = pm.Normal('alpha', mu=0, sigma=1)\n",
    "    beta = pm.Normal('beta', mu=0, sigma=10)\n",
    "    mu = alpha + beta * x_c[0]\n",
    "    #\n",
    "    sigma = pm.HalfNormal('sigma', 5)\n",
    "    #\n",
    "    y_pred = pm.Normal('y_pred', mu=mu, sigma=sigma, observed=y_c)\n",
    "    #\n",
    "    idata_l = pm.sample(2000, idata_kwargs={\"log_likelihood\": True})\n",
    "    idata_l.extend(pm.sample_posterior_predictive(idata_l))\n",
    "    \n",
    "\n",
    "# Quadratic model.\n",
    "with pm.Model() as model_p:\n",
    "    # mu = alpha + beta_1 * x + beta_2 * x^2\n",
    "    alpha = pm.Normal('alpha', mu=0, sigma=1)\n",
    "    # Beta is a 2-dim vector.\n",
    "    beta = pm.Normal('beta', mu=0, sigma=10, shape=order)\n",
    "    mu = alpha + pm.math.dot(beta, x_c)\n",
    "    #\n",
    "    sigma = pm.HalfNormal('sigma', 5)\n",
    "    #\n",
    "    y_pred = pm.Normal('y_pred', mu=mu, sigma=sigma, observed=y_c)\n",
    "    #\n",
    "    idata_q = pm.sample(2000, idata_kwargs={\"log_likelihood\": True})\n",
    "    idata_q.extend(pm.sample_posterior_predictive(idata_q))"
   ]
  },
  {
   "cell_type": "code",
   "execution_count": null,
   "id": "608dafa3-f303-4037-86b8-9926a4a37a50",
   "metadata": {},
   "outputs": [],
   "source": [
    "#\n",
    "# Plot the data and the fit linear and quadratic models (using the mean posterior).\n",
    "#\n",
    "\n",
    "# Sample the x space uniformly with 100 samples.\n",
    "x_new = np.linspace(x_c[0].min(), x_c[0].max(), 100)\n",
    "\n",
    "# Posterior.\n",
    "posterior_l = az.extract(idata_l)\n",
    "posterior_p = az.extract(idata_q)\n",
    "#print(posterior_l)\n",
    "\n",
    "# Compute the mean posterior of the linear model.\n",
    "alpha_l_post = posterior_l[\"alpha\"].mean().item()\n",
    "beta_l_post = posterior_l[\"beta\"].mean().item()\n",
    "print(f\"linear model: alpha_l_post={alpha_l_post:.2g}, beta_l_post={beta_l_post:.2g}\")\n",
    "y_l_post = alpha_l_post + beta_l_post * x_new\n",
    "\n",
    "# Plot the mean posterior of the linear model.\n",
    "plt.plot(x_new, y_l_post, \"C0\", label=\"linear model\")\n",
    "\n",
    "# Quadratic model.\n",
    "alpha_p_post = posterior_p[\"alpha\"].mean().item()\n",
    "beta_p_post = posterior_p[\"beta\"].mean(\"sample\")\n",
    "print(f\"quadratic model: alpha_p_post={alpha_p_post:.2g}, beta_post[0]={beta_p_post[0]:.2g}, beta_post[1]={beta_p_post[1]:.2g}\")\n",
    "y_p_post = alpha_p_post + np.dot(beta_p_post, x_c)\n",
    "\n",
    "#idx = np.argsort(x_c[0])\n",
    "#plt.plot(x_c[0][idx], y_p_post[idx], \"C1\", label=\"quadratic model\")\n",
    "plt.plot(x_c[0], y_p_post, \"C1\", label=\"quadratic model\")\n",
    "\n",
    "# Plot data.\n",
    "plt.plot(x_c[0], y_c, \"C2.\");\n",
    "\n",
    "ut.save_plt(\"Lesson07.Comparing_models.model_fit.png\")"
   ]
  },
  {
   "cell_type": "code",
   "execution_count": null,
   "id": "686d5de0-17a6-4638-971c-b57e6b12a700",
   "metadata": {},
   "outputs": [],
   "source": [
    "#\n",
    "# Plot the posterior predictive check for both models.\n",
    "#\n",
    "\n",
    "az.plot_ppc(idata_l, num_pp_samples=100, colors=[\"C1\", \"C0\", \"C1\"])\n",
    "plt.title(\"linear model\");\n",
    "ut.save_plt(\"Lesson07.Comparing_models.lin_model_PPC.png\")\n",
    "\n",
    "az.plot_ppc(idata_q, num_pp_samples=100, colors=[\"C1\", \"C0\", \"C1\"])\n",
    "plt.title(\"quadratic model\");\n",
    "ut.save_plt(\"Lesson07.Comparing_models.quadr_model_PPC.png\")"
   ]
  },
  {
   "cell_type": "code",
   "execution_count": null,
   "id": "105278cd-6a03-4649-b69b-612fd725c629",
   "metadata": {},
   "outputs": [],
   "source": [
    "#?az.plot_bpv"
   ]
  },
  {
   "cell_type": "markdown",
   "id": "4c3bc76e-272c-4d04-95f5-138e32392e26",
   "metadata": {},
   "source": [
    "## Bayesian p-value"
   ]
  },
  {
   "cell_type": "code",
   "execution_count": null,
   "id": "a197e0f1-d538-40eb-b1a6-d7727cafdfe3",
   "metadata": {},
   "outputs": [],
   "source": [
    "#\n",
    "# Compare the Bayesian p-value for a statistic for linear and quadratic model.\n",
    "#\n",
    "\n",
    "colors = [\"C0\", \"C1\"]\n",
    "idatas = [idata_l, idata_q]\n",
    "\n",
    "fig, axes = plt.subplots(2, 1)\n",
    "\n",
    "# Plot the Bayesian p-value for mean for both models.\n",
    "for idata, c in zip(idatas, colors):\n",
    "    # Plot Bayesian p-value.\n",
    "    az.plot_bpv(idata, kind=\"t_stat\", t_stat=\"mean\", ax=axes[0], color=c)\n",
    "    axes[0].set_title(\"linear\")\n",
    "\n",
    "# Plot the Bayesian p-value for interquartile range for both models.\n",
    "def iqr(x, a=-1):\n",
    "    \"\"\"\n",
    "    Interquartile range.\n",
    "    \"\"\"\n",
    "    return np.subtract(*np.percentile(x, [75, 25], axis=a))\n",
    "\n",
    "for idata, c in zip(idatas, colors):\n",
    "    # Plot Bayesian p-value.\n",
    "    az.plot_bpv(idata, kind=\"t_stat\", t_stat=iqr, ax=axes[1], color=c)"
   ]
  },
  {
   "cell_type": "code",
   "execution_count": null,
   "id": "168d7d5a-450a-4449-b568-7f15ad841a52",
   "metadata": {},
   "outputs": [],
   "source": [
    "#\n",
    "# Compare Bayesian p-value for entire distribution.\n",
    "#\n",
    "\n",
    "fig, ax = plt.subplots()\n",
    "\n",
    "for idata, c in zip(idatas, colors):\n",
    "    az.plot_bpv(idata, color=c, ax=ax)"
   ]
  },
  {
   "cell_type": "markdown",
   "id": "2a691163-d52c-4f2e-abde-e91dc0f2b4d6",
   "metadata": {},
   "source": [
    "# Overfitting"
   ]
  },
  {
   "cell_type": "code",
   "execution_count": null,
   "id": "72790d87-efc8-47b4-91e6-77055c301e92",
   "metadata": {},
   "outputs": [],
   "source": [
    "_, ax = plt.subplots(1, 1)\n",
    "\n",
    "x0 = np.array([4.0, 5.0, 6.0, 9.0, 12, 14.0])\n",
    "y0 = np.array([4.2, 6.1, 5.0, 10.0, 10, 14.0])\n",
    "x1 = np.array([6.5, 10])\n",
    "y1 = np.array([7, 10])\n",
    "\n",
    "ax.plot(x0, y0, \"ko\");\n",
    "ax.plot(x1, y1, \"rs\");"
   ]
  },
  {
   "cell_type": "code",
   "execution_count": null,
   "id": "ba57cbe8-11b7-47d8-b706-ad2d59844a77",
   "metadata": {},
   "outputs": [],
   "source": [
    "#\n",
    "# Fit model on in-sample data.\n",
    "#\n",
    "_, ax = plt.subplots(1, 1)\n",
    "\n",
    "# Data.\n",
    "x0 = np.array([4.0, 5.0, 6.0, 9.0, 12, 14.0])\n",
    "y0 = np.array([4.2, 6.1, 5.0, 10.0, 10, 14.0])\n",
    "ax.plot(x0, y0, \"ko\", zorder=3)\n",
    "\n",
    "# Learn 3 models.\n",
    "order = [0, 1, 5]\n",
    "x_n = np.linspace(x0.min(), x0.max(), 100)\n",
    "ps = []\n",
    "for i in order:\n",
    "    # Learn the models.\n",
    "    p = np.polynomial.Polynomial.fit(x0, y0, deg=i)\n",
    "    ps.append(p)\n",
    "\n",
    "# \n",
    "def plot_models(x0, y0, ps):\n",
    "    for i in range(len(order)):\n",
    "        p = ps[i]\n",
    "        # Evaluate on the raw data.\n",
    "        yhat = p(x0)\n",
    "        # Estimate the error between the estimates and the true values.\n",
    "        ss_regression = np.sum((yhat - y0) ** 2)\n",
    "        # Compute R^2.\n",
    "        ybar = np.mean(y0)\n",
    "        ss_total = np.sum((ybar - y0) ** 2)\n",
    "        r2 = 1 - ss_regression / ss_total\n",
    "        #\n",
    "        ax.plot(x_n, p(x_n), label=f\"order {i}, $R^2$= {r2:.3f}\", lw=3)\n",
    "    ax.legend(loc=2)\n",
    "\n",
    "\n",
    "plot_models(x0, y0, ps)"
   ]
  },
  {
   "cell_type": "code",
   "execution_count": null,
   "id": "13f45739-786e-4174-a8f2-13d259cb813d",
   "metadata": {},
   "outputs": [],
   "source": [
    "#\n",
    "# Evaluate the fit model on the out-of-sample data.\n",
    "#\n",
    "_, ax = plt.subplots(figsize=(12, 4))\n",
    "x_ = np.array([6.5, 10])\n",
    "y_ = np.array([7, 10])\n",
    "\n",
    "ax.plot(x0, y0, \"ko\", zorder=3)\n",
    "ax.plot(x_, y_, \"rs\", zorder=3)\n",
    "\n",
    "x1 = np.concatenate((x0, x_))\n",
    "y1 = np.concatenate((y0, y_))\n",
    "\n",
    "plot_models(x1, y1, ps)"
   ]
  },
  {
   "cell_type": "markdown",
   "id": "a8e72a82-8650-458e-9bdc-789564655889",
   "metadata": {},
   "source": [
    "## Calculating predictive accuracy"
   ]
  },
  {
   "cell_type": "code",
   "execution_count": null,
   "id": "be406993-0c47-46f2-b7dc-6dcc1bd8ea50",
   "metadata": {},
   "outputs": [],
   "source": [
    "waic_l = az.waic(idata_l)\n",
    "waic_l"
   ]
  },
  {
   "cell_type": "code",
   "execution_count": null,
   "id": "8aac14fa-74c4-4b28-90f1-8a47ca7e6d30",
   "metadata": {},
   "outputs": [],
   "source": [
    "waic_q = az.waic(idata_q)\n",
    "waic_q"
   ]
  },
  {
   "cell_type": "code",
   "execution_count": null,
   "id": "14fc84d8-af5e-43f6-b6ca-4fa9cea755d1",
   "metadata": {},
   "outputs": [],
   "source": [
    "loo_l = az.loo(idata_l)\n",
    "loo_l"
   ]
  },
  {
   "cell_type": "code",
   "execution_count": null,
   "id": "c5805837-8dff-41fa-81b8-eff09dae939a",
   "metadata": {},
   "outputs": [],
   "source": [
    "loo_q = az.loo(idata_q)\n",
    "loo_q"
   ]
  },
  {
   "cell_type": "markdown",
   "id": "6e6cc829-325a-4e3c-8435-3b143fb0217e",
   "metadata": {},
   "source": [
    "## Comparing models"
   ]
  },
  {
   "cell_type": "code",
   "execution_count": null,
   "id": "b4eac30f-2aed-44ef-aa16-d400fa9d4e85",
   "metadata": {},
   "outputs": [],
   "source": [
    "cmp_df = az.compare({\n",
    "    \"model_l\": idata_l,\n",
    "    \"model_q\": idata_q})\n",
    "display(cmp_df)"
   ]
  },
  {
   "cell_type": "code",
   "execution_count": null,
   "id": "4e179a27-fdda-4348-9d33-f540e9da60a7",
   "metadata": {},
   "outputs": [],
   "source": [
    "az.plot_compare(cmp_df);"
   ]
  },
  {
   "cell_type": "markdown",
   "id": "f1cc499b-b034-4ce7-8c2b-32ba64e95d3a",
   "metadata": {},
   "source": [
    "## Model averaging"
   ]
  },
  {
   "cell_type": "code",
   "execution_count": null,
   "id": "6e4a96ed-5d37-4530-9ba3-58bd7f7a1695",
   "metadata": {},
   "outputs": [],
   "source": [
    "idatas = [idata_l, idata_q]\n",
    "weights = [0.35, 0.65]\n",
    "idata_w = az.weight_predictions(idatas, weights)"
   ]
  },
  {
   "cell_type": "code",
   "execution_count": null,
   "id": "4e8bea3c-311e-4806-826a-59ea6f4d3d5b",
   "metadata": {},
   "outputs": [],
   "source": [
    "# Plot the KDE of the posterior predictive.\n",
    "_, ax = plt.subplots(figsize=(10, 6))\n",
    "\n",
    "# Linear.\n",
    "az.plot_kde(\n",
    "    idata_l.posterior_predictive[\"y_pred\"].values,\n",
    "    plot_kwargs={\"color\": \"C0\", \"lw\": 3},\n",
    "    label=\"linear\",\n",
    "    ax=ax,\n",
    ")\n",
    "\n",
    "# Quadratic.\n",
    "az.plot_kde(\n",
    "    idata_q.posterior_predictive[\"y_pred\"].values,\n",
    "    plot_kwargs={\"color\": \"C1\", \"lw\": 3},\n",
    "    label=\"quadratic\",\n",
    "    ax=ax,\n",
    ")\n",
    "\n",
    "# Weighted.\n",
    "az.plot_kde(\n",
    "    idata_w.posterior_predictive[\"y_pred\"].values,\n",
    "    plot_kwargs={\"color\": \"C2\", \"lw\": 3, \"ls\": \"--\"},\n",
    "    label=\"weighted\",\n",
    "    ax=ax,\n",
    ")\n",
    "\n",
    "plt.legend();"
   ]
  }
 ],
 "metadata": {
  "jupytext": {
   "formats": "ipynb,py:percent"
  },
  "kernelspec": {
   "display_name": "Python 3 (ipykernel)",
   "language": "python",
   "name": "python3"
  },
  "language_info": {
   "codemirror_mode": {
    "name": "ipython",
    "version": 3
   },
   "file_extension": ".py",
   "mimetype": "text/x-python",
   "name": "python",
   "nbconvert_exporter": "python",
   "pygments_lexer": "ipython3",
   "version": "3.12.3"
  },
  "toc": {
   "base_numbering": 1,
   "nav_menu": {},
   "number_sections": true,
   "sideBar": true,
   "skip_h1_title": false,
   "title_cell": "Table of Contents",
   "title_sidebar": "Contents",
   "toc_cell": false,
   "toc_position": {
    "height": "calc(100% - 180px)",
    "left": "10px",
    "top": "150px",
    "width": "165px"
   },
   "toc_section_display": true,
   "toc_window_display": true
  }
 },
 "nbformat": 4,
 "nbformat_minor": 5
}
