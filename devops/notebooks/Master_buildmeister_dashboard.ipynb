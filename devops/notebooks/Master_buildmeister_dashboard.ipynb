{
    "cells": [
        {
            "cell_type": "markdown",
            "metadata": {},
            "source": [
                "CONTENTS:\n",
                "- [Description](#description)\n",
                "- [Imports](#imports)\n",
                "- [GH workflows state](#gh-workflows-state)\n",
                "- [Allure reports](#allure-reports)\n",
                "- [Number of open pull requests](#number-of-open-pull-requests)\n",
                "- [Code coverage HTML-page](#code-coverage-html-page)"
            ]
        },
        {
            "cell_type": "markdown",
            "id": "e3103ff3",
            "metadata": {},
            "source": [
                " TODO(Grisha): does it belong to the `devops` dir?"
            ]
        },
        {
            "cell_type": "markdown",
            "id": "9d992fed",
            "metadata": {},
            "source": [
                "<a name='description'></a>\n",
                "# Description"
            ]
        },
        {
            "cell_type": "markdown",
            "id": "3e381a7d",
            "metadata": {
                "ExecuteTime": {
                    "end_time": "2024-02-02T08:02:05.889049Z",
                    "start_time": "2024-02-02T08:02:05.883420Z"
                }
            },
            "source": [
                "The notebook reports the latest build status for multiple repos."
            ]
        },
        {
            "cell_type": "markdown",
            "id": "982f47f1",
            "metadata": {},
            "source": [
                "<a name='imports'></a>\n",
                "# Imports"
            ]
        },
        {
            "cell_type": "code",
            "execution_count": null,
            "id": "97bbec36",
            "metadata": {
                "ExecuteTime": {
                    "end_time": "2024-02-07T17:59:42.038091Z",
                    "start_time": "2024-02-07T17:59:42.002068Z"
                }
            },
            "outputs": [],
            "source": [
                "%load_ext autoreload\n",
                "%autoreload 2\n",
                "%matplotlib inline"
            ]
        },
        {
            "cell_type": "code",
            "execution_count": null,
            "id": "518df056",
            "metadata": {
                "ExecuteTime": {
                    "end_time": "2024-02-07T17:59:42.078514Z",
                    "start_time": "2024-02-07T17:59:42.041301Z"
                }
            },
            "outputs": [],
            "source": [
                "import logging\n",
                "\n",
                "import pandas as pd\n",
                "\n",
                "import helpers.hdbg as hdbg\n",
                "import helpers.henv as henv\n",
                "import helpers.hprint as hprint\n",
                "import helpers.lib_tasks_gh as hlitagh"
            ]
        },
        {
            "cell_type": "code",
            "execution_count": null,
            "id": "f0793aa5",
            "metadata": {
                "ExecuteTime": {
                    "end_time": "2024-02-07T17:59:42.268049Z",
                    "start_time": "2024-02-07T17:59:42.081426Z"
                }
            },
            "outputs": [],
            "source": [
                "hdbg.init_logger(verbosity=logging.INFO)\n",
                "_LOG = logging.getLogger(__name__)\n",
                "_LOG.info(\"%s\", henv.get_system_signature()[0])\n",
                "hprint.config_notebook()"
            ]
        },
        {
            "cell_type": "code",
            "execution_count": null,
            "id": "93c2d39f",
            "metadata": {
                "ExecuteTime": {
                    "end_time": "2024-02-07T17:59:42.338614Z",
                    "start_time": "2024-02-07T17:59:42.271472Z"
                }
            },
            "outputs": [],
            "source": [
                "# Set the display options to print the full table.\n",
                "pd.set_option(\"display.max_colwidth\", None)\n",
                "pd.set_option(\"display.max_columns\", None)"
            ]
        },
        {
            "cell_type": "markdown",
            "id": "189f2c75",
            "metadata": {},
            "source": [
                "<a name='gh-workflows-state'></a>\n",
                "# GH workflows state"
            ]
        },
        {
            "cell_type": "code",
            "execution_count": null,
            "id": "865bc9f2",
            "metadata": {
                "ExecuteTime": {
                    "end_time": "2024-02-07T17:59:57.513155Z",
                    "start_time": "2024-02-07T17:59:42.383039Z"
                }
            },
            "outputs": [],
            "source": [
                "repo_list = [\n",
                "    \"causify-ai/cmamp\",\n",
                "    \"causify-ai/orange\",\n",
                "    \"causify-ai/lemonade\",\n",
                "    \"causify-ai/kaizenflow\",\n",
                "    \"causify-ai/helpers\",\n",
                "    \"causify-ai/quant_dashboard\",\n",
                "]\n",
                "workflow_df = hlitagh.gh_get_details_for_all_workflows(repo_list)\n",
                "workflow_df = workflow_df[[\"repo_name\", \"workflow_name\", \"conclusion\", \"url\"]]"
            ]
        },
        {
            "cell_type": "code",
            "execution_count": null,
            "id": "f7e999ce",
            "metadata": {
                "ExecuteTime": {
                    "end_time": "2024-02-07T17:59:57.585606Z",
                    "start_time": "2024-02-07T17:59:57.515915Z"
                }
            },
            "outputs": [],
            "source": [
                "status_color_mapping = {\n",
                "    \"success\": \"green\",\n",
                "    \"failure\": \"red\",\n",
                "}\n",
                "\n",
                "hlitagh.render_repo_workflow_status_table(workflow_df, status_color_mapping)"
            ]
        },
        {
            "cell_type": "markdown",
            "id": "a00870a9",
            "metadata": {},
            "source": [
                "<a name='allure-reports'></a>\n",
                "# Allure reports"
            ]
        },
        {
            "cell_type": "markdown",
            "id": "36e93fca",
            "metadata": {},
            "source": [
                "- fast tests: http://172.30.2.44/allure_reports/cmamp/fast/latest/index.html\n",
                "- slow tests: http://172.30.2.44/allure_reports/cmamp/slow/latest/index.html\n",
                "- superslow tests: http://172.30.2.44/allure_reports/cmamp/superslow/latest/index.html"
            ]
        },
        {
            "cell_type": "markdown",
            "id": "bb8ed505",
            "metadata": {},
            "source": [
                "<a name='number-of-open-pull-requests'></a>\n",
                "# Number of open pull requests"
            ]
        },
        {
            "cell_type": "code",
            "execution_count": null,
            "id": "69dbda1d",
            "metadata": {
                "ExecuteTime": {
                    "end_time": "2024-02-07T17:59:59.309022Z",
                    "start_time": "2024-02-07T17:59:57.588291Z"
                }
            },
            "outputs": [],
            "source": [
                "for repo in repo_list:\n",
                "    number_prs = len(hlitagh.gh_get_open_prs(repo))\n",
                "    _LOG.info(\"%s: %s\", repo, number_prs)"
            ]
        },
        {
            "cell_type": "markdown",
            "id": "ec63cb5e",
            "metadata": {},
            "source": [
                "<a name='code-coverage-html-page'></a>\n",
                "# Code coverage HTML-page"
            ]
        },
        {
            "cell_type": "markdown",
            "id": "569f9404",
            "metadata": {
                "ExecuteTime": {
                    "end_time": "2024-01-24T14:40:31.379819Z",
                    "start_time": "2024-01-24T14:40:31.327151Z"
                }
            },
            "source": [
                "http://172.30.2.44/html_coverage/runner_master/"
            ]
        }
    ],
    "metadata": {
        "kernelspec": {
            "display_name": "Python 3 (ipykernel)",
            "language": "python",
            "name": "python3"
        },
        "language_info": {
            "codemirror_mode": {
                "name": "ipython",
                "version": 3
            },
            "file_extension": ".py",
            "mimetype": "text/x-python",
            "name": "python",
            "nbconvert_exporter": "python",
            "pygments_lexer": "ipython3",
            "version": "3.12.3"
        },
        "toc": {
            "base_numbering": 1,
            "nav_menu": {},
            "number_sections": true,
            "sideBar": true,
            "skip_h1_title": false,
            "title_cell": "Table of Contents",
            "title_sidebar": "Contents",
            "toc_cell": false,
            "toc_position": {},
            "toc_section_display": true,
            "toc_window_display": false
        }
    },
    "nbformat": 4,
    "nbformat_minor": 5
}
